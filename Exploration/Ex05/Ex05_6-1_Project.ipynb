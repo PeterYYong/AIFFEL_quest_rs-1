{
 "cells": [
  {
   "cell_type": "markdown",
   "id": "246a7dcf",
   "metadata": {},
   "source": [
    "# 6-1. 프로젝트 : 네이버 영화리뷰 감성분석 도전하기\n",
    "\n",
    "이전 스텝까지는 영문 텍스트의 감정 분석을 진행해 보았습니다. 그렇다면 이번에는 한국어 텍스트의 감정 분석을 진행해 보면 어떨까요? 오늘 활용할 데이터셋은 네이버 영화의 댓글을 모아 구성된 Naver sentiment movie corpus입니다.\n",
    "\n",
    "https://github.com/e9t/nsmc\n",
    "\n",
    "데이터 다운로드 없이 Cloud shell에서 해당 파일의 심볼릭 링크를 연결해 주세요\n",
    "\n",
    "```\n",
    "$ ln -s ~/data/*.txt ~/aiffel/sentiment_classification/data\n",
    "```"
   ]
  },
  {
   "cell_type": "markdown",
   "id": "f0f72e46",
   "metadata": {},
   "source": [
    "라이브러리 버전을 확인해 봅니다\n",
    "\n",
    "---\n",
    "\n",
    "사용할 라이브러리 버전을 둘러봅시다."
   ]
  },
  {
   "cell_type": "code",
   "execution_count": 1,
   "id": "23c84562",
   "metadata": {},
   "outputs": [
    {
     "name": "stdout",
     "output_type": "stream",
     "text": [
      "1.3.3\n",
      "0.5.2\n",
      "4.1.2\n"
     ]
    }
   ],
   "source": [
    "import pandas\n",
    "import konlpy\n",
    "import gensim\n",
    "\n",
    "print(pandas.__version__)\n",
    "print(konlpy.__version__)\n",
    "print(gensim.__version__)"
   ]
  },
  {
   "cell_type": "markdown",
   "id": "20dbcc69",
   "metadata": {},
   "source": [
    "1) 데이터 준비와 확인"
   ]
  },
  {
   "cell_type": "code",
   "execution_count": 2,
   "id": "fd770188",
   "metadata": {},
   "outputs": [
    {
     "data": {
      "text/html": [
       "<div>\n",
       "<style scoped>\n",
       "    .dataframe tbody tr th:only-of-type {\n",
       "        vertical-align: middle;\n",
       "    }\n",
       "\n",
       "    .dataframe tbody tr th {\n",
       "        vertical-align: top;\n",
       "    }\n",
       "\n",
       "    .dataframe thead th {\n",
       "        text-align: right;\n",
       "    }\n",
       "</style>\n",
       "<table border=\"1\" class=\"dataframe\">\n",
       "  <thead>\n",
       "    <tr style=\"text-align: right;\">\n",
       "      <th></th>\n",
       "      <th>id</th>\n",
       "      <th>document</th>\n",
       "      <th>label</th>\n",
       "    </tr>\n",
       "  </thead>\n",
       "  <tbody>\n",
       "    <tr>\n",
       "      <th>0</th>\n",
       "      <td>9976970</td>\n",
       "      <td>아 더빙.. 진짜 짜증나네요 목소리</td>\n",
       "      <td>0</td>\n",
       "    </tr>\n",
       "    <tr>\n",
       "      <th>1</th>\n",
       "      <td>3819312</td>\n",
       "      <td>흠...포스터보고 초딩영화줄....오버연기조차 가볍지 않구나</td>\n",
       "      <td>1</td>\n",
       "    </tr>\n",
       "    <tr>\n",
       "      <th>2</th>\n",
       "      <td>10265843</td>\n",
       "      <td>너무재밓었다그래서보는것을추천한다</td>\n",
       "      <td>0</td>\n",
       "    </tr>\n",
       "    <tr>\n",
       "      <th>3</th>\n",
       "      <td>9045019</td>\n",
       "      <td>교도소 이야기구먼 ..솔직히 재미는 없다..평점 조정</td>\n",
       "      <td>0</td>\n",
       "    </tr>\n",
       "    <tr>\n",
       "      <th>4</th>\n",
       "      <td>6483659</td>\n",
       "      <td>사이몬페그의 익살스런 연기가 돋보였던 영화!스파이더맨에서 늙어보이기만 했던 커스틴 ...</td>\n",
       "      <td>1</td>\n",
       "    </tr>\n",
       "  </tbody>\n",
       "</table>\n",
       "</div>"
      ],
      "text/plain": [
       "         id                                           document  label\n",
       "0   9976970                                아 더빙.. 진짜 짜증나네요 목소리      0\n",
       "1   3819312                  흠...포스터보고 초딩영화줄....오버연기조차 가볍지 않구나      1\n",
       "2  10265843                                  너무재밓었다그래서보는것을추천한다      0\n",
       "3   9045019                      교도소 이야기구먼 ..솔직히 재미는 없다..평점 조정      0\n",
       "4   6483659  사이몬페그의 익살스런 연기가 돋보였던 영화!스파이더맨에서 늙어보이기만 했던 커스틴 ...      1"
      ]
     },
     "execution_count": 2,
     "metadata": {},
     "output_type": "execute_result"
    }
   ],
   "source": [
    "import pandas as pd\n",
    "\n",
    "# 데이터를 읽어봅시다. \n",
    "train_data = pd.read_table('~/aiffel/sentiment_classification/data/ratings_train.txt')\n",
    "test_data = pd.read_table('~/aiffel/sentiment_classification/data/ratings_test.txt')\n",
    "\n",
    "train_data.head()"
   ]
  },
  {
   "cell_type": "markdown",
   "id": "4b7e6623",
   "metadata": {},
   "source": [
    "2) 데이터로더 구성\n",
    "---\n",
    "실습 때 다루었던 IMDB 데이터셋은 텍스트를 가공하여 imdb.data_loader() 메서드를 호출하면 숫자 인덱스로 변환된 텍스트와 word_to_index 딕셔너리까지 친절하게 제공합니다. 그러나 이번에 다루게 될 nsmc 데이터셋은 전혀 가공되지 않은 텍스트 파일로 이루어져 있습니다. 이것을 읽어서 imdb.data_loader()와 동일하게 동작하는 자신만의 data_loader를 만들어 보는 것으로 시작합니다. data_loader 안에서는 다음을 수행해야 합니다.\n",
    "\n",
    "- 데이터의 중복 제거\n",
    "- NaN 결측치 제거\n",
    "- 한국어 토크나이저로 토큰화\n",
    "- 불용어(Stopwords) 제거\n",
    "- 사전word_to_index 구성\n",
    "- 텍스트 스트링을 사전 인덱스 스트링으로 변환\n",
    "- X_train, y_train, X_test, y_test, word_to_index 리턴"
   ]
  },
  {
   "cell_type": "code",
   "execution_count": 3,
   "id": "1b6776c9",
   "metadata": {},
   "outputs": [],
   "source": [
    "import numpy as np\n",
    "import tensorflow as tf\n",
    "import os"
   ]
  },
  {
   "cell_type": "code",
   "execution_count": 4,
   "id": "eecae70a",
   "metadata": {},
   "outputs": [],
   "source": [
    "from konlpy.tag import Mecab\n",
    "import numpy as np\n",
    "from collections import Counter"
   ]
  },
  {
   "cell_type": "code",
   "execution_count": 5,
   "id": "f4038c9d",
   "metadata": {},
   "outputs": [],
   "source": [
    "# Mecab 토크나이저와 불용어 정의\n",
    "tokenizer = Mecab()\n",
    "stopwords = ['의','가','이','은','들','는','좀','잘','걍','과','도','를','으로','자','에','와','한','하다']"
   ]
  },
  {
   "cell_type": "code",
   "execution_count": 6,
   "id": "d8f602bf",
   "metadata": {},
   "outputs": [],
   "source": [
    "# def load_data(train_data, test_data, num_words=10000):\n",
    "#     # 데이터 중복 제거 및 결측치 제거\n",
    "#     train_data.drop_duplicates(subset=['document'], inplace=True)  # 훈련 데이터의 중복된 텍스트 제거\n",
    "#     train_data = train_data.dropna(how='any')  # 훈련 데이터의 결측치 제거\n",
    "#     test_data.drop_duplicates(subset=['document'], inplace=True)  # 테스트 데이터의 중복된 텍스트 제거\n",
    "#     test_data = test_data.dropna(how='any')  # 테스트 데이터의 결측치 제거\n",
    "    \n",
    "#     # 훈련 데이터 토큰화 및 불용어 제거\n",
    "#     X_train = []\n",
    "#     for sentence in train_data['document']:\n",
    "#         temp_X = tokenizer.morphs(sentence)  # 텍스트를 형태소 단위로 토큰화\n",
    "#         temp_X = [word for word in temp_X if not word in stopwords]  # 불용어 제거\n",
    "#         X_train.append(temp_X)\n",
    "    \n",
    "#     # 테스트 데이터 토큰화 및 불용어 제거\n",
    "#     X_test = []\n",
    "#     for sentence in test_data['document']:\n",
    "#         temp_X = tokenizer.morphs(sentence)  # 텍스트를 형태소 단위로 토큰화\n",
    "#         temp_X = [word for word in temp_X if not word in stopwords]  # 불용어 제거\n",
    "#         X_test.append(temp_X)\n",
    "    \n",
    "#     # 단어 빈도수 계산 및 어휘 사전 생성\n",
    "#     words = np.concatenate(X_train).tolist()  # 훈련 데이터의 모든 단어를 하나의 리스트로 결합\n",
    "#     counter = Counter(words)  # 단어의 빈도수를 계산\n",
    "#     counter = counter.most_common(num_words - 4)  # 상위 (num_words - 4)개의 단어 추출\n",
    "#     # vocab = ['', '', '', ''] + [key for key, _ in counter]  # 어휘 사전 생성 (앞의 4개는 특수 토큰)\n",
    "#     vocab = ['<PAD>', '<BOS>', '<UNK>', '<UNUSED>'] + [key for key, _ in counter]  # 어휘 사전 생성 (앞의 4개는 특수 토큰)\n",
    "#     word_to_index = {word: index for index, word in enumerate(vocab)}  # 단어를 인덱스로 매핑\n",
    "    \n",
    "#     # 단어 리스트를 인덱스 리스트로 변환하는 함수 정의\n",
    "#     def wordlist_to_indexlist(wordlist):\n",
    "#         # '<PAD>', '<BOS>', '<UNK>', '<UNUSED>' 특수 토큰 정의\n",
    "#         return [word_to_index[word] if word in word_to_index else word_to_index['<UNK>'] for word in wordlist]\n",
    "    \n",
    "#     # 훈련 및 테스트 데이터를 인덱스 형태로 변환\n",
    "#     X_train = list(map(wordlist_to_indexlist, X_train))\n",
    "#     X_test = list(map(wordlist_to_indexlist, X_test))\n",
    "    \n",
    "#     return X_train, np.array(list(train_data['label'])), X_test, np.array(list(test_data['label'])), word_to_index"
   ]
  },
  {
   "cell_type": "code",
   "execution_count": 7,
   "id": "43dc7f4a",
   "metadata": {},
   "outputs": [],
   "source": [
    "# 중복 코드 제거를 위해 훈련 및 테스트 데이터 토큰화와 불용어 제거 작업을 함수로 정의\n",
    "def tokenize_and_remove_stopwords(sentences, tokenizer, stopwords):\n",
    "    processed_data = []\n",
    "    for sentence in sentences:\n",
    "        temp_X = tokenizer.morphs(sentence)  # 텍스트를 형태소 단위로 토큰화\n",
    "        temp_X = [word for word in temp_X if word not in stopwords]  # 불용어 제거\n",
    "        processed_data.append(temp_X)\n",
    "    return processed_data\n",
    "\n",
    "# 수정된 load_data 함수\n",
    "def load_data(train_data, test_data, num_words=20000):\n",
    "    # 데이터 중복 제거 및 결측치 제거\n",
    "    train_data.drop_duplicates(subset=['document'], inplace=True)\n",
    "    train_data = train_data.dropna(subset=['document'])\n",
    "    test_data.drop_duplicates(subset=['document'], inplace=True)\n",
    "    test_data = test_data.dropna(subset=['document'])\n",
    "    \n",
    "    # 훈련 및 테스트 데이터 토큰화와 불용어 제거\n",
    "    X_train = tokenize_and_remove_stopwords(train_data['document'], tokenizer, stopwords)\n",
    "    X_test = tokenize_and_remove_stopwords(test_data['document'], tokenizer, stopwords)\n",
    "    \n",
    "    # 단어 빈도수 계산 및 어휘 사전 생성\n",
    "    words = np.concatenate(X_train).tolist()\n",
    "    counter = Counter(words)\n",
    "    counter = counter.most_common(num_words - 4)\n",
    "    vocab = ['<PAD>', '<BOS>', '<UNK>', '<UNUSED>'] + [key for key, _ in counter]\n",
    "    word_to_index = {word: index for index, word in enumerate(vocab)}\n",
    "    \n",
    "    # 단어 리스트를 인덱스 리스트로 변환하는 함수 정의\n",
    "    def wordlist_to_indexlist(wordlist):\n",
    "        return [word_to_index[word] if word in word_to_index else word_to_index['<UNK>'] for word in wordlist]\n",
    "    \n",
    "    # 훈련 및 테스트 데이터를 인덱스 형태로 변환\n",
    "    X_train = list(map(wordlist_to_indexlist, X_train))\n",
    "    X_test = list(map(wordlist_to_indexlist, X_test))\n",
    "    \n",
    "    return X_train, np.array(list(train_data['label'])), X_test, np.array(list(test_data['label'])), word_to_index"
   ]
  },
  {
   "cell_type": "code",
   "execution_count": 8,
   "id": "eb010e29",
   "metadata": {},
   "outputs": [],
   "source": [
    "# 데이터 로더 호출\n",
    "X_train, y_train, X_test, y_test, word_to_index = load_data(train_data, test_data)"
   ]
  },
  {
   "cell_type": "code",
   "execution_count": 9,
   "id": "5f0cb615",
   "metadata": {},
   "outputs": [],
   "source": [
    "index_to_word = {index:word for word, index in word_to_index.items()}"
   ]
  },
  {
   "cell_type": "code",
   "execution_count": 10,
   "id": "eb3e88db",
   "metadata": {},
   "outputs": [],
   "source": [
    "# 문장 1개를 활용할 딕셔너리와 함께 주면, 단어 인덱스 리스트 벡터로 변환해 주는 함수입니다. \n",
    "# 단, 모든 문장은 <BOS>로 시작하는 것으로 합니다. \n",
    "def get_encoded_sentence(sentence, word_to_index):\n",
    "    return [word_to_index['<BOS>']]+[word_to_index[word] if word in word_to_index else word_to_index['<UNK>'] for word in sentence.split()]\n",
    "\n",
    "# 여러 개의 문장 리스트를 한꺼번에 단어 인덱스 리스트 벡터로 encode해 주는 함수입니다. \n",
    "def get_encoded_sentences(sentences, word_to_index):\n",
    "    return [get_encoded_sentence(sentence, word_to_index) for sentence in sentences]\n",
    "\n",
    "# 숫자 벡터로 encode된 문장을 원래대로 decode하는 함수입니다. \n",
    "def get_decoded_sentence(encoded_sentence, index_to_word):\n",
    "    return ' '.join(index_to_word[index] if index in index_to_word else '<UNK>' for index in encoded_sentence[1:])  #[1:]를 통해 <BOS>를 제외\n",
    "\n",
    "# 여러 개의 숫자 벡터로 encode된 문장을 한꺼번에 원래대로 decode하는 함수입니다. \n",
    "def get_decoded_sentences(encoded_sentences, index_to_word):\n",
    "    return [get_decoded_sentence(encoded_sentence, index_to_word) for encoded_sentence in encoded_sentences]"
   ]
  },
  {
   "cell_type": "markdown",
   "id": "d4cf314e",
   "metadata": {},
   "source": [
    "## 3) 모델 구성을 위한 데이터 분석 및 가공\n",
    "---\n",
    "- 데이터셋 내 문장 길이 분포\n",
    "- 적절한 최대 문장 길이 지정\n",
    "- keras.preprocessing.sequence.pad_sequences 을 활용한 패딩 추가"
   ]
  },
  {
   "cell_type": "code",
   "execution_count": 11,
   "id": "71f77a77",
   "metadata": {},
   "outputs": [
    {
     "name": "stdout",
     "output_type": "stream",
     "text": [
      "문장길이 평균 :  15.96940191154864\n",
      "문장길이 최대 :  116\n",
      "문장길이 표준편차 :  12.843571191092\n",
      "pad_sequences maxlen :  41\n",
      "전체 문장의 0.9342988343341575%가 maxlen 설정값 이내에 포함됩니다. \n"
     ]
    }
   ],
   "source": [
    "total_data_text = list(X_train) + list(X_test)\n",
    "\n",
    "# 텍스트데이터 문장길이의 리스트를 생성한 후\n",
    "num_tokens = [len(tokens) for tokens in total_data_text]\n",
    "num_tokens = np.array(num_tokens)\n",
    "\n",
    "# 문장길이의 평균값, 최대값, 표준편차를 계산해 본다. \n",
    "print('문장길이 평균 : ', np.mean(num_tokens))\n",
    "print('문장길이 최대 : ', np.max(num_tokens))\n",
    "print('문장길이 표준편차 : ', np.std(num_tokens))\n",
    "\n",
    "# 예를들어, 최대 길이를 (평균 + 2*표준편차)로 한다면,  \n",
    "max_tokens = np.mean(num_tokens) + 2 * np.std(num_tokens)\n",
    "maxlen = int(max_tokens)\n",
    "print('pad_sequences maxlen : ', maxlen)\n",
    "print(f'전체 문장의 {np.sum(num_tokens < max_tokens) / len(num_tokens)}%가 maxlen 설정값 이내에 포함됩니다. ')"
   ]
  },
  {
   "cell_type": "markdown",
   "id": "683e70b2",
   "metadata": {},
   "source": [
    "#### maxlen=41 로 설정 됨"
   ]
  },
  {
   "cell_type": "markdown",
   "id": "51a2f98e",
   "metadata": {},
   "source": [
    "###  padding 방식을 문장 뒤쪽('post')과 앞쪽('pre') 중 어느 쪽 ? : pre 사용\n",
    "RNN은 입력데이터가 순차적으로 처리되어, 가장 마지막 입력이 최종 state 값에 가장 영향을 많이 미치게 됩니다.\n",
    "그러므로 마지막 입력이 무의미한 padding으로 채워지는 것은 비효율적입니다.\n",
    "따라서 'pre'가 훨씬 유리하며, 10% 이상의 테스트 성능 차이를 보이게 됩니다."
   ]
  },
  {
   "cell_type": "markdown",
   "id": "07562279",
   "metadata": {},
   "source": [
    "### 현 모델들에서 실험 결과 post 와 pre 가 큰 차이가 나지 않아 post 를 사용하였음"
   ]
  },
  {
   "cell_type": "code",
   "execution_count": 12,
   "id": "b0c17e40",
   "metadata": {},
   "outputs": [
    {
     "name": "stdout",
     "output_type": "stream",
     "text": [
      "(146182, 41)\n"
     ]
    }
   ],
   "source": [
    "X_train = tf.keras.preprocessing.sequence.pad_sequences(X_train,\n",
    "                                                        value=word_to_index[\"<PAD>\"],\n",
    "                                                        padding='post', # 혹은 'pre'\n",
    "                                                        maxlen=maxlen)\n",
    "\n",
    "X_test = tf.keras.preprocessing.sequence.pad_sequences(X_test,\n",
    "                                                       value=word_to_index[\"<PAD>\"],\n",
    "                                                       padding='post', # 혹은 'pre'\n",
    "                                                       maxlen=maxlen)\n",
    "\n",
    "print(X_train.shape)"
   ]
  },
  {
   "cell_type": "code",
   "execution_count": 13,
   "id": "7c5f00ca",
   "metadata": {},
   "outputs": [
    {
     "name": "stdout",
     "output_type": "stream",
     "text": [
      "<PAD>\n",
      "<BOS>\n",
      "<UNK>\n",
      "<UNUSED>\n",
      "5\n",
      "영화\n"
     ]
    }
   ],
   "source": [
    "print(index_to_word[0])     # '<PAD>' 가 출력됩니다. \n",
    "print(index_to_word[1])     # '<BOS>' 가 출력됩니다. \n",
    "print(index_to_word[2])     # '<BOS>' 가 출력됩니다. \n",
    "print(index_to_word[3])     # '<BOS>' 가 출력됩니다. \n",
    "print(word_to_index['영화'])\n",
    "print(index_to_word[5])"
   ]
  },
  {
   "cell_type": "code",
   "execution_count": 14,
   "id": "97df52de",
   "metadata": {},
   "outputs": [
    {
     "name": "stdout",
     "output_type": "stream",
     "text": [
      "더 빙 . . 진짜 짜증 나 네요 목소리 <PAD> <PAD> <PAD> <PAD> <PAD> <PAD> <PAD> <PAD> <PAD> <PAD> <PAD> <PAD> <PAD> <PAD> <PAD> <PAD> <PAD> <PAD> <PAD> <PAD> <PAD> <PAD> <PAD> <PAD> <PAD> <PAD> <PAD> <PAD> <PAD> <PAD> <PAD>\n",
      "라벨:  0\n"
     ]
    }
   ],
   "source": [
    "print(get_decoded_sentence(X_train[0], index_to_word))\n",
    "print('라벨: ', y_train[0])  # 1번째 리뷰데이터의 라벨"
   ]
  },
  {
   "cell_type": "markdown",
   "id": "4a02bd3d",
   "metadata": {},
   "source": [
    "## 4) 모델 구성 및 validation set 구성\n",
    "---\n",
    "모델은 3가지 이상 다양하게 구성하여 실험해 보세요."
   ]
  },
  {
   "cell_type": "code",
   "execution_count": 15,
   "id": "c4d4f4a0",
   "metadata": {},
   "outputs": [],
   "source": [
    "# 훈련 데이터셋 분리\n",
    "from sklearn.model_selection import train_test_split"
   ]
  },
  {
   "cell_type": "code",
   "execution_count": 16,
   "id": "2eb223f7",
   "metadata": {},
   "outputs": [],
   "source": [
    "X_train, X_val, y_train, y_val = train_test_split(X_train, y_train, test_size=0.2, random_state=42)"
   ]
  },
  {
   "cell_type": "code",
   "execution_count": 17,
   "id": "0360f514",
   "metadata": {},
   "outputs": [
    {
     "name": "stdout",
     "output_type": "stream",
     "text": [
      "Train data 크기: 116945, Val data 크기: 29237\n"
     ]
    }
   ],
   "source": [
    "print(f'Train data 크기: {len(X_train)}, Val data 크기: {len(X_val)}')"
   ]
  },
  {
   "cell_type": "markdown",
   "id": "4577406a",
   "metadata": {},
   "source": [
    "## 5) 모델 훈련 개시\n",
    "---\n"
   ]
  },
  {
   "cell_type": "markdown",
   "id": "95489558",
   "metadata": {},
   "source": [
    "### 1. LSTM\n",
    "```\n",
    "model_LSTM = tf.keras.Sequential()\n",
    "model_LSTM.add(tf.keras.layers.Embedding(vocab_size, word_vector_dim, input_shape=(None,)))\n",
    "model_LSTM.add(tf.keras.layers.LSTM(8))\n",
    "model_LSTM.add(tf.keras.layers.Dense(8, activation='relu'))\n",
    "model_LSTM.add(tf.keras.layers.Dense(1, activation='sigmoid'))\n",
    "```\n",
    "\n",
    "1. Embedding Layer\n",
    "    - 입력 차원 (input_dim): vocab_size = 10000\n",
    "        - 어휘 사전의 크기, 즉 모델이 처리할 수 있는 단어의 총 개수를 나타냅니다.\n",
    "    - 출력 차원 (output_dim): word_vector_dim = 300\n",
    "        - 각 단어를 300차원의 벡터로 표현합니다.\n",
    "    - 입력 형태 (input_shape): (None,)\n",
    "        - 입력되는 문장의 길이는 가변적입니다. 문장은 단어 인덱스의 시퀀스로 표현됩니다.\n",
    "  \n",
    "  \n",
    "2. LSTM Layer\n",
    "    - 유닛 수: 8\n",
    "        - LSTM 레이어의 은닉 상태 벡터의 크기입니다. 이 수치는 LSTM이 정보를 압축하는 정도를 나타내며, 레이어의 표현력과 복잡성을 결정합니다.\n",
    "        - 이 레이어는 순차적인 데이터를 처리하며, 앞서 학습한 단어 벡터들을 시계열 형태로 받아들이고 문맥을 이해할 수 있는 정보를 추출합니다.\n",
    "  \n",
    "  \n",
    "3. Dense Layer (Hidden Layer)\n",
    "    - 유닛 수: 8\n",
    "    - 활성화 함수 (activation): 'relu'\n",
    "        - 은닉층에 ReLU 활성화 함수를 사용하여 비선형성을 도입합니다. 이 레이어는 추출된 특성을 가공하여 최종 출력 이전에 더 높은 표현력을 갖게 합니다.\n",
    "  \n",
    "  \n",
    "4. Dense Layer (Output Layer)\n",
    "    - 유닛 수: 1\n",
    "        - 출력이 하나인 이유는 감정이 긍정인지 부정인지 이진 분류 문제이기 때문입니다.\n",
    "    - 활성화 함수 (activation): 'sigmoid'\n",
    "        - sigmoid 활성화 함수를 사용하여 0과 1 사이의 값을 출력하도록 합니다. 이 값은 문장이 긍정일 확률을 나타냅니다.\n"
   ]
  },
  {
   "cell_type": "code",
   "execution_count": 18,
   "id": "8254cc05",
   "metadata": {},
   "outputs": [
    {
     "name": "stdout",
     "output_type": "stream",
     "text": [
      "Model: \"sequential\"\n",
      "_________________________________________________________________\n",
      "Layer (type)                 Output Shape              Param #   \n",
      "=================================================================\n",
      "embedding (Embedding)        (None, None, 100)         1000000   \n",
      "_________________________________________________________________\n",
      "lstm (LSTM)                  (None, 8)                 3488      \n",
      "_________________________________________________________________\n",
      "dense (Dense)                (None, 8)                 72        \n",
      "_________________________________________________________________\n",
      "dense_1 (Dense)              (None, 1)                 9         \n",
      "=================================================================\n",
      "Total params: 1,003,569\n",
      "Trainable params: 1,003,569\n",
      "Non-trainable params: 0\n",
      "_________________________________________________________________\n"
     ]
    }
   ],
   "source": [
    "vocab_size = 10000    # 어휘 사전의 크기입니다(10,000개의 단어)\n",
    "word_vector_dim = 100  # 워드 벡터의 차원 수 (변경 가능한 하이퍼파라미터)\n",
    "\n",
    "# LSTM model 설계\n",
    "model_LSTM = tf.keras.Sequential()\n",
    "model_LSTM.add(tf.keras.layers.Embedding(vocab_size, word_vector_dim, input_shape=(None,)))\n",
    "model_LSTM.add(tf.keras.layers.LSTM(8))   # 가장 널리 쓰이는 RNN인 LSTM 레이어를 사용하였습니다. 이때 LSTM state 벡터의 차원수는 8로 하였습니다. (변경 가능)\n",
    "model_LSTM.add(tf.keras.layers.Dense(8, activation='relu'))\n",
    "model_LSTM.add(tf.keras.layers.Dense(1, activation='sigmoid'))  # 최종 출력은 긍정/부정을 나타내는 1dim 입니다.\n",
    "\n",
    "model_LSTM.summary()"
   ]
  },
  {
   "cell_type": "code",
   "execution_count": 19,
   "id": "28712da9",
   "metadata": {},
   "outputs": [
    {
     "name": "stdout",
     "output_type": "stream",
     "text": [
      "Epoch 1/20\n",
      "229/229 [==============================] - 32s 8ms/step - loss: 0.5586 - accuracy: 0.6862 - val_loss: 0.3961 - val_accuracy: 0.8224\n",
      "Epoch 2/20\n",
      "229/229 [==============================] - 1s 6ms/step - loss: 0.3440 - accuracy: 0.8554 - val_loss: 0.3466 - val_accuracy: 0.8515\n",
      "Epoch 3/20\n",
      "229/229 [==============================] - 1s 6ms/step - loss: 0.3037 - accuracy: 0.8720 - val_loss: 0.3451 - val_accuracy: 0.8525\n",
      "Epoch 4/20\n",
      "229/229 [==============================] - 1s 6ms/step - loss: 0.2784 - accuracy: 0.8824 - val_loss: 0.3481 - val_accuracy: 0.8556\n",
      "Epoch 5/20\n",
      "229/229 [==============================] - 1s 6ms/step - loss: 0.2585 - accuracy: 0.8916 - val_loss: 0.3616 - val_accuracy: 0.8535\n",
      "Epoch 6/20\n",
      "229/229 [==============================] - 1s 6ms/step - loss: 0.2406 - accuracy: 0.8995 - val_loss: 0.3796 - val_accuracy: 0.8524\n",
      "Epoch 7/20\n",
      "229/229 [==============================] - 1s 6ms/step - loss: 0.2271 - accuracy: 0.9039 - val_loss: 0.3751 - val_accuracy: 0.8541\n",
      "Epoch 8/20\n",
      "229/229 [==============================] - 1s 6ms/step - loss: 0.2113 - accuracy: 0.9112 - val_loss: 0.3991 - val_accuracy: 0.8524\n",
      "Epoch 9/20\n",
      "229/229 [==============================] - 1s 6ms/step - loss: 0.2005 - accuracy: 0.9145 - val_loss: 0.4091 - val_accuracy: 0.8487\n",
      "Epoch 10/20\n",
      "229/229 [==============================] - 1s 6ms/step - loss: 0.1911 - accuracy: 0.9198 - val_loss: 0.4204 - val_accuracy: 0.8515\n",
      "Epoch 11/20\n",
      "229/229 [==============================] - 1s 6ms/step - loss: 0.1834 - accuracy: 0.9232 - val_loss: 0.4175 - val_accuracy: 0.8458\n",
      "Epoch 12/20\n",
      "229/229 [==============================] - 1s 6ms/step - loss: 0.1753 - accuracy: 0.9266 - val_loss: 0.4446 - val_accuracy: 0.8428\n",
      "Epoch 13/20\n",
      "229/229 [==============================] - 1s 6ms/step - loss: 0.1673 - accuracy: 0.9295 - val_loss: 0.4657 - val_accuracy: 0.8494\n",
      "Epoch 14/20\n",
      "229/229 [==============================] - 1s 6ms/step - loss: 0.1600 - accuracy: 0.9331 - val_loss: 0.5087 - val_accuracy: 0.8500\n",
      "Epoch 15/20\n",
      "229/229 [==============================] - 1s 6ms/step - loss: 0.1561 - accuracy: 0.9340 - val_loss: 0.4690 - val_accuracy: 0.8502\n",
      "Epoch 16/20\n",
      "229/229 [==============================] - 1s 6ms/step - loss: 0.1506 - accuracy: 0.9369 - val_loss: 0.4921 - val_accuracy: 0.8458\n",
      "Epoch 17/20\n",
      "229/229 [==============================] - 1s 6ms/step - loss: 0.1438 - accuracy: 0.9384 - val_loss: 0.5039 - val_accuracy: 0.8403\n",
      "Epoch 18/20\n",
      "229/229 [==============================] - 1s 6ms/step - loss: 0.1394 - accuracy: 0.9404 - val_loss: 0.5197 - val_accuracy: 0.8444\n",
      "Epoch 19/20\n",
      "229/229 [==============================] - 1s 6ms/step - loss: 0.1353 - accuracy: 0.9420 - val_loss: 0.5300 - val_accuracy: 0.8414\n",
      "Epoch 20/20\n",
      "229/229 [==============================] - 1s 6ms/step - loss: 0.1294 - accuracy: 0.9451 - val_loss: 0.5840 - val_accuracy: 0.8426\n"
     ]
    }
   ],
   "source": [
    "# 콜백 설정 - 가장 좋은 모델을 저장하도록 설정\n",
    "LSTM_checkpoint_cb = tf.keras.callbacks.ModelCheckpoint('LSTM_best_model.keras', save_best_only=True)\n",
    "\n",
    "model_LSTM.compile(optimizer='adam',\n",
    "              loss='binary_crossentropy',\n",
    "              metrics=['accuracy'])\n",
    "              \n",
    "epochs=20  # 몇 epoch를 훈련하면 좋을지 결과를 보면서 바꾸어 봅시다. \n",
    "\n",
    "# 모델 훈련\n",
    "LSTM_history = model_LSTM.fit(X_train,\n",
    "                    y_train,\n",
    "                    epochs=epochs,\n",
    "                    batch_size=512,\n",
    "                    validation_data=(X_val, y_val),\n",
    "                    callbacks=[LSTM_checkpoint_cb],\n",
    "                    verbose=1)"
   ]
  },
  {
   "cell_type": "code",
   "execution_count": 20,
   "id": "cde75593",
   "metadata": {},
   "outputs": [
    {
     "name": "stdout",
     "output_type": "stream",
     "text": [
      "1537/1537 - 3s - loss: 0.3515 - accuracy: 0.8494\n",
      "[0.3514713943004608, 0.8494008779525757]\n"
     ]
    }
   ],
   "source": [
    "# 저장된 가장 좋은 모델 로드\n",
    "LSTM_best_model = tf.keras.models.load_model('LSTM_best_model.keras')\n",
    "\n",
    "# 테스트셋을 통한 모델 평가\n",
    "LSTM_results = LSTM_best_model.evaluate(X_test, y_test, verbose=2)\n",
    "\n",
    "print(LSTM_results)"
   ]
  },
  {
   "cell_type": "markdown",
   "id": "c7ce4f55",
   "metadata": {},
   "source": [
    "### 2. Bidirectional LSTM\n",
    "```\n",
    "model_BiRNN = tf.keras.Sequential()\n",
    "model_BiRNN.add(tf.keras.layers.Embedding(vocab_size, word_vector_dim, input_shape=(None,)))\n",
    "model_BiRNN.add(tf.keras.layers.Bidirectional(tf.keras.layers.LSTM(8)))  # Bidirectional LSTM 레이어\n",
    "model_BiRNN.add(tf.keras.layers.Dense(8, activation='relu'))\n",
    "model_BiRNN.add(tf.keras.layers.Dense(1, activation='sigmoid'))  # 긍정/부정을 나타내는 1dim 출력\n",
    "```\n",
    "\n",
    "1. Embedding Layer\n",
    "    - 입력 차원 (input_dim): vocab_size = 10000\n",
    "        - 어휘 사전의 크기, 즉 모델이 처리할 수 있는 단어의 총 개수를 나타냅니다.\n",
    "    - 출력 차원 (output_dim): word_vector_dim = 300\n",
    "        - 각 단어를 300차원의 벡터로 표현합니다.\n",
    "    - 입력 형태 (input_shape): (None,)\n",
    "        - 입력되는 문장의 길이는 가변적입니다. 문장은 단어 인덱스의 시퀀스로 표현됩니다.\n",
    "  \n",
    "  \n",
    "2. Bidirectional LSTM Layer\n",
    "    - 유닛 수: 8\n",
    "        - LSTM 레이어의 은닉 상태 벡터의 크기입니다. 이는 LSTM이 정보를 압축하는 정도를 나타내며, 레이어의 표현력과 복잡성을 결정합니다.\n",
    "        - 이 레이어는 문장의 앞뒤 맥락을 모두 고려할 수 있게 해줍니다. 문맥을 이해하는 데에 있어 더 풍부한 정보를 제공합니다.\n",
    "  \n",
    "  \n",
    "3. Dense Layer (Hidden Layer)\n",
    "    - 유닛 수: 8\n",
    "    - 활성화 함수 (activation): 'relu'\n",
    "        - 은닉층에 ReLU 활성화 함수를 사용하여 비선형성을 도입합니다. 이 레이어는 추출된 특성을 가공하여 최종 출력 이전에 더 높은 표현력을 갖게 합니다.\n",
    "  \n",
    "  \n",
    "4. Dense Layer (Output Layer)\n",
    "    - 유닛 수: 1\n",
    "        - 출력이 하나인 이유는 감정이 긍정인지 부정인지 이진 분류 문제이기 때문입니다.\n",
    "    - 활성화 함수 (activation): 'sigmoid'\n",
    "        - sigmoid 활성화 함수를 사용하여 0과 1 사이의 값을 출력하도록 합니다. 이 값은 문장이 긍정일 확률을 나타냅니다.\n"
   ]
  },
  {
   "cell_type": "code",
   "execution_count": 21,
   "id": "7b39dbed",
   "metadata": {},
   "outputs": [
    {
     "name": "stdout",
     "output_type": "stream",
     "text": [
      "Model: \"sequential_1\"\n",
      "_________________________________________________________________\n",
      "Layer (type)                 Output Shape              Param #   \n",
      "=================================================================\n",
      "embedding_1 (Embedding)      (None, None, 100)         1000000   \n",
      "_________________________________________________________________\n",
      "bidirectional (Bidirectional (None, 16)                6976      \n",
      "_________________________________________________________________\n",
      "dense_2 (Dense)              (None, 8)                 136       \n",
      "_________________________________________________________________\n",
      "dense_3 (Dense)              (None, 1)                 9         \n",
      "=================================================================\n",
      "Total params: 1,007,121\n",
      "Trainable params: 1,007,121\n",
      "Non-trainable params: 0\n",
      "_________________________________________________________________\n"
     ]
    }
   ],
   "source": [
    "# 모델 구성 및 저장 콜백 추가\n",
    "vocab_size = 10000    # 어휘 사전의 크기입니다(10,000개의 단어)\n",
    "word_vector_dim = 100  # 워드 벡터의 차원 수 (변경 가능한 하이퍼파라미터)\n",
    "\n",
    "# 모델 설계 - Bidirectional LSTM 모델\n",
    "model_BiRNN = tf.keras.Sequential()\n",
    "model_BiRNN.add(tf.keras.layers.Embedding(vocab_size, word_vector_dim, input_shape=(None,)))\n",
    "model_BiRNN.add(tf.keras.layers.Bidirectional(tf.keras.layers.LSTM(8)))  # Bidirectional LSTM 레이어\n",
    "model_BiRNN.add(tf.keras.layers.Dense(8, activation='relu'))\n",
    "model_BiRNN.add(tf.keras.layers.Dense(1, activation='sigmoid'))  # 긍정/부정을 나타내는 1dim 출력\n",
    "\n",
    "model_BiRNN.summary()"
   ]
  },
  {
   "cell_type": "code",
   "execution_count": 22,
   "id": "b19c5e80",
   "metadata": {},
   "outputs": [
    {
     "name": "stdout",
     "output_type": "stream",
     "text": [
      "Epoch 1/20\n",
      "229/229 [==============================] - 5s 11ms/step - loss: 0.4534 - accuracy: 0.7990 - val_loss: 0.3612 - val_accuracy: 0.8458\n",
      "Epoch 2/20\n",
      "229/229 [==============================] - 2s 8ms/step - loss: 0.3277 - accuracy: 0.8610 - val_loss: 0.3475 - val_accuracy: 0.8491\n",
      "Epoch 3/20\n",
      "229/229 [==============================] - 2s 8ms/step - loss: 0.3005 - accuracy: 0.8738 - val_loss: 0.3420 - val_accuracy: 0.8518\n",
      "Epoch 4/20\n",
      "229/229 [==============================] - 2s 8ms/step - loss: 0.2782 - accuracy: 0.8816 - val_loss: 0.3445 - val_accuracy: 0.8532\n",
      "Epoch 5/20\n",
      "229/229 [==============================] - 2s 8ms/step - loss: 0.2590 - accuracy: 0.8900 - val_loss: 0.3532 - val_accuracy: 0.8532\n",
      "Epoch 6/20\n",
      "229/229 [==============================] - 2s 8ms/step - loss: 0.2395 - accuracy: 0.8985 - val_loss: 0.3651 - val_accuracy: 0.8514\n",
      "Epoch 7/20\n",
      "229/229 [==============================] - 2s 8ms/step - loss: 0.2210 - accuracy: 0.9069 - val_loss: 0.3826 - val_accuracy: 0.8531\n",
      "Epoch 8/20\n",
      "229/229 [==============================] - 2s 8ms/step - loss: 0.2031 - accuracy: 0.9151 - val_loss: 0.3909 - val_accuracy: 0.8496\n",
      "Epoch 9/20\n",
      "229/229 [==============================] - 2s 8ms/step - loss: 0.1885 - accuracy: 0.9220 - val_loss: 0.4139 - val_accuracy: 0.8482\n",
      "Epoch 10/20\n",
      "229/229 [==============================] - 2s 8ms/step - loss: 0.1743 - accuracy: 0.9288 - val_loss: 0.4443 - val_accuracy: 0.8481\n",
      "Epoch 11/20\n",
      "229/229 [==============================] - 2s 8ms/step - loss: 0.1624 - accuracy: 0.9347 - val_loss: 0.4601 - val_accuracy: 0.8434\n",
      "Epoch 12/20\n",
      "229/229 [==============================] - 2s 8ms/step - loss: 0.1508 - accuracy: 0.9398 - val_loss: 0.4951 - val_accuracy: 0.8469\n",
      "Epoch 13/20\n",
      "229/229 [==============================] - 2s 8ms/step - loss: 0.1409 - accuracy: 0.9447 - val_loss: 0.5144 - val_accuracy: 0.8448\n",
      "Epoch 14/20\n",
      "229/229 [==============================] - 2s 8ms/step - loss: 0.1312 - accuracy: 0.9493 - val_loss: 0.5428 - val_accuracy: 0.8444\n",
      "Epoch 15/20\n",
      "229/229 [==============================] - 2s 8ms/step - loss: 0.1223 - accuracy: 0.9530 - val_loss: 0.5675 - val_accuracy: 0.8429\n",
      "Epoch 16/20\n",
      "229/229 [==============================] - 2s 8ms/step - loss: 0.1154 - accuracy: 0.9563 - val_loss: 0.5742 - val_accuracy: 0.8365\n",
      "Epoch 17/20\n",
      "229/229 [==============================] - 2s 8ms/step - loss: 0.1073 - accuracy: 0.9597 - val_loss: 0.6162 - val_accuracy: 0.8388\n",
      "Epoch 18/20\n",
      "229/229 [==============================] - 2s 8ms/step - loss: 0.1013 - accuracy: 0.9626 - val_loss: 0.6446 - val_accuracy: 0.8388\n",
      "Epoch 19/20\n",
      "229/229 [==============================] - 2s 8ms/step - loss: 0.0945 - accuracy: 0.9655 - val_loss: 0.6680 - val_accuracy: 0.8362\n",
      "Epoch 20/20\n",
      "229/229 [==============================] - 2s 8ms/step - loss: 0.0899 - accuracy: 0.9676 - val_loss: 0.7176 - val_accuracy: 0.8371\n"
     ]
    }
   ],
   "source": [
    "# 콜백 설정 - 가장 좋은 모델을 저장하도록 설정\n",
    "BiRNN_checkpoint_cb = tf.keras.callbacks.ModelCheckpoint('BiRNN_best_model.keras', save_best_only=True)\n",
    "\n",
    "# 모델 컴파일\n",
    "model_BiRNN.compile(optimizer='adam',\n",
    "              loss='binary_crossentropy',\n",
    "              metrics=['accuracy'])\n",
    "              \n",
    "epochs = 20  # 몇 epoch를 훈련하면 좋을지 결과를 보면서 바꾸어 봅시다.\n",
    "\n",
    "# 모델 훈련\n",
    "BiRNN_history = model_BiRNN.fit(X_train,\n",
    "                    y_train,\n",
    "                    epochs=epochs,\n",
    "                    batch_size=512,\n",
    "                    validation_data=(X_val, y_val),\n",
    "                    callbacks=[BiRNN_checkpoint_cb],\n",
    "                    verbose=1)"
   ]
  },
  {
   "cell_type": "code",
   "execution_count": 23,
   "id": "097ef7dc",
   "metadata": {},
   "outputs": [
    {
     "name": "stdout",
     "output_type": "stream",
     "text": [
      "1537/1537 - 4s - loss: 0.3473 - accuracy: 0.8507\n",
      "[0.3472757339477539, 0.8507232069969177]\n"
     ]
    }
   ],
   "source": [
    "# 저장된 가장 좋은 모델 로드\n",
    "BiRNN_best_model = tf.keras.models.load_model('BiRNN_best_model.keras')\n",
    "\n",
    "# Bidirectional LSTM 모델 평가\n",
    "BiRNN_results = BiRNN_best_model.evaluate(X_test, y_test, verbose=2)\n",
    "\n",
    "print(BiRNN_results)"
   ]
  },
  {
   "cell_type": "markdown",
   "id": "e5f1eda5",
   "metadata": {},
   "source": [
    "### 3. Conv1D\n",
    "```\n",
    "model_Conv1D = tf.keras.Sequential()\n",
    "model_Conv1D.add(tf.keras.layers.Embedding(vocab_size, word_vector_dim, input_shape=(None,)))\n",
    "model_Conv1D.add(tf.keras.layers.Conv1D(16, 7, activation='relu'))\n",
    "model_Conv1D.add(tf.keras.layers.MaxPooling1D(5))\n",
    "model_Conv1D.add(tf.keras.layers.Conv1D(16, 7, activation='relu'))\n",
    "model_Conv1D.add(tf.keras.layers.GlobalMaxPooling1D())\n",
    "model_Conv1D.add(tf.keras.layers.Dense(8, activation='relu'))\n",
    "model_Conv1D.add(tf.keras.layers.Dense(1, activation='sigmoid')) \n",
    "```\n",
    "\n",
    "1. Embedding Layer\n",
    "    - 입력 차원 (input_dim): vocab_size = 10000\n",
    "        - 어휘 사전의 크기, 즉 모델이 처리할 수 있는 단어의 총 개수를 나타냅니다.\n",
    "    - 출력 차원 (output_dim): word_vector_dim = 300\n",
    "        - 각 단어를 300차원의 벡터로 표현합니다.\n",
    "    - 입력 형태 (input_shape): (None,)\n",
    "        - 입력되는 문장의 길이는 가변적입니다. 문장은 단어 인덱스의 시퀀스로 표현됩니다.\n",
    "  \n",
    "  \n",
    "2. Conv1D Layer (첫 번째)\n",
    "    - 필터 수: 16\n",
    "        - 16개의 필터를 사용하여 입력 텍스트에서 특징을 추출합니다.\n",
    "    - 커널 크기 (kernel_size): 7\n",
    "        - 컨볼루션 필터의 크기입니다. 커널은 한 번에 7개의 단어를 보고 특징을 추출합니다.\n",
    "    - 활성화 함수 (activation): 'relu'\n",
    "        - ReLU 활성화 함수를 사용하여 비선형성을 도입하고, 중요한 특징을 강조합니다.\n",
    "  \n",
    "  \n",
    "3. MaxPooling1D Layer\n",
    "    - 풀링 크기 (pool_size): 5\n",
    "        - MaxPooling1D는 입력 텐서에서 가장 큰 값을 선택해 다운샘플링을 합니다. 이 경우, 5개의 단어에 대해 가장 큰 값을 선택하여 입력을 압축합니다.\n",
    "    - 이 레이어는 특징 맵을 축소하여 중요한 특징만 남기고, 과적합을 방지하는 데 도움이 됩니다.\n",
    "  \n",
    "  \n",
    "4. Conv1D Layer (두 번째)\n",
    "    - 필터 수: 16\n",
    "        - 첫 번째 Conv1D 레이어와 동일하게 16개의 필터를 사용합니다.\n",
    "    - 커널 크기 (kernel_size): 7\n",
    "        - 첫 번째 Conv1D 레이어와 동일하게 7개의 단어를 한 번에 봅니다.\n",
    "    - 활성화 함수 (activation): 'relu'\n",
    "        - ReLU 활성화 함수를 사용합니다.\n",
    "  \n",
    "  \n",
    "5. GlobalMaxPooling1D Layer\n",
    "    - 전체 시퀀스에서 가장 큰 값을 선택하여 텐서를 1차원으로 변환합니다.\n",
    "    - GlobalMaxPooling은 시퀀스 전체에서 최댓값을 선택하여 중요한 특징을 추출합니다. 이는 데이터의 길이에 관계없이 고정된 크기의 출력 벡터를 생성합니다.\n",
    "    - 이 레이어는 시퀀스의 길이를 무시하고 시퀀스 전체에서 가장 중요한 정보를 유지합니다.\n",
    "  \n",
    "  \n",
    "6. Dense Layer (Hidden Layer)\n",
    "    - 유닛 수: 8\n",
    "    - 활성화 함수 (activation): 'relu'\n",
    "        - 은닉층에 ReLU 활성화 함수를 사용하여 비선형성을 도입합니다. 이 레이어는 추출된 특성을 가공하여 최종 출력 이전에 더 높은 표현력을 갖게 합니다.\n",
    "  \n",
    "  \n",
    "7. Dense Layer (Output Layer)\n",
    "    - 유닛 수: 1\n",
    "        - 출력이 하나인 이유는 감정이 긍정인지 부정인지 이진 분류 문제이기 때문입니다.\n",
    "    - 활성화 함수 (activation): 'sigmoid'\n",
    "        - sigmoid 활성화 함수를 사용하여 0과 1 사이의 값을 출력하도록 합니다. 이 값은 문장이 긍정일 확률을 나타냅니다.\n"
   ]
  },
  {
   "cell_type": "code",
   "execution_count": 24,
   "id": "43643a22",
   "metadata": {},
   "outputs": [
    {
     "name": "stdout",
     "output_type": "stream",
     "text": [
      "Model: \"sequential_2\"\n",
      "_________________________________________________________________\n",
      "Layer (type)                 Output Shape              Param #   \n",
      "=================================================================\n",
      "embedding_2 (Embedding)      (None, None, 100)         1000000   \n",
      "_________________________________________________________________\n",
      "conv1d (Conv1D)              (None, None, 16)          11216     \n",
      "_________________________________________________________________\n",
      "max_pooling1d (MaxPooling1D) (None, None, 16)          0         \n",
      "_________________________________________________________________\n",
      "conv1d_1 (Conv1D)            (None, None, 16)          1808      \n",
      "_________________________________________________________________\n",
      "global_max_pooling1d (Global (None, 16)                0         \n",
      "_________________________________________________________________\n",
      "dense_4 (Dense)              (None, 8)                 136       \n",
      "_________________________________________________________________\n",
      "dense_5 (Dense)              (None, 1)                 9         \n",
      "=================================================================\n",
      "Total params: 1,013,169\n",
      "Trainable params: 1,013,169\n",
      "Non-trainable params: 0\n",
      "_________________________________________________________________\n"
     ]
    }
   ],
   "source": [
    "vocab_size = 10000    # 어휘 사전의 크기입니다(10,000개의 단어)\n",
    "word_vector_dim = 100  # 워드 벡터의 차원 수 (변경 가능한 하이퍼파라미터)\n",
    "\n",
    "# 모델 구성 - Conv1D 모델\n",
    "model_Conv1D = tf.keras.Sequential()\n",
    "model_Conv1D.add(tf.keras.layers.Embedding(vocab_size, word_vector_dim, input_shape=(None,)))\n",
    "model_Conv1D.add(tf.keras.layers.Conv1D(16, 7, activation='relu'))\n",
    "model_Conv1D.add(tf.keras.layers.MaxPooling1D(5))\n",
    "model_Conv1D.add(tf.keras.layers.Conv1D(16, 7, activation='relu'))\n",
    "model_Conv1D.add(tf.keras.layers.GlobalMaxPooling1D())\n",
    "model_Conv1D.add(tf.keras.layers.Dense(8, activation='relu'))\n",
    "model_Conv1D.add(tf.keras.layers.Dense(1, activation='sigmoid')) \n",
    "\n",
    "model_Conv1D.summary()"
   ]
  },
  {
   "cell_type": "code",
   "execution_count": 25,
   "id": "b80944af",
   "metadata": {},
   "outputs": [
    {
     "name": "stdout",
     "output_type": "stream",
     "text": [
      "Epoch 1/20\n",
      "229/229 [==============================] - 2s 8ms/step - loss: 0.0840 - accuracy: 0.9703 - val_loss: 0.7410 - val_accuracy: 0.8365\n",
      "Epoch 2/20\n",
      "229/229 [==============================] - 2s 8ms/step - loss: 0.0810 - accuracy: 0.9712 - val_loss: 0.7660 - val_accuracy: 0.8349\n",
      "Epoch 3/20\n",
      "229/229 [==============================] - 2s 8ms/step - loss: 0.0735 - accuracy: 0.9741 - val_loss: 0.7954 - val_accuracy: 0.8331\n",
      "Epoch 4/20\n",
      "229/229 [==============================] - 2s 8ms/step - loss: 0.0683 - accuracy: 0.9762 - val_loss: 0.8406 - val_accuracy: 0.8314\n",
      "Epoch 5/20\n",
      "229/229 [==============================] - 2s 8ms/step - loss: 0.0646 - accuracy: 0.9780 - val_loss: 0.8608 - val_accuracy: 0.8305\n",
      "Epoch 6/20\n",
      "229/229 [==============================] - 2s 8ms/step - loss: 0.0614 - accuracy: 0.9793 - val_loss: 0.8988 - val_accuracy: 0.8313\n",
      "Epoch 7/20\n",
      "229/229 [==============================] - 2s 8ms/step - loss: 0.0595 - accuracy: 0.9802 - val_loss: 0.9140 - val_accuracy: 0.8326\n",
      "Epoch 8/20\n",
      "229/229 [==============================] - 2s 8ms/step - loss: 0.0582 - accuracy: 0.9807 - val_loss: 0.9452 - val_accuracy: 0.8342\n",
      "Epoch 9/20\n",
      "229/229 [==============================] - 2s 8ms/step - loss: 0.0561 - accuracy: 0.9811 - val_loss: 0.9502 - val_accuracy: 0.8316\n",
      "Epoch 10/20\n",
      "229/229 [==============================] - 2s 8ms/step - loss: 0.0514 - accuracy: 0.9829 - val_loss: 1.0306 - val_accuracy: 0.8326\n",
      "Epoch 11/20\n",
      "229/229 [==============================] - 2s 8ms/step - loss: 0.0490 - accuracy: 0.9843 - val_loss: 1.0577 - val_accuracy: 0.8269\n",
      "Epoch 12/20\n",
      "229/229 [==============================] - 2s 8ms/step - loss: 0.0451 - accuracy: 0.9852 - val_loss: 1.0862 - val_accuracy: 0.8284\n",
      "Epoch 13/20\n",
      "229/229 [==============================] - 2s 8ms/step - loss: 0.0429 - accuracy: 0.9861 - val_loss: 1.0674 - val_accuracy: 0.8283\n",
      "Epoch 14/20\n",
      "229/229 [==============================] - 2s 8ms/step - loss: 0.0417 - accuracy: 0.9862 - val_loss: 1.0873 - val_accuracy: 0.8270\n",
      "Epoch 15/20\n",
      "229/229 [==============================] - 2s 8ms/step - loss: 0.0405 - accuracy: 0.9872 - val_loss: 1.1566 - val_accuracy: 0.8299\n",
      "Epoch 16/20\n",
      "229/229 [==============================] - 2s 8ms/step - loss: 0.0422 - accuracy: 0.9868 - val_loss: 1.1521 - val_accuracy: 0.8289\n",
      "Epoch 17/20\n",
      "229/229 [==============================] - 2s 8ms/step - loss: 0.0399 - accuracy: 0.9871 - val_loss: 1.1835 - val_accuracy: 0.8259\n",
      "Epoch 18/20\n",
      "229/229 [==============================] - 2s 8ms/step - loss: 0.0359 - accuracy: 0.9889 - val_loss: 1.2090 - val_accuracy: 0.8289\n",
      "Epoch 19/20\n",
      "229/229 [==============================] - 2s 8ms/step - loss: 0.0346 - accuracy: 0.9887 - val_loss: 1.2206 - val_accuracy: 0.8269\n",
      "Epoch 20/20\n",
      "229/229 [==============================] - 2s 8ms/step - loss: 0.0349 - accuracy: 0.9885 - val_loss: 1.2494 - val_accuracy: 0.8245\n"
     ]
    }
   ],
   "source": [
    "# 콜백 설정 - 가장 좋은 모델을 저장하도록 설정\n",
    "Conv1D_checkpoint_cb = tf.keras.callbacks.ModelCheckpoint('Conv1D_best_model.keras', save_best_only=True)\n",
    "\n",
    "# 모델 컴파일\n",
    "model_Conv1D.compile(optimizer='adam',\n",
    "              loss='binary_crossentropy',\n",
    "              metrics=['accuracy'])\n",
    "              \n",
    "epochs = 20  # 몇 epoch를 훈련하면 좋을지 결과를 보면서 바꾸어 봅시다.\n",
    "\n",
    "# 모델 훈련\n",
    "Conv1D_history = model_BiRNN.fit(X_train,\n",
    "                    y_train,\n",
    "                    epochs=epochs,\n",
    "                    batch_size=512,\n",
    "                    validation_data=(X_val, y_val),\n",
    "                    callbacks=[Conv1D_checkpoint_cb],\n",
    "                    verbose=1)"
   ]
  },
  {
   "cell_type": "code",
   "execution_count": 26,
   "id": "fbdd6a83",
   "metadata": {},
   "outputs": [
    {
     "name": "stdout",
     "output_type": "stream",
     "text": [
      "1537/1537 - 5s - loss: 0.7430 - accuracy: 0.8341\n",
      "[0.7430166602134705, 0.8340622782707214]\n"
     ]
    }
   ],
   "source": [
    "# 저장된 가장 좋은 모델 로드\n",
    "Conv1D_best_model = tf.keras.models.load_model('Conv1D_best_model.keras')\n",
    "\n",
    "# Conv1D 모델 평가\n",
    "Conv1D_results = Conv1D_best_model.evaluate(X_test, y_test, verbose=2)\n",
    "\n",
    "print(Conv1D_results)"
   ]
  },
  {
   "cell_type": "markdown",
   "id": "a8e359f7",
   "metadata": {},
   "source": [
    "## 6) Loss, Accuracy 그래프 시각화\n",
    "---"
   ]
  },
  {
   "cell_type": "code",
   "execution_count": 27,
   "id": "5876a949",
   "metadata": {},
   "outputs": [],
   "source": [
    "import matplotlib.pyplot as plt"
   ]
  },
  {
   "cell_type": "code",
   "execution_count": 28,
   "id": "c782aced",
   "metadata": {},
   "outputs": [],
   "source": [
    "# 학습 및 검증 손실, 정확도 시각화 함수 추가\n",
    "def plot_training_history(history):\n",
    "    # Training and validation loss\n",
    "    plt.figure(figsize=(12, 5))\n",
    "    plt.subplot(1, 2, 1)\n",
    "    plt.plot(history.history['loss'], label='Training Loss')\n",
    "    plt.plot(history.history['val_loss'], label='Validation Loss')\n",
    "    plt.xlabel('Epochs')\n",
    "    plt.ylabel('Loss')\n",
    "    plt.legend()\n",
    "    plt.title('Training and Validation Loss')\n",
    "\n",
    "    # Training and validation accuracy\n",
    "    plt.subplot(1, 2, 2)\n",
    "    plt.plot(history.history['accuracy'], label='Training Accuracy')\n",
    "    plt.plot(history.history['val_accuracy'], label='Validation Accuracy')\n",
    "    plt.xlabel('Epochs')\n",
    "    plt.ylabel('Accuracy')\n",
    "    plt.legend()\n",
    "    plt.title('Training and Validation Accuracy')\n",
    "    \n",
    "    plt.show()"
   ]
  },
  {
   "cell_type": "code",
   "execution_count": 29,
   "id": "b1490b13",
   "metadata": {},
   "outputs": [
    {
     "data": {
      "image/png": "[encoded data removed]",
      "text/plain": [
       "<Figure size 864x360 with 2 Axes>"
      ]
     },
     "metadata": {
      "needs_background": "light"
     },
     "output_type": "display_data"
    }
   ],
   "source": [
    "# LSTM 모델 시각화\n",
    "# Epochs 3 정도 부터 오버피팅 나타남\n",
    "plot_training_history(LSTM_history)"
   ]
  },
  {
   "cell_type": "code",
   "execution_count": 30,
   "id": "48b90276",
   "metadata": {},
   "outputs": [
    {
     "data": {
      "image/png": "[encoded data removed]",
      "text/plain": [
       "<Figure size 864x360 with 2 Axes>"
      ]
     },
     "metadata": {
      "needs_background": "light"
     },
     "output_type": "display_data"
    }
   ],
   "source": [
    "# Bidirectional LSTM 모델 시각화\n",
    "# Epochs 4 정도 부터 오버피팅 나타남\n",
    "plot_training_history(BiRNN_history)"
   ]
  },
  {
   "cell_type": "code",
   "execution_count": 31,
   "id": "7a0e9859",
   "metadata": {},
   "outputs": [
    {
     "data": {
      "image/png": "[encoded data removed]",
      "text/plain": [
       "<Figure size 864x360 with 2 Axes>"
      ]
     },
     "metadata": {
      "needs_background": "light"
     },
     "output_type": "display_data"
    }
   ],
   "source": [
    "# Conv1D 모델 시각화\n",
    "# 오버피팅 바로 나옴\n",
    "plot_training_history(Conv1D_history)"
   ]
  },
  {
   "cell_type": "markdown",
   "id": "b7278b3b",
   "metadata": {},
   "source": [
    "## 7) 학습된 Embedding 레이어 분석\n",
    "---"
   ]
  },
  {
   "cell_type": "markdown",
   "id": "09fdf834",
   "metadata": {},
   "source": [
    "### LSTM 의 Embedding 레이어"
   ]
  },
  {
   "cell_type": "code",
   "execution_count": 32,
   "id": "5a12413b",
   "metadata": {},
   "outputs": [
    {
     "name": "stdout",
     "output_type": "stream",
     "text": [
      "(10000, 100)\n"
     ]
    }
   ],
   "source": [
    "embedding_layer = model_LSTM.layers[0]  # 모델의 첫 번째 레이어가 임베딩 레이어라고 가정.\n",
    "weights = embedding_layer.get_weights()[0]\n",
    "print(weights.shape)    # shape: (vocab_size, embedding_dim)"
   ]
  },
  {
   "cell_type": "code",
   "execution_count": 33,
   "id": "3120761f",
   "metadata": {},
   "outputs": [],
   "source": [
    "# 학습한 Embedding 파라미터를 파일에 써서 저장합니다. \n",
    "word2vec_file_path = os.getenv('HOME')+'/aiffel/sentiment_classification/data/word2vec_LSTM.txt'\n",
    "f = open(word2vec_file_path, 'w')\n",
    "f.write('{} {}\\n'.format(vocab_size-4, word_vector_dim))  # 몇개의 벡터를 얼마 사이즈로 기재할지 타이틀을 씁니다.\n",
    "\n",
    "# 단어 개수(에서 특수문자 4개는 제외하고)만큼의 워드 벡터를 파일에 기록합니다. \n",
    "vectors = model_LSTM.get_weights()[0]\n",
    "for i in range(4,vocab_size):\n",
    "    f.write('{} {}\\n'.format(index_to_word[i], ' '.join(map(str, list(vectors[i, :])))))\n",
    "f.close()"
   ]
  },
  {
   "cell_type": "code",
   "execution_count": 34,
   "id": "3cd2c0db",
   "metadata": {},
   "outputs": [
    {
     "data": {
      "text/plain": [
       "array([-0.03584802, -0.07703829,  0.04562069,  0.10280562, -0.02471759,\n",
       "       -0.00928116, -0.05082485,  0.06013115,  0.01006512, -0.00964158,\n",
       "        0.03771062,  0.01708232,  0.09274177,  0.0768837 ,  0.07846288,\n",
       "       -0.03357479, -0.03516168,  0.00048525, -0.02315438, -0.09812952,\n",
       "       -0.02725117,  0.07135019, -0.01925557,  0.01921143,  0.00451886,\n",
       "        0.02820098,  0.00704717,  0.00805449,  0.01537952,  0.02639483,\n",
       "       -0.00602682,  0.09749772,  0.01263859, -0.05168874, -0.03782569,\n",
       "       -0.03196604,  0.04879418,  0.28049034,  0.02805915, -0.00917741,\n",
       "        0.04561556, -0.01368791,  0.03013362,  0.01136708, -0.01973908,\n",
       "        0.10539445,  0.06887677, -0.02170415,  0.00727182, -0.0478331 ,\n",
       "       -0.04072991, -0.03623882, -0.03513697,  0.21558724, -0.00118161,\n",
       "        0.0476482 , -0.10549401, -0.03112729, -0.01507203,  0.02230885,\n",
       "       -0.01722954,  0.06783972, -0.03442995, -0.06827397,  0.01353826,\n",
       "        0.03293924, -0.00770595,  0.03207171, -0.0439117 ,  0.08791692,\n",
       "       -0.00725055,  0.07292783,  0.04683783,  0.06950116,  0.08817385,\n",
       "       -0.00613006,  0.01719733, -0.06797226,  0.00252868, -0.06064912,\n",
       "       -0.03478811, -0.03130896,  0.13386928, -0.0408725 ,  0.06843811,\n",
       "        0.04321274, -0.0296529 ,  0.00439032, -0.02319817,  0.03710243,\n",
       "        0.00330699, -0.06689809,  0.02519692, -0.01307029, -0.06078428,\n",
       "       -0.0652194 ,  0.02380699, -0.00688431, -0.01285392, -0.03697978],\n",
       "      dtype=float32)"
      ]
     },
     "execution_count": 34,
     "metadata": {},
     "output_type": "execute_result"
    }
   ],
   "source": [
    "from gensim.models.keyedvectors import Word2VecKeyedVectors\n",
    "\n",
    "word_vectors = Word2VecKeyedVectors.load_word2vec_format(word2vec_file_path, binary=False)\n",
    "vector = word_vectors['영화']\n",
    "vector"
   ]
  },
  {
   "cell_type": "code",
   "execution_count": 35,
   "id": "949c531c",
   "metadata": {},
   "outputs": [
    {
     "data": {
      "text/plain": [
       "[('돌파', 0.8888450264930725),\n",
       " ('빠져', 0.8571552038192749),\n",
       " ('돌려서', 0.8496777415275574),\n",
       " ('흐르', 0.8494136929512024),\n",
       " ('정조', 0.8459624648094177),\n",
       " ('감탄', 0.8442596793174744),\n",
       " ('천재', 0.8428781628608704),\n",
       " ('고인', 0.8421637415885925),\n",
       " ('따뜻', 0.8415853381156921),\n",
       " ('감동', 0.840050458908081)]"
      ]
     },
     "execution_count": 35,
     "metadata": {},
     "output_type": "execute_result"
    }
   ],
   "source": [
    "word_vectors.similar_by_word(\"사랑\")"
   ]
  },
  {
   "cell_type": "markdown",
   "id": "83f35401",
   "metadata": {},
   "source": [
    "### 사랑이라는 단어와 유사한 단어라고 보기 어렵다!"
   ]
  },
  {
   "cell_type": "markdown",
   "id": "f803ae2d",
   "metadata": {},
   "source": [
    "## 8) 한국어 Word2Vec 임베딩 활용하여 성능 개선\n",
    "---\n",
    "- 한국어 Word2Vec은 /data 폴더 안에 있는 word2vec_ko.model을 활용하세요.\n",
    "- 한국어 Word2Vec을 활용할 때는 load_word2vec_format() 형태가 아닌 load() 형태로 모델을 불러와주세요. 또한 모델을 활용할 때에는 아래 예시와 같이 .wv를 붙여서 활용합니다. 좀더 자세한 활용법에 대해선 다음 링크들을 참조해주세요.  \n",
    "참고 링크1 : https://radimrehurek.com/gensim/auto_examples/tutorials/run_word2vec.html#storing-and-loading-models  \n",
    "참고 링크2 : https://radimrehurek.com/gensim/models/keyedvectors.html\n",
    "\n",
    "```python\n",
    "# 예시 코드\n",
    "from gensim.models.keyedvectors import Word2VecKeyedVectors\n",
    "word_vectors = Word2VecKeyedVectors.load(word2vec_file_path)\n",
    "vector = word_vectors.wv[‘끝’]\n",
    "```"
   ]
  },
  {
   "cell_type": "markdown",
   "id": "4a883cb9",
   "metadata": {},
   "source": [
    "심볼릭 링크 연결\n",
    "\n",
    "```bash\n",
    "ln -s ~/data/*.* ~/aiffel/sentiment_classification/data\n",
    "```"
   ]
  },
  {
   "cell_type": "code",
   "execution_count": 36,
   "id": "ed81767f",
   "metadata": {},
   "outputs": [],
   "source": [
    "from gensim.models.keyedvectors import Word2VecKeyedVectors\n",
    "from keras.preprocessing.sequence import pad_sequences"
   ]
  },
  {
   "cell_type": "code",
   "execution_count": 37,
   "id": "ea9575d6",
   "metadata": {},
   "outputs": [],
   "source": [
    "# 한국어 Word2Vec 모델 로드\n",
    "word2vec_file_path = os.getenv('HOME') + '/aiffel/sentiment_classification/data/word2vec_ko.model'\n",
    "word_vectors = Word2VecKeyedVectors.load(word2vec_file_path)\n",
    "vector = word_vectors.wv[\"끝\"]"
   ]
  },
  {
   "cell_type": "code",
   "execution_count": 38,
   "id": "04a8867f",
   "metadata": {},
   "outputs": [
    {
     "data": {
      "text/plain": [
       "array([ 1.038851  , -1.1634965 ,  2.2386286 ,  0.8971453 , -2.088168  ,\n",
       "       -4.1942534 , -0.02519768, -0.69813883, -0.2908033 , -1.4651134 ,\n",
       "       -2.6863668 ,  0.7999443 , -0.6957915 , -0.5018775 ,  3.5025773 ,\n",
       "        0.21326113, -0.6588098 , -1.1900496 ,  0.61399573,  2.1247969 ,\n",
       "        0.1549463 ,  3.0840218 ,  3.1680267 , -3.9143991 ,  3.6073153 ,\n",
       "        0.5315545 , -0.3511633 , -1.107248  ,  1.7767181 , -0.95981866,\n",
       "        2.6072454 , -0.00697957, -3.27628   ,  1.558644  ,  0.81922376,\n",
       "        1.9231955 ,  3.7026553 , -0.53824735, -0.4920138 ,  2.4657123 ,\n",
       "       -2.620749  , -0.08950733,  0.61453176,  1.8866426 ,  0.257866  ,\n",
       "       -2.7827141 ,  2.9129577 , -0.6313133 ,  2.0387425 , -4.222685  ,\n",
       "       -2.7560544 ,  1.7903243 , -1.3080189 , -2.5531402 , -0.43849912,\n",
       "       -3.1073573 , -0.29090825,  5.1817617 ,  1.9604833 , -5.1421604 ,\n",
       "       -0.71431434,  4.5624633 , -0.55525815, -3.3019137 ,  1.6761336 ,\n",
       "       -1.9606539 , -0.2726863 ,  0.2465995 ,  1.2685091 ,  1.6055685 ,\n",
       "        1.8344896 ,  1.2752469 ,  0.99503314, -2.3348706 , -0.9290329 ,\n",
       "       -1.5920266 ,  5.693834  ,  1.1132814 , -0.9603875 , -1.970055  ,\n",
       "       -1.0120267 , -2.7289615 , -2.7759619 ,  3.214084  ,  1.8573734 ,\n",
       "       -1.3495721 , -0.10321241,  3.434593  , -2.8573685 , -1.9004927 ,\n",
       "       -1.6801298 , -2.805677  ,  1.7723105 , -0.41865307, -2.310913  ,\n",
       "       -6.2761464 , -0.8376036 ,  2.4590037 ,  2.1697695 , -4.440443  ],\n",
       "      dtype=float32)"
      ]
     },
     "execution_count": 38,
     "metadata": {},
     "output_type": "execute_result"
    }
   ],
   "source": [
    "vector"
   ]
  },
  {
   "cell_type": "code",
   "execution_count": 39,
   "id": "a278d766",
   "metadata": {},
   "outputs": [
    {
     "data": {
      "text/plain": [
       "[('드라마', 0.8418774008750916),\n",
       " ('뮤지컬', 0.7775140404701233),\n",
       " ('코미디', 0.7489107251167297),\n",
       " ('다큐멘터리', 0.7401294708251953),\n",
       " ('헐리우드', 0.7397844195365906),\n",
       " ('애니메이션', 0.7170552015304565),\n",
       " ('독립영화', 0.7113528251647949),\n",
       " ('로맨틱', 0.7107657194137573),\n",
       " ('장편', 0.7101576924324036),\n",
       " ('극영화', 0.7045413255691528)]"
      ]
     },
     "execution_count": 39,
     "metadata": {},
     "output_type": "execute_result"
    }
   ],
   "source": [
    "word_vectors.wv.similar_by_word(\"영화\")"
   ]
  },
  {
   "cell_type": "code",
   "execution_count": 40,
   "id": "08363abb",
   "metadata": {},
   "outputs": [
    {
     "data": {
      "text/plain": [
       "[('아이스하키', 0.800794243812561),\n",
       " ('농구', 0.7926114201545715),\n",
       " ('배구', 0.7872303128242493),\n",
       " ('야구', 0.7543829679489136),\n",
       " ('축구팀', 0.7378026843070984),\n",
       " ('핸드볼', 0.733677327632904),\n",
       " ('풋살', 0.7298390865325928),\n",
       " ('필드하키', 0.6768761277198792),\n",
       " ('킥복싱', 0.668218195438385),\n",
       " ('테니스', 0.6668619513511658)]"
      ]
     },
     "execution_count": 40,
     "metadata": {},
     "output_type": "execute_result"
    }
   ],
   "source": [
    "word_vectors.wv.similar_by_word(\"축구\")"
   ]
  },
  {
   "cell_type": "code",
   "execution_count": 41,
   "id": "c2f6a3c5",
   "metadata": {},
   "outputs": [
    {
     "data": {
      "text/plain": [
       "[('공연장', 0.734738826751709),\n",
       " ('영화관', 0.7285679578781128),\n",
       " ('오페라단', 0.7239658832550049),\n",
       " ('오페라', 0.7214334607124329),\n",
       " ('소극장', 0.7028483152389526),\n",
       " ('콘서트홀', 0.6995508074760437),\n",
       " ('살롱', 0.6894219517707825),\n",
       " ('음악당', 0.6769198775291443),\n",
       " ('발레단', 0.6662783622741699),\n",
       " ('관현악단', 0.6594403982162476)]"
      ]
     },
     "execution_count": 41,
     "metadata": {},
     "output_type": "execute_result"
    }
   ],
   "source": [
    "word_vectors.wv.similar_by_word(\"극장\")"
   ]
  },
  {
   "cell_type": "code",
   "execution_count": 42,
   "id": "9e68c7d7",
   "metadata": {},
   "outputs": [
    {
     "data": {
      "text/plain": [
       "[('이별', 0.7626414895057678),\n",
       " ('행복', 0.7550068497657776),\n",
       " ('슬픔', 0.7381505966186523),\n",
       " ('유혹', 0.7238055467605591),\n",
       " ('그리움', 0.7167419195175171),\n",
       " ('추억', 0.7143999338150024),\n",
       " ('꿈', 0.7089294195175171),\n",
       " ('애정', 0.7066588997840881),\n",
       " ('포옹', 0.7034594416618347),\n",
       " ('마음', 0.6972615718841553)]"
      ]
     },
     "execution_count": 42,
     "metadata": {},
     "output_type": "execute_result"
    }
   ],
   "source": [
    "word_vectors.wv.similar_by_word(\"사랑\")"
   ]
  },
  {
   "cell_type": "markdown",
   "id": "f9aceaff",
   "metadata": {},
   "source": [
    "### 한국어 Word2Vec 모델을 사용하면 영화, 사랑 등 해당 단어와 유사한 단어가 잘 나타난다!!!"
   ]
  },
  {
   "cell_type": "code",
   "execution_count": 43,
   "id": "bb47ed4c",
   "metadata": {},
   "outputs": [],
   "source": [
    "# embedding_matrix = np.zeros((len(word_to_index), word_vectors.wv.vector_size))\n",
    "\n",
    "# # embedding_matrix에 Word2Vec 워드 벡터를 단어 하나씩마다 차례차례 카피한다.\n",
    "# for i in range(4,len(word_to_index)):\n",
    "#     if index_to_word[i] in word_vectors.wv:\n",
    "#         embedding_matrix[i] = word_vectors.wv[index_to_word[i]]"
   ]
  },
  {
   "cell_type": "code",
   "execution_count": 44,
   "id": "7bcf83e0",
   "metadata": {},
   "outputs": [],
   "source": [
    "# 특수 토큰 임베딩 초기화 개선\n",
    "embedding_matrix = np.zeros((len(word_to_index), word_vectors.vector_size))\n",
    "\n",
    "for word, i in word_to_index.items():\n",
    "    if word == '<PAD>':\n",
    "        embedding_matrix[i] = np.zeros((word_vectors.vector_size,))\n",
    "    elif word in word_vectors.wv:\n",
    "        embedding_matrix[i] = word_vectors.wv[word]\n",
    "    else:\n",
    "        embedding_matrix[i] = np.random.normal(scale=0.6, size=(word_vectors.vector_size,))"
   ]
  },
  {
   "cell_type": "code",
   "execution_count": 45,
   "id": "ddd87429",
   "metadata": {},
   "outputs": [
    {
     "name": "stdout",
     "output_type": "stream",
     "text": [
      "word_to_index의 크기: 20000\n",
      "word_vectors.vector_size: 100\n"
     ]
    }
   ],
   "source": [
    "print(f'word_to_index의 크기: {len(word_to_index)}')\n",
    "print(f'word_vectors.vector_size: {word_vectors.wv.vector_size}')"
   ]
  },
  {
   "cell_type": "code",
   "execution_count": 46,
   "id": "ce5451e4",
   "metadata": {},
   "outputs": [],
   "source": [
    "from tensorflow.keras.initializers import Constant"
   ]
  },
  {
   "cell_type": "code",
   "execution_count": 47,
   "id": "e0d647c3",
   "metadata": {},
   "outputs": [
    {
     "name": "stdout",
     "output_type": "stream",
     "text": [
      "Model: \"sequential_3\"\n",
      "_________________________________________________________________\n",
      "Layer (type)                 Output Shape              Param #   \n",
      "=================================================================\n",
      "embedding_3 (Embedding)      (None, 41, 100)           2000000   \n",
      "_________________________________________________________________\n",
      "lstm_2 (LSTM)                (None, 8)                 3488      \n",
      "_________________________________________________________________\n",
      "dense_6 (Dense)              (None, 8)                 72        \n",
      "_________________________________________________________________\n",
      "dense_7 (Dense)              (None, 1)                 9         \n",
      "=================================================================\n",
      "Total params: 2,003,569\n",
      "Trainable params: 2,003,569\n",
      "Non-trainable params: 0\n",
      "_________________________________________________________________\n"
     ]
    }
   ],
   "source": [
    "# LSTM 모델 구성\n",
    "vocab_size = len(word_to_index)\n",
    "word_vector_dim = word_vectors.vector_size  # Word2Vec 임베딩 차원 수\n",
    "\n",
    "model_LSTM_Word2Vec = tf.keras.Sequential()\n",
    "model_LSTM_Word2Vec.add(tf.keras.layers.Embedding(vocab_size, \n",
    "                                 word_vector_dim, \n",
    "                                 embeddings_initializer=Constant(embedding_matrix),  # 카피한 임베딩을 여기서 활용\n",
    "                                 input_length=maxlen, \n",
    "                                 trainable=True))   # trainable을 True로 주면 Fine-tuning\n",
    "model_LSTM_Word2Vec.add(tf.keras.layers.LSTM(8))   # 가장 널리 쓰이는 RNN인 LSTM 레이어를 사용하였습니다. 이때 LSTM state 벡터의 차원수는 8로 하였습니다. (변경 가능)\n",
    "model_LSTM_Word2Vec.add(tf.keras.layers.Dense(8, activation='relu'))\n",
    "model_LSTM_Word2Vec.add(tf.keras.layers.Dense(1, activation='sigmoid'))  # 최종 출력은 긍정/부정을 나타내는 1dim 입니다.\n",
    "\n",
    "model_LSTM_Word2Vec.summary()"
   ]
  },
  {
   "cell_type": "code",
   "execution_count": 48,
   "id": "a02c817e",
   "metadata": {},
   "outputs": [
    {
     "name": "stdout",
     "output_type": "stream",
     "text": [
      "Epoch 1/20\n",
      "229/229 [==============================] - 3s 8ms/step - loss: 0.6694 - accuracy: 0.5691 - val_loss: 0.5903 - val_accuracy: 0.7245\n",
      "Epoch 2/20\n",
      "229/229 [==============================] - 1s 6ms/step - loss: 0.5045 - accuracy: 0.7741 - val_loss: 0.4517 - val_accuracy: 0.8004\n",
      "Epoch 3/20\n",
      "229/229 [==============================] - 1s 6ms/step - loss: 0.4039 - accuracy: 0.8256 - val_loss: 0.3973 - val_accuracy: 0.8289\n",
      "Epoch 4/20\n",
      "229/229 [==============================] - 1s 6ms/step - loss: 0.3574 - accuracy: 0.8503 - val_loss: 0.3823 - val_accuracy: 0.8372\n",
      "Epoch 5/20\n",
      "229/229 [==============================] - 1s 6ms/step - loss: 0.3288 - accuracy: 0.8639 - val_loss: 0.3752 - val_accuracy: 0.8405\n",
      "Epoch 6/20\n",
      "229/229 [==============================] - 1s 6ms/step - loss: 0.3068 - accuracy: 0.8750 - val_loss: 0.3805 - val_accuracy: 0.8386\n",
      "Epoch 7/20\n",
      "229/229 [==============================] - 1s 6ms/step - loss: 0.2908 - accuracy: 0.8812 - val_loss: 0.3783 - val_accuracy: 0.8432\n",
      "Epoch 8/20\n",
      "229/229 [==============================] - 1s 6ms/step - loss: 0.2755 - accuracy: 0.8893 - val_loss: 0.3778 - val_accuracy: 0.8429\n",
      "Epoch 9/20\n",
      "229/229 [==============================] - 1s 6ms/step - loss: 0.2641 - accuracy: 0.8955 - val_loss: 0.3787 - val_accuracy: 0.8425\n",
      "Epoch 10/20\n",
      "229/229 [==============================] - 1s 6ms/step - loss: 0.2524 - accuracy: 0.9011 - val_loss: 0.3911 - val_accuracy: 0.8443\n",
      "Epoch 11/20\n",
      "229/229 [==============================] - 1s 6ms/step - loss: 0.2417 - accuracy: 0.9067 - val_loss: 0.3918 - val_accuracy: 0.8448\n",
      "Epoch 12/20\n",
      "229/229 [==============================] - 1s 6ms/step - loss: 0.2327 - accuracy: 0.9109 - val_loss: 0.3956 - val_accuracy: 0.8431\n",
      "Epoch 13/20\n",
      "229/229 [==============================] - 1s 6ms/step - loss: 0.2225 - accuracy: 0.9162 - val_loss: 0.4113 - val_accuracy: 0.8422\n",
      "Epoch 14/20\n",
      "229/229 [==============================] - 1s 6ms/step - loss: 0.2156 - accuracy: 0.9198 - val_loss: 0.4128 - val_accuracy: 0.8387\n",
      "Epoch 15/20\n",
      "229/229 [==============================] - 1s 6ms/step - loss: 0.2094 - accuracy: 0.9230 - val_loss: 0.4333 - val_accuracy: 0.8387\n",
      "Epoch 16/20\n",
      "229/229 [==============================] - 1s 6ms/step - loss: 0.2014 - accuracy: 0.9264 - val_loss: 0.4292 - val_accuracy: 0.8378\n",
      "Epoch 17/20\n",
      "229/229 [==============================] - 1s 6ms/step - loss: 0.1960 - accuracy: 0.9294 - val_loss: 0.4616 - val_accuracy: 0.8392\n",
      "Epoch 18/20\n",
      "229/229 [==============================] - 1s 6ms/step - loss: 0.1882 - accuracy: 0.9331 - val_loss: 0.4550 - val_accuracy: 0.8383\n",
      "Epoch 19/20\n",
      "229/229 [==============================] - 1s 6ms/step - loss: 0.1822 - accuracy: 0.9362 - val_loss: 0.4588 - val_accuracy: 0.8342\n",
      "Epoch 20/20\n",
      "229/229 [==============================] - 1s 6ms/step - loss: 0.1760 - accuracy: 0.9385 - val_loss: 0.4671 - val_accuracy: 0.8360\n"
     ]
    }
   ],
   "source": [
    "# 콜백 설정 - 가장 좋은 모델을 저장하도록 설정\n",
    "LSTM_Word2Vec_checkpoint_cb = tf.keras.callbacks.ModelCheckpoint('LSTM_Word2Vec_best_model.keras', save_best_only=True)\n",
    "\n",
    "model_LSTM_Word2Vec.compile(optimizer='adam',\n",
    "              loss='binary_crossentropy',\n",
    "              metrics=['accuracy'])\n",
    "              \n",
    "epochs=20  # 몇 epoch를 훈련하면 좋을지 결과를 보면서 바꾸어 봅시다. \n",
    "\n",
    "# 모델 훈련\n",
    "LSTM_Word2Vec_history = model_LSTM_Word2Vec.fit(X_train,\n",
    "                    y_train,\n",
    "                    epochs=epochs,\n",
    "                    batch_size=512,\n",
    "                    validation_data=(X_val, y_val),\n",
    "                    callbacks=[LSTM_Word2Vec_checkpoint_cb],\n",
    "                    verbose=1)"
   ]
  },
  {
   "cell_type": "code",
   "execution_count": 49,
   "id": "ebcecfc7",
   "metadata": {},
   "outputs": [
    {
     "name": "stdout",
     "output_type": "stream",
     "text": [
      "1537/1537 - 3s - loss: 0.3806 - accuracy: 0.8400\n",
      "[0.380649596452713, 0.8400024175643921]\n"
     ]
    }
   ],
   "source": [
    "# 저장된 가장 좋은 모델 로드\n",
    "LSTM_Word2Vec_best_model = tf.keras.models.load_model('LSTM_Word2Vec_best_model.keras')\n",
    "\n",
    "# 테스트셋을 통한 모델 평가\n",
    "LSTM_Word2Vec_results = LSTM_Word2Vec_best_model.evaluate(X_test, y_test, verbose=2)\n",
    "\n",
    "print(LSTM_Word2Vec_results)"
   ]
  },
  {
   "cell_type": "code",
   "execution_count": 50,
   "id": "81b8e72e",
   "metadata": {},
   "outputs": [
    {
     "data": {
      "image/png": "[encoded data removed]",
      "text/plain": [
       "<Figure size 864x360 with 2 Axes>"
      ]
     },
     "metadata": {
      "needs_background": "light"
     },
     "output_type": "display_data"
    }
   ],
   "source": [
    "# LSTM_Word2Vec 모델 시각화\n",
    "plot_training_history(LSTM_Word2Vec_history)"
   ]
  },
  {
   "cell_type": "code",
   "execution_count": 51,
   "id": "44bf4799",
   "metadata": {},
   "outputs": [
    {
     "name": "stdout",
     "output_type": "stream",
     "text": [
      "Model: \"sequential_4\"\n",
      "_________________________________________________________________\n",
      "Layer (type)                 Output Shape              Param #   \n",
      "=================================================================\n",
      "embedding_4 (Embedding)      (None, 41, 100)           2000000   \n",
      "_________________________________________________________________\n",
      "bidirectional_1 (Bidirection (None, 16)                6976      \n",
      "_________________________________________________________________\n",
      "dense_8 (Dense)              (None, 8)                 136       \n",
      "_________________________________________________________________\n",
      "dense_9 (Dense)              (None, 1)                 9         \n",
      "=================================================================\n",
      "Total params: 2,007,121\n",
      "Trainable params: 2,007,121\n",
      "Non-trainable params: 0\n",
      "_________________________________________________________________\n"
     ]
    }
   ],
   "source": [
    "# 모델 설계 - Bidirectional LSTM 모델\n",
    "vocab_size = len(word_to_index)\n",
    "word_vector_dim = word_vectors.vector_size  # Word2Vec 임베딩 차원 수\n",
    "\n",
    "model_BiRNN_Word2Vec = tf.keras.Sequential()\n",
    "model_BiRNN_Word2Vec.add(tf.keras.layers.Embedding(vocab_size, \n",
    "                                 word_vector_dim, \n",
    "                                 embeddings_initializer=Constant(embedding_matrix),  # 카피한 임베딩을 여기서 활용\n",
    "                                 input_length=maxlen, \n",
    "                                 trainable=True))   # trainable을 True로 주면 Fine-tuning\n",
    "model_BiRNN_Word2Vec.add(tf.keras.layers.Bidirectional(tf.keras.layers.LSTM(8)))  # Bidirectional LSTM 레이어\n",
    "model_BiRNN_Word2Vec.add(tf.keras.layers.Dense(8, activation='relu'))\n",
    "model_BiRNN_Word2Vec.add(tf.keras.layers.Dense(1, activation='sigmoid'))  # 긍정/부정을 나타내는 1dim 출력\n",
    "\n",
    "model_BiRNN_Word2Vec.summary()"
   ]
  },
  {
   "cell_type": "code",
   "execution_count": 52,
   "id": "1816e59e",
   "metadata": {},
   "outputs": [
    {
     "name": "stdout",
     "output_type": "stream",
     "text": [
      "Epoch 1/20\n",
      "229/229 [==============================] - 5s 11ms/step - loss: 0.5562 - accuracy: 0.7038 - val_loss: 0.4488 - val_accuracy: 0.7953\n",
      "Epoch 2/20\n",
      "229/229 [==============================] - 2s 9ms/step - loss: 0.4093 - accuracy: 0.8178 - val_loss: 0.3982 - val_accuracy: 0.8262\n",
      "Epoch 3/20\n",
      "229/229 [==============================] - 2s 9ms/step - loss: 0.3578 - accuracy: 0.8457 - val_loss: 0.3799 - val_accuracy: 0.8357\n",
      "Epoch 4/20\n",
      "229/229 [==============================] - 2s 9ms/step - loss: 0.3254 - accuracy: 0.8635 - val_loss: 0.3707 - val_accuracy: 0.8424\n",
      "Epoch 5/20\n",
      "229/229 [==============================] - 2s 9ms/step - loss: 0.3004 - accuracy: 0.8760 - val_loss: 0.3667 - val_accuracy: 0.8445\n",
      "Epoch 6/20\n",
      "229/229 [==============================] - 2s 8ms/step - loss: 0.2798 - accuracy: 0.8862 - val_loss: 0.3715 - val_accuracy: 0.8451\n",
      "Epoch 7/20\n",
      "229/229 [==============================] - 2s 8ms/step - loss: 0.2628 - accuracy: 0.8938 - val_loss: 0.3755 - val_accuracy: 0.8450\n",
      "Epoch 8/20\n",
      "229/229 [==============================] - 2s 8ms/step - loss: 0.2475 - accuracy: 0.9022 - val_loss: 0.3790 - val_accuracy: 0.8460\n",
      "Epoch 9/20\n",
      "229/229 [==============================] - 2s 8ms/step - loss: 0.2345 - accuracy: 0.9091 - val_loss: 0.3865 - val_accuracy: 0.8466\n",
      "Epoch 10/20\n",
      "229/229 [==============================] - 2s 8ms/step - loss: 0.2235 - accuracy: 0.9138 - val_loss: 0.3989 - val_accuracy: 0.8438\n",
      "Epoch 11/20\n",
      "229/229 [==============================] - 2s 8ms/step - loss: 0.2106 - accuracy: 0.9196 - val_loss: 0.4034 - val_accuracy: 0.8435\n",
      "Epoch 12/20\n",
      "229/229 [==============================] - 2s 8ms/step - loss: 0.1991 - accuracy: 0.9245 - val_loss: 0.4113 - val_accuracy: 0.8412\n",
      "Epoch 13/20\n",
      "229/229 [==============================] - 2s 8ms/step - loss: 0.1900 - accuracy: 0.9296 - val_loss: 0.4257 - val_accuracy: 0.8419\n",
      "Epoch 14/20\n",
      "229/229 [==============================] - 2s 8ms/step - loss: 0.1800 - accuracy: 0.9335 - val_loss: 0.4369 - val_accuracy: 0.8406\n",
      "Epoch 15/20\n",
      "229/229 [==============================] - 2s 8ms/step - loss: 0.1709 - accuracy: 0.9380 - val_loss: 0.4485 - val_accuracy: 0.8392\n",
      "Epoch 16/20\n",
      "229/229 [==============================] - 2s 8ms/step - loss: 0.1627 - accuracy: 0.9416 - val_loss: 0.4619 - val_accuracy: 0.8385\n",
      "Epoch 17/20\n",
      "229/229 [==============================] - 2s 8ms/step - loss: 0.1554 - accuracy: 0.9445 - val_loss: 0.4771 - val_accuracy: 0.8379\n",
      "Epoch 18/20\n",
      "229/229 [==============================] - 2s 8ms/step - loss: 0.1484 - accuracy: 0.9478 - val_loss: 0.4916 - val_accuracy: 0.8351\n",
      "Epoch 19/20\n",
      "229/229 [==============================] - 2s 8ms/step - loss: 0.1405 - accuracy: 0.9516 - val_loss: 0.5008 - val_accuracy: 0.8356\n",
      "Epoch 20/20\n",
      "229/229 [==============================] - 2s 8ms/step - loss: 0.1351 - accuracy: 0.9535 - val_loss: 0.5157 - val_accuracy: 0.8328\n"
     ]
    }
   ],
   "source": [
    "# 콜백 설정 - 가장 좋은 모델을 저장하도록 설정\n",
    "BiRNN_Word2Vec_checkpoint_cb = tf.keras.callbacks.ModelCheckpoint('BiRNN_Word2Vec_best_model.keras', save_best_only=True)\n",
    "\n",
    "# 모델 컴파일\n",
    "model_BiRNN_Word2Vec.compile(optimizer='adam',\n",
    "              loss='binary_crossentropy',\n",
    "              metrics=['accuracy'])\n",
    "              \n",
    "epochs = 20  # 몇 epoch를 훈련하면 좋을지 결과를 보면서 바꾸어 봅시다.\n",
    "\n",
    "# 모델 훈련\n",
    "BiRNN_Word2Vec_history = model_BiRNN_Word2Vec.fit(X_train,\n",
    "                    y_train,\n",
    "                    epochs=epochs,\n",
    "                    batch_size=512,\n",
    "                    validation_data=(X_val, y_val),\n",
    "                    callbacks=[BiRNN_Word2Vec_checkpoint_cb],\n",
    "                    verbose=1)"
   ]
  },
  {
   "cell_type": "code",
   "execution_count": 53,
   "id": "3a6aca75",
   "metadata": {},
   "outputs": [
    {
     "name": "stdout",
     "output_type": "stream",
     "text": [
      "1537/1537 - 4s - loss: 0.3699 - accuracy: 0.8403\n",
      "[0.369869589805603, 0.8402872681617737]\n"
     ]
    }
   ],
   "source": [
    "# 저장된 가장 좋은 모델 로드\n",
    "BiRNN_Word2Vec_best_model = tf.keras.models.load_model('BiRNN_Word2Vec_best_model.keras')\n",
    "\n",
    "# Bidirectional LSTM 모델 평가\n",
    "BiRNN_Word2Vec_results = BiRNN_Word2Vec_best_model.evaluate(X_test, y_test, verbose=2)\n",
    "\n",
    "print(BiRNN_Word2Vec_results)"
   ]
  },
  {
   "cell_type": "code",
   "execution_count": 54,
   "id": "1c09b3e1",
   "metadata": {
    "scrolled": true
   },
   "outputs": [
    {
     "data": {
      "image/png": "[encoded data removed]",
      "text/plain": [
       "<Figure size 864x360 with 2 Axes>"
      ]
     },
     "metadata": {
      "needs_background": "light"
     },
     "output_type": "display_data"
    }
   ],
   "source": [
    "# Bidirectional LSTM 모델 시각화\n",
    "plot_training_history(BiRNN_Word2Vec_history)"
   ]
  },
  {
   "cell_type": "code",
   "execution_count": 91,
   "id": "3ccd7b6b",
   "metadata": {},
   "outputs": [
    {
     "name": "stdout",
     "output_type": "stream",
     "text": [
      "Model: \"sequential_14\"\n",
      "_________________________________________________________________\n",
      "Layer (type)                 Output Shape              Param #   \n",
      "=================================================================\n",
      "embedding_11 (Embedding)     (None, 41, 100)           2000000   \n",
      "_________________________________________________________________\n",
      "conv1d_12 (Conv1D)           (None, 35, 16)            11216     \n",
      "_________________________________________________________________\n",
      "dropout_19 (Dropout)         (None, 35, 16)            0         \n",
      "_________________________________________________________________\n",
      "dropout_20 (Dropout)         (None, 35, 16)            0         \n",
      "_________________________________________________________________\n",
      "max_pooling1d_6 (MaxPooling1 (None, 7, 16)             0         \n",
      "_________________________________________________________________\n",
      "conv1d_13 (Conv1D)           (None, 1, 16)             1808      \n",
      "_________________________________________________________________\n",
      "global_max_pooling1d_6 (Glob (None, 16)                0         \n",
      "_________________________________________________________________\n",
      "dense_29 (Dense)             (None, 8)                 136       \n",
      "_________________________________________________________________\n",
      "dense_30 (Dense)             (None, 1)                 9         \n",
      "=================================================================\n",
      "Total params: 2,013,169\n",
      "Trainable params: 2,013,169\n",
      "Non-trainable params: 0\n",
      "_________________________________________________________________\n"
     ]
    }
   ],
   "source": [
    "# CConv1D 모델 구성\n",
    "# Dropout 추가\n",
    "vocab_size = len(word_to_index)\n",
    "word_vector_dim = word_vectors.vector_size  # Word2Vec 임베딩 차원 수\n",
    "\n",
    "model_Conv1D_Word2Vec = tf.keras.Sequential()\n",
    "model_Conv1D_Word2Vec.add(tf.keras.layers.Embedding(vocab_size, \n",
    "                                 word_vector_dim, \n",
    "                                 embeddings_initializer=tf.keras.initializers.Constant(embedding_matrix),  # 카피한 임베딩을 여기서 활용\n",
    "                                 input_length=maxlen, \n",
    "                                 trainable=True))   # trainable을 True로 주면 Fine-tuning\n",
    "model_Conv1D_Word2Vec.add(tf.keras.layers.Conv1D(16, 7, activation='relu'))\n",
    "model_Conv1D_Word2Vec.add(tf.keras.layers.Dropout(0.5))\n",
    "model_Conv1D_Word2Vec.add(tf.keras.layers.Dropout(0.5))\n",
    "model_Conv1D_Word2Vec.add(tf.keras.layers.MaxPooling1D(5))\n",
    "model_Conv1D_Word2Vec.add(tf.keras.layers.Conv1D(16, 7, activation='relu'))\n",
    "model_Conv1D_Word2Vec.add(tf.keras.layers.GlobalMaxPooling1D())\n",
    "model_Conv1D_Word2Vec.add(tf.keras.layers.Dense(8, activation='relu'))\n",
    "model_Conv1D_Word2Vec.add(tf.keras.layers.Dense(1, activation='sigmoid'))\n",
    "\n",
    "model_Conv1D_Word2Vec.summary()\n"
   ]
  },
  {
   "cell_type": "code",
   "execution_count": 92,
   "id": "9f2d1f8e",
   "metadata": {},
   "outputs": [],
   "source": [
    "# # Conv1D 모델 구성\n",
    "# # BatchNormalization 추가\n",
    "# vocab_size = len(word_to_index)\n",
    "# word_vector_dim = word_vectors.vector_size  # Word2Vec 임베딩 차원 수\n",
    "\n",
    "# model_Conv1D_Word2Vec = tf.keras.Sequential()\n",
    "# model_Conv1D_Word2Vec.add(tf.keras.layers.Embedding(vocab_size, \n",
    "#                                  word_vector_dim, \n",
    "#                                  embeddings_initializer=tf.keras.initializers.Constant(embedding_matrix),  # 카피한 임베딩을 여기서 활용\n",
    "#                                  input_length=maxlen, \n",
    "#                                  trainable=True))   # trainable을 True로 주면 Fine-tuning\n",
    "# model_Conv1D_Word2Vec.add(tf.keras.layers.Conv1D(16, 7, activation='relu'))\n",
    "# model_Conv1D_Word2Vec.add(tf.keras.layers.BatchNormalization())\n",
    "# model_Conv1D_Word2Vec.add(tf.keras.layers.BatchNormalization())\n",
    "# model_Conv1D_Word2Vec.add(tf.keras.layers.Dropout(0.5))\n",
    "# model_Conv1D_Word2Vec.add(tf.keras.layers.Dropout(0.5))\n",
    "# model_Conv1D_Word2Vec.add(tf.keras.layers.MaxPooling1D(5))\n",
    "# model_Conv1D_Word2Vec.add(tf.keras.layers.Conv1D(16, 7, activation='relu'))\n",
    "# model_Conv1D_Word2Vec.add(tf.keras.layers.GlobalMaxPooling1D())\n",
    "# model_Conv1D_Word2Vec.add(tf.keras.layers.Dense(8, activation='relu'))\n",
    "# model_Conv1D_Word2Vec.add(tf.keras.layers.Dense(1, activation='sigmoid'))\n",
    "\n",
    "# model_Conv1D_Word2Vec.summary()"
   ]
  },
  {
   "cell_type": "code",
   "execution_count": 93,
   "id": "b1fec47e",
   "metadata": {},
   "outputs": [
    {
     "name": "stdout",
     "output_type": "stream",
     "text": [
      "Epoch 1/40\n",
      "229/229 [==============================] - 2s 6ms/step - loss: 0.7132 - accuracy: 0.5464 - val_loss: 0.6589 - val_accuracy: 0.6246\n",
      "Epoch 2/40\n",
      "229/229 [==============================] - 1s 6ms/step - loss: 0.5987 - accuracy: 0.6800 - val_loss: 0.5645 - val_accuracy: 0.7399\n",
      "Epoch 3/40\n",
      "229/229 [==============================] - 1s 6ms/step - loss: 0.5149 - accuracy: 0.7507 - val_loss: 0.5028 - val_accuracy: 0.7897\n",
      "Epoch 4/40\n",
      "229/229 [==============================] - 1s 6ms/step - loss: 0.4632 - accuracy: 0.7857 - val_loss: 0.4691 - val_accuracy: 0.8092\n",
      "Epoch 5/40\n",
      "229/229 [==============================] - 1s 6ms/step - loss: 0.4281 - accuracy: 0.8051 - val_loss: 0.4419 - val_accuracy: 0.8263\n",
      "Epoch 6/40\n",
      "229/229 [==============================] - 1s 6ms/step - loss: 0.4023 - accuracy: 0.8205 - val_loss: 0.4297 - val_accuracy: 0.8319\n",
      "Epoch 7/40\n",
      "229/229 [==============================] - 1s 6ms/step - loss: 0.3841 - accuracy: 0.8300 - val_loss: 0.4132 - val_accuracy: 0.8367\n",
      "Epoch 8/40\n",
      "229/229 [==============================] - 1s 6ms/step - loss: 0.3686 - accuracy: 0.8400 - val_loss: 0.4099 - val_accuracy: 0.8392\n",
      "Epoch 9/40\n",
      "229/229 [==============================] - 1s 6ms/step - loss: 0.3567 - accuracy: 0.8457 - val_loss: 0.3989 - val_accuracy: 0.8464\n",
      "Epoch 10/40\n",
      "229/229 [==============================] - 1s 6ms/step - loss: 0.3470 - accuracy: 0.8500 - val_loss: 0.3927 - val_accuracy: 0.8485\n",
      "Epoch 11/40\n",
      "229/229 [==============================] - 1s 6ms/step - loss: 0.3381 - accuracy: 0.8550 - val_loss: 0.3793 - val_accuracy: 0.8518\n",
      "Epoch 12/40\n",
      "229/229 [==============================] - 1s 6ms/step - loss: 0.3293 - accuracy: 0.8596 - val_loss: 0.3797 - val_accuracy: 0.8520\n",
      "Epoch 13/40\n",
      "229/229 [==============================] - 1s 6ms/step - loss: 0.3229 - accuracy: 0.8632 - val_loss: 0.3702 - val_accuracy: 0.8524\n",
      "Epoch 14/40\n",
      "229/229 [==============================] - 1s 6ms/step - loss: 0.3161 - accuracy: 0.8662 - val_loss: 0.3762 - val_accuracy: 0.8515\n",
      "Epoch 15/40\n",
      "229/229 [==============================] - 1s 6ms/step - loss: 0.3116 - accuracy: 0.8682 - val_loss: 0.3700 - val_accuracy: 0.8515\n",
      "Epoch 16/40\n",
      "229/229 [==============================] - 1s 6ms/step - loss: 0.3055 - accuracy: 0.8723 - val_loss: 0.3591 - val_accuracy: 0.8533\n",
      "Epoch 17/40\n",
      "229/229 [==============================] - 1s 6ms/step - loss: 0.3007 - accuracy: 0.8744 - val_loss: 0.3658 - val_accuracy: 0.8535\n",
      "Epoch 18/40\n",
      "229/229 [==============================] - 1s 6ms/step - loss: 0.2956 - accuracy: 0.8758 - val_loss: 0.3621 - val_accuracy: 0.8527\n",
      "Epoch 19/40\n",
      "229/229 [==============================] - 1s 6ms/step - loss: 0.2921 - accuracy: 0.8773 - val_loss: 0.3559 - val_accuracy: 0.8534\n",
      "Epoch 20/40\n",
      "229/229 [==============================] - 1s 6ms/step - loss: 0.2878 - accuracy: 0.8802 - val_loss: 0.3630 - val_accuracy: 0.8537\n",
      "Epoch 21/40\n",
      "229/229 [==============================] - 1s 6ms/step - loss: 0.2848 - accuracy: 0.8820 - val_loss: 0.3618 - val_accuracy: 0.8525\n",
      "Epoch 22/40\n",
      "229/229 [==============================] - 1s 6ms/step - loss: 0.2813 - accuracy: 0.8835 - val_loss: 0.3582 - val_accuracy: 0.8537\n",
      "Epoch 23/40\n",
      "229/229 [==============================] - 1s 6ms/step - loss: 0.2756 - accuracy: 0.8874 - val_loss: 0.3584 - val_accuracy: 0.8535\n",
      "Epoch 24/40\n",
      "229/229 [==============================] - 1s 6ms/step - loss: 0.2739 - accuracy: 0.8868 - val_loss: 0.3605 - val_accuracy: 0.8525\n",
      "Epoch 25/40\n",
      "229/229 [==============================] - 1s 6ms/step - loss: 0.2704 - accuracy: 0.8879 - val_loss: 0.3585 - val_accuracy: 0.8513\n",
      "Epoch 26/40\n",
      "229/229 [==============================] - 1s 6ms/step - loss: 0.2682 - accuracy: 0.8898 - val_loss: 0.3579 - val_accuracy: 0.8521\n",
      "Epoch 27/40\n",
      "229/229 [==============================] - 1s 6ms/step - loss: 0.2638 - accuracy: 0.8916 - val_loss: 0.3636 - val_accuracy: 0.8490\n",
      "Epoch 28/40\n",
      "229/229 [==============================] - 1s 6ms/step - loss: 0.2625 - accuracy: 0.8921 - val_loss: 0.3666 - val_accuracy: 0.8495\n",
      "Epoch 29/40\n",
      "229/229 [==============================] - 1s 6ms/step - loss: 0.2594 - accuracy: 0.8930 - val_loss: 0.3592 - val_accuracy: 0.8509\n",
      "Epoch 30/40\n",
      "229/229 [==============================] - 1s 6ms/step - loss: 0.2560 - accuracy: 0.8952 - val_loss: 0.3588 - val_accuracy: 0.8515\n",
      "Epoch 31/40\n",
      "229/229 [==============================] - 1s 6ms/step - loss: 0.2553 - accuracy: 0.8958 - val_loss: 0.3586 - val_accuracy: 0.8516\n",
      "Epoch 32/40\n",
      "229/229 [==============================] - 1s 6ms/step - loss: 0.2510 - accuracy: 0.8974 - val_loss: 0.3654 - val_accuracy: 0.8477\n",
      "Epoch 33/40\n",
      "229/229 [==============================] - 1s 6ms/step - loss: 0.2491 - accuracy: 0.8984 - val_loss: 0.3631 - val_accuracy: 0.8509\n",
      "Epoch 34/40\n",
      "229/229 [==============================] - 1s 6ms/step - loss: 0.2471 - accuracy: 0.8990 - val_loss: 0.3639 - val_accuracy: 0.8489\n",
      "Epoch 35/40\n",
      "229/229 [==============================] - 1s 6ms/step - loss: 0.2447 - accuracy: 0.8998 - val_loss: 0.3621 - val_accuracy: 0.8500\n",
      "Epoch 36/40\n",
      "229/229 [==============================] - 1s 6ms/step - loss: 0.2424 - accuracy: 0.9013 - val_loss: 0.3607 - val_accuracy: 0.8492\n",
      "Epoch 37/40\n",
      "229/229 [==============================] - 1s 6ms/step - loss: 0.2405 - accuracy: 0.9021 - val_loss: 0.3695 - val_accuracy: 0.8479\n",
      "Epoch 38/40\n",
      "229/229 [==============================] - 1s 6ms/step - loss: 0.2380 - accuracy: 0.9028 - val_loss: 0.3671 - val_accuracy: 0.8469\n",
      "Epoch 39/40\n",
      "229/229 [==============================] - 1s 5ms/step - loss: 0.2372 - accuracy: 0.9032 - val_loss: 0.3632 - val_accuracy: 0.8469\n",
      "Epoch 40/40\n",
      "229/229 [==============================] - 1s 6ms/step - loss: 0.2338 - accuracy: 0.9051 - val_loss: 0.3622 - val_accuracy: 0.8483\n"
     ]
    }
   ],
   "source": [
    "# 콜백 설정 - 가장 좋은 모델을 저장하도록 설정\n",
    "Conv1D_Word2Vec_checkpoint_cb = tf.keras.callbacks.ModelCheckpoint('Conv1D_Word2Vec_best_model.keras', save_best_only=True)\n",
    "\n",
    "# 모델 컴파일\n",
    "model_Conv1D_Word2Vec.compile(optimizer='adam',\n",
    "              loss='binary_crossentropy',\n",
    "              metrics=['accuracy'])\n",
    "              \n",
    "epochs = 40  # 몇 epoch를 훈련하면 좋을지 결과를 보면서 바꾸어 봅시다.\n",
    "\n",
    "# 모델 훈련\n",
    "Conv1D_Word2Vec_history = model_Conv1D_Word2Vec.fit(X_train,\n",
    "                    y_train,\n",
    "                    epochs=epochs,\n",
    "                    batch_size=512,\n",
    "                    validation_data=(X_val, y_val),\n",
    "                    callbacks=[Conv1D_Word2Vec_checkpoint_cb],\n",
    "                    verbose=1)"
   ]
  },
  {
   "cell_type": "code",
   "execution_count": 94,
   "id": "734c2a88",
   "metadata": {},
   "outputs": [
    {
     "name": "stdout",
     "output_type": "stream",
     "text": [
      "1537/1537 - 3s - loss: 0.3611 - accuracy: 0.8514\n",
      "[0.3610915243625641, 0.8513538241386414]\n"
     ]
    }
   ],
   "source": [
    "# 저장된 가장 좋은 모델 로드\n",
    "Conv1D_Word2Vec_best_model = tf.keras.models.load_model('Conv1D_Word2Vec_best_model.keras')\n",
    "\n",
    "# CConv1D 모델 평가\n",
    "Conv1D_Word2Vec_results = Conv1D_Word2Vec_best_model.evaluate(X_test, y_test, verbose=2)\n",
    "\n",
    "print(Conv1D_Word2Vec_results)"
   ]
  },
  {
   "cell_type": "code",
   "execution_count": 95,
   "id": "5efc5aa5",
   "metadata": {},
   "outputs": [
    {
     "data": {
      "image/png": "[encoded data removed]",
      "text/plain": [
       "<Figure size 864x360 with 2 Axes>"
      ]
     },
     "metadata": {
      "needs_background": "light"
     },
     "output_type": "display_data"
    }
   ],
   "source": [
    "# Conv1D_Word2Vec 모델 시각화\n",
    "plot_training_history(Conv1D_Word2Vec_history)"
   ]
  },
  {
   "cell_type": "markdown",
   "id": "af3e68bb",
   "metadata": {},
   "source": [
    "#### Dropout 을 추가해서 오버피팅 나오는 현상을 개선하였다!\n",
    "#### Conv1D 모델에서 accuracy: 0.8505 가 잘 나왔다! -> 0.8514 로 개선"
   ]
  },
  {
   "cell_type": "markdown",
   "id": "f0ef9567",
   "metadata": {},
   "source": [
    "### 회고"
   ]
  },
  {
   "cell_type": "markdown",
   "id": "5e0e00bc",
   "metadata": {},
   "source": [
    "1. 한국어 Word2Vec 에서 제공하는 워드 임베딩 벡터들끼리 의미적 유사도가 가까운 것을 확인 할 수 있었다.\n",
    "```\n",
    "word_vectors.wv.similar_by_word(\"사랑\")\n",
    "```\n",
    "```\n",
    "[('이별', 0.7626414895057678),\n",
    " ('행복', 0.7550068497657776),\n",
    " ('슬픔', 0.7381505966186523),\n",
    " ('유혹', 0.7238055467605591),\n",
    " ('그리움', 0.7167419195175171),\n",
    " ('추억', 0.7143999338150024),\n",
    " ('꿈', 0.7089294195175171),\n",
    " ('애정', 0.7066588997840881),\n",
    " ('포옹', 0.7034594416618347),\n",
    " ('마음', 0.6972615718841553)]\n",
    "```\n",
    "2. 모델과 하이퍼파라미터 조정을 통해 LSTM 보다 Conv1D 가 더 잘 나오는 현상도 확인 하였다.\n",
    "3. Dropout 이 오버피팅 방지효과를 다시 한번 확인 할 수 있었다.\n",
    "4. Transfomer 모델을 적용 해보고 싶었는데 시간이 부족했다.\n",
    "5. 추후 적용 해 볼 예정이다.\n"
   ]
  },
  {
   "cell_type": "markdown",
   "id": "18b71e52",
   "metadata": {},
   "source": [
    "### 리뷰 후 Transformer 모델 추가"
   ]
  },
  {
   "cell_type": "code",
   "execution_count": 60,
   "id": "68d2ac1c",
   "metadata": {},
   "outputs": [],
   "source": [
    "from tensorflow.keras.layers import Input, Embedding, MultiHeadAttention, LayerNormalization, Dense, Dropout, GlobalAveragePooling1D\n",
    "from tensorflow.keras.models import Model"
   ]
  },
  {
   "cell_type": "code",
   "execution_count": 61,
   "id": "8e910afb",
   "metadata": {},
   "outputs": [],
   "source": [
    "# Transformer Encoder Block \n",
    "# MultiHeadAttention 과 포지션-와이즈 피드포워드 네트워크로 구성\n",
    "class TransformerBlock(tf.keras.layers.Layer):\n",
    "    def __init__(self, embed_dim, num_heads, dense_dim, rate=0.1, **kwargs):\n",
    "        super(TransformerBlock, self).__init__(**kwargs)\n",
    "        self.embed_dim = embed_dim\n",
    "        self.num_heads = num_heads\n",
    "        self.dense_dim = dense_dim\n",
    "        self.rate = rate\n",
    "        \n",
    "        self.att = MultiHeadAttention(num_heads=num_heads, key_dim=embed_dim)\n",
    "        self.ffn = tf.keras.Sequential(\n",
    "            [Dense(dense_dim, activation=\"relu\"), Dense(embed_dim),]\n",
    "        )\n",
    "        self.layernorm1 = LayerNormalization(epsilon=1e-6)\n",
    "        self.layernorm2 = LayerNormalization(epsilon=1e-6)\n",
    "        self.dropout1 = Dropout(rate)\n",
    "        self.dropout2 = Dropout(rate)\n",
    "\n",
    "    def call(self, inputs, training):\n",
    "        attn_output = self.att(inputs, inputs)\n",
    "        attn_output = self.dropout1(attn_output, training=training)\n",
    "        out1 = self.layernorm1(inputs + attn_output)\n",
    "        ffn_output = self.ffn(out1)\n",
    "        ffn_output = self.dropout2(ffn_output, training=training)\n",
    "        return self.layernorm2(out1 + ffn_output)\n",
    "\n",
    "    def get_config(self):\n",
    "        # 객체를 직렬화하기 위해 필요한 구성 정보 반환\n",
    "        config = super().get_config()\n",
    "        config.update({\n",
    "            \"embed_dim\": self.embed_dim,\n",
    "            \"num_heads\": self.num_heads,\n",
    "            \"dense_dim\": self.dense_dim,\n",
    "            \"rate\": self.rate\n",
    "        })\n",
    "        return config\n"
   ]
  },
  {
   "cell_type": "code",
   "execution_count": 96,
   "id": "c56178f1",
   "metadata": {},
   "outputs": [
    {
     "name": "stdout",
     "output_type": "stream",
     "text": [
      "word_to_index의 크기: 20000\n",
      "word_vectors.vector_size: 100\n"
     ]
    }
   ],
   "source": [
    "print(f'word_to_index의 크기: {len(word_to_index)}')\n",
    "print(f'word_vectors.vector_size: {word_vectors.wv.vector_size}')"
   ]
  },
  {
   "cell_type": "code",
   "execution_count": 97,
   "id": "fc90d84f",
   "metadata": {},
   "outputs": [],
   "source": [
    "vocab_size = len(word_to_index)\n",
    "embed_dim = word_vectors.vector_size  # 임베딩 차원 수\n",
    "num_heads = 4  # Multi-head attention에서의 헤드 수\n",
    "dense_dim = 128  # Feed-forward network 은닉층 크기"
   ]
  },
  {
   "cell_type": "code",
   "execution_count": 98,
   "id": "a6a2a1dd",
   "metadata": {},
   "outputs": [
    {
     "name": "stdout",
     "output_type": "stream",
     "text": [
      "Model: \"model_1\"\n",
      "_________________________________________________________________\n",
      "Layer (type)                 Output Shape              Param #   \n",
      "=================================================================\n",
      "input_2 (InputLayer)         [(None, 41)]              0         \n",
      "_________________________________________________________________\n",
      "embedding_12 (Embedding)     (None, 41, 100)           2000000   \n",
      "_________________________________________________________________\n",
      "transformer_block_2 (Transfo (None, 41, 100)           187528    \n",
      "_________________________________________________________________\n",
      "transformer_block_3 (Transfo (None, 41, 100)           187528    \n",
      "_________________________________________________________________\n",
      "global_average_pooling1d_1 ( (None, 100)               0         \n",
      "_________________________________________________________________\n",
      "dropout_25 (Dropout)         (None, 100)               0         \n",
      "_________________________________________________________________\n",
      "dense_35 (Dense)             (None, 1)                 101       \n",
      "=================================================================\n",
      "Total params: 2,375,157\n",
      "Trainable params: 2,375,157\n",
      "Non-trainable params: 0\n",
      "_________________________________________________________________\n"
     ]
    }
   ],
   "source": [
    "inputs = Input(shape=(maxlen,))\n",
    "embedding_layer = Embedding(vocab_size, embed_dim, \n",
    "                            embeddings_initializer=Constant(embedding_matrix), \n",
    "                            input_length=maxlen, trainable=True)\n",
    "x = embedding_layer(inputs)\n",
    "\n",
    "transformer_block = TransformerBlock(embed_dim, num_heads, dense_dim)\n",
    "x = transformer_block(x)\n",
    "x = TransformerBlock(embed_dim, num_heads, dense_dim)(x)\n",
    "x = GlobalAveragePooling1D()(x)\n",
    "x = Dropout(0.3)(x)  # Dropout 비율\n",
    "output = Dense(1, activation=\"sigmoid\")(x)\n",
    "\n",
    "model_Transformer_Word2Vec = Model(inputs=inputs, outputs=output)\n",
    "\n",
    "model_Transformer_Word2Vec.summary()"
   ]
  },
  {
   "cell_type": "code",
   "execution_count": 99,
   "id": "251cf2c0",
   "metadata": {},
   "outputs": [
    {
     "name": "stdout",
     "output_type": "stream",
     "text": [
      "Epoch 1/50\n",
      "914/914 [==============================] - 20s 20ms/step - loss: 0.5478 - accuracy: 0.7199 - val_loss: 0.4548 - val_accuracy: 0.7825\n",
      "Epoch 2/50\n",
      "914/914 [==============================] - 18s 19ms/step - loss: 0.4311 - accuracy: 0.7984 - val_loss: 0.4041 - val_accuracy: 0.8127\n",
      "Epoch 3/50\n",
      "914/914 [==============================] - 18s 19ms/step - loss: 0.3906 - accuracy: 0.8220 - val_loss: 0.3840 - val_accuracy: 0.8249\n",
      "Epoch 4/50\n",
      "914/914 [==============================] - 17s 19ms/step - loss: 0.3671 - accuracy: 0.8355 - val_loss: 0.3734 - val_accuracy: 0.8312\n",
      "Epoch 5/50\n",
      "914/914 [==============================] - 17s 19ms/step - loss: 0.3508 - accuracy: 0.8435 - val_loss: 0.3725 - val_accuracy: 0.8323\n",
      "Epoch 6/50\n",
      "914/914 [==============================] - 17s 19ms/step - loss: 0.3359 - accuracy: 0.8518 - val_loss: 0.3613 - val_accuracy: 0.8392\n",
      "Epoch 7/50\n",
      "914/914 [==============================] - 17s 19ms/step - loss: 0.3247 - accuracy: 0.8586 - val_loss: 0.3686 - val_accuracy: 0.8388\n",
      "Epoch 8/50\n",
      "914/914 [==============================] - 17s 19ms/step - loss: 0.3142 - accuracy: 0.8644 - val_loss: 0.3699 - val_accuracy: 0.8421\n",
      "Epoch 9/50\n",
      "914/914 [==============================] - 17s 19ms/step - loss: 0.3040 - accuracy: 0.8692 - val_loss: 0.3677 - val_accuracy: 0.8416\n",
      "Epoch 10/50\n",
      "914/914 [==============================] - 17s 19ms/step - loss: 0.2938 - accuracy: 0.8745 - val_loss: 0.3723 - val_accuracy: 0.8376\n",
      "Epoch 11/50\n",
      "914/914 [==============================] - 17s 19ms/step - loss: 0.2857 - accuracy: 0.8779 - val_loss: 0.3757 - val_accuracy: 0.8392\n",
      "Epoch 12/50\n",
      "914/914 [==============================] - 17s 19ms/step - loss: 0.2777 - accuracy: 0.8826 - val_loss: 0.3667 - val_accuracy: 0.8427\n",
      "Epoch 13/50\n",
      "914/914 [==============================] - 17s 19ms/step - loss: 0.2693 - accuracy: 0.8867 - val_loss: 0.3841 - val_accuracy: 0.8444\n",
      "Epoch 14/50\n",
      "914/914 [==============================] - 17s 19ms/step - loss: 0.2614 - accuracy: 0.8912 - val_loss: 0.3853 - val_accuracy: 0.8415\n"
     ]
    }
   ],
   "source": [
    "# 콜백 설정 - 가장 좋은 모델을 저장하도록 설정\n",
    "Transformer_Word2Vec_checkpoint_cb = tf.keras.callbacks.ModelCheckpoint('Transformer_Word2Vec.keras', save_best_only=True)\n",
    "\n",
    "# 모델 컴파일\n",
    "lr_schedule = tf.keras.optimizers.schedules.ExponentialDecay(initial_learning_rate=1e-4, \n",
    "                                                             decay_steps=10000, decay_rate=0.9)  # 초기 학습률 감소\n",
    "model_Transformer_Word2Vec.compile(optimizer=tf.keras.optimizers.Adam(learning_rate=lr_schedule),\n",
    "              loss='binary_crossentropy',\n",
    "              metrics=['accuracy'])\n",
    "              \n",
    "# 모델 훈련\n",
    "epochs = 50\n",
    "Transformer_Word2Vec_history = model_Transformer_Word2Vec.fit(X_train,\n",
    "                    y_train,\n",
    "                    epochs=epochs,\n",
    "                    batch_size=128,  # 배치 크기 감소\n",
    "                    validation_data=(X_val, y_val),\n",
    "                    callbacks=[Transformer_Word2Vec_checkpoint_cb, tf.keras.callbacks.EarlyStopping(patience=8, restore_best_weights=True)],\n",
    "                    verbose=1)"
   ]
  },
  {
   "cell_type": "code",
   "execution_count": 100,
   "id": "3afaa4a5",
   "metadata": {},
   "outputs": [
    {
     "name": "stdout",
     "output_type": "stream",
     "text": [
      "1537/1537 - 6s - loss: 0.3667 - accuracy: 0.8369\n",
      "[0.36672329902648926, 0.8369103074073792]\n"
     ]
    }
   ],
   "source": [
    "# 저장된 가장 좋은 모델 로드\n",
    "Transformer_Word2Vec_best_model = tf.keras.models.load_model('Transformer_Word2Vec.keras', \n",
    "                                                             custom_objects={'TransformerBlock': TransformerBlock})\n",
    "\n",
    "# Transformer 모델 평가\n",
    "Transformer_Word2Vec_results = Transformer_Word2Vec_best_model.evaluate(X_test, y_test, verbose=2)\n",
    "\n",
    "print(Transformer_Word2Vec_results)"
   ]
  },
  {
   "cell_type": "code",
   "execution_count": 101,
   "id": "f768b3d0",
   "metadata": {},
   "outputs": [
    {
     "data": {
      "image/png": "[encoded data removed]",
      "text/plain": [
       "<Figure size 864x360 with 2 Axes>"
      ]
     },
     "metadata": {
      "needs_background": "light"
     },
     "output_type": "display_data"
    }
   ],
   "source": [
    "# Transformer 모델 시각화\n",
    "plot_training_history(Transformer_Word2Vec_history)"
   ]
  },
  {
   "cell_type": "markdown",
   "id": "aa448346",
   "metadata": {},
   "source": [
    "### 음 생각보다 accuracy 가 좋진 않다...."
   ]
  },
  {
   "cell_type": "code",
   "execution_count": null,
   "id": "722ea010",
   "metadata": {},
   "outputs": [],
   "source": []
  }
 ],
 "metadata": {
  "kernelspec": {
   "display_name": "Python 3 (ipykernel)",
   "language": "python",
   "name": "python3"
  },
  "language_info": {
   "codemirror_mode": {
    "name": "ipython",
    "version": 3
   },
   "file_extension": ".py",
   "mimetype": "text/x-python",
   "name": "python",
   "nbconvert_exporter": "python",
   "pygments_lexer": "ipython3",
   "version": "3.9.7"
  }
 },
 "nbformat": 4,
 "nbformat_minor": 5
}
