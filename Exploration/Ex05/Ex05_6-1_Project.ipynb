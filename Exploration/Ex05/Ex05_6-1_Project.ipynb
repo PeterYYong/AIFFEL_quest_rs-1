{
 "cells": [
  {
   "cell_type": "markdown",
   "id": "339c1a39",
   "metadata": {},
   "source": [
    "# 6-1. 프로젝트 : 네이버 영화리뷰 감성분석 도전하기\n",
    "\n",
    "이전 스텝까지는 영문 텍스트의 감정 분석을 진행해 보았습니다. 그렇다면 이번에는 한국어 텍스트의 감정 분석을 진행해 보면 어떨까요? 오늘 활용할 데이터셋은 네이버 영화의 댓글을 모아 구성된 Naver sentiment movie corpus입니다.\n",
    "\n",
    "https://github.com/e9t/nsmc\n",
    "\n",
    "데이터 다운로드 없이 Cloud shell에서 해당 파일의 심볼릭 링크를 연결해 주세요\n",
    "\n",
    "```\n",
    "$ ln -s ~/data/*.txt ~/aiffel/sentiment_classification/data\n",
    "```"
   ]
  },
  {
   "cell_type": "markdown",
   "id": "9c287d15",
   "metadata": {},
   "source": [
    "라이브러리 버전을 확인해 봅니다\n",
    "\n",
    "---\n",
    "\n",
    "사용할 라이브러리 버전을 둘러봅시다."
   ]
  },
  {
   "cell_type": "code",
   "execution_count": 1,
   "id": "e826886b",
   "metadata": {},
   "outputs": [
    {
     "name": "stdout",
     "output_type": "stream",
     "text": [
      "1.3.3\n",
      "0.5.2\n",
      "4.1.2\n"
     ]
    }
   ],
   "source": [
    "import pandas\n",
    "import konlpy\n",
    "import gensim\n",
    "\n",
    "print(pandas.__version__)\n",
    "print(konlpy.__version__)\n",
    "print(gensim.__version__)"
   ]
  },
  {
   "cell_type": "markdown",
   "id": "6a9cb786",
   "metadata": {},
   "source": [
    "1) 데이터 준비와 확인"
   ]
  },
  {
   "cell_type": "code",
   "execution_count": 2,
   "id": "895983ee",
   "metadata": {},
   "outputs": [
    {
     "data": {
      "text/html": [
       "<div>\n",
       "<style scoped>\n",
       "    .dataframe tbody tr th:only-of-type {\n",
       "        vertical-align: middle;\n",
       "    }\n",
       "\n",
       "    .dataframe tbody tr th {\n",
       "        vertical-align: top;\n",
       "    }\n",
       "\n",
       "    .dataframe thead th {\n",
       "        text-align: right;\n",
       "    }\n",
       "</style>\n",
       "<table border=\"1\" class=\"dataframe\">\n",
       "  <thead>\n",
       "    <tr style=\"text-align: right;\">\n",
       "      <th></th>\n",
       "      <th>id</th>\n",
       "      <th>document</th>\n",
       "      <th>label</th>\n",
       "    </tr>\n",
       "  </thead>\n",
       "  <tbody>\n",
       "    <tr>\n",
       "      <th>0</th>\n",
       "      <td>9976970</td>\n",
       "      <td>아 더빙.. 진짜 짜증나네요 목소리</td>\n",
       "      <td>0</td>\n",
       "    </tr>\n",
       "    <tr>\n",
       "      <th>1</th>\n",
       "      <td>3819312</td>\n",
       "      <td>흠...포스터보고 초딩영화줄....오버연기조차 가볍지 않구나</td>\n",
       "      <td>1</td>\n",
       "    </tr>\n",
       "    <tr>\n",
       "      <th>2</th>\n",
       "      <td>10265843</td>\n",
       "      <td>너무재밓었다그래서보는것을추천한다</td>\n",
       "      <td>0</td>\n",
       "    </tr>\n",
       "    <tr>\n",
       "      <th>3</th>\n",
       "      <td>9045019</td>\n",
       "      <td>교도소 이야기구먼 ..솔직히 재미는 없다..평점 조정</td>\n",
       "      <td>0</td>\n",
       "    </tr>\n",
       "    <tr>\n",
       "      <th>4</th>\n",
       "      <td>6483659</td>\n",
       "      <td>사이몬페그의 익살스런 연기가 돋보였던 영화!스파이더맨에서 늙어보이기만 했던 커스틴 ...</td>\n",
       "      <td>1</td>\n",
       "    </tr>\n",
       "  </tbody>\n",
       "</table>\n",
       "</div>"
      ],
      "text/plain": [
       "         id                                           document  label\n",
       "0   9976970                                아 더빙.. 진짜 짜증나네요 목소리      0\n",
       "1   3819312                  흠...포스터보고 초딩영화줄....오버연기조차 가볍지 않구나      1\n",
       "2  10265843                                  너무재밓었다그래서보는것을추천한다      0\n",
       "3   9045019                      교도소 이야기구먼 ..솔직히 재미는 없다..평점 조정      0\n",
       "4   6483659  사이몬페그의 익살스런 연기가 돋보였던 영화!스파이더맨에서 늙어보이기만 했던 커스틴 ...      1"
      ]
     },
     "execution_count": 2,
     "metadata": {},
     "output_type": "execute_result"
    }
   ],
   "source": [
    "import pandas as pd\n",
    "\n",
    "# 데이터를 읽어봅시다. \n",
    "train_data = pd.read_table('~/aiffel/sentiment_classification/data/ratings_train.txt')\n",
    "test_data = pd.read_table('~/aiffel/sentiment_classification/data/ratings_test.txt')\n",
    "\n",
    "train_data.head()"
   ]
  },
  {
   "cell_type": "markdown",
   "id": "0ada14c6",
   "metadata": {},
   "source": [
    "2) 데이터로더 구성\n",
    "---\n",
    "실습 때 다루었던 IMDB 데이터셋은 텍스트를 가공하여 imdb.data_loader() 메서드를 호출하면 숫자 인덱스로 변환된 텍스트와 word_to_index 딕셔너리까지 친절하게 제공합니다. 그러나 이번에 다루게 될 nsmc 데이터셋은 전혀 가공되지 않은 텍스트 파일로 이루어져 있습니다. 이것을 읽어서 imdb.data_loader()와 동일하게 동작하는 자신만의 data_loader를 만들어 보는 것으로 시작합니다. data_loader 안에서는 다음을 수행해야 합니다.\n",
    "\n",
    "- 데이터의 중복 제거\n",
    "- NaN 결측치 제거\n",
    "- 한국어 토크나이저로 토큰화\n",
    "- 불용어(Stopwords) 제거\n",
    "- 사전word_to_index 구성\n",
    "- 텍스트 스트링을 사전 인덱스 스트링으로 변환\n",
    "- X_train, y_train, X_test, y_test, word_to_index 리턴"
   ]
  },
  {
   "cell_type": "code",
   "execution_count": 3,
   "id": "ad8d3b6c",
   "metadata": {},
   "outputs": [],
   "source": [
    "import numpy as np\n",
    "import tensorflow as tf\n",
    "import os"
   ]
  },
  {
   "cell_type": "code",
   "execution_count": 4,
   "id": "37e48726",
   "metadata": {},
   "outputs": [],
   "source": [
    "from konlpy.tag import Mecab\n",
    "import numpy as np\n",
    "from collections import Counter"
   ]
  },
  {
   "cell_type": "code",
   "execution_count": 5,
   "id": "0b255ce6",
   "metadata": {},
   "outputs": [],
   "source": [
    "# Mecab 토크나이저와 불용어 정의\n",
    "tokenizer = Mecab()\n",
    "stopwords = ['의','가','이','은','들','는','좀','잘','걍','과','도','를','으로','자','에','와','한','하다']"
   ]
  },
  {
   "cell_type": "code",
   "execution_count": 6,
   "id": "8093a731",
   "metadata": {},
   "outputs": [],
   "source": [
    "def load_data(train_data, test_data, num_words=10000):\n",
    "    # 데이터 중복 제거 및 결측치 제거\n",
    "    train_data.drop_duplicates(subset=['document'], inplace=True)  # 훈련 데이터의 중복된 텍스트 제거\n",
    "    train_data = train_data.dropna(how='any')  # 훈련 데이터의 결측치 제거\n",
    "    test_data.drop_duplicates(subset=['document'], inplace=True)  # 테스트 데이터의 중복된 텍스트 제거\n",
    "    test_data = test_data.dropna(how='any')  # 테스트 데이터의 결측치 제거\n",
    "    \n",
    "    # 훈련 데이터 토큰화 및 불용어 제거\n",
    "    X_train = []\n",
    "    for sentence in train_data['document']:\n",
    "        temp_X = tokenizer.morphs(sentence)  # 텍스트를 형태소 단위로 토큰화\n",
    "        temp_X = [word for word in temp_X if not word in stopwords]  # 불용어 제거\n",
    "        X_train.append(temp_X)\n",
    "    \n",
    "    # 테스트 데이터 토큰화 및 불용어 제거\n",
    "    X_test = []\n",
    "    for sentence in test_data['document']:\n",
    "        temp_X = tokenizer.morphs(sentence)  # 텍스트를 형태소 단위로 토큰화\n",
    "        temp_X = [word for word in temp_X if not word in stopwords]  # 불용어 제거\n",
    "        X_test.append(temp_X)\n",
    "    \n",
    "    # 단어 빈도수 계산 및 어휘 사전 생성\n",
    "    words = np.concatenate(X_train).tolist()  # 훈련 데이터의 모든 단어를 하나의 리스트로 결합\n",
    "    counter = Counter(words)  # 단어의 빈도수를 계산\n",
    "    counter = counter.most_common(num_words - 4)  # 상위 (num_words - 4)개의 단어 추출\n",
    "    # vocab = ['', '', '', ''] + [key for key, _ in counter]  # 어휘 사전 생성 (앞의 4개는 특수 토큰)\n",
    "    vocab = ['<PAD>', '<BOS>', '<UNK>', '<UNUSED>'] + [key for key, _ in counter]  # 어휘 사전 생성 (앞의 4개는 특수 토큰)\n",
    "    word_to_index = {word: index for index, word in enumerate(vocab)}  # 단어를 인덱스로 매핑\n",
    "    \n",
    "    # 단어 리스트를 인덱스 리스트로 변환하는 함수 정의\n",
    "    def wordlist_to_indexlist(wordlist):\n",
    "        # '<PAD>', '<BOS>', '<UNK>', '<UNUSED>' 특수 토큰 정의\n",
    "        return [word_to_index[word] if word in word_to_index else word_to_index['<UNK>'] for word in wordlist]\n",
    "    \n",
    "    # 훈련 및 테스트 데이터를 인덱스 형태로 변환\n",
    "    X_train = list(map(wordlist_to_indexlist, X_train))\n",
    "    X_test = list(map(wordlist_to_indexlist, X_test))\n",
    "    \n",
    "    return X_train, np.array(list(train_data['label'])), X_test, np.array(list(test_data['label'])), word_to_index"
   ]
  },
  {
   "cell_type": "code",
   "execution_count": 7,
   "id": "6986e188",
   "metadata": {},
   "outputs": [],
   "source": [
    "# 데이터 로더 호출\n",
    "X_train, y_train, X_test, y_test, word_to_index = load_data(train_data, test_data)"
   ]
  },
  {
   "cell_type": "code",
   "execution_count": 8,
   "id": "6cf067d9",
   "metadata": {},
   "outputs": [],
   "source": [
    "index_to_word = {index:word for word, index in word_to_index.items()}"
   ]
  },
  {
   "cell_type": "code",
   "execution_count": 9,
   "id": "40b5d187",
   "metadata": {},
   "outputs": [],
   "source": [
    "# 문장 1개를 활용할 딕셔너리와 함께 주면, 단어 인덱스 리스트 벡터로 변환해 주는 함수입니다. \n",
    "# 단, 모든 문장은 <BOS>로 시작하는 것으로 합니다. \n",
    "def get_encoded_sentence(sentence, word_to_index):\n",
    "    return [word_to_index['<BOS>']]+[word_to_index[word] if word in word_to_index else word_to_index['<UNK>'] for word in sentence.split()]\n",
    "\n",
    "# 여러 개의 문장 리스트를 한꺼번에 단어 인덱스 리스트 벡터로 encode해 주는 함수입니다. \n",
    "def get_encoded_sentences(sentences, word_to_index):\n",
    "    return [get_encoded_sentence(sentence, word_to_index) for sentence in sentences]\n",
    "\n",
    "# 숫자 벡터로 encode된 문장을 원래대로 decode하는 함수입니다. \n",
    "def get_decoded_sentence(encoded_sentence, index_to_word):\n",
    "    return ' '.join(index_to_word[index] if index in index_to_word else '<UNK>' for index in encoded_sentence[1:])  #[1:]를 통해 <BOS>를 제외\n",
    "\n",
    "# 여러 개의 숫자 벡터로 encode된 문장을 한꺼번에 원래대로 decode하는 함수입니다. \n",
    "def get_decoded_sentences(encoded_sentences, index_to_word):\n",
    "    return [get_decoded_sentence(encoded_sentence, index_to_word) for encoded_sentence in encoded_sentences]"
   ]
  },
  {
   "cell_type": "markdown",
   "id": "db0ad261",
   "metadata": {},
   "source": [
    "## 3) 모델 구성을 위한 데이터 분석 및 가공\n",
    "---\n",
    "- 데이터셋 내 문장 길이 분포\n",
    "- 적절한 최대 문장 길이 지정\n",
    "- keras.preprocessing.sequence.pad_sequences 을 활용한 패딩 추가"
   ]
  },
  {
   "cell_type": "code",
   "execution_count": 10,
   "id": "53828d56",
   "metadata": {},
   "outputs": [
    {
     "name": "stdout",
     "output_type": "stream",
     "text": [
      "문장길이 평균 :  15.96940191154864\n",
      "문장길이 최대 :  116\n",
      "문장길이 표준편차 :  12.843571191092\n",
      "pad_sequences maxlen :  41\n",
      "전체 문장의 0.9342988343341575%가 maxlen 설정값 이내에 포함됩니다. \n"
     ]
    }
   ],
   "source": [
    "total_data_text = list(X_train) + list(X_test)\n",
    "\n",
    "# 텍스트데이터 문장길이의 리스트를 생성한 후\n",
    "num_tokens = [len(tokens) for tokens in total_data_text]\n",
    "num_tokens = np.array(num_tokens)\n",
    "\n",
    "# 문장길이의 평균값, 최대값, 표준편차를 계산해 본다. \n",
    "print('문장길이 평균 : ', np.mean(num_tokens))\n",
    "print('문장길이 최대 : ', np.max(num_tokens))\n",
    "print('문장길이 표준편차 : ', np.std(num_tokens))\n",
    "\n",
    "# 예를들어, 최대 길이를 (평균 + 2*표준편차)로 한다면,  \n",
    "max_tokens = np.mean(num_tokens) + 2 * np.std(num_tokens)\n",
    "maxlen = int(max_tokens)\n",
    "print('pad_sequences maxlen : ', maxlen)\n",
    "print(f'전체 문장의 {np.sum(num_tokens < max_tokens) / len(num_tokens)}%가 maxlen 설정값 이내에 포함됩니다. ')"
   ]
  },
  {
   "cell_type": "markdown",
   "id": "538d12f1",
   "metadata": {},
   "source": [
    "#### maxlen=41 로 설정 됨"
   ]
  },
  {
   "cell_type": "markdown",
   "id": "b2099861",
   "metadata": {},
   "source": [
    "###  padding 방식을 문장 뒤쪽('post')과 앞쪽('pre') 중 어느 쪽 ? : pre 사용\n",
    "RNN은 입력데이터가 순차적으로 처리되어, 가장 마지막 입력이 최종 state 값에 가장 영향을 많이 미치게 됩니다.\n",
    "그러므로 마지막 입력이 무의미한 padding으로 채워지는 것은 비효율적입니다.\n",
    "따라서 'pre'가 훨씬 유리하며, 10% 이상의 테스트 성능 차이를 보이게 됩니다."
   ]
  },
  {
   "cell_type": "markdown",
   "id": "86ed7ec3",
   "metadata": {},
   "source": [
    "### 현 모델들에서 실험 결과 post 와 pre 가 큰 차이가 나지 않아 post 를 사용하였음"
   ]
  },
  {
   "cell_type": "code",
   "execution_count": 11,
   "id": "d850909a",
   "metadata": {},
   "outputs": [
    {
     "name": "stdout",
     "output_type": "stream",
     "text": [
      "(146182, 41)\n"
     ]
    }
   ],
   "source": [
    "X_train = tf.keras.preprocessing.sequence.pad_sequences(X_train,\n",
    "                                                        value=word_to_index[\"<PAD>\"],\n",
    "                                                        padding='post', # 혹은 'pre'\n",
    "                                                        maxlen=maxlen)\n",
    "\n",
    "X_test = tf.keras.preprocessing.sequence.pad_sequences(X_test,\n",
    "                                                       value=word_to_index[\"<PAD>\"],\n",
    "                                                       padding='post', # 혹은 'pre'\n",
    "                                                       maxlen=maxlen)\n",
    "\n",
    "print(X_train.shape)"
   ]
  },
  {
   "cell_type": "code",
   "execution_count": 12,
   "id": "e1a35c5e",
   "metadata": {},
   "outputs": [
    {
     "name": "stdout",
     "output_type": "stream",
     "text": [
      "<PAD>\n",
      "<BOS>\n",
      "<UNK>\n",
      "<UNUSED>\n",
      "5\n",
      "영화\n"
     ]
    }
   ],
   "source": [
    "print(index_to_word[0])     # '<PAD>' 가 출력됩니다. \n",
    "print(index_to_word[1])     # '<BOS>' 가 출력됩니다. \n",
    "print(index_to_word[2])     # '<BOS>' 가 출력됩니다. \n",
    "print(index_to_word[3])     # '<BOS>' 가 출력됩니다. \n",
    "print(word_to_index['영화'])\n",
    "print(index_to_word[5])"
   ]
  },
  {
   "cell_type": "code",
   "execution_count": 13,
   "id": "ae6c1584",
   "metadata": {},
   "outputs": [
    {
     "name": "stdout",
     "output_type": "stream",
     "text": [
      "더 빙 . . 진짜 짜증 나 네요 목소리 <PAD> <PAD> <PAD> <PAD> <PAD> <PAD> <PAD> <PAD> <PAD> <PAD> <PAD> <PAD> <PAD> <PAD> <PAD> <PAD> <PAD> <PAD> <PAD> <PAD> <PAD> <PAD> <PAD> <PAD> <PAD> <PAD> <PAD> <PAD> <PAD> <PAD> <PAD>\n",
      "라벨:  0\n"
     ]
    }
   ],
   "source": [
    "print(get_decoded_sentence(X_train[0], index_to_word))\n",
    "print('라벨: ', y_train[0])  # 1번째 리뷰데이터의 라벨"
   ]
  },
  {
   "cell_type": "markdown",
   "id": "17116343",
   "metadata": {},
   "source": [
    "## 4) 모델 구성 및 validation set 구성\n",
    "---\n",
    "모델은 3가지 이상 다양하게 구성하여 실험해 보세요."
   ]
  },
  {
   "cell_type": "code",
   "execution_count": 14,
   "id": "23ec1f1a",
   "metadata": {},
   "outputs": [],
   "source": [
    "# 훈련 데이터셋 분리\n",
    "from sklearn.model_selection import train_test_split"
   ]
  },
  {
   "cell_type": "code",
   "execution_count": 15,
   "id": "1014c8a4",
   "metadata": {},
   "outputs": [],
   "source": [
    "X_train, X_val, y_train, y_val = train_test_split(X_train, y_train, test_size=0.2, random_state=42)"
   ]
  },
  {
   "cell_type": "code",
   "execution_count": 16,
   "id": "4d95db78",
   "metadata": {},
   "outputs": [
    {
     "name": "stdout",
     "output_type": "stream",
     "text": [
      "Train data 크기: 116945, Val data 크기: 29237\n"
     ]
    }
   ],
   "source": [
    "print(f'Train data 크기: {len(X_train)}, Val data 크기: {len(X_val)}')"
   ]
  },
  {
   "cell_type": "markdown",
   "id": "3b19e5a4",
   "metadata": {},
   "source": [
    "## 5) 모델 훈련 개시\n",
    "---\n"
   ]
  },
  {
   "cell_type": "markdown",
   "id": "d220831c",
   "metadata": {},
   "source": [
    "### 1. LSTM\n",
    "```\n",
    "model_LSTM = tf.keras.Sequential()\n",
    "model_LSTM.add(tf.keras.layers.Embedding(vocab_size, word_vector_dim, input_shape=(None,)))\n",
    "model_LSTM.add(tf.keras.layers.LSTM(8))\n",
    "model_LSTM.add(tf.keras.layers.Dense(8, activation='relu'))\n",
    "model_LSTM.add(tf.keras.layers.Dense(1, activation='sigmoid'))\n",
    "```\n",
    "\n",
    "1. Embedding Layer\n",
    "    - 입력 차원 (input_dim): vocab_size = 10000\n",
    "        - 어휘 사전의 크기, 즉 모델이 처리할 수 있는 단어의 총 개수를 나타냅니다.\n",
    "    - 출력 차원 (output_dim): word_vector_dim = 300\n",
    "        - 각 단어를 300차원의 벡터로 표현합니다.\n",
    "    - 입력 형태 (input_shape): (None,)\n",
    "        - 입력되는 문장의 길이는 가변적입니다. 문장은 단어 인덱스의 시퀀스로 표현됩니다.\n",
    "  \n",
    "  \n",
    "2. LSTM Layer\n",
    "    - 유닛 수: 8\n",
    "        - LSTM 레이어의 은닉 상태 벡터의 크기입니다. 이 수치는 LSTM이 정보를 압축하는 정도를 나타내며, 레이어의 표현력과 복잡성을 결정합니다.\n",
    "        - 이 레이어는 순차적인 데이터를 처리하며, 앞서 학습한 단어 벡터들을 시계열 형태로 받아들이고 문맥을 이해할 수 있는 정보를 추출합니다.\n",
    "  \n",
    "  \n",
    "3. Dense Layer (Hidden Layer)\n",
    "    - 유닛 수: 8\n",
    "    - 활성화 함수 (activation): 'relu'\n",
    "        - 은닉층에 ReLU 활성화 함수를 사용하여 비선형성을 도입합니다. 이 레이어는 추출된 특성을 가공하여 최종 출력 이전에 더 높은 표현력을 갖게 합니다.\n",
    "  \n",
    "  \n",
    "4. Dense Layer (Output Layer)\n",
    "    - 유닛 수: 1\n",
    "        - 출력이 하나인 이유는 감정이 긍정인지 부정인지 이진 분류 문제이기 때문입니다.\n",
    "    - 활성화 함수 (activation): 'sigmoid'\n",
    "        - sigmoid 활성화 함수를 사용하여 0과 1 사이의 값을 출력하도록 합니다. 이 값은 문장이 긍정일 확률을 나타냅니다.\n"
   ]
  },
  {
   "cell_type": "code",
   "execution_count": 17,
   "id": "0fdaf90b",
   "metadata": {},
   "outputs": [
    {
     "name": "stdout",
     "output_type": "stream",
     "text": [
      "Model: \"sequential\"\n",
      "_________________________________________________________________\n",
      "Layer (type)                 Output Shape              Param #   \n",
      "=================================================================\n",
      "embedding (Embedding)        (None, None, 100)         1000000   \n",
      "_________________________________________________________________\n",
      "lstm (LSTM)                  (None, 8)                 3488      \n",
      "_________________________________________________________________\n",
      "dense (Dense)                (None, 8)                 72        \n",
      "_________________________________________________________________\n",
      "dense_1 (Dense)              (None, 1)                 9         \n",
      "=================================================================\n",
      "Total params: 1,003,569\n",
      "Trainable params: 1,003,569\n",
      "Non-trainable params: 0\n",
      "_________________________________________________________________\n"
     ]
    }
   ],
   "source": [
    "vocab_size = 10000    # 어휘 사전의 크기입니다(10,000개의 단어)\n",
    "word_vector_dim = 100  # 워드 벡터의 차원 수 (변경 가능한 하이퍼파라미터)\n",
    "\n",
    "# LSTM model 설계\n",
    "model_LSTM = tf.keras.Sequential()\n",
    "model_LSTM.add(tf.keras.layers.Embedding(vocab_size, word_vector_dim, input_shape=(None,)))\n",
    "model_LSTM.add(tf.keras.layers.LSTM(8))   # 가장 널리 쓰이는 RNN인 LSTM 레이어를 사용하였습니다. 이때 LSTM state 벡터의 차원수는 8로 하였습니다. (변경 가능)\n",
    "model_LSTM.add(tf.keras.layers.Dense(8, activation='relu'))\n",
    "model_LSTM.add(tf.keras.layers.Dense(1, activation='sigmoid'))  # 최종 출력은 긍정/부정을 나타내는 1dim 입니다.\n",
    "\n",
    "model_LSTM.summary()"
   ]
  },
  {
   "cell_type": "code",
   "execution_count": 18,
   "id": "e5cca2f8",
   "metadata": {},
   "outputs": [
    {
     "name": "stdout",
     "output_type": "stream",
     "text": [
      "Epoch 1/20\n",
      "229/229 [==============================] - 5s 8ms/step - loss: 0.5576 - accuracy: 0.6884 - val_loss: 0.3813 - val_accuracy: 0.8411\n",
      "Epoch 2/20\n",
      "229/229 [==============================] - 1s 6ms/step - loss: 0.3462 - accuracy: 0.8556 - val_loss: 0.3509 - val_accuracy: 0.8442\n",
      "Epoch 3/20\n",
      "229/229 [==============================] - 1s 6ms/step - loss: 0.3090 - accuracy: 0.8708 - val_loss: 0.3440 - val_accuracy: 0.8504\n",
      "Epoch 4/20\n",
      "229/229 [==============================] - 1s 6ms/step - loss: 0.2890 - accuracy: 0.8772 - val_loss: 0.3533 - val_accuracy: 0.8506\n",
      "Epoch 5/20\n",
      "229/229 [==============================] - 1s 6ms/step - loss: 0.2714 - accuracy: 0.8840 - val_loss: 0.3536 - val_accuracy: 0.8514\n",
      "Epoch 6/20\n",
      "229/229 [==============================] - 1s 6ms/step - loss: 0.2526 - accuracy: 0.8910 - val_loss: 0.3689 - val_accuracy: 0.8473\n",
      "Epoch 7/20\n",
      "229/229 [==============================] - 1s 6ms/step - loss: 0.2347 - accuracy: 0.8982 - val_loss: 0.3867 - val_accuracy: 0.8522\n",
      "Epoch 8/20\n",
      "229/229 [==============================] - 1s 6ms/step - loss: 0.2181 - accuracy: 0.9069 - val_loss: 0.3979 - val_accuracy: 0.8509\n",
      "Epoch 9/20\n",
      "229/229 [==============================] - 1s 6ms/step - loss: 0.2012 - accuracy: 0.9150 - val_loss: 0.3985 - val_accuracy: 0.8483\n",
      "Epoch 10/20\n",
      "229/229 [==============================] - 1s 6ms/step - loss: 0.1871 - accuracy: 0.9222 - val_loss: 0.4417 - val_accuracy: 0.8429\n",
      "Epoch 11/20\n",
      "229/229 [==============================] - 1s 6ms/step - loss: 0.1751 - accuracy: 0.9277 - val_loss: 0.4502 - val_accuracy: 0.8478\n",
      "Epoch 12/20\n",
      "229/229 [==============================] - 1s 6ms/step - loss: 0.1638 - accuracy: 0.9343 - val_loss: 0.4756 - val_accuracy: 0.8439\n",
      "Epoch 13/20\n",
      "229/229 [==============================] - 1s 5ms/step - loss: 0.1535 - accuracy: 0.9392 - val_loss: 0.4635 - val_accuracy: 0.8462\n",
      "Epoch 14/20\n",
      "229/229 [==============================] - 1s 6ms/step - loss: 0.1418 - accuracy: 0.9453 - val_loss: 0.4962 - val_accuracy: 0.8423\n",
      "Epoch 15/20\n",
      "229/229 [==============================] - 1s 5ms/step - loss: 0.1341 - accuracy: 0.9493 - val_loss: 0.5066 - val_accuracy: 0.8425\n",
      "Epoch 16/20\n",
      "229/229 [==============================] - 1s 5ms/step - loss: 0.1257 - accuracy: 0.9529 - val_loss: 0.5333 - val_accuracy: 0.8409\n",
      "Epoch 17/20\n",
      "229/229 [==============================] - 1s 5ms/step - loss: 0.1182 - accuracy: 0.9573 - val_loss: 0.5459 - val_accuracy: 0.8436\n",
      "Epoch 18/20\n",
      "229/229 [==============================] - 1s 6ms/step - loss: 0.1123 - accuracy: 0.9601 - val_loss: 0.5511 - val_accuracy: 0.8414\n",
      "Epoch 19/20\n",
      "229/229 [==============================] - 1s 6ms/step - loss: 0.1074 - accuracy: 0.9624 - val_loss: 0.5880 - val_accuracy: 0.8398\n",
      "Epoch 20/20\n",
      "229/229 [==============================] - 1s 6ms/step - loss: 0.1030 - accuracy: 0.9645 - val_loss: 0.5635 - val_accuracy: 0.8412\n"
     ]
    }
   ],
   "source": [
    "# 콜백 설정 - 가장 좋은 모델을 저장하도록 설정\n",
    "LSTM_checkpoint_cb = tf.keras.callbacks.ModelCheckpoint('LSTM_best_model.keras', save_best_only=True)\n",
    "\n",
    "model_LSTM.compile(optimizer='adam',\n",
    "              loss='binary_crossentropy',\n",
    "              metrics=['accuracy'])\n",
    "              \n",
    "epochs=20  # 몇 epoch를 훈련하면 좋을지 결과를 보면서 바꾸어 봅시다. \n",
    "\n",
    "# 모델 훈련\n",
    "LSTM_history = model_LSTM.fit(X_train,\n",
    "                    y_train,\n",
    "                    epochs=epochs,\n",
    "                    batch_size=512,\n",
    "                    validation_data=(X_val, y_val),\n",
    "                    callbacks=[LSTM_checkpoint_cb],\n",
    "                    verbose=1)"
   ]
  },
  {
   "cell_type": "code",
   "execution_count": 19,
   "id": "cd244c22",
   "metadata": {},
   "outputs": [
    {
     "name": "stdout",
     "output_type": "stream",
     "text": [
      "1537/1537 - 3s - loss: 0.3493 - accuracy: 0.8489\n",
      "[0.34930112957954407, 0.8489329814910889]\n"
     ]
    }
   ],
   "source": [
    "# 저장된 가장 좋은 모델 로드\n",
    "LSTM_best_model = tf.keras.models.load_model('LSTM_best_model.keras')\n",
    "\n",
    "# 테스트셋을 통한 모델 평가\n",
    "LSTM_results = LSTM_best_model.evaluate(X_test, y_test, verbose=2)\n",
    "\n",
    "print(LSTM_results)"
   ]
  },
  {
   "cell_type": "markdown",
   "id": "e87071c4",
   "metadata": {},
   "source": [
    "### 2. Bidirectional LSTM\n",
    "```\n",
    "model_BiRNN = tf.keras.Sequential()\n",
    "model_BiRNN.add(tf.keras.layers.Embedding(vocab_size, word_vector_dim, input_shape=(None,)))\n",
    "model_BiRNN.add(tf.keras.layers.Bidirectional(tf.keras.layers.LSTM(8)))  # Bidirectional LSTM 레이어\n",
    "model_BiRNN.add(tf.keras.layers.Dense(8, activation='relu'))\n",
    "model_BiRNN.add(tf.keras.layers.Dense(1, activation='sigmoid'))  # 긍정/부정을 나타내는 1dim 출력\n",
    "```\n",
    "\n",
    "1. Embedding Layer\n",
    "    - 입력 차원 (input_dim): vocab_size = 10000\n",
    "        - 어휘 사전의 크기, 즉 모델이 처리할 수 있는 단어의 총 개수를 나타냅니다.\n",
    "    - 출력 차원 (output_dim): word_vector_dim = 300\n",
    "        - 각 단어를 300차원의 벡터로 표현합니다.\n",
    "    - 입력 형태 (input_shape): (None,)\n",
    "        - 입력되는 문장의 길이는 가변적입니다. 문장은 단어 인덱스의 시퀀스로 표현됩니다.\n",
    "  \n",
    "  \n",
    "2. Bidirectional LSTM Layer\n",
    "    - 유닛 수: 8\n",
    "        - LSTM 레이어의 은닉 상태 벡터의 크기입니다. 이는 LSTM이 정보를 압축하는 정도를 나타내며, 레이어의 표현력과 복잡성을 결정합니다.\n",
    "        - 이 레이어는 문장의 앞뒤 맥락을 모두 고려할 수 있게 해줍니다. 문맥을 이해하는 데에 있어 더 풍부한 정보를 제공합니다.\n",
    "  \n",
    "  \n",
    "3. Dense Layer (Hidden Layer)\n",
    "    - 유닛 수: 8\n",
    "    - 활성화 함수 (activation): 'relu'\n",
    "        - 은닉층에 ReLU 활성화 함수를 사용하여 비선형성을 도입합니다. 이 레이어는 추출된 특성을 가공하여 최종 출력 이전에 더 높은 표현력을 갖게 합니다.\n",
    "  \n",
    "  \n",
    "4. Dense Layer (Output Layer)\n",
    "    - 유닛 수: 1\n",
    "        - 출력이 하나인 이유는 감정이 긍정인지 부정인지 이진 분류 문제이기 때문입니다.\n",
    "    - 활성화 함수 (activation): 'sigmoid'\n",
    "        - sigmoid 활성화 함수를 사용하여 0과 1 사이의 값을 출력하도록 합니다. 이 값은 문장이 긍정일 확률을 나타냅니다.\n"
   ]
  },
  {
   "cell_type": "code",
   "execution_count": 20,
   "id": "6aa6660a",
   "metadata": {},
   "outputs": [
    {
     "name": "stdout",
     "output_type": "stream",
     "text": [
      "Model: \"sequential_1\"\n",
      "_________________________________________________________________\n",
      "Layer (type)                 Output Shape              Param #   \n",
      "=================================================================\n",
      "embedding_1 (Embedding)      (None, None, 100)         1000000   \n",
      "_________________________________________________________________\n",
      "bidirectional (Bidirectional (None, 16)                6976      \n",
      "_________________________________________________________________\n",
      "dense_2 (Dense)              (None, 8)                 136       \n",
      "_________________________________________________________________\n",
      "dense_3 (Dense)              (None, 1)                 9         \n",
      "=================================================================\n",
      "Total params: 1,007,121\n",
      "Trainable params: 1,007,121\n",
      "Non-trainable params: 0\n",
      "_________________________________________________________________\n"
     ]
    }
   ],
   "source": [
    "# 모델 구성 및 저장 콜백 추가\n",
    "vocab_size = 10000    # 어휘 사전의 크기입니다(10,000개의 단어)\n",
    "word_vector_dim = 100  # 워드 벡터의 차원 수 (변경 가능한 하이퍼파라미터)\n",
    "\n",
    "# 모델 설계 - Bidirectional LSTM 모델\n",
    "model_BiRNN = tf.keras.Sequential()\n",
    "model_BiRNN.add(tf.keras.layers.Embedding(vocab_size, word_vector_dim, input_shape=(None,)))\n",
    "model_BiRNN.add(tf.keras.layers.Bidirectional(tf.keras.layers.LSTM(8)))  # Bidirectional LSTM 레이어\n",
    "model_BiRNN.add(tf.keras.layers.Dense(8, activation='relu'))\n",
    "model_BiRNN.add(tf.keras.layers.Dense(1, activation='sigmoid'))  # 긍정/부정을 나타내는 1dim 출력\n",
    "\n",
    "model_BiRNN.summary()"
   ]
  },
  {
   "cell_type": "code",
   "execution_count": 21,
   "id": "620d8fa2",
   "metadata": {},
   "outputs": [
    {
     "name": "stdout",
     "output_type": "stream",
     "text": [
      "Epoch 1/20\n",
      "229/229 [==============================] - 5s 11ms/step - loss: 0.4603 - accuracy: 0.7910 - val_loss: 0.3753 - val_accuracy: 0.8373\n",
      "Epoch 2/20\n",
      "229/229 [==============================] - 2s 8ms/step - loss: 0.3349 - accuracy: 0.8601 - val_loss: 0.3622 - val_accuracy: 0.8439\n",
      "Epoch 3/20\n",
      "229/229 [==============================] - 2s 8ms/step - loss: 0.3089 - accuracy: 0.8717 - val_loss: 0.3536 - val_accuracy: 0.8508\n",
      "Epoch 4/20\n",
      "229/229 [==============================] - 2s 8ms/step - loss: 0.2886 - accuracy: 0.8809 - val_loss: 0.3543 - val_accuracy: 0.8496\n",
      "Epoch 5/20\n",
      "229/229 [==============================] - 2s 8ms/step - loss: 0.2680 - accuracy: 0.8897 - val_loss: 0.3544 - val_accuracy: 0.8508\n",
      "Epoch 6/20\n",
      "229/229 [==============================] - 2s 8ms/step - loss: 0.2476 - accuracy: 0.8983 - val_loss: 0.3587 - val_accuracy: 0.8541\n",
      "Epoch 7/20\n",
      "229/229 [==============================] - 2s 8ms/step - loss: 0.2276 - accuracy: 0.9060 - val_loss: 0.3734 - val_accuracy: 0.8516\n",
      "Epoch 8/20\n",
      "229/229 [==============================] - 2s 8ms/step - loss: 0.2091 - accuracy: 0.9140 - val_loss: 0.3910 - val_accuracy: 0.8521\n",
      "Epoch 9/20\n",
      "229/229 [==============================] - 2s 8ms/step - loss: 0.1914 - accuracy: 0.9220 - val_loss: 0.4000 - val_accuracy: 0.8498\n",
      "Epoch 10/20\n",
      "229/229 [==============================] - 2s 8ms/step - loss: 0.1767 - accuracy: 0.9291 - val_loss: 0.4247 - val_accuracy: 0.8494\n",
      "Epoch 11/20\n",
      "229/229 [==============================] - 2s 8ms/step - loss: 0.1632 - accuracy: 0.9356 - val_loss: 0.4494 - val_accuracy: 0.8489\n",
      "Epoch 12/20\n",
      "229/229 [==============================] - 2s 8ms/step - loss: 0.1504 - accuracy: 0.9414 - val_loss: 0.4702 - val_accuracy: 0.8465\n",
      "Epoch 13/20\n",
      "229/229 [==============================] - 2s 8ms/step - loss: 0.1407 - accuracy: 0.9457 - val_loss: 0.5022 - val_accuracy: 0.8461\n",
      "Epoch 14/20\n",
      "229/229 [==============================] - 2s 8ms/step - loss: 0.1300 - accuracy: 0.9510 - val_loss: 0.5291 - val_accuracy: 0.8427\n",
      "Epoch 15/20\n",
      "229/229 [==============================] - 2s 8ms/step - loss: 0.1222 - accuracy: 0.9543 - val_loss: 0.5469 - val_accuracy: 0.8422\n",
      "Epoch 16/20\n",
      "229/229 [==============================] - 2s 8ms/step - loss: 0.1152 - accuracy: 0.9566 - val_loss: 0.5730 - val_accuracy: 0.8390\n",
      "Epoch 17/20\n",
      "229/229 [==============================] - 2s 8ms/step - loss: 0.1066 - accuracy: 0.9607 - val_loss: 0.5995 - val_accuracy: 0.8375\n",
      "Epoch 18/20\n",
      "229/229 [==============================] - 2s 8ms/step - loss: 0.1005 - accuracy: 0.9630 - val_loss: 0.6208 - val_accuracy: 0.8393\n",
      "Epoch 19/20\n",
      "229/229 [==============================] - 2s 8ms/step - loss: 0.0932 - accuracy: 0.9663 - val_loss: 0.6665 - val_accuracy: 0.8374\n",
      "Epoch 20/20\n",
      "229/229 [==============================] - 2s 8ms/step - loss: 0.0859 - accuracy: 0.9697 - val_loss: 0.6939 - val_accuracy: 0.8378\n"
     ]
    }
   ],
   "source": [
    "# 콜백 설정 - 가장 좋은 모델을 저장하도록 설정\n",
    "BiRNN_checkpoint_cb = tf.keras.callbacks.ModelCheckpoint('BiRNN_best_model.keras', save_best_only=True)\n",
    "\n",
    "# 모델 컴파일\n",
    "model_BiRNN.compile(optimizer='adam',\n",
    "              loss='binary_crossentropy',\n",
    "              metrics=['accuracy'])\n",
    "              \n",
    "epochs = 20  # 몇 epoch를 훈련하면 좋을지 결과를 보면서 바꾸어 봅시다.\n",
    "\n",
    "# 모델 훈련\n",
    "BiRNN_history = model_BiRNN.fit(X_train,\n",
    "                    y_train,\n",
    "                    epochs=epochs,\n",
    "                    batch_size=512,\n",
    "                    validation_data=(X_val, y_val),\n",
    "                    callbacks=[BiRNN_checkpoint_cb],\n",
    "                    verbose=1)"
   ]
  },
  {
   "cell_type": "code",
   "execution_count": 22,
   "id": "46717d59",
   "metadata": {},
   "outputs": [
    {
     "name": "stdout",
     "output_type": "stream",
     "text": [
      "1537/1537 - 4s - loss: 0.3587 - accuracy: 0.8479\n",
      "[0.3586982488632202, 0.8478548526763916]\n"
     ]
    }
   ],
   "source": [
    "# 저장된 가장 좋은 모델 로드\n",
    "BiRNN_best_model = tf.keras.models.load_model('BiRNN_best_model.keras')\n",
    "\n",
    "# Bidirectional LSTM 모델 평가\n",
    "BiRNN_results = BiRNN_best_model.evaluate(X_test, y_test, verbose=2)\n",
    "\n",
    "print(BiRNN_results)"
   ]
  },
  {
   "cell_type": "markdown",
   "id": "2278c727",
   "metadata": {},
   "source": [
    "### 3. Conv1D\n",
    "```\n",
    "model_Conv1D = tf.keras.Sequential()\n",
    "model_Conv1D.add(tf.keras.layers.Embedding(vocab_size, word_vector_dim, input_shape=(None,)))\n",
    "model_Conv1D.add(tf.keras.layers.Conv1D(16, 7, activation='relu'))\n",
    "model_Conv1D.add(tf.keras.layers.MaxPooling1D(5))\n",
    "model_Conv1D.add(tf.keras.layers.Conv1D(16, 7, activation='relu'))\n",
    "model_Conv1D.add(tf.keras.layers.GlobalMaxPooling1D())\n",
    "model_Conv1D.add(tf.keras.layers.Dense(8, activation='relu'))\n",
    "model_Conv1D.add(tf.keras.layers.Dense(1, activation='sigmoid')) \n",
    "```\n",
    "\n",
    "1. Embedding Layer\n",
    "    - 입력 차원 (input_dim): vocab_size = 10000\n",
    "        - 어휘 사전의 크기, 즉 모델이 처리할 수 있는 단어의 총 개수를 나타냅니다.\n",
    "    - 출력 차원 (output_dim): word_vector_dim = 300\n",
    "        - 각 단어를 300차원의 벡터로 표현합니다.\n",
    "    - 입력 형태 (input_shape): (None,)\n",
    "        - 입력되는 문장의 길이는 가변적입니다. 문장은 단어 인덱스의 시퀀스로 표현됩니다.\n",
    "  \n",
    "  \n",
    "2. Conv1D Layer (첫 번째)\n",
    "    - 필터 수: 16\n",
    "        - 16개의 필터를 사용하여 입력 텍스트에서 특징을 추출합니다.\n",
    "    - 커널 크기 (kernel_size): 7\n",
    "        - 컨볼루션 필터의 크기입니다. 커널은 한 번에 7개의 단어를 보고 특징을 추출합니다.\n",
    "    - 활성화 함수 (activation): 'relu'\n",
    "        - ReLU 활성화 함수를 사용하여 비선형성을 도입하고, 중요한 특징을 강조합니다.\n",
    "  \n",
    "  \n",
    "3. MaxPooling1D Layer\n",
    "    - 풀링 크기 (pool_size): 5\n",
    "        - MaxPooling1D는 입력 텐서에서 가장 큰 값을 선택해 다운샘플링을 합니다. 이 경우, 5개의 단어에 대해 가장 큰 값을 선택하여 입력을 압축합니다.\n",
    "    - 이 레이어는 특징 맵을 축소하여 중요한 특징만 남기고, 과적합을 방지하는 데 도움이 됩니다.\n",
    "  \n",
    "  \n",
    "4. Conv1D Layer (두 번째)\n",
    "    - 필터 수: 16\n",
    "        - 첫 번째 Conv1D 레이어와 동일하게 16개의 필터를 사용합니다.\n",
    "    - 커널 크기 (kernel_size): 7\n",
    "        - 첫 번째 Conv1D 레이어와 동일하게 7개의 단어를 한 번에 봅니다.\n",
    "    - 활성화 함수 (activation): 'relu'\n",
    "        - ReLU 활성화 함수를 사용합니다.\n",
    "  \n",
    "  \n",
    "5. GlobalMaxPooling1D Layer\n",
    "    - 전체 시퀀스에서 가장 큰 값을 선택하여 텐서를 1차원으로 변환합니다.\n",
    "    - GlobalMaxPooling은 시퀀스 전체에서 최댓값을 선택하여 중요한 특징을 추출합니다. 이는 데이터의 길이에 관계없이 고정된 크기의 출력 벡터를 생성합니다.\n",
    "    - 이 레이어는 시퀀스의 길이를 무시하고 시퀀스 전체에서 가장 중요한 정보를 유지합니다.\n",
    "  \n",
    "  \n",
    "6. Dense Layer (Hidden Layer)\n",
    "    - 유닛 수: 8\n",
    "    - 활성화 함수 (activation): 'relu'\n",
    "        - 은닉층에 ReLU 활성화 함수를 사용하여 비선형성을 도입합니다. 이 레이어는 추출된 특성을 가공하여 최종 출력 이전에 더 높은 표현력을 갖게 합니다.\n",
    "  \n",
    "  \n",
    "7. Dense Layer (Output Layer)\n",
    "    - 유닛 수: 1\n",
    "        - 출력이 하나인 이유는 감정이 긍정인지 부정인지 이진 분류 문제이기 때문입니다.\n",
    "    - 활성화 함수 (activation): 'sigmoid'\n",
    "        - sigmoid 활성화 함수를 사용하여 0과 1 사이의 값을 출력하도록 합니다. 이 값은 문장이 긍정일 확률을 나타냅니다.\n"
   ]
  },
  {
   "cell_type": "code",
   "execution_count": 23,
   "id": "cae4603c",
   "metadata": {},
   "outputs": [
    {
     "name": "stdout",
     "output_type": "stream",
     "text": [
      "Model: \"sequential_2\"\n",
      "_________________________________________________________________\n",
      "Layer (type)                 Output Shape              Param #   \n",
      "=================================================================\n",
      "embedding_2 (Embedding)      (None, None, 100)         1000000   \n",
      "_________________________________________________________________\n",
      "conv1d (Conv1D)              (None, None, 16)          11216     \n",
      "_________________________________________________________________\n",
      "max_pooling1d (MaxPooling1D) (None, None, 16)          0         \n",
      "_________________________________________________________________\n",
      "conv1d_1 (Conv1D)            (None, None, 16)          1808      \n",
      "_________________________________________________________________\n",
      "global_max_pooling1d (Global (None, 16)                0         \n",
      "_________________________________________________________________\n",
      "dense_4 (Dense)              (None, 8)                 136       \n",
      "_________________________________________________________________\n",
      "dense_5 (Dense)              (None, 1)                 9         \n",
      "=================================================================\n",
      "Total params: 1,013,169\n",
      "Trainable params: 1,013,169\n",
      "Non-trainable params: 0\n",
      "_________________________________________________________________\n"
     ]
    }
   ],
   "source": [
    "vocab_size = 10000    # 어휘 사전의 크기입니다(10,000개의 단어)\n",
    "word_vector_dim = 100  # 워드 벡터의 차원 수 (변경 가능한 하이퍼파라미터)\n",
    "\n",
    "# 모델 구성 - Conv1D 모델\n",
    "model_Conv1D = tf.keras.Sequential()\n",
    "model_Conv1D.add(tf.keras.layers.Embedding(vocab_size, word_vector_dim, input_shape=(None,)))\n",
    "model_Conv1D.add(tf.keras.layers.Conv1D(16, 7, activation='relu'))\n",
    "model_Conv1D.add(tf.keras.layers.MaxPooling1D(5))\n",
    "model_Conv1D.add(tf.keras.layers.Conv1D(16, 7, activation='relu'))\n",
    "model_Conv1D.add(tf.keras.layers.GlobalMaxPooling1D())\n",
    "model_Conv1D.add(tf.keras.layers.Dense(8, activation='relu'))\n",
    "model_Conv1D.add(tf.keras.layers.Dense(1, activation='sigmoid')) \n",
    "\n",
    "model_Conv1D.summary()"
   ]
  },
  {
   "cell_type": "code",
   "execution_count": 24,
   "id": "686b4969",
   "metadata": {},
   "outputs": [
    {
     "name": "stdout",
     "output_type": "stream",
     "text": [
      "Epoch 1/20\n",
      "229/229 [==============================] - 2s 8ms/step - loss: 0.0800 - accuracy: 0.9717 - val_loss: 0.7450 - val_accuracy: 0.8357\n",
      "Epoch 2/20\n",
      "229/229 [==============================] - 2s 8ms/step - loss: 0.0774 - accuracy: 0.9730 - val_loss: 0.7829 - val_accuracy: 0.8372\n",
      "Epoch 3/20\n",
      "229/229 [==============================] - 2s 8ms/step - loss: 0.0744 - accuracy: 0.9739 - val_loss: 0.7742 - val_accuracy: 0.8328\n",
      "Epoch 4/20\n",
      "229/229 [==============================] - 2s 8ms/step - loss: 0.0711 - accuracy: 0.9755 - val_loss: 0.8041 - val_accuracy: 0.8337\n",
      "Epoch 5/20\n",
      "229/229 [==============================] - 2s 8ms/step - loss: 0.0651 - accuracy: 0.9777 - val_loss: 0.8565 - val_accuracy: 0.8351\n",
      "Epoch 6/20\n",
      "229/229 [==============================] - 2s 8ms/step - loss: 0.0613 - accuracy: 0.9792 - val_loss: 0.8654 - val_accuracy: 0.8330\n",
      "Epoch 7/20\n",
      "229/229 [==============================] - 2s 8ms/step - loss: 0.0575 - accuracy: 0.9804 - val_loss: 0.9152 - val_accuracy: 0.8324\n",
      "Epoch 8/20\n",
      "229/229 [==============================] - 2s 8ms/step - loss: 0.0569 - accuracy: 0.9808 - val_loss: 0.9472 - val_accuracy: 0.8339\n",
      "Epoch 9/20\n",
      "229/229 [==============================] - 2s 8ms/step - loss: 0.0550 - accuracy: 0.9816 - val_loss: 0.9657 - val_accuracy: 0.8343\n",
      "Epoch 10/20\n",
      "229/229 [==============================] - 2s 8ms/step - loss: 0.0525 - accuracy: 0.9819 - val_loss: 0.9978 - val_accuracy: 0.8296\n",
      "Epoch 11/20\n",
      "229/229 [==============================] - 2s 8ms/step - loss: 0.0483 - accuracy: 0.9838 - val_loss: 0.9912 - val_accuracy: 0.8318\n",
      "Epoch 12/20\n",
      "229/229 [==============================] - 2s 8ms/step - loss: 0.0490 - accuracy: 0.9837 - val_loss: 1.0292 - val_accuracy: 0.8288\n",
      "Epoch 13/20\n",
      "229/229 [==============================] - 2s 8ms/step - loss: 0.0463 - accuracy: 0.9844 - val_loss: 1.0982 - val_accuracy: 0.8323\n",
      "Epoch 14/20\n",
      "229/229 [==============================] - 2s 8ms/step - loss: 0.0422 - accuracy: 0.9862 - val_loss: 1.1052 - val_accuracy: 0.8308\n",
      "Epoch 15/20\n",
      "229/229 [==============================] - 2s 8ms/step - loss: 0.0404 - accuracy: 0.9865 - val_loss: 1.0802 - val_accuracy: 0.8288\n",
      "Epoch 16/20\n",
      "229/229 [==============================] - 2s 8ms/step - loss: 0.0385 - accuracy: 0.9872 - val_loss: 1.1583 - val_accuracy: 0.8305\n",
      "Epoch 17/20\n",
      "229/229 [==============================] - 2s 8ms/step - loss: 0.0381 - accuracy: 0.9880 - val_loss: 1.2310 - val_accuracy: 0.8291\n",
      "Epoch 18/20\n",
      "229/229 [==============================] - 2s 8ms/step - loss: 0.0403 - accuracy: 0.9868 - val_loss: 1.1904 - val_accuracy: 0.8281\n",
      "Epoch 19/20\n",
      "229/229 [==============================] - 2s 8ms/step - loss: 0.0402 - accuracy: 0.9864 - val_loss: 1.1848 - val_accuracy: 0.8285\n",
      "Epoch 20/20\n",
      "229/229 [==============================] - 2s 8ms/step - loss: 0.0371 - accuracy: 0.9877 - val_loss: 1.2057 - val_accuracy: 0.8256\n"
     ]
    }
   ],
   "source": [
    "# 콜백 설정 - 가장 좋은 모델을 저장하도록 설정\n",
    "Conv1D_checkpoint_cb = tf.keras.callbacks.ModelCheckpoint('Conv1D_best_model.keras', save_best_only=True)\n",
    "\n",
    "# 모델 컴파일\n",
    "model_Conv1D.compile(optimizer='adam',\n",
    "              loss='binary_crossentropy',\n",
    "              metrics=['accuracy'])\n",
    "              \n",
    "epochs = 20  # 몇 epoch를 훈련하면 좋을지 결과를 보면서 바꾸어 봅시다.\n",
    "\n",
    "# 모델 훈련\n",
    "Conv1D_history = model_BiRNN.fit(X_train,\n",
    "                    y_train,\n",
    "                    epochs=epochs,\n",
    "                    batch_size=512,\n",
    "                    validation_data=(X_val, y_val),\n",
    "                    callbacks=[Conv1D_checkpoint_cb],\n",
    "                    verbose=1)"
   ]
  },
  {
   "cell_type": "code",
   "execution_count": 25,
   "id": "038ec385",
   "metadata": {},
   "outputs": [
    {
     "name": "stdout",
     "output_type": "stream",
     "text": [
      "1537/1537 - 4s - loss: 0.7323 - accuracy: 0.8367\n",
      "[0.7323043942451477, 0.8366661667823792]\n"
     ]
    }
   ],
   "source": [
    "# 저장된 가장 좋은 모델 로드\n",
    "Conv1D_best_model = tf.keras.models.load_model('Conv1D_best_model.keras')\n",
    "\n",
    "# Bidirectional LSTM 모델 평가\n",
    "Conv1D_results = Conv1D_best_model.evaluate(X_test, y_test, verbose=2)\n",
    "\n",
    "print(Conv1D_results)"
   ]
  },
  {
   "cell_type": "markdown",
   "id": "76a1f0bc",
   "metadata": {},
   "source": [
    "## 6) Loss, Accuracy 그래프 시각화\n",
    "---"
   ]
  },
  {
   "cell_type": "code",
   "execution_count": 26,
   "id": "d4021c7f",
   "metadata": {},
   "outputs": [],
   "source": [
    "# 학습 및 검증 손실, 정확도 시각화 함수 추가\n",
    "import matplotlib.pyplot as plt"
   ]
  },
  {
   "cell_type": "code",
   "execution_count": 27,
   "id": "6d26040e",
   "metadata": {},
   "outputs": [],
   "source": [
    "def plot_training_history(history):\n",
    "    # Training and validation loss\n",
    "    plt.figure(figsize=(12, 5))\n",
    "    plt.subplot(1, 2, 1)\n",
    "    plt.plot(history.history['loss'], label='Training Loss')\n",
    "    plt.plot(history.history['val_loss'], label='Validation Loss')\n",
    "    plt.xlabel('Epochs')\n",
    "    plt.ylabel('Loss')\n",
    "    plt.legend()\n",
    "    plt.title('Training and Validation Loss')\n",
    "\n",
    "    # Training and validation accuracy\n",
    "    plt.subplot(1, 2, 2)\n",
    "    plt.plot(history.history['accuracy'], label='Training Accuracy')\n",
    "    plt.plot(history.history['val_accuracy'], label='Validation Accuracy')\n",
    "    plt.xlabel('Epochs')\n",
    "    plt.ylabel('Accuracy')\n",
    "    plt.legend()\n",
    "    plt.title('Training and Validation Accuracy')\n",
    "    \n",
    "    plt.show()"
   ]
  },
  {
   "cell_type": "code",
   "execution_count": 28,
   "id": "f5cd8cee",
   "metadata": {},
   "outputs": [
    {
     "data": {
      "image/png": "[encoded data removed]",
      "text/plain": [
       "<Figure size 864x360 with 2 Axes>"
      ]
     },
     "metadata": {
      "needs_background": "light"
     },
     "output_type": "display_data"
    }
   ],
   "source": [
    "# LSTM 모델 시각화\n",
    "# Epochs 4 정도 부터 오버피팅 나타남\n",
    "plot_training_history(LSTM_history)"
   ]
  },
  {
   "cell_type": "code",
   "execution_count": 29,
   "id": "101bea47",
   "metadata": {},
   "outputs": [
    {
     "data": {
      "image/png": "[encoded data removed]",
      "text/plain": [
       "<Figure size 864x360 with 2 Axes>"
      ]
     },
     "metadata": {
      "needs_background": "light"
     },
     "output_type": "display_data"
    }
   ],
   "source": [
    "# Bidirectional LSTM 모델 시각화\n",
    "# Epochs 5 정도 부터 오버피팅 나타남\n",
    "plot_training_history(BiRNN_history)"
   ]
  },
  {
   "cell_type": "code",
   "execution_count": 30,
   "id": "267ed71c",
   "metadata": {},
   "outputs": [
    {
     "data": {
      "image/png": "[encoded data removed]",
      "text/plain": [
       "<Figure size 864x360 with 2 Axes>"
      ]
     },
     "metadata": {
      "needs_background": "light"
     },
     "output_type": "display_data"
    }
   ],
   "source": [
    "# Conv1D 모델 시각화\n",
    "# 오버피팅 바로 나옴\n",
    "plot_training_history(Conv1D_history)"
   ]
  },
  {
   "cell_type": "markdown",
   "id": "7b24694f",
   "metadata": {},
   "source": [
    "## 7) 학습된 Embedding 레이어 분석\n",
    "---"
   ]
  },
  {
   "cell_type": "markdown",
   "id": "e2226d78",
   "metadata": {},
   "source": [
    "### LSTM 의 Embedding 레이어"
   ]
  },
  {
   "cell_type": "code",
   "execution_count": 31,
   "id": "7b34a441",
   "metadata": {},
   "outputs": [
    {
     "name": "stdout",
     "output_type": "stream",
     "text": [
      "(10000, 100)\n"
     ]
    }
   ],
   "source": [
    "embedding_layer = model_LSTM.layers[0]  # 모델의 첫 번째 레이어가 임베딩 레이어라고 가정.\n",
    "weights = embedding_layer.get_weights()[0]\n",
    "print(weights.shape)    # shape: (vocab_size, embedding_dim)"
   ]
  },
  {
   "cell_type": "code",
   "execution_count": 32,
   "id": "7d4d9c2d",
   "metadata": {},
   "outputs": [],
   "source": [
    "# 학습한 Embedding 파라미터를 파일에 써서 저장합니다. \n",
    "word2vec_file_path = os.getenv('HOME')+'/aiffel/sentiment_classification/data/word2vec_LSTM.txt'\n",
    "f = open(word2vec_file_path, 'w')\n",
    "f.write('{} {}\\n'.format(vocab_size-4, word_vector_dim))  # 몇개의 벡터를 얼마 사이즈로 기재할지 타이틀을 씁니다.\n",
    "\n",
    "# 단어 개수(에서 특수문자 4개는 제외하고)만큼의 워드 벡터를 파일에 기록합니다. \n",
    "vectors = model_LSTM.get_weights()[0]\n",
    "for i in range(4,vocab_size):\n",
    "    f.write('{} {}\\n'.format(index_to_word[i], ' '.join(map(str, list(vectors[i, :])))))\n",
    "f.close()"
   ]
  },
  {
   "cell_type": "code",
   "execution_count": 33,
   "id": "ff7d2e12",
   "metadata": {},
   "outputs": [
    {
     "data": {
      "text/plain": [
       "array([-2.12747641e-02, -4.72076200e-02,  1.37153398e-02, -2.50737462e-02,\n",
       "        4.61124443e-02,  2.38782130e-02, -6.25438839e-02,  5.04824966e-02,\n",
       "        1.66724548e-02, -4.66947593e-02, -4.05097231e-02, -4.87872623e-02,\n",
       "       -5.84988445e-02,  8.27544741e-03, -5.56667820e-02,  7.24447146e-02,\n",
       "       -2.38104071e-02,  3.90001535e-02, -1.48051558e-02,  2.03141682e-02,\n",
       "        3.72966565e-02, -5.94874993e-02,  1.75771571e-03, -2.97330711e-02,\n",
       "       -4.57608774e-02, -3.42916958e-02, -1.73184108e-02,  3.47019406e-03,\n",
       "       -6.82513649e-03, -5.33290505e-02, -3.23056057e-02,  6.40969276e-02,\n",
       "        1.57972034e-02,  3.26381288e-02,  2.01249141e-02,  3.05932816e-02,\n",
       "        5.28240576e-02, -1.01774044e-01, -2.37398278e-02, -1.76710600e-03,\n",
       "        2.64536083e-01, -4.69232502e-04, -1.63450111e-02, -2.91144010e-02,\n",
       "       -3.16581391e-02, -7.83556327e-03,  3.86772081e-02,  4.22765361e-03,\n",
       "       -1.04835235e-01, -7.53556639e-02,  1.15087032e-02, -7.16471076e-02,\n",
       "        6.27751835e-03, -8.38610157e-03, -5.62462322e-02,  4.62270789e-02,\n",
       "        2.41910726e-01, -1.78920366e-02, -8.34569260e-02, -4.41973247e-02,\n",
       "       -5.59314340e-02, -7.18842121e-03,  2.60944595e-03,  1.00132450e-02,\n",
       "       -2.96239443e-02, -3.44644524e-02, -6.86495006e-02, -2.80867033e-02,\n",
       "       -2.31906790e-02,  2.00680699e-02,  7.69780278e-02, -5.37924990e-02,\n",
       "        4.73032221e-02, -3.88157181e-02,  1.59221292e-02, -7.12888222e-03,\n",
       "        2.31199339e-01,  4.03308310e-02,  2.06574276e-02, -1.99588691e-03,\n",
       "       -6.02100156e-02,  6.18171096e-02,  8.20788443e-02, -1.22256078e-01,\n",
       "       -2.72716079e-02,  1.08025432e-01, -1.47566339e-02,  4.94687781e-02,\n",
       "       -1.49159143e-02, -5.35793602e-03, -3.54439020e-02, -1.38004767e-02,\n",
       "        1.31545588e-02, -2.13156044e-01, -8.40896070e-02,  9.56021540e-05,\n",
       "       -3.02712135e-02,  8.48408863e-02,  1.02221798e-02,  1.16747180e-02],\n",
       "      dtype=float32)"
      ]
     },
     "execution_count": 33,
     "metadata": {},
     "output_type": "execute_result"
    }
   ],
   "source": [
    "from gensim.models.keyedvectors import Word2VecKeyedVectors\n",
    "\n",
    "word_vectors = Word2VecKeyedVectors.load_word2vec_format(word2vec_file_path, binary=False)\n",
    "vector = word_vectors['영화']\n",
    "vector"
   ]
  },
  {
   "cell_type": "code",
   "execution_count": 34,
   "id": "11feb42c",
   "metadata": {},
   "outputs": [
    {
     "data": {
      "text/plain": [
       "[('멋지', 0.8617097735404968),\n",
       " ('여하튼', 0.8391941785812378),\n",
       " ('누군가', 0.8388642072677612),\n",
       " ('명작', 0.8307030200958252),\n",
       " ('정조', 0.8285664319992065),\n",
       " ('수작', 0.825328528881073),\n",
       " ('예언', 0.8236479163169861),\n",
       " ('돌아보', 0.8186804056167603),\n",
       " ('현실', 0.8182114958763123),\n",
       " ('완벽', 0.8182094097137451)]"
      ]
     },
     "execution_count": 34,
     "metadata": {},
     "output_type": "execute_result"
    }
   ],
   "source": [
    "word_vectors.similar_by_word(\"사랑\")"
   ]
  },
  {
   "cell_type": "markdown",
   "id": "9cb0773a",
   "metadata": {},
   "source": [
    "### 사랑이라는 단어와 유사한 단어라고 보기 어렵다!"
   ]
  },
  {
   "cell_type": "markdown",
   "id": "760d0947",
   "metadata": {},
   "source": [
    "## 8) 한국어 Word2Vec 임베딩 활용하여 성능 개선\n",
    "---\n",
    "- 한국어 Word2Vec은 /data 폴더 안에 있는 word2vec_ko.model을 활용하세요.\n",
    "- 한국어 Word2Vec을 활용할 때는 load_word2vec_format() 형태가 아닌 load() 형태로 모델을 불러와주세요. 또한 모델을 활용할 때에는 아래 예시와 같이 .wv를 붙여서 활용합니다. 좀더 자세한 활용법에 대해선 다음 링크들을 참조해주세요.  \n",
    "참고 링크1 : https://radimrehurek.com/gensim/auto_examples/tutorials/run_word2vec.html#storing-and-loading-models  \n",
    "참고 링크2 : https://radimrehurek.com/gensim/models/keyedvectors.html\n",
    "\n",
    "```python\n",
    "# 예시 코드\n",
    "from gensim.models.keyedvectors import Word2VecKeyedVectors\n",
    "word_vectors = Word2VecKeyedVectors.load(word2vec_file_path)\n",
    "vector = word_vectors.wv[‘끝’]\n",
    "```"
   ]
  },
  {
   "cell_type": "markdown",
   "id": "b620f286",
   "metadata": {},
   "source": [
    "심볼릭 링크 연결\n",
    "\n",
    "```bash\n",
    "ln -s ~/data/*.* ~/aiffel/sentiment_classification/data\n",
    "```"
   ]
  },
  {
   "cell_type": "code",
   "execution_count": 35,
   "id": "533055a4",
   "metadata": {},
   "outputs": [],
   "source": [
    "from gensim.models.keyedvectors import Word2VecKeyedVectors\n",
    "from keras.preprocessing.sequence import pad_sequences"
   ]
  },
  {
   "cell_type": "code",
   "execution_count": 36,
   "id": "6bb057b9",
   "metadata": {},
   "outputs": [],
   "source": [
    "# 한국어 Word2Vec 모델 로드\n",
    "word2vec_file_path = os.getenv('HOME') + '/aiffel/sentiment_classification/data/word2vec_ko.model'\n",
    "word_vectors = Word2VecKeyedVectors.load(word2vec_file_path)\n",
    "vector = word_vectors.wv[\"끝\"]"
   ]
  },
  {
   "cell_type": "code",
   "execution_count": 37,
   "id": "4209b2dc",
   "metadata": {},
   "outputs": [
    {
     "data": {
      "text/plain": [
       "array([ 1.038851  , -1.1634965 ,  2.2386286 ,  0.8971453 , -2.088168  ,\n",
       "       -4.1942534 , -0.02519768, -0.69813883, -0.2908033 , -1.4651134 ,\n",
       "       -2.6863668 ,  0.7999443 , -0.6957915 , -0.5018775 ,  3.5025773 ,\n",
       "        0.21326113, -0.6588098 , -1.1900496 ,  0.61399573,  2.1247969 ,\n",
       "        0.1549463 ,  3.0840218 ,  3.1680267 , -3.9143991 ,  3.6073153 ,\n",
       "        0.5315545 , -0.3511633 , -1.107248  ,  1.7767181 , -0.95981866,\n",
       "        2.6072454 , -0.00697957, -3.27628   ,  1.558644  ,  0.81922376,\n",
       "        1.9231955 ,  3.7026553 , -0.53824735, -0.4920138 ,  2.4657123 ,\n",
       "       -2.620749  , -0.08950733,  0.61453176,  1.8866426 ,  0.257866  ,\n",
       "       -2.7827141 ,  2.9129577 , -0.6313133 ,  2.0387425 , -4.222685  ,\n",
       "       -2.7560544 ,  1.7903243 , -1.3080189 , -2.5531402 , -0.43849912,\n",
       "       -3.1073573 , -0.29090825,  5.1817617 ,  1.9604833 , -5.1421604 ,\n",
       "       -0.71431434,  4.5624633 , -0.55525815, -3.3019137 ,  1.6761336 ,\n",
       "       -1.9606539 , -0.2726863 ,  0.2465995 ,  1.2685091 ,  1.6055685 ,\n",
       "        1.8344896 ,  1.2752469 ,  0.99503314, -2.3348706 , -0.9290329 ,\n",
       "       -1.5920266 ,  5.693834  ,  1.1132814 , -0.9603875 , -1.970055  ,\n",
       "       -1.0120267 , -2.7289615 , -2.7759619 ,  3.214084  ,  1.8573734 ,\n",
       "       -1.3495721 , -0.10321241,  3.434593  , -2.8573685 , -1.9004927 ,\n",
       "       -1.6801298 , -2.805677  ,  1.7723105 , -0.41865307, -2.310913  ,\n",
       "       -6.2761464 , -0.8376036 ,  2.4590037 ,  2.1697695 , -4.440443  ],\n",
       "      dtype=float32)"
      ]
     },
     "execution_count": 37,
     "metadata": {},
     "output_type": "execute_result"
    }
   ],
   "source": [
    "vector"
   ]
  },
  {
   "cell_type": "code",
   "execution_count": 66,
   "id": "db5cf67b",
   "metadata": {},
   "outputs": [
    {
     "data": {
      "text/plain": [
       "[('드라마', 0.8418774008750916),\n",
       " ('뮤지컬', 0.7775140404701233),\n",
       " ('코미디', 0.7489107251167297),\n",
       " ('다큐멘터리', 0.7401294708251953),\n",
       " ('헐리우드', 0.7397844195365906),\n",
       " ('애니메이션', 0.7170552015304565),\n",
       " ('독립영화', 0.7113528251647949),\n",
       " ('로맨틱', 0.7107657194137573),\n",
       " ('장편', 0.7101576924324036),\n",
       " ('극영화', 0.7045413255691528)]"
      ]
     },
     "execution_count": 66,
     "metadata": {},
     "output_type": "execute_result"
    }
   ],
   "source": [
    "word_vectors.wv.similar_by_word(\"영화\")"
   ]
  },
  {
   "cell_type": "code",
   "execution_count": 38,
   "id": "6b9fa5cc",
   "metadata": {},
   "outputs": [
    {
     "data": {
      "text/plain": [
       "[('이별', 0.7626414895057678),\n",
       " ('행복', 0.7550068497657776),\n",
       " ('슬픔', 0.7381505966186523),\n",
       " ('유혹', 0.7238055467605591),\n",
       " ('그리움', 0.7167419195175171),\n",
       " ('추억', 0.7143999338150024),\n",
       " ('꿈', 0.7089294195175171),\n",
       " ('애정', 0.7066588997840881),\n",
       " ('포옹', 0.7034594416618347),\n",
       " ('마음', 0.6972615718841553)]"
      ]
     },
     "execution_count": 38,
     "metadata": {},
     "output_type": "execute_result"
    }
   ],
   "source": [
    "word_vectors.wv.similar_by_word(\"사랑\")"
   ]
  },
  {
   "cell_type": "markdown",
   "id": "ba0dedcb",
   "metadata": {},
   "source": [
    "### 한국어 Word2Vec 모델을 사용하면 영화, 사랑이라는 단어와 유사한 단어가 잘 나타난다!!!"
   ]
  },
  {
   "cell_type": "code",
   "execution_count": 39,
   "id": "5f64a0dc",
   "metadata": {},
   "outputs": [],
   "source": [
    "# # Word2Vec 임베딩 매트릭스 생성\n",
    "# embedding_matrix = np.zeros((len(word_to_index), word_vectors.wv.vector_size))\n",
    "# for word, i in word_to_index.items():\n",
    "#     if word in word_vectors.wv:\n",
    "#         embedding_matrix[i] = word_vectors.wv[word]\n",
    "\n",
    "embedding_matrix = np.zeros((len(word_to_index), word_vectors.wv.vector_size))\n",
    "# embedding_matrix = np.random.rand((len(word_to_index), word_vectors.wv.vector_size))\n",
    "\n",
    "# embedding_matrix에 Word2Vec 워드 벡터를 단어 하나씩마다 차례차례 카피한다.\n",
    "for i in range(4,len(word_to_index)):\n",
    "    if index_to_word[i] in word_vectors.wv:\n",
    "        embedding_matrix[i] = word_vectors.wv[index_to_word[i]]"
   ]
  },
  {
   "cell_type": "code",
   "execution_count": 40,
   "id": "495bfdbe",
   "metadata": {},
   "outputs": [
    {
     "name": "stdout",
     "output_type": "stream",
     "text": [
      "word_to_index의 크기: 10000\n",
      "word_vectors.vector_size: 100\n"
     ]
    }
   ],
   "source": [
    "print(f'word_to_index의 크기: {len(word_to_index)}')\n",
    "print(f'word_vectors.vector_size: {word_vectors.wv.vector_size}')"
   ]
  },
  {
   "cell_type": "code",
   "execution_count": 43,
   "id": "4b239785",
   "metadata": {},
   "outputs": [],
   "source": [
    "from tensorflow.keras.initializers import Constant"
   ]
  },
  {
   "cell_type": "code",
   "execution_count": 44,
   "id": "21235b98",
   "metadata": {},
   "outputs": [
    {
     "name": "stdout",
     "output_type": "stream",
     "text": [
      "Model: \"sequential_3\"\n",
      "_________________________________________________________________\n",
      "Layer (type)                 Output Shape              Param #   \n",
      "=================================================================\n",
      "embedding_3 (Embedding)      (None, 41, 100)           1000000   \n",
      "_________________________________________________________________\n",
      "lstm_2 (LSTM)                (None, 8)                 3488      \n",
      "_________________________________________________________________\n",
      "dense_6 (Dense)              (None, 8)                 72        \n",
      "_________________________________________________________________\n",
      "dense_7 (Dense)              (None, 1)                 9         \n",
      "=================================================================\n",
      "Total params: 1,003,569\n",
      "Trainable params: 1,003,569\n",
      "Non-trainable params: 0\n",
      "_________________________________________________________________\n"
     ]
    }
   ],
   "source": [
    "# LSTM 모델 구성\n",
    "vocab_size = len(word_to_index)\n",
    "word_vector_dim = word_vectors.vector_size  # Word2Vec 임베딩 차원 수\n",
    "\n",
    "model_LSTM_Word2Vec = tf.keras.Sequential()\n",
    "model_LSTM_Word2Vec.add(tf.keras.layers.Embedding(vocab_size, \n",
    "                                 word_vector_dim, \n",
    "                                 embeddings_initializer=Constant(embedding_matrix),  # 카피한 임베딩을 여기서 활용\n",
    "                                 input_length=maxlen, \n",
    "                                 trainable=True))   # trainable을 True로 주면 Fine-tuning\n",
    "model_LSTM_Word2Vec.add(tf.keras.layers.LSTM(8))   # 가장 널리 쓰이는 RNN인 LSTM 레이어를 사용하였습니다. 이때 LSTM state 벡터의 차원수는 8로 하였습니다. (변경 가능)\n",
    "model_LSTM_Word2Vec.add(tf.keras.layers.Dense(8, activation='relu'))\n",
    "model_LSTM_Word2Vec.add(tf.keras.layers.Dense(1, activation='sigmoid'))  # 최종 출력은 긍정/부정을 나타내는 1dim 입니다.\n",
    "\n",
    "model_LSTM_Word2Vec.summary()"
   ]
  },
  {
   "cell_type": "code",
   "execution_count": 45,
   "id": "37c6051d",
   "metadata": {},
   "outputs": [
    {
     "name": "stdout",
     "output_type": "stream",
     "text": [
      "Epoch 1/20\n",
      "229/229 [==============================] - 3s 8ms/step - loss: 0.6145 - accuracy: 0.6606 - val_loss: 0.5012 - val_accuracy: 0.7717\n",
      "Epoch 2/20\n",
      "229/229 [==============================] - 1s 6ms/step - loss: 0.4467 - accuracy: 0.8011 - val_loss: 0.4142 - val_accuracy: 0.8220\n",
      "Epoch 3/20\n",
      "229/229 [==============================] - 1s 6ms/step - loss: 0.3827 - accuracy: 0.8353 - val_loss: 0.3850 - val_accuracy: 0.8331\n",
      "Epoch 4/20\n",
      "229/229 [==============================] - 1s 6ms/step - loss: 0.3503 - accuracy: 0.8504 - val_loss: 0.3727 - val_accuracy: 0.8406\n",
      "Epoch 5/20\n",
      "229/229 [==============================] - 1s 6ms/step - loss: 0.3285 - accuracy: 0.8627 - val_loss: 0.3747 - val_accuracy: 0.8413\n",
      "Epoch 6/20\n",
      "229/229 [==============================] - 1s 6ms/step - loss: 0.3128 - accuracy: 0.8706 - val_loss: 0.3654 - val_accuracy: 0.8452\n",
      "Epoch 7/20\n",
      "229/229 [==============================] - 1s 6ms/step - loss: 0.3011 - accuracy: 0.8770 - val_loss: 0.3613 - val_accuracy: 0.8454\n",
      "Epoch 8/20\n",
      "229/229 [==============================] - 1s 6ms/step - loss: 0.2908 - accuracy: 0.8822 - val_loss: 0.3607 - val_accuracy: 0.8482\n",
      "Epoch 9/20\n",
      "229/229 [==============================] - 1s 6ms/step - loss: 0.2815 - accuracy: 0.8875 - val_loss: 0.3690 - val_accuracy: 0.8462\n",
      "Epoch 10/20\n",
      "229/229 [==============================] - 1s 6ms/step - loss: 0.2725 - accuracy: 0.8917 - val_loss: 0.3681 - val_accuracy: 0.8475\n",
      "Epoch 11/20\n",
      "229/229 [==============================] - 1s 6ms/step - loss: 0.2647 - accuracy: 0.8965 - val_loss: 0.3679 - val_accuracy: 0.8484\n",
      "Epoch 12/20\n",
      "229/229 [==============================] - 1s 6ms/step - loss: 0.2574 - accuracy: 0.9009 - val_loss: 0.3727 - val_accuracy: 0.8492\n",
      "Epoch 13/20\n",
      "229/229 [==============================] - 1s 6ms/step - loss: 0.2500 - accuracy: 0.9044 - val_loss: 0.3788 - val_accuracy: 0.8464\n",
      "Epoch 14/20\n",
      "229/229 [==============================] - 1s 6ms/step - loss: 0.2432 - accuracy: 0.9091 - val_loss: 0.3973 - val_accuracy: 0.8444\n",
      "Epoch 15/20\n",
      "229/229 [==============================] - 1s 6ms/step - loss: 0.2371 - accuracy: 0.9112 - val_loss: 0.3775 - val_accuracy: 0.8481\n",
      "Epoch 16/20\n",
      "229/229 [==============================] - 1s 6ms/step - loss: 0.2309 - accuracy: 0.9152 - val_loss: 0.3804 - val_accuracy: 0.8469\n",
      "Epoch 17/20\n",
      "229/229 [==============================] - 1s 6ms/step - loss: 0.2251 - accuracy: 0.9184 - val_loss: 0.4024 - val_accuracy: 0.8476\n",
      "Epoch 18/20\n",
      "229/229 [==============================] - 1s 6ms/step - loss: 0.2199 - accuracy: 0.9209 - val_loss: 0.4104 - val_accuracy: 0.8457\n",
      "Epoch 19/20\n",
      "229/229 [==============================] - 1s 6ms/step - loss: 0.2138 - accuracy: 0.9249 - val_loss: 0.4162 - val_accuracy: 0.8462\n",
      "Epoch 20/20\n",
      "229/229 [==============================] - 1s 6ms/step - loss: 0.2089 - accuracy: 0.9263 - val_loss: 0.4229 - val_accuracy: 0.8437\n"
     ]
    }
   ],
   "source": [
    "# 콜백 설정 - 가장 좋은 모델을 저장하도록 설정\n",
    "LSTM_Word2Vec_checkpoint_cb = tf.keras.callbacks.ModelCheckpoint('LSTM_Word2Vec_best_model.keras', save_best_only=True)\n",
    "\n",
    "model_LSTM_Word2Vec.compile(optimizer='adam',\n",
    "              loss='binary_crossentropy',\n",
    "              metrics=['accuracy'])\n",
    "              \n",
    "epochs=20  # 몇 epoch를 훈련하면 좋을지 결과를 보면서 바꾸어 봅시다. \n",
    "\n",
    "# 모델 훈련\n",
    "LSTM_Word2Vec_history = model_LSTM_Word2Vec.fit(X_train,\n",
    "                    y_train,\n",
    "                    epochs=epochs,\n",
    "                    batch_size=512,\n",
    "                    validation_data=(X_val, y_val),\n",
    "                    callbacks=[LSTM_Word2Vec_checkpoint_cb],\n",
    "                    verbose=1)"
   ]
  },
  {
   "cell_type": "code",
   "execution_count": 46,
   "id": "22a186eb",
   "metadata": {},
   "outputs": [
    {
     "name": "stdout",
     "output_type": "stream",
     "text": [
      "1537/1537 - 3s - loss: 0.3652 - accuracy: 0.8446\n",
      "[0.36521098017692566, 0.8445999622344971]\n"
     ]
    }
   ],
   "source": [
    "# 저장된 가장 좋은 모델 로드\n",
    "LSTM_Word2Vec_best_model = tf.keras.models.load_model('LSTM_Word2Vec_best_model.keras')\n",
    "\n",
    "# 테스트셋을 통한 모델 평가\n",
    "LSTM_Word2Vec_results = LSTM_Word2Vec_best_model.evaluate(X_test, y_test, verbose=2)\n",
    "\n",
    "print(LSTM_Word2Vec_results)"
   ]
  },
  {
   "cell_type": "code",
   "execution_count": 47,
   "id": "035267b1",
   "metadata": {},
   "outputs": [
    {
     "data": {
      "image/png": "[encoded data removed]",
      "text/plain": [
       "<Figure size 864x360 with 2 Axes>"
      ]
     },
     "metadata": {
      "needs_background": "light"
     },
     "output_type": "display_data"
    }
   ],
   "source": [
    "# LSTM_Word2Vec 모델 시각화\n",
    "plot_training_history(LSTM_Word2Vec_history)"
   ]
  },
  {
   "cell_type": "code",
   "execution_count": 48,
   "id": "6672d1bb",
   "metadata": {},
   "outputs": [
    {
     "name": "stdout",
     "output_type": "stream",
     "text": [
      "Model: \"sequential_4\"\n",
      "_________________________________________________________________\n",
      "Layer (type)                 Output Shape              Param #   \n",
      "=================================================================\n",
      "embedding_4 (Embedding)      (None, 41, 100)           1000000   \n",
      "_________________________________________________________________\n",
      "bidirectional_1 (Bidirection (None, 16)                6976      \n",
      "_________________________________________________________________\n",
      "dense_8 (Dense)              (None, 8)                 136       \n",
      "_________________________________________________________________\n",
      "dense_9 (Dense)              (None, 1)                 9         \n",
      "=================================================================\n",
      "Total params: 1,007,121\n",
      "Trainable params: 1,007,121\n",
      "Non-trainable params: 0\n",
      "_________________________________________________________________\n"
     ]
    }
   ],
   "source": [
    "# 모델 설계 - Bidirectional LSTM 모델\n",
    "vocab_size = len(word_to_index)\n",
    "word_vector_dim = word_vectors.vector_size  # Word2Vec 임베딩 차원 수\n",
    "\n",
    "model_BiRNN_Word2Vec = tf.keras.Sequential()\n",
    "model_BiRNN_Word2Vec.add(tf.keras.layers.Embedding(vocab_size, \n",
    "                                 word_vector_dim, \n",
    "                                 embeddings_initializer=Constant(embedding_matrix),  # 카피한 임베딩을 여기서 활용\n",
    "                                 input_length=maxlen, \n",
    "                                 trainable=True))   # trainable을 True로 주면 Fine-tuning\n",
    "model_BiRNN_Word2Vec.add(tf.keras.layers.Bidirectional(tf.keras.layers.LSTM(8)))  # Bidirectional LSTM 레이어\n",
    "model_BiRNN_Word2Vec.add(tf.keras.layers.Dense(8, activation='relu'))\n",
    "model_BiRNN_Word2Vec.add(tf.keras.layers.Dense(1, activation='sigmoid'))  # 긍정/부정을 나타내는 1dim 출력\n",
    "\n",
    "model_BiRNN_Word2Vec.summary()"
   ]
  },
  {
   "cell_type": "code",
   "execution_count": 49,
   "id": "82851978",
   "metadata": {},
   "outputs": [
    {
     "name": "stdout",
     "output_type": "stream",
     "text": [
      "Epoch 1/20\n",
      "229/229 [==============================] - 2s 8ms/step - loss: 0.0345 - accuracy: 0.9889 - val_loss: 1.2407 - val_accuracy: 0.8294\n",
      "Epoch 2/20\n",
      "229/229 [==============================] - 2s 8ms/step - loss: 0.0326 - accuracy: 0.9897 - val_loss: 1.3032 - val_accuracy: 0.8274\n",
      "Epoch 3/20\n",
      "229/229 [==============================] - 2s 8ms/step - loss: 0.0341 - accuracy: 0.9889 - val_loss: 1.2673 - val_accuracy: 0.8297\n",
      "Epoch 4/20\n",
      "229/229 [==============================] - 2s 8ms/step - loss: 0.0334 - accuracy: 0.9890 - val_loss: 1.3670 - val_accuracy: 0.8302\n",
      "Epoch 5/20\n",
      "229/229 [==============================] - 2s 8ms/step - loss: 0.0314 - accuracy: 0.9896 - val_loss: 1.3265 - val_accuracy: 0.8289\n",
      "Epoch 6/20\n",
      "229/229 [==============================] - 2s 8ms/step - loss: 0.0295 - accuracy: 0.9903 - val_loss: 1.3570 - val_accuracy: 0.8306\n",
      "Epoch 7/20\n",
      "229/229 [==============================] - 2s 8ms/step - loss: 0.0286 - accuracy: 0.9905 - val_loss: 1.4153 - val_accuracy: 0.8270\n",
      "Epoch 8/20\n",
      "229/229 [==============================] - 2s 8ms/step - loss: 0.0270 - accuracy: 0.9911 - val_loss: 1.4034 - val_accuracy: 0.8279\n",
      "Epoch 9/20\n",
      "229/229 [==============================] - 2s 8ms/step - loss: 0.0298 - accuracy: 0.9901 - val_loss: 1.4053 - val_accuracy: 0.8298\n",
      "Epoch 10/20\n",
      "229/229 [==============================] - 2s 8ms/step - loss: 0.0299 - accuracy: 0.9899 - val_loss: 1.4128 - val_accuracy: 0.8291\n",
      "Epoch 11/20\n",
      "229/229 [==============================] - 2s 8ms/step - loss: 0.0285 - accuracy: 0.9906 - val_loss: 1.4482 - val_accuracy: 0.8285\n",
      "Epoch 12/20\n",
      "229/229 [==============================] - 2s 8ms/step - loss: 0.0241 - accuracy: 0.9922 - val_loss: 1.5190 - val_accuracy: 0.8241\n",
      "Epoch 13/20\n",
      "229/229 [==============================] - 2s 8ms/step - loss: 0.0253 - accuracy: 0.9916 - val_loss: 1.5577 - val_accuracy: 0.8278\n",
      "Epoch 14/20\n",
      "229/229 [==============================] - 2s 8ms/step - loss: 0.0231 - accuracy: 0.9923 - val_loss: 1.5257 - val_accuracy: 0.8253\n",
      "Epoch 15/20\n",
      "229/229 [==============================] - 2s 8ms/step - loss: 0.0236 - accuracy: 0.9924 - val_loss: 1.5831 - val_accuracy: 0.8294\n",
      "Epoch 16/20\n",
      "229/229 [==============================] - 2s 8ms/step - loss: 0.0238 - accuracy: 0.9922 - val_loss: 1.5927 - val_accuracy: 0.8279\n",
      "Epoch 17/20\n",
      "229/229 [==============================] - 2s 8ms/step - loss: 0.0262 - accuracy: 0.9910 - val_loss: 1.5229 - val_accuracy: 0.8272\n",
      "Epoch 18/20\n",
      "229/229 [==============================] - 2s 8ms/step - loss: 0.0274 - accuracy: 0.9909 - val_loss: 1.4916 - val_accuracy: 0.8231\n",
      "Epoch 19/20\n",
      "229/229 [==============================] - 2s 8ms/step - loss: 0.0273 - accuracy: 0.9909 - val_loss: 1.5013 - val_accuracy: 0.8280\n",
      "Epoch 20/20\n",
      "229/229 [==============================] - 2s 8ms/step - loss: 0.0242 - accuracy: 0.9920 - val_loss: 1.5529 - val_accuracy: 0.8256\n"
     ]
    }
   ],
   "source": [
    "# 콜백 설정 - 가장 좋은 모델을 저장하도록 설정\n",
    "BiRNN_Word2Vec_checkpoint_cb = tf.keras.callbacks.ModelCheckpoint('BiRNN_Word2Vec_best_model.keras', save_best_only=True)\n",
    "\n",
    "# 모델 컴파일\n",
    "model_BiRNN_Word2Vec.compile(optimizer='adam',\n",
    "              loss='binary_crossentropy',\n",
    "              metrics=['accuracy'])\n",
    "              \n",
    "epochs = 20  # 몇 epoch를 훈련하면 좋을지 결과를 보면서 바꾸어 봅시다.\n",
    "\n",
    "# 모델 훈련\n",
    "BiRNN_Word2Vec_history = model_BiRNN.fit(X_train,\n",
    "                    y_train,\n",
    "                    epochs=epochs,\n",
    "                    batch_size=512,\n",
    "                    validation_data=(X_val, y_val),\n",
    "                    callbacks=[BiRNN_Word2Vec_checkpoint_cb],\n",
    "                    verbose=1)"
   ]
  },
  {
   "cell_type": "code",
   "execution_count": 50,
   "id": "57b1b7a4",
   "metadata": {},
   "outputs": [
    {
     "name": "stdout",
     "output_type": "stream",
     "text": [
      "1537/1537 - 4s - loss: 1.2405 - accuracy: 0.8292\n",
      "[1.240468144416809, 0.8291596174240112]\n"
     ]
    }
   ],
   "source": [
    "# 저장된 가장 좋은 모델 로드\n",
    "BiRNN_Word2Vec_best_model = tf.keras.models.load_model('BiRNN_Word2Vec_best_model.keras')\n",
    "\n",
    "# Bidirectional LSTM 모델 평가\n",
    "BiRNN_Word2Vec_results = BiRNN_Word2Vec_best_model.evaluate(X_test, y_test, verbose=2)\n",
    "\n",
    "print(BiRNN_Word2Vec_results)"
   ]
  },
  {
   "cell_type": "code",
   "execution_count": 51,
   "id": "00f69671",
   "metadata": {},
   "outputs": [
    {
     "data": {
      "image/png": "[encoded data removed]",
      "text/plain": [
       "<Figure size 864x360 with 2 Axes>"
      ]
     },
     "metadata": {
      "needs_background": "light"
     },
     "output_type": "display_data"
    }
   ],
   "source": [
    "# Bidirectional LSTM 모델 시각화\n",
    "plot_training_history(BiRNN_Word2Vec_history)"
   ]
  },
  {
   "cell_type": "code",
   "execution_count": 84,
   "id": "8c2b8e45",
   "metadata": {},
   "outputs": [
    {
     "name": "stdout",
     "output_type": "stream",
     "text": [
      "Model: \"sequential_10\"\n",
      "_________________________________________________________________\n",
      "Layer (type)                 Output Shape              Param #   \n",
      "=================================================================\n",
      "embedding_10 (Embedding)     (None, 41, 100)           1000000   \n",
      "_________________________________________________________________\n",
      "conv1d_12 (Conv1D)           (None, 35, 16)            11216     \n",
      "_________________________________________________________________\n",
      "dropout_10 (Dropout)         (None, 35, 16)            0         \n",
      "_________________________________________________________________\n",
      "dropout_11 (Dropout)         (None, 35, 16)            0         \n",
      "_________________________________________________________________\n",
      "max_pooling1d_6 (MaxPooling1 (None, 7, 16)             0         \n",
      "_________________________________________________________________\n",
      "conv1d_13 (Conv1D)           (None, 1, 16)             1808      \n",
      "_________________________________________________________________\n",
      "global_max_pooling1d_6 (Glob (None, 16)                0         \n",
      "_________________________________________________________________\n",
      "dense_20 (Dense)             (None, 8)                 136       \n",
      "_________________________________________________________________\n",
      "dense_21 (Dense)             (None, 1)                 9         \n",
      "=================================================================\n",
      "Total params: 1,013,169\n",
      "Trainable params: 1,013,169\n",
      "Non-trainable params: 0\n",
      "_________________________________________________________________\n"
     ]
    }
   ],
   "source": [
    "# CConv1D 모델 구성\n",
    "# Dropout 추가\n",
    "vocab_size = len(word_to_index)\n",
    "word_vector_dim = word_vectors.vector_size  # Word2Vec 임베딩 차원 수\n",
    "\n",
    "model_Conv1D_Word2Vec = tf.keras.Sequential()\n",
    "model_Conv1D_Word2Vec.add(tf.keras.layers.Embedding(vocab_size, \n",
    "                                 word_vector_dim, \n",
    "                                 embeddings_initializer=tf.keras.initializers.Constant(embedding_matrix),  # 카피한 임베딩을 여기서 활용\n",
    "                                 input_length=maxlen, \n",
    "                                 trainable=True))   # trainable을 True로 주면 Fine-tuning\n",
    "model_Conv1D_Word2Vec.add(tf.keras.layers.Conv1D(16, 7, activation='relu'))\n",
    "model_Conv1D_Word2Vec.add(tf.keras.layers.Dropout(0.5))\n",
    "model_Conv1D_Word2Vec.add(tf.keras.layers.Dropout(0.5))\n",
    "model_Conv1D_Word2Vec.add(tf.keras.layers.MaxPooling1D(5))\n",
    "model_Conv1D_Word2Vec.add(tf.keras.layers.Conv1D(16, 7, activation='relu'))\n",
    "model_Conv1D_Word2Vec.add(tf.keras.layers.GlobalMaxPooling1D())\n",
    "model_Conv1D_Word2Vec.add(tf.keras.layers.Dense(8, activation='relu'))\n",
    "model_Conv1D_Word2Vec.add(tf.keras.layers.Dense(1, activation='sigmoid'))\n",
    "\n",
    "model_Conv1D_Word2Vec.summary()\n"
   ]
  },
  {
   "cell_type": "code",
   "execution_count": 85,
   "id": "66b5f39a",
   "metadata": {},
   "outputs": [],
   "source": [
    "# # Conv1D 모델 구성\n",
    "# # BatchNormalization 추가\n",
    "# vocab_size = len(word_to_index)\n",
    "# word_vector_dim = word_vectors.vector_size  # Word2Vec 임베딩 차원 수\n",
    "\n",
    "# model_Conv1D_Word2Vec = tf.keras.Sequential()\n",
    "# model_Conv1D_Word2Vec.add(tf.keras.layers.Embedding(vocab_size, \n",
    "#                                  word_vector_dim, \n",
    "#                                  embeddings_initializer=tf.keras.initializers.Constant(embedding_matrix),  # 카피한 임베딩을 여기서 활용\n",
    "#                                  input_length=maxlen, \n",
    "#                                  trainable=True))   # trainable을 True로 주면 Fine-tuning\n",
    "# model_Conv1D_Word2Vec.add(tf.keras.layers.Conv1D(16, 7, activation='relu'))\n",
    "# model_Conv1D_Word2Vec.add(tf.keras.layers.BatchNormalization())\n",
    "# model_Conv1D_Word2Vec.add(tf.keras.layers.BatchNormalization())\n",
    "# model_Conv1D_Word2Vec.add(tf.keras.layers.Dropout(0.5))\n",
    "# model_Conv1D_Word2Vec.add(tf.keras.layers.Dropout(0.5))\n",
    "# model_Conv1D_Word2Vec.add(tf.keras.layers.MaxPooling1D(5))\n",
    "# model_Conv1D_Word2Vec.add(tf.keras.layers.Conv1D(16, 7, activation='relu'))\n",
    "# model_Conv1D_Word2Vec.add(tf.keras.layers.GlobalMaxPooling1D())\n",
    "# model_Conv1D_Word2Vec.add(tf.keras.layers.Dense(8, activation='relu'))\n",
    "# model_Conv1D_Word2Vec.add(tf.keras.layers.Dense(1, activation='sigmoid'))\n",
    "\n",
    "# model_Conv1D_Word2Vec.summary()"
   ]
  },
  {
   "cell_type": "code",
   "execution_count": 86,
   "id": "f833d21c",
   "metadata": {},
   "outputs": [
    {
     "name": "stdout",
     "output_type": "stream",
     "text": [
      "Epoch 1/30\n",
      "229/229 [==============================] - 2s 6ms/step - loss: 0.7278 - accuracy: 0.5308 - val_loss: 0.6817 - val_accuracy: 0.5978\n",
      "Epoch 2/30\n",
      "229/229 [==============================] - 1s 5ms/step - loss: 0.6463 - accuracy: 0.6213 - val_loss: 0.6051 - val_accuracy: 0.7278\n",
      "Epoch 3/30\n",
      "229/229 [==============================] - 1s 5ms/step - loss: 0.5580 - accuracy: 0.7138 - val_loss: 0.5446 - val_accuracy: 0.7782\n",
      "Epoch 4/30\n",
      "229/229 [==============================] - 1s 5ms/step - loss: 0.4968 - accuracy: 0.7594 - val_loss: 0.4980 - val_accuracy: 0.8053\n",
      "Epoch 5/30\n",
      "229/229 [==============================] - 1s 5ms/step - loss: 0.4529 - accuracy: 0.7884 - val_loss: 0.4723 - val_accuracy: 0.8219\n",
      "Epoch 6/30\n",
      "229/229 [==============================] - 1s 5ms/step - loss: 0.4247 - accuracy: 0.8045 - val_loss: 0.4600 - val_accuracy: 0.8269\n",
      "Epoch 7/30\n",
      "229/229 [==============================] - 1s 5ms/step - loss: 0.4044 - accuracy: 0.8153 - val_loss: 0.4439 - val_accuracy: 0.8360\n",
      "Epoch 8/30\n",
      "229/229 [==============================] - 1s 5ms/step - loss: 0.3892 - accuracy: 0.8260 - val_loss: 0.4256 - val_accuracy: 0.8413\n",
      "Epoch 9/30\n",
      "229/229 [==============================] - 1s 5ms/step - loss: 0.3784 - accuracy: 0.8312 - val_loss: 0.4246 - val_accuracy: 0.8446\n",
      "Epoch 10/30\n",
      "229/229 [==============================] - 1s 5ms/step - loss: 0.3678 - accuracy: 0.8373 - val_loss: 0.4147 - val_accuracy: 0.8464\n",
      "Epoch 11/30\n",
      "229/229 [==============================] - 1s 5ms/step - loss: 0.3596 - accuracy: 0.8416 - val_loss: 0.4106 - val_accuracy: 0.8483\n",
      "Epoch 12/30\n",
      "229/229 [==============================] - 1s 5ms/step - loss: 0.3521 - accuracy: 0.8447 - val_loss: 0.3994 - val_accuracy: 0.8489\n",
      "Epoch 13/30\n",
      "229/229 [==============================] - 1s 5ms/step - loss: 0.3452 - accuracy: 0.8482 - val_loss: 0.4031 - val_accuracy: 0.8494\n",
      "Epoch 14/30\n",
      "229/229 [==============================] - 1s 5ms/step - loss: 0.3405 - accuracy: 0.8512 - val_loss: 0.4019 - val_accuracy: 0.8469\n",
      "Epoch 15/30\n",
      "229/229 [==============================] - 1s 5ms/step - loss: 0.3353 - accuracy: 0.8547 - val_loss: 0.3918 - val_accuracy: 0.8508\n",
      "Epoch 16/30\n",
      "229/229 [==============================] - 1s 5ms/step - loss: 0.3314 - accuracy: 0.8561 - val_loss: 0.3921 - val_accuracy: 0.8496\n",
      "Epoch 17/30\n",
      "229/229 [==============================] - 1s 5ms/step - loss: 0.3270 - accuracy: 0.8583 - val_loss: 0.3903 - val_accuracy: 0.8530\n",
      "Epoch 18/30\n",
      "229/229 [==============================] - 1s 5ms/step - loss: 0.3229 - accuracy: 0.8603 - val_loss: 0.3879 - val_accuracy: 0.8513\n",
      "Epoch 19/30\n",
      "229/229 [==============================] - 1s 5ms/step - loss: 0.3200 - accuracy: 0.8619 - val_loss: 0.3858 - val_accuracy: 0.8532\n",
      "Epoch 20/30\n",
      "229/229 [==============================] - 1s 5ms/step - loss: 0.3160 - accuracy: 0.8643 - val_loss: 0.3879 - val_accuracy: 0.8489\n",
      "Epoch 21/30\n",
      "229/229 [==============================] - 1s 5ms/step - loss: 0.3123 - accuracy: 0.8651 - val_loss: 0.3794 - val_accuracy: 0.8513\n",
      "Epoch 22/30\n",
      "229/229 [==============================] - 1s 5ms/step - loss: 0.3098 - accuracy: 0.8669 - val_loss: 0.3781 - val_accuracy: 0.8520\n",
      "Epoch 23/30\n",
      "229/229 [==============================] - 1s 5ms/step - loss: 0.3084 - accuracy: 0.8677 - val_loss: 0.3817 - val_accuracy: 0.8506\n",
      "Epoch 24/30\n",
      "229/229 [==============================] - 1s 5ms/step - loss: 0.3059 - accuracy: 0.8681 - val_loss: 0.3793 - val_accuracy: 0.8521\n",
      "Epoch 25/30\n",
      "229/229 [==============================] - 1s 5ms/step - loss: 0.3043 - accuracy: 0.8691 - val_loss: 0.3821 - val_accuracy: 0.8510\n",
      "Epoch 26/30\n",
      "229/229 [==============================] - 1s 5ms/step - loss: 0.2994 - accuracy: 0.8717 - val_loss: 0.3743 - val_accuracy: 0.8531\n",
      "Epoch 27/30\n",
      "229/229 [==============================] - 1s 5ms/step - loss: 0.2996 - accuracy: 0.8718 - val_loss: 0.3789 - val_accuracy: 0.8511\n",
      "Epoch 28/30\n",
      "229/229 [==============================] - 1s 6ms/step - loss: 0.2978 - accuracy: 0.8722 - val_loss: 0.3784 - val_accuracy: 0.8517\n",
      "Epoch 29/30\n",
      "229/229 [==============================] - 1s 5ms/step - loss: 0.2944 - accuracy: 0.8740 - val_loss: 0.3832 - val_accuracy: 0.8495\n",
      "Epoch 30/30\n",
      "229/229 [==============================] - 1s 5ms/step - loss: 0.2931 - accuracy: 0.8745 - val_loss: 0.3852 - val_accuracy: 0.8466\n"
     ]
    }
   ],
   "source": [
    "# 콜백 설정 - 가장 좋은 모델을 저장하도록 설정\n",
    "Conv1D_Word2Vec_checkpoint_cb = tf.keras.callbacks.ModelCheckpoint('Conv1D_Word2Vec_best_model.keras', save_best_only=True)\n",
    "\n",
    "# 모델 컴파일\n",
    "model_Conv1D_Word2Vec.compile(optimizer='adam',\n",
    "              loss='binary_crossentropy',\n",
    "              metrics=['accuracy'])\n",
    "              \n",
    "epochs = 30  # 몇 epoch를 훈련하면 좋을지 결과를 보면서 바꾸어 봅시다.\n",
    "\n",
    "# 모델 훈련\n",
    "Conv1D_Word2Vec_history = model_Conv1D_Word2Vec.fit(X_train,\n",
    "                    y_train,\n",
    "                    epochs=epochs,\n",
    "                    batch_size=512,\n",
    "                    validation_data=(X_val, y_val),\n",
    "                    callbacks=[Conv1D_Word2Vec_checkpoint_cb],\n",
    "                    verbose=1)"
   ]
  },
  {
   "cell_type": "code",
   "execution_count": 87,
   "id": "55f821ca",
   "metadata": {},
   "outputs": [
    {
     "name": "stdout",
     "output_type": "stream",
     "text": [
      "1537/1537 - 3s - loss: 0.3783 - accuracy: 0.8505\n",
      "[0.3783297836780548, 0.8504790663719177]\n"
     ]
    }
   ],
   "source": [
    "# 저장된 가장 좋은 모델 로드\n",
    "Conv1D_Word2Vec_best_model = tf.keras.models.load_model('Conv1D_Word2Vec_best_model.keras')\n",
    "\n",
    "# CConv1D 모델 평가\n",
    "Conv1D_Word2Vec_results = Conv1D_Word2Vec_best_model.evaluate(X_test, y_test, verbose=2)\n",
    "\n",
    "print(Conv1D_Word2Vec_results)"
   ]
  },
  {
   "cell_type": "code",
   "execution_count": 88,
   "id": "465c946c",
   "metadata": {},
   "outputs": [
    {
     "data": {
      "image/png": "[encoded data removed]",
      "text/plain": [
       "<Figure size 864x360 with 2 Axes>"
      ]
     },
     "metadata": {
      "needs_background": "light"
     },
     "output_type": "display_data"
    }
   ],
   "source": [
    "# Conv1D_Word2Vec 모델 시각화\n",
    "plot_training_history(Conv1D_Word2Vec_history)"
   ]
  },
  {
   "cell_type": "markdown",
   "id": "46dd3ef7",
   "metadata": {},
   "source": [
    "#### Dropout 을 추가해서 오버피팅 나오는 현상을 개선하였다!\n",
    "#### Conv1D 모델에서 accuracy: 0.8505 가 잘 나왔다!"
   ]
  },
  {
   "cell_type": "markdown",
   "id": "8065558c",
   "metadata": {},
   "source": [
    "### 회고"
   ]
  },
  {
   "cell_type": "markdown",
   "id": "74ffbdb5",
   "metadata": {},
   "source": [
    "1. 한국어 Word2Vec 에서 제공하는 워드 임베딩 벡터들끼리 의미적 유사도가 가까운 것을 확인 할 수 있었다.\n",
    "```\n",
    "word_vectors.wv.similar_by_word(\"사랑\")\n",
    "```\n",
    "```\n",
    "[('이별', 0.7626414895057678),\n",
    " ('행복', 0.7550068497657776),\n",
    " ('슬픔', 0.7381505966186523),\n",
    " ('유혹', 0.7238055467605591),\n",
    " ('그리움', 0.7167419195175171),\n",
    " ('추억', 0.7143999338150024),\n",
    " ('꿈', 0.7089294195175171),\n",
    " ('애정', 0.7066588997840881),\n",
    " ('포옹', 0.7034594416618347),\n",
    " ('마음', 0.6972615718841553)]\n",
    "```\n",
    "2. 모델과 하이퍼파라미터 조정을 통해 LSTM 보다 Conv1D 가 더 잘 나오는 현상도 확인 하였다.\n",
    "3. Dropout 이 오버피팅 방지효과를 다시 한번 확인 할 수 있었다.\n",
    "4. Transfomer 모델을 적용 해보고 싶었는데 시간이 부족했다.\n",
    "5. 추후 적용 해 볼 예정이다.\n"
   ]
  },
  {
   "cell_type": "code",
   "execution_count": null,
   "id": "5f8ba8aa",
   "metadata": {},
   "outputs": [],
   "source": []
  }
 ],
 "metadata": {
  "kernelspec": {
   "display_name": "Python 3 (ipykernel)",
   "language": "python",
   "name": "python3"
  },
  "language_info": {
   "codemirror_mode": {
    "name": "ipython",
    "version": 3
   },
   "file_extension": ".py",
   "mimetype": "text/x-python",
   "name": "python",
   "nbconvert_exporter": "python",
   "pygments_lexer": "ipython3",
   "version": "3.9.7"
  }
 },
 "nbformat": 4,
 "nbformat_minor": 5
}
