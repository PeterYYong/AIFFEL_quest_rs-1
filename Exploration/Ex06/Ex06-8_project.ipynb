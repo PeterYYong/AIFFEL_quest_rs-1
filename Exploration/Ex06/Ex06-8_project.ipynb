{
 "cells": [
  {
   "cell_type": "markdown",
   "id": "6219839e",
   "metadata": {},
   "source": [
    "# 8-1. 프로젝트: 뉴스기사 요약해보기"
   ]
  },
  {
   "cell_type": "markdown",
   "id": "ccbb311c",
   "metadata": {},
   "source": [
    "새로운 데이터셋에 대해서 추상적 요약과 추출적 요약\n",
    "\n",
    "라이브러리 버전 확인"
   ]
  },
  {
   "cell_type": "code",
   "execution_count": 1,
   "id": "14bda576",
   "metadata": {},
   "outputs": [
    {
     "name": "stdout",
     "output_type": "stream",
     "text": [
      "3.6.5\n",
      "2.6.0\n",
      "1.3.3\n",
      "1.2.0\n"
     ]
    }
   ],
   "source": [
    "from importlib.metadata import version\n",
    "import nltk\n",
    "import tensorflow\n",
    "import summa\n",
    "import pandas as pd\n",
    "\n",
    "print(nltk.__version__)\n",
    "print(tensorflow.__version__)\n",
    "print(pd.__version__)\n",
    "print(version('summa'))"
   ]
  },
  {
   "cell_type": "code",
   "execution_count": 2,
   "id": "071009de",
   "metadata": {},
   "outputs": [
    {
     "name": "stderr",
     "output_type": "stream",
     "text": [
      "[nltk_data] Downloading package stopwords to /aiffel/nltk_data...\n",
      "[nltk_data]   Package stopwords is already up-to-date!\n"
     ]
    }
   ],
   "source": [
    "import nltk\n",
    "nltk.download('stopwords')\n",
    "\n",
    "import numpy as np\n",
    "import os\n",
    "import re\n",
    "import matplotlib.pyplot as plt\n",
    "from nltk.corpus import stopwords\n",
    "from bs4 import BeautifulSoup \n",
    "from tensorflow.keras.preprocessing.text import Tokenizer \n",
    "from tensorflow.keras.preprocessing.sequence import pad_sequences\n",
    "import urllib.request\n",
    "import warnings\n",
    "warnings.filterwarnings(\"ignore\", category=UserWarning, module='bs4')"
   ]
  },
  {
   "cell_type": "markdown",
   "id": "713436c0",
   "metadata": {},
   "source": [
    "### Step 1. 데이터 수집하기\n",
    "\n",
    "데이터는 아래 링크에 있는 뉴스 기사 데이터(news_summary_more.csv)를 사용하세요.\n",
    "\n",
    "- sunnysai12345/News_Summary : https://github.com/sunnysai12345/News_Summary\n",
    "\n",
    "아래의 코드로 데이터를 다운로드할 수 있어요."
   ]
  },
  {
   "cell_type": "code",
   "execution_count": 3,
   "id": "71a03a32",
   "metadata": {},
   "outputs": [],
   "source": [
    "import urllib.request\n",
    "urllib.request.urlretrieve(\"https://raw.githubusercontent.com/sunnysai12345/News_Summary/master/news_summary_more.csv\", filename=\"news_summary_more.csv\")\n",
    "data = pd.read_csv('news_summary_more.csv', encoding='iso-8859-1')"
   ]
  },
  {
   "cell_type": "code",
   "execution_count": 4,
   "id": "5edafa3c",
   "metadata": {},
   "outputs": [
    {
     "data": {
      "text/html": [
       "<div>\n",
       "<style scoped>\n",
       "    .dataframe tbody tr th:only-of-type {\n",
       "        vertical-align: middle;\n",
       "    }\n",
       "\n",
       "    .dataframe tbody tr th {\n",
       "        vertical-align: top;\n",
       "    }\n",
       "\n",
       "    .dataframe thead th {\n",
       "        text-align: right;\n",
       "    }\n",
       "</style>\n",
       "<table border=\"1\" class=\"dataframe\">\n",
       "  <thead>\n",
       "    <tr style=\"text-align: right;\">\n",
       "      <th></th>\n",
       "      <th>headlines</th>\n",
       "      <th>text</th>\n",
       "    </tr>\n",
       "  </thead>\n",
       "  <tbody>\n",
       "    <tr>\n",
       "      <th>68547</th>\n",
       "      <td>Senior journo Sajeev Gopalan assaulted by poli...</td>\n",
       "      <td>Senior journalist Sajeev Gopalan, working for ...</td>\n",
       "    </tr>\n",
       "    <tr>\n",
       "      <th>73914</th>\n",
       "      <td>Widower wanting to remarry kills daughter in D...</td>\n",
       "      <td>The Delhi Police has arrested a 28-year-old wi...</td>\n",
       "    </tr>\n",
       "    <tr>\n",
       "      <th>6656</th>\n",
       "      <td>I will actively participate in national politi...</td>\n",
       "      <td>Telangana Rashtra Samithi (TRS) President and ...</td>\n",
       "    </tr>\n",
       "    <tr>\n",
       "      <th>48729</th>\n",
       "      <td>80% Ganga to be cleaned before Kumbh Mela: Govt</td>\n",
       "      <td>Union Minister Nitin Gadkari on Wednesday said...</td>\n",
       "    </tr>\n",
       "    <tr>\n",
       "      <th>5311</th>\n",
       "      <td>Hollywood unions unite to fight against sexual...</td>\n",
       "      <td>Hollywood unions including the Screen Actors G...</td>\n",
       "    </tr>\n",
       "    <tr>\n",
       "      <th>27020</th>\n",
       "      <td>Wanted to cry on watching Sanju: Dutt's friend...</td>\n",
       "      <td>Sanjay Dutt's friend Paresh Ghelani, on whom t...</td>\n",
       "    </tr>\n",
       "    <tr>\n",
       "      <th>72055</th>\n",
       "      <td>Iran tests home-grown missile defence system</td>\n",
       "      <td>Iran has tested the Bavar 373 missile which is...</td>\n",
       "    </tr>\n",
       "    <tr>\n",
       "      <th>18487</th>\n",
       "      <td>Hackers steal Amazon refunds from 1,500 users ...</td>\n",
       "      <td>Around 1,500 customers of e-commerce giant Ama...</td>\n",
       "    </tr>\n",
       "    <tr>\n",
       "      <th>82366</th>\n",
       "      <td>Ex UN Secretary-General praises Modi for globa...</td>\n",
       "      <td>Former United Nations Secretary-General Ban Ki...</td>\n",
       "    </tr>\n",
       "    <tr>\n",
       "      <th>74769</th>\n",
       "      <td>No report of Indian casualty in Barcelona atta...</td>\n",
       "      <td>External Affairs Minister Sushma Swaraj said i...</td>\n",
       "    </tr>\n",
       "  </tbody>\n",
       "</table>\n",
       "</div>"
      ],
      "text/plain": [
       "                                               headlines  \\\n",
       "68547  Senior journo Sajeev Gopalan assaulted by poli...   \n",
       "73914  Widower wanting to remarry kills daughter in D...   \n",
       "6656   I will actively participate in national politi...   \n",
       "48729    80% Ganga to be cleaned before Kumbh Mela: Govt   \n",
       "5311   Hollywood unions unite to fight against sexual...   \n",
       "27020  Wanted to cry on watching Sanju: Dutt's friend...   \n",
       "72055      Iran tests home-grown missile defence system    \n",
       "18487  Hackers steal Amazon refunds from 1,500 users ...   \n",
       "82366  Ex UN Secretary-General praises Modi for globa...   \n",
       "74769  No report of Indian casualty in Barcelona atta...   \n",
       "\n",
       "                                                    text  \n",
       "68547  Senior journalist Sajeev Gopalan, working for ...  \n",
       "73914  The Delhi Police has arrested a 28-year-old wi...  \n",
       "6656   Telangana Rashtra Samithi (TRS) President and ...  \n",
       "48729  Union Minister Nitin Gadkari on Wednesday said...  \n",
       "5311   Hollywood unions including the Screen Actors G...  \n",
       "27020  Sanjay Dutt's friend Paresh Ghelani, on whom t...  \n",
       "72055  Iran has tested the Bavar 373 missile which is...  \n",
       "18487  Around 1,500 customers of e-commerce giant Ama...  \n",
       "82366  Former United Nations Secretary-General Ban Ki...  \n",
       "74769  External Affairs Minister Sushma Swaraj said i...  "
      ]
     },
     "execution_count": 4,
     "metadata": {},
     "output_type": "execute_result"
    }
   ],
   "source": [
    "data.sample(10)"
   ]
  },
  {
   "cell_type": "markdown",
   "id": "e7355dbe",
   "metadata": {},
   "source": [
    "이 데이터는 기사의 본문에 해당되는 text와 headlines 두 가지 열로 구성되어져 있습니다.\n",
    "\n",
    "추상적 요약을 하는 경우에는 text를 본문, headlines를 이미 요약된 데이터로 삼아서 모델을 학습할 수 있어요. 추출적 요약을 하는 경우에는 오직 text열만을 사용하세요."
   ]
  },
  {
   "cell_type": "markdown",
   "id": "ad3bcc14",
   "metadata": {},
   "source": [
    "### Step 2. 데이터 전처리하기 (추상적 요약)\n",
    "실습에서 사용된 전처리를 참고하여 각자 필요하다고 생각하는 전처리를 추가 사용하여 텍스트를 정규화 또는 정제해 보세요. 만약, 불용어 제거를 선택한다면 상대적으로 길이가 짧은 요약 데이터에 대해서도 불용어를 제거하는 것이 좋을지 고민해 보세요."
   ]
  },
  {
   "cell_type": "code",
   "execution_count": 5,
   "id": "636d143d",
   "metadata": {},
   "outputs": [
    {
     "name": "stdout",
     "output_type": "stream",
     "text": [
      "Total number of rows: 98401\n"
     ]
    }
   ],
   "source": [
    "# 전체 데이터 갯수 확인\n",
    "total_count = len(data)\n",
    "print(f\"Total number of rows: {total_count}\")"
   ]
  },
  {
   "cell_type": "markdown",
   "id": "71baecc7",
   "metadata": {},
   "source": [
    "중복 샘플과 NULL 값이 존재하는 샘플 제거"
   ]
  },
  {
   "cell_type": "code",
   "execution_count": 6,
   "id": "cfaa2400",
   "metadata": {},
   "outputs": [
    {
     "name": "stdout",
     "output_type": "stream",
     "text": [
      "headlines 열에서 중복을 배제한 유일한 샘플의 수 : 98280\n",
      "text 열에서 중복을 배제한 유일한 샘플의 수 : 98360\n"
     ]
    }
   ],
   "source": [
    "print('headlines 열에서 중복을 배제한 유일한 샘플의 수 :', data['headlines'].nunique())\n",
    "print('text 열에서 중복을 배제한 유일한 샘플의 수 :', data['text'].nunique())"
   ]
  },
  {
   "cell_type": "markdown",
   "id": "94d5e90c",
   "metadata": {},
   "source": [
    "text 자체가 중복이 된 경우는 중복 샘플이므로 제거"
   ]
  },
  {
   "cell_type": "code",
   "execution_count": 7,
   "id": "219df7d5",
   "metadata": {},
   "outputs": [
    {
     "name": "stdout",
     "output_type": "stream",
     "text": [
      "전체 샘플수 : 98360\n"
     ]
    }
   ],
   "source": [
    "# inplace=True 를 설정하면 DataFrame 타입 값을 return 하지 않고 data 내부를 직접적으로 바꿉니다\n",
    "data.drop_duplicates(subset = ['text'], inplace=True)\n",
    "print('전체 샘플수 :', (len(data)))"
   ]
  },
  {
   "cell_type": "markdown",
   "id": "7a3901b3",
   "metadata": {},
   "source": [
    "데이터프레임에 Null 값이 있는지 확인"
   ]
  },
  {
   "cell_type": "code",
   "execution_count": 8,
   "id": "47e41d65",
   "metadata": {},
   "outputs": [
    {
     "name": "stdout",
     "output_type": "stream",
     "text": [
      "headlines    0\n",
      "text         0\n",
      "dtype: int64\n"
     ]
    }
   ],
   "source": [
    "print(data.isnull().sum())"
   ]
  },
  {
   "cell_type": "markdown",
   "id": "9d41060a",
   "metadata": {},
   "source": [
    "headlines 와 text의 최소, 최대, 평균 길이를 구하고 또한 길이 분포를 시각화"
   ]
  },
  {
   "cell_type": "code",
   "execution_count": 9,
   "id": "eb481d2b",
   "metadata": {},
   "outputs": [
    {
     "name": "stdout",
     "output_type": "stream",
     "text": [
      "text의 최소 길이 : 1\n",
      "text의 최대 길이 : 91\n",
      "text의 평균 길이 : 58.23813542090281\n",
      "headlines_len의 최소 길이 : 1\n",
      "headlines_len의 최대 길이 : 18\n",
      "headlines_len의 평균 길이 : 9.553660024400163\n"
     ]
    },
    {
     "data": {
      "image/png": "[encoded data removed]",
      "text/plain": [
       "<Figure size 432x288 with 2 Axes>"
      ]
     },
     "metadata": {
      "needs_background": "light"
     },
     "output_type": "display_data"
    },
    {
     "data": {
      "image/png": "[encoded data removed]",
      "text/plain": [
       "<Figure size 432x288 with 1 Axes>"
      ]
     },
     "metadata": {
      "needs_background": "light"
     },
     "output_type": "display_data"
    },
    {
     "data": {
      "image/png": "[encoded data removed]",
      "text/plain": [
       "<Figure size 432x288 with 1 Axes>"
      ]
     },
     "metadata": {
      "needs_background": "light"
     },
     "output_type": "display_data"
    }
   ],
   "source": [
    "# 길이 분포 출력\n",
    "import matplotlib.pyplot as plt\n",
    "\n",
    "text_len = [len(s.split()) for s in data['text']]\n",
    "headlines_len = [len(s.split()) for s in data['headlines']]\n",
    "\n",
    "print('text의 최소 길이 : {}'.format(np.min(text_len)))\n",
    "print('text의 최대 길이 : {}'.format(np.max(text_len)))\n",
    "print('text의 평균 길이 : {}'.format(np.mean(text_len)))\n",
    "print('headlines_len의 최소 길이 : {}'.format(np.min(headlines_len)))\n",
    "print('headlines_len의 최대 길이 : {}'.format(np.max(headlines_len)))\n",
    "print('headlines_len의 평균 길이 : {}'.format(np.mean(headlines_len)))\n",
    "\n",
    "plt.subplot(1,2,1)\n",
    "plt.boxplot(text_len)\n",
    "plt.title('Text')\n",
    "plt.subplot(1,2,2)\n",
    "plt.boxplot(headlines_len)\n",
    "plt.title('Summary')\n",
    "plt.tight_layout()\n",
    "plt.show()\n",
    "\n",
    "plt.title('Text')\n",
    "plt.hist(text_len, bins = 40)\n",
    "plt.xlabel('length of samples')\n",
    "plt.ylabel('number of samples')\n",
    "plt.show()\n",
    "\n",
    "plt.title('Summary')\n",
    "plt.hist(headlines_len, bins = 40)\n",
    "plt.xlabel('length of samples')\n",
    "plt.ylabel('number of samples')\n",
    "plt.show()"
   ]
  },
  {
   "cell_type": "markdown",
   "id": "4f5fe287",
   "metadata": {},
   "source": [
    "- Text: text의 평균 길이가 58이므로 불용어 제거는 더 간결하고 핵심적인 정보로 만들 수 있음\n",
    "- Headlines: headlines의 평균 길이가 9.5로 짧기 때문에, 불용어 제거 시 중요한 정보까지 제거될 위험. 요약 데이터는 본래 핵심 정보를 담고 있기 때문에, 불용어를 제거하는 대신 원문 그대로 사용"
   ]
  },
  {
   "cell_type": "markdown",
   "id": "25def74c",
   "metadata": {},
   "source": [
    "텍스트 정규화와 불용어 제거\n",
    "\n",
    "- 정규화 사전 출처 : https://stackoverflow.com/questions/19790188/expanding-english-language-contractions-in-python"
   ]
  },
  {
   "cell_type": "code",
   "execution_count": 10,
   "id": "1cfc8aab",
   "metadata": {},
   "outputs": [
    {
     "name": "stdout",
     "output_type": "stream",
     "text": [
      "정규화 사전의 수:  120\n"
     ]
    }
   ],
   "source": [
    "contractions = {\"ain't\": \"is not\", \"aren't\": \"are not\",\"can't\": \"cannot\", \"'cause\": \"because\", \"could've\": \"could have\", \"couldn't\": \"could not\",\n",
    "                           \"didn't\": \"did not\",  \"doesn't\": \"does not\", \"don't\": \"do not\", \"hadn't\": \"had not\", \"hasn't\": \"has not\", \"haven't\": \"have not\",\n",
    "                           \"he'd\": \"he would\",\"he'll\": \"he will\", \"he's\": \"he is\", \"how'd\": \"how did\", \"how'd'y\": \"how do you\", \"how'll\": \"how will\", \"how's\": \"how is\",\n",
    "                           \"I'd\": \"I would\", \"I'd've\": \"I would have\", \"I'll\": \"I will\", \"I'll've\": \"I will have\",\"I'm\": \"I am\", \"I've\": \"I have\", \"i'd\": \"i would\",\n",
    "                           \"i'd've\": \"i would have\", \"i'll\": \"i will\",  \"i'll've\": \"i will have\",\"i'm\": \"i am\", \"i've\": \"i have\", \"isn't\": \"is not\", \"it'd\": \"it would\",\n",
    "                           \"it'd've\": \"it would have\", \"it'll\": \"it will\", \"it'll've\": \"it will have\",\"it's\": \"it is\", \"let's\": \"let us\", \"ma'am\": \"madam\",\n",
    "                           \"mayn't\": \"may not\", \"might've\": \"might have\",\"mightn't\": \"might not\",\"mightn't've\": \"might not have\", \"must've\": \"must have\",\n",
    "                           \"mustn't\": \"must not\", \"mustn't've\": \"must not have\", \"needn't\": \"need not\", \"needn't've\": \"need not have\",\"o'clock\": \"of the clock\",\n",
    "                           \"oughtn't\": \"ought not\", \"oughtn't've\": \"ought not have\", \"shan't\": \"shall not\", \"sha'n't\": \"shall not\", \"shan't've\": \"shall not have\",\n",
    "                           \"she'd\": \"she would\", \"she'd've\": \"she would have\", \"she'll\": \"she will\", \"she'll've\": \"she will have\", \"she's\": \"she is\",\n",
    "                           \"should've\": \"should have\", \"shouldn't\": \"should not\", \"shouldn't've\": \"should not have\", \"so've\": \"so have\",\"so's\": \"so as\",\n",
    "                           \"this's\": \"this is\",\"that'd\": \"that would\", \"that'd've\": \"that would have\", \"that's\": \"that is\", \"there'd\": \"there would\",\n",
    "                           \"there'd've\": \"there would have\", \"there's\": \"there is\", \"here's\": \"here is\",\"they'd\": \"they would\", \"they'd've\": \"they would have\",\n",
    "                           \"they'll\": \"they will\", \"they'll've\": \"they will have\", \"they're\": \"they are\", \"they've\": \"they have\", \"to've\": \"to have\",\n",
    "                           \"wasn't\": \"was not\", \"we'd\": \"we would\", \"we'd've\": \"we would have\", \"we'll\": \"we will\", \"we'll've\": \"we will have\", \"we're\": \"we are\",\n",
    "                           \"we've\": \"we have\", \"weren't\": \"were not\", \"what'll\": \"what will\", \"what'll've\": \"what will have\", \"what're\": \"what are\",\n",
    "                           \"what's\": \"what is\", \"what've\": \"what have\", \"when's\": \"when is\", \"when've\": \"when have\", \"where'd\": \"where did\", \"where's\": \"where is\",\n",
    "                           \"where've\": \"where have\", \"who'll\": \"who will\", \"who'll've\": \"who will have\", \"who's\": \"who is\", \"who've\": \"who have\",\n",
    "                           \"why's\": \"why is\", \"why've\": \"why have\", \"will've\": \"will have\", \"won't\": \"will not\", \"won't've\": \"will not have\",\n",
    "                           \"would've\": \"would have\", \"wouldn't\": \"would not\", \"wouldn't've\": \"would not have\", \"y'all\": \"you all\",\n",
    "                           \"y'all'd\": \"you all would\",\"y'all'd've\": \"you all would have\",\"y'all're\": \"you all are\",\"y'all've\": \"you all have\",\n",
    "                           \"you'd\": \"you would\", \"you'd've\": \"you would have\", \"you'll\": \"you will\", \"you'll've\": \"you will have\",\n",
    "                           \"you're\": \"you are\", \"you've\": \"you have\"}\n",
    "\n",
    "print(\"정규화 사전의 수: \", len(contractions))"
   ]
  },
  {
   "cell_type": "markdown",
   "id": "866f585f",
   "metadata": {},
   "source": [
    "NLTK에서 제공하는 불용어 리스트를 참조해, 샘플에서 불용어를 제거"
   ]
  },
  {
   "cell_type": "code",
   "execution_count": 11,
   "id": "a28cbb6e",
   "metadata": {},
   "outputs": [
    {
     "name": "stdout",
     "output_type": "stream",
     "text": [
      "불용어 개수 : 179\n",
      "['i', 'me', 'my', 'myself', 'we', 'our', 'ours', 'ourselves', 'you', \"you're\", \"you've\", \"you'll\", \"you'd\", 'your', 'yours', 'yourself', 'yourselves', 'he', 'him', 'his', 'himself', 'she', \"she's\", 'her', 'hers', 'herself', 'it', \"it's\", 'its', 'itself', 'they', 'them', 'their', 'theirs', 'themselves', 'what', 'which', 'who', 'whom', 'this', 'that', \"that'll\", 'these', 'those', 'am', 'is', 'are', 'was', 'were', 'be', 'been', 'being', 'have', 'has', 'had', 'having', 'do', 'does', 'did', 'doing', 'a', 'an', 'the', 'and', 'but', 'if', 'or', 'because', 'as', 'until', 'while', 'of', 'at', 'by', 'for', 'with', 'about', 'against', 'between', 'into', 'through', 'during', 'before', 'after', 'above', 'below', 'to', 'from', 'up', 'down', 'in', 'out', 'on', 'off', 'over', 'under', 'again', 'further', 'then', 'once', 'here', 'there', 'when', 'where', 'why', 'how', 'all', 'any', 'both', 'each', 'few', 'more', 'most', 'other', 'some', 'such', 'no', 'nor', 'not', 'only', 'own', 'same', 'so', 'than', 'too', 'very', 's', 't', 'can', 'will', 'just', 'don', \"don't\", 'should', \"should've\", 'now', 'd', 'll', 'm', 'o', 're', 've', 'y', 'ain', 'aren', \"aren't\", 'couldn', \"couldn't\", 'didn', \"didn't\", 'doesn', \"doesn't\", 'hadn', \"hadn't\", 'hasn', \"hasn't\", 'haven', \"haven't\", 'isn', \"isn't\", 'ma', 'mightn', \"mightn't\", 'mustn', \"mustn't\", 'needn', \"needn't\", 'shan', \"shan't\", 'shouldn', \"shouldn't\", 'wasn', \"wasn't\", 'weren', \"weren't\", 'won', \"won't\", 'wouldn', \"wouldn't\"]\n"
     ]
    }
   ],
   "source": [
    "print('불용어 개수 :', len(stopwords.words('english') ))\n",
    "print(stopwords.words('english'))"
   ]
  },
  {
   "cell_type": "markdown",
   "id": "52559eca",
   "metadata": {},
   "source": [
    "- 불용어를 제거\n",
    "- 영어 문자는 소문자\n",
    "- 섞여있는 html 태그를 제거\n",
    "- 정규 표현식을 통해 각종 특수문자를 제거"
   ]
  },
  {
   "cell_type": "code",
   "execution_count": 12,
   "id": "2a6ef7ab",
   "metadata": {},
   "outputs": [],
   "source": [
    "# 데이터 전처리 함수\n",
    "def preprocess_sentence(sentence, remove_stopwords=True):\n",
    "    sentence = sentence.lower() # 텍스트 소문자화\n",
    "    sentence = BeautifulSoup(sentence, \"lxml\").text # <br />, <a href = ...> 등의 html 태그 제거\n",
    "    sentence = re.sub(r'\\([^)]*\\)', '', sentence) # 괄호로 닫힌 문자열 (...) 제거 Ex) my husband (and myself!) for => my husband for\n",
    "    sentence = re.sub('\"','', sentence) # 쌍따옴표 \" 제거\n",
    "    sentence = ' '.join([contractions[t] if t in contractions else t for t in sentence.split(\" \")]) # 약어 정규화\n",
    "    sentence = re.sub(r\"'s\\b\",\"\", sentence) # 소유격 제거. Ex) roland's -> roland\n",
    "    sentence = re.sub(\"[^a-zA-Z]\", \" \", sentence) # 영어 외 문자(숫자, 특수문자 등) 공백으로 변환\n",
    "    sentence = re.sub('[m]{2,}', 'mm', sentence) # m이 3개 이상이면 2개로 변경. Ex) ummmmmmm yeah -> umm yeah\n",
    "    \n",
    "    # 불용어 제거 (text)\n",
    "    if remove_stopwords:\n",
    "        tokens = ' '.join(word for word in sentence.split() if not word in stopwords.words('english') if len(word) > 1)\n",
    "    # 불용어 미제거 (headlines)\n",
    "    else:\n",
    "        tokens = ' '.join(word for word in sentence.split() if len(word) > 1)\n",
    "    return tokens"
   ]
  },
  {
   "cell_type": "markdown",
   "id": "30a061ab",
   "metadata": {},
   "source": [
    "preprocess_sentence() test"
   ]
  },
  {
   "cell_type": "code",
   "execution_count": 13,
   "id": "4dbce6b0",
   "metadata": {},
   "outputs": [
    {
     "name": "stdout",
     "output_type": "stream",
     "text": [
      "text:  everything bought great infact ordered twice third ordered wasfor mother father\n",
      "headlines: great way to start the day\n"
     ]
    }
   ],
   "source": [
    "temp_text = 'Everything I bought was great, infact I ordered twice and the third ordered was<br />for my mother and father.'\n",
    "temp_summary = 'Great way to start (or finish) the day!!!'\n",
    "\n",
    "print(\"text: \", preprocess_sentence(temp_text))\n",
    "print(\"headlines:\", preprocess_sentence(temp_summary, False))  # 불용어를 제거하지 않습니다."
   ]
  },
  {
   "cell_type": "code",
   "execution_count": 14,
   "id": "80813d12",
   "metadata": {},
   "outputs": [
    {
     "name": "stdout",
     "output_type": "stream",
     "text": [
      "text 전처리 후 결과:  ['saurav kant alumnus upgrad iiit pg program machine learning artificial intelligence sr systems engineer infosys almost years work experience program upgrad degree career support helped transition data scientist tech mahindra salary hike upgrad online power learning powered lakh careers', 'kunal shah credit card bill payment platform cred gave users chance win free food swiggy one year pranav kaushik delhi techie bagged reward spending cred coins users get one cred coin per rupee bill paid used avail rewards brands like ixigo bookmyshow ubereats cult fit', 'new zealand defeated india wickets fourth odi hamilton thursday win first match five match odi series india lost international match rohit sharma captaincy consecutive victories dating back march match witnessed india getting seventh lowest total odi cricket history', 'aegon life iterm insurance plan customers enjoy tax benefits premiums paid save taxes plan provides life cover age years also customers options insure critical illnesses disability accidental death benefit rider life cover age years', 'speaking sexual harassment allegations rajkumar hirani sonam kapoor said known hirani many years true metoo movement get derailed metoo movement always believe woman case need reserve judgment added hirani accused assistant worked sanju']\n"
     ]
    }
   ],
   "source": [
    "# 전체 Text 데이터에 대한 전처리 : 10분 이상 시간이 걸릴 수 있습니다. \n",
    "clean_text = []\n",
    "\n",
    "for sentence in data['text']:\n",
    "    clean_text.append(preprocess_sentence(sentence))\n",
    "\n",
    "# 전처리 후 출력\n",
    "print(\"text 전처리 후 결과: \", clean_text[:5])"
   ]
  },
  {
   "cell_type": "code",
   "execution_count": 15,
   "id": "6250fd4d",
   "metadata": {},
   "outputs": [
    {
     "name": "stdout",
     "output_type": "stream",
     "text": [
      "headlines 전처리 후 결과:  ['upgrad learner switches to career in ml al with salary hike', 'delhi techie wins free food from swiggy for one year on cred', 'new zealand end rohit sharma led india match winning streak', 'aegon life iterm insurance plan helps customers save tax', 'have known hirani for yrs what if metoo claims are not true sonam']\n"
     ]
    }
   ],
   "source": [
    "# 전체 Summary 데이터에 대한 전처리: 시간이 오래 걸릴 수 있음\n",
    "clean_headlines = []\n",
    "\n",
    "for sentence in data['headlines']:\n",
    "    clean_headlines.append(preprocess_sentence(sentence, remove_stopwords=False))\n",
    "\n",
    "# 전처리 후 출력\n",
    "print(\"headlines 전처리 후 결과: \", clean_headlines[:5])"
   ]
  },
  {
   "cell_type": "markdown",
   "id": "14001f93",
   "metadata": {},
   "source": [
    "- empty 샘플이 생겼는지 확인\n",
    "- empty 값을 가진 샘플들이 있다면, 모두 Null 값을 가진 샘플로 대체"
   ]
  },
  {
   "cell_type": "code",
   "execution_count": 16,
   "id": "5ae9e8b0",
   "metadata": {},
   "outputs": [],
   "source": [
    "data['text'] = clean_text\n",
    "data['headlines'] = clean_headlines\n",
    "\n",
    "# 빈 값을 Null 값으로 변환\n",
    "data.replace('', np.nan, inplace=True)"
   ]
  },
  {
   "cell_type": "code",
   "execution_count": 17,
   "id": "c4898f7d",
   "metadata": {},
   "outputs": [
    {
     "data": {
      "text/plain": [
       "headlines    0\n",
       "text         0\n",
       "dtype: int64"
      ]
     },
     "execution_count": 17,
     "metadata": {},
     "output_type": "execute_result"
    }
   ],
   "source": [
    "# Null 값 확인\n",
    "data.isnull().sum()"
   ]
  },
  {
   "cell_type": "code",
   "execution_count": 18,
   "id": "3a2694c4",
   "metadata": {},
   "outputs": [
    {
     "name": "stdout",
     "output_type": "stream",
     "text": [
      "전체 샘플수 : 98360\n"
     ]
    }
   ],
   "source": [
    "# Null 값 제거\n",
    "data.dropna(axis=0, inplace=True)\n",
    "print('전체 샘플수 :', (len(data)))"
   ]
  },
  {
   "cell_type": "markdown",
   "id": "b60cf39d",
   "metadata": {},
   "source": [
    "샘플의 최대 길이 정하기"
   ]
  },
  {
   "cell_type": "markdown",
   "id": "6c2957c7",
   "metadata": {},
   "source": [
    "최대 길이는 평균 + 2*표준편차"
   ]
  },
  {
   "cell_type": "code",
   "execution_count": 19,
   "id": "fa085f83",
   "metadata": {},
   "outputs": [
    {
     "name": "stdout",
     "output_type": "stream",
     "text": [
      "text의 최대 길이 (평균 + 2*표준편차): 42\n",
      "headlines의 최대 길이 (평균 + 2*표준편차): 12\n"
     ]
    }
   ],
   "source": [
    "text_len = [len(s.split()) for s in data['text']]\n",
    "headlines_len = [len(s.split()) for s in data['headlines']]\n",
    "\n",
    "# 최대 길이 계산\n",
    "text_mean = np.mean(text_len)\n",
    "text_std = np.std(text_len)\n",
    "headlines_mean = np.mean(headlines_len)\n",
    "headlines_std = np.std(headlines_len)\n",
    "\n",
    "max_text_len = int(text_mean + 2 * text_std)\n",
    "max_headlines_len = int(headlines_mean + 2 * headlines_std)\n",
    "\n",
    "print(f\"text의 최대 길이 (평균 + 2*표준편차): {max_text_len}\")\n",
    "print(f\"headlines의 최대 길이 (평균 + 2*표준편차): {max_headlines_len}\")"
   ]
  },
  {
   "cell_type": "markdown",
   "id": "6f6d8b6a",
   "metadata": {},
   "source": [
    "훈련 데이터와 샘플의 길이를 입력하면, 데이터의 몇 %가 해당하는지 계산하는 함수"
   ]
  },
  {
   "cell_type": "code",
   "execution_count": 20,
   "id": "44e5e781",
   "metadata": {},
   "outputs": [],
   "source": [
    "def below_threshold_len(max_len, nested_list):\n",
    "  cnt = 0\n",
    "  for s in nested_list:\n",
    "    if(len(s.split()) <= max_len):\n",
    "        cnt = cnt + 1\n",
    "  print('전체 샘플 중 길이가 %s 이하인 샘플의 비율: %s'%(max_len, (cnt / len(nested_list))))"
   ]
  },
  {
   "cell_type": "code",
   "execution_count": 21,
   "id": "6bea451a",
   "metadata": {},
   "outputs": [
    {
     "name": "stdout",
     "output_type": "stream",
     "text": [
      "전체 샘플 중 길이가 42 이하인 샘플의 비율: 0.9750305002033347\n",
      "전체 샘플 중 길이가 12 이하인 샘플의 비율: 0.9880337535583571\n"
     ]
    }
   ],
   "source": [
    "below_threshold_len(max_text_len, data['text'])\n",
    "below_threshold_len(max_headlines_len,  data['headlines'])"
   ]
  },
  {
   "cell_type": "code",
   "execution_count": 22,
   "id": "ff445fa6",
   "metadata": {},
   "outputs": [
    {
     "name": "stdout",
     "output_type": "stream",
     "text": [
      "최대 길이 조건을 만족하는 전체 샘플 수: 94754\n"
     ]
    }
   ],
   "source": [
    "# max_text_len 및 max_headlines_len보다 긴 샘플 제외\n",
    "# data = data[(data['text'].apply(lambda x: len(x.split())) <= max_text_len) &\n",
    "#             (data['headlines'].apply(lambda x: len(x.split())) <= max_headlines_len)]\n",
    "data = data[(data['text'].apply(lambda x: len(x.split())) <= max_text_len) &\n",
    "            (data['headlines'].apply(lambda x: len(x.split())) <= max_headlines_len)].reset_index(drop=True).copy()\n",
    "\n",
    "print('최대 길이 조건을 만족하는 전체 샘플 수:', len(data))"
   ]
  },
  {
   "cell_type": "markdown",
   "id": "7f5ca7c2",
   "metadata": {},
   "source": [
    "### 시작 토큰과 종료 토큰 추가하기"
   ]
  },
  {
   "cell_type": "markdown",
   "id": "d676c17b",
   "metadata": {},
   "source": [
    "- seq2seq 훈련을 위해서는 디코더의 입력과 레이블에 시작 토큰과 종료 토큰을 추가할 필요 있음\n",
    "- 시작 토큰은 sostoken, 종료 토큰은 eostoken이라 임의로 명명하고 앞, 뒤로 추가\n",
    "- 디코더의 입력에 해당하면서 시작 토큰이 맨 앞에 있는 문장의 이름을 decoder_input\n",
    "- 디코더의 출력 또는 레이블에 해당되면서 종료 토큰이 맨 뒤에 붙는 문장의 이름을 decoder_target\n",
    "- 두 개의 문장 모두 headlines 열로부터 만듬"
   ]
  },
  {
   "cell_type": "code",
   "execution_count": 23,
   "id": "4a2b4c5f",
   "metadata": {},
   "outputs": [
    {
     "data": {
      "text/html": [
       "<div>\n",
       "<style scoped>\n",
       "    .dataframe tbody tr th:only-of-type {\n",
       "        vertical-align: middle;\n",
       "    }\n",
       "\n",
       "    .dataframe tbody tr th {\n",
       "        vertical-align: top;\n",
       "    }\n",
       "\n",
       "    .dataframe thead th {\n",
       "        text-align: right;\n",
       "    }\n",
       "</style>\n",
       "<table border=\"1\" class=\"dataframe\">\n",
       "  <thead>\n",
       "    <tr style=\"text-align: right;\">\n",
       "      <th></th>\n",
       "      <th>headlines</th>\n",
       "      <th>text</th>\n",
       "      <th>decoder_input</th>\n",
       "      <th>decoder_target</th>\n",
       "    </tr>\n",
       "  </thead>\n",
       "  <tbody>\n",
       "    <tr>\n",
       "      <th>0</th>\n",
       "      <td>upgrad learner switches to career in ml al wit...</td>\n",
       "      <td>saurav kant alumnus upgrad iiit pg program mac...</td>\n",
       "      <td>sostoken upgrad learner switches to career in ...</td>\n",
       "      <td>upgrad learner switches to career in ml al wit...</td>\n",
       "    </tr>\n",
       "    <tr>\n",
       "      <th>1</th>\n",
       "      <td>new zealand end rohit sharma led india match w...</td>\n",
       "      <td>new zealand defeated india wickets fourth odi ...</td>\n",
       "      <td>sostoken new zealand end rohit sharma led indi...</td>\n",
       "      <td>new zealand end rohit sharma led india match w...</td>\n",
       "    </tr>\n",
       "    <tr>\n",
       "      <th>2</th>\n",
       "      <td>aegon life iterm insurance plan helps customer...</td>\n",
       "      <td>aegon life iterm insurance plan customers enjo...</td>\n",
       "      <td>sostoken aegon life iterm insurance plan helps...</td>\n",
       "      <td>aegon life iterm insurance plan helps customer...</td>\n",
       "    </tr>\n",
       "    <tr>\n",
       "      <th>3</th>\n",
       "      <td>rahat fateh ali khan denies getting notice for...</td>\n",
       "      <td>pakistani singer rahat fateh ali khan denied r...</td>\n",
       "      <td>sostoken rahat fateh ali khan denies getting n...</td>\n",
       "      <td>rahat fateh ali khan denies getting notice for...</td>\n",
       "    </tr>\n",
       "    <tr>\n",
       "      <th>4</th>\n",
       "      <td>india get all out for their lowest odi total i...</td>\n",
       "      <td>india recorded lowest odi total new zealand ge...</td>\n",
       "      <td>sostoken india get all out for their lowest od...</td>\n",
       "      <td>india get all out for their lowest odi total i...</td>\n",
       "    </tr>\n",
       "  </tbody>\n",
       "</table>\n",
       "</div>"
      ],
      "text/plain": [
       "                                           headlines  \\\n",
       "0  upgrad learner switches to career in ml al wit...   \n",
       "1  new zealand end rohit sharma led india match w...   \n",
       "2  aegon life iterm insurance plan helps customer...   \n",
       "3  rahat fateh ali khan denies getting notice for...   \n",
       "4  india get all out for their lowest odi total i...   \n",
       "\n",
       "                                                text  \\\n",
       "0  saurav kant alumnus upgrad iiit pg program mac...   \n",
       "1  new zealand defeated india wickets fourth odi ...   \n",
       "2  aegon life iterm insurance plan customers enjo...   \n",
       "3  pakistani singer rahat fateh ali khan denied r...   \n",
       "4  india recorded lowest odi total new zealand ge...   \n",
       "\n",
       "                                       decoder_input  \\\n",
       "0  sostoken upgrad learner switches to career in ...   \n",
       "1  sostoken new zealand end rohit sharma led indi...   \n",
       "2  sostoken aegon life iterm insurance plan helps...   \n",
       "3  sostoken rahat fateh ali khan denies getting n...   \n",
       "4  sostoken india get all out for their lowest od...   \n",
       "\n",
       "                                      decoder_target  \n",
       "0  upgrad learner switches to career in ml al wit...  \n",
       "1  new zealand end rohit sharma led india match w...  \n",
       "2  aegon life iterm insurance plan helps customer...  \n",
       "3  rahat fateh ali khan denies getting notice for...  \n",
       "4  india get all out for their lowest odi total i...  "
      ]
     },
     "execution_count": 23,
     "metadata": {},
     "output_type": "execute_result"
    }
   ],
   "source": [
    "# headlines 데이터에는 시작 토큰과 종료 토큰을 추가한다.\n",
    "data['decoder_input'] = data['headlines'].apply(lambda x: 'sostoken ' + x)\n",
    "data['decoder_target'] = data['headlines'].apply(lambda x: x + ' eostoken')\n",
    "\n",
    "data.head()"
   ]
  },
  {
   "cell_type": "code",
   "execution_count": 60,
   "id": "5361acc4",
   "metadata": {},
   "outputs": [],
   "source": [
    "encoder_input = np.array(data['text']) # 인코더의 입력\n",
    "decoder_input = np.array(data['decoder_input']) # 디코더의 입력\n",
    "decoder_target = np.array(data['decoder_target']) # 디코더의 레이블"
   ]
  },
  {
   "cell_type": "markdown",
   "id": "1816d6b5",
   "metadata": {},
   "source": [
    "### 훈련 데이터와 테스트 데이터를 분리"
   ]
  },
  {
   "cell_type": "code",
   "execution_count": 61,
   "id": "8bcdd7a6",
   "metadata": {},
   "outputs": [
    {
     "name": "stdout",
     "output_type": "stream",
     "text": [
      "[49998 25628 39317 ... 59050 14130 77167]\n"
     ]
    }
   ],
   "source": [
    "indices = np.arange(encoder_input.shape[0])\n",
    "np.random.shuffle(indices)\n",
    "print(indices)"
   ]
  },
  {
   "cell_type": "code",
   "execution_count": 62,
   "id": "8aa92516",
   "metadata": {},
   "outputs": [],
   "source": [
    "encoder_input = encoder_input[indices]\n",
    "decoder_input = decoder_input[indices]\n",
    "decoder_target = decoder_target[indices]"
   ]
  },
  {
   "cell_type": "markdown",
   "id": "c2c7abcf",
   "metadata": {},
   "source": [
    "8:2의 비율로 훈련 데이터와 테스트 데이터로 분리"
   ]
  },
  {
   "cell_type": "code",
   "execution_count": 63,
   "id": "d8617f39",
   "metadata": {},
   "outputs": [
    {
     "name": "stdout",
     "output_type": "stream",
     "text": [
      "테스트 데이터의 수 : 18950\n"
     ]
    }
   ],
   "source": [
    "n_of_val = int(len(encoder_input)*0.2)\n",
    "print('테스트 데이터의 수 :', n_of_val)"
   ]
  },
  {
   "cell_type": "code",
   "execution_count": 64,
   "id": "c36f8a79",
   "metadata": {},
   "outputs": [
    {
     "name": "stdout",
     "output_type": "stream",
     "text": [
      "훈련 데이터의 개수 : 75804\n",
      "훈련 레이블의 개수 : 75804\n",
      "테스트 데이터의 개수 : 18950\n",
      "테스트 레이블의 개수 : 18950\n"
     ]
    }
   ],
   "source": [
    "encoder_input_train = encoder_input[:-n_of_val]\n",
    "decoder_input_train = decoder_input[:-n_of_val]\n",
    "decoder_target_train = decoder_target[:-n_of_val]\n",
    "\n",
    "encoder_input_test = encoder_input[-n_of_val:]\n",
    "decoder_input_test = decoder_input[-n_of_val:]\n",
    "decoder_target_test = decoder_target[-n_of_val:]\n",
    "\n",
    "print('훈련 데이터의 개수 :', len(encoder_input_train))\n",
    "print('훈련 레이블의 개수 :', len(decoder_target_train))\n",
    "print('테스트 데이터의 개수 :', len(encoder_input_test))\n",
    "print('테스트 레이블의 개수 :', len(decoder_target_test))"
   ]
  },
  {
   "cell_type": "markdown",
   "id": "ed4f1591",
   "metadata": {},
   "source": [
    "### 단어 집합(vocabulary) 만들기 및 정수 인코딩"
   ]
  },
  {
   "cell_type": "markdown",
   "id": "a9b577b2",
   "metadata": {},
   "source": [
    "훈련 데이터에 대해서 단어 집합을 만들어볼게요. 우선, 원문에 해당되는 encoder_input_train에 대해서 단어 집합을 만들게요.\n",
    "\n",
    "Keras의 토크나이저를 사용하면, 입력된 훈련 데이터로부터 단어 집합을 만들 수 있어요."
   ]
  },
  {
   "cell_type": "code",
   "execution_count": 65,
   "id": "d439cb9f",
   "metadata": {},
   "outputs": [],
   "source": [
    "src_tokenizer = Tokenizer(oov_token='UNK') # 토크나이저 정의\n",
    "src_tokenizer.fit_on_texts(encoder_input_train) # 입력된 데이터로부터 단어 집합 생성"
   ]
  },
  {
   "cell_type": "markdown",
   "id": "b6c19510",
   "metadata": {},
   "source": [
    "등장 빈도수가 7회 미만인 단어들이 이 데이터에서 얼만큼의 비중을 차지하는지 확인  \n",
    "src_tokenizer.word_counts.items()에는 단어와 각 단어의 등장 빈도수가 저장돼 있는데, 이를 통해서 통계적인 정보 확인"
   ]
  },
  {
   "cell_type": "code",
   "execution_count": 66,
   "id": "7e177608",
   "metadata": {},
   "outputs": [
    {
     "name": "stdout",
     "output_type": "stream",
     "text": [
      "단어 집합(vocabulary)의 크기 : 67935\n",
      "등장 빈도가 6번 이하인 희귀 단어의 수: 46261\n",
      "단어 집합에서 희귀 단어를 제외시킬 경우의 단어 집합의 크기 21674\n",
      "단어 집합에서 희귀 단어의 비율: 68.0959740928829\n",
      "전체 등장 빈도에서 희귀 단어 등장 빈도 비율: 3.5520828013550556\n"
     ]
    }
   ],
   "source": [
    "threshold = 7\n",
    "total_cnt = len(src_tokenizer.word_index) # 단어의 수\n",
    "rare_cnt = 0 # 등장 빈도수가 threshold보다 작은 단어의 개수를 카운트\n",
    "total_freq = 0 # 훈련 데이터의 전체 단어 빈도수 총 합\n",
    "rare_freq = 0 # 등장 빈도수가 threshold보다 작은 단어의 등장 빈도수의 총 합\n",
    "\n",
    "# 단어와 빈도수의 쌍(pair)을 key와 value로 받는다.\n",
    "for key, value in src_tokenizer.word_counts.items():\n",
    "    total_freq = total_freq + value\n",
    "\n",
    "    # 단어의 등장 빈도수가 threshold보다 작으면\n",
    "    if(value < threshold):\n",
    "        rare_cnt = rare_cnt + 1\n",
    "        rare_freq = rare_freq + value\n",
    "\n",
    "print('단어 집합(vocabulary)의 크기 :', total_cnt)\n",
    "print('등장 빈도가 %s번 이하인 희귀 단어의 수: %s'%(threshold - 1, rare_cnt))\n",
    "print('단어 집합에서 희귀 단어를 제외시킬 경우의 단어 집합의 크기 %s'%(total_cnt - rare_cnt))\n",
    "print(\"단어 집합에서 희귀 단어의 비율:\", (rare_cnt / total_cnt)*100)\n",
    "print(\"전체 등장 빈도에서 희귀 단어 등장 빈도 비율:\", (rare_freq / total_freq)*100)"
   ]
  },
  {
   "cell_type": "markdown",
   "id": "26ce7fa3",
   "metadata": {},
   "source": [
    "- 등장 빈도가 threshold 값인 7회 미만, 즉 6회 이하인 단어들은 단어 집합에서 무려 68% 이상을 차지\n",
    "- 실제로 훈련 데이터에서 등장 빈도로 차지하는 비중은 상대적으로 적은 수치인 3.56%\n",
    "- 등장 빈도가 6회 이하인 단어들은 정수 인코딩 과정에서 빼고, 훈련 데이터에서 제거\n",
    "- 단어의 등장 빈도 수를 예제와 같이 7회 미만으로 잡았는데 기준이 모호하지만 통계 결과에서는 큰 문제가 없어 보인다.\n",
    "- 이를 제외한 단어 집합의 크기를 2만여 개로 계산했는데, 이와 비슷한 값으로 어림잡아 단어 집합의 크기를 21,000으로 제한\n",
    "- 토크나이저를 정의할 때 num_words의 값을 정해주면, 단어 집합의 크기를 제한할 수 있음"
   ]
  },
  {
   "cell_type": "code",
   "execution_count": 67,
   "id": "ec37aabb",
   "metadata": {},
   "outputs": [],
   "source": [
    "src_vocab = 21000\n",
    "src_tokenizer = Tokenizer(num_words=src_vocab, oov_token='UNK') # 단어 집합의 크기를 21,000으로 제한하고 OOV 토큰 추가\n",
    "src_tokenizer.fit_on_texts(encoder_input_train) # 입력된 데이터로부터 단어 집합 재생성"
   ]
  },
  {
   "cell_type": "markdown",
   "id": "831b440f",
   "metadata": {},
   "source": [
    "- texts_to_sequences()는 생성된 단어 집합에 기반하여 입력으로 주어진 텍스트 데이터의 단어들을 모두 정수로 변환하는 정수 인코딩을 수행\n",
    "- 현재 단어 집합의 크기를 21,000으로 제한했으니까 이제 21,000이 넘는 숫자들은 정수 인코딩 후에는 데이터에 존재하지 않음"
   ]
  },
  {
   "cell_type": "code",
   "execution_count": 68,
   "id": "683ab833",
   "metadata": {},
   "outputs": [
    {
     "name": "stdout",
     "output_type": "stream",
     "text": [
      "[[244, 1381, 146, 8459, 8760, 6238, 17062, 76, 60, 602, 11912, 809, 161, 10727, 832, 2, 503, 117, 1191, 1695, 2165, 89, 472, 9993, 117, 3134, 1223, 1709, 809, 2], [806, 49, 629, 301, 34, 84, 531, 15, 2993, 14995, 13442, 868, 1153, 143, 4691, 1212, 331, 839, 26, 362, 199, 590, 2226, 2129, 1973, 2, 806, 66, 920, 36, 762, 10479, 19016, 733], [268, 50, 1213, 175, 67, 1328, 801, 9994, 1793, 165, 7356, 9073, 1793, 9994, 67, 431, 1213, 2854, 465, 5167, 9994, 1640, 1421, 393, 811, 10987, 3878, 147, 1793, 3340, 1181, 883, 1221, 3830]]\n"
     ]
    }
   ],
   "source": [
    "# 텍스트 시퀀스를 정수 시퀀스로 변환\n",
    "encoder_input_train = src_tokenizer.texts_to_sequences(encoder_input_train) \n",
    "encoder_input_test = src_tokenizer.texts_to_sequences(encoder_input_test)\n",
    "\n",
    "# 잘 진행되었는지 샘플 출력\n",
    "print(encoder_input_train[:3])"
   ]
  },
  {
   "cell_type": "markdown",
   "id": "ef5e53a3",
   "metadata": {},
   "source": [
    "- headlines 데이터에 대해서도 동일한 작업을 수행\n",
    "- 케라스의 토크나이저를 사용하여 decoder_input_train을 입력으로 전체 단어 집합과 각 단어에 대한 빈도수를 계산\n",
    "- 단어의 등장 빈도 수를 6회 미만으로 잡았는데 기준이 모호하지만 통계 결과에서는 큰 문제가 없어 보인다."
   ]
  },
  {
   "cell_type": "code",
   "execution_count": 69,
   "id": "5f3688d6",
   "metadata": {},
   "outputs": [],
   "source": [
    "tar_tokenizer = Tokenizer(oov_token='UNK')\n",
    "tar_tokenizer.fit_on_texts(decoder_input_train)"
   ]
  },
  {
   "cell_type": "code",
   "execution_count": 70,
   "id": "288301a3",
   "metadata": {},
   "outputs": [
    {
     "name": "stdout",
     "output_type": "stream",
     "text": [
      "단어 집합(vocabulary)의 크기 : 29527\n",
      "등장 빈도가 5번 이하인 희귀 단어의 수: 19310\n",
      "단어 집합에서 희귀 단어를 제외시킬 경우의 단어 집합의 크기 10217\n",
      "단어 집합에서 희귀 단어의 비율: 65.39777153114099\n",
      "전체 등장 빈도에서 희귀 단어 등장 빈도 비율: 4.753837069740696\n"
     ]
    }
   ],
   "source": [
    "threshold = 6\n",
    "total_cnt = len(tar_tokenizer.word_index) # 단어의 수\n",
    "rare_cnt = 0 # 등장 빈도수가 threshold보다 작은 단어의 개수를 카운트\n",
    "total_freq = 0 # 훈련 데이터의 전체 단어 빈도수 총 합\n",
    "rare_freq = 0 # 등장 빈도수가 threshold보다 작은 단어의 등장 빈도수의 총 합\n",
    "\n",
    "# 단어와 빈도수의 쌍(pair)을 key와 value로 받는다.\n",
    "for key, value in tar_tokenizer.word_counts.items():\n",
    "    total_freq = total_freq + value\n",
    "\n",
    "    # 단어의 등장 빈도수가 threshold보다 작으면\n",
    "    if(value < threshold):\n",
    "        rare_cnt = rare_cnt + 1\n",
    "        rare_freq = rare_freq + value\n",
    "\n",
    "print('단어 집합(vocabulary)의 크기 :', total_cnt)\n",
    "print('등장 빈도가 %s번 이하인 희귀 단어의 수: %s'%(threshold - 1, rare_cnt))\n",
    "print('단어 집합에서 희귀 단어를 제외시킬 경우의 단어 집합의 크기 %s'%(total_cnt - rare_cnt))\n",
    "print(\"단어 집합에서 희귀 단어의 비율:\", (rare_cnt / total_cnt)*100)\n",
    "print(\"전체 등장 빈도에서 희귀 단어 등장 빈도 비율:\", (rare_freq / total_freq)*100)"
   ]
  },
  {
   "cell_type": "code",
   "execution_count": 71,
   "id": "9af3c3ca",
   "metadata": {},
   "outputs": [
    {
     "name": "stdout",
     "output_type": "stream",
     "text": [
      "input\n",
      "input  [[2, 155, 7, 607, 117, 92, 9, 7544, 4562, 5, 451], [2, 349, 397, 61, 3307, 1, 1, 31, 1396, 18, 532], [2, 25, 777, 407, 8, 786, 9, 976, 2884, 1, 70, 1396], [2, 5759, 421, 1, 4, 704, 331, 256, 8, 1780, 8, 1350, 858], [2, 878, 1781, 181, 5, 334, 431, 347, 90, 3805]]\n",
      "target\n",
      "decoder  [[155, 7, 607, 117, 92, 9, 7544, 4562, 5, 451, 3], [349, 397, 61, 3307, 1, 1, 31, 1396, 18, 532, 3], [25, 777, 407, 8, 786, 9, 976, 2884, 1, 70, 1396, 3], [5759, 421, 1, 4, 704, 331, 256, 8, 1780, 8, 1350, 858, 3], [878, 1781, 181, 5, 334, 431, 347, 90, 3805, 3]]\n"
     ]
    }
   ],
   "source": [
    "tar_vocab = 10000\n",
    "tar_tokenizer = Tokenizer(num_words=tar_vocab, oov_token='UNK')\n",
    "tar_tokenizer.fit_on_texts(decoder_input_train)\n",
    "tar_tokenizer.fit_on_texts(decoder_target_train)\n",
    "\n",
    "# 텍스트 시퀀스를 정수 시퀀스로 변환\n",
    "decoder_input_train = tar_tokenizer.texts_to_sequences(decoder_input_train) \n",
    "decoder_target_train = tar_tokenizer.texts_to_sequences(decoder_target_train)\n",
    "decoder_input_test = tar_tokenizer.texts_to_sequences(decoder_input_test)\n",
    "decoder_target_test = tar_tokenizer.texts_to_sequences(decoder_target_test)\n",
    "\n",
    "# 잘 변환되었는지 확인\n",
    "print('input')\n",
    "print('input ',decoder_input_train[:5])\n",
    "print('target')\n",
    "print('decoder ',decoder_target_train[:5])"
   ]
  },
  {
   "cell_type": "markdown",
   "id": "217db207",
   "metadata": {},
   "source": [
    "- 전체 데이터에서 빈도수가 낮은 단어가 삭제되었다는 것은 빈도수가 낮은 단어만으로 구성되었던 샘플들은 이제 빈(empty) 샘플이 되었을 가능성 있음\n",
    "\n",
    "- 훈련 데이터와 테스트 데이터에 대해서 요약문의 길이가 1인 경우의 인덱스를 각각 drop_train과 drop_test에 라는 변수에 저장. 이 샘플들이 있으면 모두 삭제"
   ]
  },
  {
   "cell_type": "code",
   "execution_count": 72,
   "id": "fcc6c588",
   "metadata": {},
   "outputs": [
    {
     "name": "stdout",
     "output_type": "stream",
     "text": [
      "삭제할 훈련 데이터의 개수 : 0\n",
      "삭제할 테스트 데이터의 개수 : 0\n"
     ]
    }
   ],
   "source": [
    "drop_train = [index for index, sentence in enumerate(decoder_input_train) if len(sentence) == 1]\n",
    "drop_test = [index for index, sentence in enumerate(decoder_input_test) if len(sentence) == 1]\n",
    "\n",
    "print('삭제할 훈련 데이터의 개수 :', len(drop_train))\n",
    "print('삭제할 테스트 데이터의 개수 :', len(drop_test))"
   ]
  },
  {
   "cell_type": "code",
   "execution_count": 73,
   "id": "212e59fc",
   "metadata": {},
   "outputs": [
    {
     "name": "stdout",
     "output_type": "stream",
     "text": [
      "훈련 데이터의 개수 : 75804\n",
      "훈련 레이블의 개수 : 75804\n",
      "테스트 데이터의 개수 : 18950\n",
      "테스트 레이블의 개수 : 18950\n"
     ]
    }
   ],
   "source": [
    "encoder_input_train = [sentence for index, sentence in enumerate(encoder_input_train) if index not in drop_train]\n",
    "decoder_input_train = [sentence for index, sentence in enumerate(decoder_input_train) if index not in drop_train]\n",
    "decoder_target_train = [sentence for index, sentence in enumerate(decoder_target_train) if index not in drop_train]\n",
    "\n",
    "encoder_input_test = [sentence for index, sentence in enumerate(encoder_input_test) if index not in drop_test]\n",
    "decoder_input_test = [sentence for index, sentence in enumerate(decoder_input_test) if index not in drop_test]\n",
    "decoder_target_test = [sentence for index, sentence in enumerate(decoder_target_test) if index not in drop_test]\n",
    "\n",
    "print('훈련 데이터의 개수 :', len(encoder_input_train))\n",
    "print('훈련 레이블의 개수 :', len(decoder_input_train))\n",
    "print('테스트 데이터의 개수 :', len(encoder_input_test))\n",
    "print('테스트 레이블의 개수 :', len(decoder_input_test))"
   ]
  },
  {
   "cell_type": "markdown",
   "id": "c8c759fc",
   "metadata": {},
   "source": [
    "### padding 방식 'post' 사용\n",
    "- 어제 test 시 post, pre 가 별 차이 없이 나왔다.\n",
    "- 특히 오늘은 attention 테크닉을 사용하는 모델이기 때문에 post 와 pre 가 큰 차이점이 없을 거라고 예상하고 post 를 먼저 사용해서 전처리 하도록 한다."
   ]
  },
  {
   "cell_type": "code",
   "execution_count": 74,
   "id": "55aa7749",
   "metadata": {},
   "outputs": [],
   "source": [
    "encoder_input_train = pad_sequences(encoder_input_train, maxlen=max_text_len, padding='post')\n",
    "encoder_input_test = pad_sequences(encoder_input_test, maxlen=max_text_len, padding='post')\n",
    "decoder_input_train = pad_sequences(decoder_input_train, maxlen=max_headlines_len, padding='post')\n",
    "decoder_target_train = pad_sequences(decoder_target_train, maxlen=max_headlines_len, padding='post')\n",
    "decoder_input_test = pad_sequences(decoder_input_test, maxlen=max_headlines_len, padding='post')\n",
    "decoder_target_test = pad_sequences(decoder_target_test, maxlen=max_headlines_len, padding='post')"
   ]
  },
  {
   "cell_type": "markdown",
   "id": "cca4f4ad",
   "metadata": {},
   "source": [
    "### Step 3. 어텐션 메커니즘 사용하기 (추상적 요약)\n",
    "일반적인 seq2seq보다는 어텐션 메커니즘을 사용한 seq2seq를 사용하는 것이 더 나은 성능을 얻을 수 있어요. 실습 내용을 참고하여 어텐션 메커니즘을 사용한 seq2seq를 설계해 보세요."
   ]
  },
  {
   "cell_type": "markdown",
   "id": "627273d9",
   "metadata": {},
   "source": [
    "### 함수형 API를 이용해서 인코더를 설계"
   ]
  },
  {
   "cell_type": "code",
   "execution_count": 75,
   "id": "7c7c1abf",
   "metadata": {},
   "outputs": [],
   "source": [
    "from tensorflow.keras.layers import Input, LSTM, Embedding, Dense, Concatenate, TimeDistributed\n",
    "from tensorflow.keras.models import Model\n",
    "from tensorflow.keras.callbacks import EarlyStopping, ModelCheckpoint"
   ]
  },
  {
   "cell_type": "markdown",
   "id": "be22fd80",
   "metadata": {},
   "source": [
    "- 인코더 부분을 3개의 LSTM 레이어로 구성\n",
    "- recurrent_dropout 는 학습 시간 고려하여 사용하지 않음"
   ]
  },
  {
   "cell_type": "code",
   "execution_count": 99,
   "id": "ee2f05f5",
   "metadata": {},
   "outputs": [],
   "source": [
    "# 인코더 설계 시작\n",
    "embedding_dim = 128\n",
    "hidden_size = 256\n",
    "\n",
    "# 인코더\n",
    "encoder_inputs = Input(shape=(max_text_len,))\n",
    "\n",
    "# 인코더의 임베딩 층\n",
    "enc_emb = Embedding(src_vocab, embedding_dim)(encoder_inputs)\n",
    "\n",
    "# 인코더의 LSTM 1\n",
    "# encoder_lstm1 = LSTM(hidden_size, return_sequences=True, return_state=True ,dropout = 0.4, recurrent_dropout = 0.4)\n",
    "encoder_lstm1 = LSTM(hidden_size, return_sequences=True, return_state=True ,dropout = 0.4)\n",
    "encoder_output1, state_h1, state_c1 = encoder_lstm1(enc_emb)\n",
    "\n",
    "# 인코더의 LSTM 2\n",
    "encoder_lstm2 = LSTM(hidden_size, return_sequences=True, return_state=True, dropout=0.4)\n",
    "encoder_output2, state_h2, state_c2 = encoder_lstm2(encoder_output1)\n",
    "\n",
    "# 인코더의 LSTM 3\n",
    "encoder_lstm3 = LSTM(hidden_size, return_sequences=True, return_state=True, dropout=0.4)\n",
    "encoder_outputs, state_h3, state_c3 = encoder_lstm3(encoder_output2)"
   ]
  },
  {
   "cell_type": "markdown",
   "id": "c0727745",
   "metadata": {},
   "source": [
    "### 디코더 설계"
   ]
  },
  {
   "cell_type": "code",
   "execution_count": 100,
   "id": "c2037758",
   "metadata": {},
   "outputs": [],
   "source": [
    "# 디코더 설계\n",
    "decoder_inputs = Input(shape=(None,))\n",
    "\n",
    "# 디코더의 임베딩 층\n",
    "dec_emb_layer = Embedding(tar_vocab, embedding_dim)\n",
    "dec_emb = dec_emb_layer(decoder_inputs)\n",
    "\n",
    "# 디코더의 LSTM\n",
    "# decoder_lstm = LSTM(hidden_size, return_sequences=True, return_state=True, dropout=0.4, recurrent_dropout=0.2)\n",
    "decoder_lstm = LSTM(hidden_size, return_sequences=True, return_state=True, dropout=0.4)\n",
    "decoder_outputs, _, _ = decoder_lstm(dec_emb, initial_state=[state_h3, state_c3])"
   ]
  },
  {
   "cell_type": "markdown",
   "id": "a371d123",
   "metadata": {},
   "source": [
    "### 어텐션 메커니즘"
   ]
  },
  {
   "cell_type": "code",
   "execution_count": 101,
   "id": "966bf9c6",
   "metadata": {},
   "outputs": [],
   "source": [
    "from tensorflow.keras.layers import AdditiveAttention"
   ]
  },
  {
   "cell_type": "code",
   "execution_count": 102,
   "id": "c3c697b6",
   "metadata": {},
   "outputs": [],
   "source": [
    "# 어텐션 층(어텐션 함수)\n",
    "attn_layer = AdditiveAttention(name='attention_layer')"
   ]
  },
  {
   "cell_type": "markdown",
   "id": "b37ac282",
   "metadata": {},
   "source": [
    "- Additive Attention 층을 사용: 이 층은 Additive Attention(어텐션) 메커니즘을 사용하여 디코더의 출력과 인코더의 출력을 결합\n",
    "- Additive Attention은 Bahdanau 어텐션으로도 불리며, 주어진 인코더와 디코더의 hidden state를 바탕으로 중요도를 계산"
   ]
  },
  {
   "cell_type": "code",
   "execution_count": 103,
   "id": "45b7e649",
   "metadata": {},
   "outputs": [],
   "source": [
    "# 인코더와 디코더의 모든 time step의 hidden state를 어텐션 층에 전달하고 결과를 리턴\n",
    "attn_out = attn_layer([decoder_outputs, encoder_outputs])"
   ]
  },
  {
   "cell_type": "markdown",
   "id": "e163fc4e",
   "metadata": {},
   "source": [
    "- 어텐션 결과 계산: 인코더의 출력 (encoder_outputs)과 디코더의 출력 (decoder_outputs)을 어텐션 층에 전달하여, 어텐션 가중치를 기반으로 두 출력을 결합한 결과를 얻음\n",
    "- attn_out은 인코더의 모든 time step에 걸친 정보가 디코더의 각 time step에 대한 중요도로 조정되어 계산된 결과"
   ]
  },
  {
   "cell_type": "code",
   "execution_count": 104,
   "id": "c0973b4a",
   "metadata": {},
   "outputs": [],
   "source": [
    "# 어텐션의 결과와 디코더의 hidden state들을 연결\n",
    "decoder_concat_input = Concatenate(axis=-1, name='concat_layer')([decoder_outputs, attn_out])"
   ]
  },
  {
   "cell_type": "markdown",
   "id": "92a3824c",
   "metadata": {},
   "source": [
    "- 어텐션 결과와 디코더 출력 결합: 어텐션의 결과 (attn_out)와 디코더의 각 time step의 hidden state (decoder_outputs)를 결합\n",
    "- 이를 통해 디코더는 인코더에서 가장 중요한 정보와 자신의 hidden state를 결합하여 최종 출력을 생성\n",
    "- Concatenate는 두 텐서를 축(axis)을 기준으로 합침. 여기서는 마지막 축(axis=-1)으로 합침"
   ]
  },
  {
   "cell_type": "code",
   "execution_count": 105,
   "id": "bd2a5a34",
   "metadata": {},
   "outputs": [],
   "source": [
    "# 디코더의 출력층\n",
    "decoder_softmax_layer = Dense(tar_vocab, activation='softmax')\n",
    "decoder_softmax_outputs = decoder_softmax_layer(decoder_concat_input)"
   ]
  },
  {
   "cell_type": "markdown",
   "id": "af57b736",
   "metadata": {},
   "source": [
    "- Dense 층을 사용한 출력층: tar_vocab 크기를 갖는 밀집(Dense) 층을 통해 각 단어에 대한 확률 분포를 구함.\n",
    "- Softmax 활성화 함수를 사용하여 각 단어가 정답일 확률을 계산\n",
    "- decoder_concat_input을 입력받아, 각 time step에서 출력될 단어에 대한 확률을 산출"
   ]
  },
  {
   "cell_type": "code",
   "execution_count": 106,
   "id": "af67249b",
   "metadata": {},
   "outputs": [
    {
     "name": "stdout",
     "output_type": "stream",
     "text": [
      "Model: \"model_3\"\n",
      "__________________________________________________________________________________________________\n",
      "Layer (type)                    Output Shape         Param #     Connected to                     \n",
      "==================================================================================================\n",
      "input_3 (InputLayer)            [(None, 42)]         0                                            \n",
      "__________________________________________________________________________________________________\n",
      "embedding_2 (Embedding)         (None, 42, 128)      2688000     input_3[0][0]                    \n",
      "__________________________________________________________________________________________________\n",
      "lstm_4 (LSTM)                   [(None, 42, 256), (N 394240      embedding_2[0][0]                \n",
      "__________________________________________________________________________________________________\n",
      "input_4 (InputLayer)            [(None, None)]       0                                            \n",
      "__________________________________________________________________________________________________\n",
      "lstm_5 (LSTM)                   [(None, 42, 256), (N 525312      lstm_4[0][0]                     \n",
      "__________________________________________________________________________________________________\n",
      "embedding_3 (Embedding)         (None, None, 128)    1280000     input_4[0][0]                    \n",
      "__________________________________________________________________________________________________\n",
      "lstm_6 (LSTM)                   [(None, 42, 256), (N 525312      lstm_5[0][0]                     \n",
      "__________________________________________________________________________________________________\n",
      "lstm_7 (LSTM)                   [(None, None, 256),  394240      embedding_3[0][0]                \n",
      "                                                                 lstm_6[0][1]                     \n",
      "                                                                 lstm_6[0][2]                     \n",
      "__________________________________________________________________________________________________\n",
      "attention_layer (AdditiveAttent (None, None, 256)    256         lstm_7[0][0]                     \n",
      "                                                                 lstm_6[0][0]                     \n",
      "__________________________________________________________________________________________________\n",
      "concat_layer (Concatenate)      (None, None, 512)    0           lstm_7[0][0]                     \n",
      "                                                                 attention_layer[0][0]            \n",
      "__________________________________________________________________________________________________\n",
      "dense_1 (Dense)                 (None, None, 10000)  5130000     concat_layer[0][0]               \n",
      "==================================================================================================\n",
      "Total params: 10,937,360\n",
      "Trainable params: 10,937,360\n",
      "Non-trainable params: 0\n",
      "__________________________________________________________________________________________________\n"
     ]
    }
   ],
   "source": [
    "# 모델 정의\n",
    "model = Model([encoder_inputs, decoder_inputs], decoder_softmax_outputs)\n",
    "model.summary()"
   ]
  },
  {
   "cell_type": "markdown",
   "id": "561cef04",
   "metadata": {},
   "source": [
    "### 모델 훈련하기"
   ]
  },
  {
   "cell_type": "markdown",
   "id": "17e8e2cf",
   "metadata": {},
   "source": [
    "- EarlyStopping 사용안함\n",
    "- ModelCheckpoint 로 가장 좋은 모델 저장"
   ]
  },
  {
   "cell_type": "code",
   "execution_count": 107,
   "id": "04c8b548",
   "metadata": {},
   "outputs": [],
   "source": [
    "# model.compile(optimizer='rmsprop', loss='sparse_categorical_crossentropy')\n",
    "# es = EarlyStopping(monitor='val_loss', patience=2, verbose=1)\n",
    "# history = model.fit(x=[encoder_input_train, decoder_input_train], y=decoder_target_train, \\\n",
    "#           validation_data=([encoder_input_test, decoder_input_test], decoder_target_test), \\\n",
    "#           batch_size=256, callbacks=[es], epochs=50)"
   ]
  },
  {
   "cell_type": "code",
   "execution_count": 108,
   "id": "c7dae54c",
   "metadata": {},
   "outputs": [],
   "source": [
    "import tensorflow as tf"
   ]
  },
  {
   "cell_type": "code",
   "execution_count": 109,
   "id": "f64a38b0",
   "metadata": {},
   "outputs": [
    {
     "name": "stdout",
     "output_type": "stream",
     "text": [
      "Epoch 1/40\n",
      "297/297 [==============================] - 34s 98ms/step - loss: 5.7851 - val_loss: 5.3707\n",
      "Epoch 2/40\n",
      "297/297 [==============================] - 29s 97ms/step - loss: 5.2071 - val_loss: 5.0143\n",
      "Epoch 3/40\n",
      "297/297 [==============================] - 28s 96ms/step - loss: 4.8533 - val_loss: 4.7623\n",
      "Epoch 4/40\n",
      "297/297 [==============================] - 28s 95ms/step - loss: 4.5892 - val_loss: 4.5479\n",
      "Epoch 5/40\n",
      "297/297 [==============================] - 29s 96ms/step - loss: 4.3756 - val_loss: 4.4049\n",
      "Epoch 6/40\n",
      "297/297 [==============================] - 28s 96ms/step - loss: 4.2003 - val_loss: 4.2846\n",
      "Epoch 7/40\n",
      "297/297 [==============================] - 28s 96ms/step - loss: 4.0471 - val_loss: 4.1819\n",
      "Epoch 8/40\n",
      "297/297 [==============================] - 28s 96ms/step - loss: 3.9164 - val_loss: 4.1104\n",
      "Epoch 9/40\n",
      "297/297 [==============================] - 28s 96ms/step - loss: 3.7996 - val_loss: 4.0296\n",
      "Epoch 10/40\n",
      "297/297 [==============================] - 28s 96ms/step - loss: 3.6928 - val_loss: 3.9797\n",
      "Epoch 11/40\n",
      "297/297 [==============================] - 28s 95ms/step - loss: 3.6001 - val_loss: 3.9546\n",
      "Epoch 12/40\n",
      "297/297 [==============================] - 29s 96ms/step - loss: 3.5160 - val_loss: 3.9099\n",
      "Epoch 13/40\n",
      "297/297 [==============================] - 29s 96ms/step - loss: 3.4395 - val_loss: 3.8841\n",
      "Epoch 14/40\n",
      "297/297 [==============================] - 29s 96ms/step - loss: 3.3665 - val_loss: 3.8622\n",
      "Epoch 15/40\n",
      "297/297 [==============================] - 28s 96ms/step - loss: 3.2968 - val_loss: 3.8355\n",
      "Epoch 16/40\n",
      "297/297 [==============================] - 28s 96ms/step - loss: 3.2371 - val_loss: 3.8177\n",
      "Epoch 17/40\n",
      "297/297 [==============================] - 29s 96ms/step - loss: 3.1795 - val_loss: 3.7875\n",
      "Epoch 18/40\n",
      "297/297 [==============================] - 28s 96ms/step - loss: 3.1270 - val_loss: 3.7783\n",
      "Epoch 19/40\n",
      "297/297 [==============================] - 29s 96ms/step - loss: 3.0761 - val_loss: 3.7872\n",
      "Epoch 20/40\n",
      "297/297 [==============================] - 28s 96ms/step - loss: 3.0269 - val_loss: 3.7776\n",
      "Epoch 21/40\n",
      "297/297 [==============================] - 28s 96ms/step - loss: 2.9844 - val_loss: 3.7586\n",
      "Epoch 22/40\n",
      "297/297 [==============================] - 29s 96ms/step - loss: 2.9435 - val_loss: 3.7477\n",
      "Epoch 23/40\n",
      "297/297 [==============================] - 29s 96ms/step - loss: 2.9065 - val_loss: 3.7507\n",
      "Epoch 24/40\n",
      "297/297 [==============================] - 29s 96ms/step - loss: 2.8675 - val_loss: 3.7477\n",
      "Epoch 25/40\n",
      "297/297 [==============================] - 29s 96ms/step - loss: 2.8323 - val_loss: 3.7399\n",
      "Epoch 26/40\n",
      "297/297 [==============================] - 28s 96ms/step - loss: 2.7991 - val_loss: 3.7490\n",
      "Epoch 27/40\n",
      "297/297 [==============================] - 28s 96ms/step - loss: 2.7646 - val_loss: 3.7408\n",
      "Epoch 28/40\n",
      "297/297 [==============================] - 29s 96ms/step - loss: 2.7336 - val_loss: 3.7432\n",
      "Epoch 29/40\n",
      "297/297 [==============================] - 28s 96ms/step - loss: 2.7060 - val_loss: 3.7470\n",
      "Epoch 30/40\n",
      "297/297 [==============================] - 28s 95ms/step - loss: 2.6766 - val_loss: 3.7495\n",
      "Epoch 31/40\n",
      "297/297 [==============================] - 28s 95ms/step - loss: 2.6484 - val_loss: 3.7509\n",
      "Epoch 32/40\n",
      "297/297 [==============================] - 28s 95ms/step - loss: 2.6235 - val_loss: 3.7535\n",
      "Epoch 33/40\n",
      "297/297 [==============================] - 28s 96ms/step - loss: 2.5972 - val_loss: 3.7554\n",
      "Epoch 34/40\n",
      "297/297 [==============================] - 29s 96ms/step - loss: 2.5725 - val_loss: 3.7556\n",
      "Epoch 35/40\n",
      "297/297 [==============================] - 28s 96ms/step - loss: 2.5496 - val_loss: 3.7563\n",
      "Epoch 36/40\n",
      "297/297 [==============================] - 28s 96ms/step - loss: 2.5247 - val_loss: 3.7557\n",
      "Epoch 37/40\n",
      "297/297 [==============================] - 28s 96ms/step - loss: 2.5005 - val_loss: 3.7690\n",
      "Epoch 38/40\n",
      "297/297 [==============================] - 28s 96ms/step - loss: 2.4763 - val_loss: 3.7593\n",
      "Epoch 39/40\n",
      "297/297 [==============================] - 28s 96ms/step - loss: 2.4556 - val_loss: 3.7537\n",
      "Epoch 40/40\n",
      "297/297 [==============================] - 28s 96ms/step - loss: 2.4371 - val_loss: 3.7671\n"
     ]
    }
   ],
   "source": [
    "# 콜백 설정 - 가장 좋은 모델을 저장하도록 설정\n",
    "seq2seq_attention_checkpoint_cb = tf.keras.callbacks.ModelCheckpoint('seq2seq_attention_model.keras', save_best_only=True)\n",
    "\n",
    "model.compile(optimizer='rmsprop', loss='sparse_categorical_crossentropy')\n",
    "\n",
    "epochs = 40\n",
    "\n",
    "history = model.fit(x=[encoder_input_train, decoder_input_train], y=decoder_target_train,\n",
    "          validation_data=([encoder_input_test, decoder_input_test], decoder_target_test),\n",
    "          batch_size=256, callbacks=[seq2seq_attention_checkpoint_cb], epochs=epochs)"
   ]
  },
  {
   "cell_type": "markdown",
   "id": "8aaf4744",
   "metadata": {},
   "source": [
    "### loss, val_loss 시각화"
   ]
  },
  {
   "cell_type": "code",
   "execution_count": 110,
   "id": "4879ed70",
   "metadata": {},
   "outputs": [
    {
     "data": {
      "image/png": "[encoded data removed]",
      "text/plain": [
       "<Figure size 432x288 with 1 Axes>"
      ]
     },
     "metadata": {
      "needs_background": "light"
     },
     "output_type": "display_data"
    }
   ],
   "source": [
    "plt.plot(history.history['loss'], label='train')\n",
    "plt.plot(history.history['val_loss'], label='test')\n",
    "plt.legend()\n",
    "plt.show()"
   ]
  },
  {
   "cell_type": "code",
   "execution_count": 111,
   "id": "e893e8ca",
   "metadata": {},
   "outputs": [],
   "source": [
    "# 저장된 가장 좋은 모델 로드\n",
    "seq2seq_attention_best_model = tf.keras.models.load_model('seq2seq_attention_model.keras')"
   ]
  },
  {
   "cell_type": "markdown",
   "id": "4e153d26",
   "metadata": {},
   "source": [
    "### 인퍼런스 모델 구현"
   ]
  },
  {
   "cell_type": "markdown",
   "id": "a70b84a8",
   "metadata": {},
   "source": [
    "- 테스트 단계에서는 정수 인덱스 행렬로 존재하던 텍스트 데이터를 실제 데이터로 복원해야 함\n",
    "- 필요한 3개의 사전을 아래와 같이 미리 준비"
   ]
  },
  {
   "cell_type": "code",
   "execution_count": 112,
   "id": "443e66bf",
   "metadata": {},
   "outputs": [],
   "source": [
    "src_index_to_word = src_tokenizer.index_word # 원문 단어 집합에서 정수 -> 단어를 얻음\n",
    "tar_word_to_index = tar_tokenizer.word_index # 요약 단어 집합에서 단어 -> 정수를 얻음\n",
    "tar_index_to_word = tar_tokenizer.index_word # 요약 단어 집합에서 정수 -> 단어를 얻음"
   ]
  },
  {
   "cell_type": "markdown",
   "id": "aa4bd8ec",
   "metadata": {},
   "source": [
    "- 정답 문장이 없는 인퍼런스 단계에서는 만들어야 할 문장의 길이만큼 디코더가 반복 구조로 동작해야 하기 때문에 부득이하게 인퍼런스를 위한 별도의 모델 설계 필요함\n",
    "- 이때는 인코더 모델과 디코더 모델을 분리해서 설계"
   ]
  },
  {
   "cell_type": "code",
   "execution_count": 113,
   "id": "240523f8",
   "metadata": {},
   "outputs": [],
   "source": [
    "# 인코더 설계\n",
    "# encoder_model = Model(inputs=encoder_inputs, outputs=[encoder_outputs, state_h, state_c])\n",
    "encoder_model = Model(inputs=encoder_inputs, outputs=[encoder_outputs, state_h3, state_c3])\n",
    "\n",
    "# 이전 시점의 상태들을 저장하는 텐서\n",
    "decoder_state_input_h = Input(shape=(hidden_size,))\n",
    "decoder_state_input_c = Input(shape=(hidden_size,))\n",
    "\n",
    "dec_emb2 = dec_emb_layer(decoder_inputs)\n",
    "\n",
    "# 문장의 다음 단어를 예측하기 위해서 초기 상태(initial_state)를 이전 시점의 상태로 사용. 이는 뒤의 함수 decode_sequence()에 구현\n",
    "# 훈련 과정에서와 달리 LSTM의 리턴하는 은닉 상태와 셀 상태인 state_h와 state_c를 버리지 않음.\n",
    "decoder_outputs2, state_h2, state_c2 = decoder_lstm(dec_emb2, initial_state=[decoder_state_input_h, decoder_state_input_c])"
   ]
  },
  {
   "cell_type": "code",
   "execution_count": 117,
   "id": "5997ddee",
   "metadata": {},
   "outputs": [],
   "source": [
    "# 어텐션 함수\n",
    "decoder_hidden_state_input = Input(shape=(max_text_len, hidden_size))\n",
    "attn_out_inf = attn_layer([decoder_outputs2, decoder_hidden_state_input])\n",
    "decoder_inf_concat = Concatenate(axis=-1, name='concat')([decoder_outputs2, attn_out_inf])\n",
    "\n",
    "# 디코더의 출력층\n",
    "decoder_outputs2 = decoder_softmax_layer(decoder_inf_concat) \n",
    "\n",
    "# 최종 디코더 모델\n",
    "decoder_model = Model(\n",
    "    [decoder_inputs] + [decoder_hidden_state_input,decoder_state_input_h, decoder_state_input_c],\n",
    "    [decoder_outputs2] + [state_h2, state_c2])"
   ]
  },
  {
   "cell_type": "code",
   "execution_count": 123,
   "id": "c749a26d",
   "metadata": {},
   "outputs": [],
   "source": [
    "def decode_sequence(input_seq):\n",
    "    # 입력으로부터 인코더의 상태를 얻음\n",
    "    e_out, e_h, e_c = encoder_model.predict(input_seq)\n",
    "\n",
    "     # <SOS>에 해당하는 토큰 생성\n",
    "    target_seq = np.zeros((1,1))\n",
    "    target_seq[0, 0] = tar_word_to_index['sostoken']\n",
    "\n",
    "    stop_condition = False\n",
    "    decoded_sentence = ''\n",
    "    while not stop_condition: # stop_condition이 True가 될 때까지 루프 반복\n",
    "\n",
    "        output_tokens, h, c = decoder_model.predict([target_seq] + [e_out, e_h, e_c])\n",
    "        sampled_token_index = np.argmax(output_tokens[0, -1, :])\n",
    "        sampled_token = tar_index_to_word[sampled_token_index]\n",
    "\n",
    "        if (sampled_token!='eostoken'):\n",
    "            decoded_sentence += ' '+sampled_token\n",
    "\n",
    "        #  <eos>에 도달하거나 최대 길이를 넘으면 중단.\n",
    "        if (sampled_token == 'eostoken'  or len(decoded_sentence.split()) >= (max_headlines_len-1)):\n",
    "            stop_condition = True\n",
    "\n",
    "        # 길이가 1인 타겟 시퀀스를 업데이트\n",
    "        target_seq = np.zeros((1,1))\n",
    "        target_seq[0, 0] = sampled_token_index\n",
    "\n",
    "        # 상태를 업데이트 합니다.\n",
    "        e_h, e_c = h, c\n",
    "\n",
    "    return decoded_sentence"
   ]
  },
  {
   "cell_type": "markdown",
   "id": "d3a75d1c",
   "metadata": {},
   "source": [
    "### 모델 테스트하기"
   ]
  },
  {
   "cell_type": "code",
   "execution_count": 124,
   "id": "6a2c1e2c",
   "metadata": {},
   "outputs": [],
   "source": [
    "# 원문의 정수 시퀀스를 텍스트 시퀀스로 변환\n",
    "def seq2text(input_seq):\n",
    "    temp=''\n",
    "    for i in input_seq:\n",
    "        if (i!=0):\n",
    "            temp = temp + src_index_to_word[i]+' '\n",
    "    return temp"
   ]
  },
  {
   "cell_type": "code",
   "execution_count": 125,
   "id": "6d926a5e",
   "metadata": {},
   "outputs": [],
   "source": [
    "# 요약문의 정수 시퀀스를 텍스트 시퀀스로 변환\n",
    "def seq2summary(input_seq):\n",
    "    temp = ''\n",
    "    for i in input_seq:\n",
    "        if (i == 0):  # 패딩 토큰은 무시합니다.\n",
    "            continue\n",
    "        if (i == tar_word_to_index['sostoken']):  # 시작 토큰은 무시합니다.\n",
    "            continue\n",
    "        if (i == tar_word_to_index['eostoken']):  # 종료 토큰에서 변환을 멈춥니다.\n",
    "            break\n",
    "        temp = temp + tar_index_to_word[i] + ' '\n",
    "    return temp.strip()  # 마지막 공백 제거"
   ]
  },
  {
   "cell_type": "markdown",
   "id": "8c3c875d",
   "metadata": {},
   "source": [
    "### Step 4. 실제 결과와 요약문 비교하기 (추상적 요약)\n",
    "원래의 요약문(headlines 열)과 학습을 통해 얻은 추상적 요약의 결과를 비교해 보세요."
   ]
  },
  {
   "cell_type": "code",
   "execution_count": 239,
   "id": "12b83365",
   "metadata": {},
   "outputs": [
    {
     "name": "stdout",
     "output_type": "stream",
     "text": [
      "원문 : berkshire hathaway chairman warren buffett said company continue prosper even gone buffett said berkshire success due celebrity status due good business sense comes identifying business opportunities think hang answer need money buffett added \n",
      "실제 headlines : berkshire will continue to UNK after am gone buffett\n",
      "예측 요약 :  buffett should be UNK by any UNK says buffett\n",
      "\n",
      "\n",
      "원문 : poland UNK retirement age men women UNK previous reform gradually raising UNK retirement age country deputy prime minister UNK UNK defended government move saying women right retire earlier responsibilities including raising children \n",
      "실제 headlines : poland to bring back different retirement age for men women\n",
      "예측 요약 :  UNK UNK UNK UNK UNK to be UNK\n",
      "\n",
      "\n",
      "원문 : journalist blogger abhijit iyer mitra arrested alleged derogatory remarks odisha UNK sun temple granted bail pointing sculptures temple complex video uploaded september mitra said holy place later tweeted jokes aside temple mind blowing \n",
      "실제 headlines : journo held for derogatory remarks on UNK temple gets bail\n",
      "예측 요약 :  UNK UNK arrested for UNK UNK in bihar\n",
      "\n",
      "\n",
      "원문 : indian researchers created artificial intelligence tool find people videos using description including clothing height gender used deep learning train ai recognise human features called soft biometrics using computer vision ai without facial recognition technology correctly identified persons soft biometric UNK \n",
      "실제 headlines : indian team ai finds people in videos via clothes height\n",
      "예측 요약 :  ai based ai uses users to detect UNK UNK\n",
      "\n",
      "\n",
      "원문 : patna high court monday rejected two public interest UNK challenging formation new jd bjp government bihar court said intervention required new alliance floor test state assembly petitions called new government unconstitutional people mandate assembly elections grand alliance \n",
      "실제 headlines : patna hc rejects UNK against nitish kumar new govt\n",
      "예측 요약 :  hc allows us to end floor of consider seats reports\n",
      "\n",
      "\n",
      "원문 : videocon group chairman venugopal dhoot allegedly gave crore nupower renewables set icici bank ceo chanda kochhar husband deepak kochhar however dhoot transferred company UNK deepak owned trust lakh got crore loan icici bank loan part crore dhoot took banks \n",
      "실제 headlines : what is icici videocon row linking chanda kochhar husband\n",
      "예측 요약 :  icici bank chief chanda kochhar to be sold for cr report\n",
      "\n",
      "\n",
      "원문 : amid controversy picture pakistan founder muhammad ali jinnah inside amu haryana finance minister captain abhimanyu said university renamed jat king raja mahendra pratap singh minister claimed singh donated land university without UNK objective education irrespective religion \n",
      "실제 headlines : rename amu after jat king raja UNK haryana finance min\n",
      "예측 요약 :  pak minister UNK UNK UNK at UNK temple\n",
      "\n",
      "\n",
      "원문 : per broadcast audience research council report ipl saw viewership increase last year viewership touched billion impressions matches compared billion impressions recorded matches last year impressions refer number individuals thousands viewed event averaged across minutes \n",
      "실제 headlines : ipl UNK increased by over in report\n",
      "예측 요약 :  india share second highest ever rating since UNK revenue\n",
      "\n",
      "\n",
      "원문 : russian club UNK moscow sacked year old defender UNK UNK UNK russian citizen UNK descent fans protested want black player lack may one club colours want whites fan said club however said UNK contract black due financial reasons \n",
      "실제 headlines : russian club sacks defender as fans did not want black player\n",
      "예측 요약 :  russian football player sues UNK for UNK\n",
      "\n",
      "\n",
      "원문 : around wild animals including leopards UNK reportedly died past ten years falling uncovered wells maharashtra officials said animals risk falling uncovered wells move forests search food water construction safety walls around wells made mandatory added \n",
      "실제 headlines : animals died in yrs in maha from falling into wells\n",
      "예측 요약 :  people die after UNK UNK in maharashtra\n",
      "\n",
      "\n",
      "원문 : new zealand colin munro smashed unbeaten india second saturday becoming first batsman smash two hundreds calendar year munro hit maiden ton january also became fourth batsman slam two tons joining compatriot brendon mccullum windies chris gayle UNK lewis \n",
      "실제 headlines : nz UNK becomes st batsman to hit tons in year\n",
      "예측 요약 :  nz batsman UNK to run off balls in one test\n",
      "\n",
      "\n",
      "원문 : qatar purchase seven navy vessels italy defence deal worth almost billion country foreign ministry announced comes italy announced billion agreement last year build UNK warships support vessels qatar two countries also signed agreements aimed increasing political consultations joint economic investments \n",
      "실제 headlines : qatar seals billion deal to buy navy UNK from italy\n",
      "예측 요약 :  qatar to buy oil imports worth billion from UNK report\n",
      "\n",
      "\n",
      "원문 : trains cancelled saturday several commuters protested cancellation vasai andheri local staging rail roko UNK station near mumbai claiming informed western railway issued new UNK october commuters demanded weekend services coach local restored \n",
      "실제 headlines : commuters protest against cancellation of train near mumbai\n",
      "예측 요약 :  UNK UNK UNK at railway station in mumbai\n",
      "\n",
      "\n",
      "원문 : waymo wednesday launched self driving taxi service called waymo one arizona us paying customers within km zone testing technology since human driver would currently intervene case emergency service currently available riders signed platform last year \n",
      "실제 headlines : waymo debuts self driving taxis in us for paying customers\n",
      "예측 요약 :  us self driving tests driverless driverless taxis without driving\n",
      "\n",
      "\n",
      "원문 : dalai lama said recently country would divided india pakistan muhammad ali jinnah made prime minister instead jawaharlal nehru mahatma gandhi wanted give prime UNK jinnah nehru refused self centred said adding pandit nehru experienced mistakes happen \n",
      "실제 headlines : india pak would have been united if jinnah was pm dalai lama\n",
      "예측 요약 :  jinnah should be UNK pakistan pm imran khan\n",
      "\n",
      "\n",
      "원문 : year old kenyan woman allegedly gangraped offered lift three men wednesday night haryana gurugram woman gone party waiting cab men offered lift following raped joined two accomplices three accused arrested \n",
      "실제 headlines : kenyan woman offered lift gangraped by in haryana\n",
      "예측 요약 :  year old woman gangraped by men in uttar pradesh\n",
      "\n",
      "\n",
      "원문 : notification jee stated besides hindi english students gujarat daman UNK UNK nagar haveli also opt gujarati medium question papers however earlier students option take exam marathi urdu well hindi english gujarati \n",
      "실제 headlines : gujarati only regional language allowed in jee\n",
      "예측 요약 :  UNK exam results to be declared at half UNK\n",
      "\n",
      "\n",
      "원문 : remote tribal village maharashtra UNK got electricity years independence around homes village population nearly electricity reports said difficult electricity children could study turned dark one villagers said \n",
      "실제 headlines : maha village gets electricity years after independence\n",
      "예측 요약 :  village UNK village in UNK village\n",
      "\n",
      "\n",
      "원문 : according reports alia bhatt sidharth malhotra star upcoming film sadak see pooja bhatt sanjay dutt UNK roles film sadak source said earlier speculations sidharth alia mohit suri aashiqui film put hold \n",
      "실제 headlines : alia sidharth to star with pooja sanjay in UNK report\n",
      "예측 요약 :  alia bhatt to star in UNK UNK reports\n",
      "\n",
      "\n",
      "원문 : former rashtriya janata dal mp mohammad shahabuddin acquitted jamshedpur court triple murder case took place february notably three eight accused died trial shahabuddin linked criminal cases currently lodged delhi high security tihar jail \n",
      "실제 headlines : rjd leader shahabuddin acquitted in triple murder case\n",
      "예측 요약 :  ex mp accused of killing rss in mp murder case\n",
      "\n",
      "\n",
      "원문 : picture team india head coach ravi shastri lookalike mumbai local gone viral social media users turned picture meme one writing ravi shastri looking like gupta uncle lives next door works bank reaction shastri match day virat kohli playing wrote another user \n",
      "실제 headlines : ravi shastri lookalike boards mumbai local picture goes viral\n",
      "예측 요약 :  ravi shastri posts picture with ravi shastri in mumbai\n",
      "\n",
      "\n",
      "원문 : us actress meghan markle made official appearance alongside fianc prince harry elder brother william wife kate wednesday first time britain royal UNK four took part public engagement markle marry prince harry may year couple marked first joint royal visit december last year \n",
      "실제 headlines : meghan markle attends st event as part of uk royal UNK four\n"
     ]
    },
    {
     "name": "stdout",
     "output_type": "stream",
     "text": [
      "예측 요약 :  prince harry meghan markle wedding with royal wedding\n",
      "\n",
      "\n",
      "원문 : former australian pacer glenn mcgrath gave advice age group cricketers haryana revealing helped haryana cricketers action mcgrath talked players wishing play indian premier league saying want go back ipl next year yes work hard rest months \n",
      "실제 headlines : ex aus pacer mcgrath shares knowledge with haryana cricketers\n",
      "예측 요약 :  UNK UNK UNK UNK to be given from aus\n",
      "\n",
      "\n",
      "원문 : akshay kumar took twitter share fan rap video upcoming film toilet ek prem katha praised video fan named abhishek bhatt wrote made video thank mr UNK always inspiring us film plot aligned principles pm narendra modi swachh bharat abhiyaan \n",
      "실제 headlines : akshay praises fan rap video on toilet ek prem katha\n",
      "예측 요약 :  akshay shares video of akshay fan dancing with toilet\n",
      "\n",
      "\n",
      "원문 : japanese UNK company holding contest offer couple night lord lady UNK castle UNK city nagasaki UNK around student volunteers dressed full armour greet winning couple city officials dressed UNK guard UNK accurate dinner made local ingredients served \n",
      "실제 headlines : japanese castle to host guests as lord and lady for night\n",
      "예측 요약 :  japan offers to marry its wife for having UNK dress\n",
      "\n",
      "\n",
      "원문 : sridevi th film mom released friday film every indian woman able relate wrote koimoi nawazuddin siddiqui steals sridevi thunder revenge drama wrote hindustan times times india said strength sridevi character victory script lies rated \n",
      "실제 headlines : sridevi th film mom hits the theatres\n",
      "예측 요약 :  sridevi sridevi hits the first ever film sridevi\n",
      "\n",
      "\n",
      "원문 : researchers university southern california developed algorithm analyses twitter posts predict protests turn violent first analysed million tweets posted black lives matter protests found volume tweets increased days violent protests performed controlled behavioural experiments found similar UNK \n",
      "실제 headlines : ai predicts when protest will turn violent based on tweets\n",
      "예측 요약 :  ai can detect UNK videos in photos videos developed\n",
      "\n",
      "\n",
      "원문 : aid agency UNK UNK UNK UNK said women raped unknown gunmen days violence african nation south sudan victims also reported whipped beaten UNK sticks rifle UNK town UNK pregnant elderly women girls aged among targeted \n",
      "실제 headlines : women raped beaten and UNK in south sudan UNK\n",
      "예측 요약 :  UNK raped in UNK in nigeria\n",
      "\n",
      "\n",
      "원문 : british singer george michael buried london wednesday private funeral three months death christmas last year former partner kenny UNK UNK UNK andrew UNK among attendees funeral george boyfriend UNK UNK reportedly unaware funeral attended informed media person \n",
      "실제 headlines : singer george michael buried in london months after death\n",
      "예측 요약 :  rapper UNK UNK sentenced to death at UNK\n",
      "\n",
      "\n",
      "원문 : supreme court thursday said law provide woman religion merge husband inter religious marriage court hearing woman plea challenging gujarat hc order parsi woman marrying hindu would lose religious rights parsi community including visiting tower silence funeral rites \n",
      "실제 headlines : no law on woman changing religion after marriage sc\n",
      "예측 요약 :  sc asks muslim woman to give triple talaq to wife\n",
      "\n",
      "\n",
      "원문 : madhya pradesh bjp mla gopal parmar said instances love jihad take place people get married right time added earlier times mentality people remained clean would get married childhood said girls started UNK government raised minimum age marriage years \n",
      "실제 headlines : love jihad happens as people marry late bjp mla\n",
      "예측 요약 :  marriage is not UNK to UNK mp mp sakshi UNK\n",
      "\n",
      "\n",
      "원문 : asked reporter boxing mid UNK cwg gold medallist boxer mary kom said said age factor come show know body allow carry olympic gold still dreaming added kom bronze olympics \n",
      "실제 headlines : come will show what can do mary kom on age question\n",
      "예측 요약 :  games gold winning UNK mary kom on olympic gold\n",
      "\n",
      "\n",
      "원문 : singapore planning test UNK equipped facial recognition cameras allow government perform crowd analytics support anti terror operations UNK singapore government agency charge project given companies may register providing technology network UNK platform pilot project scheduled begin next year \n",
      "실제 headlines : singapore plans to test facial recognition tech on UNK\n",
      "예측 요약 :  china to deploy facial recognition to monitor india videos\n",
      "\n",
      "\n",
      "원문 : csk captain ms dhoni scared rounder ravindra jadeja pretending throw ball fielding srh sunday incident happened seventh dhoni ran towards short mid wicket field ball dhoni picked ball executed dummy throw jadeja come running deep mid wicket \n",
      "실제 headlines : ms dhoni scares jadeja by pretending to throw ball at him\n",
      "예측 요약 :  video dhoni takes one handed catch to dismiss dhoni\n",
      "\n",
      "\n",
      "원문 : us president donald trump retweeted meme UNK former president barack obama user wrote anymore obsessed UNK obama never level users wrote great thing eclipse last long UNK rare orange man gone soon \n",
      "실제 headlines : twitter reacts to trump anti obama eclipse UNK\n",
      "예측 요약 :  twitter reacts to trump UNK of UNK UNK\n",
      "\n",
      "\n",
      "원문 : head amazon web services including cloud services andrew UNK earned amazon founder ceo jeff bezos last year UNK received million stock salary bezos received usual annual salary million security services bezos currently world second richest person billion fortune \n",
      "실제 headlines : amazon employee out earned founder jeff bezos last year\n",
      "예측 요약 :  amazon UNK market value as amazon as ceo in\n",
      "\n",
      "\n",
      "원문 : bjp yuva morcha organise kabaddi tournaments karnataka part centenary celebrations party ideologue deendayal upadhyaya tournaments see participation teams assembly constituency hope event help impress huge gatherings turn kabaddi matches bjp ideology policies said organiser \n",
      "실제 headlines : bjp to UNK karnataka voters with kabaddi UNK\n",
      "예측 요약 :  bjp leader UNK UNK to be opened in parliament\n",
      "\n",
      "\n",
      "원문 : actress shruti haasan asked rumours getting lip job done said face body nobody business shruti said get bothered people write social media adding UNK anyone \n",
      "실제 headlines : what do with my face body is nobody business shruti\n",
      "예측 요약 :  am not getting personal UNK to speak up to tanushree\n",
      "\n",
      "\n",
      "원문 : health ministry ordered thorough inquiry bodies donated dera sacha sauda lucknow based medical college research allegedly without death certificates college said receive requisite death certificates adding acquired signed affidavits regarding donations kin deceased \n",
      "실제 headlines : probe ordered into dera donation of bodies for research\n",
      "예측 요약 :  govt UNK UNK of UNK UNK over UNK\n",
      "\n",
      "\n",
      "원문 : rjd candidate kumar krishna mohan wednesday bypolls bihar assembly constituency UNK rjd candidate sarfaraz alam lok sabha constituency UNK bjp candidate UNK rani pandey state assembly UNK seat election commission recorded voter turnout three constituencies \n",
      "실제 headlines : rjd wins UNK UNK bjp bags UNK in bihar bypolls\n",
      "예측 요약 :  rjd wins up cm nitish kumar in rajasthan\n",
      "\n",
      "\n",
      "원문 : four children UNK khan lynched mob alwar suspicion cow smuggler provided free education madrasa run ex vice president hamid ansari wife salma reportedly school steps foundation take care tuition hostel fees children \n",
      "실제 headlines : alwar lynching victim kids to get free education in madrasa\n",
      "예측 요약 :  muslim youth attacked by mob in UNK for jharkhand\n",
      "\n",
      "\n",
      "원문 : us president donald trump saturday explained deployment terminal high altitude area defence system south korea china president xi jinping trump also discussed seriousness north korea nuclear problem respond notably china opposed deployment us supplied UNK south korea arguing could threaten security \n",
      "실제 headlines : trump explains us position on thaad to china\n",
      "예측 요약 :  trump to develop new korea to monitor trump kim summit\n",
      "\n",
      "\n",
      "원문 : rape allegations levelled portugal footballer cristiano ronaldo led fall price shares new club juventus accusations levelled former real madrid player sports firm nike expressed deep concern matter stated closely monitoring situation \n",
      "실제 headlines : juventus shares fall after rape allegations against ronaldo\n",
      "예측 요약 :  neymar loses over UNK in UNK at instagram\n",
      "\n",
      "\n",
      "원문 : former us army intelligence analyst chelsea manning released military prison kansas wednesday took twitter share picture world okay everyone manning captioned picture manning sentenced years prison sharing lakh classified documents wikileaks \n",
      "실제 headlines : chelsea manning shares photo after release from prison\n"
     ]
    },
    {
     "name": "stdout",
     "output_type": "stream",
     "text": [
      "예측 요약 :  us president UNK UNK manning over leaking war\n",
      "\n",
      "\n",
      "원문 : punjab chief minister amarinder singh wednesday said farmers cannot expected give stubble burning completely provided viable solutions adding matter farmers livelihood survival said state government engaged spreading awareness among farmers need stop burning stubble \n",
      "실제 headlines : farmers cannot give up stubble burning completely punjab cm\n",
      "예측 요약 :  stubble burning stubble stubble stubble stubble stubble\n",
      "\n",
      "\n",
      "원문 : murder accused shot sitting inside police van gate number delhi UNK UNK court tuesday reportedly shooter minor belonged rival gang man admitted hospital shooter taken custody police \n",
      "실제 headlines : murder accused shot at outside delhi UNK UNK court\n",
      "예측 요약 :  journalist shot dead in delhi court\n",
      "\n",
      "\n",
      "원문 : india second largest telecom operator bharti airtel reportedly talks regarding potential takeover UNK kenya east african nation smallest operator london based UNK investment looking sell part stake UNK acquired reports added notably airtel kenya second biggest telecom operator \n",
      "실제 headlines : bharti airtel in talks to buy UNK kenya reports\n",
      "예측 요약 :  airtel to acquire airtel UNK for billion\n",
      "\n",
      "\n",
      "원문 : election commission wednesday blocked usage aiadmk name twin leaves poll symbol claimed faction led panneerselvam ex tamil nadu cm UNK allegedly asked step aiadmk chief sasikala natarajan ec also asked factions choose different symbols upcoming polls \n",
      "실제 headlines : ec freezes aiadmk poll symbol after UNK claim\n",
      "예측 요약 :  ec bans ec UNK evm code for evm tampering\n",
      "\n",
      "\n",
      "원문 : man allegedly raped eight year old girl recently public park delhi UNK market UNK daughter playing nearby reportedly witnessed crime accused works cleaner public toilet UNK lives two daughters arrested booked pocso act \n",
      "실제 headlines : man rapes yr old in park in front of his teenage daughter\n",
      "예측 요약 :  year old man raped by year old in mumbai\n",
      "\n",
      "\n",
      "원문 : real madrid wait till start next season get hands spanish la liga trophy despite winning league title final UNK atl tico madrid also wait three months presented la liga trophy winning la liga title \n",
      "실제 headlines : when will real madrid be presented with the la liga trophy\n",
      "예측 요약 :  real madrid bar ends as la liga for first time\n",
      "\n",
      "\n"
     ]
    }
   ],
   "source": [
    "for i in range(0, 50):\n",
    "    print(\"원문 :\", seq2text(encoder_input_test[i]))\n",
    "    print(\"실제 headlines :\", seq2summary(decoder_input_test[i]))\n",
    "    print(\"예측 요약 :\", decode_sequence(encoder_input_test[i].reshape(1, max_text_len)))\n",
    "    print(\"\\n\")"
   ]
  },
  {
   "cell_type": "markdown",
   "id": "a0047d7d",
   "metadata": {},
   "source": [
    "- 원문 : real madrid wait till start next season get hands spanish la liga trophy despite winning league title final UNK atl tico madrid also wait three months presented la liga trophy winning la liga title \n",
    "- 실제 headlines : when will real madrid be presented with the la liga trophy\n",
    "- 예측 요약 :  real madrid bar ends as la liga for first time\n",
    "\n",
    "위 예에서 보면 real madrid 등 비슷한 단어가 나오긴 하였지만 의미가 많이 다르다.  \n",
    "요약 품질이 좋지 않다......"
   ]
  },
  {
   "cell_type": "markdown",
   "id": "c08a1bba",
   "metadata": {},
   "source": [
    "### 정량적 평가를 위한 BLEU 점수 계산 (nltk 사용)"
   ]
  },
  {
   "cell_type": "code",
   "execution_count": 159,
   "id": "c2c8cffd",
   "metadata": {},
   "outputs": [],
   "source": [
    "from nltk.translate.bleu_score import sentence_bleu\n",
    "from nltk.translate.bleu_score import SmoothingFunction"
   ]
  },
  {
   "cell_type": "code",
   "execution_count": 253,
   "id": "e32e69fd",
   "metadata": {},
   "outputs": [
    {
     "name": "stdout",
     "output_type": "stream",
     "text": [
      "원문 : berkshire hathaway chairman warren buffett said company continue prosper even gone buffett said berkshire success due celebrity status due good business sense comes identifying business opportunities think hang answer need money buffett added \n",
      "실제 headlines : berkshire will continue to UNK after am gone buffett\n",
      "예측 요약 : buffett should be UNK by any UNK says buffett\n",
      "BLEU Score : 0.030601688609851067\n",
      "\n",
      "\n",
      "원문 : poland UNK retirement age men women UNK previous reform gradually raising UNK retirement age country deputy prime minister UNK UNK defended government move saying women right retire earlier responsibilities including raising children \n",
      "실제 headlines : poland to bring back different retirement age for men women\n",
      "예측 요약 : UNK UNK UNK UNK UNK to be UNK\n",
      "BLEU Score : 0.0222734042410851\n",
      "\n",
      "\n",
      "원문 : journalist blogger abhijit iyer mitra arrested alleged derogatory remarks odisha UNK sun temple granted bail pointing sculptures temple complex video uploaded september mitra said holy place later tweeted jokes aside temple mind blowing \n",
      "실제 headlines : journo held for derogatory remarks on UNK temple gets bail\n",
      "예측 요약 : UNK UNK arrested for UNK UNK in bihar\n",
      "BLEU Score : 0.026487690798830184\n",
      "\n",
      "\n",
      "원문 : indian researchers created artificial intelligence tool find people videos using description including clothing height gender used deep learning train ai recognise human features called soft biometrics using computer vision ai without facial recognition technology correctly identified persons soft biometric UNK \n",
      "실제 headlines : indian team ai finds people in videos via clothes height\n",
      "예측 요약 : ai based ai uses users to detect UNK UNK\n",
      "BLEU Score : 0.02302676613984314\n",
      "\n",
      "\n",
      "원문 : patna high court monday rejected two public interest UNK challenging formation new jd bjp government bihar court said intervention required new alliance floor test state assembly petitions called new government unconstitutional people mandate assembly elections grand alliance \n",
      "실제 headlines : patna hc rejects UNK against nitish kumar new govt\n",
      "예측 요약 : hc allows us to end floor of consider seats reports\n",
      "BLEU Score : 0.023457495174891017\n",
      "\n",
      "\n",
      "원문 : videocon group chairman venugopal dhoot allegedly gave crore nupower renewables set icici bank ceo chanda kochhar husband deepak kochhar however dhoot transferred company UNK deepak owned trust lakh got crore loan icici bank loan part crore dhoot took banks \n",
      "실제 headlines : what is icici videocon row linking chanda kochhar husband\n",
      "예측 요약 : icici bank chief chanda kochhar to be sold for cr report\n",
      "BLEU Score : 0.057445580856132834\n",
      "\n",
      "\n",
      "원문 : amid controversy picture pakistan founder muhammad ali jinnah inside amu haryana finance minister captain abhimanyu said university renamed jat king raja mahendra pratap singh minister claimed singh donated land university without UNK objective education irrespective religion \n",
      "실제 headlines : rename amu after jat king raja UNK haryana finance min\n",
      "예측 요약 : pak minister UNK UNK UNK at UNK temple\n",
      "BLEU Score : 0.0222734042410851\n",
      "\n",
      "\n",
      "원문 : per broadcast audience research council report ipl saw viewership increase last year viewership touched billion impressions matches compared billion impressions recorded matches last year impressions refer number individuals thousands viewed event averaged across minutes \n",
      "실제 headlines : ipl UNK increased by over in report\n",
      "예측 요약 : india share second highest ever rating since UNK revenue\n",
      "BLEU Score : 0.02573285025273419\n",
      "\n",
      "\n",
      "원문 : russian club UNK moscow sacked year old defender UNK UNK UNK russian citizen UNK descent fans protested want black player lack may one club colours want whites fan said club however said UNK contract black due financial reasons \n",
      "실제 headlines : russian club sacks defender as fans did not want black player\n",
      "예측 요약 : russian football player sues UNK for UNK\n",
      "BLEU Score : 0.021731464395667695\n",
      "\n",
      "\n",
      "원문 : around wild animals including leopards UNK reportedly died past ten years falling uncovered wells maharashtra officials said animals risk falling uncovered wells move forests search food water construction safety walls around wells made mandatory added \n",
      "실제 headlines : animals died in yrs in maha from falling into wells\n",
      "예측 요약 : people die after UNK UNK in maharashtra\n",
      "BLEU Score : 0.021080143482486866\n",
      "\n",
      "\n",
      "원문 : new zealand colin munro smashed unbeaten india second saturday becoming first batsman smash two hundreds calendar year munro hit maiden ton january also became fourth batsman slam two tons joining compatriot brendon mccullum windies chris gayle UNK lewis \n",
      "실제 headlines : nz UNK becomes st batsman to hit tons in year\n",
      "예측 요약 : nz batsman UNK to run off balls in one test\n",
      "BLEU Score : 0.03507713682027595\n",
      "\n",
      "\n",
      "원문 : qatar purchase seven navy vessels italy defence deal worth almost billion country foreign ministry announced comes italy announced billion agreement last year build UNK warships support vessels qatar two countries also signed agreements aimed increasing political consultations joint economic investments \n",
      "실제 headlines : qatar seals billion deal to buy navy UNK from italy\n",
      "예측 요약 : qatar to buy oil imports worth billion from UNK report\n",
      "BLEU Score : 0.07495153367715524\n",
      "\n",
      "\n",
      "원문 : trains cancelled saturday several commuters protested cancellation vasai andheri local staging rail roko UNK station near mumbai claiming informed western railway issued new UNK october commuters demanded weekend services coach local restored \n",
      "실제 headlines : commuters protest against cancellation of train near mumbai\n",
      "예측 요약 : UNK UNK UNK at railway station in mumbai\n",
      "BLEU Score : 0.028599617161713803\n",
      "\n",
      "\n",
      "원문 : waymo wednesday launched self driving taxi service called waymo one arizona us paying customers within km zone testing technology since human driver would currently intervene case emergency service currently available riders signed platform last year \n",
      "실제 headlines : waymo debuts self driving taxis in us for paying customers\n",
      "예측 요약 : us self driving tests driverless driverless taxis without driving\n",
      "BLEU Score : 0.06726580344082496\n",
      "\n",
      "\n",
      "원문 : dalai lama said recently country would divided india pakistan muhammad ali jinnah made prime minister instead jawaharlal nehru mahatma gandhi wanted give prime UNK jinnah nehru refused self centred said adding pandit nehru experienced mistakes happen \n",
      "실제 headlines : india pak would have been united if jinnah was pm dalai lama\n",
      "예측 요약 : jinnah should be UNK pakistan pm imran khan\n",
      "BLEU Score : 0.02062863433588219\n",
      "\n",
      "\n",
      "원문 : year old kenyan woman allegedly gangraped offered lift three men wednesday night haryana gurugram woman gone party waiting cab men offered lift following raped joined two accomplices three accused arrested \n",
      "실제 headlines : kenyan woman offered lift gangraped by in haryana\n",
      "예측 요약 : year old woman gangraped by men in uttar pradesh\n",
      "BLEU Score : 0.07517081801936397\n",
      "\n",
      "\n",
      "원문 : notification jee stated besides hindi english students gujarat daman UNK UNK nagar haveli also opt gujarati medium question papers however earlier students option take exam marathi urdu well hindi english gujarati \n",
      "실제 headlines : gujarati only regional language allowed in jee\n",
      "예측 요약 : UNK exam results to be declared at half UNK\n",
      "BLEU Score : 0\n",
      "\n",
      "\n",
      "원문 : remote tribal village maharashtra UNK got electricity years independence around homes village population nearly electricity reports said difficult electricity children could study turned dark one villagers said \n",
      "실제 headlines : maha village gets electricity years after independence\n",
      "예측 요약 : village UNK village in UNK village\n",
      "BLEU Score : 0.03182213000550693\n",
      "\n",
      "\n",
      "원문 : according reports alia bhatt sidharth malhotra star upcoming film sadak see pooja bhatt sanjay dutt UNK roles film sadak source said earlier speculations sidharth alia mohit suri aashiqui film put hold \n",
      "실제 headlines : alia sidharth to star with pooja sanjay in UNK report\n",
      "예측 요약 : alia bhatt to star in UNK UNK reports\n",
      "BLEU Score : 0.08294971879177145\n",
      "\n",
      "\n",
      "원문 : former rashtriya janata dal mp mohammad shahabuddin acquitted jamshedpur court triple murder case took place february notably three eight accused died trial shahabuddin linked criminal cases currently lodged delhi high security tihar jail \n",
      "실제 headlines : rjd leader shahabuddin acquitted in triple murder case\n",
      "예측 요약 : ex mp accused of killing rss in mp murder case\n",
      "BLEU Score : 0.06302647598688789\n",
      "\n",
      "\n"
     ]
    },
    {
     "name": "stdout",
     "output_type": "stream",
     "text": [
      "원문 : picture team india head coach ravi shastri lookalike mumbai local gone viral social media users turned picture meme one writing ravi shastri looking like gupta uncle lives next door works bank reaction shastri match day virat kohli playing wrote another user \n",
      "실제 headlines : ravi shastri lookalike boards mumbai local picture goes viral\n",
      "예측 요약 : ravi shastri posts picture with ravi shastri in mumbai\n",
      "BLEU Score : 0.07517081801936397\n",
      "\n",
      "\n",
      "원문 : us actress meghan markle made official appearance alongside fianc prince harry elder brother william wife kate wednesday first time britain royal UNK four took part public engagement markle marry prince harry may year couple marked first joint royal visit december last year \n",
      "실제 headlines : meghan markle attends st event as part of uk royal UNK four\n",
      "예측 요약 : prince harry meghan markle wedding with royal wedding\n",
      "BLEU Score : 0.04781031568177268\n",
      "\n",
      "\n",
      "원문 : former australian pacer glenn mcgrath gave advice age group cricketers haryana revealing helped haryana cricketers action mcgrath talked players wishing play indian premier league saying want go back ipl next year yes work hard rest months \n",
      "실제 headlines : ex aus pacer mcgrath shares knowledge with haryana cricketers\n",
      "예측 요약 : UNK UNK UNK UNK to be given from aus\n",
      "BLEU Score : 0.02573285025273419\n",
      "\n",
      "\n",
      "원문 : akshay kumar took twitter share fan rap video upcoming film toilet ek prem katha praised video fan named abhishek bhatt wrote made video thank mr UNK always inspiring us film plot aligned principles pm narendra modi swachh bharat abhiyaan \n",
      "실제 headlines : akshay praises fan rap video on toilet ek prem katha\n",
      "예측 요약 : akshay shares video of akshay fan dancing with toilet\n",
      "BLEU Score : 0.03256476497255973\n",
      "\n",
      "\n",
      "원문 : japanese UNK company holding contest offer couple night lord lady UNK castle UNK city nagasaki UNK around student volunteers dressed full armour greet winning couple city officials dressed UNK guard UNK accurate dinner made local ingredients served \n",
      "실제 headlines : japanese castle to host guests as lord and lady for night\n",
      "예측 요약 : japan offers to marry its wife for having UNK dress\n",
      "BLEU Score : 0.025241181889490292\n",
      "\n",
      "\n",
      "원문 : sridevi th film mom released friday film every indian woman able relate wrote koimoi nawazuddin siddiqui steals sridevi thunder revenge drama wrote hindustan times times india said strength sridevi character victory script lies rated \n",
      "실제 headlines : sridevi th film mom hits the theatres\n",
      "예측 요약 : sridevi sridevi hits the first ever film sridevi\n",
      "BLEU Score : 0.0847039252508118\n",
      "\n",
      "\n",
      "원문 : researchers university southern california developed algorithm analyses twitter posts predict protests turn violent first analysed million tweets posted black lives matter protests found volume tweets increased days violent protests performed controlled behavioural experiments found similar UNK \n",
      "실제 headlines : ai predicts when protest will turn violent based on tweets\n",
      "예측 요약 : ai can detect UNK videos in photos videos developed\n",
      "BLEU Score : 0.02302676613984314\n",
      "\n",
      "\n",
      "원문 : aid agency UNK UNK UNK UNK said women raped unknown gunmen days violence african nation south sudan victims also reported whipped beaten UNK sticks rifle UNK town UNK pregnant elderly women girls aged among targeted \n",
      "실제 headlines : women raped beaten and UNK in south sudan UNK\n",
      "예측 요약 : UNK raped in UNK in nigeria\n",
      "BLEU Score : 0.0700929739566753\n",
      "\n",
      "\n",
      "원문 : british singer george michael buried london wednesday private funeral three months death christmas last year former partner kenny UNK UNK UNK andrew UNK among attendees funeral george boyfriend UNK UNK reportedly unaware funeral attended informed media person \n",
      "실제 headlines : singer george michael buried in london months after death\n",
      "예측 요약 : rapper UNK UNK sentenced to death at UNK\n",
      "BLEU Score : 0.02523907356031767\n",
      "\n",
      "\n",
      "원문 : supreme court thursday said law provide woman religion merge husband inter religious marriage court hearing woman plea challenging gujarat hc order parsi woman marrying hindu would lose religious rights parsi community including visiting tower silence funeral rites \n",
      "실제 headlines : no law on woman changing religion after marriage sc\n",
      "예측 요약 : sc asks muslim woman to give triple talaq to wife\n",
      "BLEU Score : 0.027895820162122397\n",
      "\n",
      "\n",
      "원문 : madhya pradesh bjp mla gopal parmar said instances love jihad take place people get married right time added earlier times mentality people remained clean would get married childhood said girls started UNK government raised minimum age marriage years \n",
      "실제 headlines : love jihad happens as people marry late bjp mla\n",
      "예측 요약 : marriage is not UNK to UNK mp mp sakshi UNK\n",
      "BLEU Score : 0\n",
      "\n",
      "\n",
      "원문 : asked reporter boxing mid UNK cwg gold medallist boxer mary kom said said age factor come show know body allow carry olympic gold still dreaming added kom bronze olympics \n",
      "실제 headlines : come will show what can do mary kom on age question\n",
      "예측 요약 : games gold winning UNK mary kom on olympic gold\n",
      "BLEU Score : 0.11570472462938008\n",
      "\n",
      "\n",
      "원문 : singapore planning test UNK equipped facial recognition cameras allow government perform crowd analytics support anti terror operations UNK singapore government agency charge project given companies may register providing technology network UNK platform pilot project scheduled begin next year \n",
      "실제 headlines : singapore plans to test facial recognition tech on UNK\n",
      "예측 요약 : china to deploy facial recognition to monitor india videos\n",
      "BLEU Score : 0.0699543285114998\n",
      "\n",
      "\n",
      "원문 : csk captain ms dhoni scared rounder ravindra jadeja pretending throw ball fielding srh sunday incident happened seventh dhoni ran towards short mid wicket field ball dhoni picked ball executed dummy throw jadeja come running deep mid wicket \n",
      "실제 headlines : ms dhoni scares jadeja by pretending to throw ball at him\n",
      "예측 요약 : video dhoni takes one handed catch to dismiss dhoni\n",
      "BLEU Score : 0.024503916662321008\n",
      "\n",
      "\n",
      "원문 : us president donald trump retweeted meme UNK former president barack obama user wrote anymore obsessed UNK obama never level users wrote great thing eclipse last long UNK rare orange man gone soon \n",
      "실제 headlines : twitter reacts to trump anti obama eclipse UNK\n",
      "예측 요약 : twitter reacts to trump UNK of UNK UNK\n",
      "BLEU Score : 0.3655552228545123\n",
      "\n",
      "\n",
      "원문 : head amazon web services including cloud services andrew UNK earned amazon founder ceo jeff bezos last year UNK received million stock salary bezos received usual annual salary million security services bezos currently world second richest person billion fortune \n",
      "실제 headlines : amazon employee out earned founder jeff bezos last year\n",
      "예측 요약 : amazon UNK market value as amazon as ceo in\n",
      "BLEU Score : 0.02573285025273419\n",
      "\n",
      "\n",
      "원문 : bjp yuva morcha organise kabaddi tournaments karnataka part centenary celebrations party ideologue deendayal upadhyaya tournaments see participation teams assembly constituency hope event help impress huge gatherings turn kabaddi matches bjp ideology policies said organiser \n",
      "실제 headlines : bjp to UNK karnataka voters with kabaddi UNK\n",
      "예측 요약 : bjp leader UNK UNK to be opened in parliament\n",
      "BLEU Score : 0.03639174582593262\n",
      "\n",
      "\n",
      "원문 : actress shruti haasan asked rumours getting lip job done said face body nobody business shruti said get bothered people write social media adding UNK anyone \n",
      "실제 headlines : what do with my face body is nobody business shruti\n",
      "예측 요약 : am not getting personal UNK to speak up to tanushree\n",
      "BLEU Score : 0\n",
      "\n",
      "\n",
      "원문 : health ministry ordered thorough inquiry bodies donated dera sacha sauda lucknow based medical college research allegedly without death certificates college said receive requisite death certificates adding acquired signed affidavits regarding donations kin deceased \n",
      "실제 headlines : probe ordered into dera donation of bodies for research\n",
      "예측 요약 : govt UNK UNK of UNK UNK over UNK\n",
      "BLEU Score : 0.02523907356031767\n",
      "\n",
      "\n",
      "원문 : rjd candidate kumar krishna mohan wednesday bypolls bihar assembly constituency UNK rjd candidate sarfaraz alam lok sabha constituency UNK bjp candidate UNK rani pandey state assembly UNK seat election commission recorded voter turnout three constituencies \n",
      "실제 headlines : rjd wins UNK UNK bjp bags UNK in bihar bypolls\n",
      "예측 요약 : rjd wins up cm nitish kumar in rajasthan\n",
      "BLEU Score : 0.061389660515260625\n",
      "\n",
      "\n",
      "원문 : four children UNK khan lynched mob alwar suspicion cow smuggler provided free education madrasa run ex vice president hamid ansari wife salma reportedly school steps foundation take care tuition hostel fees children \n",
      "실제 headlines : alwar lynching victim kids to get free education in madrasa\n",
      "예측 요약 : muslim youth attacked by mob in UNK for jharkhand\n",
      "BLEU Score : 0.02302676613984314\n",
      "\n",
      "\n"
     ]
    },
    {
     "name": "stdout",
     "output_type": "stream",
     "text": [
      "원문 : us president donald trump saturday explained deployment terminal high altitude area defence system south korea china president xi jinping trump also discussed seriousness north korea nuclear problem respond notably china opposed deployment us supplied UNK south korea arguing could threaten security \n",
      "실제 headlines : trump explains us position on thaad to china\n",
      "예측 요약 : trump to develop new korea to monitor trump kim summit\n",
      "BLEU Score : 0.027895820162122397\n",
      "\n",
      "\n",
      "원문 : rape allegations levelled portugal footballer cristiano ronaldo led fall price shares new club juventus accusations levelled former real madrid player sports firm nike expressed deep concern matter stated closely monitoring situation \n",
      "실제 headlines : juventus shares fall after rape allegations against ronaldo\n",
      "예측 요약 : neymar loses over UNK in UNK at instagram\n",
      "BLEU Score : 0\n",
      "\n",
      "\n",
      "원문 : former us army intelligence analyst chelsea manning released military prison kansas wednesday took twitter share picture world okay everyone manning captioned picture manning sentenced years prison sharing lakh classified documents wikileaks \n",
      "실제 headlines : chelsea manning shares photo after release from prison\n",
      "예측 요약 : us president UNK UNK manning over leaking war\n",
      "BLEU Score : 0.028599617161713803\n",
      "\n",
      "\n",
      "원문 : punjab chief minister amarinder singh wednesday said farmers cannot expected give stubble burning completely provided viable solutions adding matter farmers livelihood survival said state government engaged spreading awareness among farmers need stop burning stubble \n",
      "실제 headlines : farmers cannot give up stubble burning completely punjab cm\n",
      "예측 요약 : stubble burning stubble stubble stubble stubble stubble\n",
      "BLEU Score : 0.061575427029895345\n",
      "\n",
      "\n",
      "원문 : murder accused shot sitting inside police van gate number delhi UNK UNK court tuesday reportedly shooter minor belonged rival gang man admitted hospital shooter taken custody police \n",
      "실제 headlines : murder accused shot at outside delhi UNK UNK court\n",
      "예측 요약 : journalist shot dead in delhi court\n",
      "BLEU Score : 0.030008530724036805\n",
      "\n",
      "\n",
      "원문 : india second largest telecom operator bharti airtel reportedly talks regarding potential takeover UNK kenya east african nation smallest operator london based UNK investment looking sell part stake UNK acquired reports added notably airtel kenya second biggest telecom operator \n",
      "실제 headlines : bharti airtel in talks to buy UNK kenya reports\n",
      "예측 요약 : airtel to acquire airtel UNK for billion\n",
      "BLEU Score : 0.03200338713745713\n",
      "\n",
      "\n",
      "원문 : election commission wednesday blocked usage aiadmk name twin leaves poll symbol claimed faction led panneerselvam ex tamil nadu cm UNK allegedly asked step aiadmk chief sasikala natarajan ec also asked factions choose different symbols upcoming polls \n",
      "실제 headlines : ec freezes aiadmk poll symbol after UNK claim\n",
      "예측 요약 : ec bans ec UNK evm code for evm tampering\n",
      "BLEU Score : 0.030601688609851067\n",
      "\n",
      "\n",
      "원문 : man allegedly raped eight year old girl recently public park delhi UNK market UNK daughter playing nearby reportedly witnessed crime accused works cleaner public toilet UNK lives two daughters arrested booked pocso act \n",
      "실제 headlines : man rapes yr old in park in front of his teenage daughter\n",
      "예측 요약 : year old man raped by year old in mumbai\n",
      "BLEU Score : 0.05012446668865434\n",
      "\n",
      "\n",
      "원문 : real madrid wait till start next season get hands spanish la liga trophy despite winning league title final UNK atl tico madrid also wait three months presented la liga trophy winning la liga title \n",
      "실제 headlines : when will real madrid be presented with the la liga trophy\n",
      "예측 요약 : real madrid bar ends as la liga for first time\n",
      "BLEU Score : 0.07287620685293648\n",
      "\n",
      "\n",
      "Average BLEU Score for samples 0-50:  0.045445285592722984\n"
     ]
    }
   ],
   "source": [
    "# Smoothing Function을 적용하여 BLEU 계산\n",
    "smoothie = SmoothingFunction().method4\n",
    "\n",
    "bleu_scores = []\n",
    "predicted_summaries = []\n",
    "\n",
    "for i in range(0, 50):\n",
    "    reference = seq2summary(decoder_input_test[i]).split()\n",
    "    candidate = decode_sequence(encoder_input_test[i].reshape(1, max_text_len)).split()\n",
    "    predicted_summaries.append(candidate)  # 예측 요약을 리스트로 저장\n",
    "    bleu_score = sentence_bleu([reference], candidate, smoothing_function=smoothie)\n",
    "    bleu_scores.append(bleu_score)\n",
    "    \n",
    "    print(\"원문 :\", seq2text(encoder_input_test[i]))\n",
    "    print(\"실제 headlines :\", ' '.join(reference))\n",
    "    print(\"예측 요약 :\", ' '.join(candidate))\n",
    "    print(\"BLEU Score :\", bleu_score)\n",
    "    print(\"\\n\")\n",
    "\n",
    "print(\"Average BLEU Score for samples 0-50: \", np.mean(bleu_scores))"
   ]
  },
  {
   "cell_type": "markdown",
   "id": "b6482b2d",
   "metadata": {},
   "source": [
    "#### Average BLEU Score for samples 0-50:  0.045445285592722984\n",
    "- 점수가 너무 낮아서 모델 성능이 안 좋다!!\n",
    "- 모델이 문제인지 전처리 과정이 잘 못되었는지 혹은 모델 테스트 과정이 잘 못되었는지 확인이 필요 해 보인다."
   ]
  },
  {
   "cell_type": "markdown",
   "id": "904fdbe6",
   "metadata": {},
   "source": [
    "### 정량적 평가를 위한 Perplexity 계산"
   ]
  },
  {
   "cell_type": "code",
   "execution_count": 161,
   "id": "741b11aa",
   "metadata": {},
   "outputs": [],
   "source": [
    "def calculate_perplexity(model, input_sequences, target_sequences):\n",
    "    perplexities = []\n",
    "    for i in range(len(input_sequences)):\n",
    "        input_seq = input_sequences[i].reshape(1, max_text_len)\n",
    "        target_seq = target_sequences[i].reshape(1, -1)\n",
    "        predictions = model.predict([input_seq, target_seq[:, :-1]])\n",
    "        cross_entropy = 0.0\n",
    "        for t in range(target_seq.shape[1] - 1):\n",
    "            true_index = target_seq[0, t + 1]\n",
    "            predicted_prob = predictions[0, t, true_index]\n",
    "            cross_entropy -= np.log(predicted_prob + 1e-10)\n",
    "        perplexity = np.exp(cross_entropy / (target_seq.shape[1] - 1))\n",
    "        perplexities.append(perplexity)\n",
    "    return np.mean(perplexities)"
   ]
  },
  {
   "cell_type": "code",
   "execution_count": 162,
   "id": "fbd80128",
   "metadata": {},
   "outputs": [
    {
     "name": "stdout",
     "output_type": "stream",
     "text": [
      "Perplexity on test data:  522.5047226909389\n"
     ]
    }
   ],
   "source": [
    "# 테스트 데이터에 대해 Perplexity 계산\n",
    "perplexity = calculate_perplexity(seq2seq_attention_best_model, encoder_input_test, decoder_input_test)\n",
    "print(\"Perplexity on test data: \", perplexity)"
   ]
  },
  {
   "cell_type": "markdown",
   "id": "5d0e7467",
   "metadata": {},
   "source": [
    "#### Perplexity on test data:  522.5047226909389\n",
    "- 일반적으로 Perplexity 값이 10~100 이하이면 모델이 비교적 좋은 예측을 하고 있다고 평가\n",
    "- 현재 모델은 매우 큰 수치로 모델의 성능이 안 좋다!!"
   ]
  },
  {
   "cell_type": "markdown",
   "id": "0db9bfeb",
   "metadata": {},
   "source": [
    "### Step 5. Summa을 이용해서 추출적 요약해보기\n",
    "추상적 요약은 추출적 요약과는 달리 문장의 표현력을 다양하게 가져갈 수 있지만, 추출적 요약에 비해서 난이도가 높아요. 반대로 말하면 추출적 요약은 추상적 요약에 비해 난이도가 낮고 기존 문장에서 문장을 꺼내오는 것이므로 잘못된 요약이 나올 가능성이 낮아요.\n",
    "\n",
    "Summa의 summarize를 사용하여 추출적 요약을 해보세요."
   ]
  },
  {
   "cell_type": "markdown",
   "id": "85cd285a",
   "metadata": {},
   "source": [
    "### summarize 사용하기\n",
    "---\n",
    "Summa의 summarize()의 인자\n",
    "\n",
    "> text (str) : 요약할 테스트.  \n",
    "ratio (float, optional) – 요약문에서 원본에서 선택되는 문장 비율. 0~1 사이값  \n",
    "words (int or None, optional) – 출력에 포함할 단어 수.  \n",
    "만약, ratio와 함께 두 파라미터가 모두 제공되는 경우 ratio는 무시한다.  \n",
    "split (bool, optional) – True면 문장 list / False는 조인(join)된 문자열을 반환  \n",
    "\n",
    "- Summa의 summarize는 문장 토큰화를 별도로 하지 않더라도 내부적으로 문장 토큰화를 수행\n",
    "- 문장 구분이 되어있지 않은 원문을 바로 입력으로 넣을 수 있음\n",
    "- 원문의 0.005%만을 출력하도록 설정"
   ]
  },
  {
   "cell_type": "code",
   "execution_count": 202,
   "id": "9fb97e5f",
   "metadata": {},
   "outputs": [],
   "source": [
    "import requests\n",
    "from summa.summarizer import summarize"
   ]
  },
  {
   "cell_type": "code",
   "execution_count": 215,
   "id": "530f5d1e",
   "metadata": {},
   "outputs": [],
   "source": [
    "urllib.request.urlretrieve(\"https://raw.githubusercontent.com/sunnysai12345/News_Summary/master/news_summary_more.csv\", filename=\"news_summary_more.csv\")\n",
    "result_summarize_data = pd.read_csv('news_summary_more.csv', encoding='iso-8859-1')"
   ]
  },
  {
   "cell_type": "code",
   "execution_count": 236,
   "id": "d23fdba8",
   "metadata": {},
   "outputs": [
    {
     "data": {
      "text/plain": [
       "array([49998, 25628, 39317, ..., 59050, 14130, 77167])"
      ]
     },
     "execution_count": 236,
     "metadata": {},
     "output_type": "execute_result"
    }
   ],
   "source": [
    "indices"
   ]
  },
  {
   "cell_type": "code",
   "execution_count": 237,
   "id": "16bff535",
   "metadata": {},
   "outputs": [
    {
     "data": {
      "text/html": [
       "<div>\n",
       "<style scoped>\n",
       "    .dataframe tbody tr th:only-of-type {\n",
       "        vertical-align: middle;\n",
       "    }\n",
       "\n",
       "    .dataframe tbody tr th {\n",
       "        vertical-align: top;\n",
       "    }\n",
       "\n",
       "    .dataframe thead th {\n",
       "        text-align: right;\n",
       "    }\n",
       "</style>\n",
       "<table border=\"1\" class=\"dataframe\">\n",
       "  <thead>\n",
       "    <tr style=\"text-align: right;\">\n",
       "      <th></th>\n",
       "      <th>headlines</th>\n",
       "      <th>text</th>\n",
       "    </tr>\n",
       "  </thead>\n",
       "  <tbody>\n",
       "    <tr>\n",
       "      <th>15957</th>\n",
       "      <td>Shahzad 1st Afghan player to score an int'l to...</td>\n",
       "      <td>Afghanistan's wicketkeeper-batsman Mohammad Sh...</td>\n",
       "    </tr>\n",
       "    <tr>\n",
       "      <th>5610</th>\n",
       "      <td>MakeMyTrip files lawsuit against 5 firms over ...</td>\n",
       "      <td>Online travel portal MakeMyTrip (MMT) has file...</td>\n",
       "    </tr>\n",
       "    <tr>\n",
       "      <th>63340</th>\n",
       "      <td>Samsung announces three new CEOs</td>\n",
       "      <td>Samsung on Monday announced it has promoted th...</td>\n",
       "    </tr>\n",
       "    <tr>\n",
       "      <th>87019</th>\n",
       "      <td>India defeat Pakistan in pre-Champions Trophy ...</td>\n",
       "      <td>Indian fans defeated their Pakistani counterpa...</td>\n",
       "    </tr>\n",
       "    <tr>\n",
       "      <th>30939</th>\n",
       "      <td>Report on flyover collapse to be submitted in ...</td>\n",
       "      <td>Uttar Pradesh CM Yogi Adityanath has said a th...</td>\n",
       "    </tr>\n",
       "    <tr>\n",
       "      <th>46710</th>\n",
       "      <td>Tamil Nadu incubator to invest Ã¢ÂÂ¹1.3 crore...</td>\n",
       "      <td>Tamil Nadu-based incubator will be investing Ã...</td>\n",
       "    </tr>\n",
       "    <tr>\n",
       "      <th>26535</th>\n",
       "      <td>Axis Bank recommends three candidates for the ...</td>\n",
       "      <td>Axis Bank on Tuesday said it has recommended t...</td>\n",
       "    </tr>\n",
       "    <tr>\n",
       "      <th>34643</th>\n",
       "      <td>Tendulkar could play Doctor Strange: Benedict ...</td>\n",
       "      <td>Actor Benedict Cumberbatch, who played the lea...</td>\n",
       "    </tr>\n",
       "    <tr>\n",
       "      <th>24209</th>\n",
       "      <td>MP CM Chouhan slams Digvijaya for calling Lade...</td>\n",
       "      <td>Madhya Pradesh CM Shivraj Singh Chouhan has sl...</td>\n",
       "    </tr>\n",
       "    <tr>\n",
       "      <th>18588</th>\n",
       "      <td>Neymar copies Ronaldo's celebration after scor...</td>\n",
       "      <td>Brazilian forward Neymar Jr copied former Real...</td>\n",
       "    </tr>\n",
       "  </tbody>\n",
       "</table>\n",
       "</div>"
      ],
      "text/plain": [
       "                                               headlines  \\\n",
       "15957  Shahzad 1st Afghan player to score an int'l to...   \n",
       "5610   MakeMyTrip files lawsuit against 5 firms over ...   \n",
       "63340                   Samsung announces three new CEOs   \n",
       "87019  India defeat Pakistan in pre-Champions Trophy ...   \n",
       "30939  Report on flyover collapse to be submitted in ...   \n",
       "46710  Tamil Nadu incubator to invest Ã¢ÂÂ¹1.3 crore...   \n",
       "26535  Axis Bank recommends three candidates for the ...   \n",
       "34643  Tendulkar could play Doctor Strange: Benedict ...   \n",
       "24209  MP CM Chouhan slams Digvijaya for calling Lade...   \n",
       "18588  Neymar copies Ronaldo's celebration after scor...   \n",
       "\n",
       "                                                    text  \n",
       "15957  Afghanistan's wicketkeeper-batsman Mohammad Sh...  \n",
       "5610   Online travel portal MakeMyTrip (MMT) has file...  \n",
       "63340  Samsung on Monday announced it has promoted th...  \n",
       "87019  Indian fans defeated their Pakistani counterpa...  \n",
       "30939  Uttar Pradesh CM Yogi Adityanath has said a th...  \n",
       "46710  Tamil Nadu-based incubator will be investing Ã...  \n",
       "26535  Axis Bank on Tuesday said it has recommended t...  \n",
       "34643  Actor Benedict Cumberbatch, who played the lea...  \n",
       "24209  Madhya Pradesh CM Shivraj Singh Chouhan has sl...  \n",
       "18588  Brazilian forward Neymar Jr copied former Real...  "
      ]
     },
     "execution_count": 237,
     "metadata": {},
     "output_type": "execute_result"
    }
   ],
   "source": [
    "result_summarize_data = result_summarize_data.iloc[indices]\n",
    "result_summarize_data.iloc[:10]"
   ]
  },
  {
   "cell_type": "code",
   "execution_count": 254,
   "id": "a49edc5a",
   "metadata": {},
   "outputs": [],
   "source": [
    "extractive_summaries = []"
   ]
  },
  {
   "cell_type": "code",
   "execution_count": 255,
   "id": "b859a4c7",
   "metadata": {},
   "outputs": [
    {
     "name": "stdout",
     "output_type": "stream",
     "text": [
      "원문 : Afghanistan's wicketkeeper-batsman Mohammad Shahzad became the first player from the nation to score a ton against India in international cricket after reaching the landmark in their Asia Cup 2018 match on Tuesday. The 30-year-old reached the landmark when Afghanistan were on 131 runs, the joint lowest team score when a batsman has scored an ODI ton.\n",
      "실제 요약 : Shahzad 1st Afghan player to score an int'l ton against India\n",
      "추출적 요약 : \n",
      "\n",
      "\n",
      "원문 : Online travel portal MakeMyTrip (MMT) has filed a lawsuit against five companies for allegedly violating its trademark by using \"deceptively similar sounding names\". The firms reportedly include MakeMyYatra, MakeMyJourney, Make My Happy Journey, Pick My Trip and SuperbMyTrip. The Delhi High Court had passed interim orders for a few companies restraining their associated firms from using similar names.\n",
      "실제 요약 : MakeMyTrip files lawsuit against 5 firms over similar names\n",
      "추출적 요약 : The Delhi High Court had passed interim orders for a few companies restraining their associated firms from using similar names.\n",
      "\n",
      "\n",
      "원문 : Samsung on Monday announced it has promoted three company Presidents, Kim Ki-nam, Kim Hyun-suk and Koh Dong-jin to the roles of co-CEO. The CEOs will be heading the company's components business, consumer electronics, and mobile and IT division respectively. It comes after former CEO  Kwon Oh-hyun announced his resignation citing \"unprecedented crisis\", earlier this month. \n",
      "실제 요약 : Samsung announces three new CEOs\n",
      "추출적 요약 : Samsung on Monday announced it has promoted three company Presidents, Kim Ki-nam, Kim Hyun-suk and Koh Dong-jin to the roles of co-CEO.\n",
      "\n",
      "\n",
      "원문 : Indian fans defeated their Pakistani counterparts in a series of games in Edgbaston, England, ahead of the two countries' Champions Trophy clash on June 4. The Edgbaston Fans Trophy saw teams of Indian and Pakistani fans win an eight-over game each before a Super Over was played to decide the winner. India won the decider by four runs.\n",
      "실제 요약 : India defeat Pakistan in pre-Champions Trophy fan tournament\n",
      "추출적 요약 : The Edgbaston Fans Trophy saw teams of Indian and Pakistani fans win an eight-over game each before a Super Over was played to decide the winner.\n",
      "\n",
      "\n",
      "원문 : Uttar Pradesh CM Yogi Adityanath has said a three-member committee has been constituted to probe the collapse of an under-construction flyover near Varanasi's Cantonment railway station. The committee will submit the report within 48 hours, the CM added. CM Yogi also announced a compensation of Ã¢ÂÂ¹5 lakh for relatives of the deceased and Ã¢ÂÂ¹2 lakh for the seriously injured.\n",
      "실제 요약 : Report on flyover collapse to be submitted in 48 hrs: UP CM\n",
      "추출적 요약 : Uttar Pradesh CM Yogi Adityanath has said a three-member committee has been constituted to probe the collapse of an under-construction flyover near Varanasi's Cantonment railway station.\n",
      "\n",
      "\n",
      "원문 : Tamil Nadu-based incubator will be investing Ã¢ÂÂ¹1.3 crore across 3 startups, Yellow Messenger, Linksmart DNA, and Book My Diamond. The startups were selected as part of a pitching contest organised by a Coimbatore-based university. Entrepreneurs and investors including R Natarajan, COO and CFO of RNT Capital Ventures, and Matrimony.com CEO M Janakiraman participated in the event.\n",
      "실제 요약 : Tamil Nadu incubator to invest Ã¢ÂÂ¹1.3 crore across 3 startups\n",
      "추출적 요약 : Tamil Nadu-based incubator will be investing Ã¢ÂÂ¹1.3 crore across 3 startups, Yellow Messenger, Linksmart DNA, and Book My Diamond.\n",
      "\n",
      "\n",
      "원문 : Axis Bank on Tuesday said it has recommended the names of three candidates for the CEO's post for approval of the RBI. The candidate as approved by the RBI, will succeed Shikha Sharma, whose term as MD and CEO of the bank, is due to expire on December 31. The bank, however, didn't disclose the names of the shortlisted candidates.\n",
      "실제 요약 : Axis Bank recommends three candidates for the post of CEO\n",
      "추출적 요약 : Axis Bank on Tuesday said it has recommended the names of three candidates for the CEO's post for approval of the RBI.\n",
      "\n",
      "\n",
      "원문 : Actor Benedict Cumberbatch, who played the lead role in 2016 superhero film Doctor Strange, has said Sachin Tendulkar would fit the role as he is \"quite extraordinary\". Cumberbatch revealed this to ex-Australian pacer Brett Lee during press tour of 'Avengers: Infinity War' in Singapore. Cumberbatch further revealed he loved playing cricket and Graham Gooch was his hero when growing up.\n",
      "실제 요약 : Tendulkar could play Doctor Strange: Benedict Cumberbatch\n",
      "추출적 요약 : Cumberbatch further revealed he loved playing cricket and Graham Gooch was his hero when growing up.\n",
      "\n",
      "\n",
      "원문 : Madhya Pradesh CM Shivraj Singh Chouhan has slammed Congress leader Digvijaya Singh for calling slain terrorist Osama bin Laden as \"Osama ji\" in 2011, adding that he should know the difference between a terrorist and a patriot. Meanwhile, Digvijaya said he was willing to appear before the police after Chouhan said his actions and statements were 'anti-national'.\n",
      "실제 요약 : MP CM Chouhan slams Digvijaya for calling Laden 'Osama ji'\n",
      "추출적 요약 : \n",
      "\n",
      "\n",
      "원문 : Brazilian forward Neymar Jr copied former Real Madrid forward Cristiano Ronaldo's celebration after scoring a goal in Brazil's team training session. In the video, Neymar is seen scoring with a curling effort into the top-right corner of the goal, before embarking on a run and then finishing with the Ronaldo celebration. Brazil are set to face USA in a friendly. \n",
      "실제 요약 : Neymar copies Ronaldo's celebration after scoring in training\n",
      "추출적 요약 : Brazilian forward Neymar Jr copied former Real Madrid forward Cristiano Ronaldo's celebration after scoring a goal in Brazil's team training session.\n",
      "\n",
      "\n",
      "원문 : Facebook has announced it will confirm the identity and location of Indian advertisers wanting to run political ads on the platform ahead of the 2019 Lok Sabha elections. \"By authorizing advertisers...we can better defend against foreign interference in India's elections,\" Facebook said. It added it will also show a disclaimer on all political ads with advertisers' information from next year.\n",
      "실제 요약 : Facebook to check Indian political ads before 2019 elections\n",
      "추출적 요약 : Facebook has announced it will confirm the identity and location of Indian advertisers wanting to run political ads on the platform ahead of the 2019 Lok Sabha elections.\n",
      "\n",
      "\n",
      "원문 : A US court has passed an interim order preventing creditors from collecting debt from fraud-accused Nirav Modi's firm Firestar Diamond Inc after it filed for bankruptcy. \"Creditors who violate the stay can be required to pay actual and punitive damages and attorney's fees,\" the court said. Firestar blamed liquidity and supply chain challenges for bankruptcy after the nearly $2-billion fraud. \n",
      "실제 요약 : US court prevents debt collection from Nirav's bankrupt firm\n",
      "추출적 요약 : A US court has passed an interim order preventing creditors from collecting debt from fraud-accused Nirav Modi's firm Firestar Diamond Inc after it filed for bankruptcy.\n",
      "\n",
      "\n",
      "원문 : The Delhi government is formulating a short-term plan, stretching up to a year, to procure 500 low-floor, air-conditioned e-buses, officials said on Wednesday. The decision is reportedly taken keeping in mind the hazardous air quality in the city for the past few weeks. The plan was discussed in a meeting chaired by Chief Minister Arvind Kejriwal on Tuesday, officials added.\n",
      "실제 요약 : Delhi government plans to procure 500 e-buses\n",
      "추출적 요약 : The Delhi government is formulating a short-term plan, stretching up to a year, to procure 500 low-floor, air-conditioned e-buses, officials said on Wednesday.\n",
      "\n",
      "\n",
      "원문 : The Army has filed a counter FIR in response to the one filed by the J&K Police against its 10th Garhwal unit in the Shopian firing incident, which killed three civilians. While the Army said it fired in self-defence, villagers claimed the firing happened after an altercation over the Army's attempts to remove posters of a slain militant.\n",
      "실제 요약 : Army files counter FIR in J&K firing that killed 3 civilians\n",
      "추출적 요약 : \n",
      "\n",
      "\n",
      "원문 : A woman, who claimed to be the daughter of Dubai's ruler Sheikh Mohammed Al Maktoum, has gone missing off Goa coast, according to reports. In a video which recently went viral online, the woman claimed that she is Dubai's Princess Sheikh Latifa and had escaped from the country after being secretly jailed by her father for three years over \"rebellion\".\n",
      "실제 요약 : Woman claiming to be Dubai's Princess goes missing off Goa\n",
      "추출적 요약 : \n",
      "\n",
      "\n",
      "원문 : A veil-clad person wearing a T-shirt with the word \"love\" spelt out in weapons, including a hand grenade, has warned that Islamophobia will rise in the aftermath of the Manchester attack in a live TV broadcast in UK. The person further claimed, \"I'm a good Muslim. I, my friends, everyone who I interact with they know I'm a good Muslim\".\n",
      "실제 요약 : Person wearing 'love' shirt warns against Islamophobia in UK\n",
      "추출적 요약 : The person further claimed, \"I'm a good Muslim.\n",
      "\n",
      "\n",
      "원문 : Raksha Gopal, the girl who topped CBSE class XII board exams, has said that she wants to pursue a degree in Political Science from the University of Delhi (DU). \"There is no favourite college in DU and I am waiting for the first cut-off list,\" the 17-year-old said, who scored 99.6% marks. She scored 100 marks in three subjects.\n",
      "실제 요약 : There is no favourite college in DU: CBSE India topper\n",
      "추출적 요약 : \"There is no favourite college in DU and I am waiting for the first cut-off list,\" the 17-year-old said, who scored 99.6% marks.\n",
      "\n",
      "\n",
      "원문 : At least 2 people lost their lives during three days of continuous heavy rainfall in Karnataka. A flood-like situation arose in the state due to increased water level of the Krishna and the Malaprabha rivers. Landslides were reported in many districts, along with several instances of severed road links and submerged bridges.\n",
      "실제 요약 : Heavy rainfall claims 2 lives in Karnataka\n",
      "추출적 요약 : At least 2 people lost their lives during three days of continuous heavy rainfall in Karnataka.\n",
      "\n",
      "\n",
      "원문 : The National Highways Authority of India (NHAI) recently clarified that there is no three-minute waiting rule for waiver of toll at toll plazas on National Highways. News reports recently claimed that people waiting at toll plaza queues for over three minutes won't have to pay the toll. The NHAI clarified that there is no such provision as of now. \n",
      "실제 요약 : No 3 minute waiting rule at toll plazas, govt clarifies\n",
      "추출적 요약 : The National Highways Authority of India (NHAI) recently clarified that there is no three-minute waiting rule for waiver of toll at toll plazas on National Highways.\n",
      "\n",
      "\n",
      "원문 : Infosys Co-founder Narayana Murthy in a letter said the Infosys board's refusal to disclose information about the investigations related to the company's Panaya acquisition, is an \"ultimate insult to shareholder democracy\". \"I never ever imagined that governance levels would stoop down to such a low level in a company that was the most respected company till 2014,\" he added.\n",
      "실제 요약 : Not disclosing info insult to shareholder democracy: Murthy\n",
      "추출적 요약 : \n",
      "\n",
      "\n",
      "원문 : Talking about what he regrets about his time as Microsoft's CEO, Steve Ballmer on Tuesday said, \"I think I was too slow in cases to recognise the need for new capability, particularly in hardware.\" He added, \"I wish we'd built the capability to be a world-class hardware company because one of the new expressions of software is essentially the hardware.\"\n",
      "실제 요약 : Microsoft was too slow to develop hardware: Former CEO\n",
      "추출적 요약 : \n",
      "\n",
      "\n",
      "원문 : Britain's BT Group will remove Huawei equipment from the core part of a $3-billion communications network it is developing for the UK's police and other emergency responders. BT has been removing Huawei equipment from its own core 3G and 4G networks since acquiring EE, which used Huawei gear, in 2016. The expenses of the conversion will be borne by BT.\n",
      "실제 요약 : Huawei gear to be removed from UK emergency services network\n",
      "추출적 요약 : BT has been removing Huawei equipment from its own core 3G and 4G networks since acquiring EE, which used Huawei gear, in 2016.\n",
      "\n",
      "\n",
      "원문 : England suffered their heaviest-ever ODI defeat in terms of runs in the fifth ODI against Sri Lanka in Colombo on Tuesday. For the first time since 1998, each of Sri Lanka's top four batsmen had passed the 50-run mark in the same ODI innings. The rain delay led to Sri Lanka winning by 219 runs by the Duckworth-Lewis method.\n",
      "실제 요약 : Eng suffer heaviest ODI defeat in terms of runs against SL\n",
      "추출적 요약 : For the first time since 1998, each of Sri Lanka's top four batsmen had passed the 50-run mark in the same ODI innings.\n",
      "\n",
      "\n",
      "원문 : Referring to tracking users who are not logged in or signed up on the platform, Facebook in a blog post pointed out companies like Amazon, Google, and Twitter do the same. Adding that these companies also use the data for advertising services, Facebook said, \"Most websites and apps send the same information to multiple companies each time you visit them.\"\n",
      "실제 요약 : Google, Amazon do same: FB on tracking users on other sites\n",
      "추출적 요약 : \n",
      "\n",
      "\n",
      "원문 : The Indian consulate in Australia was briefly evacuated on Wednesday morning after a suspicious package was found there. Similar packages were also delivered at consulates of at least 10 countries, including that of the US, UK and Pakistan, in Australia. \"The packages are being nexamined by attending emergency services,\" the Australian Federal Police tweeted.\n",
      "실제 요약 : Indian consulate in Australia evacuated over suspicious package\n",
      "추출적 요약 : Similar packages were also delivered at consulates of at least 10 countries, including that of the US, UK and Pakistan, in Australia.\n",
      "\n",
      "\n",
      "원문 : The sale price for a new three-storey penthouse in Singapore, which comes with a private pool, has reached $72 million (over Ã¢ÂÂ¹460 crores). The penthouse is located in Singapore's tallest building, Tanjong Pagar Centre. The penthouse, which is being dubbed as the 'bungalow in the sky', is likely to become Singapore's most expensive apartment.\n",
      "실제 요약 : Penthouse in Singapore's tallest building on sale for Ã¢ÂÂ¹460cr\n",
      "추출적 요약 : The sale price for a new three-storey penthouse in Singapore, which comes with a private pool, has reached $72 million (over Ã¢ÂÂ¹460 crores).\n",
      "\n",
      "\n",
      "원문 : Chinese President Xi Jinping has said that the theories of German philosopher Karl Marx remain \"totally correct\" for the communist nation. Calling Marx \"the greatest thinker of modern times\", Jinping added that Marx's theories on communism are a tool for China to \"win the future\". The 200th birth anniversary of Karl Marx was observed on Saturday.\n",
      "실제 요약 : Marxism still 'totally correct' for China: President Jinping\n",
      "추출적 요약 : Chinese President Xi Jinping has said that the theories of German philosopher Karl Marx remain \"totally correct\" for the communist nation.\n",
      "\n",
      "\n",
      "원문 : The official Twitter account of the US Defence Department, Pentagon, on Thursday retweeted a post calling for President Donald Trump's resignation. However, the Pentagon later deleted the post, clarifying that an authorised operator of its Twitter page erroneously retweeted it and the department does not endorse the content. The Pentagon has over 52 lakh followers on the social media platform.nnnn\n",
      "실제 요약 : Pentagon mistakenly retweets call for Trump's resignation\n",
      "추출적 요약 : However, the Pentagon later deleted the post, clarifying that an authorised operator of its Twitter page erroneously retweeted it and the department does not endorse the content.\n",
      "\n",
      "\n",
      "원문 : Indian captain Virat Kohli earns Ã¢ÂÂ¹3.2 crore ($500,000) per promotional post through Instagram, as per a recent report by Forbes. Kohli is tied with Real Madrid forward Cristiano Ronaldo at the second place while comedian Kevin Hart tops the chart with Ã¢ÂÂ¹6.4 crore per post. Kohli's brand endorsement contract was reportedly worth Ã¢ÂÂ¹143 crore in 2017.\n",
      "실제 요약 : Kohli earns Ã¢ÂÂ¹3.2 crore per Instagram post, same as Ronaldo\n",
      "추출적 요약 : Indian captain Virat Kohli earns Ã¢ÂÂ¹3.2 crore ($500,000) per promotional post through Instagram, as per a recent report by Forbes.\n",
      "\n",
      "\n",
      "원문 : A newly married woman in Haryana's Kurukshetra has accused her husband, his relatives and four 'tantriks' of gangraping her for two nights after wedding. The woman was allegedly given a spiked drink on the next day of her wedding and raped by husband and his relatives. She was then gangraped by the 'tantriks' called for performing 'pooja' the following night.\n",
      "실제 요약 : Newly wed woman gangraped by husband, relatives, 'tantriks'\n",
      "추출적 요약 : A newly married woman in Haryana's Kurukshetra has accused her husband, his relatives and four 'tantriks' of gangraping her for two nights after wedding.\n",
      "\n",
      "\n",
      "원문 : A bar in Kerala has built a maze around its premises to beat the Supreme Court-ordered ban on the sale of liquor within 500 metres of any National Highway. The maze will increase the motorable distance to reach the bar, and thus it would not fall within the prescribed 500-metre distance. The construction of the maze reportedly cost Ã¢ÂÂ¹2 lakh.\n",
      "실제 요약 : Kerala bar builds maze to beat liquor sale ban near highways\n",
      "추출적 요약 : The maze will increase the motorable distance to reach the bar, and thus it would not fall within the prescribed 500-metre distance.\n",
      "\n",
      "\n",
      "원문 : Scientists have identified a third species of orangutans dubbed the Tapanuli orangutan (Pongo tapanuliensis) in the Indonesian island of Sumatra. Since 2001, two distinct species have been recognised- the Bornean (Pongo pygmaeus) and Sumatran (Pongo abelii) orangutans. Highlighting the threat to the species, researchers estimate no more than 800 individuals remain across the fragmented forests.\n",
      "실제 요약 : Scientists identify a new orangutan species\n",
      "추출적 요약 : Since 2001, two distinct species have been recognised- the Bornean (Pongo pygmaeus) and Sumatran (Pongo abelii) orangutans.\n",
      "\n",
      "\n",
      "원문 : A BSF jawan, alleged to have been honey-trapped by Pakistan's ISI, has been arrested for spying by Uttar Pradesh's anti-terror squad, state police chief OP Singh said. Constable Achuytanand Mishra, posted at the BSF Composite hospital in Delhi, was arrested from Noida. He was in touch with a girl on Facebook, who posed as a defence reporter, since January 2016.\n",
      "실제 요약 : BSF jawan arrested for spying, police say he was trapped by ISI\n",
      "추출적 요약 : A BSF jawan, alleged to have been honey-trapped by Pakistan's ISI, has been arrested for spying by Uttar Pradesh's anti-terror squad, state police chief OP Singh said.\n",
      "\n",
      "\n",
      "원문 : Daniel Salvame, an 11-year-old Philippines boy, has been dubbed 'Popeye' after a mystery illness left him with swollen biceps. Daniel noticed swelling on his right upper-arm when he was four. \"My friends teased me because I look strange but it does not worry me,\" said Daniel. Popeye is a cartoon character famous for his spinach-induced biceps.  \n",
      "실제 요약 : 11-yr-old dubbed 'Popeye' after ailment gives him huge biceps\n",
      "추출적 요약 : Daniel Salvame, an 11-year-old Philippines boy, has been dubbed 'Popeye' after a mystery illness left him with swollen biceps.\n",
      "\n",
      "\n",
      "원문 : The driver of the bus, whose conductor is accused of killing a 7-year-old, has said that the conductor and school authorities told him that the boy had fallen in the washroom and hurt himself. He added that the conductor was asked to carry the boy outside. The conductor was also repeatedly advised earlier to not use the kids' washroom.\n",
      "실제 요약 : Conductor, school told me kid hurt after falling: Bus driver\n",
      "추출적 요약 : The driver of the bus, whose conductor is accused of killing a 7-year-old, has said that the conductor and school authorities told him that the boy had fallen in the washroom and hurt himself.\n",
      "\n",
      "\n",
      "원문 : A 32-year-old man accused of raping and impregnating a 17-year-old girl on the pretext of marriage has been let off with a fine of around Ã¢ÂÂ¹2 lakh by village elders in Telangana. The girl's mother had demanded that the accused marry her daughter but the man, who was already married, refused. Police have arrested four people, including the rape accused.\n",
      "실제 요약 : Man accused of raping minor let off with Ã¢ÂÂ¹2 lakh fine\n",
      "추출적 요약 : A 32-year-old man accused of raping and impregnating a 17-year-old girl on the pretext of marriage has been let off with a fine of around Ã¢ÂÂ¹2 lakh by village elders in Telangana.\n",
      "\n",
      "\n",
      "원문 : Arjun Rampal and Jackie Shroff's 'Paltan', which released today, is \"a lifeless war film,\" wrote Hindustan Times (HT). It \"manages to undo some of the damage in its final moments,\" said The Times of India (TOI). Bollywood Hungama wrote, \"The film not only enlightens viewers but also entertains them.\" It's been rated 1.5/5 (HT), 3/5 (TOI) and 2.5/5 (Bollywood Hungama).   \n",
      "실제 요약 : Arjun Rampal, Jackie Shroff starrer 'Paltan' hits theatres\n",
      "추출적 요약 : Bollywood Hungama wrote, \"The film not only enlightens viewers but also entertains them.\" It's been rated 1.5/5 (HT), 3/5 (TOI) and 2.5/5 (Bollywood Hungama).\n",
      "\n",
      "\n",
      "원문 : American singer Katy Perry compared her old black hair colour to former US President Barack Obama during an Instagram live session. When a fan mentioned missing Perry's black hair, she said, \"Oh, really? Do you miss Barack Obama as well? Okay, times change.\" After this, Perry was slammed by various social media users for being racially insensitive. \n",
      "실제 요약 : Katy Perry compares her old black hair colour to Obama\n",
      "추출적 요약 : American singer Katy Perry compared her old black hair colour to former US President Barack Obama during an Instagram live session.\n",
      "\n",
      "\n",
      "원문 : Afghanistan leg-spinner Rashid Khan took to Twitter to share a video of the place where he started playing cricket. \"This is how from where I start my ckt playing with brothers at home...big bro (Amir Khan) has some skills to turn the ball #familylegspinners,\" he captioned. In the video, Rashid Khan's brother can be seen bowling leg-spin. \n",
      "실제 요약 : Rashid shares video of place where he began playing cricket\n",
      "추출적 요약 : Afghanistan leg-spinner Rashid Khan took to Twitter to share a video of the place where he started playing cricket.\n",
      "\n",
      "\n",
      "원문 : Punjab National Bank (PNB) Maestro debit card holders will face card blockage if they fail to replace it with a more secure EMV chip based card by July 31. New replacement cards will be provided free of cost to the customers. Earlier, RBI had directed all banks to migrate to EMV chip based cards by December 31, 2018.\n",
      "실제 요약 : PNB to block all Maestro debit cards from July 31\n",
      "추출적 요약 : Punjab National Bank (PNB) Maestro debit card holders will face card blockage if they fail to replace it with a more secure EMV chip based card by July 31.\n",
      "\n",
      "\n",
      "원문 : Former Finance Minister P Chidambaram's son Karti Chidambaram has been sent to judicial custody till March 24 in the INX Media money laundering case. Further, the court has rejected Karti's request for home food in Tihar Jail. Karti has been accused of taking money to get a foreign investment clearance for INX Media during his father's tenure.\n",
      "실제 요약 : Karti Chidambaram sent to judicial custody till March 24\n",
      "추출적 요약 : Karti has been accused of taking money to get a foreign investment clearance for INX Media during his father's tenure.\n",
      "\n",
      "\n",
      "원문 : Shares of HDFC Bank, India's second-largest private sector lender, on Friday rose by over 2%, adding Ã¢ÂÂ¹8,918 crore to its market valuation. During the day, shares rose by 2.6% to hit a 52-week high. The surge came after the lender reported an 18.2% growth in net profit for the quarter ended March.\n",
      "실제 요약 : HDFC Bank gains Ã¢ÂÂ¹8,900 crore in a day after strong earnings\n",
      "추출적 요약 : Shares of HDFC Bank, India's second-largest private sector lender, on Friday rose by over 2%, adding Ã¢ÂÂ¹8,918 crore to its market valuation.\n",
      "\n",
      "\n",
      "원문 : A video of a mother removing black jacket of her three-year-old child on orders of security personnel before entering an event addressed by CM Sarbananda Sonowal in Assam has surfaced online. A policeman said they had been asked to not allow anyone to carry black items inside the venue. A probe has been ordered into the incident by CM Sonowal.\n",
      "실제 요약 : 3-yr-old's black jacket removed for Assam CM's event, probe ordered\n",
      "추출적 요약 : A video of a mother removing black jacket of her three-year-old child on orders of security personnel before entering an event addressed by CM Sarbananda Sonowal in Assam has surfaced online.\n",
      "\n",
      "\n",
      "원문 : The Delhi government has asked the Deputy Directors of Education to constitute a three-member committee in every district to keep a check on the increase in fees by private schools. The decision comes after Delhi High Court last month asked the government to constitute the panels before December 5. The complaints of the parents will be registered by the committees.\n",
      "실제 요약 : Delhi to set up panels to check private schools' fee hike\n",
      "추출적 요약 : The Delhi government has asked the Deputy Directors of Education to constitute a three-member committee in every district to keep a check on the increase in fees by private schools.\n",
      "\n",
      "\n",
      "원문 : The Hyderabad Police on Friday arrested two men for allegedly duping 2,000 people of Ã¢ÂÂ¹9 crore on the pretext of holiday packages, club memberships, and plots of land. The two were the managing directors of a company. The police also seized the company's register books, plot allotment documents, rubber stamps, silver coin gift packs, and cash worth Ã¢ÂÂ¹8.15 lakh.\n",
      "실제 요약 : 2 held for cheating 2,000 people of Ã¢ÂÂ¹9 crore in Hyderabad\n",
      "추출적 요약 : The police also seized the company's register books, plot allotment documents, rubber stamps, silver coin gift packs, and cash worth Ã¢ÂÂ¹8.15 lakh.\n",
      "\n",
      "\n",
      "원문 : Goa Police on Monday said it has invented a technology in association with a Bengaluru-based startup IIO Technologies to detect unauthorised drones. The Drone Detection System technology helps track down unauthorized drones within a range of five kilometres. \"This Drone can be used to monitor crowd movements, any suspicious movements within crowd...vehicular traffic movements,\" Goa Police said.\n",
      "실제 요약 : Goa Police, B'luru startup build tech to spot illegal drones\n",
      "추출적 요약 : Goa Police on Monday said it has invented a technology in association with a Bengaluru-based startup IIO Technologies to detect unauthorised drones.\n",
      "\n",
      "\n",
      "원문 : A woman and her twins were found dead in a well in the Udaipur district of Rajasthan on Wednesday, the police said. The 23-year-old woman and her two-year-old twin sons had been missing since Tuesday. Their bodies were taken out with the help of villagers and sent for postmortem. \n",
      "실제 요약 : Rajasthan woman found dead in well with 2-year-old twin sons\n",
      "추출적 요약 : A woman and her twins were found dead in a well in the Udaipur district of Rajasthan on Wednesday, the police said.\n",
      "\n",
      "\n",
      "원문 : Windies' cricketer Chris Gayle became the first batsman to hit 100 sixes in T20I cricket on Saturday. Gayle achieved the feat in his 49th T20I innings during the one-off T20I against England at Chester-le-Street. The 37-year-old West Indian has hit 439 sixes in international cricket and is only behind former Pakistani all-rounder Shahid Afridi, who has hit 476 sixes.\n",
      "실제 요약 : Chris Gayle becomes first batsman to hit 100 sixes in T20Is\n",
      "추출적 요약 : Windies' cricketer Chris Gayle became the first batsman to hit 100 sixes in T20I cricket on Saturday.\n",
      "\n",
      "\n",
      "원문 : Social media giant Facebook has started testing a 'Greetings' feature for users to send a wink, high-five, hug and a wave. The feature, which is an extended version of the 'Poke' feature, is available under the 'Hello' button on a user's profile. The feature also has an undo button in case a greeting is sent accidentally. \n",
      "실제 요약 : Facebook tests feature for users to send wink, high-five\n",
      "추출적 요약 : The feature also has an undo button in case a greeting is sent accidentally.\n",
      "\n",
      "\n",
      "원문 : After Madhya Pradesh Chief Minister Shivraj Singh Chouhan said that Congress leader Digvijaya Singh's actions are anti-national, Digvijaya has said he would appear before police and they could arrest him if he's anti-national. \"I have taken the oath to follow Constitution. So I have decided to present myself before the law...Meanwhile, submit the evidence of my being anti-national,\" he said.\n",
      "실제 요약 : Arrest me if I am anti-national: Digvijaya Singh to MP CM\n",
      "추출적 요약 : After Madhya Pradesh Chief Minister Shivraj Singh Chouhan said that Congress leader Digvijaya Singh's actions are anti-national, Digvijaya has said he would appear before police and they could arrest him if he's anti-national.\n",
      "\n",
      "\n"
     ]
    }
   ],
   "source": [
    "for idx in range(0, 50):\n",
    "    head = result_summarize_data['headlines'].iloc[idx]\n",
    "    text = result_summarize_data['text'].iloc[idx]\n",
    "    extractive_summary = summarize(text, ratio=0.40)\n",
    "    extractive_summaries.append(extractive_summary)\n",
    "    print(\"원문 :\", text)\n",
    "    print(\"실제 요약 :\", head)\n",
    "    print(\"추출적 요약 :\", extractive_summary)\n",
    "    print(\"\\n\")\n",
    "    "
   ]
  },
  {
   "cell_type": "code",
   "execution_count": 247,
   "id": "ea0594d4",
   "metadata": {},
   "outputs": [
    {
     "name": "stdout",
     "output_type": "stream",
     "text": [
      "원문 : berkshire hathaway chairman warren buffett said company continue prosper even gone buffett said berkshire success due celebrity status due good business sense comes identifying business opportunities think hang answer need money buffett added \n",
      "실제 요약 : berkshire will continue to UNK after am gone buffett\n",
      "추출적 요약 : \n",
      "\n",
      "\n",
      "원문 : poland UNK retirement age men women UNK previous reform gradually raising UNK retirement age country deputy prime minister UNK UNK defended government move saying women right retire earlier responsibilities including raising children \n",
      "실제 요약 : poland to bring back different retirement age for men women\n",
      "추출적 요약 : \n",
      "\n",
      "\n",
      "원문 : journalist blogger abhijit iyer mitra arrested alleged derogatory remarks odisha UNK sun temple granted bail pointing sculptures temple complex video uploaded september mitra said holy place later tweeted jokes aside temple mind blowing \n",
      "실제 요약 : journo held for derogatory remarks on UNK temple gets bail\n",
      "추출적 요약 : \n",
      "\n",
      "\n",
      "원문 : indian researchers created artificial intelligence tool find people videos using description including clothing height gender used deep learning train ai recognise human features called soft biometrics using computer vision ai without facial recognition technology correctly identified persons soft biometric UNK \n",
      "실제 요약 : indian team ai finds people in videos via clothes height\n",
      "추출적 요약 : \n",
      "\n",
      "\n",
      "원문 : patna high court monday rejected two public interest UNK challenging formation new jd bjp government bihar court said intervention required new alliance floor test state assembly petitions called new government unconstitutional people mandate assembly elections grand alliance \n",
      "실제 요약 : patna hc rejects UNK against nitish kumar new govt\n",
      "추출적 요약 : \n",
      "\n",
      "\n",
      "원문 : videocon group chairman venugopal dhoot allegedly gave crore nupower renewables set icici bank ceo chanda kochhar husband deepak kochhar however dhoot transferred company UNK deepak owned trust lakh got crore loan icici bank loan part crore dhoot took banks \n",
      "실제 요약 : what is icici videocon row linking chanda kochhar husband\n",
      "추출적 요약 : \n",
      "\n",
      "\n",
      "원문 : amid controversy picture pakistan founder muhammad ali jinnah inside amu haryana finance minister captain abhimanyu said university renamed jat king raja mahendra pratap singh minister claimed singh donated land university without UNK objective education irrespective religion \n",
      "실제 요약 : rename amu after jat king raja UNK haryana finance min\n",
      "추출적 요약 : \n",
      "\n",
      "\n",
      "원문 : per broadcast audience research council report ipl saw viewership increase last year viewership touched billion impressions matches compared billion impressions recorded matches last year impressions refer number individuals thousands viewed event averaged across minutes \n",
      "실제 요약 : ipl UNK increased by over in report\n",
      "추출적 요약 : \n",
      "\n",
      "\n",
      "원문 : russian club UNK moscow sacked year old defender UNK UNK UNK russian citizen UNK descent fans protested want black player lack may one club colours want whites fan said club however said UNK contract black due financial reasons \n",
      "실제 요약 : russian club sacks defender as fans did not want black player\n",
      "추출적 요약 : \n",
      "\n",
      "\n",
      "원문 : around wild animals including leopards UNK reportedly died past ten years falling uncovered wells maharashtra officials said animals risk falling uncovered wells move forests search food water construction safety walls around wells made mandatory added \n",
      "실제 요약 : animals died in yrs in maha from falling into wells\n",
      "추출적 요약 : \n",
      "\n",
      "\n",
      "원문 : new zealand colin munro smashed unbeaten india second saturday becoming first batsman smash two hundreds calendar year munro hit maiden ton january also became fourth batsman slam two tons joining compatriot brendon mccullum windies chris gayle UNK lewis \n",
      "실제 요약 : nz UNK becomes st batsman to hit tons in year\n",
      "추출적 요약 : \n",
      "\n",
      "\n",
      "원문 : qatar purchase seven navy vessels italy defence deal worth almost billion country foreign ministry announced comes italy announced billion agreement last year build UNK warships support vessels qatar two countries also signed agreements aimed increasing political consultations joint economic investments \n",
      "실제 요약 : qatar seals billion deal to buy navy UNK from italy\n",
      "추출적 요약 : \n",
      "\n",
      "\n",
      "원문 : trains cancelled saturday several commuters protested cancellation vasai andheri local staging rail roko UNK station near mumbai claiming informed western railway issued new UNK october commuters demanded weekend services coach local restored \n",
      "실제 요약 : commuters protest against cancellation of train near mumbai\n",
      "추출적 요약 : \n",
      "\n",
      "\n",
      "원문 : waymo wednesday launched self driving taxi service called waymo one arizona us paying customers within km zone testing technology since human driver would currently intervene case emergency service currently available riders signed platform last year \n",
      "실제 요약 : waymo debuts self driving taxis in us for paying customers\n",
      "추출적 요약 : \n",
      "\n",
      "\n",
      "원문 : dalai lama said recently country would divided india pakistan muhammad ali jinnah made prime minister instead jawaharlal nehru mahatma gandhi wanted give prime UNK jinnah nehru refused self centred said adding pandit nehru experienced mistakes happen \n",
      "실제 요약 : india pak would have been united if jinnah was pm dalai lama\n",
      "추출적 요약 : \n",
      "\n",
      "\n",
      "원문 : year old kenyan woman allegedly gangraped offered lift three men wednesday night haryana gurugram woman gone party waiting cab men offered lift following raped joined two accomplices three accused arrested \n",
      "실제 요약 : kenyan woman offered lift gangraped by in haryana\n",
      "추출적 요약 : \n",
      "\n",
      "\n",
      "원문 : notification jee stated besides hindi english students gujarat daman UNK UNK nagar haveli also opt gujarati medium question papers however earlier students option take exam marathi urdu well hindi english gujarati \n",
      "실제 요약 : gujarati only regional language allowed in jee\n",
      "추출적 요약 : \n",
      "\n",
      "\n",
      "원문 : remote tribal village maharashtra UNK got electricity years independence around homes village population nearly electricity reports said difficult electricity children could study turned dark one villagers said \n",
      "실제 요약 : maha village gets electricity years after independence\n",
      "추출적 요약 : \n",
      "\n",
      "\n",
      "원문 : according reports alia bhatt sidharth malhotra star upcoming film sadak see pooja bhatt sanjay dutt UNK roles film sadak source said earlier speculations sidharth alia mohit suri aashiqui film put hold \n",
      "실제 요약 : alia sidharth to star with pooja sanjay in UNK report\n",
      "추출적 요약 : \n",
      "\n",
      "\n",
      "원문 : former rashtriya janata dal mp mohammad shahabuddin acquitted jamshedpur court triple murder case took place february notably three eight accused died trial shahabuddin linked criminal cases currently lodged delhi high security tihar jail \n",
      "실제 요약 : rjd leader shahabuddin acquitted in triple murder case\n",
      "추출적 요약 : \n",
      "\n",
      "\n",
      "원문 : picture team india head coach ravi shastri lookalike mumbai local gone viral social media users turned picture meme one writing ravi shastri looking like gupta uncle lives next door works bank reaction shastri match day virat kohli playing wrote another user \n",
      "실제 요약 : ravi shastri lookalike boards mumbai local picture goes viral\n",
      "추출적 요약 : \n",
      "\n",
      "\n",
      "원문 : us actress meghan markle made official appearance alongside fianc prince harry elder brother william wife kate wednesday first time britain royal UNK four took part public engagement markle marry prince harry may year couple marked first joint royal visit december last year \n",
      "실제 요약 : meghan markle attends st event as part of uk royal UNK four\n",
      "추출적 요약 : \n",
      "\n",
      "\n",
      "원문 : former australian pacer glenn mcgrath gave advice age group cricketers haryana revealing helped haryana cricketers action mcgrath talked players wishing play indian premier league saying want go back ipl next year yes work hard rest months \n",
      "실제 요약 : ex aus pacer mcgrath shares knowledge with haryana cricketers\n",
      "추출적 요약 : \n",
      "\n",
      "\n",
      "원문 : akshay kumar took twitter share fan rap video upcoming film toilet ek prem katha praised video fan named abhishek bhatt wrote made video thank mr UNK always inspiring us film plot aligned principles pm narendra modi swachh bharat abhiyaan \n",
      "실제 요약 : akshay praises fan rap video on toilet ek prem katha\n",
      "추출적 요약 : \n",
      "\n",
      "\n",
      "원문 : japanese UNK company holding contest offer couple night lord lady UNK castle UNK city nagasaki UNK around student volunteers dressed full armour greet winning couple city officials dressed UNK guard UNK accurate dinner made local ingredients served \n",
      "실제 요약 : japanese castle to host guests as lord and lady for night\n",
      "추출적 요약 : \n",
      "\n",
      "\n",
      "원문 : sridevi th film mom released friday film every indian woman able relate wrote koimoi nawazuddin siddiqui steals sridevi thunder revenge drama wrote hindustan times times india said strength sridevi character victory script lies rated \n",
      "실제 요약 : sridevi th film mom hits the theatres\n",
      "추출적 요약 : \n",
      "\n",
      "\n",
      "원문 : researchers university southern california developed algorithm analyses twitter posts predict protests turn violent first analysed million tweets posted black lives matter protests found volume tweets increased days violent protests performed controlled behavioural experiments found similar UNK \n",
      "실제 요약 : ai predicts when protest will turn violent based on tweets\n",
      "추출적 요약 : \n",
      "\n",
      "\n",
      "원문 : aid agency UNK UNK UNK UNK said women raped unknown gunmen days violence african nation south sudan victims also reported whipped beaten UNK sticks rifle UNK town UNK pregnant elderly women girls aged among targeted \n",
      "실제 요약 : women raped beaten and UNK in south sudan UNK\n",
      "추출적 요약 : \n",
      "\n",
      "\n",
      "원문 : british singer george michael buried london wednesday private funeral three months death christmas last year former partner kenny UNK UNK UNK andrew UNK among attendees funeral george boyfriend UNK UNK reportedly unaware funeral attended informed media person \n",
      "실제 요약 : singer george michael buried in london months after death\n",
      "추출적 요약 : \n",
      "\n",
      "\n",
      "원문 : supreme court thursday said law provide woman religion merge husband inter religious marriage court hearing woman plea challenging gujarat hc order parsi woman marrying hindu would lose religious rights parsi community including visiting tower silence funeral rites \n",
      "실제 요약 : no law on woman changing religion after marriage sc\n",
      "추출적 요약 : \n",
      "\n",
      "\n",
      "원문 : madhya pradesh bjp mla gopal parmar said instances love jihad take place people get married right time added earlier times mentality people remained clean would get married childhood said girls started UNK government raised minimum age marriage years \n",
      "실제 요약 : love jihad happens as people marry late bjp mla\n",
      "추출적 요약 : \n",
      "\n",
      "\n",
      "원문 : asked reporter boxing mid UNK cwg gold medallist boxer mary kom said said age factor come show know body allow carry olympic gold still dreaming added kom bronze olympics \n",
      "실제 요약 : come will show what can do mary kom on age question\n",
      "추출적 요약 : \n",
      "\n",
      "\n",
      "원문 : singapore planning test UNK equipped facial recognition cameras allow government perform crowd analytics support anti terror operations UNK singapore government agency charge project given companies may register providing technology network UNK platform pilot project scheduled begin next year \n",
      "실제 요약 : singapore plans to test facial recognition tech on UNK\n",
      "추출적 요약 : \n",
      "\n",
      "\n",
      "원문 : csk captain ms dhoni scared rounder ravindra jadeja pretending throw ball fielding srh sunday incident happened seventh dhoni ran towards short mid wicket field ball dhoni picked ball executed dummy throw jadeja come running deep mid wicket \n",
      "실제 요약 : ms dhoni scares jadeja by pretending to throw ball at him\n",
      "추출적 요약 : \n",
      "\n",
      "\n",
      "원문 : us president donald trump retweeted meme UNK former president barack obama user wrote anymore obsessed UNK obama never level users wrote great thing eclipse last long UNK rare orange man gone soon \n",
      "실제 요약 : twitter reacts to trump anti obama eclipse UNK\n",
      "추출적 요약 : \n",
      "\n",
      "\n",
      "원문 : head amazon web services including cloud services andrew UNK earned amazon founder ceo jeff bezos last year UNK received million stock salary bezos received usual annual salary million security services bezos currently world second richest person billion fortune \n",
      "실제 요약 : amazon employee out earned founder jeff bezos last year\n",
      "추출적 요약 : \n",
      "\n",
      "\n",
      "원문 : bjp yuva morcha organise kabaddi tournaments karnataka part centenary celebrations party ideologue deendayal upadhyaya tournaments see participation teams assembly constituency hope event help impress huge gatherings turn kabaddi matches bjp ideology policies said organiser \n",
      "실제 요약 : bjp to UNK karnataka voters with kabaddi UNK\n",
      "추출적 요약 : \n",
      "\n",
      "\n",
      "원문 : actress shruti haasan asked rumours getting lip job done said face body nobody business shruti said get bothered people write social media adding UNK anyone \n",
      "실제 요약 : what do with my face body is nobody business shruti\n",
      "추출적 요약 : \n",
      "\n",
      "\n",
      "원문 : health ministry ordered thorough inquiry bodies donated dera sacha sauda lucknow based medical college research allegedly without death certificates college said receive requisite death certificates adding acquired signed affidavits regarding donations kin deceased \n",
      "실제 요약 : probe ordered into dera donation of bodies for research\n",
      "추출적 요약 : \n",
      "\n",
      "\n",
      "원문 : rjd candidate kumar krishna mohan wednesday bypolls bihar assembly constituency UNK rjd candidate sarfaraz alam lok sabha constituency UNK bjp candidate UNK rani pandey state assembly UNK seat election commission recorded voter turnout three constituencies \n",
      "실제 요약 : rjd wins UNK UNK bjp bags UNK in bihar bypolls\n",
      "추출적 요약 : \n",
      "\n",
      "\n",
      "원문 : four children UNK khan lynched mob alwar suspicion cow smuggler provided free education madrasa run ex vice president hamid ansari wife salma reportedly school steps foundation take care tuition hostel fees children \n",
      "실제 요약 : alwar lynching victim kids to get free education in madrasa\n",
      "추출적 요약 : \n",
      "\n",
      "\n",
      "원문 : us president donald trump saturday explained deployment terminal high altitude area defence system south korea china president xi jinping trump also discussed seriousness north korea nuclear problem respond notably china opposed deployment us supplied UNK south korea arguing could threaten security \n",
      "실제 요약 : trump explains us position on thaad to china\n",
      "추출적 요약 : \n",
      "\n",
      "\n",
      "원문 : rape allegations levelled portugal footballer cristiano ronaldo led fall price shares new club juventus accusations levelled former real madrid player sports firm nike expressed deep concern matter stated closely monitoring situation \n",
      "실제 요약 : juventus shares fall after rape allegations against ronaldo\n",
      "추출적 요약 : \n",
      "\n",
      "\n",
      "원문 : former us army intelligence analyst chelsea manning released military prison kansas wednesday took twitter share picture world okay everyone manning captioned picture manning sentenced years prison sharing lakh classified documents wikileaks \n",
      "실제 요약 : chelsea manning shares photo after release from prison\n",
      "추출적 요약 : \n",
      "\n",
      "\n",
      "원문 : punjab chief minister amarinder singh wednesday said farmers cannot expected give stubble burning completely provided viable solutions adding matter farmers livelihood survival said state government engaged spreading awareness among farmers need stop burning stubble \n",
      "실제 요약 : farmers cannot give up stubble burning completely punjab cm\n",
      "추출적 요약 : \n",
      "\n",
      "\n",
      "원문 : murder accused shot sitting inside police van gate number delhi UNK UNK court tuesday reportedly shooter minor belonged rival gang man admitted hospital shooter taken custody police \n",
      "실제 요약 : murder accused shot at outside delhi UNK UNK court\n",
      "추출적 요약 : \n",
      "\n",
      "\n",
      "원문 : india second largest telecom operator bharti airtel reportedly talks regarding potential takeover UNK kenya east african nation smallest operator london based UNK investment looking sell part stake UNK acquired reports added notably airtel kenya second biggest telecom operator \n",
      "실제 요약 : bharti airtel in talks to buy UNK kenya reports\n",
      "추출적 요약 : \n",
      "\n",
      "\n",
      "원문 : election commission wednesday blocked usage aiadmk name twin leaves poll symbol claimed faction led panneerselvam ex tamil nadu cm UNK allegedly asked step aiadmk chief sasikala natarajan ec also asked factions choose different symbols upcoming polls \n",
      "실제 요약 : ec freezes aiadmk poll symbol after UNK claim\n",
      "추출적 요약 : \n",
      "\n",
      "\n",
      "원문 : man allegedly raped eight year old girl recently public park delhi UNK market UNK daughter playing nearby reportedly witnessed crime accused works cleaner public toilet UNK lives two daughters arrested booked pocso act \n",
      "실제 요약 : man rapes yr old in park in front of his teenage daughter\n",
      "추출적 요약 : \n",
      "\n",
      "\n",
      "원문 : real madrid wait till start next season get hands spanish la liga trophy despite winning league title final UNK atl tico madrid also wait three months presented la liga trophy winning la liga title \n",
      "실제 요약 : when will real madrid be presented with the la liga trophy\n",
      "추출적 요약 : \n",
      "\n",
      "\n"
     ]
    }
   ],
   "source": [
    "# for idx in range(0, 50):\n",
    "#     head = seq2summary(decoder_input_test[idx])\n",
    "#     text = seq2text(encoder_input_test[idx])\n",
    "#     extractive_summary = summarize(text, ratio=0.40)\n",
    "#     extractive_summaries.append(extractive_summary)\n",
    "#     print(\"원문 :\", text)\n",
    "#     print(\"실제 요약 :\", head)\n",
    "#     print(\"추출적 요약 :\", extractive_summary)\n",
    "#     print(\"\\n\")"
   ]
  },
  {
   "cell_type": "markdown",
   "id": "185c0e9e",
   "metadata": {},
   "source": [
    "- 위에서 seq2text(encoder_input_test[idx]) 로 된 text 를 summarize 에 넣으면 추출적 요약이 나오지 않는다 왜 일까?? 이 부분도 디버깅이 필요하다.."
   ]
  },
  {
   "cell_type": "markdown",
   "id": "92be3c50",
   "metadata": {},
   "source": [
    "### 추출적 요약과 추상적 요약을 비교하는 표 생성"
   ]
  },
  {
   "cell_type": "code",
   "execution_count": 256,
   "id": "c52e6465",
   "metadata": {},
   "outputs": [],
   "source": [
    "comparison_data = {\n",
    "    '추상적 요약': [' '.join(summary) for summary in predicted_summaries],\n",
    "    '추출적 요약': extractive_summaries\n",
    "}"
   ]
  },
  {
   "cell_type": "code",
   "execution_count": 257,
   "id": "bee3dd36",
   "metadata": {},
   "outputs": [],
   "source": [
    "comparison_df = pd.DataFrame(comparison_data)"
   ]
  },
  {
   "cell_type": "code",
   "execution_count": 258,
   "id": "4ab379a7",
   "metadata": {},
   "outputs": [
    {
     "data": {
      "text/html": [
       "<div>\n",
       "<style scoped>\n",
       "    .dataframe tbody tr th:only-of-type {\n",
       "        vertical-align: middle;\n",
       "    }\n",
       "\n",
       "    .dataframe tbody tr th {\n",
       "        vertical-align: top;\n",
       "    }\n",
       "\n",
       "    .dataframe thead th {\n",
       "        text-align: right;\n",
       "    }\n",
       "</style>\n",
       "<table border=\"1\" class=\"dataframe\">\n",
       "  <thead>\n",
       "    <tr style=\"text-align: right;\">\n",
       "      <th></th>\n",
       "      <th>추상적 요약</th>\n",
       "      <th>추출적 요약</th>\n",
       "    </tr>\n",
       "  </thead>\n",
       "  <tbody>\n",
       "    <tr>\n",
       "      <th>0</th>\n",
       "      <td>buffett should be UNK by any UNK says buffett</td>\n",
       "      <td></td>\n",
       "    </tr>\n",
       "    <tr>\n",
       "      <th>1</th>\n",
       "      <td>UNK UNK UNK UNK UNK to be UNK</td>\n",
       "      <td>The Delhi High Court had passed interim orders...</td>\n",
       "    </tr>\n",
       "    <tr>\n",
       "      <th>2</th>\n",
       "      <td>UNK UNK arrested for UNK UNK in bihar</td>\n",
       "      <td>Samsung on Monday announced it has promoted th...</td>\n",
       "    </tr>\n",
       "    <tr>\n",
       "      <th>3</th>\n",
       "      <td>ai based ai uses users to detect UNK UNK</td>\n",
       "      <td>The Edgbaston Fans Trophy saw teams of Indian ...</td>\n",
       "    </tr>\n",
       "    <tr>\n",
       "      <th>4</th>\n",
       "      <td>hc allows us to end floor of consider seats re...</td>\n",
       "      <td>Uttar Pradesh CM Yogi Adityanath has said a th...</td>\n",
       "    </tr>\n",
       "    <tr>\n",
       "      <th>5</th>\n",
       "      <td>icici bank chief chanda kochhar to be sold for...</td>\n",
       "      <td>Tamil Nadu-based incubator will be investing Ã...</td>\n",
       "    </tr>\n",
       "    <tr>\n",
       "      <th>6</th>\n",
       "      <td>pak minister UNK UNK UNK at UNK temple</td>\n",
       "      <td>Axis Bank on Tuesday said it has recommended t...</td>\n",
       "    </tr>\n",
       "    <tr>\n",
       "      <th>7</th>\n",
       "      <td>india share second highest ever rating since U...</td>\n",
       "      <td>Cumberbatch further revealed he loved playing ...</td>\n",
       "    </tr>\n",
       "    <tr>\n",
       "      <th>8</th>\n",
       "      <td>russian football player sues UNK for UNK</td>\n",
       "      <td></td>\n",
       "    </tr>\n",
       "    <tr>\n",
       "      <th>9</th>\n",
       "      <td>people die after UNK UNK in maharashtra</td>\n",
       "      <td>Brazilian forward Neymar Jr copied former Real...</td>\n",
       "    </tr>\n",
       "    <tr>\n",
       "      <th>10</th>\n",
       "      <td>nz batsman UNK to run off balls in one test</td>\n",
       "      <td>Facebook has announced it will confirm the ide...</td>\n",
       "    </tr>\n",
       "    <tr>\n",
       "      <th>11</th>\n",
       "      <td>qatar to buy oil imports worth billion from UN...</td>\n",
       "      <td>A US court has passed an interim order prevent...</td>\n",
       "    </tr>\n",
       "    <tr>\n",
       "      <th>12</th>\n",
       "      <td>UNK UNK UNK at railway station in mumbai</td>\n",
       "      <td>The Delhi government is formulating a short-te...</td>\n",
       "    </tr>\n",
       "    <tr>\n",
       "      <th>13</th>\n",
       "      <td>us self driving tests driverless driverless ta...</td>\n",
       "      <td></td>\n",
       "    </tr>\n",
       "    <tr>\n",
       "      <th>14</th>\n",
       "      <td>jinnah should be UNK pakistan pm imran khan</td>\n",
       "      <td></td>\n",
       "    </tr>\n",
       "    <tr>\n",
       "      <th>15</th>\n",
       "      <td>year old woman gangraped by men in uttar pradesh</td>\n",
       "      <td>The person further claimed, \"I'm a good Muslim.</td>\n",
       "    </tr>\n",
       "    <tr>\n",
       "      <th>16</th>\n",
       "      <td>UNK exam results to be declared at half UNK</td>\n",
       "      <td>\"There is no favourite college in DU and I am ...</td>\n",
       "    </tr>\n",
       "    <tr>\n",
       "      <th>17</th>\n",
       "      <td>village UNK village in UNK village</td>\n",
       "      <td>At least 2 people lost their lives during thre...</td>\n",
       "    </tr>\n",
       "    <tr>\n",
       "      <th>18</th>\n",
       "      <td>alia bhatt to star in UNK UNK reports</td>\n",
       "      <td>The National Highways Authority of India (NHAI...</td>\n",
       "    </tr>\n",
       "    <tr>\n",
       "      <th>19</th>\n",
       "      <td>ex mp accused of killing rss in mp murder case</td>\n",
       "      <td></td>\n",
       "    </tr>\n",
       "    <tr>\n",
       "      <th>20</th>\n",
       "      <td>ravi shastri posts picture with ravi shastri i...</td>\n",
       "      <td></td>\n",
       "    </tr>\n",
       "    <tr>\n",
       "      <th>21</th>\n",
       "      <td>prince harry meghan markle wedding with royal ...</td>\n",
       "      <td>BT has been removing Huawei equipment from its...</td>\n",
       "    </tr>\n",
       "    <tr>\n",
       "      <th>22</th>\n",
       "      <td>UNK UNK UNK UNK to be given from aus</td>\n",
       "      <td>For the first time since 1998, each of Sri Lan...</td>\n",
       "    </tr>\n",
       "    <tr>\n",
       "      <th>23</th>\n",
       "      <td>akshay shares video of akshay fan dancing with...</td>\n",
       "      <td></td>\n",
       "    </tr>\n",
       "    <tr>\n",
       "      <th>24</th>\n",
       "      <td>japan offers to marry its wife for having UNK ...</td>\n",
       "      <td>Similar packages were also delivered at consul...</td>\n",
       "    </tr>\n",
       "    <tr>\n",
       "      <th>25</th>\n",
       "      <td>sridevi sridevi hits the first ever film sridevi</td>\n",
       "      <td>The sale price for a new three-storey penthous...</td>\n",
       "    </tr>\n",
       "    <tr>\n",
       "      <th>26</th>\n",
       "      <td>ai can detect UNK videos in photos videos deve...</td>\n",
       "      <td>Chinese President Xi Jinping has said that the...</td>\n",
       "    </tr>\n",
       "    <tr>\n",
       "      <th>27</th>\n",
       "      <td>UNK raped in UNK in nigeria</td>\n",
       "      <td>However, the Pentagon later deleted the post, ...</td>\n",
       "    </tr>\n",
       "    <tr>\n",
       "      <th>28</th>\n",
       "      <td>rapper UNK UNK sentenced to death at UNK</td>\n",
       "      <td>Indian captain Virat Kohli earns Ã¢ÂÂ¹3.2 cro...</td>\n",
       "    </tr>\n",
       "    <tr>\n",
       "      <th>29</th>\n",
       "      <td>sc asks muslim woman to give triple talaq to wife</td>\n",
       "      <td>A newly married woman in Haryana's Kurukshetra...</td>\n",
       "    </tr>\n",
       "    <tr>\n",
       "      <th>30</th>\n",
       "      <td>marriage is not UNK to UNK mp mp sakshi UNK</td>\n",
       "      <td>The maze will increase the motorable distance ...</td>\n",
       "    </tr>\n",
       "    <tr>\n",
       "      <th>31</th>\n",
       "      <td>games gold winning UNK mary kom on olympic gold</td>\n",
       "      <td>Since 2001, two distinct species have been rec...</td>\n",
       "    </tr>\n",
       "    <tr>\n",
       "      <th>32</th>\n",
       "      <td>china to deploy facial recognition to monitor ...</td>\n",
       "      <td>A BSF jawan, alleged to have been honey-trappe...</td>\n",
       "    </tr>\n",
       "    <tr>\n",
       "      <th>33</th>\n",
       "      <td>video dhoni takes one handed catch to dismiss ...</td>\n",
       "      <td>Daniel Salvame, an 11-year-old Philippines boy...</td>\n",
       "    </tr>\n",
       "    <tr>\n",
       "      <th>34</th>\n",
       "      <td>twitter reacts to trump UNK of UNK UNK</td>\n",
       "      <td>The driver of the bus, whose conductor is accu...</td>\n",
       "    </tr>\n",
       "    <tr>\n",
       "      <th>35</th>\n",
       "      <td>amazon UNK market value as amazon as ceo in</td>\n",
       "      <td>A 32-year-old man accused of raping and impreg...</td>\n",
       "    </tr>\n",
       "    <tr>\n",
       "      <th>36</th>\n",
       "      <td>bjp leader UNK UNK to be opened in parliament</td>\n",
       "      <td>Bollywood Hungama wrote, \"The film not only en...</td>\n",
       "    </tr>\n",
       "    <tr>\n",
       "      <th>37</th>\n",
       "      <td>am not getting personal UNK to speak up to tan...</td>\n",
       "      <td>American singer Katy Perry compared her old bl...</td>\n",
       "    </tr>\n",
       "    <tr>\n",
       "      <th>38</th>\n",
       "      <td>govt UNK UNK of UNK UNK over UNK</td>\n",
       "      <td>Afghanistan leg-spinner Rashid Khan took to Tw...</td>\n",
       "    </tr>\n",
       "    <tr>\n",
       "      <th>39</th>\n",
       "      <td>rjd wins up cm nitish kumar in rajasthan</td>\n",
       "      <td>Punjab National Bank (PNB) Maestro debit card ...</td>\n",
       "    </tr>\n",
       "    <tr>\n",
       "      <th>40</th>\n",
       "      <td>muslim youth attacked by mob in UNK for jharkhand</td>\n",
       "      <td>Karti has been accused of taking money to get ...</td>\n",
       "    </tr>\n",
       "    <tr>\n",
       "      <th>41</th>\n",
       "      <td>trump to develop new korea to monitor trump ki...</td>\n",
       "      <td>Shares of HDFC Bank, India's second-largest pr...</td>\n",
       "    </tr>\n",
       "    <tr>\n",
       "      <th>42</th>\n",
       "      <td>neymar loses over UNK in UNK at instagram</td>\n",
       "      <td>A video of a mother removing black jacket of h...</td>\n",
       "    </tr>\n",
       "    <tr>\n",
       "      <th>43</th>\n",
       "      <td>us president UNK UNK manning over leaking war</td>\n",
       "      <td>The Delhi government has asked the Deputy Dire...</td>\n",
       "    </tr>\n",
       "    <tr>\n",
       "      <th>44</th>\n",
       "      <td>stubble burning stubble stubble stubble stubbl...</td>\n",
       "      <td>The police also seized the company's register ...</td>\n",
       "    </tr>\n",
       "    <tr>\n",
       "      <th>45</th>\n",
       "      <td>journalist shot dead in delhi court</td>\n",
       "      <td>Goa Police on Monday said it has invented a te...</td>\n",
       "    </tr>\n",
       "    <tr>\n",
       "      <th>46</th>\n",
       "      <td>airtel to acquire airtel UNK for billion</td>\n",
       "      <td>A woman and her twins were found dead in a wel...</td>\n",
       "    </tr>\n",
       "    <tr>\n",
       "      <th>47</th>\n",
       "      <td>ec bans ec UNK evm code for evm tampering</td>\n",
       "      <td>Windies' cricketer Chris Gayle became the firs...</td>\n",
       "    </tr>\n",
       "    <tr>\n",
       "      <th>48</th>\n",
       "      <td>year old man raped by year old in mumbai</td>\n",
       "      <td>The feature also has an undo button in case a ...</td>\n",
       "    </tr>\n",
       "    <tr>\n",
       "      <th>49</th>\n",
       "      <td>real madrid bar ends as la liga for first time</td>\n",
       "      <td>After Madhya Pradesh Chief Minister Shivraj Si...</td>\n",
       "    </tr>\n",
       "  </tbody>\n",
       "</table>\n",
       "</div>"
      ],
      "text/plain": [
       "                                               추상적 요약  \\\n",
       "0       buffett should be UNK by any UNK says buffett   \n",
       "1                       UNK UNK UNK UNK UNK to be UNK   \n",
       "2               UNK UNK arrested for UNK UNK in bihar   \n",
       "3            ai based ai uses users to detect UNK UNK   \n",
       "4   hc allows us to end floor of consider seats re...   \n",
       "5   icici bank chief chanda kochhar to be sold for...   \n",
       "6              pak minister UNK UNK UNK at UNK temple   \n",
       "7   india share second highest ever rating since U...   \n",
       "8            russian football player sues UNK for UNK   \n",
       "9             people die after UNK UNK in maharashtra   \n",
       "10        nz batsman UNK to run off balls in one test   \n",
       "11  qatar to buy oil imports worth billion from UN...   \n",
       "12           UNK UNK UNK at railway station in mumbai   \n",
       "13  us self driving tests driverless driverless ta...   \n",
       "14        jinnah should be UNK pakistan pm imran khan   \n",
       "15   year old woman gangraped by men in uttar pradesh   \n",
       "16        UNK exam results to be declared at half UNK   \n",
       "17                 village UNK village in UNK village   \n",
       "18              alia bhatt to star in UNK UNK reports   \n",
       "19     ex mp accused of killing rss in mp murder case   \n",
       "20  ravi shastri posts picture with ravi shastri i...   \n",
       "21  prince harry meghan markle wedding with royal ...   \n",
       "22               UNK UNK UNK UNK to be given from aus   \n",
       "23  akshay shares video of akshay fan dancing with...   \n",
       "24  japan offers to marry its wife for having UNK ...   \n",
       "25   sridevi sridevi hits the first ever film sridevi   \n",
       "26  ai can detect UNK videos in photos videos deve...   \n",
       "27                        UNK raped in UNK in nigeria   \n",
       "28           rapper UNK UNK sentenced to death at UNK   \n",
       "29  sc asks muslim woman to give triple talaq to wife   \n",
       "30        marriage is not UNK to UNK mp mp sakshi UNK   \n",
       "31    games gold winning UNK mary kom on olympic gold   \n",
       "32  china to deploy facial recognition to monitor ...   \n",
       "33  video dhoni takes one handed catch to dismiss ...   \n",
       "34             twitter reacts to trump UNK of UNK UNK   \n",
       "35        amazon UNK market value as amazon as ceo in   \n",
       "36      bjp leader UNK UNK to be opened in parliament   \n",
       "37  am not getting personal UNK to speak up to tan...   \n",
       "38                   govt UNK UNK of UNK UNK over UNK   \n",
       "39           rjd wins up cm nitish kumar in rajasthan   \n",
       "40  muslim youth attacked by mob in UNK for jharkhand   \n",
       "41  trump to develop new korea to monitor trump ki...   \n",
       "42          neymar loses over UNK in UNK at instagram   \n",
       "43      us president UNK UNK manning over leaking war   \n",
       "44  stubble burning stubble stubble stubble stubbl...   \n",
       "45                journalist shot dead in delhi court   \n",
       "46           airtel to acquire airtel UNK for billion   \n",
       "47          ec bans ec UNK evm code for evm tampering   \n",
       "48           year old man raped by year old in mumbai   \n",
       "49     real madrid bar ends as la liga for first time   \n",
       "\n",
       "                                               추출적 요약  \n",
       "0                                                      \n",
       "1   The Delhi High Court had passed interim orders...  \n",
       "2   Samsung on Monday announced it has promoted th...  \n",
       "3   The Edgbaston Fans Trophy saw teams of Indian ...  \n",
       "4   Uttar Pradesh CM Yogi Adityanath has said a th...  \n",
       "5   Tamil Nadu-based incubator will be investing Ã...  \n",
       "6   Axis Bank on Tuesday said it has recommended t...  \n",
       "7   Cumberbatch further revealed he loved playing ...  \n",
       "8                                                      \n",
       "9   Brazilian forward Neymar Jr copied former Real...  \n",
       "10  Facebook has announced it will confirm the ide...  \n",
       "11  A US court has passed an interim order prevent...  \n",
       "12  The Delhi government is formulating a short-te...  \n",
       "13                                                     \n",
       "14                                                     \n",
       "15    The person further claimed, \"I'm a good Muslim.  \n",
       "16  \"There is no favourite college in DU and I am ...  \n",
       "17  At least 2 people lost their lives during thre...  \n",
       "18  The National Highways Authority of India (NHAI...  \n",
       "19                                                     \n",
       "20                                                     \n",
       "21  BT has been removing Huawei equipment from its...  \n",
       "22  For the first time since 1998, each of Sri Lan...  \n",
       "23                                                     \n",
       "24  Similar packages were also delivered at consul...  \n",
       "25  The sale price for a new three-storey penthous...  \n",
       "26  Chinese President Xi Jinping has said that the...  \n",
       "27  However, the Pentagon later deleted the post, ...  \n",
       "28  Indian captain Virat Kohli earns Ã¢ÂÂ¹3.2 cro...  \n",
       "29  A newly married woman in Haryana's Kurukshetra...  \n",
       "30  The maze will increase the motorable distance ...  \n",
       "31  Since 2001, two distinct species have been rec...  \n",
       "32  A BSF jawan, alleged to have been honey-trappe...  \n",
       "33  Daniel Salvame, an 11-year-old Philippines boy...  \n",
       "34  The driver of the bus, whose conductor is accu...  \n",
       "35  A 32-year-old man accused of raping and impreg...  \n",
       "36  Bollywood Hungama wrote, \"The film not only en...  \n",
       "37  American singer Katy Perry compared her old bl...  \n",
       "38  Afghanistan leg-spinner Rashid Khan took to Tw...  \n",
       "39  Punjab National Bank (PNB) Maestro debit card ...  \n",
       "40  Karti has been accused of taking money to get ...  \n",
       "41  Shares of HDFC Bank, India's second-largest pr...  \n",
       "42  A video of a mother removing black jacket of h...  \n",
       "43  The Delhi government has asked the Deputy Dire...  \n",
       "44  The police also seized the company's register ...  \n",
       "45  Goa Police on Monday said it has invented a te...  \n",
       "46  A woman and her twins were found dead in a wel...  \n",
       "47  Windies' cricketer Chris Gayle became the firs...  \n",
       "48  The feature also has an undo button in case a ...  \n",
       "49  After Madhya Pradesh Chief Minister Shivraj Si...  "
      ]
     },
     "execution_count": 258,
     "metadata": {},
     "output_type": "execute_result"
    }
   ],
   "source": [
    "comparison_df"
   ]
  },
  {
   "cell_type": "markdown",
   "id": "a022d36a",
   "metadata": {},
   "source": [
    "- seq2text(encoder_input_test[idx]) 를 이용하면 Extractive 요약이 생성이 되지 않아 indices 을 이용해서 result_summarize_data 를 인덱싱 하였음\n",
    "- 하지만 Extractive 요약과 Abstractive 요약의 index 가 맞지 않는다;;;\n",
    "- 이 부분도 시간을 가지고 다시 디버깅 해봐야 할 거 같다"
   ]
  },
  {
   "cell_type": "markdown",
   "id": "abe06b9a",
   "metadata": {},
   "source": [
    "### 회고\n",
    "\n",
    "- 자연어 모델에 데이터를 넣기 까지 해야 할 일이 너무 많다\n",
    "- 튜토리얼 없이 처음 부터 끝까지 할 수 있을까?? 라는 의문이 생겼다.\n",
    "- 단어의 등장 빈도 수를 예제와 같이 7회 미만과 6회 미만으로 잡았는데 기준이 모호 했지만 통계 결과에서는 큰 문제가 없어 보였다.\n",
    "- Average BLEU Score for samples 50-100: 0.04884201194004173 \n",
    "- Perplexity on test data:  522.5047226909389\n",
    "- BLEU Score 와 Perplexity 점수가 좋지 않았는데 모델이 문제인지 전처리 과정이 잘 못되었는지 혹은 모델 테스트 과정이 잘 못되었는지 확인이 필요 해 보인다.\n",
    "- seq2seq with Attenstion 모델에 대해 자세하게 학습 할 수 있어서 좋았다.\n",
    "-  Extractive 요약과 Abstractive 요약 table 을 만들기 위한 함수를 만들었는데 두개 index 가 맞지 않는다 이 부분 디버깅이 필요하다."
   ]
  },
  {
   "attachments": {
    "image.png": {
     "image/png": "[encoded data removed]"
    }
   },
   "cell_type": "markdown",
   "id": "ce444460",
   "metadata": {},
   "source": [
    "루브릭  \n",
    "\n",
    "아래의 기준을 바탕으로 프로젝트를 평가합니다.\n",
    "\n",
    "---\n",
    "\n",
    "![image.png](attachment:image.png)"
   ]
  },
  {
   "cell_type": "code",
   "execution_count": null,
   "id": "350322b5",
   "metadata": {},
   "outputs": [],
   "source": []
  }
 ],
 "metadata": {
  "kernelspec": {
   "display_name": "Python 3 (ipykernel)",
   "language": "python",
   "name": "python3"
  },
  "language_info": {
   "codemirror_mode": {
    "name": "ipython",
    "version": 3
   },
   "file_extension": ".py",
   "mimetype": "text/x-python",
   "name": "python",
   "nbconvert_exporter": "python",
   "pygments_lexer": "ipython3",
   "version": "3.9.7"
  }
 },
 "nbformat": 4,
 "nbformat_minor": 5
}
