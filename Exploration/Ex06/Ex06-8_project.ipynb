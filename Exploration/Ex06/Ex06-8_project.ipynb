{
 "cells": [
  {
   "cell_type": "markdown",
   "id": "91040bc7",
   "metadata": {},
   "source": [
    "# 8-1. 프로젝트: 뉴스기사 요약해보기"
   ]
  },
  {
   "cell_type": "markdown",
   "id": "9960f198",
   "metadata": {},
   "source": [
    "새로운 데이터셋에 대해서 추상적 요약과 추출적 요약\n",
    "\n",
    "라이브러리 버전 확인"
   ]
  },
  {
   "cell_type": "code",
   "execution_count": 1,
   "id": "1c533ed6",
   "metadata": {},
   "outputs": [
    {
     "name": "stdout",
     "output_type": "stream",
     "text": [
      "3.6.5\n",
      "2.6.0\n",
      "1.3.3\n",
      "1.2.0\n"
     ]
    }
   ],
   "source": [
    "from importlib.metadata import version\n",
    "import nltk\n",
    "import tensorflow\n",
    "import summa\n",
    "import pandas as pd\n",
    "\n",
    "print(nltk.__version__)\n",
    "print(tensorflow.__version__)\n",
    "print(pd.__version__)\n",
    "print(version('summa'))"
   ]
  },
  {
   "cell_type": "code",
   "execution_count": 2,
   "id": "0c748ed3",
   "metadata": {},
   "outputs": [
    {
     "name": "stderr",
     "output_type": "stream",
     "text": [
      "[nltk_data] Downloading package stopwords to /aiffel/nltk_data...\n",
      "[nltk_data]   Unzipping corpora/stopwords.zip.\n"
     ]
    }
   ],
   "source": [
    "import nltk\n",
    "nltk.download('stopwords')\n",
    "\n",
    "import numpy as np\n",
    "import os\n",
    "import re\n",
    "import matplotlib.pyplot as plt\n",
    "from nltk.corpus import stopwords\n",
    "from bs4 import BeautifulSoup \n",
    "from tensorflow.keras.preprocessing.text import Tokenizer \n",
    "from tensorflow.keras.preprocessing.sequence import pad_sequences\n",
    "import urllib.request\n",
    "import warnings\n",
    "warnings.filterwarnings(\"ignore\", category=UserWarning, module='bs4')"
   ]
  },
  {
   "cell_type": "markdown",
   "id": "fbd4f00a",
   "metadata": {},
   "source": [
    "### Step 1. 데이터 수집하기\n",
    "\n",
    "데이터는 아래 링크에 있는 뉴스 기사 데이터(news_summary_more.csv)를 사용하세요.\n",
    "\n",
    "- sunnysai12345/News_Summary : https://github.com/sunnysai12345/News_Summary\n",
    "\n",
    "아래의 코드로 데이터를 다운로드할 수 있어요."
   ]
  },
  {
   "cell_type": "code",
   "execution_count": 3,
   "id": "4f875c87",
   "metadata": {},
   "outputs": [],
   "source": [
    "import urllib.request\n",
    "urllib.request.urlretrieve(\"https://raw.githubusercontent.com/sunnysai12345/News_Summary/master/news_summary_more.csv\", filename=\"news_summary_more.csv\")\n",
    "data = pd.read_csv('news_summary_more.csv', encoding='iso-8859-1')"
   ]
  },
  {
   "cell_type": "code",
   "execution_count": 4,
   "id": "47b8ddd1",
   "metadata": {},
   "outputs": [],
   "source": [
    "pd.set_option('display.max_colwidth', None)"
   ]
  },
  {
   "cell_type": "code",
   "execution_count": 5,
   "id": "589c793a",
   "metadata": {},
   "outputs": [
    {
     "data": {
      "text/html": [
       "<div>\n",
       "<style scoped>\n",
       "    .dataframe tbody tr th:only-of-type {\n",
       "        vertical-align: middle;\n",
       "    }\n",
       "\n",
       "    .dataframe tbody tr th {\n",
       "        vertical-align: top;\n",
       "    }\n",
       "\n",
       "    .dataframe thead th {\n",
       "        text-align: right;\n",
       "    }\n",
       "</style>\n",
       "<table border=\"1\" class=\"dataframe\">\n",
       "  <thead>\n",
       "    <tr style=\"text-align: right;\">\n",
       "      <th></th>\n",
       "      <th>headlines</th>\n",
       "      <th>text</th>\n",
       "    </tr>\n",
       "  </thead>\n",
       "  <tbody>\n",
       "    <tr>\n",
       "      <th>0</th>\n",
       "      <td>upGrad learner switches to career in ML &amp; Al with 90% salary hike</td>\n",
       "      <td>Saurav Kant, an alumnus of upGrad and IIIT-B's PG Program in Machine learning and Artificial Intelligence, was a Sr Systems Engineer at Infosys with almost 5 years of work experience. The program and upGrad's 360-degree career support helped him transition to a Data Scientist at Tech Mahindra with 90% salary hike. upGrad's Online Power Learning has powered 3 lakh+ careers.</td>\n",
       "    </tr>\n",
       "    <tr>\n",
       "      <th>1</th>\n",
       "      <td>Delhi techie wins free food from Swiggy for one year on CRED</td>\n",
       "      <td>Kunal Shah's credit card bill payment platform, CRED, gave users a chance to win free food from Swiggy for one year. Pranav Kaushik, a Delhi techie, bagged this reward after spending 2000 CRED coins. Users get one CRED coin per rupee of bill paid, which can be used to avail rewards from brands like Ixigo, BookMyShow, UberEats, Cult.Fit and more.</td>\n",
       "    </tr>\n",
       "    <tr>\n",
       "      <th>2</th>\n",
       "      <td>New Zealand end Rohit Sharma-led India's 12-match winning streak</td>\n",
       "      <td>New Zealand defeated India by 8 wickets in the fourth ODI at Hamilton on Thursday to win their first match of the five-match ODI series. India lost an international match under Rohit Sharma's captaincy after 12 consecutive victories dating back to March 2018. The match witnessed India getting all out for 92, their seventh lowest total in ODI cricket history.</td>\n",
       "    </tr>\n",
       "    <tr>\n",
       "      <th>3</th>\n",
       "      <td>Aegon life iTerm insurance plan helps customers save tax</td>\n",
       "      <td>With Aegon Life iTerm Insurance plan, customers can enjoy tax benefits on your premiums paid and save up to Ã¢ÂÂ¹46,800^ on taxes. The plan provides life cover up to the age of 100 years. Also, customers have options to insure against Critical Illnesses, Disability and Accidental Death Benefit Rider with a life cover up to the age of 80 years.</td>\n",
       "    </tr>\n",
       "    <tr>\n",
       "      <th>4</th>\n",
       "      <td>Have known Hirani for yrs, what if MeToo claims are not true: Sonam</td>\n",
       "      <td>Speaking about the sexual harassment allegations against Rajkumar Hirani, Sonam Kapoor said, \"I've known Hirani for many years...What if it's not true, the [#MeToo] movement will get derailed.\" \"In the #MeToo movement, I always believe a woman. But in this case, we need to reserve our judgment,\" she added. Hirani has been accused by an assistant who worked in 'Sanju'.</td>\n",
       "    </tr>\n",
       "  </tbody>\n",
       "</table>\n",
       "</div>"
      ],
      "text/plain": [
       "                                                             headlines  \\\n",
       "0    upGrad learner switches to career in ML & Al with 90% salary hike   \n",
       "1         Delhi techie wins free food from Swiggy for one year on CRED   \n",
       "2     New Zealand end Rohit Sharma-led India's 12-match winning streak   \n",
       "3             Aegon life iTerm insurance plan helps customers save tax   \n",
       "4  Have known Hirani for yrs, what if MeToo claims are not true: Sonam   \n",
       "\n",
       "                                                                                                                                                                                                                                                                                                                                                                                      text  \n",
       "0  Saurav Kant, an alumnus of upGrad and IIIT-B's PG Program in Machine learning and Artificial Intelligence, was a Sr Systems Engineer at Infosys with almost 5 years of work experience. The program and upGrad's 360-degree career support helped him transition to a Data Scientist at Tech Mahindra with 90% salary hike. upGrad's Online Power Learning has powered 3 lakh+ careers.  \n",
       "1                              Kunal Shah's credit card bill payment platform, CRED, gave users a chance to win free food from Swiggy for one year. Pranav Kaushik, a Delhi techie, bagged this reward after spending 2000 CRED coins. Users get one CRED coin per rupee of bill paid, which can be used to avail rewards from brands like Ixigo, BookMyShow, UberEats, Cult.Fit and more.  \n",
       "2                 New Zealand defeated India by 8 wickets in the fourth ODI at Hamilton on Thursday to win their first match of the five-match ODI series. India lost an international match under Rohit Sharma's captaincy after 12 consecutive victories dating back to March 2018. The match witnessed India getting all out for 92, their seventh lowest total in ODI cricket history.  \n",
       "3                               With Aegon Life iTerm Insurance plan, customers can enjoy tax benefits on your premiums paid and save up to Ã¢ÂÂ¹46,800^ on taxes. The plan provides life cover up to the age of 100 years. Also, customers have options to insure against Critical Illnesses, Disability and Accidental Death Benefit Rider with a life cover up to the age of 80 years.  \n",
       "4       Speaking about the sexual harassment allegations against Rajkumar Hirani, Sonam Kapoor said, \"I've known Hirani for many years...What if it's not true, the [#MeToo] movement will get derailed.\" \"In the #MeToo movement, I always believe a woman. But in this case, we need to reserve our judgment,\" she added. Hirani has been accused by an assistant who worked in 'Sanju'.  "
      ]
     },
     "execution_count": 5,
     "metadata": {},
     "output_type": "execute_result"
    }
   ],
   "source": [
    "data.head()"
   ]
  },
  {
   "cell_type": "markdown",
   "id": "70f6a459",
   "metadata": {},
   "source": [
    "이 데이터는 기사의 본문에 해당되는 text와 headlines 두 가지 열로 구성되어져 있습니다.\n",
    "\n",
    "추상적 요약을 하는 경우에는 text를 본문, headlines를 이미 요약된 데이터로 삼아서 모델을 학습할 수 있어요. 추출적 요약을 하는 경우에는 오직 text열만을 사용하세요."
   ]
  },
  {
   "cell_type": "markdown",
   "id": "9fc3b38b",
   "metadata": {},
   "source": [
    "### Step 2. 데이터 전처리하기 (추상적 요약)\n",
    "실습에서 사용된 전처리를 참고하여 각자 필요하다고 생각하는 전처리를 추가 사용하여 텍스트를 정규화 또는 정제해 보세요. 만약, 불용어 제거를 선택한다면 상대적으로 길이가 짧은 요약 데이터에 대해서도 불용어를 제거하는 것이 좋을지 고민해 보세요."
   ]
  },
  {
   "cell_type": "code",
   "execution_count": 7,
   "id": "fcab2d29",
   "metadata": {},
   "outputs": [
    {
     "name": "stdout",
     "output_type": "stream",
     "text": [
      "Total number of rows: 98401\n"
     ]
    }
   ],
   "source": [
    "# 전체 데이터 갯수 확인\n",
    "total_count = len(data)\n",
    "print(f\"Total number of rows: {total_count}\")"
   ]
  },
  {
   "cell_type": "markdown",
   "id": "fc6c5153",
   "metadata": {},
   "source": [
    "중복 샘플과 NULL 값이 존재하는 샘플 제거"
   ]
  },
  {
   "cell_type": "code",
   "execution_count": 8,
   "id": "70d5a64e",
   "metadata": {},
   "outputs": [
    {
     "name": "stdout",
     "output_type": "stream",
     "text": [
      "headlines 열에서 중복을 배제한 유일한 샘플의 수 : 98280\n",
      "text 열에서 중복을 배제한 유일한 샘플의 수 : 98360\n"
     ]
    }
   ],
   "source": [
    "print('headlines 열에서 중복을 배제한 유일한 샘플의 수 :', data['headlines'].nunique())\n",
    "print('text 열에서 중복을 배제한 유일한 샘플의 수 :', data['text'].nunique())"
   ]
  },
  {
   "cell_type": "markdown",
   "id": "80d86c54",
   "metadata": {},
   "source": [
    "text 자체가 중복이 된 경우는 중복 샘플이므로 제거"
   ]
  },
  {
   "cell_type": "code",
   "execution_count": 9,
   "id": "b7667503",
   "metadata": {},
   "outputs": [
    {
     "name": "stdout",
     "output_type": "stream",
     "text": [
      "전체 샘플수 : 98360\n"
     ]
    }
   ],
   "source": [
    "# inplace=True 를 설정하면 DataFrame 타입 값을 return 하지 않고 data 내부를 직접적으로 바꿉니다\n",
    "data.drop_duplicates(subset = ['text'], inplace=True)\n",
    "print('전체 샘플수 :', (len(data)))"
   ]
  },
  {
   "cell_type": "markdown",
   "id": "1780c240",
   "metadata": {},
   "source": [
    "데이터프레임에 Null 값이 있는지 확인"
   ]
  },
  {
   "cell_type": "code",
   "execution_count": 10,
   "id": "092a3a95",
   "metadata": {},
   "outputs": [
    {
     "name": "stdout",
     "output_type": "stream",
     "text": [
      "headlines    0\n",
      "text         0\n",
      "dtype: int64\n"
     ]
    }
   ],
   "source": [
    "print(data.isnull().sum())"
   ]
  },
  {
   "cell_type": "markdown",
   "id": "1a78d57f",
   "metadata": {},
   "source": [
    "headlines 와 text의 최소, 최대, 평균 길이를 구하고 또한 길이 분포를 시각화"
   ]
  },
  {
   "cell_type": "code",
   "execution_count": 11,
   "id": "eead1911",
   "metadata": {},
   "outputs": [
    {
     "name": "stdout",
     "output_type": "stream",
     "text": [
      "text의 최소 길이 : 1\n",
      "text의 최대 길이 : 91\n",
      "text의 평균 길이 : 58.23813542090281\n",
      "headlines_len의 최소 길이 : 1\n",
      "headlines_len의 최대 길이 : 18\n",
      "headlines_len의 평균 길이 : 9.553660024400163\n"
     ]
    },
    {
     "data": {
      "image/png": "[encoded data removed]",
      "text/plain": [
       "<Figure size 432x288 with 2 Axes>"
      ]
     },
     "metadata": {
      "needs_background": "light"
     },
     "output_type": "display_data"
    },
    {
     "data": {
      "image/png": "[encoded data removed]",
      "text/plain": [
       "<Figure size 432x288 with 1 Axes>"
      ]
     },
     "metadata": {
      "needs_background": "light"
     },
     "output_type": "display_data"
    },
    {
     "data": {
      "image/png": "[encoded data removed]",
      "text/plain": [
       "<Figure size 432x288 with 1 Axes>"
      ]
     },
     "metadata": {
      "needs_background": "light"
     },
     "output_type": "display_data"
    }
   ],
   "source": [
    "# 길이 분포 출력\n",
    "import matplotlib.pyplot as plt\n",
    "\n",
    "text_len = [len(s.split()) for s in data['text']]\n",
    "headlines_len = [len(s.split()) for s in data['headlines']]\n",
    "\n",
    "print('text의 최소 길이 : {}'.format(np.min(text_len)))\n",
    "print('text의 최대 길이 : {}'.format(np.max(text_len)))\n",
    "print('text의 평균 길이 : {}'.format(np.mean(text_len)))\n",
    "print('headlines_len의 최소 길이 : {}'.format(np.min(headlines_len)))\n",
    "print('headlines_len의 최대 길이 : {}'.format(np.max(headlines_len)))\n",
    "print('headlines_len의 평균 길이 : {}'.format(np.mean(headlines_len)))\n",
    "\n",
    "plt.subplot(1,2,1)\n",
    "plt.boxplot(text_len)\n",
    "plt.title('Text')\n",
    "plt.subplot(1,2,2)\n",
    "plt.boxplot(headlines_len)\n",
    "plt.title('Summary')\n",
    "plt.tight_layout()\n",
    "plt.show()\n",
    "\n",
    "plt.title('Text')\n",
    "plt.hist(text_len, bins = 40)\n",
    "plt.xlabel('length of samples')\n",
    "plt.ylabel('number of samples')\n",
    "plt.show()\n",
    "\n",
    "plt.title('Summary')\n",
    "plt.hist(headlines_len, bins = 40)\n",
    "plt.xlabel('length of samples')\n",
    "plt.ylabel('number of samples')\n",
    "plt.show()"
   ]
  },
  {
   "cell_type": "markdown",
   "id": "99f6a9d8",
   "metadata": {},
   "source": [
    "샘플의 최대 길이 정하기"
   ]
  },
  {
   "cell_type": "markdown",
   "id": "2e0bb740",
   "metadata": {},
   "source": [
    "최대 길이는 평균 + 2*표준편차"
   ]
  },
  {
   "cell_type": "code",
   "execution_count": 12,
   "id": "fe6e3c98",
   "metadata": {},
   "outputs": [
    {
     "name": "stdout",
     "output_type": "stream",
     "text": [
      "text의 최대 길이 (평균 + 2*표준편차): 63\n",
      "headlines의 최대 길이 (평균 + 2*표준편차): 12\n"
     ]
    }
   ],
   "source": [
    "text_len = [len(s.split()) for s in data['text']]\n",
    "headlines_len = [len(s.split()) for s in data['headlines']]\n",
    "\n",
    "# 최대 길이 계산\n",
    "text_mean = np.mean(text_len)\n",
    "text_std = np.std(text_len)\n",
    "headlines_mean = np.mean(headlines_len)\n",
    "headlines_std = np.std(headlines_len)\n",
    "\n",
    "max_text_len = int(text_mean + 2 * text_std)\n",
    "max_headlines_len = int(headlines_mean + 2 * headlines_std)\n",
    "\n",
    "print(f\"text의 최대 길이 (평균 + 2*표준편차): {max_text_len}\")\n",
    "print(f\"headlines의 최대 길이 (평균 + 2*표준편차): {max_headlines_len}\")"
   ]
  },
  {
   "cell_type": "markdown",
   "id": "11502e99",
   "metadata": {},
   "source": [
    "훈련 데이터와 샘플의 길이를 입력하면, 데이터의 몇 %가 해당하는지 계산하는 함수"
   ]
  },
  {
   "cell_type": "code",
   "execution_count": 13,
   "id": "ebcbc352",
   "metadata": {},
   "outputs": [],
   "source": [
    "def below_threshold_len(max_len, nested_list):\n",
    "  cnt = 0\n",
    "  for s in nested_list:\n",
    "    if(len(s.split()) <= max_len):\n",
    "        cnt = cnt + 1\n",
    "  print('전체 샘플 중 길이가 %s 이하인 샘플의 비율: %s'%(max_len, (cnt / len(nested_list))))"
   ]
  },
  {
   "cell_type": "code",
   "execution_count": 14,
   "id": "a3ff3b42",
   "metadata": {},
   "outputs": [
    {
     "name": "stdout",
     "output_type": "stream",
     "text": [
      "전체 샘플 중 길이가 63 이하인 샘플의 비율: 0.9997661651077674\n",
      "전체 샘플 중 길이가 12 이하인 샘플의 비율: 0.9768198454656364\n"
     ]
    }
   ],
   "source": [
    "below_threshold_len(max_text_len, data['text'])\n",
    "below_threshold_len(max_headlines_len,  data['headlines'])"
   ]
  },
  {
   "cell_type": "code",
   "execution_count": 15,
   "id": "dafafddc",
   "metadata": {},
   "outputs": [
    {
     "name": "stdout",
     "output_type": "stream",
     "text": [
      "최대 길이 조건을 만족하는 전체 샘플 수: 96059\n"
     ]
    }
   ],
   "source": [
    "# max_text_len 및 max_headlines_len보다 긴 샘플 제외\n",
    "# data = data[(data['text'].apply(lambda x: len(x.split())) <= max_text_len) &\n",
    "#             (data['headlines'].apply(lambda x: len(x.split())) <= max_headlines_len)]\n",
    "data = data[(data['text'].apply(lambda x: len(x.split())) <= max_text_len) &\n",
    "            (data['headlines'].apply(lambda x: len(x.split())) <= max_headlines_len)].reset_index(drop=True).copy()\n",
    "\n",
    "print('최대 길이 조건을 만족하는 전체 샘플 수:', len(data))"
   ]
  },
  {
   "cell_type": "markdown",
   "id": "ac4591f9",
   "metadata": {},
   "source": [
    "- 데이터 shuffle"
   ]
  },
  {
   "cell_type": "code",
   "execution_count": 16,
   "id": "738b5b05",
   "metadata": {},
   "outputs": [
    {
     "name": "stdout",
     "output_type": "stream",
     "text": [
      "[55367 76898 41953 ... 95891 11526 78425]\n"
     ]
    }
   ],
   "source": [
    "indices = np.arange(len(data))\n",
    "np.random.shuffle(indices)\n",
    "print(indices)"
   ]
  },
  {
   "cell_type": "code",
   "execution_count": 17,
   "id": "c829f263",
   "metadata": {},
   "outputs": [],
   "source": [
    "data = data.iloc[indices]"
   ]
  },
  {
   "cell_type": "markdown",
   "id": "4c69c36f",
   "metadata": {},
   "source": [
    "- test 데이터 비율 0.2% 계산"
   ]
  },
  {
   "cell_type": "code",
   "execution_count": 18,
   "id": "f4cd1ecc",
   "metadata": {},
   "outputs": [
    {
     "name": "stdout",
     "output_type": "stream",
     "text": [
      "테스트 데이터의 수 : 19211\n"
     ]
    }
   ],
   "source": [
    "n_of_val = int(len(data)*0.2)\n",
    "print('테스트 데이터의 수 :', n_of_val)"
   ]
  },
  {
   "cell_type": "markdown",
   "id": "231553d1",
   "metadata": {},
   "source": [
    "Summa을 이용한 추출적 요약을 위해 별도의 변수에 copy"
   ]
  },
  {
   "cell_type": "code",
   "execution_count": 19,
   "id": "e6ae6ad9",
   "metadata": {},
   "outputs": [],
   "source": [
    "import copy"
   ]
  },
  {
   "cell_type": "code",
   "execution_count": 20,
   "id": "b072cd89",
   "metadata": {},
   "outputs": [],
   "source": [
    "result_summarize_data = copy.deepcopy(data)"
   ]
  },
  {
   "cell_type": "code",
   "execution_count": 21,
   "id": "20ea24c6",
   "metadata": {},
   "outputs": [],
   "source": [
    "result_summarize_data_test = result_summarize_data[-n_of_val:]"
   ]
  },
  {
   "cell_type": "code",
   "execution_count": 22,
   "id": "d4a86721",
   "metadata": {},
   "outputs": [
    {
     "data": {
      "text/plain": [
       "19211"
      ]
     },
     "execution_count": 22,
     "metadata": {},
     "output_type": "execute_result"
    }
   ],
   "source": [
    "len(result_summarize_data_test)"
   ]
  },
  {
   "cell_type": "code",
   "execution_count": 23,
   "id": "76cd90ec",
   "metadata": {},
   "outputs": [
    {
     "data": {
      "text/html": [
       "<div>\n",
       "<style scoped>\n",
       "    .dataframe tbody tr th:only-of-type {\n",
       "        vertical-align: middle;\n",
       "    }\n",
       "\n",
       "    .dataframe tbody tr th {\n",
       "        vertical-align: top;\n",
       "    }\n",
       "\n",
       "    .dataframe thead th {\n",
       "        text-align: right;\n",
       "    }\n",
       "</style>\n",
       "<table border=\"1\" class=\"dataframe\">\n",
       "  <thead>\n",
       "    <tr style=\"text-align: right;\">\n",
       "      <th></th>\n",
       "      <th>headlines</th>\n",
       "      <th>text</th>\n",
       "    </tr>\n",
       "  </thead>\n",
       "  <tbody>\n",
       "    <tr>\n",
       "      <th>64341</th>\n",
       "      <td>Delhi airport to get body scanner in 3rd trial run in years</td>\n",
       "      <td>The Delhi airport will introduce a body scanner next month, as part of its third such trial run in years. Previous trials were unsuccessful as passengers had objected to X-ray images, and there were false alarms whenever women in sarees underwent the checks. Meanwhile, an official said, \"We have asked the manufacturer to tweak specifications as per the Indian standard.\"</td>\n",
       "    </tr>\n",
       "    <tr>\n",
       "      <th>93275</th>\n",
       "      <td>Iran offers to mediate between India, Pak over Kashmir issue</td>\n",
       "      <td>Iranian Ambassador to Pakistan Mehdi Honardoost has said that Iran is willing to mediate between Pakistan and India over the long-standing issue of Kashmir, if requested. Any conflict or tension between the two countries (Pakistan and India) will hinder the development of both the countries apart from impacting the economies of other regional countries, said Honardoost.</td>\n",
       "    </tr>\n",
       "    <tr>\n",
       "      <th>86259</th>\n",
       "      <td>Man faces Ã¢ÂÂ¹14 lakh fine for climbing Everest without permit</td>\n",
       "      <td>A South African national is facing a ban on climbing for five years in Nepal and a fine of $22,000 (over Ã¢ÂÂ¹14 lakh) after attempting to scale Mount Everest without paying the permit fee, officials said on Wednesday. Forty-three-year-old Ryan Sean Davy's passport has also been confiscated, an official added. Notably, foreigners are charged $11,000 to climb Mount Everest.</td>\n",
       "    </tr>\n",
       "    <tr>\n",
       "      <th>35356</th>\n",
       "      <td>Pakistan lifts travel ban on Asia Bibi</td>\n",
       "      <td>Pakistan has said that Asia Bibi, the Christian woman acquitted of blasphemy, has the right to travel anywhere inside the country or abroad. This came after Pakistan's Supreme Court upheld her acquittal, rejecting a petition by hardline Islamists. Pakistan had barred Bibi from travelling abroad following a deal with the Islamists who had opposed her acquittal and demanded her execution.</td>\n",
       "    </tr>\n",
       "    <tr>\n",
       "      <th>84041</th>\n",
       "      <td>I think Wonder Woman would kick Thor's a**: Chris Hemsworth</td>\n",
       "      <td>Actor Chris Hemsworth, who portrays the character Thor in Marvel films, tweeted that Wonder Woman would kick Thor's a** if there was a battle between the two. Earlier, Gal Gadot, who portrays Wonder Woman had said in an interview, \"They ask me, who would win? Wonder Woman or Thor? And I think it's Wonder Woman. Don't you, Chris?\"n</td>\n",
       "    </tr>\n",
       "  </tbody>\n",
       "</table>\n",
       "</div>"
      ],
      "text/plain": [
       "                                                              headlines  \\\n",
       "64341       Delhi airport to get body scanner in 3rd trial run in years   \n",
       "93275      Iran offers to mediate between India, Pak over Kashmir issue   \n",
       "86259  Man faces Ã¢ÂÂ¹14 lakh fine for climbing Everest without permit   \n",
       "35356                            Pakistan lifts travel ban on Asia Bibi   \n",
       "84041       I think Wonder Woman would kick Thor's a**: Chris Hemsworth   \n",
       "\n",
       "                                                                                                                                                                                                                                                                                                                                                                                                        text  \n",
       "64341                  The Delhi airport will introduce a body scanner next month, as part of its third such trial run in years. Previous trials were unsuccessful as passengers had objected to X-ray images, and there were false alarms whenever women in sarees underwent the checks. Meanwhile, an official said, \"We have asked the manufacturer to tweak specifications as per the Indian standard.\"   \n",
       "93275                   Iranian Ambassador to Pakistan Mehdi Honardoost has said that Iran is willing to mediate between Pakistan and India over the long-standing issue of Kashmir, if requested. Any conflict or tension between the two countries (Pakistan and India) will hinder the development of both the countries apart from impacting the economies of other regional countries, said Honardoost.  \n",
       "86259               A South African national is facing a ban on climbing for five years in Nepal and a fine of $22,000 (over Ã¢ÂÂ¹14 lakh) after attempting to scale Mount Everest without paying the permit fee, officials said on Wednesday. Forty-three-year-old Ryan Sean Davy's passport has also been confiscated, an official added. Notably, foreigners are charged $11,000 to climb Mount Everest.  \n",
       "35356  Pakistan has said that Asia Bibi, the Christian woman acquitted of blasphemy, has the right to travel anywhere inside the country or abroad. This came after Pakistan's Supreme Court upheld her acquittal, rejecting a petition by hardline Islamists. Pakistan had barred Bibi from travelling abroad following a deal with the Islamists who had opposed her acquittal and demanded her execution.  \n",
       "84041                                                           Actor Chris Hemsworth, who portrays the character Thor in Marvel films, tweeted that Wonder Woman would kick Thor's a** if there was a battle between the two. Earlier, Gal Gadot, who portrays Wonder Woman had said in an interview, \"They ask me, who would win? Wonder Woman or Thor? And I think it's Wonder Woman. Don't you, Chris?\"n  "
      ]
     },
     "execution_count": 23,
     "metadata": {},
     "output_type": "execute_result"
    }
   ],
   "source": [
    "result_summarize_data_test.head()"
   ]
  },
  {
   "cell_type": "markdown",
   "id": "effbfb16",
   "metadata": {},
   "source": [
    "### 시작 토큰과 종료 토큰 추가하기"
   ]
  },
  {
   "cell_type": "markdown",
   "id": "af1d9d6f",
   "metadata": {},
   "source": [
    "- seq2seq 훈련을 위해서는 디코더의 입력과 레이블에 시작 토큰과 종료 토큰을 추가할 필요 있음\n",
    "- 시작 토큰은 sostoken, 종료 토큰은 eostoken이라 임의로 명명하고 앞, 뒤로 추가\n",
    "- 디코더의 입력에 해당하면서 시작 토큰이 맨 앞에 있는 문장의 이름을 decoder_input\n",
    "- 디코더의 출력 또는 레이블에 해당되면서 종료 토큰이 맨 뒤에 붙는 문장의 이름을 decoder_target\n",
    "- 두 개의 문장 모두 headlines 열로부터 만듬"
   ]
  },
  {
   "cell_type": "code",
   "execution_count": 25,
   "id": "8e55b237",
   "metadata": {},
   "outputs": [
    {
     "data": {
      "text/html": [
       "<div>\n",
       "<style scoped>\n",
       "    .dataframe tbody tr th:only-of-type {\n",
       "        vertical-align: middle;\n",
       "    }\n",
       "\n",
       "    .dataframe tbody tr th {\n",
       "        vertical-align: top;\n",
       "    }\n",
       "\n",
       "    .dataframe thead th {\n",
       "        text-align: right;\n",
       "    }\n",
       "</style>\n",
       "<table border=\"1\" class=\"dataframe\">\n",
       "  <thead>\n",
       "    <tr style=\"text-align: right;\">\n",
       "      <th></th>\n",
       "      <th>headlines</th>\n",
       "      <th>text</th>\n",
       "      <th>decoder_input</th>\n",
       "      <th>decoder_target</th>\n",
       "    </tr>\n",
       "  </thead>\n",
       "  <tbody>\n",
       "    <tr>\n",
       "      <th>55367</th>\n",
       "      <td>Google Doodle honours India's 1st woman photojournalist</td>\n",
       "      <td>Google Doodle on Saturday celebrated the 104th birth anniversary of India's first woman photojournalist Homai Vyarawalla. A Padma Bhushan awardee, Vyarawalla was born in Gujarat and picked up photography from her husband. Her pictures include the first tricolour-hoisting after the Independence, Lord Mountbatten departing from India and Jawaharlal Nehru addressing the crowd after the Independence.</td>\n",
       "      <td>sostoken Google Doodle honours India's 1st woman photojournalist</td>\n",
       "      <td>Google Doodle honours India's 1st woman photojournalist eostoken</td>\n",
       "    </tr>\n",
       "    <tr>\n",
       "      <th>76898</th>\n",
       "      <td>I stress on female comedians not being eye-candy: Sugandha</td>\n",
       "      <td>Comedian Sugandha Mishra said she stresses on female comedians not being made eye-candy. She added that sometimes, makers of a comedy show keep women only for cues and give main lines to men. Sugandha further said that initially, good-looking girls find it difficult doing comedy as they're confused about negative portrayals, as is sometimes required in comedy shows.</td>\n",
       "      <td>sostoken I stress on female comedians not being eye-candy: Sugandha</td>\n",
       "      <td>I stress on female comedians not being eye-candy: Sugandha eostoken</td>\n",
       "    </tr>\n",
       "    <tr>\n",
       "      <th>41953</th>\n",
       "      <td>Indonesian province mulls beheading as penalty for murder</td>\n",
       "      <td>Indonesian province of Aceh is considering to introduce beheading as a punishment for murder, the head of the province's sharia law and human rights office has said. \"Beheading is more in line with Islamic law and will cause a deterrent effect,\" the official added. Aceh, which practices public caning against homosexuality, is the only Indonesian province which follows sharia law.</td>\n",
       "      <td>sostoken Indonesian province mulls beheading as penalty for murder</td>\n",
       "      <td>Indonesian province mulls beheading as penalty for murder eostoken</td>\n",
       "    </tr>\n",
       "    <tr>\n",
       "      <th>2206</th>\n",
       "      <td>MS Dhoni spends time with 87-year-old fan after practice in Sydney</td>\n",
       "      <td>Former India captain MS Dhoni met his 87-year-old Australian fan Edith Kochanek after a practice session at Sydney Cricket Ground (SCG). Edith had come to the stadium with her son Norman to watch Dhoni train. \"I was very lucky to meet MS Dhoni. I feel very privileged and proud,\" said Edith, who had also watched Don Bradman train at SCG.</td>\n",
       "      <td>sostoken MS Dhoni spends time with 87-year-old fan after practice in Sydney</td>\n",
       "      <td>MS Dhoni spends time with 87-year-old fan after practice in Sydney eostoken</td>\n",
       "    </tr>\n",
       "    <tr>\n",
       "      <th>92837</th>\n",
       "      <td>US visa the only issue for IT industry: Infosys Co-founder</td>\n",
       "      <td>Infosys Co-founder Kris Gopalakrishnan has said the Indian IT industry will see steady growth and that the US H-1B visa will be the only major issue this year. \"That's one challenge I see. I don't see anything particularly different this year,\" he stated. If global GDP grows around 2-3%, Indian IT industry will grow by around 10%, he added.</td>\n",
       "      <td>sostoken US visa the only issue for IT industry: Infosys Co-founder</td>\n",
       "      <td>US visa the only issue for IT industry: Infosys Co-founder eostoken</td>\n",
       "    </tr>\n",
       "  </tbody>\n",
       "</table>\n",
       "</div>"
      ],
      "text/plain": [
       "                                                                headlines  \\\n",
       "55367             Google Doodle honours India's 1st woman photojournalist   \n",
       "76898          I stress on female comedians not being eye-candy: Sugandha   \n",
       "41953           Indonesian province mulls beheading as penalty for murder   \n",
       "2206   MS Dhoni spends time with 87-year-old fan after practice in Sydney   \n",
       "92837          US visa the only issue for IT industry: Infosys Co-founder   \n",
       "\n",
       "                                                                                                                                                                                                                                                                                                                                                                                                                  text  \\\n",
       "55367  Google Doodle on Saturday celebrated the 104th birth anniversary of India's first woman photojournalist Homai Vyarawalla. A Padma Bhushan awardee, Vyarawalla was born in Gujarat and picked up photography from her husband. Her pictures include the first tricolour-hoisting after the Independence, Lord Mountbatten departing from India and Jawaharlal Nehru addressing the crowd after the Independence.   \n",
       "76898                                 Comedian Sugandha Mishra said she stresses on female comedians not being made eye-candy. She added that sometimes, makers of a comedy show keep women only for cues and give main lines to men. Sugandha further said that initially, good-looking girls find it difficult doing comedy as they're confused about negative portrayals, as is sometimes required in comedy shows.   \n",
       "41953                   Indonesian province of Aceh is considering to introduce beheading as a punishment for murder, the head of the province's sharia law and human rights office has said. \"Beheading is more in line with Islamic law and will cause a deterrent effect,\" the official added. Aceh, which practices public caning against homosexuality, is the only Indonesian province which follows sharia law.   \n",
       "2206                                                               Former India captain MS Dhoni met his 87-year-old Australian fan Edith Kochanek after a practice session at Sydney Cricket Ground (SCG). Edith had come to the stadium with her son Norman to watch Dhoni train. \"I was very lucky to meet MS Dhoni. I feel very privileged and proud,\" said Edith, who had also watched Don Bradman train at SCG.    \n",
       "92837                                                           Infosys Co-founder Kris Gopalakrishnan has said the Indian IT industry will see steady growth and that the US H-1B visa will be the only major issue this year. \"That's one challenge I see. I don't see anything particularly different this year,\" he stated. If global GDP grows around 2-3%, Indian IT industry will grow by around 10%, he added.   \n",
       "\n",
       "                                                                     decoder_input  \\\n",
       "55367             sostoken Google Doodle honours India's 1st woman photojournalist   \n",
       "76898          sostoken I stress on female comedians not being eye-candy: Sugandha   \n",
       "41953           sostoken Indonesian province mulls beheading as penalty for murder   \n",
       "2206   sostoken MS Dhoni spends time with 87-year-old fan after practice in Sydney   \n",
       "92837          sostoken US visa the only issue for IT industry: Infosys Co-founder   \n",
       "\n",
       "                                                                    decoder_target  \n",
       "55367             Google Doodle honours India's 1st woman photojournalist eostoken  \n",
       "76898          I stress on female comedians not being eye-candy: Sugandha eostoken  \n",
       "41953           Indonesian province mulls beheading as penalty for murder eostoken  \n",
       "2206   MS Dhoni spends time with 87-year-old fan after practice in Sydney eostoken  \n",
       "92837          US visa the only issue for IT industry: Infosys Co-founder eostoken  "
      ]
     },
     "execution_count": 25,
     "metadata": {},
     "output_type": "execute_result"
    }
   ],
   "source": [
    "# headlines 데이터에는 시작 토큰과 종료 토큰을 추가한다.\n",
    "data['decoder_input'] = data['headlines'].apply(lambda x: 'sostoken ' + x)\n",
    "data['decoder_target'] = data['headlines'].apply(lambda x: x + ' eostoken')\n",
    "\n",
    "data.head()"
   ]
  },
  {
   "cell_type": "markdown",
   "id": "8669f84f",
   "metadata": {},
   "source": [
    "텍스트 정규화와 불용어 제거\n",
    "\n",
    "- 정규화 사전 출처 : https://stackoverflow.com/questions/19790188/expanding-english-language-contractions-in-python"
   ]
  },
  {
   "cell_type": "markdown",
   "id": "71fc8b12",
   "metadata": {},
   "source": [
    "- Text: text의 평균 길이가 58이므로 불용어 제거는 더 간결하고 핵심적인 정보로 만들 수 있음\n",
    "- Headlines: headlines의 평균 길이가 9.5로 짧기 때문에, 불용어 제거 시 중요한 정보까지 제거될 위험. 요약 데이터는 본래 핵심 정보를 담고 있기 때문에, 불용어를 제거하는 대신 원문 그대로 사용\n",
    "\n",
    "--> 리뷰 완료 후 불용어 제거 안 하는 모델로 다시 실험함\n",
    "\"언어의 맥락을 이해해야 하는 NLP 모델(예: BERT, GPT)에서는 불용어가 오히려 중요한 의미를 가질 수 있습니다. 예를 들어, \"not good\"에서 \"not\"을 제거하면 원래 문장의 의미가 변질될 수 있습니다.\"\n"
   ]
  },
  {
   "cell_type": "code",
   "execution_count": 26,
   "id": "1dcf934a",
   "metadata": {},
   "outputs": [
    {
     "name": "stdout",
     "output_type": "stream",
     "text": [
      "정규화 사전의 수:  120\n"
     ]
    }
   ],
   "source": [
    "contractions = {\"ain't\": \"is not\", \"aren't\": \"are not\",\"can't\": \"cannot\", \"'cause\": \"because\", \"could've\": \"could have\", \"couldn't\": \"could not\",\n",
    "                           \"didn't\": \"did not\",  \"doesn't\": \"does not\", \"don't\": \"do not\", \"hadn't\": \"had not\", \"hasn't\": \"has not\", \"haven't\": \"have not\",\n",
    "                           \"he'd\": \"he would\",\"he'll\": \"he will\", \"he's\": \"he is\", \"how'd\": \"how did\", \"how'd'y\": \"how do you\", \"how'll\": \"how will\", \"how's\": \"how is\",\n",
    "                           \"I'd\": \"I would\", \"I'd've\": \"I would have\", \"I'll\": \"I will\", \"I'll've\": \"I will have\",\"I'm\": \"I am\", \"I've\": \"I have\", \"i'd\": \"i would\",\n",
    "                           \"i'd've\": \"i would have\", \"i'll\": \"i will\",  \"i'll've\": \"i will have\",\"i'm\": \"i am\", \"i've\": \"i have\", \"isn't\": \"is not\", \"it'd\": \"it would\",\n",
    "                           \"it'd've\": \"it would have\", \"it'll\": \"it will\", \"it'll've\": \"it will have\",\"it's\": \"it is\", \"let's\": \"let us\", \"ma'am\": \"madam\",\n",
    "                           \"mayn't\": \"may not\", \"might've\": \"might have\",\"mightn't\": \"might not\",\"mightn't've\": \"might not have\", \"must've\": \"must have\",\n",
    "                           \"mustn't\": \"must not\", \"mustn't've\": \"must not have\", \"needn't\": \"need not\", \"needn't've\": \"need not have\",\"o'clock\": \"of the clock\",\n",
    "                           \"oughtn't\": \"ought not\", \"oughtn't've\": \"ought not have\", \"shan't\": \"shall not\", \"sha'n't\": \"shall not\", \"shan't've\": \"shall not have\",\n",
    "                           \"she'd\": \"she would\", \"she'd've\": \"she would have\", \"she'll\": \"she will\", \"she'll've\": \"she will have\", \"she's\": \"she is\",\n",
    "                           \"should've\": \"should have\", \"shouldn't\": \"should not\", \"shouldn't've\": \"should not have\", \"so've\": \"so have\",\"so's\": \"so as\",\n",
    "                           \"this's\": \"this is\",\"that'd\": \"that would\", \"that'd've\": \"that would have\", \"that's\": \"that is\", \"there'd\": \"there would\",\n",
    "                           \"there'd've\": \"there would have\", \"there's\": \"there is\", \"here's\": \"here is\",\"they'd\": \"they would\", \"they'd've\": \"they would have\",\n",
    "                           \"they'll\": \"they will\", \"they'll've\": \"they will have\", \"they're\": \"they are\", \"they've\": \"they have\", \"to've\": \"to have\",\n",
    "                           \"wasn't\": \"was not\", \"we'd\": \"we would\", \"we'd've\": \"we would have\", \"we'll\": \"we will\", \"we'll've\": \"we will have\", \"we're\": \"we are\",\n",
    "                           \"we've\": \"we have\", \"weren't\": \"were not\", \"what'll\": \"what will\", \"what'll've\": \"what will have\", \"what're\": \"what are\",\n",
    "                           \"what's\": \"what is\", \"what've\": \"what have\", \"when's\": \"when is\", \"when've\": \"when have\", \"where'd\": \"where did\", \"where's\": \"where is\",\n",
    "                           \"where've\": \"where have\", \"who'll\": \"who will\", \"who'll've\": \"who will have\", \"who's\": \"who is\", \"who've\": \"who have\",\n",
    "                           \"why's\": \"why is\", \"why've\": \"why have\", \"will've\": \"will have\", \"won't\": \"will not\", \"won't've\": \"will not have\",\n",
    "                           \"would've\": \"would have\", \"wouldn't\": \"would not\", \"wouldn't've\": \"would not have\", \"y'all\": \"you all\",\n",
    "                           \"y'all'd\": \"you all would\",\"y'all'd've\": \"you all would have\",\"y'all're\": \"you all are\",\"y'all've\": \"you all have\",\n",
    "                           \"you'd\": \"you would\", \"you'd've\": \"you would have\", \"you'll\": \"you will\", \"you'll've\": \"you will have\",\n",
    "                           \"you're\": \"you are\", \"you've\": \"you have\"}\n",
    "\n",
    "print(\"정규화 사전의 수: \", len(contractions))"
   ]
  },
  {
   "cell_type": "markdown",
   "id": "07bdf647",
   "metadata": {},
   "source": [
    "NLTK에서 제공하는 불용어 리스트를 참조해, 샘플에서 불용어를 제거"
   ]
  },
  {
   "cell_type": "code",
   "execution_count": 27,
   "id": "13b0c28a",
   "metadata": {},
   "outputs": [
    {
     "name": "stdout",
     "output_type": "stream",
     "text": [
      "불용어 개수 : 179\n",
      "['i', 'me', 'my', 'myself', 'we', 'our', 'ours', 'ourselves', 'you', \"you're\", \"you've\", \"you'll\", \"you'd\", 'your', 'yours', 'yourself', 'yourselves', 'he', 'him', 'his', 'himself', 'she', \"she's\", 'her', 'hers', 'herself', 'it', \"it's\", 'its', 'itself', 'they', 'them', 'their', 'theirs', 'themselves', 'what', 'which', 'who', 'whom', 'this', 'that', \"that'll\", 'these', 'those', 'am', 'is', 'are', 'was', 'were', 'be', 'been', 'being', 'have', 'has', 'had', 'having', 'do', 'does', 'did', 'doing', 'a', 'an', 'the', 'and', 'but', 'if', 'or', 'because', 'as', 'until', 'while', 'of', 'at', 'by', 'for', 'with', 'about', 'against', 'between', 'into', 'through', 'during', 'before', 'after', 'above', 'below', 'to', 'from', 'up', 'down', 'in', 'out', 'on', 'off', 'over', 'under', 'again', 'further', 'then', 'once', 'here', 'there', 'when', 'where', 'why', 'how', 'all', 'any', 'both', 'each', 'few', 'more', 'most', 'other', 'some', 'such', 'no', 'nor', 'not', 'only', 'own', 'same', 'so', 'than', 'too', 'very', 's', 't', 'can', 'will', 'just', 'don', \"don't\", 'should', \"should've\", 'now', 'd', 'll', 'm', 'o', 're', 've', 'y', 'ain', 'aren', \"aren't\", 'couldn', \"couldn't\", 'didn', \"didn't\", 'doesn', \"doesn't\", 'hadn', \"hadn't\", 'hasn', \"hasn't\", 'haven', \"haven't\", 'isn', \"isn't\", 'ma', 'mightn', \"mightn't\", 'mustn', \"mustn't\", 'needn', \"needn't\", 'shan', \"shan't\", 'shouldn', \"shouldn't\", 'wasn', \"wasn't\", 'weren', \"weren't\", 'won', \"won't\", 'wouldn', \"wouldn't\"]\n"
     ]
    }
   ],
   "source": [
    "print('불용어 개수 :', len(stopwords.words('english') ))\n",
    "print(stopwords.words('english'))"
   ]
  },
  {
   "cell_type": "markdown",
   "id": "14a80e4e",
   "metadata": {},
   "source": [
    "- 불용어를 제거\n",
    "- 영어 문자는 소문자\n",
    "- 섞여있는 html 태그를 제거\n",
    "- 정규 표현식을 통해 각종 특수문자를 제거"
   ]
  },
  {
   "cell_type": "code",
   "execution_count": 28,
   "id": "bedd7058",
   "metadata": {},
   "outputs": [],
   "source": [
    "# 데이터 전처리 함수\n",
    "def preprocess_sentence(sentence, remove_stopwords=True):\n",
    "    sentence = sentence.lower() # 텍스트 소문자화\n",
    "    sentence = BeautifulSoup(sentence, \"lxml\").text # <br />, <a href = ...> 등의 html 태그 제거\n",
    "    sentence = re.sub(r'\\([^)]*\\)', '', sentence) # 괄호로 닫힌 문자열 (...) 제거 Ex) my husband (and myself!) for => my husband for\n",
    "    sentence = re.sub('\"','', sentence) # 쌍따옴표 \" 제거\n",
    "    sentence = ' '.join([contractions[t] if t in contractions else t for t in sentence.split(\" \")]) # 약어 정규화\n",
    "    sentence = re.sub(r\"'s\\b\",\"\", sentence) # 소유격 제거. Ex) roland's -> roland\n",
    "    sentence = re.sub(\"[^a-zA-Z]\", \" \", sentence) # 영어 외 문자(숫자, 특수문자 등) 공백으로 변환\n",
    "    sentence = re.sub('[m]{2,}', 'mm', sentence) # m이 3개 이상이면 2개로 변경. Ex) ummmmmmm yeah -> umm yeah\n",
    "    \n",
    "    # 불용어 제거 (text)\n",
    "    if remove_stopwords:\n",
    "        tokens = ' '.join(word for word in sentence.split() if not word in stopwords.words('english') if len(word) > 1)\n",
    "    # 불용어 미제거 (headlines)\n",
    "    else:\n",
    "        tokens = ' '.join(word for word in sentence.split() if len(word) > 1)\n",
    "    return tokens"
   ]
  },
  {
   "cell_type": "markdown",
   "id": "54e71225",
   "metadata": {},
   "source": [
    "preprocess_sentence() test"
   ]
  },
  {
   "cell_type": "code",
   "execution_count": 29,
   "id": "564705cb",
   "metadata": {},
   "outputs": [
    {
     "name": "stdout",
     "output_type": "stream",
     "text": [
      "text:  everything bought great infact ordered twice third ordered wasfor mother father\n",
      "headlines: great way to start the day\n"
     ]
    }
   ],
   "source": [
    "temp_text = 'Everything I bought was great, infact I ordered twice and the third ordered was<br />for my mother and father.'\n",
    "temp_summary = 'Great way to start (or finish) the day!!!'\n",
    "\n",
    "print(\"text: \", preprocess_sentence(temp_text))\n",
    "print(\"headlines:\", preprocess_sentence(temp_summary, False))  # 불용어를 제거하지 않습니다."
   ]
  },
  {
   "cell_type": "code",
   "execution_count": 30,
   "id": "e9f4dade",
   "metadata": {},
   "outputs": [
    {
     "name": "stdout",
     "output_type": "stream",
     "text": [
      "text 전처리 후 결과:  ['google doodle on saturday celebrated the th birth anniversary of india first woman photojournalist homai vyarawalla padma bhushan awardee vyarawalla was born in gujarat and picked up photography from her husband her pictures include the first tricolour hoisting after the independence lord mountbatten departing from india and jawaharlal nehru addressing the crowd after the independence', 'comedian sugandha mishra said she stresses on female comedians not being made eye candy she added that sometimes makers of comedy show keep women only for cues and give main lines to men sugandha further said that initially good looking girls find it difficult doing comedy as they are confused about negative portrayals as is sometimes required in comedy shows', 'indonesian province of aceh is considering to introduce beheading as punishment for murder the head of the province sharia law and human rights office has said beheading is more in line with islamic law and will cause deterrent effect the official added aceh which practices public caning against homosexuality is the only indonesian province which follows sharia law', 'former india captain ms dhoni met his year old australian fan edith kochanek after practice session at sydney cricket ground edith had come to the stadium with her son norman to watch dhoni train was very lucky to meet ms dhoni feel very privileged and proud said edith who had also watched don bradman train at scg', 'infosys co founder kris gopalakrishnan has said the indian it industry will see steady growth and that the us visa will be the only major issue this year that is one challenge see do not see anything particularly different this year he stated if global gdp grows around indian it industry will grow by around he added']\n"
     ]
    }
   ],
   "source": [
    "# 전체 Text 데이터에 대한 전처리 : 10분 이상 시간이 걸릴 수 있습니다. \n",
    "clean_text = []\n",
    "\n",
    "for sentence in data['text']:\n",
    "    # clean_text.append(preprocess_sentence(sentence))\n",
    "    clean_text.append(preprocess_sentence(sentence, remove_stopwords=False)) # 불용어 제거 안함\n",
    "\n",
    "# 전처리 후 출력\n",
    "print(\"text 전처리 후 결과: \", clean_text[:5])"
   ]
  },
  {
   "cell_type": "code",
   "execution_count": 31,
   "id": "96e3d0e8",
   "metadata": {},
   "outputs": [
    {
     "name": "stdout",
     "output_type": "stream",
     "text": [
      "headlines 전처리 후 결과:  ['google doodle honours india st woman photojournalist', 'stress on female comedians not being eye candy sugandha', 'indonesian province mulls beheading as penalty for murder', 'ms dhoni spends time with year old fan after practice in sydney', 'us visa the only issue for it industry infosys co founder']\n"
     ]
    }
   ],
   "source": [
    "# 전체 Summary 데이터에 대한 전처리: 시간이 오래 걸릴 수 있음\n",
    "clean_headlines = []\n",
    "\n",
    "for sentence in data['headlines']:\n",
    "    clean_headlines.append(preprocess_sentence(sentence, remove_stopwords=False))\n",
    "\n",
    "# 전처리 후 출력\n",
    "print(\"headlines 전처리 후 결과: \", clean_headlines[:5])"
   ]
  },
  {
   "cell_type": "markdown",
   "id": "a8bc57fe",
   "metadata": {},
   "source": [
    "- empty 샘플이 생겼는지 확인\n",
    "- empty 값을 가진 샘플들이 있다면, 모두 Null 값을 가진 샘플로 대체"
   ]
  },
  {
   "cell_type": "code",
   "execution_count": 32,
   "id": "6e968593",
   "metadata": {},
   "outputs": [],
   "source": [
    "data['text'] = clean_text\n",
    "data['headlines'] = clean_headlines\n",
    "\n",
    "# 빈 값을 Null 값으로 변환\n",
    "data.replace('', np.nan, inplace=True)"
   ]
  },
  {
   "cell_type": "code",
   "execution_count": 33,
   "id": "b5b08678",
   "metadata": {},
   "outputs": [
    {
     "data": {
      "text/plain": [
       "headlines         0\n",
       "text              0\n",
       "decoder_input     0\n",
       "decoder_target    0\n",
       "dtype: int64"
      ]
     },
     "execution_count": 33,
     "metadata": {},
     "output_type": "execute_result"
    }
   ],
   "source": [
    "# Null 값 확인\n",
    "data.isnull().sum()"
   ]
  },
  {
   "cell_type": "code",
   "execution_count": 34,
   "id": "7677e5a8",
   "metadata": {},
   "outputs": [
    {
     "name": "stdout",
     "output_type": "stream",
     "text": [
      "전체 샘플수 : 96059\n"
     ]
    }
   ],
   "source": [
    "# # Null 값 제거\n",
    "# data.dropna(axis=0, inplace=True)\n",
    "print('전체 샘플수 :', (len(data)))"
   ]
  },
  {
   "cell_type": "markdown",
   "id": "cbee7fb4",
   "metadata": {},
   "source": [
    "### 훈련 데이터와 테스트 데이터를 분리"
   ]
  },
  {
   "cell_type": "code",
   "execution_count": 35,
   "id": "3d7501ec",
   "metadata": {},
   "outputs": [],
   "source": [
    "encoder_input = np.array(data['text']) # 인코더의 입력\n",
    "decoder_input = np.array(data['decoder_input']) # 디코더의 입력\n",
    "decoder_target = np.array(data['decoder_target']) # 디코더의 레이블"
   ]
  },
  {
   "cell_type": "markdown",
   "id": "43122f57",
   "metadata": {},
   "source": [
    "8:2의 비율로 훈련 데이터와 테스트 데이터로 분리"
   ]
  },
  {
   "cell_type": "code",
   "execution_count": 37,
   "id": "d41e9edc",
   "metadata": {},
   "outputs": [
    {
     "name": "stdout",
     "output_type": "stream",
     "text": [
      "훈련 데이터의 개수 : 76848\n",
      "훈련 레이블의 개수 : 76848\n",
      "테스트 데이터의 개수 : 19211\n",
      "테스트 레이블의 개수 : 19211\n"
     ]
    }
   ],
   "source": [
    "encoder_input_train = encoder_input[:-n_of_val]\n",
    "decoder_input_train = decoder_input[:-n_of_val]\n",
    "decoder_target_train = decoder_target[:-n_of_val]\n",
    "\n",
    "encoder_input_test = encoder_input[-n_of_val:]\n",
    "decoder_input_test = decoder_input[-n_of_val:]\n",
    "decoder_target_test = decoder_target[-n_of_val:]\n",
    "\n",
    "print('훈련 데이터의 개수 :', len(encoder_input_train))\n",
    "print('훈련 레이블의 개수 :', len(decoder_target_train))\n",
    "print('테스트 데이터의 개수 :', len(encoder_input_test))\n",
    "print('테스트 레이블의 개수 :', len(decoder_target_test))"
   ]
  },
  {
   "cell_type": "markdown",
   "id": "d75bd5be",
   "metadata": {},
   "source": [
    "### 단어 집합(vocabulary) 만들기 및 정수 인코딩"
   ]
  },
  {
   "cell_type": "markdown",
   "id": "ef2cacc9",
   "metadata": {},
   "source": [
    "훈련 데이터에 대해서 단어 집합을 만들어볼게요. 우선, 원문에 해당되는 encoder_input_train에 대해서 단어 집합을 만들게요.\n",
    "\n",
    "Keras의 토크나이저를 사용하면, 입력된 훈련 데이터로부터 단어 집합을 만들 수 있어요."
   ]
  },
  {
   "cell_type": "code",
   "execution_count": 38,
   "id": "ad983393",
   "metadata": {},
   "outputs": [],
   "source": [
    "src_tokenizer = Tokenizer(oov_token='UNK') # 토크나이저 정의\n",
    "src_tokenizer.fit_on_texts(encoder_input_train) # 입력된 데이터로부터 단어 집합 생성"
   ]
  },
  {
   "cell_type": "markdown",
   "id": "35c4084a",
   "metadata": {},
   "source": [
    "등장 빈도수가 7회 미만인 단어들이 이 데이터에서 얼만큼의 비중을 차지하는지 확인  \n",
    "src_tokenizer.word_counts.items()에는 단어와 각 단어의 등장 빈도수가 저장돼 있는데, 이를 통해서 통계적인 정보 확인"
   ]
  },
  {
   "cell_type": "code",
   "execution_count": 39,
   "id": "471ee417",
   "metadata": {},
   "outputs": [
    {
     "name": "stdout",
     "output_type": "stream",
     "text": [
      "단어 집합(vocabulary)의 크기 : 69306\n",
      "등장 빈도가 6번 이하인 희귀 단어의 수: 47100\n",
      "단어 집합에서 희귀 단어를 제외시킬 경우의 단어 집합의 크기 22206\n",
      "단어 집합에서 희귀 단어의 비율: 67.95948402735694\n",
      "전체 등장 빈도에서 희귀 단어 등장 빈도 비율: 2.204872969142618\n"
     ]
    }
   ],
   "source": [
    "threshold = 7\n",
    "total_cnt = len(src_tokenizer.word_index) # 단어의 수\n",
    "rare_cnt = 0 # 등장 빈도수가 threshold보다 작은 단어의 개수를 카운트\n",
    "total_freq = 0 # 훈련 데이터의 전체 단어 빈도수 총 합\n",
    "rare_freq = 0 # 등장 빈도수가 threshold보다 작은 단어의 등장 빈도수의 총 합\n",
    "\n",
    "# 단어와 빈도수의 쌍(pair)을 key와 value로 받는다.\n",
    "for key, value in src_tokenizer.word_counts.items():\n",
    "    total_freq = total_freq + value\n",
    "\n",
    "    # 단어의 등장 빈도수가 threshold보다 작으면\n",
    "    if(value < threshold):\n",
    "        rare_cnt = rare_cnt + 1\n",
    "        rare_freq = rare_freq + value\n",
    "\n",
    "print('단어 집합(vocabulary)의 크기 :', total_cnt)\n",
    "print('등장 빈도가 %s번 이하인 희귀 단어의 수: %s'%(threshold - 1, rare_cnt))\n",
    "print('단어 집합에서 희귀 단어를 제외시킬 경우의 단어 집합의 크기 %s'%(total_cnt - rare_cnt))\n",
    "print(\"단어 집합에서 희귀 단어의 비율:\", (rare_cnt / total_cnt)*100)\n",
    "print(\"전체 등장 빈도에서 희귀 단어 등장 빈도 비율:\", (rare_freq / total_freq)*100)"
   ]
  },
  {
   "cell_type": "markdown",
   "id": "3745e51b",
   "metadata": {},
   "source": [
    "- 등장 빈도가 threshold 값인 7회 미만, 즉 6회 이하인 단어들은 단어 집합에서 무려 68% 이상을 차지\n",
    "- 실제로 훈련 데이터에서 등장 빈도로 차지하는 비중은 상대적으로 적은 수치인 2.21%\n",
    "- 등장 빈도가 6회 이하인 단어들은 정수 인코딩 과정에서 빼고, 훈련 데이터에서 제거\n",
    "- 단어의 등장 빈도 수를 예제와 같이 7회 미만으로 잡았는데 기준이 모호하지만 통계 결과에서는 큰 문제가 없어 보인다.\n",
    "- 이를 제외한 단어 집합의 크기를 2만여 개로 계산했는데, 이와 비슷한 값으로 어림잡아 단어 집합의 크기를 22,000으로 제한\n",
    "- 토크나이저를 정의할 때 num_words의 값을 정해주면, 단어 집합의 크기를 제한할 수 있음"
   ]
  },
  {
   "cell_type": "code",
   "execution_count": 40,
   "id": "be5650cb",
   "metadata": {},
   "outputs": [],
   "source": [
    "src_vocab = 22000\n",
    "src_tokenizer = Tokenizer(num_words=src_vocab, oov_token='UNK')\n",
    "src_tokenizer.fit_on_texts(encoder_input_train) # 입력된 데이터로부터 단어 집합 재생성"
   ]
  },
  {
   "cell_type": "markdown",
   "id": "1adc4b73",
   "metadata": {},
   "source": [
    "- texts_to_sequences()는 생성된 단어 집합에 기반하여 입력으로 주어진 텍스트 데이터의 단어들을 모두 정수로 변환하는 정수 인코딩을 수행\n",
    "- 현재 단어 집합의 크기를 22,000으로 제한했으니까 이제 22,000이 넘는 숫자들은 정수 인코딩 후에는 데이터에 존재하지 않음"
   ]
  },
  {
   "cell_type": "code",
   "execution_count": 41,
   "id": "1284b723",
   "metadata": {},
   "outputs": [
    {
     "name": "stdout",
     "output_type": "stream",
     "text": [
      "[[277, 9664, 7, 157, 2167, 2, 197, 966, 1202, 5, 30, 49, 128, 13853, 1, 1, 2938, 3232, 6511, 1, 12, 922, 4, 460, 6, 1907, 66, 10730, 19, 35, 526, 35, 680, 784, 2, 49, 6283, 12600, 20, 2, 1256, 1330, 1, 15967, 19, 30, 6, 3510, 2671, 875, 2, 2260, 20, 2, 1256], [2083, 14794, 2213, 10, 43, 1, 7, 584, 12601, 26, 77, 118, 2293, 8856, 43, 34, 11, 2591, 2335, 5, 2440, 247, 835, 115, 116, 9, 14795, 6, 456, 1465, 2510, 3, 288, 14794, 64, 10, 11, 2011, 421, 905, 778, 917, 18, 1870, 689, 2440, 21, 52, 40, 6678, 51, 2635, 1, 21, 13, 2591, 1175, 4, 2440, 523], [4074, 2183, 5, 16674, 13, 2194, 3, 2757, 11292, 21, 2997, 9, 710, 2, 473, 5, 2, 2183, 11577, 320, 6, 402, 612, 472, 8, 10, 11292, 13, 120, 4, 879, 16, 1093, 320, 6, 22, 1090, 17474, 1722, 2, 238, 34, 16674, 33, 3394, 249, 1, 46, 5097, 13, 2, 116, 4074, 2183, 33, 2890, 11577, 320]]\n"
     ]
    }
   ],
   "source": [
    "# 텍스트 시퀀스를 정수 시퀀스로 변환\n",
    "encoder_input_train = src_tokenizer.texts_to_sequences(encoder_input_train) \n",
    "encoder_input_test = src_tokenizer.texts_to_sequences(encoder_input_test)\n",
    "\n",
    "# 잘 진행되었는지 샘플 출력\n",
    "print(encoder_input_train[:3])"
   ]
  },
  {
   "cell_type": "markdown",
   "id": "d6180203",
   "metadata": {},
   "source": [
    "- headlines 데이터에 대해서도 동일한 작업을 수행\n",
    "- 케라스의 토크나이저를 사용하여 decoder_input_train을 입력으로 전체 단어 집합과 각 단어에 대한 빈도수를 계산\n",
    "- 단어의 등장 빈도 수를 6회 미만으로 잡았는데 기준이 모호하지만 통계 결과에서는 큰 문제가 없어 보인다."
   ]
  },
  {
   "cell_type": "code",
   "execution_count": 42,
   "id": "35f86f13",
   "metadata": {},
   "outputs": [],
   "source": [
    "tar_tokenizer = Tokenizer(oov_token='UNK')\n",
    "tar_tokenizer.fit_on_texts(decoder_input_train)"
   ]
  },
  {
   "cell_type": "code",
   "execution_count": 43,
   "id": "786c31e2",
   "metadata": {},
   "outputs": [
    {
     "name": "stdout",
     "output_type": "stream",
     "text": [
      "단어 집합(vocabulary)의 크기 : 40501\n",
      "등장 빈도가 5번 이하인 희귀 단어의 수: 29298\n",
      "단어 집합에서 희귀 단어를 제외시킬 경우의 단어 집합의 크기 11203\n",
      "단어 집합에서 희귀 단어의 비율: 72.33895459371374\n",
      "전체 등장 빈도에서 희귀 단어 등장 빈도 비율: 6.287927930112579\n"
     ]
    }
   ],
   "source": [
    "threshold = 6\n",
    "total_cnt = len(tar_tokenizer.word_index) # 단어의 수\n",
    "rare_cnt = 0 # 등장 빈도수가 threshold보다 작은 단어의 개수를 카운트\n",
    "total_freq = 0 # 훈련 데이터의 전체 단어 빈도수 총 합\n",
    "rare_freq = 0 # 등장 빈도수가 threshold보다 작은 단어의 등장 빈도수의 총 합\n",
    "\n",
    "# 단어와 빈도수의 쌍(pair)을 key와 value로 받는다.\n",
    "for key, value in tar_tokenizer.word_counts.items():\n",
    "    total_freq = total_freq + value\n",
    "\n",
    "    # 단어의 등장 빈도수가 threshold보다 작으면\n",
    "    if(value < threshold):\n",
    "        rare_cnt = rare_cnt + 1\n",
    "        rare_freq = rare_freq + value\n",
    "\n",
    "print('단어 집합(vocabulary)의 크기 :', total_cnt)\n",
    "print('등장 빈도가 %s번 이하인 희귀 단어의 수: %s'%(threshold - 1, rare_cnt))\n",
    "print('단어 집합에서 희귀 단어를 제외시킬 경우의 단어 집합의 크기 %s'%(total_cnt - rare_cnt))\n",
    "print(\"단어 집합에서 희귀 단어의 비율:\", (rare_cnt / total_cnt)*100)\n",
    "print(\"전체 등장 빈도에서 희귀 단어 등장 빈도 비율:\", (rare_freq / total_freq)*100)"
   ]
  },
  {
   "cell_type": "code",
   "execution_count": 44,
   "id": "b4e20b06",
   "metadata": {},
   "outputs": [
    {
     "name": "stdout",
     "output_type": "stream",
     "text": [
      "input\n",
      "input  [[2, 110, 5868, 3325, 89, 48, 47, 1], [2, 26, 4028, 8, 464, 1, 21, 111, 2277, 5176, 1], [2, 2489, 6124, 2278, 7178, 17, 1197, 6, 358], [2, 1086, 295, 2922, 60, 9, 3906, 40, 28, 529, 10, 2350, 5, 8056], [2, 16, 1124, 19, 138, 552, 6, 62, 1224, 720, 326, 291]]\n",
      "target\n",
      "decoder  [[110, 5868, 3325, 89, 48, 47, 1, 3], [26, 4028, 8, 464, 1, 21, 111, 2277, 5176, 1, 3], [2489, 6124, 2278, 7178, 17, 1197, 6, 358, 3], [1086, 295, 2922, 60, 9, 3906, 40, 28, 529, 10, 2350, 5, 8056, 3], [16, 1124, 19, 138, 552, 6, 62, 1224, 720, 326, 291, 3]]\n"
     ]
    }
   ],
   "source": [
    "tar_vocab = 10000\n",
    "tar_tokenizer = Tokenizer(num_words=tar_vocab, oov_token='UNK')\n",
    "tar_tokenizer.fit_on_texts(decoder_input_train)\n",
    "tar_tokenizer.fit_on_texts(decoder_target_train)\n",
    "\n",
    "# 텍스트 시퀀스를 정수 시퀀스로 변환\n",
    "decoder_input_train = tar_tokenizer.texts_to_sequences(decoder_input_train) \n",
    "decoder_target_train = tar_tokenizer.texts_to_sequences(decoder_target_train)\n",
    "decoder_input_test = tar_tokenizer.texts_to_sequences(decoder_input_test)\n",
    "decoder_target_test = tar_tokenizer.texts_to_sequences(decoder_target_test)\n",
    "\n",
    "# 잘 변환되었는지 확인\n",
    "print('input')\n",
    "print('input ',decoder_input_train[:5])\n",
    "print('target')\n",
    "print('decoder ',decoder_target_train[:5])"
   ]
  },
  {
   "cell_type": "markdown",
   "id": "271f498e",
   "metadata": {},
   "source": [
    "- 전체 데이터에서 빈도수가 낮은 단어가 삭제되었다는 것은 빈도수가 낮은 단어만으로 구성되었던 샘플들은 이제 빈(empty) 샘플이 되었을 가능성 있음\n",
    "\n",
    "- 훈련 데이터와 테스트 데이터에 대해서 요약문의 길이가 1인 경우의 인덱스를 각각 drop_train과 drop_test에 라는 변수에 저장. 이 샘플들이 있으면 모두 삭제"
   ]
  },
  {
   "cell_type": "code",
   "execution_count": 45,
   "id": "1c1c6947",
   "metadata": {},
   "outputs": [
    {
     "name": "stdout",
     "output_type": "stream",
     "text": [
      "삭제할 훈련 데이터의 개수 : 0\n",
      "삭제할 테스트 데이터의 개수 : 0\n"
     ]
    }
   ],
   "source": [
    "drop_train = [index for index, sentence in enumerate(decoder_input_train) if len(sentence) == 1]\n",
    "drop_test = [index for index, sentence in enumerate(decoder_input_test) if len(sentence) == 1]\n",
    "\n",
    "print('삭제할 훈련 데이터의 개수 :', len(drop_train))\n",
    "print('삭제할 테스트 데이터의 개수 :', len(drop_test))"
   ]
  },
  {
   "cell_type": "code",
   "execution_count": 46,
   "id": "b5317378",
   "metadata": {},
   "outputs": [
    {
     "name": "stdout",
     "output_type": "stream",
     "text": [
      "훈련 데이터의 개수 : 76848\n",
      "훈련 레이블의 개수 : 76848\n",
      "테스트 데이터의 개수 : 19211\n",
      "테스트 레이블의 개수 : 19211\n"
     ]
    }
   ],
   "source": [
    "encoder_input_train = [sentence for index, sentence in enumerate(encoder_input_train) if index not in drop_train]\n",
    "decoder_input_train = [sentence for index, sentence in enumerate(decoder_input_train) if index not in drop_train]\n",
    "decoder_target_train = [sentence for index, sentence in enumerate(decoder_target_train) if index not in drop_train]\n",
    "\n",
    "encoder_input_test = [sentence for index, sentence in enumerate(encoder_input_test) if index not in drop_test]\n",
    "decoder_input_test = [sentence for index, sentence in enumerate(decoder_input_test) if index not in drop_test]\n",
    "decoder_target_test = [sentence for index, sentence in enumerate(decoder_target_test) if index not in drop_test]\n",
    "\n",
    "print('훈련 데이터의 개수 :', len(encoder_input_train))\n",
    "print('훈련 레이블의 개수 :', len(decoder_input_train))\n",
    "print('테스트 데이터의 개수 :', len(encoder_input_test))\n",
    "print('테스트 레이블의 개수 :', len(decoder_input_test))"
   ]
  },
  {
   "cell_type": "markdown",
   "id": "c7bcd20b",
   "metadata": {},
   "source": [
    "### padding 방식 'post' 사용\n",
    "- 어제 test 시 post, pre 가 별 차이 없이 나왔다.\n",
    "- 특히 오늘은 attention 테크닉을 사용하는 모델이기 때문에 post 와 pre 가 큰 차이점이 없을 거라고 예상하고 post 를 먼저 사용해서 전처리 하도록 한다."
   ]
  },
  {
   "cell_type": "code",
   "execution_count": 47,
   "id": "e6975f11",
   "metadata": {},
   "outputs": [],
   "source": [
    "encoder_input_train = pad_sequences(encoder_input_train, maxlen=max_text_len, padding='post')\n",
    "encoder_input_test = pad_sequences(encoder_input_test, maxlen=max_text_len, padding='post')\n",
    "decoder_input_train = pad_sequences(decoder_input_train, maxlen=max_headlines_len, padding='post')\n",
    "decoder_target_train = pad_sequences(decoder_target_train, maxlen=max_headlines_len, padding='post')\n",
    "decoder_input_test = pad_sequences(decoder_input_test, maxlen=max_headlines_len, padding='post')\n",
    "decoder_target_test = pad_sequences(decoder_target_test, maxlen=max_headlines_len, padding='post')"
   ]
  },
  {
   "cell_type": "markdown",
   "id": "02be74d1",
   "metadata": {},
   "source": [
    "### Step 3. 어텐션 메커니즘 사용하기 (추상적 요약)\n",
    "일반적인 seq2seq보다는 어텐션 메커니즘을 사용한 seq2seq를 사용하는 것이 더 나은 성능을 얻을 수 있어요. 실습 내용을 참고하여 어텐션 메커니즘을 사용한 seq2seq를 설계해 보세요."
   ]
  },
  {
   "cell_type": "markdown",
   "id": "2a1bfee8",
   "metadata": {},
   "source": [
    "### 함수형 API를 이용해서 인코더를 설계"
   ]
  },
  {
   "cell_type": "code",
   "execution_count": 48,
   "id": "b0ad2a4a",
   "metadata": {},
   "outputs": [],
   "source": [
    "from tensorflow.keras.layers import Input, LSTM, Embedding, Dense, Concatenate, TimeDistributed\n",
    "from tensorflow.keras.models import Model\n",
    "from tensorflow.keras.callbacks import EarlyStopping, ModelCheckpoint"
   ]
  },
  {
   "cell_type": "markdown",
   "id": "98a6101d",
   "metadata": {},
   "source": [
    "- 인코더 부분을 3개의 LSTM 레이어로 구성\n",
    "- recurrent_dropout 는 학습 시간 고려하여 사용하지 않음"
   ]
  },
  {
   "cell_type": "code",
   "execution_count": 49,
   "id": "06550177",
   "metadata": {},
   "outputs": [],
   "source": [
    "# 인코더 설계 시작\n",
    "embedding_dim = 128\n",
    "hidden_size = 256\n",
    "\n",
    "# 인코더\n",
    "encoder_inputs = Input(shape=(max_text_len,))\n",
    "\n",
    "# 인코더의 임베딩 층\n",
    "enc_emb = Embedding(src_vocab, embedding_dim)(encoder_inputs)\n",
    "\n",
    "# 인코더의 LSTM 1\n",
    "# encoder_lstm1 = LSTM(hidden_size, return_sequences=True, return_state=True ,dropout = 0.4, recurrent_dropout = 0.4)\n",
    "encoder_lstm1 = LSTM(hidden_size, return_sequences=True, return_state=True ,dropout = 0.4)\n",
    "encoder_output1, state_h1, state_c1 = encoder_lstm1(enc_emb)\n",
    "\n",
    "# 인코더의 LSTM 2\n",
    "encoder_lstm2 = LSTM(hidden_size, return_sequences=True, return_state=True, dropout=0.4)\n",
    "encoder_output2, state_h2, state_c2 = encoder_lstm2(encoder_output1)\n",
    "\n",
    "# 인코더의 LSTM 3\n",
    "encoder_lstm3 = LSTM(hidden_size, return_sequences=True, return_state=True, dropout=0.4)\n",
    "encoder_outputs, state_h3, state_c3 = encoder_lstm3(encoder_output2)"
   ]
  },
  {
   "cell_type": "markdown",
   "id": "7321b8a1",
   "metadata": {},
   "source": [
    "### 디코더 설계"
   ]
  },
  {
   "cell_type": "code",
   "execution_count": 50,
   "id": "689181b9",
   "metadata": {},
   "outputs": [],
   "source": [
    "# 디코더 설계\n",
    "decoder_inputs = Input(shape=(None,))\n",
    "\n",
    "# 디코더의 임베딩 층\n",
    "dec_emb_layer = Embedding(tar_vocab, embedding_dim)\n",
    "dec_emb = dec_emb_layer(decoder_inputs)\n",
    "\n",
    "# 디코더의 LSTM\n",
    "# decoder_lstm = LSTM(hidden_size, return_sequences=True, return_state=True, dropout=0.4, recurrent_dropout=0.2)\n",
    "decoder_lstm = LSTM(hidden_size, return_sequences=True, return_state=True, dropout=0.4)\n",
    "decoder_outputs, _, _ = decoder_lstm(dec_emb, initial_state=[state_h3, state_c3])"
   ]
  },
  {
   "cell_type": "markdown",
   "id": "df34c97f",
   "metadata": {},
   "source": [
    "### 어텐션 메커니즘"
   ]
  },
  {
   "cell_type": "code",
   "execution_count": 51,
   "id": "a21489aa",
   "metadata": {},
   "outputs": [],
   "source": [
    "from tensorflow.keras.layers import AdditiveAttention"
   ]
  },
  {
   "cell_type": "code",
   "execution_count": 52,
   "id": "c3c555f6",
   "metadata": {},
   "outputs": [],
   "source": [
    "# 어텐션 층(어텐션 함수)\n",
    "attn_layer = AdditiveAttention(name='attention_layer')"
   ]
  },
  {
   "cell_type": "markdown",
   "id": "e2cd40f0",
   "metadata": {},
   "source": [
    "- Additive Attention 층을 사용: 이 층은 Additive Attention(어텐션) 메커니즘을 사용하여 디코더의 출력과 인코더의 출력을 결합\n",
    "- Additive Attention은 Bahdanau 어텐션으로도 불리며, 주어진 인코더와 디코더의 hidden state를 바탕으로 중요도를 계산"
   ]
  },
  {
   "cell_type": "code",
   "execution_count": 53,
   "id": "a2cf9e20",
   "metadata": {},
   "outputs": [],
   "source": [
    "# 인코더와 디코더의 모든 time step의 hidden state를 어텐션 층에 전달하고 결과를 리턴\n",
    "attn_out = attn_layer([decoder_outputs, encoder_outputs])"
   ]
  },
  {
   "cell_type": "markdown",
   "id": "0bf9228e",
   "metadata": {},
   "source": [
    "- 어텐션 결과 계산: 인코더의 출력 (encoder_outputs)과 디코더의 출력 (decoder_outputs)을 어텐션 층에 전달하여, 어텐션 가중치를 기반으로 두 출력을 결합한 결과를 얻음\n",
    "- attn_out은 인코더의 모든 time step에 걸친 정보가 디코더의 각 time step에 대한 중요도로 조정되어 계산된 결과"
   ]
  },
  {
   "cell_type": "code",
   "execution_count": 54,
   "id": "ecaa6e95",
   "metadata": {},
   "outputs": [],
   "source": [
    "# 어텐션의 결과와 디코더의 hidden state들을 연결\n",
    "decoder_concat_input = Concatenate(axis=-1, name='concat_layer')([decoder_outputs, attn_out])"
   ]
  },
  {
   "cell_type": "markdown",
   "id": "17a83118",
   "metadata": {},
   "source": [
    "- 어텐션 결과와 디코더 출력 결합: 어텐션의 결과 (attn_out)와 디코더의 각 time step의 hidden state (decoder_outputs)를 결합\n",
    "- 이를 통해 디코더는 인코더에서 가장 중요한 정보와 자신의 hidden state를 결합하여 최종 출력을 생성\n",
    "- Concatenate는 두 텐서를 축(axis)을 기준으로 합침. 여기서는 마지막 축(axis=-1)으로 합침"
   ]
  },
  {
   "cell_type": "code",
   "execution_count": 55,
   "id": "2c76e13d",
   "metadata": {},
   "outputs": [],
   "source": [
    "# 디코더의 출력층\n",
    "decoder_softmax_layer = Dense(tar_vocab, activation='softmax')\n",
    "decoder_softmax_outputs = decoder_softmax_layer(decoder_concat_input)"
   ]
  },
  {
   "cell_type": "markdown",
   "id": "133b578c",
   "metadata": {},
   "source": [
    "- Dense 층을 사용한 출력층: tar_vocab 크기를 갖는 밀집(Dense) 층을 통해 각 단어에 대한 확률 분포를 구함.\n",
    "- Softmax 활성화 함수를 사용하여 각 단어가 정답일 확률을 계산\n",
    "- decoder_concat_input을 입력받아, 각 time step에서 출력될 단어에 대한 확률을 산출"
   ]
  },
  {
   "cell_type": "code",
   "execution_count": 56,
   "id": "3e26704f",
   "metadata": {},
   "outputs": [
    {
     "name": "stdout",
     "output_type": "stream",
     "text": [
      "Model: \"model\"\n",
      "__________________________________________________________________________________________________\n",
      "Layer (type)                    Output Shape         Param #     Connected to                     \n",
      "==================================================================================================\n",
      "input_1 (InputLayer)            [(None, 63)]         0                                            \n",
      "__________________________________________________________________________________________________\n",
      "embedding (Embedding)           (None, 63, 128)      2816000     input_1[0][0]                    \n",
      "__________________________________________________________________________________________________\n",
      "lstm (LSTM)                     [(None, 63, 256), (N 394240      embedding[0][0]                  \n",
      "__________________________________________________________________________________________________\n",
      "input_2 (InputLayer)            [(None, None)]       0                                            \n",
      "__________________________________________________________________________________________________\n",
      "lstm_1 (LSTM)                   [(None, 63, 256), (N 525312      lstm[0][0]                       \n",
      "__________________________________________________________________________________________________\n",
      "embedding_1 (Embedding)         (None, None, 128)    1280000     input_2[0][0]                    \n",
      "__________________________________________________________________________________________________\n",
      "lstm_2 (LSTM)                   [(None, 63, 256), (N 525312      lstm_1[0][0]                     \n",
      "__________________________________________________________________________________________________\n",
      "lstm_3 (LSTM)                   [(None, None, 256),  394240      embedding_1[0][0]                \n",
      "                                                                 lstm_2[0][1]                     \n",
      "                                                                 lstm_2[0][2]                     \n",
      "__________________________________________________________________________________________________\n",
      "attention_layer (AdditiveAttent (None, None, 256)    256         lstm_3[0][0]                     \n",
      "                                                                 lstm_2[0][0]                     \n",
      "__________________________________________________________________________________________________\n",
      "concat_layer (Concatenate)      (None, None, 512)    0           lstm_3[0][0]                     \n",
      "                                                                 attention_layer[0][0]            \n",
      "__________________________________________________________________________________________________\n",
      "dense (Dense)                   (None, None, 10000)  5130000     concat_layer[0][0]               \n",
      "==================================================================================================\n",
      "Total params: 11,065,360\n",
      "Trainable params: 11,065,360\n",
      "Non-trainable params: 0\n",
      "__________________________________________________________________________________________________\n"
     ]
    }
   ],
   "source": [
    "# 모델 정의\n",
    "model = Model([encoder_inputs, decoder_inputs], decoder_softmax_outputs)\n",
    "model.summary()"
   ]
  },
  {
   "cell_type": "markdown",
   "id": "687c57f6",
   "metadata": {},
   "source": [
    "### 모델 훈련하기"
   ]
  },
  {
   "cell_type": "markdown",
   "id": "1e8de98a",
   "metadata": {},
   "source": [
    "- EarlyStopping 사용안함\n",
    "- ModelCheckpoint 로 가장 좋은 모델 저장"
   ]
  },
  {
   "cell_type": "code",
   "execution_count": 57,
   "id": "4d7e568b",
   "metadata": {},
   "outputs": [],
   "source": [
    "# model.compile(optimizer='rmsprop', loss='sparse_categorical_crossentropy')\n",
    "# es = EarlyStopping(monitor='val_loss', patience=2, verbose=1)\n",
    "# history = model.fit(x=[encoder_input_train, decoder_input_train], y=decoder_target_train, \\\n",
    "#           validation_data=([encoder_input_test, decoder_input_test], decoder_target_test), \\\n",
    "#           batch_size=256, callbacks=[es], epochs=50)"
   ]
  },
  {
   "cell_type": "code",
   "execution_count": 58,
   "id": "2bc8cd5e",
   "metadata": {},
   "outputs": [],
   "source": [
    "import tensorflow as tf"
   ]
  },
  {
   "cell_type": "code",
   "execution_count": 59,
   "id": "d646e24a",
   "metadata": {},
   "outputs": [
    {
     "name": "stdout",
     "output_type": "stream",
     "text": [
      "Epoch 1/50\n",
      "301/301 [==============================] - 70s 115ms/step - loss: 5.9651 - val_loss: 5.5579\n",
      "Epoch 2/50\n",
      "301/301 [==============================] - 34s 114ms/step - loss: 5.4015 - val_loss: 5.1927\n",
      "Epoch 3/50\n",
      "301/301 [==============================] - 35s 116ms/step - loss: 5.0210 - val_loss: 4.8920\n",
      "Epoch 4/50\n",
      "301/301 [==============================] - 36s 119ms/step - loss: 4.7280 - val_loss: 4.6421\n",
      "Epoch 5/50\n",
      "301/301 [==============================] - 36s 120ms/step - loss: 4.4994 - val_loss: 4.4742\n",
      "Epoch 6/50\n",
      "301/301 [==============================] - 36s 119ms/step - loss: 4.3118 - val_loss: 4.3625\n",
      "Epoch 7/50\n",
      "301/301 [==============================] - 36s 120ms/step - loss: 4.1529 - val_loss: 4.2666\n",
      "Epoch 8/50\n",
      "301/301 [==============================] - 36s 119ms/step - loss: 4.0172 - val_loss: 4.1803\n",
      "Epoch 9/50\n",
      "301/301 [==============================] - 36s 119ms/step - loss: 3.8974 - val_loss: 4.1138\n",
      "Epoch 10/50\n",
      "301/301 [==============================] - 36s 119ms/step - loss: 3.7914 - val_loss: 4.0590\n",
      "Epoch 11/50\n",
      "301/301 [==============================] - 36s 119ms/step - loss: 3.6947 - val_loss: 4.0181\n",
      "Epoch 12/50\n",
      "301/301 [==============================] - 36s 119ms/step - loss: 3.6049 - val_loss: 3.9723\n",
      "Epoch 13/50\n",
      "301/301 [==============================] - 36s 119ms/step - loss: 3.5251 - val_loss: 3.9393\n",
      "Epoch 14/50\n",
      "301/301 [==============================] - 36s 119ms/step - loss: 3.4521 - val_loss: 3.9107\n",
      "Epoch 15/50\n",
      "301/301 [==============================] - 36s 119ms/step - loss: 3.3821 - val_loss: 3.8853\n",
      "Epoch 16/50\n",
      "301/301 [==============================] - 36s 119ms/step - loss: 3.3168 - val_loss: 3.8597\n",
      "Epoch 17/50\n",
      "301/301 [==============================] - 36s 119ms/step - loss: 3.2556 - val_loss: 3.8468\n",
      "Epoch 18/50\n",
      "301/301 [==============================] - 36s 119ms/step - loss: 3.2013 - val_loss: 3.8240\n",
      "Epoch 19/50\n",
      "301/301 [==============================] - 36s 119ms/step - loss: 3.1465 - val_loss: 3.8184\n",
      "Epoch 20/50\n",
      "301/301 [==============================] - 36s 119ms/step - loss: 3.0971 - val_loss: 3.7999\n",
      "Epoch 21/50\n",
      "301/301 [==============================] - 36s 119ms/step - loss: 3.0520 - val_loss: 3.8049\n",
      "Epoch 22/50\n",
      "301/301 [==============================] - 36s 119ms/step - loss: 3.0094 - val_loss: 3.7913\n",
      "Epoch 23/50\n",
      "301/301 [==============================] - 36s 119ms/step - loss: 2.9633 - val_loss: 3.7853\n",
      "Epoch 24/50\n",
      "301/301 [==============================] - 36s 119ms/step - loss: 2.9254 - val_loss: 3.7742\n",
      "Epoch 25/50\n",
      "301/301 [==============================] - 36s 119ms/step - loss: 2.8858 - val_loss: 3.7776\n",
      "Epoch 26/50\n",
      "301/301 [==============================] - 36s 119ms/step - loss: 2.8490 - val_loss: 3.7813\n",
      "Epoch 27/50\n",
      "301/301 [==============================] - 36s 119ms/step - loss: 2.8145 - val_loss: 3.7736\n",
      "Epoch 28/50\n",
      "301/301 [==============================] - 36s 120ms/step - loss: 2.7856 - val_loss: 3.7595\n",
      "Epoch 29/50\n",
      "301/301 [==============================] - 36s 119ms/step - loss: 2.7556 - val_loss: 3.7695\n",
      "Epoch 30/50\n",
      "301/301 [==============================] - 36s 119ms/step - loss: 2.7257 - val_loss: 3.7745\n",
      "Epoch 31/50\n",
      "301/301 [==============================] - 36s 119ms/step - loss: 2.6980 - val_loss: 3.7712\n",
      "Epoch 32/50\n",
      "301/301 [==============================] - 36s 119ms/step - loss: 2.6713 - val_loss: 3.7699\n",
      "Epoch 33/50\n",
      "301/301 [==============================] - 36s 119ms/step - loss: 2.6444 - val_loss: 3.7694\n",
      "Epoch 34/50\n",
      "301/301 [==============================] - 36s 119ms/step - loss: 2.6166 - val_loss: 3.7764\n",
      "Epoch 35/50\n",
      "301/301 [==============================] - 36s 119ms/step - loss: 2.5938 - val_loss: 3.7778\n",
      "Epoch 36/50\n",
      "301/301 [==============================] - 36s 119ms/step - loss: 2.5681 - val_loss: 3.7737\n",
      "Epoch 37/50\n",
      "301/301 [==============================] - 36s 119ms/step - loss: 2.5436 - val_loss: 3.7938\n",
      "Epoch 38/50\n",
      "301/301 [==============================] - 36s 119ms/step - loss: 2.5171 - val_loss: 3.7872\n",
      "Epoch 39/50\n",
      "301/301 [==============================] - 36s 119ms/step - loss: 2.4968 - val_loss: 3.7886\n",
      "Epoch 40/50\n",
      "301/301 [==============================] - 36s 119ms/step - loss: 2.4775 - val_loss: 3.7881\n",
      "Epoch 41/50\n",
      "301/301 [==============================] - 36s 120ms/step - loss: 2.4610 - val_loss: 3.7884\n",
      "Epoch 42/50\n",
      "301/301 [==============================] - 36s 120ms/step - loss: 2.4445 - val_loss: 3.7871\n",
      "Epoch 43/50\n",
      "301/301 [==============================] - 36s 119ms/step - loss: 2.4262 - val_loss: 3.7941\n",
      "Epoch 44/50\n",
      "301/301 [==============================] - 36s 119ms/step - loss: 2.4091 - val_loss: 3.7936\n",
      "Epoch 45/50\n",
      "301/301 [==============================] - 36s 119ms/step - loss: 2.3921 - val_loss: 3.7979\n",
      "Epoch 46/50\n",
      "301/301 [==============================] - 36s 119ms/step - loss: 2.3767 - val_loss: 3.8039\n",
      "Epoch 47/50\n",
      "301/301 [==============================] - 36s 119ms/step - loss: 2.3549 - val_loss: 3.8146\n",
      "Epoch 48/50\n",
      "301/301 [==============================] - 36s 119ms/step - loss: 2.3359 - val_loss: 3.8122\n",
      "Epoch 49/50\n",
      "301/301 [==============================] - 36s 119ms/step - loss: 2.3215 - val_loss: 3.8173\n",
      "Epoch 50/50\n",
      "301/301 [==============================] - 36s 119ms/step - loss: 2.3064 - val_loss: 3.8162\n"
     ]
    }
   ],
   "source": [
    "# 콜백 설정 - 가장 좋은 모델을 저장하도록 설정\n",
    "seq2seq_attention_checkpoint_cb = tf.keras.callbacks.ModelCheckpoint('seq2seq_attention_model.keras', save_best_only=True)\n",
    "\n",
    "model.compile(optimizer='rmsprop', loss='sparse_categorical_crossentropy')\n",
    "\n",
    "epochs = 50 # 40\n",
    "\n",
    "history = model.fit(x=[encoder_input_train, decoder_input_train], y=decoder_target_train,\n",
    "          validation_data=([encoder_input_test, decoder_input_test], decoder_target_test),\n",
    "          batch_size=256, callbacks=[seq2seq_attention_checkpoint_cb], epochs=epochs)"
   ]
  },
  {
   "cell_type": "markdown",
   "id": "91ee41e1",
   "metadata": {},
   "source": [
    "### loss, val_loss 시각화"
   ]
  },
  {
   "cell_type": "code",
   "execution_count": 60,
   "id": "00d953ac",
   "metadata": {},
   "outputs": [
    {
     "data": {
      "image/png": "[encoded data removed]",
      "text/plain": [
       "<Figure size 432x288 with 1 Axes>"
      ]
     },
     "metadata": {
      "needs_background": "light"
     },
     "output_type": "display_data"
    }
   ],
   "source": [
    "plt.plot(history.history['loss'], label='train')\n",
    "plt.plot(history.history['val_loss'], label='test')\n",
    "plt.legend()\n",
    "plt.show()"
   ]
  },
  {
   "cell_type": "code",
   "execution_count": 61,
   "id": "a5020b73",
   "metadata": {},
   "outputs": [],
   "source": [
    "# 저장된 가장 좋은 모델 로드\n",
    "seq2seq_attention_best_model = tf.keras.models.load_model('seq2seq_attention_model.keras')"
   ]
  },
  {
   "cell_type": "markdown",
   "id": "7c5e3990",
   "metadata": {},
   "source": [
    "### 인퍼런스 모델 구현"
   ]
  },
  {
   "cell_type": "markdown",
   "id": "553bda27",
   "metadata": {},
   "source": [
    "- 테스트 단계에서는 정수 인덱스 행렬로 존재하던 텍스트 데이터를 실제 데이터로 복원해야 함\n",
    "- 필요한 3개의 사전을 아래와 같이 미리 준비"
   ]
  },
  {
   "cell_type": "code",
   "execution_count": 62,
   "id": "aed13a98",
   "metadata": {},
   "outputs": [],
   "source": [
    "src_index_to_word = src_tokenizer.index_word # 원문 단어 집합에서 정수 -> 단어를 얻음\n",
    "tar_word_to_index = tar_tokenizer.word_index # 요약 단어 집합에서 단어 -> 정수를 얻음\n",
    "tar_index_to_word = tar_tokenizer.index_word # 요약 단어 집합에서 정수 -> 단어를 얻음"
   ]
  },
  {
   "cell_type": "markdown",
   "id": "cfbb53dd",
   "metadata": {},
   "source": [
    "- 정답 문장이 없는 인퍼런스 단계에서는 만들어야 할 문장의 길이만큼 디코더가 반복 구조로 동작해야 하기 때문에 부득이하게 인퍼런스를 위한 별도의 모델 설계 필요함\n",
    "- 이때는 인코더 모델과 디코더 모델을 분리해서 설계"
   ]
  },
  {
   "cell_type": "code",
   "execution_count": 63,
   "id": "99717f2e",
   "metadata": {},
   "outputs": [],
   "source": [
    "# 인코더 설계\n",
    "# encoder_model = Model(inputs=encoder_inputs, outputs=[encoder_outputs, state_h, state_c])\n",
    "encoder_model = Model(inputs=encoder_inputs, outputs=[encoder_outputs, state_h3, state_c3])\n",
    "\n",
    "# 이전 시점의 상태들을 저장하는 텐서\n",
    "decoder_state_input_h = Input(shape=(hidden_size,))\n",
    "decoder_state_input_c = Input(shape=(hidden_size,))\n",
    "\n",
    "dec_emb2 = dec_emb_layer(decoder_inputs)\n",
    "\n",
    "# 문장의 다음 단어를 예측하기 위해서 초기 상태(initial_state)를 이전 시점의 상태로 사용. 이는 뒤의 함수 decode_sequence()에 구현\n",
    "# 훈련 과정에서와 달리 LSTM의 리턴하는 은닉 상태와 셀 상태인 state_h와 state_c를 버리지 않음.\n",
    "decoder_outputs2, state_h2, state_c2 = decoder_lstm(dec_emb2, initial_state=[decoder_state_input_h, decoder_state_input_c])"
   ]
  },
  {
   "cell_type": "code",
   "execution_count": 64,
   "id": "4ddb3129",
   "metadata": {},
   "outputs": [],
   "source": [
    "# 어텐션 함수\n",
    "decoder_hidden_state_input = Input(shape=(max_text_len, hidden_size))\n",
    "attn_out_inf = attn_layer([decoder_outputs2, decoder_hidden_state_input])\n",
    "decoder_inf_concat = Concatenate(axis=-1, name='concat')([decoder_outputs2, attn_out_inf])\n",
    "\n",
    "# 디코더의 출력층\n",
    "decoder_outputs2 = decoder_softmax_layer(decoder_inf_concat) \n",
    "\n",
    "# 최종 디코더 모델\n",
    "decoder_model = Model(\n",
    "    [decoder_inputs] + [decoder_hidden_state_input,decoder_state_input_h, decoder_state_input_c],\n",
    "    [decoder_outputs2] + [state_h2, state_c2])"
   ]
  },
  {
   "cell_type": "code",
   "execution_count": 65,
   "id": "e40c46ac",
   "metadata": {},
   "outputs": [],
   "source": [
    "def decode_sequence(input_seq):\n",
    "    # 입력으로부터 인코더의 상태를 얻음\n",
    "    e_out, e_h, e_c = encoder_model.predict(input_seq)\n",
    "\n",
    "     # <SOS>에 해당하는 토큰 생성\n",
    "    target_seq = np.zeros((1,1))\n",
    "    target_seq[0, 0] = tar_word_to_index['sostoken']\n",
    "\n",
    "    stop_condition = False\n",
    "    decoded_sentence = ''\n",
    "    while not stop_condition: # stop_condition이 True가 될 때까지 루프 반복\n",
    "\n",
    "        output_tokens, h, c = decoder_model.predict([target_seq] + [e_out, e_h, e_c])\n",
    "        sampled_token_index = np.argmax(output_tokens[0, -1, :])\n",
    "        sampled_token = tar_index_to_word[sampled_token_index]\n",
    "\n",
    "        if (sampled_token!='eostoken'):\n",
    "            decoded_sentence += ' '+sampled_token\n",
    "\n",
    "        #  <eos>에 도달하거나 최대 길이를 넘으면 중단.\n",
    "        if (sampled_token == 'eostoken'  or len(decoded_sentence.split()) >= (max_headlines_len-1)):\n",
    "            stop_condition = True\n",
    "\n",
    "        # 길이가 1인 타겟 시퀀스를 업데이트\n",
    "        target_seq = np.zeros((1,1))\n",
    "        target_seq[0, 0] = sampled_token_index\n",
    "\n",
    "        # 상태를 업데이트 합니다.\n",
    "        e_h, e_c = h, c\n",
    "\n",
    "    return decoded_sentence"
   ]
  },
  {
   "cell_type": "markdown",
   "id": "c657375b",
   "metadata": {},
   "source": [
    "### 모델 테스트하기"
   ]
  },
  {
   "cell_type": "code",
   "execution_count": 66,
   "id": "04ab6dc7",
   "metadata": {},
   "outputs": [],
   "source": [
    "# 원문의 정수 시퀀스를 텍스트 시퀀스로 변환\n",
    "def seq2text(input_seq):\n",
    "    temp=''\n",
    "    for i in input_seq:\n",
    "        if (i!=0):\n",
    "            temp = temp + src_index_to_word[i]+' '\n",
    "    return temp"
   ]
  },
  {
   "cell_type": "code",
   "execution_count": 67,
   "id": "498618e6",
   "metadata": {},
   "outputs": [],
   "source": [
    "# 요약문의 정수 시퀀스를 텍스트 시퀀스로 변환\n",
    "def seq2summary(input_seq):\n",
    "    temp = ''\n",
    "    for i in input_seq:\n",
    "        if (i == 0):  # 패딩 토큰은 무시합니다.\n",
    "            continue\n",
    "        if (i == tar_word_to_index['sostoken']):  # 시작 토큰은 무시합니다.\n",
    "            continue\n",
    "        if (i == tar_word_to_index['eostoken']):  # 종료 토큰에서 변환을 멈춥니다.\n",
    "            break\n",
    "        temp = temp + tar_index_to_word[i] + ' '\n",
    "    return temp.strip()  # 마지막 공백 제거"
   ]
  },
  {
   "cell_type": "markdown",
   "id": "116a06a8",
   "metadata": {},
   "source": [
    "### Step 4. 실제 결과와 요약문 비교하기 (추상적 요약)\n",
    "원래의 요약문(headlines 열)과 학습을 통해 얻은 추상적 요약의 결과를 비교해 보세요."
   ]
  },
  {
   "cell_type": "markdown",
   "id": "d0a38562",
   "metadata": {},
   "source": [
    "### 정량적 평가를 위한 BLEU 점수 계산 (nltk 사용)"
   ]
  },
  {
   "cell_type": "code",
   "execution_count": 116,
   "id": "4d75ec7f",
   "metadata": {},
   "outputs": [],
   "source": [
    "#!pip install bert-score"
   ]
  },
  {
   "cell_type": "code",
   "execution_count": 113,
   "id": "77548b3c",
   "metadata": {},
   "outputs": [],
   "source": [
    "from nltk.translate.bleu_score import sentence_bleu, SmoothingFunction\n",
    "from bert_score import score"
   ]
  },
  {
   "cell_type": "code",
   "execution_count": 115,
   "id": "bfb81c14",
   "metadata": {},
   "outputs": [
    {
     "name": "stderr",
     "output_type": "stream",
     "text": [
      "Some weights of the model checkpoint at roberta-large were not used when initializing RobertaModel: ['lm_head.layer_norm.bias', 'lm_head.dense.weight', 'lm_head.bias', 'lm_head.layer_norm.weight', 'lm_head.dense.bias', 'lm_head.decoder.weight']\n",
      "- This IS expected if you are initializing RobertaModel from the checkpoint of a model trained on another task or with another architecture (e.g. initializing a BertForSequenceClassification model from a BertForPreTraining model).\n",
      "- This IS NOT expected if you are initializing RobertaModel from the checkpoint of a model that you expect to be exactly identical (initializing a BertForSequenceClassification model from a BertForSequenceClassification model).\n"
     ]
    },
    {
     "name": "stdout",
     "output_type": "stream",
     "text": [
      "실제 headlines : delhi airport to get body scanner in 3rd trial run in years\n",
      "예측 요약 : delhi airport to get UNK UNK treatment\n",
      "BLEU Score : 0.20126703311713304\n",
      "BERTScore - Precision: 0.3119, Recall: 0.2941, F1: 0.3041\n",
      "\n",
      "\n"
     ]
    },
    {
     "name": "stderr",
     "output_type": "stream",
     "text": [
      "Some weights of the model checkpoint at roberta-large were not used when initializing RobertaModel: ['lm_head.layer_norm.bias', 'lm_head.dense.weight', 'lm_head.bias', 'lm_head.layer_norm.weight', 'lm_head.dense.bias', 'lm_head.decoder.weight']\n",
      "- This IS expected if you are initializing RobertaModel from the checkpoint of a model trained on another task or with another architecture (e.g. initializing a BertForSequenceClassification model from a BertForPreTraining model).\n",
      "- This IS NOT expected if you are initializing RobertaModel from the checkpoint of a model that you expect to be exactly identical (initializing a BertForSequenceClassification model from a BertForSequenceClassification model).\n"
     ]
    },
    {
     "name": "stdout",
     "output_type": "stream",
     "text": [
      "실제 headlines : iran offers to mediate between india pak over kashmir issue\n",
      "예측 요약 : iran UNK UNK UNK to pak it iran\n",
      "BLEU Score : 0.029313448501677924\n",
      "BERTScore - Precision: -0.1779, Recall: -0.1481, F1: -0.1612\n",
      "\n",
      "\n"
     ]
    },
    {
     "name": "stderr",
     "output_type": "stream",
     "text": [
      "Some weights of the model checkpoint at roberta-large were not used when initializing RobertaModel: ['lm_head.layer_norm.bias', 'lm_head.dense.weight', 'lm_head.bias', 'lm_head.layer_norm.weight', 'lm_head.dense.bias', 'lm_head.decoder.weight']\n",
      "- This IS expected if you are initializing RobertaModel from the checkpoint of a model trained on another task or with another architecture (e.g. initializing a BertForSequenceClassification model from a BertForPreTraining model).\n",
      "- This IS NOT expected if you are initializing RobertaModel from the checkpoint of a model that you expect to be exactly identical (initializing a BertForSequenceClassification model from a BertForSequenceClassification model).\n"
     ]
    },
    {
     "name": "stdout",
     "output_type": "stream",
     "text": [
      "실제 headlines : man faces ã¢ââ¹14 lakh fine for climbing everest without permit\n",
      "예측 요약 : south african south africa banned for over UNK\n",
      "BLEU Score : 0.0222734042410851\n",
      "BERTScore - Precision: -0.1231, Recall: -0.4550, F1: -0.2929\n",
      "\n",
      "\n"
     ]
    },
    {
     "name": "stderr",
     "output_type": "stream",
     "text": [
      "Some weights of the model checkpoint at roberta-large were not used when initializing RobertaModel: ['lm_head.layer_norm.bias', 'lm_head.dense.weight', 'lm_head.bias', 'lm_head.layer_norm.weight', 'lm_head.dense.bias', 'lm_head.decoder.weight']\n",
      "- This IS expected if you are initializing RobertaModel from the checkpoint of a model trained on another task or with another architecture (e.g. initializing a BertForSequenceClassification model from a BertForPreTraining model).\n",
      "- This IS NOT expected if you are initializing RobertaModel from the checkpoint of a model that you expect to be exactly identical (initializing a BertForSequenceClassification model from a BertForSequenceClassification model).\n"
     ]
    },
    {
     "name": "stdout",
     "output_type": "stream",
     "text": [
      "실제 headlines : pakistan lifts travel ban on asia UNK\n",
      "예측 요약 : pakistan is christian woman in law pakistan\n",
      "BLEU Score : 0.03235934848975789\n",
      "BERTScore - Precision: 0.1371, Recall: 0.0125, F1: 0.0755\n",
      "\n",
      "\n"
     ]
    },
    {
     "name": "stderr",
     "output_type": "stream",
     "text": [
      "Some weights of the model checkpoint at roberta-large were not used when initializing RobertaModel: ['lm_head.layer_norm.bias', 'lm_head.dense.weight', 'lm_head.bias', 'lm_head.layer_norm.weight', 'lm_head.dense.bias', 'lm_head.decoder.weight']\n",
      "- This IS expected if you are initializing RobertaModel from the checkpoint of a model trained on another task or with another architecture (e.g. initializing a BertForSequenceClassification model from a BertForPreTraining model).\n",
      "- This IS NOT expected if you are initializing RobertaModel from the checkpoint of a model that you expect to be exactly identical (initializing a BertForSequenceClassification model from a BertForSequenceClassification model).\n"
     ]
    },
    {
     "name": "stdout",
     "output_type": "stream",
     "text": [
      "실제 headlines : i think wonder woman would kick UNK a chris UNK\n",
      "예측 요약 : chris chris chris chris chris gayle chris chris chopra\n",
      "BLEU Score : 0.02302676613984314\n",
      "BERTScore - Precision: -0.0249, Recall: -0.1762, F1: -0.0999\n",
      "\n",
      "\n"
     ]
    },
    {
     "name": "stderr",
     "output_type": "stream",
     "text": [
      "Some weights of the model checkpoint at roberta-large were not used when initializing RobertaModel: ['lm_head.layer_norm.bias', 'lm_head.dense.weight', 'lm_head.bias', 'lm_head.layer_norm.weight', 'lm_head.dense.bias', 'lm_head.decoder.weight']\n",
      "- This IS expected if you are initializing RobertaModel from the checkpoint of a model trained on another task or with another architecture (e.g. initializing a BertForSequenceClassification model from a BertForPreTraining model).\n",
      "- This IS NOT expected if you are initializing RobertaModel from the checkpoint of a model that you expect to be exactly identical (initializing a BertForSequenceClassification model from a BertForSequenceClassification model).\n"
     ]
    },
    {
     "name": "stdout",
     "output_type": "stream",
     "text": [
      "실제 headlines : don't want to blow your mind but i'm pretty UNK musk\n",
      "예측 요약 : we don't want to make you feel like UNK elon musk\n",
      "BLEU Score : 0.13190955568171472\n",
      "BERTScore - Precision: 0.3386, Recall: 0.3501, F1: 0.3454\n",
      "\n",
      "\n"
     ]
    },
    {
     "name": "stderr",
     "output_type": "stream",
     "text": [
      "Some weights of the model checkpoint at roberta-large were not used when initializing RobertaModel: ['lm_head.layer_norm.bias', 'lm_head.dense.weight', 'lm_head.bias', 'lm_head.layer_norm.weight', 'lm_head.dense.bias', 'lm_head.decoder.weight']\n",
      "- This IS expected if you are initializing RobertaModel from the checkpoint of a model trained on another task or with another architecture (e.g. initializing a BertForSequenceClassification model from a BertForPreTraining model).\n",
      "- This IS NOT expected if you are initializing RobertaModel from the checkpoint of a model that you expect to be exactly identical (initializing a BertForSequenceClassification model from a BertForSequenceClassification model).\n"
     ]
    },
    {
     "name": "stdout",
     "output_type": "stream",
     "text": [
      "실제 headlines : menu of first indian restaurant in uk auctioned for ã¢ââ¹7 UNK\n",
      "예측 요약 : UNK UNK UNK UNK opens in uk for first time\n",
      "BLEU Score : 0.06479712906415719\n",
      "BERTScore - Precision: 0.0262, Recall: -0.2876, F1: -0.1340\n",
      "\n",
      "\n"
     ]
    },
    {
     "name": "stderr",
     "output_type": "stream",
     "text": [
      "Some weights of the model checkpoint at roberta-large were not used when initializing RobertaModel: ['lm_head.layer_norm.bias', 'lm_head.dense.weight', 'lm_head.bias', 'lm_head.layer_norm.weight', 'lm_head.dense.bias', 'lm_head.decoder.weight']\n",
      "- This IS expected if you are initializing RobertaModel from the checkpoint of a model trained on another task or with another architecture (e.g. initializing a BertForSequenceClassification model from a BertForPreTraining model).\n",
      "- This IS NOT expected if you are initializing RobertaModel from the checkpoint of a model that you expect to be exactly identical (initializing a BertForSequenceClassification model from a BertForSequenceClassification model).\n"
     ]
    },
    {
     "name": "stdout",
     "output_type": "stream",
     "text": [
      "실제 headlines : brexit french poll changed my view of europe angela merkel\n",
      "예측 요약 : german chancellor merkel could be german chancellor merkel\n",
      "BLEU Score : 0.0222734042410851\n",
      "BERTScore - Precision: 0.0839, Recall: -0.0082, F1: 0.0390\n",
      "\n",
      "\n"
     ]
    },
    {
     "name": "stderr",
     "output_type": "stream",
     "text": [
      "Some weights of the model checkpoint at roberta-large were not used when initializing RobertaModel: ['lm_head.layer_norm.bias', 'lm_head.dense.weight', 'lm_head.bias', 'lm_head.layer_norm.weight', 'lm_head.dense.bias', 'lm_head.decoder.weight']\n",
      "- This IS expected if you are initializing RobertaModel from the checkpoint of a model trained on another task or with another architecture (e.g. initializing a BertForSequenceClassification model from a BertForPreTraining model).\n",
      "- This IS NOT expected if you are initializing RobertaModel from the checkpoint of a model that you expect to be exactly identical (initializing a BertForSequenceClassification model from a BertForSequenceClassification model).\n"
     ]
    },
    {
     "name": "stdout",
     "output_type": "stream",
     "text": [
      "실제 headlines : reliance calls reports of listing jio UNK rumours\n",
      "예측 요약 : jio UNK merger is reports of UNK UNK\n",
      "BLEU Score : 0.10073051057692405\n",
      "BERTScore - Precision: 0.2485, Recall: 0.2089, F1: 0.2298\n",
      "\n",
      "\n"
     ]
    },
    {
     "name": "stderr",
     "output_type": "stream",
     "text": [
      "Some weights of the model checkpoint at roberta-large were not used when initializing RobertaModel: ['lm_head.layer_norm.bias', 'lm_head.dense.weight', 'lm_head.bias', 'lm_head.layer_norm.weight', 'lm_head.dense.bias', 'lm_head.decoder.weight']\n",
      "- This IS expected if you are initializing RobertaModel from the checkpoint of a model trained on another task or with another architecture (e.g. initializing a BertForSequenceClassification model from a BertForPreTraining model).\n",
      "- This IS NOT expected if you are initializing RobertaModel from the checkpoint of a model that you expect to be exactly identical (initializing a BertForSequenceClassification model from a BertForSequenceClassification model).\n"
     ]
    },
    {
     "name": "stdout",
     "output_type": "stream",
     "text": [
      "실제 headlines : saturn may have helped create jupiter's large UNK study\n",
      "예측 요약 : UNK to be UNK on earth as its own planet study\n",
      "BLEU Score : 0.02568481047180467\n",
      "BERTScore - Precision: 0.1247, Recall: 0.0626, F1: 0.0949\n",
      "\n",
      "\n"
     ]
    },
    {
     "name": "stderr",
     "output_type": "stream",
     "text": [
      "Some weights of the model checkpoint at roberta-large were not used when initializing RobertaModel: ['lm_head.layer_norm.bias', 'lm_head.dense.weight', 'lm_head.bias', 'lm_head.layer_norm.weight', 'lm_head.dense.bias', 'lm_head.decoder.weight']\n",
      "- This IS expected if you are initializing RobertaModel from the checkpoint of a model trained on another task or with another architecture (e.g. initializing a BertForSequenceClassification model from a BertForPreTraining model).\n",
      "- This IS NOT expected if you are initializing RobertaModel from the checkpoint of a model that you expect to be exactly identical (initializing a BertForSequenceClassification model from a BertForSequenceClassification model).\n"
     ]
    },
    {
     "name": "stdout",
     "output_type": "stream",
     "text": [
      "실제 headlines : dalit youth should join the army for UNK minister UNK\n",
      "예측 요약 : union minister seeks to make UNK UNK mandatory\n",
      "BLEU Score : 0.029313448501677924\n",
      "BERTScore - Precision: 0.2483, Recall: 0.0055, F1: 0.1254\n",
      "\n",
      "\n"
     ]
    },
    {
     "name": "stderr",
     "output_type": "stream",
     "text": [
      "Some weights of the model checkpoint at roberta-large were not used when initializing RobertaModel: ['lm_head.layer_norm.bias', 'lm_head.dense.weight', 'lm_head.bias', 'lm_head.layer_norm.weight', 'lm_head.dense.bias', 'lm_head.decoder.weight']\n",
      "- This IS expected if you are initializing RobertaModel from the checkpoint of a model trained on another task or with another architecture (e.g. initializing a BertForSequenceClassification model from a BertForPreTraining model).\n",
      "- This IS NOT expected if you are initializing RobertaModel from the checkpoint of a model that you expect to be exactly identical (initializing a BertForSequenceClassification model from a BertForSequenceClassification model).\n"
     ]
    },
    {
     "name": "stdout",
     "output_type": "stream",
     "text": [
      "실제 headlines : man on vacation mistaken for h'wood actor morgan UNK\n",
      "예측 요약 : man gets UNK UNK into house after he gets UNK\n",
      "BLEU Score : 0.027895820162122397\n",
      "BERTScore - Precision: 0.0565, Recall: -0.1432, F1: -0.0437\n",
      "\n",
      "\n"
     ]
    },
    {
     "name": "stderr",
     "output_type": "stream",
     "text": [
      "Some weights of the model checkpoint at roberta-large were not used when initializing RobertaModel: ['lm_head.layer_norm.bias', 'lm_head.dense.weight', 'lm_head.bias', 'lm_head.layer_norm.weight', 'lm_head.dense.bias', 'lm_head.decoder.weight']\n",
      "- This IS expected if you are initializing RobertaModel from the checkpoint of a model trained on another task or with another architecture (e.g. initializing a BertForSequenceClassification model from a BertForPreTraining model).\n",
      "- This IS NOT expected if you are initializing RobertaModel from the checkpoint of a model that you expect to be exactly identical (initializing a BertForSequenceClassification model from a BertForSequenceClassification model).\n"
     ]
    },
    {
     "name": "stdout",
     "output_type": "stream",
     "text": [
      "실제 headlines : bolt wins UNK UNK in his career's UNK race\n",
      "예측 요약 : bolt scores UNK UNK UNK in world c'ships\n",
      "BLEU Score : 0.16552841185194125\n",
      "BERTScore - Precision: 0.2433, Recall: 0.2830, F1: 0.2643\n",
      "\n",
      "\n"
     ]
    },
    {
     "name": "stderr",
     "output_type": "stream",
     "text": [
      "Some weights of the model checkpoint at roberta-large were not used when initializing RobertaModel: ['lm_head.layer_norm.bias', 'lm_head.dense.weight', 'lm_head.bias', 'lm_head.layer_norm.weight', 'lm_head.dense.bias', 'lm_head.decoder.weight']\n",
      "- This IS expected if you are initializing RobertaModel from the checkpoint of a model trained on another task or with another architecture (e.g. initializing a BertForSequenceClassification model from a BertForPreTraining model).\n",
      "- This IS NOT expected if you are initializing RobertaModel from the checkpoint of a model that you expect to be exactly identical (initializing a BertForSequenceClassification model from a BertForSequenceClassification model).\n"
     ]
    },
    {
     "name": "stdout",
     "output_type": "stream",
     "text": [
      "실제 headlines : nasa astronaut UNK to walk on earth after UNK days in space\n",
      "예측 요약 : nasa shares fall after moon UNK UNK UNK\n",
      "BLEU Score : 0.024531718725020534\n",
      "BERTScore - Precision: 0.1211, Recall: 0.0152, F1: 0.0691\n",
      "\n",
      "\n"
     ]
    },
    {
     "name": "stderr",
     "output_type": "stream",
     "text": [
      "Some weights of the model checkpoint at roberta-large were not used when initializing RobertaModel: ['lm_head.layer_norm.bias', 'lm_head.dense.weight', 'lm_head.bias', 'lm_head.layer_norm.weight', 'lm_head.dense.bias', 'lm_head.decoder.weight']\n",
      "- This IS expected if you are initializing RobertaModel from the checkpoint of a model trained on another task or with another architecture (e.g. initializing a BertForSequenceClassification model from a BertForPreTraining model).\n",
      "- This IS NOT expected if you are initializing RobertaModel from the checkpoint of a model that you expect to be exactly identical (initializing a BertForSequenceClassification model from a BertForSequenceClassification model).\n"
     ]
    },
    {
     "name": "stdout",
     "output_type": "stream",
     "text": [
      "실제 headlines : paes most successful doubles player in UNK cup of UNK\n",
      "예측 요약 : UNK wins world no 1 in world cup final world cup\n",
      "BLEU Score : 0.028424915360075714\n",
      "BERTScore - Precision: 0.1392, Recall: 0.1226, F1: 0.1323\n",
      "\n",
      "\n"
     ]
    },
    {
     "name": "stderr",
     "output_type": "stream",
     "text": [
      "Some weights of the model checkpoint at roberta-large were not used when initializing RobertaModel: ['lm_head.layer_norm.bias', 'lm_head.dense.weight', 'lm_head.bias', 'lm_head.layer_norm.weight', 'lm_head.dense.bias', 'lm_head.decoder.weight']\n",
      "- This IS expected if you are initializing RobertaModel from the checkpoint of a model trained on another task or with another architecture (e.g. initializing a BertForSequenceClassification model from a BertForPreTraining model).\n",
      "- This IS NOT expected if you are initializing RobertaModel from the checkpoint of a model that you expect to be exactly identical (initializing a BertForSequenceClassification model from a BertForSequenceClassification model).\n"
     ]
    },
    {
     "name": "stdout",
     "output_type": "stream",
     "text": [
      "실제 headlines : whatsapp allows UNK to operate outside law uk\n",
      "예측 요약 : UNK UNK to stop social media UNK\n",
      "BLEU Score : 0.07103125716740531\n",
      "BERTScore - Precision: 0.1699, Recall: 0.1348, F1: 0.1537\n",
      "\n",
      "\n"
     ]
    },
    {
     "name": "stderr",
     "output_type": "stream",
     "text": [
      "Some weights of the model checkpoint at roberta-large were not used when initializing RobertaModel: ['lm_head.layer_norm.bias', 'lm_head.dense.weight', 'lm_head.bias', 'lm_head.layer_norm.weight', 'lm_head.dense.bias', 'lm_head.decoder.weight']\n",
      "- This IS expected if you are initializing RobertaModel from the checkpoint of a model trained on another task or with another architecture (e.g. initializing a BertForSequenceClassification model from a BertForPreTraining model).\n",
      "- This IS NOT expected if you are initializing RobertaModel from the checkpoint of a model that you expect to be exactly identical (initializing a BertForSequenceClassification model from a BertForSequenceClassification model).\n"
     ]
    },
    {
     "name": "stdout",
     "output_type": "stream",
     "text": [
      "실제 headlines : 2 killed over fake whatsapp messages on child trafficking\n",
      "예측 요약 : 2 men killed in tamil nadu via whatsapp collision\n",
      "BLEU Score : 0.033866335496821456\n",
      "BERTScore - Precision: 0.0453, Recall: 0.2718, F1: 0.1574\n",
      "\n",
      "\n"
     ]
    },
    {
     "name": "stderr",
     "output_type": "stream",
     "text": [
      "Some weights of the model checkpoint at roberta-large were not used when initializing RobertaModel: ['lm_head.layer_norm.bias', 'lm_head.dense.weight', 'lm_head.bias', 'lm_head.layer_norm.weight', 'lm_head.dense.bias', 'lm_head.decoder.weight']\n",
      "- This IS expected if you are initializing RobertaModel from the checkpoint of a model trained on another task or with another architecture (e.g. initializing a BertForSequenceClassification model from a BertForPreTraining model).\n",
      "- This IS NOT expected if you are initializing RobertaModel from the checkpoint of a model that you expect to be exactly identical (initializing a BertForSequenceClassification model from a BertForSequenceClassification model).\n"
     ]
    },
    {
     "name": "stdout",
     "output_type": "stream",
     "text": [
      "실제 headlines : songs today just like one day cricket match UNK UNK\n",
      "예측 요약 : i played more UNK in the songs in all time rahman\n",
      "BLEU Score : 0.02568481047180467\n",
      "BERTScore - Precision: 0.0158, Recall: -0.0704, F1: -0.0260\n",
      "\n",
      "\n"
     ]
    },
    {
     "name": "stderr",
     "output_type": "stream",
     "text": [
      "Some weights of the model checkpoint at roberta-large were not used when initializing RobertaModel: ['lm_head.layer_norm.bias', 'lm_head.dense.weight', 'lm_head.bias', 'lm_head.layer_norm.weight', 'lm_head.dense.bias', 'lm_head.decoder.weight']\n",
      "- This IS expected if you are initializing RobertaModel from the checkpoint of a model trained on another task or with another architecture (e.g. initializing a BertForSequenceClassification model from a BertForPreTraining model).\n",
      "- This IS NOT expected if you are initializing RobertaModel from the checkpoint of a model that you expect to be exactly identical (initializing a BertForSequenceClassification model from a BertForSequenceClassification model).\n"
     ]
    },
    {
     "name": "stdout",
     "output_type": "stream",
     "text": [
      "실제 headlines : liquor firm UNK cuts ceo's pay by over ã¢ââ¹9 crore\n",
      "예측 요약 : UNK ordered to pay UNK UNK for UNK UNK\n",
      "BLEU Score : 0.027383594129005207\n",
      "BERTScore - Precision: 0.1557, Recall: -0.3975, F1: -0.1350\n",
      "\n",
      "\n"
     ]
    },
    {
     "name": "stderr",
     "output_type": "stream",
     "text": [
      "Some weights of the model checkpoint at roberta-large were not used when initializing RobertaModel: ['lm_head.layer_norm.bias', 'lm_head.dense.weight', 'lm_head.bias', 'lm_head.layer_norm.weight', 'lm_head.dense.bias', 'lm_head.decoder.weight']\n",
      "- This IS expected if you are initializing RobertaModel from the checkpoint of a model trained on another task or with another architecture (e.g. initializing a BertForSequenceClassification model from a BertForPreTraining model).\n",
      "- This IS NOT expected if you are initializing RobertaModel from the checkpoint of a model that you expect to be exactly identical (initializing a BertForSequenceClassification model from a BertForSequenceClassification model).\n"
     ]
    },
    {
     "name": "stdout",
     "output_type": "stream",
     "text": [
      "실제 headlines : coffee machine forces flight to make emergency landing\n",
      "예측 요약 : flight makes emergency landing after flight gets UNK\n",
      "BLEU Score : 0.07882588442342651\n",
      "BERTScore - Precision: 0.3742, Recall: 0.5320, F1: 0.4528\n",
      "\n",
      "\n"
     ]
    },
    {
     "name": "stderr",
     "output_type": "stream",
     "text": [
      "Some weights of the model checkpoint at roberta-large were not used when initializing RobertaModel: ['lm_head.layer_norm.bias', 'lm_head.dense.weight', 'lm_head.bias', 'lm_head.layer_norm.weight', 'lm_head.dense.bias', 'lm_head.decoder.weight']\n",
      "- This IS expected if you are initializing RobertaModel from the checkpoint of a model trained on another task or with another architecture (e.g. initializing a BertForSequenceClassification model from a BertForPreTraining model).\n",
      "- This IS NOT expected if you are initializing RobertaModel from the checkpoint of a model that you expect to be exactly identical (initializing a BertForSequenceClassification model from a BertForSequenceClassification model).\n"
     ]
    },
    {
     "name": "stdout",
     "output_type": "stream",
     "text": [
      "실제 headlines : scientists claim to find earliest evidence of life on earth\n",
      "예측 요약 : life life of life UNK UNK UNK\n",
      "BLEU Score : 0.05337837685989625\n",
      "BERTScore - Precision: -0.2810, Recall: -0.1930, F1: -0.2354\n",
      "\n",
      "\n"
     ]
    },
    {
     "name": "stderr",
     "output_type": "stream",
     "text": [
      "Some weights of the model checkpoint at roberta-large were not used when initializing RobertaModel: ['lm_head.layer_norm.bias', 'lm_head.dense.weight', 'lm_head.bias', 'lm_head.layer_norm.weight', 'lm_head.dense.bias', 'lm_head.decoder.weight']\n",
      "- This IS expected if you are initializing RobertaModel from the checkpoint of a model trained on another task or with another architecture (e.g. initializing a BertForSequenceClassification model from a BertForPreTraining model).\n",
      "- This IS NOT expected if you are initializing RobertaModel from the checkpoint of a model that you expect to be exactly identical (initializing a BertForSequenceClassification model from a BertForSequenceClassification model).\n"
     ]
    },
    {
     "name": "stdout",
     "output_type": "stream",
     "text": [
      "실제 headlines : school UNK car runs over students in telangana\n",
      "예측 요약 : school student killed as car runs in car in car accident\n",
      "BLEU Score : 0.061729293904138435\n",
      "BERTScore - Precision: 0.3463, Recall: -0.0092, F1: 0.1637\n",
      "\n",
      "\n"
     ]
    },
    {
     "name": "stderr",
     "output_type": "stream",
     "text": [
      "Some weights of the model checkpoint at roberta-large were not used when initializing RobertaModel: ['lm_head.layer_norm.bias', 'lm_head.dense.weight', 'lm_head.bias', 'lm_head.layer_norm.weight', 'lm_head.dense.bias', 'lm_head.decoder.weight']\n",
      "- This IS expected if you are initializing RobertaModel from the checkpoint of a model trained on another task or with another architecture (e.g. initializing a BertForSequenceClassification model from a BertForPreTraining model).\n",
      "- This IS NOT expected if you are initializing RobertaModel from the checkpoint of a model that you expect to be exactly identical (initializing a BertForSequenceClassification model from a BertForSequenceClassification model).\n"
     ]
    },
    {
     "name": "stdout",
     "output_type": "stream",
     "text": [
      "실제 headlines : isis UNK death toll in us UNK jumps to 90\n",
      "예측 요약 : isis UNK kills 9 11 attacks in afghanistan\n",
      "BLEU Score : 0.061389660515260625\n",
      "BERTScore - Precision: 0.1519, Recall: 0.2504, F1: 0.2020\n",
      "\n",
      "\n"
     ]
    },
    {
     "name": "stderr",
     "output_type": "stream",
     "text": [
      "Some weights of the model checkpoint at roberta-large were not used when initializing RobertaModel: ['lm_head.layer_norm.bias', 'lm_head.dense.weight', 'lm_head.bias', 'lm_head.layer_norm.weight', 'lm_head.dense.bias', 'lm_head.decoder.weight']\n",
      "- This IS expected if you are initializing RobertaModel from the checkpoint of a model trained on another task or with another architecture (e.g. initializing a BertForSequenceClassification model from a BertForPreTraining model).\n",
      "- This IS NOT expected if you are initializing RobertaModel from the checkpoint of a model that you expect to be exactly identical (initializing a BertForSequenceClassification model from a BertForSequenceClassification model).\n"
     ]
    },
    {
     "name": "stdout",
     "output_type": "stream",
     "text": [
      "실제 headlines : swiggy zomato to raise funds from same investor report\n",
      "예측 요약 : swiggy to raise 50 million to UNK report\n",
      "BLEU Score : 0.07475095167059852\n",
      "BERTScore - Precision: 0.2558, Recall: 0.2365, F1: 0.2473\n",
      "\n",
      "\n"
     ]
    },
    {
     "name": "stderr",
     "output_type": "stream",
     "text": [
      "Some weights of the model checkpoint at roberta-large were not used when initializing RobertaModel: ['lm_head.layer_norm.bias', 'lm_head.dense.weight', 'lm_head.bias', 'lm_head.layer_norm.weight', 'lm_head.dense.bias', 'lm_head.decoder.weight']\n",
      "- This IS expected if you are initializing RobertaModel from the checkpoint of a model trained on another task or with another architecture (e.g. initializing a BertForSequenceClassification model from a BertForPreTraining model).\n",
      "- This IS NOT expected if you are initializing RobertaModel from the checkpoint of a model that you expect to be exactly identical (initializing a BertForSequenceClassification model from a BertForSequenceClassification model).\n"
     ]
    },
    {
     "name": "stdout",
     "output_type": "stream",
     "text": [
      "실제 headlines : mumbai civic body to start door to door garbage collection\n",
      "예측 요약 : mumbai civic body to waste waste collection of waste\n",
      "BLEU Score : 0.2824099048856541\n",
      "BERTScore - Precision: 0.6448, Recall: 0.5421, F1: 0.5937\n",
      "\n",
      "\n"
     ]
    },
    {
     "name": "stderr",
     "output_type": "stream",
     "text": [
      "Some weights of the model checkpoint at roberta-large were not used when initializing RobertaModel: ['lm_head.layer_norm.bias', 'lm_head.dense.weight', 'lm_head.bias', 'lm_head.layer_norm.weight', 'lm_head.dense.bias', 'lm_head.decoder.weight']\n",
      "- This IS expected if you are initializing RobertaModel from the checkpoint of a model trained on another task or with another architecture (e.g. initializing a BertForSequenceClassification model from a BertForPreTraining model).\n",
      "- This IS NOT expected if you are initializing RobertaModel from the checkpoint of a model that you expect to be exactly identical (initializing a BertForSequenceClassification model from a BertForSequenceClassification model).\n"
     ]
    },
    {
     "name": "stdout",
     "output_type": "stream",
     "text": [
      "실제 headlines : fssai had UNK unauthorised UNK employees cag\n",
      "예측 요약 : mcdonald's told to be UNK UNK employees\n",
      "BLEU Score : 0.09068059995923879\n",
      "BERTScore - Precision: 0.1265, Recall: -0.0902, F1: 0.0174\n",
      "\n",
      "\n"
     ]
    },
    {
     "name": "stderr",
     "output_type": "stream",
     "text": [
      "Some weights of the model checkpoint at roberta-large were not used when initializing RobertaModel: ['lm_head.layer_norm.bias', 'lm_head.dense.weight', 'lm_head.bias', 'lm_head.layer_norm.weight', 'lm_head.dense.bias', 'lm_head.decoder.weight']\n",
      "- This IS expected if you are initializing RobertaModel from the checkpoint of a model trained on another task or with another architecture (e.g. initializing a BertForSequenceClassification model from a BertForPreTraining model).\n",
      "- This IS NOT expected if you are initializing RobertaModel from the checkpoint of a model that you expect to be exactly identical (initializing a BertForSequenceClassification model from a BertForSequenceClassification model).\n"
     ]
    },
    {
     "name": "stdout",
     "output_type": "stream",
     "text": [
      "실제 headlines : world's biggest x ray laser UNK first laser light\n",
      "예측 요약 : world's largest UNK UNK UNK made for the world's first time\n",
      "BLEU Score : 0.028424915360075714\n",
      "BERTScore - Precision: 0.2317, Recall: 0.1795, F1: 0.2068\n",
      "\n",
      "\n"
     ]
    },
    {
     "name": "stderr",
     "output_type": "stream",
     "text": [
      "Some weights of the model checkpoint at roberta-large were not used when initializing RobertaModel: ['lm_head.layer_norm.bias', 'lm_head.dense.weight', 'lm_head.bias', 'lm_head.layer_norm.weight', 'lm_head.dense.bias', 'lm_head.decoder.weight']\n",
      "- This IS expected if you are initializing RobertaModel from the checkpoint of a model trained on another task or with another architecture (e.g. initializing a BertForSequenceClassification model from a BertForPreTraining model).\n",
      "- This IS NOT expected if you are initializing RobertaModel from the checkpoint of a model that you expect to be exactly identical (initializing a BertForSequenceClassification model from a BertForSequenceClassification model).\n"
     ]
    },
    {
     "name": "stdout",
     "output_type": "stream",
     "text": [
      "실제 headlines : cong issues show cause notice to ex k'taka assembly speaker\n",
      "예측 요약 : cong leader files complaint against cong leaders over remarks\n",
      "BLEU Score : 0.02302676613984314\n",
      "BERTScore - Precision: 0.2278, Recall: 0.0716, F1: 0.1498\n",
      "\n",
      "\n"
     ]
    },
    {
     "name": "stderr",
     "output_type": "stream",
     "text": [
      "Some weights of the model checkpoint at roberta-large were not used when initializing RobertaModel: ['lm_head.layer_norm.bias', 'lm_head.dense.weight', 'lm_head.bias', 'lm_head.layer_norm.weight', 'lm_head.dense.bias', 'lm_head.decoder.weight']\n",
      "- This IS expected if you are initializing RobertaModel from the checkpoint of a model trained on another task or with another architecture (e.g. initializing a BertForSequenceClassification model from a BertForPreTraining model).\n",
      "- This IS NOT expected if you are initializing RobertaModel from the checkpoint of a model that you expect to be exactly identical (initializing a BertForSequenceClassification model from a BertForSequenceClassification model).\n"
     ]
    },
    {
     "name": "stdout",
     "output_type": "stream",
     "text": [
      "실제 headlines : apple app store developers earned 120 billion since 2008\n",
      "예측 요약 : apple store store earned more store in the store report\n",
      "BLEU Score : 0.03087179980863256\n",
      "BERTScore - Precision: 0.1432, Recall: 0.0821, F1: 0.1139\n",
      "\n",
      "\n"
     ]
    },
    {
     "name": "stderr",
     "output_type": "stream",
     "text": [
      "Some weights of the model checkpoint at roberta-large were not used when initializing RobertaModel: ['lm_head.layer_norm.bias', 'lm_head.dense.weight', 'lm_head.bias', 'lm_head.layer_norm.weight', 'lm_head.dense.bias', 'lm_head.decoder.weight']\n",
      "- This IS expected if you are initializing RobertaModel from the checkpoint of a model trained on another task or with another architecture (e.g. initializing a BertForSequenceClassification model from a BertForPreTraining model).\n",
      "- This IS NOT expected if you are initializing RobertaModel from the checkpoint of a model that you expect to be exactly identical (initializing a BertForSequenceClassification model from a BertForSequenceClassification model).\n"
     ]
    },
    {
     "name": "stdout",
     "output_type": "stream",
     "text": [
      "실제 headlines : yashwant sinha shatrughan back aap on mla disqualification\n",
      "예측 요약 : aap leader calls aap UNK UNK UNK UNK\n",
      "BLEU Score : 0.028599617161713803\n",
      "BERTScore - Precision: -0.2235, Recall: -0.3978, F1: -0.3102\n",
      "\n",
      "\n"
     ]
    },
    {
     "name": "stderr",
     "output_type": "stream",
     "text": [
      "Some weights of the model checkpoint at roberta-large were not used when initializing RobertaModel: ['lm_head.layer_norm.bias', 'lm_head.dense.weight', 'lm_head.bias', 'lm_head.layer_norm.weight', 'lm_head.dense.bias', 'lm_head.decoder.weight']\n",
      "- This IS expected if you are initializing RobertaModel from the checkpoint of a model trained on another task or with another architecture (e.g. initializing a BertForSequenceClassification model from a BertForPreTraining model).\n",
      "- This IS NOT expected if you are initializing RobertaModel from the checkpoint of a model that you expect to be exactly identical (initializing a BertForSequenceClassification model from a BertForSequenceClassification model).\n"
     ]
    },
    {
     "name": "stdout",
     "output_type": "stream",
     "text": [
      "실제 headlines : UNK scores maiden test ton england lead by 250 runs\n",
      "예측 요약 : england end UNK UNK after UNK runs\n",
      "BLEU Score : 0.027743029026610813\n",
      "BERTScore - Precision: -0.0939, Recall: -0.1579, F1: -0.1243\n",
      "\n",
      "\n"
     ]
    },
    {
     "name": "stderr",
     "output_type": "stream",
     "text": [
      "Some weights of the model checkpoint at roberta-large were not used when initializing RobertaModel: ['lm_head.layer_norm.bias', 'lm_head.dense.weight', 'lm_head.bias', 'lm_head.layer_norm.weight', 'lm_head.dense.bias', 'lm_head.decoder.weight']\n",
      "- This IS expected if you are initializing RobertaModel from the checkpoint of a model trained on another task or with another architecture (e.g. initializing a BertForSequenceClassification model from a BertForPreTraining model).\n",
      "- This IS NOT expected if you are initializing RobertaModel from the checkpoint of a model that you expect to be exactly identical (initializing a BertForSequenceClassification model from a BertForSequenceClassification model).\n"
     ]
    },
    {
     "name": "stdout",
     "output_type": "stream",
     "text": [
      "실제 headlines : pic shows UNK 000 troops to UNK in notes of us official\n",
      "예측 요약 : us UNK UNK UNK UNK with UNK UNK\n",
      "BLEU Score : 0.022829336647630066\n",
      "BERTScore - Precision: 0.0277, Recall: -0.0725, F1: -0.0213\n",
      "\n",
      "\n"
     ]
    },
    {
     "name": "stderr",
     "output_type": "stream",
     "text": [
      "Some weights of the model checkpoint at roberta-large were not used when initializing RobertaModel: ['lm_head.layer_norm.bias', 'lm_head.dense.weight', 'lm_head.bias', 'lm_head.layer_norm.weight', 'lm_head.dense.bias', 'lm_head.decoder.weight']\n",
      "- This IS expected if you are initializing RobertaModel from the checkpoint of a model trained on another task or with another architecture (e.g. initializing a BertForSequenceClassification model from a BertForPreTraining model).\n",
      "- This IS NOT expected if you are initializing RobertaModel from the checkpoint of a model that you expect to be exactly identical (initializing a BertForSequenceClassification model from a BertForSequenceClassification model).\n"
     ]
    },
    {
     "name": "stdout",
     "output_type": "stream",
     "text": [
      "실제 headlines : india end day 2 at 120 1 trail australia by UNK runs\n",
      "예측 요약 : UNK UNK dropped from india after being out of india\n",
      "BLEU Score : 0.022839165849062423\n",
      "BERTScore - Precision: 0.1473, Recall: -0.0085, F1: 0.0697\n",
      "\n",
      "\n"
     ]
    },
    {
     "name": "stderr",
     "output_type": "stream",
     "text": [
      "Some weights of the model checkpoint at roberta-large were not used when initializing RobertaModel: ['lm_head.layer_norm.bias', 'lm_head.dense.weight', 'lm_head.bias', 'lm_head.layer_norm.weight', 'lm_head.dense.bias', 'lm_head.decoder.weight']\n",
      "- This IS expected if you are initializing RobertaModel from the checkpoint of a model trained on another task or with another architecture (e.g. initializing a BertForSequenceClassification model from a BertForPreTraining model).\n",
      "- This IS NOT expected if you are initializing RobertaModel from the checkpoint of a model that you expect to be exactly identical (initializing a BertForSequenceClassification model from a BertForSequenceClassification model).\n"
     ]
    },
    {
     "name": "stdout",
     "output_type": "stream",
     "text": [
      "실제 headlines : won't have more than 2 kids says geeta phogat\n",
      "예측 요약 : phogat denies UNK of UNK girls' marriage\n",
      "BLEU Score : 0.024317315608763098\n",
      "BERTScore - Precision: -0.0272, Recall: 0.0057, F1: -0.0092\n",
      "\n",
      "\n"
     ]
    },
    {
     "name": "stderr",
     "output_type": "stream",
     "text": [
      "Some weights of the model checkpoint at roberta-large were not used when initializing RobertaModel: ['lm_head.layer_norm.bias', 'lm_head.dense.weight', 'lm_head.bias', 'lm_head.layer_norm.weight', 'lm_head.dense.bias', 'lm_head.decoder.weight']\n",
      "- This IS expected if you are initializing RobertaModel from the checkpoint of a model trained on another task or with another architecture (e.g. initializing a BertForSequenceClassification model from a BertForPreTraining model).\n",
      "- This IS NOT expected if you are initializing RobertaModel from the checkpoint of a model that you expect to be exactly identical (initializing a BertForSequenceClassification model from a BertForSequenceClassification model).\n"
     ]
    },
    {
     "name": "stdout",
     "output_type": "stream",
     "text": [
      "실제 headlines : sidhu announces UNK compensation to farmers from his pocket\n",
      "예측 요약 : sidhu khan to pay ã¢ââ¹1 lakh for UNK UNK\n",
      "BLEU Score : 0.033866335496821456\n",
      "BERTScore - Precision: -0.3906, Recall: 0.1769, F1: -0.1217\n",
      "\n",
      "\n"
     ]
    },
    {
     "name": "stderr",
     "output_type": "stream",
     "text": [
      "Some weights of the model checkpoint at roberta-large were not used when initializing RobertaModel: ['lm_head.layer_norm.bias', 'lm_head.dense.weight', 'lm_head.bias', 'lm_head.layer_norm.weight', 'lm_head.dense.bias', 'lm_head.decoder.weight']\n",
      "- This IS expected if you are initializing RobertaModel from the checkpoint of a model trained on another task or with another architecture (e.g. initializing a BertForSequenceClassification model from a BertForPreTraining model).\n",
      "- This IS NOT expected if you are initializing RobertaModel from the checkpoint of a model that you expect to be exactly identical (initializing a BertForSequenceClassification model from a BertForSequenceClassification model).\n"
     ]
    },
    {
     "name": "stdout",
     "output_type": "stream",
     "text": [
      "실제 headlines : jk rowling named europe's highest paid celebrity of 2017\n",
      "예측 요약 : harry potter UNK highest ever UNK of 2017 2017\n",
      "BLEU Score : 0.0699543285114998\n",
      "BERTScore - Precision: 0.0230, Recall: 0.0091, F1: 0.0176\n",
      "\n",
      "\n"
     ]
    },
    {
     "name": "stderr",
     "output_type": "stream",
     "text": [
      "Some weights of the model checkpoint at roberta-large were not used when initializing RobertaModel: ['lm_head.layer_norm.bias', 'lm_head.dense.weight', 'lm_head.bias', 'lm_head.layer_norm.weight', 'lm_head.dense.bias', 'lm_head.decoder.weight']\n",
      "- This IS expected if you are initializing RobertaModel from the checkpoint of a model trained on another task or with another architecture (e.g. initializing a BertForSequenceClassification model from a BertForPreTraining model).\n",
      "- This IS NOT expected if you are initializing RobertaModel from the checkpoint of a model that you expect to be exactly identical (initializing a BertForSequenceClassification model from a BertForSequenceClassification model).\n"
     ]
    },
    {
     "name": "stdout",
     "output_type": "stream",
     "text": [
      "실제 headlines : eden gardens named best venue and ground of ipl 2018\n",
      "예측 요약 : ganguly is the best UNK ganguly\n",
      "BLEU Score : 0.019301097505701307\n",
      "BERTScore - Precision: -0.1396, Recall: -0.1421, F1: -0.1390\n",
      "\n",
      "\n"
     ]
    },
    {
     "name": "stderr",
     "output_type": "stream",
     "text": [
      "Some weights of the model checkpoint at roberta-large were not used when initializing RobertaModel: ['lm_head.layer_norm.bias', 'lm_head.dense.weight', 'lm_head.bias', 'lm_head.layer_norm.weight', 'lm_head.dense.bias', 'lm_head.decoder.weight']\n",
      "- This IS expected if you are initializing RobertaModel from the checkpoint of a model trained on another task or with another architecture (e.g. initializing a BertForSequenceClassification model from a BertForPreTraining model).\n",
      "- This IS NOT expected if you are initializing RobertaModel from the checkpoint of a model that you expect to be exactly identical (initializing a BertForSequenceClassification model from a BertForSequenceClassification model).\n"
     ]
    },
    {
     "name": "stdout",
     "output_type": "stream",
     "text": [
      "실제 headlines : floating nuclear plant launched slammed as nuclear titanic\n",
      "예측 요약 : russia launches nuclear UNK for nuclear alert\n",
      "BLEU Score : 0.033359167130736105\n",
      "BERTScore - Precision: -0.0234, Recall: 0.1681, F1: 0.0720\n",
      "\n",
      "\n"
     ]
    },
    {
     "name": "stderr",
     "output_type": "stream",
     "text": [
      "Some weights of the model checkpoint at roberta-large were not used when initializing RobertaModel: ['lm_head.layer_norm.bias', 'lm_head.dense.weight', 'lm_head.bias', 'lm_head.layer_norm.weight', 'lm_head.dense.bias', 'lm_head.decoder.weight']\n",
      "- This IS expected if you are initializing RobertaModel from the checkpoint of a model trained on another task or with another architecture (e.g. initializing a BertForSequenceClassification model from a BertForPreTraining model).\n",
      "- This IS NOT expected if you are initializing RobertaModel from the checkpoint of a model that you expect to be exactly identical (initializing a BertForSequenceClassification model from a BertForSequenceClassification model).\n"
     ]
    },
    {
     "name": "stdout",
     "output_type": "stream",
     "text": [
      "실제 headlines : sc stays j k hc order on lifetime security to ex judges\n",
      "예측 요약 : sc asks j k to UNK UNK to UNK UNK\n",
      "BLEU Score : 0.055449650454634784\n",
      "BERTScore - Precision: -0.0972, Recall: 0.0120, F1: -0.0415\n",
      "\n",
      "\n"
     ]
    },
    {
     "name": "stderr",
     "output_type": "stream",
     "text": [
      "Some weights of the model checkpoint at roberta-large were not used when initializing RobertaModel: ['lm_head.layer_norm.bias', 'lm_head.dense.weight', 'lm_head.bias', 'lm_head.layer_norm.weight', 'lm_head.dense.bias', 'lm_head.decoder.weight']\n",
      "- This IS expected if you are initializing RobertaModel from the checkpoint of a model trained on another task or with another architecture (e.g. initializing a BertForSequenceClassification model from a BertForPreTraining model).\n",
      "- This IS NOT expected if you are initializing RobertaModel from the checkpoint of a model that you expect to be exactly identical (initializing a BertForSequenceClassification model from a BertForSequenceClassification model).\n"
     ]
    },
    {
     "name": "stdout",
     "output_type": "stream",
     "text": [
      "실제 headlines : why was google fined UNK crore by indian watchdog\n",
      "예측 요약 : google india google UNK UNK UNK on google\n",
      "BLEU Score : 0.03001448585400683\n",
      "BERTScore - Precision: -0.0216, Recall: -0.0103, F1: -0.0143\n",
      "\n",
      "\n"
     ]
    },
    {
     "name": "stderr",
     "output_type": "stream",
     "text": [
      "Some weights of the model checkpoint at roberta-large were not used when initializing RobertaModel: ['lm_head.layer_norm.bias', 'lm_head.dense.weight', 'lm_head.bias', 'lm_head.layer_norm.weight', 'lm_head.dense.bias', 'lm_head.decoder.weight']\n",
      "- This IS expected if you are initializing RobertaModel from the checkpoint of a model trained on another task or with another architecture (e.g. initializing a BertForSequenceClassification model from a BertForPreTraining model).\n",
      "- This IS NOT expected if you are initializing RobertaModel from the checkpoint of a model that you expect to be exactly identical (initializing a BertForSequenceClassification model from a BertForSequenceClassification model).\n"
     ]
    },
    {
     "name": "stdout",
     "output_type": "stream",
     "text": [
      "실제 headlines : my daughter jhanvi is a fan of deepika padukone juhi chawla\n",
      "예측 요약 : my daughter UNK me as much as my husband UNK\n",
      "BLEU Score : 0.05153126005286493\n",
      "BERTScore - Precision: 0.0660, Recall: -0.2817, F1: -0.1123\n",
      "\n",
      "\n"
     ]
    },
    {
     "name": "stderr",
     "output_type": "stream",
     "text": [
      "Some weights of the model checkpoint at roberta-large were not used when initializing RobertaModel: ['lm_head.layer_norm.bias', 'lm_head.dense.weight', 'lm_head.bias', 'lm_head.layer_norm.weight', 'lm_head.dense.bias', 'lm_head.decoder.weight']\n",
      "- This IS expected if you are initializing RobertaModel from the checkpoint of a model trained on another task or with another architecture (e.g. initializing a BertForSequenceClassification model from a BertForPreTraining model).\n",
      "- This IS NOT expected if you are initializing RobertaModel from the checkpoint of a model that you expect to be exactly identical (initializing a BertForSequenceClassification model from a BertForSequenceClassification model).\n"
     ]
    },
    {
     "name": "stdout",
     "output_type": "stream",
     "text": [
      "실제 headlines : hindu community is in anger vhp on alwar cow UNK case\n",
      "예측 요약 : cow UNK UNK in bulandshahr not hindu cow vigilantes\n",
      "BLEU Score : 0.06019208559595749\n",
      "BERTScore - Precision: -0.1305, Recall: 0.0362, F1: -0.0468\n",
      "\n",
      "\n"
     ]
    },
    {
     "name": "stderr",
     "output_type": "stream",
     "text": [
      "Some weights of the model checkpoint at roberta-large were not used when initializing RobertaModel: ['lm_head.layer_norm.bias', 'lm_head.dense.weight', 'lm_head.bias', 'lm_head.layer_norm.weight', 'lm_head.dense.bias', 'lm_head.decoder.weight']\n",
      "- This IS expected if you are initializing RobertaModel from the checkpoint of a model trained on another task or with another architecture (e.g. initializing a BertForSequenceClassification model from a BertForPreTraining model).\n",
      "- This IS NOT expected if you are initializing RobertaModel from the checkpoint of a model that you expect to be exactly identical (initializing a BertForSequenceClassification model from a BertForSequenceClassification model).\n"
     ]
    },
    {
     "name": "stdout",
     "output_type": "stream",
     "text": [
      "실제 headlines : 3 5 lakh gujarat college students to get UNK tablets at UNK\n",
      "예측 요약 : iit UNK to introduce UNK for UNK\n",
      "BLEU Score : 0.02084825635462658\n",
      "BERTScore - Precision: 0.2675, Recall: 0.0428, F1: 0.1540\n",
      "\n",
      "\n"
     ]
    },
    {
     "name": "stderr",
     "output_type": "stream",
     "text": [
      "Some weights of the model checkpoint at roberta-large were not used when initializing RobertaModel: ['lm_head.layer_norm.bias', 'lm_head.dense.weight', 'lm_head.bias', 'lm_head.layer_norm.weight', 'lm_head.dense.bias', 'lm_head.decoder.weight']\n",
      "- This IS expected if you are initializing RobertaModel from the checkpoint of a model trained on another task or with another architecture (e.g. initializing a BertForSequenceClassification model from a BertForPreTraining model).\n",
      "- This IS NOT expected if you are initializing RobertaModel from the checkpoint of a model that you expect to be exactly identical (initializing a BertForSequenceClassification model from a BertForSequenceClassification model).\n"
     ]
    },
    {
     "name": "stdout",
     "output_type": "stream",
     "text": [
      "실제 headlines : google earth adds 33 sites where game of thrones was shot\n",
      "예측 요약 : google UNK UNK UNK UNK UNK\n",
      "BLEU Score : 0.016338026308907974\n",
      "BERTScore - Precision: -0.3736, Recall: -0.2518, F1: -0.3114\n",
      "\n",
      "\n"
     ]
    },
    {
     "name": "stderr",
     "output_type": "stream",
     "text": [
      "Some weights of the model checkpoint at roberta-large were not used when initializing RobertaModel: ['lm_head.layer_norm.bias', 'lm_head.dense.weight', 'lm_head.bias', 'lm_head.layer_norm.weight', 'lm_head.dense.bias', 'lm_head.decoder.weight']\n",
      "- This IS expected if you are initializing RobertaModel from the checkpoint of a model trained on another task or with another architecture (e.g. initializing a BertForSequenceClassification model from a BertForPreTraining model).\n",
      "- This IS NOT expected if you are initializing RobertaModel from the checkpoint of a model that you expect to be exactly identical (initializing a BertForSequenceClassification model from a BertForSequenceClassification model).\n"
     ]
    },
    {
     "name": "stdout",
     "output_type": "stream",
     "text": [
      "실제 headlines : what is truth behind pic showing rathore serving food to athletes\n",
      "예측 요약 : sports minister gifts india kg to finish winners athletes\n",
      "BLEU Score : 0.024503916662321008\n",
      "BERTScore - Precision: 0.0717, Recall: -0.0098, F1: 0.0322\n",
      "\n",
      "\n"
     ]
    },
    {
     "name": "stderr",
     "output_type": "stream",
     "text": [
      "Some weights of the model checkpoint at roberta-large were not used when initializing RobertaModel: ['lm_head.layer_norm.bias', 'lm_head.dense.weight', 'lm_head.bias', 'lm_head.layer_norm.weight', 'lm_head.dense.bias', 'lm_head.decoder.weight']\n",
      "- This IS expected if you are initializing RobertaModel from the checkpoint of a model trained on another task or with another architecture (e.g. initializing a BertForSequenceClassification model from a BertForPreTraining model).\n",
      "- This IS NOT expected if you are initializing RobertaModel from the checkpoint of a model that you expect to be exactly identical (initializing a BertForSequenceClassification model from a BertForSequenceClassification model).\n"
     ]
    },
    {
     "name": "stdout",
     "output_type": "stream",
     "text": [
      "실제 headlines : us defeat belgium to win UNK world cup for third time\n",
      "예측 요약 : world cup winning world cup trophy UNK UNK\n",
      "BLEU Score : 0.05417618525543734\n",
      "BERTScore - Precision: 0.1980, Recall: -0.0032, F1: 0.0969\n",
      "\n",
      "\n"
     ]
    },
    {
     "name": "stderr",
     "output_type": "stream",
     "text": [
      "Some weights of the model checkpoint at roberta-large were not used when initializing RobertaModel: ['lm_head.layer_norm.bias', 'lm_head.dense.weight', 'lm_head.bias', 'lm_head.layer_norm.weight', 'lm_head.dense.bias', 'lm_head.decoder.weight']\n",
      "- This IS expected if you are initializing RobertaModel from the checkpoint of a model trained on another task or with another architecture (e.g. initializing a BertForSequenceClassification model from a BertForPreTraining model).\n",
      "- This IS NOT expected if you are initializing RobertaModel from the checkpoint of a model that you expect to be exactly identical (initializing a BertForSequenceClassification model from a BertForSequenceClassification model).\n"
     ]
    },
    {
     "name": "stdout",
     "output_type": "stream",
     "text": [
      "실제 headlines : congress single largest party in mp after 24 hours of counting\n",
      "예측 요약 : congress mp UNK UNK UNK UNK\n",
      "BLEU Score : 0.019429297131655008\n",
      "BERTScore - Precision: -0.3625, Recall: -0.1034, F1: -0.2345\n",
      "\n",
      "\n"
     ]
    },
    {
     "name": "stderr",
     "output_type": "stream",
     "text": [
      "Some weights of the model checkpoint at roberta-large were not used when initializing RobertaModel: ['lm_head.layer_norm.bias', 'lm_head.dense.weight', 'lm_head.bias', 'lm_head.layer_norm.weight', 'lm_head.dense.bias', 'lm_head.decoder.weight']\n",
      "- This IS expected if you are initializing RobertaModel from the checkpoint of a model trained on another task or with another architecture (e.g. initializing a BertForSequenceClassification model from a BertForPreTraining model).\n",
      "- This IS NOT expected if you are initializing RobertaModel from the checkpoint of a model that you expect to be exactly identical (initializing a BertForSequenceClassification model from a BertForSequenceClassification model).\n"
     ]
    },
    {
     "name": "stdout",
     "output_type": "stream",
     "text": [
      "실제 headlines : aliens might have lived twice on the moon claims study\n",
      "예측 요약 : UNK UNK may have impact of earth study\n",
      "BLEU Score : 0.026487690798830184\n",
      "BERTScore - Precision: 0.0341, Recall: 0.1393, F1: 0.0876\n",
      "\n",
      "\n"
     ]
    },
    {
     "name": "stderr",
     "output_type": "stream",
     "text": [
      "Some weights of the model checkpoint at roberta-large were not used when initializing RobertaModel: ['lm_head.layer_norm.bias', 'lm_head.dense.weight', 'lm_head.bias', 'lm_head.layer_norm.weight', 'lm_head.dense.bias', 'lm_head.decoder.weight']\n",
      "- This IS expected if you are initializing RobertaModel from the checkpoint of a model trained on another task or with another architecture (e.g. initializing a BertForSequenceClassification model from a BertForPreTraining model).\n",
      "- This IS NOT expected if you are initializing RobertaModel from the checkpoint of a model that you expect to be exactly identical (initializing a BertForSequenceClassification model from a BertForSequenceClassification model).\n"
     ]
    },
    {
     "name": "stdout",
     "output_type": "stream",
     "text": [
      "실제 headlines : russia unveils president putin's new UNK to public\n",
      "예측 요약 : putin releases new holiday UNK with UNK UNK UNK\n",
      "BLEU Score : 0.030601688609851067\n",
      "BERTScore - Precision: -0.0123, Recall: 0.0474, F1: 0.0190\n",
      "\n",
      "\n"
     ]
    },
    {
     "name": "stderr",
     "output_type": "stream",
     "text": [
      "Some weights of the model checkpoint at roberta-large were not used when initializing RobertaModel: ['lm_head.layer_norm.bias', 'lm_head.dense.weight', 'lm_head.bias', 'lm_head.layer_norm.weight', 'lm_head.dense.bias', 'lm_head.decoder.weight']\n",
      "- This IS expected if you are initializing RobertaModel from the checkpoint of a model trained on another task or with another architecture (e.g. initializing a BertForSequenceClassification model from a BertForPreTraining model).\n",
      "- This IS NOT expected if you are initializing RobertaModel from the checkpoint of a model that you expect to be exactly identical (initializing a BertForSequenceClassification model from a BertForSequenceClassification model).\n"
     ]
    },
    {
     "name": "stdout",
     "output_type": "stream",
     "text": [
      "실제 headlines : students at iit madras protest sanskrit song at event\n",
      "예측 요약 : du students protest in tamil song from singing UNK\n",
      "BLEU Score : 0.033866335496821456\n",
      "BERTScore - Precision: 0.2816, Recall: 0.1469, F1: 0.2147\n",
      "\n",
      "\n",
      "Average BLEU Score : 0.05158064294864552\n",
      "Average BERTScore - Precision : 0.07164786485955119\n",
      "Average BERTScore - Recall : 0.02043575150426477\n",
      "Average BERTScore - F1 : 0.04575144739821553\n"
     ]
    }
   ],
   "source": [
    "smoothie = SmoothingFunction().method4\n",
    "\n",
    "bleu_scores = []\n",
    "bertscore_precisions = []\n",
    "bertscore_recalls = []\n",
    "bertscore_fscores = []\n",
    "\n",
    "for i in range(0, 50):\n",
    "    reference = seq2summary(decoder_input_test[i]).split()\n",
    "    candidate = decode_sequence(encoder_input_test[i].reshape(1, max_text_len)).split()\n",
    "    \n",
    "    # BLEU Score Calculation\n",
    "    bleu_score = sentence_bleu([reference], candidate, smoothing_function=smoothie)\n",
    "    bleu_scores.append(bleu_score)\n",
    "    \n",
    "    # BERTScore Calculation\n",
    "    reference_str = ' '.join(reference)\n",
    "    candidate_str = ' '.join(candidate)\n",
    "    P, R, F1 = score([candidate_str], [reference_str], lang=\"en\", rescale_with_baseline=True)\n",
    "    bertscore_precisions.append(P.mean().item())\n",
    "    bertscore_recalls.append(R.mean().item())\n",
    "    bertscore_fscores.append(F1.mean().item())\n",
    "    \n",
    "    # Print results\n",
    "    # print(\"원문 :\", seq2text(encoder_input_test[i]))\n",
    "    print(\"실제 headlines :\", reference_str)\n",
    "    print(\"예측 요약 :\", candidate_str)\n",
    "    print(\"BLEU Score :\", bleu_score)\n",
    "    print(f\"BERTScore - Precision: {P.mean().item():.4f}, Recall: {R.mean().item():.4f}, F1: {F1.mean().item():.4f}\")\n",
    "    print(\"\\n\")\n",
    "\n",
    "# Print average scores\n",
    "print(\"Average BLEU Score :\", np.mean(bleu_scores))\n",
    "print(\"Average BERTScore - Precision :\", np.mean(bertscore_precisions))\n",
    "print(\"Average BERTScore - Recall :\", np.mean(bertscore_recalls))\n",
    "print(\"Average BERTScore - F1 :\", np.mean(bertscore_fscores))"
   ]
  },
  {
   "attachments": {},
   "cell_type": "markdown",
   "id": "879ff289",
   "metadata": {},
   "source": [
    "#### Average BLEU Score / BERTScore 추가\n",
    "\n",
    "- Average BLEU Score : 0.05158064294864552\n",
    "- Average BERTScore - Precision : 0.07164786485955119\n",
    "- Average BERTScore - Recall : 0.02043575150426477\n",
    "- Average BERTScore - F1 : 0.04575144739821553\n",
    "- 점수가 낮다"
   ]
  },
  {
   "cell_type": "markdown",
   "id": "15cde3d7",
   "metadata": {},
   "source": [
    "### Step 5. Summa을 이용해서 추출적 요약해보기\n",
    "추상적 요약은 추출적 요약과는 달리 문장의 표현력을 다양하게 가져갈 수 있지만, 추출적 요약에 비해서 난이도가 높아요. 반대로 말하면 추출적 요약은 추상적 요약에 비해 난이도가 낮고 기존 문장에서 문장을 꺼내오는 것이므로 잘못된 요약이 나올 가능성이 낮아요.\n",
    "\n",
    "Summa의 summarize를 사용하여 추출적 요약을 해보세요."
   ]
  },
  {
   "cell_type": "markdown",
   "id": "c686baf1",
   "metadata": {},
   "source": [
    "### summarize 사용하기\n",
    "---\n",
    "Summa의 summarize()의 인자\n",
    "\n",
    "> text (str) : 요약할 테스트.  \n",
    "ratio (float, optional) – 요약문에서 원본에서 선택되는 문장 비율. 0~1 사이값  \n",
    "words (int or None, optional) – 출력에 포함할 단어 수.  \n",
    "만약, ratio와 함께 두 파라미터가 모두 제공되는 경우 ratio는 무시한다.  \n",
    "split (bool, optional) – True면 문장 list / False는 조인(join)된 문자열을 반환  \n",
    "\n",
    "- Summa의 summarize는 문장 토큰화를 별도로 하지 않더라도 내부적으로 문장 토큰화를 수행\n",
    "- 문장 구분이 되어있지 않은 원문을 바로 입력으로 넣을 수 있음\n",
    "- 원문의 0.005%만을 출력하도록 설정"
   ]
  },
  {
   "cell_type": "code",
   "execution_count": 73,
   "id": "f5d46525",
   "metadata": {},
   "outputs": [],
   "source": [
    "import requests\n",
    "from summa.summarizer import summarize"
   ]
  },
  {
   "cell_type": "code",
   "execution_count": 121,
   "id": "7d1ea5d5",
   "metadata": {},
   "outputs": [
    {
     "name": "stdout",
     "output_type": "stream",
     "text": [
      "원문 : The Delhi airport will introduce a body scanner next month, as part of its third such trial run in years. Previous trials were unsuccessful as passengers had objected to X-ray images, and there were false alarms whenever women in sarees underwent the checks. Meanwhile, an official said, \"We have asked the manufacturer to tweak specifications as per the Indian standard.\" \n",
      "Headlines : Delhi airport to get body scanner in 3rd trial run in years\n",
      "추상적 요약 : delhi airport to get UNK UNK treatment\n",
      "추출적 요약 : The Delhi airport will introduce a body scanner next month, as part of its third such trial run in years.\n",
      "\n",
      "\n",
      "원문 : Iranian Ambassador to Pakistan Mehdi Honardoost has said that Iran is willing to mediate between Pakistan and India over the long-standing issue of Kashmir, if requested. Any conflict or tension between the two countries (Pakistan and India) will hinder the development of both the countries apart from impacting the economies of other regional countries, said Honardoost.\n",
      "Headlines : Iran offers to mediate between India, Pak over Kashmir issue\n",
      "추상적 요약 : iran UNK UNK UNK to pak it iran\n",
      "추출적 요약 : \n",
      "\n",
      "\n",
      "원문 : A South African national is facing a ban on climbing for five years in Nepal and a fine of $22,000 (over Ã¢ÂÂ¹14 lakh) after attempting to scale Mount Everest without paying the permit fee, officials said on Wednesday. Forty-three-year-old Ryan Sean Davy's passport has also been confiscated, an official added. Notably, foreigners are charged $11,000 to climb Mount Everest.\n",
      "Headlines : Man faces Ã¢ÂÂ¹14 lakh fine for climbing Everest without permit\n",
      "추상적 요약 : south african south africa banned for over UNK\n",
      "추출적 요약 : A South African national is facing a ban on climbing for five years in Nepal and a fine of $22,000 (over Ã¢ÂÂ¹14 lakh) after attempting to scale Mount Everest without paying the permit fee, officials said on Wednesday.\n",
      "\n",
      "\n",
      "원문 : Pakistan has said that Asia Bibi, the Christian woman acquitted of blasphemy, has the right to travel anywhere inside the country or abroad. This came after Pakistan's Supreme Court upheld her acquittal, rejecting a petition by hardline Islamists. Pakistan had barred Bibi from travelling abroad following a deal with the Islamists who had opposed her acquittal and demanded her execution.\n",
      "Headlines : Pakistan lifts travel ban on Asia Bibi\n",
      "추상적 요약 : pakistan is christian woman in law pakistan\n",
      "추출적 요약 : Pakistan had barred Bibi from travelling abroad following a deal with the Islamists who had opposed her acquittal and demanded her execution.\n",
      "\n",
      "\n",
      "원문 : Actor Chris Hemsworth, who portrays the character Thor in Marvel films, tweeted that Wonder Woman would kick Thor's a** if there was a battle between the two. Earlier, Gal Gadot, who portrays Wonder Woman had said in an interview, \"They ask me, who would win? Wonder Woman or Thor? And I think it's Wonder Woman. Don't you, Chris?\"n\n",
      "Headlines : I think Wonder Woman would kick Thor's a**: Chris Hemsworth\n",
      "추상적 요약 : chris chris chris chris chris gayle chris chris chopra\n",
      "추출적 요약 : Actor Chris Hemsworth, who portrays the character Thor in Marvel films, tweeted that Wonder Woman would kick Thor's a** if there was a battle between the two.\n",
      "Wonder Woman or Thor?\n",
      "\n",
      "\n",
      "원문 : Replying to a user who said Elon Musk dancing with musician Grimes is \"totally weird\", the billionaire said, \"Don't want to blow your mind, but I'm pretty weird. It's time the world knew.\" Earlier, Musk admitted he is dating Grimes after the two appeared at the Met Gala together. Interestingly, Grimes paired her Gala outfit with a Tesla symbol choker.\n",
      "Headlines : Don't want to blow your mind, but I'm pretty weird: Musk\n",
      "추상적 요약 : we don't want to make you feel like UNK elon musk\n",
      "추출적 요약 : It's time the world knew.\" Earlier, Musk admitted he is dating Grimes after the two appeared at the Met Gala together.\n",
      "\n",
      "\n",
      "원문 : The handwritten menu of the first Indian restaurant opened in the UK has been auctioned for nearly Ã¢ÂÂ¹7.6 lakh. The restaurant, Hindoostane Coffee House, was set up by Patna-born Sake Dean Mahomed at London's George Street in 1810. The menu comprised over 25 dishes, including pineapple pulao, lobster and chicken curries, assortment of breads, and chutneys.\n",
      "Headlines : Menu of first Indian restaurant in UK auctioned for Ã¢ÂÂ¹7.6L\n",
      "추상적 요약 : UNK UNK UNK UNK opens in uk for first time\n",
      "추출적 요약 : The handwritten menu of the first Indian restaurant opened in the UK has been auctioned for nearly Ã¢ÂÂ¹7.6 lakh.\n",
      "\n",
      "\n",
      "원문 : German Chancellor Angela Merkel has said UK's decision to leave the European Union and France's election of President Emmanuel Macron had changed her view on the bloc. Adding, \"We've realised Europe is more than just bureaucracy and economic regulation, and living together has to do something with war and peace,\" Merkel called the bloc's membership one of Germany's biggest strength.\n",
      "Headlines : Brexit, French poll changed my view of Europe: Angela Merkel\n",
      "추상적 요약 : german chancellor merkel could be german chancellor merkel\n",
      "추출적 요약 : \n",
      "\n",
      "\n",
      "원문 : Reliance Industries has termed reports of listing its telecom subsidiary Jio as speculative, ruling out such a possibility in the near future. A report had said the Mukesh Ambani-led firm is holding internal discussions for the IPO as soon as late 2018 or early 2019. \"We do not comment on media speculation and rumours,\" a Reliance spokesperson said.\n",
      "Headlines : Reliance calls reports of listing Jio speculative, rumours\n",
      "추상적 요약 : jio UNK merger is reports of UNK UNK\n",
      "추출적 요약 : \"We do not comment on media speculation and rumours,\" a Reliance spokesperson said.\n",
      "\n",
      "\n",
      "원문 : Based on computer simulations, a team of France and US-based researchers have suggested that Saturn may have played a role in the creation of Jupiter's large moons. The simulation showed that during planet formation Saturn disrupted material orbiting the Sun by moving close enough to Jupiter, which could have coalesced to form the four large moons that we see today.\n",
      "Headlines : Saturn may have helped create Jupiter's large moons: Study\n",
      "추상적 요약 : UNK to be UNK on earth as its own planet study\n",
      "추출적 요약 : \n",
      "\n",
      "\n",
      "원문 : Union Minister Ramdas Athawale on Sunday asked Dalit youths to join the Indian Army where they can get rum, instead of consuming country liquor while unemployed. Stressing on the need for reservation for Dalits in defence forces, Athawale said, \"Dalits are fighters. They can contribute (to) the nation if they join defence forces.\"\n",
      "Headlines : Dalit youth should join the Army for rum: Minister Athawale\n",
      "추상적 요약 : union minister seeks to make UNK UNK mandatory\n",
      "추출적 요약 : Stressing on the need for reservation for Dalits in defence forces, Athawale said, \"Dalits are fighters.\n",
      "\n",
      "\n",
      "원문 : A man named Norman, who was on a weekend trip at the Spanish holiday destination Magaluf, was mistaken for Hollywood actor Morgan Freeman. Many people shared selfies with him while writing about how they could not believe they met the Oscar-winning actor. Norman's nephew tweeted about the incident while sharing posts of people who believed his uncle was the actor.\n",
      "Headlines : Man on vacation mistaken for H'wood actor Morgan Freeman\n",
      "추상적 요약 : man gets UNK UNK into house after he gets UNK\n",
      "추출적 요약 : Norman's nephew tweeted about the incident while sharing posts of people who believed his uncle was the actor.\n",
      "\n",
      "\n",
      "원문 : Sprinter Usain Bolt, running in the penultimate race of his career, led Jamaica to the finals of the 4x100 metres relay at the World Championships on Saturday in London. Jamaica won the semi-final heats in 37.95 seconds, ahead of France (38.03) and China (38.20). Usain Bolt had won the bronze medal in his career's last 100-metre race on August 5.\n",
      "Headlines : Bolt wins 4x100m heats in his career's penultimate race\n",
      "추상적 요약 : bolt scores UNK UNK UNK in world c'ships\n",
      "추출적 요약 : Sprinter Usain Bolt, running in the penultimate race of his career, led Jamaica to the finals of the 4x100 metres relay at the World Championships on Saturday in London.\n",
      "\n",
      "\n",
      "원문 : NASA astronaut AJ (Drew) Feustel, who landed on Earth in October after spending 197 days in space, has shared a video of him struggling to walk on Earth. \"Welcome home #SoyuzMS09 ! On October 5th this is what I looked like walking heel-toe eyes closed after 197 days on @Space_Station during the Field Test experiment,\" Feustel tweeted.\n",
      "Headlines : NASA astronaut struggles to walk on Earth after 197 days in space\n",
      "추상적 요약 : nasa shares fall after moon UNK UNK UNK\n",
      "추출적 요약 : NASA astronaut AJ (Drew) Feustel, who landed on Earth in October after spending 197 days in space, has shared a video of him struggling to walk on Earth.\n",
      "\n",
      "\n"
     ]
    },
    {
     "name": "stdout",
     "output_type": "stream",
     "text": [
      "원문 : Indian tennis player Leander Paes set the record for the most number of doubles wins in Davis Cup, also known as the 'World Cup of Tennis', registering his 43rd win in the doubles rubber of the Asia/Oceania Group I tie. Paes teamed with Rohan Bopanna to beat China's doubles pair. India won 3-2 to advance to the World Group Play-offs.\n",
      "Headlines : Paes most successful doubles player in 'World Cup of Tennis'\n",
      "추상적 요약 : UNK wins world no 1 in world cup final world cup\n",
      "추출적 요약 : Indian tennis player Leander Paes set the record for the most number of doubles wins in Davis Cup, also known as the 'World Cup of Tennis', registering his 43rd win in the doubles rubber of the Asia/Oceania Group I tie.\n",
      "\n",
      "\n",
      "원문 : British Interior Minister Amber Rudd on Tuesday said that WhatsApp's end-to-end encryption communication services allowed paedophiles and other criminals to operate beyond the reach of the law. Adding that she wants the \"flawed\" technology to be changed, Rudd called on technology giants including Facebook, Google, Twitter and Microsoft to go further and faster to counter extremist material.\n",
      "Headlines : WhatsApp allows paedophiles to operate outside law: UK\n",
      "추상적 요약 : UNK UNK to stop social media UNK\n",
      "추출적 요약 : \n",
      "\n",
      "\n",
      "원문 : Two separate incidents of mob lynching took place in Tamil Nadu in one day due to false WhatsApp messages asking residents to beware of immigrants who kidnap children. On Wednesday, a mob beat a man to death and hung him to a bridge. In another incident, a 65-year-old woman was lynched after a mob attacked her and her four relatives. \n",
      "Headlines : 2 killed over fake WhatsApp messages on child trafficking\n",
      "추상적 요약 : 2 men killed in tamil nadu via whatsapp collision\n",
      "추출적 요약 : In another incident, a 65-year-old woman was lynched after a mob attacked her and her four relatives.\n",
      "\n",
      "\n",
      "원문 : Music composer-singer Bappi Lahiri has said that the songs these days are just like a one-day cricket match while the songs from the golden era were the test match. Bappi added, \"The lyrics which we had before we don't have that anymore...We are not going on wordings nowadays.\" He further said that people can't remember lyrics of songs today.\n",
      "Headlines : Songs today just like one-day cricket match: Bappi Lahiri\n",
      "추상적 요약 : i played more UNK in the songs in all time rahman\n",
      "추출적 요약 : \n",
      "\n",
      "\n",
      "원문 : Liquor firm Diageo has slashed part of the variable portion of CEO Ivan Menezes' compensation, reducing his pay for the last fiscal to ÃÂ£3.4 million (Ã¢ÂÂ¹28 crore) from ÃÂ£4.5 million (Ã¢ÂÂ¹37 crore) earlier. CFO Kathryn Mikells' variable pay was also reduced by half. This comes after UK PM Theresa May described discrepancy between compensation of managers and workers as 'irrational'.\n",
      "Headlines : Liquor firm Diageo cuts CEO's pay by over Ã¢ÂÂ¹9 crore\n",
      "추상적 요약 : UNK ordered to pay UNK UNK for UNK UNK\n",
      "추출적 요약 : Liquor firm Diageo has slashed part of the variable portion of CEO Ivan Menezes' compensation, reducing his pay for the last fiscal to ÃÂ£3.4 million (Ã¢ÂÂ¹28 crore) from ÃÂ£4.5 million (Ã¢ÂÂ¹37 crore) earlier.\n",
      "\n",
      "\n",
      "원문 : A Southwest Airlines flight was forced to make an emergency landing in United States' Florida after a suspicious smell was reported from the back of the plane. The cabin crew and passengers were taken off the plane, while the flight resumed after the cabin was checked. The smell was found to be coming from a coffee maker in the cabin. \n",
      "Headlines : Coffee machine forces flight to make emergency landing\n",
      "추상적 요약 : flight makes emergency landing after flight gets UNK\n",
      "추출적 요약 : The cabin crew and passengers were taken off the plane, while the flight resumed after the cabin was checked.\n",
      "\n",
      "\n",
      "원문 : Japan-based researchers have found carbon fragments in 3.95-billion-year-old rocks in Canada, claiming it to be the oldest-known life evidence on Earth. The team said it found same carbon isotope ratios seen in living organisms. The find is being scrutinised as some scientists believe, until 3.8 billion years ago, several space bodies crashed into Earth, making it difficult to create life.\n",
      "Headlines : Scientists claim to find earliest evidence of life on Earth\n",
      "추상적 요약 : life life of life UNK UNK UNK\n",
      "추출적 요약 : Japan-based researchers have found carbon fragments in 3.95-billion-year-old rocks in Canada, claiming it to be the oldest-known life evidence on Earth.\n",
      "\n",
      "\n",
      "원문 : A student was killed and two others were injured after their school principal's car ran over them in Telangana's Jadcherla town. \"The principal lost control of his vehicle while taking a U-turn...he drove his car into a group of children who were returning to their respective classes after morning prayers,\" police said. The principal has been taken into police custody.\n",
      "Headlines : School principal's car runs over students in Telangana\n",
      "추상적 요약 : school student killed as car runs in car in car accident\n",
      "추출적 요약 : \"The principal lost control of his vehicle while taking a U-turn...he drove his car into a group of children who were returning to their respective classes after morning prayers,\" police said.\n",
      "\n",
      "\n",
      "원문 : The number of Islamic State militants killed in United States' MOAB airstrike in Afghanistan has risen from 36 to 90, Afghan officials have said. MOAB, US' biggest non-nuclear bomb, also destroyed three underground tunnels used by ISIS militants. This was the first time the $16 million (Ã¢ÂÂ¹103 crore) GPS-guided MOAB, dubbed 'Mother Of All Bombs', was used in combat. \n",
      "Headlines : ISIS militants' death toll in US airstrike jumps to 90\n",
      "추상적 요약 : isis UNK kills 9 11 attacks in afghanistan\n",
      "추출적 요약 : MOAB, US' biggest non-nuclear bomb, also destroyed three underground tunnels used by ISIS militants.\n",
      "\n",
      "\n",
      "원문 : Online food delivery apps Swiggy and Zomato are reportedly in talks to raise funds from the same US-based investor Coatue Management. Swiggy may raise as much as $200 million while Zomato may raise anywhere between $200 million and $400 million. Earlier, reports suggested Swiggy was in talks to raise between $50-100 million from Coatue Management.\n",
      "Headlines : Swiggy, Zomato to raise funds from same investor: Report\n",
      "추상적 요약 : swiggy to raise 50 million to UNK report\n",
      "추출적 요약 : Earlier, reports suggested Swiggy was in talks to raise between $50-100 million from Coatue Management.\n",
      "\n",
      "\n",
      "원문 : The Brihanmumbai Municipal Corporation has announced plans to appoint contractors for door-to-door collection and disposal of dry waste in five wards including K West ward of Andheri West. This is being done to decentralize waste management as the BMC alone used to collect garbage until now. Ã¢ÂÂIf this method is successful, we will appoint contractors in all wards,Ã¢ÂÂ officials said.\n",
      "Headlines : Mumbai civic body to start door-to-door garbage collection\n",
      "추상적 요약 : mumbai civic body to waste waste collection of waste\n",
      "추출적 요약 : The Brihanmumbai Municipal Corporation has announced plans to appoint contractors for door-to-door collection and disposal of dry waste in five wards including K West ward of Andheri West.\n",
      "\n",
      "\n",
      "원문 : A CAG report has said that food safety regulator FSSAI has 261 unauthorised contractual employees who perform routine functions. It said this defeats the intention of appointing contractual employees who should perform specific tasks of defined duration. Of these, 51 were appointed in 2016 alone while 61 have been working for more than five years, the report added.\n",
      "Headlines : FSSAI had 261 unauthorised contractual employees: CAG\n",
      "추상적 요약 : mcdonald's told to be UNK UNK employees\n",
      "추출적 요약 : It said this defeats the intention of appointing contractual employees who should perform specific tasks of defined duration.\n",
      "\n",
      "\n",
      "원문 : Germany-based European XFEL, the biggest X-ray laser in the world has generated its first X-ray laser light. Electron pulses were accelerated to a near-light speed in an accelerator tunnel, which was converted using X-ray generating devices to produce lasers of one pulse per second. The 3.4-km-long underground facility is capable of generating 27,000 light flashes per second, said the researchers.\n",
      "Headlines : World's biggest X-ray laser generates first laser light\n",
      "추상적 요약 : world's largest UNK UNK UNK made for the world's first time\n",
      "추출적 요약 : Electron pulses were accelerated to a near-light speed in an accelerator tunnel, which was converted using X-ray generating devices to produce lasers of one pulse per second.\n",
      "\n",
      "\n"
     ]
    },
    {
     "name": "stdout",
     "output_type": "stream",
     "text": [
      "원문 : Karnataka Congress President Dinesh Gundu Rao has issued a show cause notice to former Assembly speaker KB Koliwad after he claimed certain Congress MLAs were the reason CM HD Kumaraswamy broke down in tears. The notice stated, \"This statement has caused immense embarrassment to the Congress...Expressing discontentment publicly through media is against the principles of the party.\" \n",
      "Headlines : Cong issues show cause notice to ex-K'taka Assembly Speaker\n",
      "추상적 요약 : cong leader files complaint against cong leaders over remarks\n",
      "추출적 요약 : \n",
      "\n",
      "\n",
      "원문 : Apple revealed its App Store developers have earned $120 billion since the launch of the App Store in 2008. It added developers earned over a quarter of the total earnings in the last year alone. \"App Store is the new digital main street, and creative developers are tapping into the vast potential of...global app economy,\" an Apple senior director said.\n",
      "Headlines :  Apple App Store developers earned $120 billion since 2008 \n",
      "추상적 요약 : apple store store earned more store in the store report\n",
      "추출적 요약 : Apple revealed its App Store developers have earned $120 billion since the launch of the App Store in 2008.\n",
      "\n",
      "\n",
      "원문 : Rebel BJP leaders Yashwant Sinha and Shatrughan Sinha have supported the Aam Aadmi Party (AAP) after 20 AAP MLAs were disqualified on Sunday. Terming the disqualification \"Tughluqshahi\", Yashwant Sinha tweeted, \"President's order disqualifying the 20 AAP MLAs is complete miscarriage of natural justice.\" \"Politics of vendetta or...vested interests just don't last long,\" wrote Shatrughan Sinha. \n",
      "Headlines : Yashwant Sinha, Shatrughan back AAP on MLA disqualification\n",
      "추상적 요약 : aap leader calls aap UNK UNK UNK UNK\n",
      "추출적 요약 : \n",
      "\n",
      "\n",
      "원문 : England ended Day 3 of the Lord's Test with a lead of 250 runs, after batsmen Jonny Bairstow and Chris Woakes added 189 runs for the sixth wicket. Woakes scored his maiden Test ton, ending the day at 120*(159), while Bairstow got dismissed for a 144-ball 93. Notably, Woakes in now on all three of the Lord's Honours Boards.\n",
      "Headlines : Woakes scores maiden Test ton, England lead by 250 runs\n",
      "추상적 요약 : england end UNK UNK after UNK runs\n",
      "추출적 요약 : England ended Day 3 of the Lord's Test with a lead of 250 runs, after batsmen Jonny Bairstow and Chris Woakes added 189 runs for the sixth wicket.\n",
      "\n",
      "\n",
      "원문 : US' National Security Advisor John Bolton was photographed with a notepad that had \"5,000 troops to Colombia\" written on it, as he talked to reporters about neighbouring Venezuela. \"As the President has said, all options are on the table,\" a White House spokesperson said when asked if the US would consider taking military option amid the political crisis in Venezuela.\n",
      "Headlines : Pic shows '5,000 troops to Colombia' in notes of US official\n",
      "추상적 요약 : us UNK UNK UNK UNK with UNK UNK\n",
      "추출적 요약 : \n",
      "\n",
      "\n",
      "원문 : India ended day two of the Ranchi Test at 120/1 driven by Lokesh Rahul's 67(102), trailing Australia by 331 runs. Earlier, Australia were dismissed for 451 with Ravindra Jadeja ending with figures of 5/124, his eighth five-wicket haul in Test cricket. Glenn Maxwell scored his maiden Test ton scoring 104(185) while Steve Smith remained unbeaten on 178(361).\n",
      "Headlines : India end Day 2 at 120/1, trail Australia by 331 runs\n",
      "추상적 요약 : UNK UNK dropped from india after being out of india\n",
      "추출적 요약 : India ended day two of the Ranchi Test at 120/1 driven by Lokesh Rahul's 67(102), trailing Australia by 331 runs.\n",
      "\n",
      "\n",
      "원문 : Wrestler Geeta Phogat, who is the eldest of four siblings, on Monday pledged not to have more than two children along with her husband, wrestler Pawan Kumar. Geeta took the pledge at an event to support the introduction of a law to check the country's growing population. The event was held on the eve of World Population Day.\n",
      "Headlines : Won't have more than 2 kids, says Geeta Phogat\n",
      "추상적 요약 : phogat denies UNK of UNK girls' marriage\n",
      "추출적 요약 : Geeta took the pledge at an event to support the introduction of a law to check the country's growing population.\n",
      "\n",
      "\n",
      "원문 : Punjab Minister Navjot Singh Sidhu on Sunday announced a compensation of Ã¢ÂÂ¹24 lakh to farmers in Amritsar district from his own pocket. The announcement comes after 300 acres of standing wheat crop was burnt to ashes due to a spark from overhead high tension electric wires. Sidhu also visited the village to express sympathy for the farmers.\n",
      "Headlines : Sidhu announces Ã¢ÂÂ¹24L compensation to farmers from his pocket\n",
      "추상적 요약 : sidhu khan to pay ã¢ââ¹1 lakh for UNK UNK\n",
      "추출적 요약 : Punjab Minister Navjot Singh Sidhu on Sunday announced a compensation of Ã¢ÂÂ¹24 lakh to farmers in Amritsar district from his own pocket.\n",
      "\n",
      "\n",
      "원문 : JK Rowling, the author of the Harry Potter series, has been named Europe's highest paid celebrity of 2017 by Forbes. Almost half of Rowling's $95 million earnings during a 12-month period came from her co-writing 'Harry Potter and the Cursed Child'. The second position on the list was taken by footballer Cristiano Ronaldo, who earned $93 million.\n",
      "Headlines : JK Rowling named Europe's highest-paid celebrity of 2017\n",
      "추상적 요약 : harry potter UNK highest ever UNK of 2017 2017\n",
      "추출적 요약 : Almost half of Rowling's $95 million earnings during a 12-month period came from her co-writing 'Harry Potter and the Cursed Child'.\n",
      "\n",
      "\n",
      "원문 : Former Indian captain and current Cricket Association of Bengal's head Sourav Ganguly revealed that Kolkata Knight Riders' home ground Eden Gardens was named IPL 2018's best venue and ground. \"The CAB takes this opportunity to thank all who have contributed to this success beginning with the ground staff, @bcci@icc\", Ganguly later tweeted.\n",
      "Headlines : Eden Gardens named best venue and ground of IPL 2018\n",
      "추상적 요약 : ganguly is the best UNK ganguly\n",
      "추출적 요약 : \n",
      "\n",
      "\n",
      "원문 : Russia has launched the world's only floating nuclear power unit into the Baltic Sea. The 70-megawatt vessel left its shipyard from St Petersburg towards the Arctic via a Russian town to load nuclear fuel. Environmental activists have slammed the move, calling it 'Nuclear Titanic' and 'Chernobyl on ice'. The US once used a floating nuclear plant in Panama from 1968-1975.\n",
      "Headlines : Floating nuclear plant launched, slammed as Nuclear Titanic\n",
      "추상적 요약 : russia launches nuclear UNK for nuclear alert\n",
      "추출적 요약 : The US once used a floating nuclear plant in Panama from 1968-1975.\n",
      "\n",
      "\n",
      "원문 : The Supreme Court has stayed Jammu and Kashmir High Court's order directing the state government to provide lifetime security to former judges, stating that it was erroneous. The state contended that security provision guidelines for VIPs have already been provided by Ministry of Home Affairs. It added that forming another set of guidelines would amount to \"usurpation of expert function\".\n",
      "Headlines : SC stays J&K HC order on lifetime security to ex-judges\n",
      "추상적 요약 : sc asks j k to UNK UNK to UNK UNK\n",
      "추출적 요약 : The state contended that security provision guidelines for VIPs have already been provided by Ministry of Home Affairs.\n",
      "\n",
      "\n",
      "원문 : The Competition Commission of India has found Google guilty of 'search bias' after complaints by Martrimony.com and Consumer Unity and Trust Society in 2012. Google was accused of manipulating the search algorithm to promote its own services. While the complaint was being probed, Facebook, Flipkart, and MakeMyTrip had also filed complaints about Google abusing its dominance in India.\n",
      "Headlines : Why was Google fined Ã¢ÂÂ¹136 crore by Indian watchdog?\n",
      "추상적 요약 : google india google UNK UNK UNK on google\n",
      "추출적 요약 : The Competition Commission of India has found Google guilty of 'search bias' after complaints by Martrimony.com and Consumer Unity and Trust Society in 2012.\n",
      "\n",
      "\n",
      "원문 : Actress Juhi Chawla has said that her daughter Jhanvi is a fan of Deepika Padukone while adding, \"Once the actor had come over and I think Jhanvi must have been quite in a daze.\" Juhi added that her daughter also likes watching Varun Dhawan's films. She further said that Jhanvi likes the personalities of both Deepika and Varun.\n",
      "Headlines : My daughter Jhanvi is a fan of Deepika Padukone: Juhi Chawla\n",
      "추상적 요약 : my daughter UNK me as much as my husband UNK\n",
      "추출적 요약 : \n",
      "\n",
      "\n",
      "원문 : Reacting to the assault on five men by cow vigilantes in Alwar, VHP leader Surendra Jain has said the Hindu community is angry and the assault was an expression of spontaneous anger. \"These people forget the 1857 freedom movement was based on the symbol of cow. Hindus will continue to be furious if their sentiments are hurt,\" he added.\n",
      "Headlines : Hindu community is in anger: VHP on Alwar cow vigilante case\n",
      "추상적 요약 : cow UNK UNK in bulandshahr not hindu cow vigilantes\n",
      "추출적 요약 : Reacting to the assault on five men by cow vigilantes in Alwar, VHP leader Surendra Jain has said the Hindu community is angry and the assault was an expression of spontaneous anger.\n",
      "\n",
      "\n"
     ]
    },
    {
     "name": "stdout",
     "output_type": "stream",
     "text": [
      "원문 : Around 3.5 lakh first year college students in Gujarat will receive 7-inch 'NAMO E-Tab' tablets at a subsidised rate under a state government scheme launched on Saturday. The tablets, which retail at a price of Ã¢ÂÂ¹8,000 each, will be available to students for Ã¢ÂÂ¹1,000 each. NAMO E-Tab is the acronym for 'New Avenues of Modern Education through Tablets.'\n",
      "Headlines : 3.5 lakh Gujarat college students to get NAMO tablets at Ã¢ÂÂ¹1k\n",
      "추상적 요약 : iit UNK to introduce UNK for UNK\n",
      "추출적 요약 : Around 3.5 lakh first year college students in Gujarat will receive 7-inch 'NAMO E-Tab' tablets at a subsidised rate under a state government scheme launched on Saturday.\n",
      "\n",
      "\n",
      "원문 : Google Earth has added 33 locations where key scenes of 'Game of Thrones' were filmed. The locations include a bullring in southern Spain which depicted the Arena of Meereen and Croatia's St Dominic Street where Cersei Lannister's walk of shame was shot. Doune Castle in Scotland, a part of which is shown as Winterfell, is also included in the locations. \n",
      "Headlines : Google Earth adds 33 sites where Game of Thrones was shot\n",
      "추상적 요약 : google UNK UNK UNK UNK UNK\n",
      "추출적 요약 : Doune Castle in Scotland, a part of which is shown as Winterfell, is also included in the locations.\n",
      "\n",
      "\n",
      "원문 : A picture appearing to show Indian Sports Minister Rajyavardhan Singh Rathore serving food to athletes in a tray in the dining area of Asian Games 2018 village had gone viral. However, Rathore was carrying his own food and only interacting with athletes before sitting at the table. A journalist shared a sequence of photos of the entire incident.\n",
      "Headlines : What is truth behind pic showing Rathore serving food to athletes?\n",
      "추상적 요약 : sports minister gifts india kg to finish winners athletes\n",
      "추출적 요약 : A picture appearing to show Indian Sports Minister Rajyavardhan Singh Rathore serving food to athletes in a tray in the dining area of Asian Games 2018 village had gone viral.\n",
      "\n",
      "\n",
      "원문 : The US defeated Belgium in the fourth Quidditch World Cup's final to clinch their third title. As many as 29 countries competed in the 2018 Quidditch World Cup, which is based on the game mentioned in JK Rowling's Harry Potter books. Two teams of seven players run around with broomsticks between their legs and engage in a full-contact contest. \n",
      "Headlines : US defeat Belgium to win Quidditch World Cup for third time\n",
      "추상적 요약 : world cup winning world cup trophy UNK UNK\n",
      "추출적 요약 : The US defeated Belgium in the fourth Quidditch World Cup's final to clinch their third title.\n",
      "\n",
      "\n",
      "원문 : Congress has emerged as the single largest party in Madhya Pradesh by securing 114 out of 230 seats as counting concluded after 24 hours on Wednesday morning. Bharatiya Janata Party (BJP) secured a total of 109 seats. Meanwhile, Samajwadi Party (SP) secured 1 seat, Bahujan Samaj Party (BSP) won 2 seats and Independents won 4 seats.\n",
      "Headlines : Congress single largest party in MP after 24 hours of counting\n",
      "추상적 요약 : congress mp UNK UNK UNK UNK\n",
      "추출적 요약 : Bharatiya Janata Party (BJP) secured a total of 109 seats.\n",
      "\n",
      "\n",
      "원문 : A study has claimed that aliens might have lived on the Moon twice, once 4 billion years ago and again 3.5 billion years ago. It suggests the Moon's surface was blasted by the same meteorites that brought life forms to the Earth. During these periods, the Moon spewed out hot gases including water vapour, which later formed liquid water.\n",
      "Headlines : Aliens might have lived twice on the Moon, claims study\n",
      "추상적 요약 : UNK UNK may have impact of earth study\n",
      "추출적 요약 : It suggests the Moon's surface was blasted by the same meteorites that brought life forms to the Earth.\n",
      "\n",
      "\n",
      "원문 : Russian President Vladimir Putin's new limousine was revealed to the public at the Moscow International Automobile Salon on Wednesday. The Aurus Senat limousine was first shown during Putin's inauguration ceremony in May. Industry Minister Denis Manturov, who took part in the unveiling, said contracts for commercial orders of Aurus cars would be signed from next month.\n",
      "Headlines : Russia unveils President Putin's new limousine to public\n",
      "추상적 요약 : putin releases new holiday UNK with UNK UNK UNK\n",
      "추출적 요약 : \n",
      "\n",
      "\n",
      "원문 : Students at IIT Madras have started protests over the recital of a Sanskrit song instead of a Tamil song that is traditionally played at government functions during an event at their campus. The students alleged it was an attempt to \"sanskritise the Dravidian culture\". However, the IIT authorities said the Sanskrit song was chosen by the students themselves. \n",
      "Headlines : Students at IIT Madras protest Sanskrit song at event\n",
      "추상적 요약 : du students protest in tamil song from singing UNK\n",
      "추출적 요약 : However, the IIT authorities said the Sanskrit song was chosen by the students themselves.\n",
      "\n",
      "\n"
     ]
    }
   ],
   "source": [
    "predicted_summaries = []\n",
    "extractive_summaries = []\n",
    "\n",
    "for idx in range(0, 50):\n",
    "    text = result_summarize_data_test['text'].iloc[idx]\n",
    "    head = result_summarize_data_test['headlines'].iloc[idx]\n",
    "    candidate = decode_sequence(encoder_input_test[idx].reshape(1, max_text_len)).split()\n",
    "    predicted_summaries.append(candidate)  # 예측 요약을 리스트로 저장\n",
    "    extractive_summary = summarize(text, ratio=0.4)\n",
    "    extractive_summaries.append(extractive_summary)\n",
    "    print(\"원문 :\", text)\n",
    "    print(\"Headlines :\", head)\n",
    "    print(\"추상적 요약 :\", ' '.join(candidate))\n",
    "    print(\"추출적 요약 :\", extractive_summary)\n",
    "    print(\"\\n\")\n",
    "    "
   ]
  },
  {
   "cell_type": "markdown",
   "id": "7837aeba",
   "metadata": {},
   "source": [
    "### 추출적 요약과 추상적 요약을 비교하는 Table 생성"
   ]
  },
  {
   "cell_type": "code",
   "execution_count": 122,
   "id": "11cc6584",
   "metadata": {},
   "outputs": [],
   "source": [
    "comparison_data = {\n",
    "    '추상적 요약': [' '.join(summary) for summary in predicted_summaries],\n",
    "    '추출적 요약': extractive_summaries\n",
    "}"
   ]
  },
  {
   "cell_type": "code",
   "execution_count": 123,
   "id": "9b369254",
   "metadata": {},
   "outputs": [],
   "source": [
    "comparison_df = pd.DataFrame(comparison_data)"
   ]
  },
  {
   "cell_type": "code",
   "execution_count": 124,
   "id": "c1c09c01",
   "metadata": {},
   "outputs": [
    {
     "data": {
      "text/html": [
       "<div>\n",
       "<style scoped>\n",
       "    .dataframe tbody tr th:only-of-type {\n",
       "        vertical-align: middle;\n",
       "    }\n",
       "\n",
       "    .dataframe tbody tr th {\n",
       "        vertical-align: top;\n",
       "    }\n",
       "\n",
       "    .dataframe thead th {\n",
       "        text-align: right;\n",
       "    }\n",
       "</style>\n",
       "<table border=\"1\" class=\"dataframe\">\n",
       "  <thead>\n",
       "    <tr style=\"text-align: right;\">\n",
       "      <th></th>\n",
       "      <th>추상적 요약</th>\n",
       "      <th>추출적 요약</th>\n",
       "    </tr>\n",
       "  </thead>\n",
       "  <tbody>\n",
       "    <tr>\n",
       "      <th>0</th>\n",
       "      <td>delhi airport to get UNK UNK treatment</td>\n",
       "      <td>The Delhi airport will introduce a body scanner next month, as part of its third such trial run in years.</td>\n",
       "    </tr>\n",
       "    <tr>\n",
       "      <th>1</th>\n",
       "      <td>iran UNK UNK UNK to pak it iran</td>\n",
       "      <td></td>\n",
       "    </tr>\n",
       "    <tr>\n",
       "      <th>2</th>\n",
       "      <td>south african south africa banned for over UNK</td>\n",
       "      <td>A South African national is facing a ban on climbing for five years in Nepal and a fine of $22,000 (over Ã¢ÂÂ¹14 lakh) after attempting to scale Mount Everest without paying the permit fee, officials said on Wednesday.</td>\n",
       "    </tr>\n",
       "    <tr>\n",
       "      <th>3</th>\n",
       "      <td>pakistan is christian woman in law pakistan</td>\n",
       "      <td>Pakistan had barred Bibi from travelling abroad following a deal with the Islamists who had opposed her acquittal and demanded her execution.</td>\n",
       "    </tr>\n",
       "    <tr>\n",
       "      <th>4</th>\n",
       "      <td>chris chris chris chris chris gayle chris chris chopra</td>\n",
       "      <td>Actor Chris Hemsworth, who portrays the character Thor in Marvel films, tweeted that Wonder Woman would kick Thor's a** if there was a battle between the two.\\nWonder Woman or Thor?</td>\n",
       "    </tr>\n",
       "    <tr>\n",
       "      <th>5</th>\n",
       "      <td>we don't want to make you feel like UNK elon musk</td>\n",
       "      <td>It's time the world knew.\" Earlier, Musk admitted he is dating Grimes after the two appeared at the Met Gala together.</td>\n",
       "    </tr>\n",
       "    <tr>\n",
       "      <th>6</th>\n",
       "      <td>UNK UNK UNK UNK opens in uk for first time</td>\n",
       "      <td>The handwritten menu of the first Indian restaurant opened in the UK has been auctioned for nearly Ã¢ÂÂ¹7.6 lakh.</td>\n",
       "    </tr>\n",
       "    <tr>\n",
       "      <th>7</th>\n",
       "      <td>german chancellor merkel could be german chancellor merkel</td>\n",
       "      <td></td>\n",
       "    </tr>\n",
       "    <tr>\n",
       "      <th>8</th>\n",
       "      <td>jio UNK merger is reports of UNK UNK</td>\n",
       "      <td>\"We do not comment on media speculation and rumours,\" a Reliance spokesperson said.</td>\n",
       "    </tr>\n",
       "    <tr>\n",
       "      <th>9</th>\n",
       "      <td>UNK to be UNK on earth as its own planet study</td>\n",
       "      <td></td>\n",
       "    </tr>\n",
       "    <tr>\n",
       "      <th>10</th>\n",
       "      <td>union minister seeks to make UNK UNK mandatory</td>\n",
       "      <td>Stressing on the need for reservation for Dalits in defence forces, Athawale said, \"Dalits are fighters.</td>\n",
       "    </tr>\n",
       "    <tr>\n",
       "      <th>11</th>\n",
       "      <td>man gets UNK UNK into house after he gets UNK</td>\n",
       "      <td>Norman's nephew tweeted about the incident while sharing posts of people who believed his uncle was the actor.</td>\n",
       "    </tr>\n",
       "    <tr>\n",
       "      <th>12</th>\n",
       "      <td>bolt scores UNK UNK UNK in world c'ships</td>\n",
       "      <td>Sprinter Usain Bolt, running in the penultimate race of his career, led Jamaica to the finals of the 4x100 metres relay at the World Championships on Saturday in London.</td>\n",
       "    </tr>\n",
       "    <tr>\n",
       "      <th>13</th>\n",
       "      <td>nasa shares fall after moon UNK UNK UNK</td>\n",
       "      <td>NASA astronaut AJ (Drew) Feustel, who landed on Earth in October after spending 197 days in space, has shared a video of him struggling to walk on Earth.</td>\n",
       "    </tr>\n",
       "    <tr>\n",
       "      <th>14</th>\n",
       "      <td>UNK wins world no 1 in world cup final world cup</td>\n",
       "      <td>Indian tennis player Leander Paes set the record for the most number of doubles wins in Davis Cup, also known as the 'World Cup of Tennis', registering his 43rd win in the doubles rubber of the Asia/Oceania Group I tie.</td>\n",
       "    </tr>\n",
       "    <tr>\n",
       "      <th>15</th>\n",
       "      <td>UNK UNK to stop social media UNK</td>\n",
       "      <td></td>\n",
       "    </tr>\n",
       "    <tr>\n",
       "      <th>16</th>\n",
       "      <td>2 men killed in tamil nadu via whatsapp collision</td>\n",
       "      <td>In another incident, a 65-year-old woman was lynched after a mob attacked her and her four relatives.</td>\n",
       "    </tr>\n",
       "    <tr>\n",
       "      <th>17</th>\n",
       "      <td>i played more UNK in the songs in all time rahman</td>\n",
       "      <td></td>\n",
       "    </tr>\n",
       "    <tr>\n",
       "      <th>18</th>\n",
       "      <td>UNK ordered to pay UNK UNK for UNK UNK</td>\n",
       "      <td>Liquor firm Diageo has slashed part of the variable portion of CEO Ivan Menezes' compensation, reducing his pay for the last fiscal to ÃÂ£3.4 million (Ã¢ÂÂ¹28 crore) from ÃÂ£4.5 million (Ã¢ÂÂ¹37 crore) earlier.</td>\n",
       "    </tr>\n",
       "    <tr>\n",
       "      <th>19</th>\n",
       "      <td>flight makes emergency landing after flight gets UNK</td>\n",
       "      <td>The cabin crew and passengers were taken off the plane, while the flight resumed after the cabin was checked.</td>\n",
       "    </tr>\n",
       "    <tr>\n",
       "      <th>20</th>\n",
       "      <td>life life of life UNK UNK UNK</td>\n",
       "      <td>Japan-based researchers have found carbon fragments in 3.95-billion-year-old rocks in Canada, claiming it to be the oldest-known life evidence on Earth.</td>\n",
       "    </tr>\n",
       "    <tr>\n",
       "      <th>21</th>\n",
       "      <td>school student killed as car runs in car in car accident</td>\n",
       "      <td>\"The principal lost control of his vehicle while taking a U-turn...he drove his car into a group of children who were returning to their respective classes after morning prayers,\" police said.</td>\n",
       "    </tr>\n",
       "    <tr>\n",
       "      <th>22</th>\n",
       "      <td>isis UNK kills 9 11 attacks in afghanistan</td>\n",
       "      <td>MOAB, US' biggest non-nuclear bomb, also destroyed three underground tunnels used by ISIS militants.</td>\n",
       "    </tr>\n",
       "    <tr>\n",
       "      <th>23</th>\n",
       "      <td>swiggy to raise 50 million to UNK report</td>\n",
       "      <td>Earlier, reports suggested Swiggy was in talks to raise between $50-100 million from Coatue Management.</td>\n",
       "    </tr>\n",
       "    <tr>\n",
       "      <th>24</th>\n",
       "      <td>mumbai civic body to waste waste collection of waste</td>\n",
       "      <td>The Brihanmumbai Municipal Corporation has announced plans to appoint contractors for door-to-door collection and disposal of dry waste in five wards including K West ward of Andheri West.</td>\n",
       "    </tr>\n",
       "    <tr>\n",
       "      <th>25</th>\n",
       "      <td>mcdonald's told to be UNK UNK employees</td>\n",
       "      <td>It said this defeats the intention of appointing contractual employees who should perform specific tasks of defined duration.</td>\n",
       "    </tr>\n",
       "    <tr>\n",
       "      <th>26</th>\n",
       "      <td>world's largest UNK UNK UNK made for the world's first time</td>\n",
       "      <td>Electron pulses were accelerated to a near-light speed in an accelerator tunnel, which was converted using X-ray generating devices to produce lasers of one pulse per second.</td>\n",
       "    </tr>\n",
       "    <tr>\n",
       "      <th>27</th>\n",
       "      <td>cong leader files complaint against cong leaders over remarks</td>\n",
       "      <td></td>\n",
       "    </tr>\n",
       "    <tr>\n",
       "      <th>28</th>\n",
       "      <td>apple store store earned more store in the store report</td>\n",
       "      <td>Apple revealed its App Store developers have earned $120 billion since the launch of the App Store in 2008.</td>\n",
       "    </tr>\n",
       "    <tr>\n",
       "      <th>29</th>\n",
       "      <td>aap leader calls aap UNK UNK UNK UNK</td>\n",
       "      <td></td>\n",
       "    </tr>\n",
       "    <tr>\n",
       "      <th>30</th>\n",
       "      <td>england end UNK UNK after UNK runs</td>\n",
       "      <td>England ended Day 3 of the Lord's Test with a lead of 250 runs, after batsmen Jonny Bairstow and Chris Woakes added 189 runs for the sixth wicket.</td>\n",
       "    </tr>\n",
       "    <tr>\n",
       "      <th>31</th>\n",
       "      <td>us UNK UNK UNK UNK with UNK UNK</td>\n",
       "      <td></td>\n",
       "    </tr>\n",
       "    <tr>\n",
       "      <th>32</th>\n",
       "      <td>UNK UNK dropped from india after being out of india</td>\n",
       "      <td>India ended day two of the Ranchi Test at 120/1 driven by Lokesh Rahul's 67(102), trailing Australia by 331 runs.</td>\n",
       "    </tr>\n",
       "    <tr>\n",
       "      <th>33</th>\n",
       "      <td>phogat denies UNK of UNK girls' marriage</td>\n",
       "      <td>Geeta took the pledge at an event to support the introduction of a law to check the country's growing population.</td>\n",
       "    </tr>\n",
       "    <tr>\n",
       "      <th>34</th>\n",
       "      <td>sidhu khan to pay ã¢ââ¹1 lakh for UNK UNK</td>\n",
       "      <td>Punjab Minister Navjot Singh Sidhu on Sunday announced a compensation of Ã¢ÂÂ¹24 lakh to farmers in Amritsar district from his own pocket.</td>\n",
       "    </tr>\n",
       "    <tr>\n",
       "      <th>35</th>\n",
       "      <td>harry potter UNK highest ever UNK of 2017 2017</td>\n",
       "      <td>Almost half of Rowling's $95 million earnings during a 12-month period came from her co-writing 'Harry Potter and the Cursed Child'.</td>\n",
       "    </tr>\n",
       "    <tr>\n",
       "      <th>36</th>\n",
       "      <td>ganguly is the best UNK ganguly</td>\n",
       "      <td></td>\n",
       "    </tr>\n",
       "    <tr>\n",
       "      <th>37</th>\n",
       "      <td>russia launches nuclear UNK for nuclear alert</td>\n",
       "      <td>The US once used a floating nuclear plant in Panama from 1968-1975.</td>\n",
       "    </tr>\n",
       "    <tr>\n",
       "      <th>38</th>\n",
       "      <td>sc asks j k to UNK UNK to UNK UNK</td>\n",
       "      <td>The state contended that security provision guidelines for VIPs have already been provided by Ministry of Home Affairs.</td>\n",
       "    </tr>\n",
       "    <tr>\n",
       "      <th>39</th>\n",
       "      <td>google india google UNK UNK UNK on google</td>\n",
       "      <td>The Competition Commission of India has found Google guilty of 'search bias' after complaints by Martrimony.com and Consumer Unity and Trust Society in 2012.</td>\n",
       "    </tr>\n",
       "    <tr>\n",
       "      <th>40</th>\n",
       "      <td>my daughter UNK me as much as my husband UNK</td>\n",
       "      <td></td>\n",
       "    </tr>\n",
       "    <tr>\n",
       "      <th>41</th>\n",
       "      <td>cow UNK UNK in bulandshahr not hindu cow vigilantes</td>\n",
       "      <td>Reacting to the assault on five men by cow vigilantes in Alwar, VHP leader Surendra Jain has said the Hindu community is angry and the assault was an expression of spontaneous anger.</td>\n",
       "    </tr>\n",
       "    <tr>\n",
       "      <th>42</th>\n",
       "      <td>iit UNK to introduce UNK for UNK</td>\n",
       "      <td>Around 3.5 lakh first year college students in Gujarat will receive 7-inch 'NAMO E-Tab' tablets at a subsidised rate under a state government scheme launched on Saturday.</td>\n",
       "    </tr>\n",
       "    <tr>\n",
       "      <th>43</th>\n",
       "      <td>google UNK UNK UNK UNK UNK</td>\n",
       "      <td>Doune Castle in Scotland, a part of which is shown as Winterfell, is also included in the locations.</td>\n",
       "    </tr>\n",
       "    <tr>\n",
       "      <th>44</th>\n",
       "      <td>sports minister gifts india kg to finish winners athletes</td>\n",
       "      <td>A picture appearing to show Indian Sports Minister Rajyavardhan Singh Rathore serving food to athletes in a tray in the dining area of Asian Games 2018 village had gone viral.</td>\n",
       "    </tr>\n",
       "    <tr>\n",
       "      <th>45</th>\n",
       "      <td>world cup winning world cup trophy UNK UNK</td>\n",
       "      <td>The US defeated Belgium in the fourth Quidditch World Cup's final to clinch their third title.</td>\n",
       "    </tr>\n",
       "    <tr>\n",
       "      <th>46</th>\n",
       "      <td>congress mp UNK UNK UNK UNK</td>\n",
       "      <td>Bharatiya Janata Party (BJP) secured a total of 109 seats.</td>\n",
       "    </tr>\n",
       "    <tr>\n",
       "      <th>47</th>\n",
       "      <td>UNK UNK may have impact of earth study</td>\n",
       "      <td>It suggests the Moon's surface was blasted by the same meteorites that brought life forms to the Earth.</td>\n",
       "    </tr>\n",
       "    <tr>\n",
       "      <th>48</th>\n",
       "      <td>putin releases new holiday UNK with UNK UNK UNK</td>\n",
       "      <td></td>\n",
       "    </tr>\n",
       "    <tr>\n",
       "      <th>49</th>\n",
       "      <td>du students protest in tamil song from singing UNK</td>\n",
       "      <td>However, the IIT authorities said the Sanskrit song was chosen by the students themselves.</td>\n",
       "    </tr>\n",
       "  </tbody>\n",
       "</table>\n",
       "</div>"
      ],
      "text/plain": [
       "                                                           추상적 요약  \\\n",
       "0                          delhi airport to get UNK UNK treatment   \n",
       "1                                 iran UNK UNK UNK to pak it iran   \n",
       "2                  south african south africa banned for over UNK   \n",
       "3                     pakistan is christian woman in law pakistan   \n",
       "4          chris chris chris chris chris gayle chris chris chopra   \n",
       "5               we don't want to make you feel like UNK elon musk   \n",
       "6                      UNK UNK UNK UNK opens in uk for first time   \n",
       "7      german chancellor merkel could be german chancellor merkel   \n",
       "8                            jio UNK merger is reports of UNK UNK   \n",
       "9                  UNK to be UNK on earth as its own planet study   \n",
       "10                 union minister seeks to make UNK UNK mandatory   \n",
       "11                  man gets UNK UNK into house after he gets UNK   \n",
       "12                       bolt scores UNK UNK UNK in world c'ships   \n",
       "13                        nasa shares fall after moon UNK UNK UNK   \n",
       "14               UNK wins world no 1 in world cup final world cup   \n",
       "15                               UNK UNK to stop social media UNK   \n",
       "16              2 men killed in tamil nadu via whatsapp collision   \n",
       "17              i played more UNK in the songs in all time rahman   \n",
       "18                         UNK ordered to pay UNK UNK for UNK UNK   \n",
       "19           flight makes emergency landing after flight gets UNK   \n",
       "20                                  life life of life UNK UNK UNK   \n",
       "21       school student killed as car runs in car in car accident   \n",
       "22                     isis UNK kills 9 11 attacks in afghanistan   \n",
       "23                       swiggy to raise 50 million to UNK report   \n",
       "24           mumbai civic body to waste waste collection of waste   \n",
       "25                        mcdonald's told to be UNK UNK employees   \n",
       "26    world's largest UNK UNK UNK made for the world's first time   \n",
       "27  cong leader files complaint against cong leaders over remarks   \n",
       "28        apple store store earned more store in the store report   \n",
       "29                           aap leader calls aap UNK UNK UNK UNK   \n",
       "30                             england end UNK UNK after UNK runs   \n",
       "31                                us UNK UNK UNK UNK with UNK UNK   \n",
       "32            UNK UNK dropped from india after being out of india   \n",
       "33                       phogat denies UNK of UNK girls' marriage   \n",
       "34                     sidhu khan to pay ã¢ââ¹1 lakh for UNK UNK   \n",
       "35                 harry potter UNK highest ever UNK of 2017 2017   \n",
       "36                                ganguly is the best UNK ganguly   \n",
       "37                  russia launches nuclear UNK for nuclear alert   \n",
       "38                              sc asks j k to UNK UNK to UNK UNK   \n",
       "39                      google india google UNK UNK UNK on google   \n",
       "40                   my daughter UNK me as much as my husband UNK   \n",
       "41            cow UNK UNK in bulandshahr not hindu cow vigilantes   \n",
       "42                               iit UNK to introduce UNK for UNK   \n",
       "43                                     google UNK UNK UNK UNK UNK   \n",
       "44      sports minister gifts india kg to finish winners athletes   \n",
       "45                     world cup winning world cup trophy UNK UNK   \n",
       "46                                    congress mp UNK UNK UNK UNK   \n",
       "47                         UNK UNK may have impact of earth study   \n",
       "48                putin releases new holiday UNK with UNK UNK UNK   \n",
       "49             du students protest in tamil song from singing UNK   \n",
       "\n",
       "                                                                                                                                                                                                                         추출적 요약  \n",
       "0                                                                                                                     The Delhi airport will introduce a body scanner next month, as part of its third such trial run in years.  \n",
       "1                                                                                                                                                                                                                                \n",
       "2   A South African national is facing a ban on climbing for five years in Nepal and a fine of $22,000 (over Ã¢ÂÂ¹14 lakh) after attempting to scale Mount Everest without paying the permit fee, officials said on Wednesday.  \n",
       "3                                                                                 Pakistan had barred Bibi from travelling abroad following a deal with the Islamists who had opposed her acquittal and demanded her execution.  \n",
       "4                                         Actor Chris Hemsworth, who portrays the character Thor in Marvel films, tweeted that Wonder Woman would kick Thor's a** if there was a battle between the two.\\nWonder Woman or Thor?  \n",
       "5                                                                                                        It's time the world knew.\" Earlier, Musk admitted he is dating Grimes after the two appeared at the Met Gala together.  \n",
       "6                                                                                                            The handwritten menu of the first Indian restaurant opened in the UK has been auctioned for nearly Ã¢ÂÂ¹7.6 lakh.  \n",
       "7                                                                                                                                                                                                                                \n",
       "8                                                                                                                                           \"We do not comment on media speculation and rumours,\" a Reliance spokesperson said.  \n",
       "9                                                                                                                                                                                                                                \n",
       "10                                                                                                                     Stressing on the need for reservation for Dalits in defence forces, Athawale said, \"Dalits are fighters.  \n",
       "11                                                                                                               Norman's nephew tweeted about the incident while sharing posts of people who believed his uncle was the actor.  \n",
       "12                                                    Sprinter Usain Bolt, running in the penultimate race of his career, led Jamaica to the finals of the 4x100 metres relay at the World Championships on Saturday in London.  \n",
       "13                                                                    NASA astronaut AJ (Drew) Feustel, who landed on Earth in October after spending 197 days in space, has shared a video of him struggling to walk on Earth.  \n",
       "14  Indian tennis player Leander Paes set the record for the most number of doubles wins in Davis Cup, also known as the 'World Cup of Tennis', registering his 43rd win in the doubles rubber of the Asia/Oceania Group I tie.  \n",
       "15                                                                                                                                                                                                                               \n",
       "16                                                                                                                        In another incident, a 65-year-old woman was lynched after a mob attacked her and her four relatives.  \n",
       "17                                                                                                                                                                                                                               \n",
       "18       Liquor firm Diageo has slashed part of the variable portion of CEO Ivan Menezes' compensation, reducing his pay for the last fiscal to ÃÂ£3.4 million (Ã¢ÂÂ¹28 crore) from ÃÂ£4.5 million (Ã¢ÂÂ¹37 crore) earlier.  \n",
       "19                                                                                                                The cabin crew and passengers were taken off the plane, while the flight resumed after the cabin was checked.  \n",
       "20                                                                     Japan-based researchers have found carbon fragments in 3.95-billion-year-old rocks in Canada, claiming it to be the oldest-known life evidence on Earth.  \n",
       "21                             \"The principal lost control of his vehicle while taking a U-turn...he drove his car into a group of children who were returning to their respective classes after morning prayers,\" police said.  \n",
       "22                                                                                                                         MOAB, US' biggest non-nuclear bomb, also destroyed three underground tunnels used by ISIS militants.  \n",
       "23                                                                                                                      Earlier, reports suggested Swiggy was in talks to raise between $50-100 million from Coatue Management.  \n",
       "24                                 The Brihanmumbai Municipal Corporation has announced plans to appoint contractors for door-to-door collection and disposal of dry waste in five wards including K West ward of Andheri West.  \n",
       "25                                                                                                It said this defeats the intention of appointing contractual employees who should perform specific tasks of defined duration.  \n",
       "26                                               Electron pulses were accelerated to a near-light speed in an accelerator tunnel, which was converted using X-ray generating devices to produce lasers of one pulse per second.  \n",
       "27                                                                                                                                                                                                                               \n",
       "28                                                                                                                  Apple revealed its App Store developers have earned $120 billion since the launch of the App Store in 2008.  \n",
       "29                                                                                                                                                                                                                               \n",
       "30                                                                           England ended Day 3 of the Lord's Test with a lead of 250 runs, after batsmen Jonny Bairstow and Chris Woakes added 189 runs for the sixth wicket.  \n",
       "31                                                                                                                                                                                                                               \n",
       "32                                                                                                            India ended day two of the Ranchi Test at 120/1 driven by Lokesh Rahul's 67(102), trailing Australia by 331 runs.  \n",
       "33                                                                                                            Geeta took the pledge at an event to support the introduction of a law to check the country's growing population.  \n",
       "34                                                                                  Punjab Minister Navjot Singh Sidhu on Sunday announced a compensation of Ã¢ÂÂ¹24 lakh to farmers in Amritsar district from his own pocket.  \n",
       "35                                                                                         Almost half of Rowling's $95 million earnings during a 12-month period came from her co-writing 'Harry Potter and the Cursed Child'.  \n",
       "36                                                                                                                                                                                                                               \n",
       "37                                                                                                                                                          The US once used a floating nuclear plant in Panama from 1968-1975.  \n",
       "38                                                                                                      The state contended that security provision guidelines for VIPs have already been provided by Ministry of Home Affairs.  \n",
       "39                                                                The Competition Commission of India has found Google guilty of 'search bias' after complaints by Martrimony.com and Consumer Unity and Trust Society in 2012.  \n",
       "40                                                                                                                                                                                                                               \n",
       "41                                       Reacting to the assault on five men by cow vigilantes in Alwar, VHP leader Surendra Jain has said the Hindu community is angry and the assault was an expression of spontaneous anger.  \n",
       "42                                                   Around 3.5 lakh first year college students in Gujarat will receive 7-inch 'NAMO E-Tab' tablets at a subsidised rate under a state government scheme launched on Saturday.  \n",
       "43                                                                                                                         Doune Castle in Scotland, a part of which is shown as Winterfell, is also included in the locations.  \n",
       "44                                              A picture appearing to show Indian Sports Minister Rajyavardhan Singh Rathore serving food to athletes in a tray in the dining area of Asian Games 2018 village had gone viral.  \n",
       "45                                                                                                                               The US defeated Belgium in the fourth Quidditch World Cup's final to clinch their third title.  \n",
       "46                                                                                                                                                                   Bharatiya Janata Party (BJP) secured a total of 109 seats.  \n",
       "47                                                                                                                      It suggests the Moon's surface was blasted by the same meteorites that brought life forms to the Earth.  \n",
       "48                                                                                                                                                                                                                               \n",
       "49                                                                                                                                   However, the IIT authorities said the Sanskrit song was chosen by the students themselves.  "
      ]
     },
     "execution_count": 124,
     "metadata": {},
     "output_type": "execute_result"
    }
   ],
   "source": [
    "comparison_df"
   ]
  },
  {
   "cell_type": "markdown",
   "id": "9813da4c",
   "metadata": {},
   "source": [
    "- seq2text(encoder_input_test[idx]) 를 이용하면 Extractive 요약이 생성이 되지 않아 indices 을 이용해서 result_summarize_data 를 인덱싱 하였음\n",
    "- 하지만 Extractive 요약과 Abstractive 요약의 index 가 맞지 않는다;;;\n",
    "    -> 디버깅 후 수정 완료"
   ]
  },
  {
   "cell_type": "markdown",
   "id": "065b7b4a",
   "metadata": {},
   "source": [
    "### 회고\n",
    "\n",
    "- 자연어 모델에 데이터를 넣기 까지 해야 할 일이 너무 많다\n",
    "- 튜토리얼 없이 처음 부터 끝까지 할 수 있을까?? 라는 의문이 생겼다.\n",
    "- 단어의 등장 빈도 수를 예제와 같이 7회 미만과 6회 미만으로 잡았는데 기준이 모호 했지만 통계 결과에서는 큰 문제가 없어 보였다.\n",
    "- BLEU Score 점수가 좋지 않았는데 모델이 문제인지 전처리 과정이 잘 못되었는지 혹은 모델 테스트 과정이 잘 못되었는지 확인이 필요 해 보인다.\n",
    "- seq2seq with Attenstion 모델에 대해 자세하게 학습 할 수 있어서 좋았다.\n",
    "-  Extractive 요약과 Abstractive 요약 table 을 만들기 위한 함수를 만들었는데 두개 index 가 맞지 않는다 이 부분 디버깅이 필요하다.\n",
    "\n",
    "### 디버깅 후 업데이트\n",
    "- index 문제 수정 완료함"
   ]
  },
  {
   "attachments": {
    "image.png": {
     "image/png": "[encoded data removed]"
    }
   },
   "cell_type": "markdown",
   "id": "8b26bc37",
   "metadata": {},
   "source": [
    "루브릭  \n",
    "\n",
    "아래의 기준을 바탕으로 프로젝트를 평가합니다.\n",
    "\n",
    "---\n",
    "\n",
    "![image.png](attachment:image.png)"
   ]
  },
  {
   "cell_type": "code",
   "execution_count": null,
   "id": "f5de406a",
   "metadata": {},
   "outputs": [],
   "source": []
  }
 ],
 "metadata": {
  "kernelspec": {
   "display_name": "Python 3 (ipykernel)",
   "language": "python",
   "name": "python3"
  },
  "language_info": {
   "codemirror_mode": {
    "name": "ipython",
    "version": 3
   },
   "file_extension": ".py",
   "mimetype": "text/x-python",
   "name": "python",
   "nbconvert_exporter": "python",
   "pygments_lexer": "ipython3",
   "version": "3.9.7"
  }
 },
 "nbformat": 4,
 "nbformat_minor": 5
}
