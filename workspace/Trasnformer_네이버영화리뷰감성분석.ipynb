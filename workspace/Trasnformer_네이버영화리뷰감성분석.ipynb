{
 "cells": [
  {
   "cell_type": "code",
   "execution_count": 1,
   "id": "0fbcb04c",
   "metadata": {},
   "outputs": [
    {
     "data": {
      "text/html": [
       "<div>\n",
       "<style scoped>\n",
       "    .dataframe tbody tr th:only-of-type {\n",
       "        vertical-align: middle;\n",
       "    }\n",
       "\n",
       "    .dataframe tbody tr th {\n",
       "        vertical-align: top;\n",
       "    }\n",
       "\n",
       "    .dataframe thead th {\n",
       "        text-align: right;\n",
       "    }\n",
       "</style>\n",
       "<table border=\"1\" class=\"dataframe\">\n",
       "  <thead>\n",
       "    <tr style=\"text-align: right;\">\n",
       "      <th></th>\n",
       "      <th>id</th>\n",
       "      <th>document</th>\n",
       "      <th>label</th>\n",
       "    </tr>\n",
       "  </thead>\n",
       "  <tbody>\n",
       "    <tr>\n",
       "      <th>0</th>\n",
       "      <td>9976970</td>\n",
       "      <td>아 더빙.. 진짜 짜증나네요 목소리</td>\n",
       "      <td>0</td>\n",
       "    </tr>\n",
       "    <tr>\n",
       "      <th>1</th>\n",
       "      <td>3819312</td>\n",
       "      <td>흠...포스터보고 초딩영화줄....오버연기조차 가볍지 않구나</td>\n",
       "      <td>1</td>\n",
       "    </tr>\n",
       "    <tr>\n",
       "      <th>2</th>\n",
       "      <td>10265843</td>\n",
       "      <td>너무재밓었다그래서보는것을추천한다</td>\n",
       "      <td>0</td>\n",
       "    </tr>\n",
       "    <tr>\n",
       "      <th>3</th>\n",
       "      <td>9045019</td>\n",
       "      <td>교도소 이야기구먼 ..솔직히 재미는 없다..평점 조정</td>\n",
       "      <td>0</td>\n",
       "    </tr>\n",
       "    <tr>\n",
       "      <th>4</th>\n",
       "      <td>6483659</td>\n",
       "      <td>사이몬페그의 익살스런 연기가 돋보였던 영화!스파이더맨에서 늙어보이기만 했던 커스틴 ...</td>\n",
       "      <td>1</td>\n",
       "    </tr>\n",
       "  </tbody>\n",
       "</table>\n",
       "</div>"
      ],
      "text/plain": [
       "         id                                           document  label\n",
       "0   9976970                                아 더빙.. 진짜 짜증나네요 목소리      0\n",
       "1   3819312                  흠...포스터보고 초딩영화줄....오버연기조차 가볍지 않구나      1\n",
       "2  10265843                                  너무재밓었다그래서보는것을추천한다      0\n",
       "3   9045019                      교도소 이야기구먼 ..솔직히 재미는 없다..평점 조정      0\n",
       "4   6483659  사이몬페그의 익살스런 연기가 돋보였던 영화!스파이더맨에서 늙어보이기만 했던 커스틴 ...      1"
      ]
     },
     "execution_count": 1,
     "metadata": {},
     "output_type": "execute_result"
    }
   ],
   "source": [
    "import pandas as pd\n",
    "\n",
    "# 데이터를 읽어봅시다. \n",
    "train_data = pd.read_table('~/aiffel/sentiment_classification/data/ratings_train.txt')\n",
    "test_data = pd.read_table('~/aiffel/sentiment_classification/data/ratings_test.txt')\n",
    "\n",
    "train_data.head()"
   ]
  },
  {
   "cell_type": "code",
   "execution_count": 2,
   "id": "19c08152",
   "metadata": {},
   "outputs": [],
   "source": [
    "import numpy as np\n",
    "import tensorflow as tf\n",
    "import os"
   ]
  },
  {
   "cell_type": "code",
   "execution_count": 3,
   "id": "72367673",
   "metadata": {},
   "outputs": [],
   "source": [
    "from konlpy.tag import Mecab\n",
    "import numpy as np\n",
    "from collections import Counter"
   ]
  },
  {
   "cell_type": "code",
   "execution_count": 4,
   "id": "ceec46e9",
   "metadata": {},
   "outputs": [],
   "source": [
    "# Mecab 토크나이저와 불용어 정의\n",
    "tokenizer = Mecab()\n",
    "stopwords = ['의','가','이','은','들','는','좀','잘','걍','과','도','를','으로','자','에','와','한','하다']"
   ]
  },
  {
   "cell_type": "code",
   "execution_count": 5,
   "id": "5dc4f47d",
   "metadata": {},
   "outputs": [],
   "source": [
    "# def load_data(train_data, test_data, num_words=10000):\n",
    "#     # 데이터 중복 제거 및 결측치 제거\n",
    "#     train_data.drop_duplicates(subset=['document'], inplace=True)  # 훈련 데이터의 중복된 텍스트 제거\n",
    "#     train_data = train_data.dropna(how='any')  # 훈련 데이터의 결측치 제거\n",
    "#     test_data.drop_duplicates(subset=['document'], inplace=True)  # 테스트 데이터의 중복된 텍스트 제거\n",
    "#     test_data = test_data.dropna(how='any')  # 테스트 데이터의 결측치 제거\n",
    "    \n",
    "#     # 훈련 데이터 토큰화 및 불용어 제거\n",
    "#     X_train = []\n",
    "#     for sentence in train_data['document']:\n",
    "#         temp_X = tokenizer.morphs(sentence)  # 텍스트를 형태소 단위로 토큰화\n",
    "#         temp_X = [word for word in temp_X if not word in stopwords]  # 불용어 제거\n",
    "#         X_train.append(temp_X)\n",
    "    \n",
    "#     # 테스트 데이터 토큰화 및 불용어 제거\n",
    "#     X_test = []\n",
    "#     for sentence in test_data['document']:\n",
    "#         temp_X = tokenizer.morphs(sentence)  # 텍스트를 형태소 단위로 토큰화\n",
    "#         temp_X = [word for word in temp_X if not word in stopwords]  # 불용어 제거\n",
    "#         X_test.append(temp_X)\n",
    "    \n",
    "#     # 단어 빈도수 계산 및 어휘 사전 생성\n",
    "#     words = np.concatenate(X_train).tolist()  # 훈련 데이터의 모든 단어를 하나의 리스트로 결합\n",
    "#     counter = Counter(words)  # 단어의 빈도수를 계산\n",
    "#     counter = counter.most_common(num_words - 4)  # 상위 (num_words - 4)개의 단어 추출\n",
    "#     # vocab = ['', '', '', ''] + [key for key, _ in counter]  # 어휘 사전 생성 (앞의 4개는 특수 토큰)\n",
    "#     vocab = ['<PAD>', '<BOS>', '<UNK>', '<UNUSED>'] + [key for key, _ in counter]  # 어휘 사전 생성 (앞의 4개는 특수 토큰)\n",
    "#     word_to_index = {word: index for index, word in enumerate(vocab)}  # 단어를 인덱스로 매핑\n",
    "    \n",
    "#     # 단어 리스트를 인덱스 리스트로 변환하는 함수 정의\n",
    "#     def wordlist_to_indexlist(wordlist):\n",
    "#         # '<PAD>', '<BOS>', '<UNK>', '<UNUSED>' 특수 토큰 정의\n",
    "#         return [word_to_index[word] if word in word_to_index else word_to_index['<UNK>'] for word in wordlist]\n",
    "    \n",
    "#     # 훈련 및 테스트 데이터를 인덱스 형태로 변환\n",
    "#     X_train = list(map(wordlist_to_indexlist, X_train))\n",
    "#     X_test = list(map(wordlist_to_indexlist, X_test))\n",
    "    \n",
    "#     return X_train, np.array(list(train_data['label'])), X_test, np.array(list(test_data['label'])), word_to_index"
   ]
  },
  {
   "cell_type": "code",
   "execution_count": 6,
   "id": "7990e0c0",
   "metadata": {},
   "outputs": [],
   "source": [
    "# def load_data(train_data, test_data, num_words=10000):\n",
    "#     # 데이터 중복 제거 및 결측치 제거\n",
    "#     train_data.drop_duplicates(subset=['document'], inplace=True)  # 훈련 데이터의 중복된 텍스트 제거\n",
    "#     train_data = train_data.dropna(subset=['document'])  # 훈련 데이터의 결측치 제거\n",
    "#     test_data.drop_duplicates(subset=['document'], inplace=True)  # 테스트 데이터의 중복된 텍스트 제거\n",
    "#     test_data = test_data.dropna(subset=['document'])  # 테스트 데이터의 결측치 제거\n",
    "    \n",
    "#     # 훈련 데이터 토큰화 및 불용어 제거\n",
    "#     X_train = []\n",
    "#     for sentence in train_data['document']:\n",
    "#         temp_X = tokenizer.morphs(sentence)  # 텍스트를 형태소 단위로 토큰화\n",
    "#         temp_X = [word for word in temp_X if not word in stopwords]  # 불용어 제거\n",
    "#         X_train.append(temp_X)\n",
    "    \n",
    "#     # 테스트 데이터 토큰화 및 불용어 제거\n",
    "#     X_test = []\n",
    "#     for sentence in test_data['document']:\n",
    "#         temp_X = tokenizer.morphs(sentence)  # 텍스트를 형태소 단위로 토큰화\n",
    "#         temp_X = [word for word in temp_X if not word in stopwords]  # 불용어 제거\n",
    "#         X_test.append(temp_X)\n",
    "    \n",
    "#     # 단어 빈도수 계산 및 어휘 사전 생성\n",
    "#     words = np.concatenate(X_train).tolist()  # 훈련 데이터의 모든 단어를 하나의 리스트로 결합\n",
    "#     counter = Counter(words)  # 단어의 빈도수를 계산\n",
    "#     counter = counter.most_common(num_words - 4)  # 상위 (num_words - 4)개의 단어 추출\n",
    "#     vocab = ['<PAD>', '<BOS>', '<UNK>', '<UNUSED>'] + [key for key, _ in counter]  # 어휘 사전 생성 (앞의 4개는 특수 토큰)\n",
    "#     word_to_index = {word: index for index, word in enumerate(vocab)}  # 단어를 인덱스로 매핑\n",
    "    \n",
    "#     # 단어 리스트를 인덱스 리스트로 변환하는 함수 정의\n",
    "#     def wordlist_to_indexlist(wordlist):\n",
    "#         return [word_to_index[word] if word in word_to_index else word_to_index['<UNK>'] for word in wordlist]\n",
    "    \n",
    "#     # 훈련 및 테스트 데이터를 인덱스 형태로 변환\n",
    "#     X_train = list(map(wordlist_to_indexlist, X_train))\n",
    "#     X_test = list(map(wordlist_to_indexlist, X_test))\n",
    "    \n",
    "#     return X_train, np.array(list(train_data['label'])), X_test, np.array(list(test_data['label'])), word_to_index"
   ]
  },
  {
   "cell_type": "code",
   "execution_count": 7,
   "id": "f03fb656",
   "metadata": {},
   "outputs": [],
   "source": [
    "# 중복 코드 제거를 위해 훈련 및 테스트 데이터 토큰화와 불용어 제거 작업을 함수로 정의\n",
    "def tokenize_and_remove_stopwords(sentences, tokenizer, stopwords):\n",
    "    processed_data = []\n",
    "    for sentence in sentences:\n",
    "        temp_X = tokenizer.morphs(sentence)  # 텍스트를 형태소 단위로 토큰화\n",
    "        temp_X = [word for word in temp_X if word not in stopwords]  # 불용어 제거\n",
    "        processed_data.append(temp_X)\n",
    "    return processed_data\n",
    "\n",
    "# 수정된 load_data 함수\n",
    "def load_data(train_data, test_data, num_words=20000):\n",
    "    # 데이터 중복 제거 및 결측치 제거\n",
    "    train_data.drop_duplicates(subset=['document'], inplace=True)\n",
    "    train_data = train_data.dropna(subset=['document'])\n",
    "    test_data.drop_duplicates(subset=['document'], inplace=True)\n",
    "    test_data = test_data.dropna(subset=['document'])\n",
    "    \n",
    "    # 훈련 및 테스트 데이터 토큰화와 불용어 제거\n",
    "    X_train = tokenize_and_remove_stopwords(train_data['document'], tokenizer, stopwords)\n",
    "    X_test = tokenize_and_remove_stopwords(test_data['document'], tokenizer, stopwords)\n",
    "    \n",
    "    # 단어 빈도수 계산 및 어휘 사전 생성\n",
    "    words = np.concatenate(X_train).tolist()\n",
    "    counter = Counter(words)\n",
    "    counter = counter.most_common(num_words - 4)\n",
    "    vocab = ['<PAD>', '<BOS>', '<UNK>', '<UNUSED>'] + [key for key, _ in counter]\n",
    "    word_to_index = {word: index for index, word in enumerate(vocab)}\n",
    "    \n",
    "    # 단어 리스트를 인덱스 리스트로 변환하는 함수 정의\n",
    "    def wordlist_to_indexlist(wordlist):\n",
    "        return [word_to_index[word] if word in word_to_index else word_to_index['<UNK>'] for word in wordlist]\n",
    "    \n",
    "    # 훈련 및 테스트 데이터를 인덱스 형태로 변환\n",
    "    X_train = list(map(wordlist_to_indexlist, X_train))\n",
    "    X_test = list(map(wordlist_to_indexlist, X_test))\n",
    "    \n",
    "    return X_train, np.array(list(train_data['label'])), X_test, np.array(list(test_data['label'])), word_to_index"
   ]
  },
  {
   "cell_type": "code",
   "execution_count": 8,
   "id": "59535798",
   "metadata": {},
   "outputs": [],
   "source": [
    "# 데이터 로더 호출\n",
    "X_train, y_train, X_test, y_test, word_to_index = load_data(train_data, test_data)"
   ]
  },
  {
   "cell_type": "code",
   "execution_count": 9,
   "id": "18673345",
   "metadata": {},
   "outputs": [],
   "source": [
    "index_to_word = {index:word for word, index in word_to_index.items()}"
   ]
  },
  {
   "cell_type": "code",
   "execution_count": 10,
   "id": "8d9f9a17",
   "metadata": {},
   "outputs": [],
   "source": [
    "# 문장 1개를 활용할 딕셔너리와 함께 주면, 단어 인덱스 리스트 벡터로 변환해 주는 함수입니다. \n",
    "# 단, 모든 문장은 <BOS>로 시작하는 것으로 합니다. \n",
    "def get_encoded_sentence(sentence, word_to_index):\n",
    "    return [word_to_index['<BOS>']]+[word_to_index[word] if word in word_to_index else word_to_index['<UNK>'] for word in sentence.split()]\n",
    "\n",
    "# 여러 개의 문장 리스트를 한꺼번에 단어 인덱스 리스트 벡터로 encode해 주는 함수입니다. \n",
    "def get_encoded_sentences(sentences, word_to_index):\n",
    "    return [get_encoded_sentence(sentence, word_to_index) for sentence in sentences]\n",
    "\n",
    "# 숫자 벡터로 encode된 문장을 원래대로 decode하는 함수입니다. \n",
    "def get_decoded_sentence(encoded_sentence, index_to_word):\n",
    "    return ' '.join(index_to_word[index] if index in index_to_word else '<UNK>' for index in encoded_sentence[1:])  #[1:]를 통해 <BOS>를 제외\n",
    "\n",
    "# 여러 개의 숫자 벡터로 encode된 문장을 한꺼번에 원래대로 decode하는 함수입니다. \n",
    "def get_decoded_sentences(encoded_sentences, index_to_word):\n",
    "    return [get_decoded_sentence(encoded_sentence, index_to_word) for encoded_sentence in encoded_sentences]"
   ]
  },
  {
   "cell_type": "code",
   "execution_count": 11,
   "id": "07134b98",
   "metadata": {},
   "outputs": [
    {
     "name": "stdout",
     "output_type": "stream",
     "text": [
      "문장길이 평균 :  15.96940191154864\n",
      "문장길이 최대 :  116\n",
      "문장길이 표준편차 :  12.843571191092\n",
      "pad_sequences maxlen :  41\n",
      "전체 문장의 0.9342988343341575%가 maxlen 설정값 이내에 포함됩니다. \n"
     ]
    }
   ],
   "source": [
    "total_data_text = list(X_train) + list(X_test)\n",
    "\n",
    "# 텍스트데이터 문장길이의 리스트를 생성한 후\n",
    "num_tokens = [len(tokens) for tokens in total_data_text]\n",
    "num_tokens = np.array(num_tokens)\n",
    "\n",
    "# 문장길이의 평균값, 최대값, 표준편차를 계산해 본다. \n",
    "print('문장길이 평균 : ', np.mean(num_tokens))\n",
    "print('문장길이 최대 : ', np.max(num_tokens))\n",
    "print('문장길이 표준편차 : ', np.std(num_tokens))\n",
    "\n",
    "# 예를들어, 최대 길이를 (평균 + 2*표준편차)로 한다면,  \n",
    "max_tokens = np.mean(num_tokens) + 2 * np.std(num_tokens)\n",
    "maxlen = int(max_tokens)\n",
    "print('pad_sequences maxlen : ', maxlen)\n",
    "print(f'전체 문장의 {np.sum(num_tokens < max_tokens) / len(num_tokens)}%가 maxlen 설정값 이내에 포함됩니다. ')"
   ]
  },
  {
   "cell_type": "code",
   "execution_count": 12,
   "id": "8df4c5bb",
   "metadata": {},
   "outputs": [
    {
     "name": "stdout",
     "output_type": "stream",
     "text": [
      "(146182, 41)\n"
     ]
    }
   ],
   "source": [
    "X_train = tf.keras.preprocessing.sequence.pad_sequences(X_train,\n",
    "                                                        value=word_to_index[\"<PAD>\"],\n",
    "                                                        padding='post', # 혹은 'pre'\n",
    "                                                        maxlen=maxlen)\n",
    "\n",
    "X_test = tf.keras.preprocessing.sequence.pad_sequences(X_test,\n",
    "                                                       value=word_to_index[\"<PAD>\"],\n",
    "                                                       padding='post', # 혹은 'pre'\n",
    "                                                       maxlen=maxlen)\n",
    "\n",
    "print(X_train.shape)"
   ]
  },
  {
   "cell_type": "code",
   "execution_count": 13,
   "id": "941715ee",
   "metadata": {},
   "outputs": [
    {
     "name": "stdout",
     "output_type": "stream",
     "text": [
      "<PAD>\n",
      "<BOS>\n",
      "<UNK>\n",
      "<UNUSED>\n",
      "5\n",
      "영화\n"
     ]
    }
   ],
   "source": [
    "print(index_to_word[0])     # '<PAD>' 가 출력됩니다. \n",
    "print(index_to_word[1])     # '<BOS>' 가 출력됩니다. \n",
    "print(index_to_word[2])     # '<BOS>' 가 출력됩니다. \n",
    "print(index_to_word[3])     # '<BOS>' 가 출력됩니다. \n",
    "print(word_to_index['영화'])\n",
    "print(index_to_word[5])"
   ]
  },
  {
   "cell_type": "code",
   "execution_count": 14,
   "id": "89715faa",
   "metadata": {},
   "outputs": [
    {
     "name": "stdout",
     "output_type": "stream",
     "text": [
      "더 빙 . . 진짜 짜증 나 네요 목소리 <PAD> <PAD> <PAD> <PAD> <PAD> <PAD> <PAD> <PAD> <PAD> <PAD> <PAD> <PAD> <PAD> <PAD> <PAD> <PAD> <PAD> <PAD> <PAD> <PAD> <PAD> <PAD> <PAD> <PAD> <PAD> <PAD> <PAD> <PAD> <PAD> <PAD> <PAD>\n",
      "라벨:  0\n"
     ]
    }
   ],
   "source": [
    "print(get_decoded_sentence(X_train[0], index_to_word))\n",
    "print('라벨: ', y_train[0])  # 1번째 리뷰데이터의 라벨"
   ]
  },
  {
   "cell_type": "code",
   "execution_count": 15,
   "id": "8c460009",
   "metadata": {},
   "outputs": [],
   "source": [
    "# 훈련 데이터셋 분리\n",
    "from sklearn.model_selection import train_test_split"
   ]
  },
  {
   "cell_type": "code",
   "execution_count": 16,
   "id": "c7b390d9",
   "metadata": {},
   "outputs": [],
   "source": [
    "X_train, X_val, y_train, y_val = train_test_split(X_train, y_train, test_size=0.2, random_state=42)"
   ]
  },
  {
   "cell_type": "code",
   "execution_count": 17,
   "id": "2f3af216",
   "metadata": {},
   "outputs": [
    {
     "name": "stdout",
     "output_type": "stream",
     "text": [
      "Train data 크기: 116945, Val data 크기: 29237\n"
     ]
    }
   ],
   "source": [
    "print(f'Train data 크기: {len(X_train)}, Val data 크기: {len(X_val)}')"
   ]
  },
  {
   "cell_type": "code",
   "execution_count": 18,
   "id": "627ad538",
   "metadata": {},
   "outputs": [],
   "source": [
    "import matplotlib.pyplot as plt"
   ]
  },
  {
   "cell_type": "code",
   "execution_count": 19,
   "id": "ecba7bed",
   "metadata": {},
   "outputs": [],
   "source": [
    "# 학습 및 검증 손실, 정확도 시각화 함수 추가\n",
    "def plot_training_history(history):\n",
    "    # Training and validation loss\n",
    "    plt.figure(figsize=(12, 5))\n",
    "    plt.subplot(1, 2, 1)\n",
    "    plt.plot(history.history['loss'], label='Training Loss')\n",
    "    plt.plot(history.history['val_loss'], label='Validation Loss')\n",
    "    plt.xlabel('Epochs')\n",
    "    plt.ylabel('Loss')\n",
    "    plt.legend()\n",
    "    plt.title('Training and Validation Loss')\n",
    "\n",
    "    # Training and validation accuracy\n",
    "    plt.subplot(1, 2, 2)\n",
    "    plt.plot(history.history['accuracy'], label='Training Accuracy')\n",
    "    plt.plot(history.history['val_accuracy'], label='Validation Accuracy')\n",
    "    plt.xlabel('Epochs')\n",
    "    plt.ylabel('Accuracy')\n",
    "    plt.legend()\n",
    "    plt.title('Training and Validation Accuracy')\n",
    "    \n",
    "    plt.show()"
   ]
  },
  {
   "cell_type": "code",
   "execution_count": 20,
   "id": "8ff36dda",
   "metadata": {},
   "outputs": [],
   "source": [
    "from gensim.models.keyedvectors import Word2VecKeyedVectors\n",
    "from keras.preprocessing.sequence import pad_sequences"
   ]
  },
  {
   "cell_type": "code",
   "execution_count": 21,
   "id": "2ff36f55",
   "metadata": {},
   "outputs": [],
   "source": [
    "# 한국어 Word2Vec 모델 로드\n",
    "word2vec_file_path = os.getenv('HOME') + '/aiffel/sentiment_classification/data/word2vec_ko.model'\n",
    "word_vectors = Word2VecKeyedVectors.load(word2vec_file_path)\n",
    "vector = word_vectors.wv[\"끝\"]"
   ]
  },
  {
   "cell_type": "code",
   "execution_count": 22,
   "id": "df955dd2",
   "metadata": {},
   "outputs": [
    {
     "data": {
      "text/plain": [
       "array([ 1.038851  , -1.1634965 ,  2.2386286 ,  0.8971453 , -2.088168  ,\n",
       "       -4.1942534 , -0.02519768, -0.69813883, -0.2908033 , -1.4651134 ,\n",
       "       -2.6863668 ,  0.7999443 , -0.6957915 , -0.5018775 ,  3.5025773 ,\n",
       "        0.21326113, -0.6588098 , -1.1900496 ,  0.61399573,  2.1247969 ,\n",
       "        0.1549463 ,  3.0840218 ,  3.1680267 , -3.9143991 ,  3.6073153 ,\n",
       "        0.5315545 , -0.3511633 , -1.107248  ,  1.7767181 , -0.95981866,\n",
       "        2.6072454 , -0.00697957, -3.27628   ,  1.558644  ,  0.81922376,\n",
       "        1.9231955 ,  3.7026553 , -0.53824735, -0.4920138 ,  2.4657123 ,\n",
       "       -2.620749  , -0.08950733,  0.61453176,  1.8866426 ,  0.257866  ,\n",
       "       -2.7827141 ,  2.9129577 , -0.6313133 ,  2.0387425 , -4.222685  ,\n",
       "       -2.7560544 ,  1.7903243 , -1.3080189 , -2.5531402 , -0.43849912,\n",
       "       -3.1073573 , -0.29090825,  5.1817617 ,  1.9604833 , -5.1421604 ,\n",
       "       -0.71431434,  4.5624633 , -0.55525815, -3.3019137 ,  1.6761336 ,\n",
       "       -1.9606539 , -0.2726863 ,  0.2465995 ,  1.2685091 ,  1.6055685 ,\n",
       "        1.8344896 ,  1.2752469 ,  0.99503314, -2.3348706 , -0.9290329 ,\n",
       "       -1.5920266 ,  5.693834  ,  1.1132814 , -0.9603875 , -1.970055  ,\n",
       "       -1.0120267 , -2.7289615 , -2.7759619 ,  3.214084  ,  1.8573734 ,\n",
       "       -1.3495721 , -0.10321241,  3.434593  , -2.8573685 , -1.9004927 ,\n",
       "       -1.6801298 , -2.805677  ,  1.7723105 , -0.41865307, -2.310913  ,\n",
       "       -6.2761464 , -0.8376036 ,  2.4590037 ,  2.1697695 , -4.440443  ],\n",
       "      dtype=float32)"
      ]
     },
     "execution_count": 22,
     "metadata": {},
     "output_type": "execute_result"
    }
   ],
   "source": [
    "vector"
   ]
  },
  {
   "cell_type": "code",
   "execution_count": 23,
   "id": "9c09d356",
   "metadata": {},
   "outputs": [
    {
     "data": {
      "text/plain": [
       "[('드라마', 0.8418774008750916),\n",
       " ('뮤지컬', 0.7775140404701233),\n",
       " ('코미디', 0.7489107251167297),\n",
       " ('다큐멘터리', 0.7401294708251953),\n",
       " ('헐리우드', 0.7397844195365906),\n",
       " ('애니메이션', 0.7170552015304565),\n",
       " ('독립영화', 0.7113528251647949),\n",
       " ('로맨틱', 0.7107657194137573),\n",
       " ('장편', 0.7101576924324036),\n",
       " ('극영화', 0.7045413255691528)]"
      ]
     },
     "execution_count": 23,
     "metadata": {},
     "output_type": "execute_result"
    }
   ],
   "source": [
    "word_vectors.wv.similar_by_word(\"영화\")"
   ]
  },
  {
   "cell_type": "code",
   "execution_count": 24,
   "id": "f2318086",
   "metadata": {},
   "outputs": [
    {
     "data": {
      "text/plain": [
       "[('아이스하키', 0.800794243812561),\n",
       " ('농구', 0.7926114201545715),\n",
       " ('배구', 0.7872303128242493),\n",
       " ('야구', 0.7543829679489136),\n",
       " ('축구팀', 0.7378026843070984),\n",
       " ('핸드볼', 0.733677327632904),\n",
       " ('풋살', 0.7298390865325928),\n",
       " ('필드하키', 0.6768761277198792),\n",
       " ('킥복싱', 0.668218195438385),\n",
       " ('테니스', 0.6668619513511658)]"
      ]
     },
     "execution_count": 24,
     "metadata": {},
     "output_type": "execute_result"
    }
   ],
   "source": [
    "word_vectors.wv.similar_by_word(\"축구\")"
   ]
  },
  {
   "cell_type": "code",
   "execution_count": 25,
   "id": "04856ee2",
   "metadata": {},
   "outputs": [
    {
     "data": {
      "text/plain": [
       "[('공연장', 0.734738826751709),\n",
       " ('영화관', 0.7285679578781128),\n",
       " ('오페라단', 0.7239658832550049),\n",
       " ('오페라', 0.7214334607124329),\n",
       " ('소극장', 0.7028483152389526),\n",
       " ('콘서트홀', 0.6995508074760437),\n",
       " ('살롱', 0.6894219517707825),\n",
       " ('음악당', 0.6769198775291443),\n",
       " ('발레단', 0.6662783622741699),\n",
       " ('관현악단', 0.6594403982162476)]"
      ]
     },
     "execution_count": 25,
     "metadata": {},
     "output_type": "execute_result"
    }
   ],
   "source": [
    "word_vectors.wv.similar_by_word(\"극장\")"
   ]
  },
  {
   "cell_type": "code",
   "execution_count": 26,
   "id": "1ec344ad",
   "metadata": {},
   "outputs": [],
   "source": [
    "# embedding_matrix = np.zeros((len(word_to_index), word_vectors.wv.vector_size))\n",
    "\n",
    "# # embedding_matrix에 Word2Vec 워드 벡터를 단어 하나씩마다 차례차례 카피한다.\n",
    "# for i in range(4,len(word_to_index)):\n",
    "#     if index_to_word[i] in word_vectors.wv:\n",
    "#         embedding_matrix[i] = word_vectors.wv[index_to_word[i]]"
   ]
  },
  {
   "cell_type": "code",
   "execution_count": 27,
   "id": "b7d52136",
   "metadata": {},
   "outputs": [],
   "source": [
    "# 특수 토큰 임베딩 초기화 개선\n",
    "embedding_matrix = np.zeros((len(word_to_index), word_vectors.vector_size))\n",
    "\n",
    "for word, i in word_to_index.items():\n",
    "    if word == '<PAD>':\n",
    "        embedding_matrix[i] = np.zeros((word_vectors.vector_size,))\n",
    "    elif word in word_vectors.wv:\n",
    "        embedding_matrix[i] = word_vectors.wv[word]\n",
    "    else:\n",
    "        embedding_matrix[i] = np.random.normal(scale=0.6, size=(word_vectors.vector_size,))\n"
   ]
  },
  {
   "cell_type": "code",
   "execution_count": 28,
   "id": "94144bf6",
   "metadata": {},
   "outputs": [
    {
     "name": "stdout",
     "output_type": "stream",
     "text": [
      "word_to_index의 크기: 20000\n",
      "word_vectors.vector_size: 100\n"
     ]
    }
   ],
   "source": [
    "print(f'word_to_index의 크기: {len(word_to_index)}')\n",
    "print(f'word_vectors.vector_size: {word_vectors.wv.vector_size}')"
   ]
  },
  {
   "cell_type": "code",
   "execution_count": 29,
   "id": "7a94771f",
   "metadata": {},
   "outputs": [
    {
     "name": "stdout",
     "output_type": "stream",
     "text": [
      "Embedding matrix shape: (20000, 100)\n"
     ]
    }
   ],
   "source": [
    "print(\"Embedding matrix shape:\", embedding_matrix.shape)"
   ]
  },
  {
   "cell_type": "code",
   "execution_count": 30,
   "id": "616cb1e7",
   "metadata": {},
   "outputs": [
    {
     "name": "stdout",
     "output_type": "stream",
     "text": [
      "Word: 사랑, Embedding vector: [ 3.25659418 -0.85421413 -3.69640112  1.09564686  0.59981501 -1.96814346\n",
      "  0.32379073 -1.07160532 -1.17769372  2.04420471  2.25019145 -2.78680372\n",
      " -2.70235896 -0.97759151 -0.12478333  0.28235647  0.77683175 -1.53937471\n",
      "  2.08790421 -5.44446182 -4.93141222  0.85320938  0.11118065 -2.74352193\n",
      "  0.79023629  0.10469969 -0.56074625  1.66844213  1.02784193 -3.88168287\n",
      " -3.6068871  -3.12077093 -1.25273979 -0.77196646 -1.01029015  3.3316679\n",
      "  0.30032924  1.20745111 -1.28136265  2.62812185 -1.46248233 -1.13548052\n",
      "  0.76052392  2.83576989 -1.19935799  3.13472319  4.06202602 -0.23413125\n",
      "  3.20585608 -0.95670539  0.77167803 -1.43001449  2.90140128 -3.94008708\n",
      " -3.23416901 -5.54606342  0.61850089 -0.75793767  2.10434914  2.35059905\n",
      "  2.93132472 -2.23559308  3.20840359 -5.59463787  1.65166342 -0.32628602\n",
      " -1.88246834 -1.5573231  -1.84521627 -1.40443087  4.87256479 -2.10639286\n",
      " -0.32347348  1.99465513 -4.09679842 -1.45096552 -0.09111219 -4.45861721\n",
      "  0.06598099 -2.21175408  3.07312465 -0.06910119  2.25552416  2.08233166\n",
      " -0.58695716 -3.10357141  2.40144515  3.47312164  1.42445898 -4.3139348\n",
      " -3.56653357 -6.52033663 -2.10908461 -3.27976084  0.43319851  1.17218232\n",
      "  1.88704574 -0.08832774  5.42306709 -3.84843135]\n",
      "Word: 축구, Embedding vector: [ 1.20194268 -1.36127651 -1.95954323 -3.40803003 -6.45021105  1.36797535\n",
      "  1.78047669 -0.26076251  0.4222858   5.36462259 -1.1342603   0.16935793\n",
      "  0.81818873 -3.6492002   4.33671141 -5.46564674 -1.48205042  2.40685225\n",
      "  5.02181911 -0.15902035  2.7882123   1.43706191 -1.68872356 -0.37215123\n",
      " -0.77289414 -1.02148771 -0.66318733 -4.85856199 -5.76000929  1.18684804\n",
      " -2.29702497  0.36122167 -2.5319407   4.74922752  0.51489705  3.18111372\n",
      "  1.17170024  1.51542222  0.83565587  4.26709318  2.27439451 -2.02585983\n",
      " -4.07806778  0.0949326   1.86903572 -1.5747385   1.18665385  1.26880586\n",
      " -2.82984781 -1.40393376 -3.42334342 -1.41296697 -1.34889352 -3.08240056\n",
      "  2.76588988  2.36817813  2.46670246  4.51009035  5.96343517 -3.9761672\n",
      " -0.78300482 -0.98940796  3.21156287 -0.58813626 -2.03650379  2.97700214\n",
      " -1.8645308  -2.78764677 -1.51019728  1.31258404  2.71209836 -0.09207401\n",
      "  4.09237623  0.86394805 -0.36403966  0.48704553  2.32448602 -1.05533659\n",
      " -0.39541426 -0.55699652 -2.3642385   2.26257277  0.68467009 -3.66357946\n",
      "  1.7787832   4.48480892 -3.12081838  2.92858386  3.04308486 -4.4652915\n",
      "  5.66147423 -3.25726986 -2.38027024 -4.89863777  5.59783411  1.04022491\n",
      " -1.10259283 -4.03534365  1.57938671  0.10502047]\n",
      "Word: 영화, Embedding vector: [-1.80073893 -1.1790098  -2.4066596   2.13841558 -0.3537603   1.37495267\n",
      " -4.89461184 -3.65171981  0.44114441  0.78153926 -2.69688797 -1.78128517\n",
      " -2.15146542 -4.81323624  2.74659181 -2.16203237 -0.11467794 -1.24311709\n",
      "  2.39793086 -1.10606277 -0.41043055  1.95003915  0.7821002   1.58999777\n",
      "  1.6447444  -2.12650347 -1.79815948  1.7535795   0.53717697 -1.21212101\n",
      " -4.46631622  4.54883242  1.33444095 -0.90702713  1.19318891  4.15632153\n",
      "  1.97583067 -0.94375622 -0.25927249  0.34935686  1.85628748 -3.32496452\n",
      "  1.12216246  1.28365242  3.92113757  3.8023994   2.76626897  0.67293745\n",
      "  2.28536439 -5.11317158  0.32525915 -3.3079958   5.30435133 -3.88137579\n",
      " -0.32960036 -1.95275044  3.88650751 -3.54703784 -0.21991685  0.82119733\n",
      " -0.94924921  3.54721069  1.32204795 -0.70640826  0.52253807  1.46832347\n",
      " -1.10186887  2.26294088 -0.72046852 -1.76620102  5.22375774  3.0748682\n",
      "  1.09775758  3.31917334 -0.41004229 -1.7022891  -0.78379875  0.82586575\n",
      " -0.54520637  1.23553824  2.02674007 -0.65244699  1.08660543  0.89776409\n",
      "  0.79283422  3.77706265  3.02748632  5.16600227  2.64616442  2.89268684\n",
      "  1.97094405 -3.37465429 -5.26565933 -1.10414851  2.35754704 -2.35708237\n",
      " -4.81723833  3.72902226  4.62329006  1.50046134]\n",
      "Word: 배우, Embedding vector: [-0.58881295 -4.38772869 -3.48585463 -2.30849123  0.87703085  6.44455862\n",
      " -1.10621262 -2.22301817 -0.78621733  1.9408462  -1.13574612  1.01199687\n",
      " -0.30329964 -5.45551682  2.6356647  -5.29098845 -1.74444795  2.54097342\n",
      "  3.71685195 -1.47525811 -1.19851375  3.55043149 -0.41522408 -0.24361829\n",
      "  1.52184379 -3.46038413  1.11205435  0.39729053 -2.70732808  1.36804819\n",
      " -4.28437757  3.01466393  2.63931966  0.98044783 -1.08251274  3.62013626\n",
      "  3.15460658  0.96348679  1.36777651  0.82937515  1.93801248 -2.66998768\n",
      " -0.41389105  2.7402463   3.41554499 -0.37949705  4.40212536  1.2531414\n",
      "  2.50499392  0.33631453 -2.06586432 -3.18858838  6.65947723 -5.47897005\n",
      "  3.11134887  1.66678929  2.84413314 -1.15976524 -0.19843072 -0.07214008\n",
      "  0.47545317  4.10500097 -0.20690314 -4.39960718 -0.32254001  2.03035212\n",
      "  0.35149667 -4.09071541  1.12322998 -1.87317598  2.42242908  1.97512794\n",
      " -0.91443551  4.34506989 -1.01222086  3.46049547 -2.2505796  -5.20725346\n",
      "  1.4032923   0.70492637  2.68844581  0.11147156  1.43087411  0.03026572\n",
      " -2.05269694  0.66626829  0.41304949  4.29081726  7.81130886  0.06473196\n",
      "  1.52527416 -0.71593237 -2.88607669 -5.213696    0.40684175 -2.50005102\n",
      " -4.58661461 -1.97819054  1.34223413  0.08727098]\n"
     ]
    }
   ],
   "source": [
    "sample_words = ['사랑', '축구', '영화', '배우']\n",
    "for word in sample_words:\n",
    "    if word in word_to_index:\n",
    "        index = word_to_index[word]\n",
    "        print(f\"Word: {word}, Embedding vector: {embedding_matrix[index]}\")\n",
    "    else:\n",
    "        print(f\"Word: {word} is not in the vocabulary.\")"
   ]
  },
  {
   "cell_type": "code",
   "execution_count": 31,
   "id": "81067a75",
   "metadata": {},
   "outputs": [
    {
     "name": "stdout",
     "output_type": "stream",
     "text": [
      "Embedding matrix mean: -0.014319176309392898\n",
      "Embedding matrix std deviation: 1.291122059459831\n"
     ]
    }
   ],
   "source": [
    "print(\"Embedding matrix mean:\", np.mean(embedding_matrix))\n",
    "print(\"Embedding matrix std deviation:\", np.std(embedding_matrix))"
   ]
  },
  {
   "cell_type": "code",
   "execution_count": 32,
   "id": "bf60e99d",
   "metadata": {},
   "outputs": [
    {
     "name": "stdout",
     "output_type": "stream",
     "text": [
      "Token: <PAD>, Embedding vector: [0. 0. 0. 0. 0. 0. 0. 0. 0. 0. 0. 0. 0. 0. 0. 0. 0. 0. 0. 0. 0. 0. 0. 0.\n",
      " 0. 0. 0. 0. 0. 0. 0. 0. 0. 0. 0. 0. 0. 0. 0. 0. 0. 0. 0. 0. 0. 0. 0. 0.\n",
      " 0. 0. 0. 0. 0. 0. 0. 0. 0. 0. 0. 0. 0. 0. 0. 0. 0. 0. 0. 0. 0. 0. 0. 0.\n",
      " 0. 0. 0. 0. 0. 0. 0. 0. 0. 0. 0. 0. 0. 0. 0. 0. 0. 0. 0. 0. 0. 0. 0. 0.\n",
      " 0. 0. 0. 0.]\n",
      "Token: <BOS>, Embedding vector: [-0.07987886 -0.70870302  0.96841305  0.67442304 -0.16887759  0.07580417\n",
      " -0.56086896  0.97621905 -1.19365976  0.16631136 -0.63293943  0.30997533\n",
      " -0.74155798 -0.67391062 -1.43240653  1.19939005 -0.18256264 -0.78250406\n",
      "  0.43389319 -1.23623832 -0.52790701 -0.21976841 -0.77837199 -0.63718782\n",
      "  0.65698451 -0.4410614   1.55592351 -0.39799878 -0.60568455 -0.74389699\n",
      "  0.54467554  0.48102971 -0.29598819 -0.08033461  0.6817663  -0.12834701\n",
      "  0.74687708 -0.02332662 -0.03406228  0.60525112  0.21277698  0.33156064\n",
      "  0.44637099  0.34729846 -0.25755165 -0.14340134  0.15796588  0.05585088\n",
      " -0.84483693 -0.049053   -0.00739858  0.11566794 -0.34648067  0.51983261\n",
      " -0.53513204 -0.03280354  1.12461346  0.89598547 -0.04296888 -1.32866357\n",
      " -0.24980159  0.83396956 -0.63047426 -0.27521623  0.1358287  -0.0759511\n",
      "  0.33387466 -1.00350397 -0.56463042  0.70325895  0.3274963   0.52600456\n",
      " -0.70067035  0.41375999 -0.28198625  0.48206799  0.3436152   0.60434191\n",
      " -0.44127783 -0.82109236  0.15475555  0.68648778  0.61722042 -0.74397809\n",
      " -1.24987228  0.87471279 -0.91401545  0.65006826 -0.34338865 -0.09425644\n",
      "  0.10706383 -0.16178909  0.3457442  -1.7294574   0.11085941 -0.20090476\n",
      " -0.02562034 -0.46018322 -0.22026972  0.55417777]\n",
      "Token: <UNK>, Embedding vector: [ 0.13989779  0.52552484 -0.33998159  0.61987779  0.18340065 -1.17747285\n",
      "  0.4212028  -0.54832698  0.44594044 -0.05323179 -0.73306715 -0.37556507\n",
      "  0.14543506  0.3707732   0.13036008 -0.59442897  0.12210844 -0.39367371\n",
      " -0.86078501 -0.77763456 -0.14463165 -1.4517394  -0.06661918  0.13782786\n",
      "  0.82005391 -1.05415515  0.55816614 -0.24322803 -0.15932125  0.28255345\n",
      "  0.70070462  0.42761657 -0.60134886  0.06348619 -0.31635711 -0.19122486\n",
      " -0.99504296  0.33121792  0.05395741  0.99758558 -0.62790713  0.63848912\n",
      " -0.85953513  0.20635558 -0.22992402  0.32024317 -0.0649759   0.01034994\n",
      " -0.70441294  0.15802087  0.62900189 -0.70182015 -0.08991527 -0.59397863\n",
      "  0.4181185  -0.7469764   0.92025781 -0.24869502 -0.08409779  0.14090242\n",
      "  0.27722769  0.21603928 -0.17824781 -0.34530101 -1.61868264  0.08228379\n",
      "  1.10417673 -0.07817047  1.08388806 -0.93112175  0.81219473 -0.48753856\n",
      "  0.40841659  0.3597779  -0.35752753 -0.12179933 -0.74856464  0.25509467\n",
      " -0.13301007  0.96270931  0.66327603 -0.52548006 -0.95950902 -0.01244158\n",
      "  0.17263392  0.26161834 -0.4027382   0.26692638  0.62555715 -0.58657254\n",
      " -0.12416981 -0.89832992 -0.97206647 -0.46061255 -1.29499766 -0.12815911\n",
      "  0.80418501 -0.32932409 -0.69734531 -0.04791807]\n",
      "Token: <UNUSED>, Embedding vector: [-0.69244647  0.04934417 -0.06245709 -0.75673029 -0.53215223 -0.53321827\n",
      "  0.00429428  0.39413764 -0.35677282 -0.20092899 -0.2741587   0.38039479\n",
      "  0.88858532  1.06773615  0.15410315  0.12955592 -0.07223761 -0.25982159\n",
      "  0.09523112 -0.15912039 -0.11664733  0.16894155 -0.59101554  0.72888855\n",
      "  0.41851887 -0.60316517  0.17045425 -0.36611874  0.18843638  0.33246956\n",
      "  0.26349464 -0.29874873  0.21674247  2.13317713  0.07010186  0.44371594\n",
      "  0.81530295 -0.25176013 -0.29840694  0.6361192   0.20500552 -0.61763356\n",
      "  0.62420355 -1.34696009 -0.04970378  1.39360953 -0.63395291 -1.11342011\n",
      "  1.51395534  0.16355558 -0.06155186  0.35758187  0.19090965  0.05215483\n",
      " -0.70179784  0.4869758  -0.89440788  0.07074255 -0.19583056  0.22875703\n",
      "  0.03902728 -0.30143102  0.68936801  0.85874629  0.07352536 -0.81331041\n",
      "  0.62195613  0.2274542   0.0668548   0.4902225  -0.21376915 -0.20738945\n",
      " -0.19359749  0.60707088 -0.55655095  0.16219651 -0.38898178  0.13081564\n",
      "  0.88984651 -0.31241881 -0.09935835  0.7789044  -0.22894959  0.49405031\n",
      "  0.12847593  0.44555809 -0.43786171  0.03087466  0.79555736 -0.21447699\n",
      " -1.17013382  0.15734789 -0.76235074 -0.2173537  -0.94375817  0.66586537\n",
      "  0.8807954   0.13122837 -0.21646671  0.41664583]\n"
     ]
    }
   ],
   "source": [
    "special_tokens = ['<PAD>', '<BOS>', '<UNK>', '<UNUSED>']\n",
    "for token in special_tokens:\n",
    "    index = word_to_index[token]\n",
    "    print(f\"Token: {token}, Embedding vector: {embedding_matrix[index]}\")"
   ]
  },
  {
   "cell_type": "code",
   "execution_count": 33,
   "id": "f66440cf",
   "metadata": {},
   "outputs": [],
   "source": [
    "from tensorflow.keras.initializers import Constant"
   ]
  },
  {
   "cell_type": "code",
   "execution_count": 34,
   "id": "ee1cb31b",
   "metadata": {},
   "outputs": [],
   "source": [
    "import tensorflow as tf\n",
    "from tensorflow.keras.layers import Input, Embedding, MultiHeadAttention, LayerNormalization, Dense, Dropout, GlobalAveragePooling1D\n",
    "from tensorflow.keras.models import Model"
   ]
  },
  {
   "cell_type": "code",
   "execution_count": 41,
   "id": "8f3c91e4",
   "metadata": {},
   "outputs": [],
   "source": [
    "# Transformer Encoder Block \n",
    "# MultiHeadAttention 과 포지션-와이즈 피드포워드 네트워크로 구성\n",
    "class TransformerBlock(tf.keras.layers.Layer):\n",
    "    def __init__(self, embed_dim, num_heads, dense_dim, rate=0.1, **kwargs):\n",
    "        super(TransformerBlock, self).__init__(**kwargs)\n",
    "        self.embed_dim = embed_dim\n",
    "        self.num_heads = num_heads\n",
    "        self.dense_dim = dense_dim\n",
    "        self.rate = rate\n",
    "        \n",
    "        self.att = MultiHeadAttention(num_heads=num_heads, key_dim=embed_dim)\n",
    "        self.ffn = tf.keras.Sequential(\n",
    "            [Dense(dense_dim, activation=\"relu\"), Dense(embed_dim),]\n",
    "        )\n",
    "        self.layernorm1 = LayerNormalization(epsilon=1e-6)\n",
    "        self.layernorm2 = LayerNormalization(epsilon=1e-6)\n",
    "        self.dropout1 = Dropout(rate)\n",
    "        self.dropout2 = Dropout(rate)\n",
    "\n",
    "    def call(self, inputs, training):\n",
    "        attn_output = self.att(inputs, inputs)\n",
    "        attn_output = self.dropout1(attn_output, training=training)\n",
    "        out1 = self.layernorm1(inputs + attn_output)\n",
    "        ffn_output = self.ffn(out1)\n",
    "        ffn_output = self.dropout2(ffn_output, training=training)\n",
    "        return self.layernorm2(out1 + ffn_output)\n",
    "\n",
    "    def get_config(self):\n",
    "        # 객체를 직렬화하기 위해 필요한 구성 정보 반환\n",
    "        config = super().get_config()\n",
    "        config.update({\n",
    "            \"embed_dim\": self.embed_dim,\n",
    "            \"num_heads\": self.num_heads,\n",
    "            \"dense_dim\": self.dense_dim,\n",
    "            \"rate\": self.rate\n",
    "        })\n",
    "        return config\n"
   ]
  },
  {
   "cell_type": "code",
   "execution_count": 42,
   "id": "9331833b",
   "metadata": {},
   "outputs": [],
   "source": [
    "vocab_size = len(word_to_index)\n",
    "embed_dim = word_vectors.vector_size  # 임베딩 차원 수\n",
    "num_heads = 2  # Multi-head attention에서의 헤드 수\n",
    "dense_dim = 64  # Feed-forward network 은닉층 크기"
   ]
  },
  {
   "cell_type": "code",
   "execution_count": 43,
   "id": "92cc2452",
   "metadata": {},
   "outputs": [
    {
     "name": "stdout",
     "output_type": "stream",
     "text": [
      "Model: \"model_1\"\n",
      "_________________________________________________________________\n",
      "Layer (type)                 Output Shape              Param #   \n",
      "=================================================================\n",
      "input_2 (InputLayer)         [(None, 41)]              0         \n",
      "_________________________________________________________________\n",
      "embedding_1 (Embedding)      (None, 41, 100)           2000000   \n",
      "_________________________________________________________________\n",
      "transformer_block_2 (Transfo (None, 41, 100)           94064     \n",
      "_________________________________________________________________\n",
      "transformer_block_3 (Transfo (None, 41, 100)           94064     \n",
      "_________________________________________________________________\n",
      "global_average_pooling1d_1 ( (None, 100)               0         \n",
      "_________________________________________________________________\n",
      "dropout_13 (Dropout)         (None, 100)               0         \n",
      "_________________________________________________________________\n",
      "dense_13 (Dense)             (None, 1)                 101       \n",
      "=================================================================\n",
      "Total params: 2,188,229\n",
      "Trainable params: 2,188,229\n",
      "Non-trainable params: 0\n",
      "_________________________________________________________________\n"
     ]
    }
   ],
   "source": [
    "inputs = Input(shape=(maxlen,))\n",
    "embedding_layer = Embedding(vocab_size, embed_dim, \n",
    "                            embeddings_initializer=Constant(embedding_matrix), \n",
    "                            input_length=maxlen, trainable=True)\n",
    "x = embedding_layer(inputs)\n",
    "\n",
    "transformer_block = TransformerBlock(embed_dim, num_heads, dense_dim)\n",
    "x = transformer_block(x)\n",
    "x = TransformerBlock(embed_dim, num_heads, dense_dim)(x)\n",
    "x = GlobalAveragePooling1D()(x)\n",
    "x = Dropout(0.3)(x)  # Dropout 비율\n",
    "output = Dense(1, activation=\"sigmoid\")(x)\n",
    "\n",
    "model_Transformer_Word2Vec = Model(inputs=inputs, outputs=output)\n",
    "\n",
    "model_Transformer_Word2Vec.summary()"
   ]
  },
  {
   "cell_type": "code",
   "execution_count": 44,
   "id": "8e2412b2",
   "metadata": {},
   "outputs": [
    {
     "name": "stdout",
     "output_type": "stream",
     "text": [
      "Epoch 1/50\n",
      "914/914 [==============================] - 14s 14ms/step - loss: 0.5418 - accuracy: 0.7253 - val_loss: 0.4521 - val_accuracy: 0.7865\n",
      "Epoch 2/50\n",
      "914/914 [==============================] - 12s 14ms/step - loss: 0.4408 - accuracy: 0.7931 - val_loss: 0.4163 - val_accuracy: 0.8084\n",
      "Epoch 3/50\n",
      "914/914 [==============================] - 12s 14ms/step - loss: 0.4041 - accuracy: 0.8145 - val_loss: 0.3933 - val_accuracy: 0.8218\n",
      "Epoch 4/50\n",
      "914/914 [==============================] - 12s 14ms/step - loss: 0.3799 - accuracy: 0.8287 - val_loss: 0.3859 - val_accuracy: 0.8216\n",
      "Epoch 5/50\n",
      "914/914 [==============================] - 12s 14ms/step - loss: 0.3626 - accuracy: 0.8380 - val_loss: 0.3765 - val_accuracy: 0.8312\n",
      "Epoch 6/50\n",
      "914/914 [==============================] - 12s 14ms/step - loss: 0.3498 - accuracy: 0.8449 - val_loss: 0.3737 - val_accuracy: 0.8336\n",
      "Epoch 7/50\n",
      "914/914 [==============================] - 12s 14ms/step - loss: 0.3383 - accuracy: 0.8508 - val_loss: 0.3760 - val_accuracy: 0.8325\n",
      "Epoch 8/50\n",
      "914/914 [==============================] - 12s 14ms/step - loss: 0.3276 - accuracy: 0.8568 - val_loss: 0.3688 - val_accuracy: 0.8398\n",
      "Epoch 9/50\n",
      "914/914 [==============================] - 12s 14ms/step - loss: 0.3193 - accuracy: 0.8609 - val_loss: 0.3731 - val_accuracy: 0.8357\n",
      "Epoch 10/50\n",
      "914/914 [==============================] - 12s 13ms/step - loss: 0.3103 - accuracy: 0.8656 - val_loss: 0.3724 - val_accuracy: 0.8405\n",
      "Epoch 11/50\n",
      "914/914 [==============================] - 12s 14ms/step - loss: 0.3031 - accuracy: 0.8685 - val_loss: 0.3753 - val_accuracy: 0.8411\n",
      "Epoch 12/50\n",
      "914/914 [==============================] - 12s 14ms/step - loss: 0.2952 - accuracy: 0.8731 - val_loss: 0.3840 - val_accuracy: 0.8367\n",
      "Epoch 13/50\n",
      "914/914 [==============================] - 12s 14ms/step - loss: 0.2881 - accuracy: 0.8764 - val_loss: 0.3861 - val_accuracy: 0.8405\n"
     ]
    }
   ],
   "source": [
    "# 콜백 설정 - 가장 좋은 모델을 저장하도록 설정\n",
    "Transformer_Word2Vec_checkpoint_cb = tf.keras.callbacks.ModelCheckpoint('Transformer_Word2Vec.keras', save_best_only=True)\n",
    "\n",
    "# 모델 컴파일\n",
    "lr_schedule = tf.keras.optimizers.schedules.ExponentialDecay(initial_learning_rate=1e-4, \n",
    "                                                             decay_steps=10000, decay_rate=0.9)  # 초기 학습률 감소\n",
    "model_Transformer_Word2Vec.compile(optimizer=tf.keras.optimizers.Adam(learning_rate=lr_schedule),\n",
    "              loss='binary_crossentropy',\n",
    "              metrics=['accuracy'])\n",
    "              \n",
    "# 모델 훈련\n",
    "epochs = 50\n",
    "Transformer_Word2Vec_history = model_Transformer_Word2Vec.fit(X_train,\n",
    "                    y_train,\n",
    "                    epochs=epochs,\n",
    "                    batch_size=128,  # 배치 크기 감소\n",
    "                    validation_data=(X_val, y_val),\n",
    "                    callbacks=[Transformer_Word2Vec_checkpoint_cb, tf.keras.callbacks.EarlyStopping(patience=5, restore_best_weights=True)],\n",
    "                    verbose=1)"
   ]
  },
  {
   "cell_type": "code",
   "execution_count": 45,
   "id": "a192c422",
   "metadata": {},
   "outputs": [
    {
     "name": "stdout",
     "output_type": "stream",
     "text": [
      "1537/1537 - 6s - loss: 0.3732 - accuracy: 0.8352\n",
      "[0.3731715977191925, 0.8352015018463135]\n"
     ]
    }
   ],
   "source": [
    "# 저장된 가장 좋은 모델 로드\n",
    "Transformer_Word2Vec_best_model = tf.keras.models.load_model('Transformer_Word2Vec.keras', \n",
    "                                                             custom_objects={'TransformerBlock': TransformerBlock})\n",
    "\n",
    "# Transformer 모델 평가\n",
    "Transformer_Word2Vec_results = Transformer_Word2Vec_best_model.evaluate(X_test, y_test, verbose=2)\n",
    "\n",
    "print(Transformer_Word2Vec_results)"
   ]
  },
  {
   "cell_type": "code",
   "execution_count": 46,
   "id": "8626291b",
   "metadata": {},
   "outputs": [
    {
     "data": {
      "image/png": "[encoded data removed]",
      "text/plain": [
       "<Figure size 864x360 with 2 Axes>"
      ]
     },
     "metadata": {
      "needs_background": "light"
     },
     "output_type": "display_data"
    }
   ],
   "source": [
    "# Transformer 모델 시각화\n",
    "plot_training_history(Transformer_Word2Vec_history)"
   ]
  }
 ],
 "metadata": {
  "kernelspec": {
   "display_name": "Python 3 (ipykernel)",
   "language": "python",
   "name": "python3"
  },
  "language_info": {
   "codemirror_mode": {
    "name": "ipython",
    "version": 3
   },
   "file_extension": ".py",
   "mimetype": "text/x-python",
   "name": "python",
   "nbconvert_exporter": "python",
   "pygments_lexer": "ipython3",
   "version": "3.9.7"
  }
 },
 "nbformat": 4,
 "nbformat_minor": 5
}
