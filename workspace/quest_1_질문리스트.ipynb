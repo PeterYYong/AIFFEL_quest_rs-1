{
 "cells": [
  {
   "cell_type": "markdown",
   "id": "326b0b6c",
   "metadata": {},
   "source": [
    "1. Normalization 과 Standardization 의 차이  \n",
    "\n",
    "2. Min-Max Scaling을 훈련셋에만 하고 테스트셋에 하지 않을 경우  \n",
    "\n",
    "3. 범주형 데이터와 숫자형 데이터의 차이  \n",
    " \n",
    "4. 원 핫 인코딩이 왜 필요?  \n",
    "\n",
    "5. 이상치를 판단기준?  \n",
    "\n",
    "\n",
    "참고 : Outlier, Novelty 차이??  \n",
    "- 강아지를 normal class로 정의를 한 경우를 예로 들겠습니다. 현재 보유 중인 데이터 셋에 이전에 없던 형태의 새로운 강아지가 등장하는 경우, 이러한 sample을 Novel sample, Unseen sample 등으로 부를 수 있습니다. 그리고 이러한 sample을 찾아내는 방법론을 Novelty Detection이라 부를 수 있습니다.\n",
    "\n",
    "- 마찬가지로 새로운 sample이 등장했을 때, 이번엔 강아지가 아닌 호랑이, 말, 운동화, 비행기 등 강아지와 전혀 관련 없는 sample이 등장한다고 가정해보겠습니다. 이러한 sample들을 Outlier sample, 혹은 Abnormal sample이라 부르며, 이러한 sample을 찾아내는 문제를 Outlier Detection이라 부를 수 있습니다."
   ]
  },
  {
   "cell_type": "markdown",
   "id": "1b7e2a7e",
   "metadata": {},
   "source": [
    "- 데이터 시각화 선택 요약\n",
    "    - **비교**: 막대그래프, 카운트 플롯\n",
    "    - **분포**: 히스토그램, KDE Plot, 상자 그림, 바이올린 플롯\n",
    "    - **상관관계**: 산점도, 히트맵\n",
    "    - **변화 추이**: 선그래프\n",
    "    - **구성 비율**: 파이차트, 도넛 차트, 누적 막대그래프\n",
    "    \n",
    "```\n",
    "import matplotlib.pyplot as plt\n",
    "%matplotlib inline\n",
    "```\n",
    "\n",
    "- 그래프를 겹쳐 그렸을 때 효과적일 수 있는 사례\n",
    "    - 회사의 매출을 제품군별로 나누어 누적 막대그래프로 그리면, 각 제품군이 전체 매출에서 얼마나 기여했는지를 비교 할 수 있을 거 같습니다.\n",
    "    - 모델 학습시 성능 측정할 때 loss를 train, val set 비교 시 사용\n",
    "    \n",
    "   \n",
    "   \n",
    "- 혹시 시각화에서 코딩 문제 나올 수 있을까요??\n"
   ]
  },
  {
   "cell_type": "markdown",
   "id": "314c6adc",
   "metadata": {},
   "source": [
    "1. recall과 precision은 왜 trade-off 인지 설명?\n",
    "\n",
    "2. F1 score가 왜 precision과 recall을 모두 고려하는 평가지표로 기능?\n",
    "\n",
    "3. ROC 커브에서 AUC 의 의미\n",
    "\n",
    "4. TPR과 FPR의 관계는 어떤 것을 의미할까요? 왜 FPR을 1-specificity (1- TN/TN+FP) 로 정의했을까요?\n",
    "\n",
    "5. PR-곡선을 그리는데 필요한 Threshold 가 어떤 상황을 가정\n",
    "\n",
    "모델의 임계값(Threshold)이 변함에 따라 Precision (정밀도)과 Recall (재현율)이 어떻게 변하는지 보여줍니다. 구체적으로 설명하자면:\n",
    "\n",
    "임계값이 낮을 때:\n",
    "\n",
    "모델이 양성으로 예측하는 기준이 낮아져 많은 인스턴스가 양성으로 분류됩니다.\n",
    "이로 인해 실제로 양성인 데이터뿐만 아니라, 일부 음성 데이터도 양성으로 분류될 가능성이 높아집니다.\n",
    "그 결과, **재현율(Recall)**은 높아지지만, 잘못된 양성 예측이 많아지면서 **정밀도(Precision)**는 낮아집니다.\n",
    "GIF 상에서는 곡선이 재현율이 높은 쪽으로 이동하지만, 정밀도가 낮아지는 모습을 확인할 수 있습니다.\n",
    "임계값이 높을 때:\n",
    "\n",
    "모델이 양성으로 예측하는 기준이 높아지기 때문에, 엄격하게 양성으로 판단한 인스턴스만 양성으로 분류됩니다.\n",
    "이로 인해 잘못된 양성 예측이 줄어들어 정밀도는 높아지지만, 실제 양성인 일부 데이터를 놓칠 수 있어 재현율은 낮아질 수 있습니다.\n",
    "GIF에서는 곡선이 정밀도가 높은 쪽으로 이동하지만, 재현율이 떨어지는 형태를 보일 것입니다.\n",
    "결과적으로, 이 GIF는 임계값을 조정할 때 Precision과 Recall 간의 균형이 어떻게 변화하는지를 시각적으로 설명하고 있습니다."
   ]
  },
  {
   "cell_type": "markdown",
   "id": "b3b91f76",
   "metadata": {},
   "source": [
    "1. 머신러닝 알고리즘의 종류\n",
    "2. 비지도학습 방식의 특징?\n",
    "3. RMSE 와 MSE 의 차이점?\n",
    "4. 훈련 데이터와 시험 데이터를 분리하는 이유?\n",
    "5. Over Fitting과 Under Fitting 은 어떤 상황?\n",
    "6.  L1, L2 Regularization의 차이점?\n",
    "7. 모델이 강건하다는건 어떤 의미?\n",
    "8. batch normalization 은 어떤 문제를 해결해 주어 학습이 잘 되는건지?\n",
    "9. PCA의 가장 분산이 큰 방향을 보존한다는 것은 어떤 의미\n",
    "10. 차원 축소 시, 이를 어느정도까지 감소시키는 것이 좋을지?\n",
    "11. 차원 축소 시, 기준을 선정하는 방법?"
   ]
  },
  {
   "cell_type": "code",
   "execution_count": null,
   "id": "da0d5686",
   "metadata": {},
   "outputs": [],
   "source": []
  }
 ],
 "metadata": {
  "kernelspec": {
   "display_name": "Python 3 (ipykernel)",
   "language": "python",
   "name": "python3"
  },
  "language_info": {
   "codemirror_mode": {
    "name": "ipython",
    "version": 3
   },
   "file_extension": ".py",
   "mimetype": "text/x-python",
   "name": "python",
   "nbconvert_exporter": "python",
   "pygments_lexer": "ipython3",
   "version": "3.9.7"
  }
 },
 "nbformat": 4,
 "nbformat_minor": 5
}
