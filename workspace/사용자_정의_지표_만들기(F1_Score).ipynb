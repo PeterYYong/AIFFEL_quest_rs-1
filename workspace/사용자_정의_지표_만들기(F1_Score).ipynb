{
  "nbformat": 4,
  "nbformat_minor": 0,
  "metadata": {
    "colab": {
      "provenance": []
    },
    "kernelspec": {
      "name": "python3",
      "display_name": "Python 3"
    },
    "language_info": {
      "name": "python"
    }
  },
  "cells": [
    {
      "cell_type": "code",
      "execution_count": 1,
      "metadata": {
        "id": "pzPyXGk3V4gV"
      },
      "outputs": [],
      "source": [
        "from tensorflow.keras.datasets import imdb\n",
        "from tensorflow import keras\n",
        "from tensorflow.keras import layers, models, callbacks\n",
        "import tensorflow as tf\n",
        "import numpy as np"
      ]
    },
    {
      "cell_type": "code",
      "source": [
        "from sklearn.metrics import precision_score, recall_score, f1_score"
      ],
      "metadata": {
        "id": "kU8okn3En0e_"
      },
      "execution_count": 2,
      "outputs": []
    },
    {
      "cell_type": "code",
      "source": [
        "(train_data, train_labels), (test_data, test_labels) = imdb.load_data(num_words=10000)"
      ],
      "metadata": {
        "id": "_vmZhNcUWF8D",
        "colab": {
          "base_uri": "https://localhost:8080/"
        },
        "outputId": "7a0314e7-3787-43ee-bd22-5717029bb8b0"
      },
      "execution_count": 3,
      "outputs": [
        {
          "output_type": "stream",
          "name": "stdout",
          "text": [
            "Downloading data from https://storage.googleapis.com/tensorflow/tf-keras-datasets/imdb.npz\n",
            "\u001b[1m17464789/17464789\u001b[0m \u001b[32m━━━━━━━━━━━━━━━━━━━━\u001b[0m\u001b[37m\u001b[0m \u001b[1m0s\u001b[0m 0us/step\n"
          ]
        }
      ]
    },
    {
      "cell_type": "code",
      "source": [
        "def vectorize_sequences(sequences, dimension=10000):\n",
        "    results = np.zeros((len(sequences), dimension))\n",
        "    for i, sequence in enumerate(sequences):\n",
        "        results[i, sequence] = 1.\n",
        "    return results\n",
        "train_data = vectorize_sequences(train_data)\n",
        "test_data = vectorize_sequences(test_data)"
      ],
      "metadata": {
        "id": "o4vbVH8AWN0y"
      },
      "execution_count": 4,
      "outputs": []
    },
    {
      "cell_type": "markdown",
      "source": [
        "### 사용자 정의 지표 만들기 F1 Score"
      ],
      "metadata": {
        "id": "IWSi0YJ_cI21"
      }
    },
    {
      "cell_type": "markdown",
      "source": [
        "**Precision**\n",
        "$$\n",
        "\\text{Precision} = \\frac{\\text{True Positives}}{\\text{True Positives} + \\text{False Positives}}\n",
        "$$\n",
        "\n",
        "**Recall**\n",
        "$$\n",
        "\\text{Recall} = \\frac{\\text{True Positives}}{\\text{True Positives} + \\text{False Negatives}}\n",
        "$$\n",
        "\n",
        "**F1 Score**\n",
        "$$\n",
        "\\text{F1 Score} = 2 \\cdot \\frac{\\text{Precision} \\cdot \\text{Recall}}{\\text{Precision} + \\text{Recall}}\n",
        "$$\n",
        "\n"
      ],
      "metadata": {
        "id": "6aG4xWyHaVvb"
      }
    },
    {
      "cell_type": "code",
      "source": [
        "from sklearn.model_selection import train_test_split"
      ],
      "metadata": {
        "id": "QvNJDYq_PRkV"
      },
      "execution_count": 5,
      "outputs": []
    },
    {
      "cell_type": "code",
      "source": [
        "# 학습 데이터(train_data)에서 40%를 검증 데이터로 분리\n",
        "train_data, val_data, train_labels, val_labels = train_test_split(train_data, train_labels, test_size=0.4, random_state=42)"
      ],
      "metadata": {
        "id": "NT8225vGPTkQ"
      },
      "execution_count": 6,
      "outputs": []
    },
    {
      "cell_type": "code",
      "source": [
        "# 데이터 분포 확인\n",
        "unique, counts = np.unique(train_labels, return_counts=True)\n",
        "print(dict(zip(unique, counts)))"
      ],
      "metadata": {
        "colab": {
          "base_uri": "https://localhost:8080/"
        },
        "id": "idi0sgHacnx1",
        "outputId": "ce052fbb-ecbf-480d-8171-c95799317e5b"
      },
      "execution_count": 7,
      "outputs": [
        {
          "output_type": "stream",
          "name": "stdout",
          "text": [
            "{0: 7535, 1: 7465}\n"
          ]
        }
      ]
    },
    {
      "cell_type": "code",
      "source": [
        "unique, counts = np.unique(val_labels, return_counts=True)\n",
        "print(dict(zip(unique, counts)))"
      ],
      "metadata": {
        "colab": {
          "base_uri": "https://localhost:8080/"
        },
        "id": "s5L8YSreeAbE",
        "outputId": "95e93acc-be78-4b6f-8140-d32e0d806476"
      },
      "execution_count": 8,
      "outputs": [
        {
          "output_type": "stream",
          "name": "stdout",
          "text": [
            "{0: 4965, 1: 5035}\n"
          ]
        }
      ]
    },
    {
      "cell_type": "code",
      "source": [
        "unique, counts = np.unique(test_labels, return_counts=True)\n",
        "print(dict(zip(unique, counts)))"
      ],
      "metadata": {
        "colab": {
          "base_uri": "https://localhost:8080/"
        },
        "id": "LuarlHT9U3L7",
        "outputId": "19b281eb-6ed8-4c45-b620-1d79b1b33ae6"
      },
      "execution_count": 9,
      "outputs": [
        {
          "output_type": "stream",
          "name": "stdout",
          "text": [
            "{0: 12500, 1: 12500}\n"
          ]
        }
      ]
    },
    {
      "cell_type": "code",
      "source": [
        "class MyMetric(tf.keras.metrics.Metric):\n",
        "    def __init__(self, name=\"f1_score\", **kwargs):\n",
        "        \"\"\"\n",
        "        F1 Score를 계산하는 사용자 정의 Metric 클래스.\n",
        "        - F1 Score는 Precision과 Recall의 조화 평균으로 정의 됨\n",
        "        - Metric 클래스 초기화 시 True Positives, False Positives, False Negatives를 초기화\n",
        "\n",
        "        Args:\n",
        "        - name (str): Metric 이름 (기본값은 \"f1_score\").\n",
        "        - **kwargs: 기타 Metric 관련 인자.\n",
        "        \"\"\"\n",
        "        super().__init__(name=name, **kwargs)\n",
        "        # True Positives, False Positives, False Negatives를 저장하는 상태 변수 생성\n",
        "        self.true_positives = self.add_weight(name=\"tp\", initializer=\"zeros\")\n",
        "        self.false_positives = self.add_weight(name=\"fp\", initializer=\"zeros\")\n",
        "        self.false_negatives = self.add_weight(name=\"fn\", initializer=\"zeros\")\n",
        "\n",
        "    def update_state(self, y_true, y_pred, sample_weight=None):\n",
        "        \"\"\"\n",
        "        매 배치(batch)에서 True Positives, False Positives, False Negatives를 업데이트\n",
        "\n",
        "        Args:\n",
        "        - y_true: 실제 라벨 (0 또는 1).\n",
        "        - y_pred: 모델의 예측값 (0 또는 1).\n",
        "        - sample_weight: 각 샘플에 가중치를 줄 때 사용하는 선택적 인자.\n",
        "        \"\"\"\n",
        "        # y_true와 y_pred를 float32로 변환\n",
        "        threshold = 0.5  # 최적의 값으로 설정\n",
        "        y_pred = tf.cast(y_pred > threshold, tf.float32)\n",
        "        # y_pred = tf.cast(tf.round(y_pred), tf.float32)\n",
        "        y_true = tf.cast(y_true, tf.float32)\n",
        "\n",
        "        # True Positives: y_true와 y_pred가 모두 1인 경우\n",
        "        self.true_positives.assign_add(tf.reduce_sum(y_true * y_pred))\n",
        "\n",
        "        # False Positives: y_true가 0이고 y_pred가 1인 경우\n",
        "        self.false_positives.assign_add(tf.reduce_sum((1 - y_true) * y_pred))\n",
        "\n",
        "        # False Negatives: y_true가 1이고 y_pred가 0인 경우\n",
        "        self.false_negatives.assign_add(tf.reduce_sum(y_true * (1 - y_pred)))\n",
        "\n",
        "    def result(self):\n",
        "        \"\"\"\n",
        "        F1 Score 계산:\n",
        "        - Precision = True Positives / (True Positives + False Positives)\n",
        "        - Recall = True Positives / (True Positives + False Negatives)\n",
        "        - F1 Score = 2 * (Precision * Recall) / (Precision + Recall)\n",
        "\n",
        "        Returns:\n",
        "        - F1 Score 값.\n",
        "        \"\"\"\n",
        "        # Precision 계산 (양성 예측 중 실제 양성의 비율)\n",
        "        precision = self.true_positives / (self.true_positives + self.false_positives + 1e-7)\n",
        "\n",
        "        # Recall 계산 (실제 양성 중 올바르게 예측된 비율)\n",
        "        recall = self.true_positives / (self.true_positives + self.false_negatives + 1e-7)\n",
        "\n",
        "        # F1 Score 계산 (Precision과 Recall의 조화 평균)\n",
        "        return 2 * ((precision * recall) / (precision + recall + 1e-7))\n",
        "\n",
        "    def reset_states(self):\n",
        "        \"\"\"\n",
        "        Metric 상태를 초기화합니다. (에폭 시작 시 호출됨)\n",
        "        - True Positives, False Positives, False Negatives 값을 0으로 초기화.\n",
        "        \"\"\"\n",
        "        self.true_positives.assign(0)\n",
        "        self.false_positives.assign(0)\n",
        "        self.false_negatives.assign(0)"
      ],
      "metadata": {
        "id": "9Ld658mxV77H"
      },
      "execution_count": 10,
      "outputs": []
    },
    {
      "cell_type": "code",
      "source": [
        "# Build the model\n",
        "model = models.Sequential([\n",
        "    layers.Input(shape=(10000,)),\n",
        "    layers.Dense(16, activation=\"relu\"),\n",
        "    layers.Dense(16, activation=\"relu\"),\n",
        "    layers.Dense(1, activation=\"sigmoid\")\n",
        "])\n",
        "\n",
        "# metrics 에 MyMetric() 에 추가\n",
        "model.compile(optimizer=\"rmsprop\",\n",
        "              loss=\"binary_crossentropy\",\n",
        "              metrics=[\"accuracy\", MyMetric()])\n",
        "\n",
        "history = model.fit(train_data, train_labels,\n",
        "                    epochs=5, batch_size=512,\n",
        "                    validation_data=(val_data, val_labels))"
      ],
      "metadata": {
        "colab": {
          "base_uri": "https://localhost:8080/"
        },
        "id": "jRnMLxjWeKpx",
        "outputId": "03dbd4d9-b173-40e9-c14e-ed44a4fb479f"
      },
      "execution_count": 11,
      "outputs": [
        {
          "output_type": "stream",
          "name": "stdout",
          "text": [
            "Epoch 1/5\n",
            "\u001b[1m30/30\u001b[0m \u001b[32m━━━━━━━━━━━━━━━━━━━━\u001b[0m\u001b[37m\u001b[0m \u001b[1m5s\u001b[0m 104ms/step - accuracy: 0.7052 - f1_score: 0.5312 - loss: 0.6007 - val_accuracy: 0.8654 - val_f1_score: 0.5099 - val_loss: 0.4068\n",
            "Epoch 2/5\n",
            "\u001b[1m30/30\u001b[0m \u001b[32m━━━━━━━━━━━━━━━━━━━━\u001b[0m\u001b[37m\u001b[0m \u001b[1m3s\u001b[0m 50ms/step - accuracy: 0.8953 - f1_score: 0.5033 - loss: 0.3494 - val_accuracy: 0.8821 - val_f1_score: 0.5024 - val_loss: 0.3200\n",
            "Epoch 3/5\n",
            "\u001b[1m30/30\u001b[0m \u001b[32m━━━━━━━━━━━━━━━━━━━━\u001b[0m\u001b[37m\u001b[0m \u001b[1m2s\u001b[0m 58ms/step - accuracy: 0.9192 - f1_score: 0.4962 - loss: 0.2496 - val_accuracy: 0.8819 - val_f1_score: 0.5222 - val_loss: 0.2948\n",
            "Epoch 4/5\n",
            "\u001b[1m30/30\u001b[0m \u001b[32m━━━━━━━━━━━━━━━━━━━━\u001b[0m\u001b[37m\u001b[0m \u001b[1m2s\u001b[0m 59ms/step - accuracy: 0.9349 - f1_score: 0.5007 - loss: 0.2040 - val_accuracy: 0.8846 - val_f1_score: 0.5074 - val_loss: 0.2828\n",
            "Epoch 5/5\n",
            "\u001b[1m30/30\u001b[0m \u001b[32m━━━━━━━━━━━━━━━━━━━━\u001b[0m\u001b[37m\u001b[0m \u001b[1m3s\u001b[0m 63ms/step - accuracy: 0.9495 - f1_score: 0.4978 - loss: 0.1635 - val_accuracy: 0.8763 - val_f1_score: 0.4843 - val_loss: 0.3006\n"
          ]
        }
      ]
    },
    {
      "cell_type": "markdown",
      "source": [
        "- 위 결과를 보면 MyMetric에서 사용자 정의 지표로 구현한 f1_score 값이 0.5 근방에서 머물고 있는게 이상하다!\n",
        "- 디버깅을 위해서 아래와 같이 callback 함수를 통해 Sklearn 과 Manual 로 f1_score 값을 구할 수 있는 class 를 만들어 추가 한다.\n",
        "- 원래 각각 구현한 2개의 class 를 동일한 시점에 계산 할 수 있도록 하나의 함수로 merge 하였다"
      ],
      "metadata": {
        "id": "Mx7Oc8bEiGgt"
      }
    },
    {
      "cell_type": "code",
      "source": [
        "# # Define custom callback for metrics\n",
        "# class sklearn_MetricsCallback(callbacks.Callback):\n",
        "#     def __init__(self, val_data):\n",
        "#         super().__init__()\n",
        "#         self.val_data = val_data\n",
        "\n",
        "#     def on_epoch_end(self, epoch, logs=None):\n",
        "#         y_pred = (self.model.predict(self.val_data[0]) > 0.5).astype(int)\n",
        "#         y_true = self.val_data[1]\n",
        "#         precision = precision_score(y_true, y_pred)\n",
        "#         recall = recall_score(y_true, y_pred)\n",
        "#         f1 = f1_score(y_true, y_pred)\n",
        "#         print(f\"Epoch {epoch + 1} - sklearn Precision: {precision:.4f}, Recall: {recall:.4f}, F1 Score: {f1:.4f}\")\n"
      ],
      "metadata": {
        "id": "s79blhkmKAvJ"
      },
      "execution_count": 12,
      "outputs": []
    },
    {
      "cell_type": "code",
      "source": [
        "# # Define custom callback for metrics\n",
        "# class MetricsCallback(callbacks.Callback):\n",
        "#     def __init__(self, val_data):\n",
        "#         super().__init__()\n",
        "#         self.val_data = val_data\n",
        "\n",
        "#     def on_epoch_end(self, epoch, logs=None):\n",
        "#        y_pred = (self.model.predict(self.val_data[0]) > 0.5).astype(int)\n",
        "#        y_true = self.val_data[1]\n",
        "\n",
        "#         # Manual metrics calculation using TensorFlow for consistency\n",
        "#         true_positives = tf.reduce_sum(tf.cast(y_true_tf * y_pred, tf.float32))\n",
        "#         false_positives = tf.reduce_sum(tf.cast((1 - y_true_tf) * y_pred, tf.float32))\n",
        "#         false_negatives = tf.reduce_sum(tf.cast(y_true_tf * (1 - y_pred), tf.float32))\n",
        "\n",
        "#         precision_manual = true_positives / (true_positives + false_positives + 1e-7)\n",
        "#         recall_manual = true_positives / (true_positives + false_negatives + 1e-7)\n",
        "#         f1_manual = 2 * (precision_manual * recall_manual) / (precision_manual + recall_manual + 1e-7)\n",
        "\n",
        "#         print(f\"Epoch {epoch + 1} - Manually Precision: {precision_manual.numpy():.4f}, Recall: {recall_manual.numpy():.4f}, F1 Score: {f1_manual.numpy():.4f}\")"
      ],
      "metadata": {
        "id": "3nGm-J1eXf4S"
      },
      "execution_count": 13,
      "outputs": []
    },
    {
      "cell_type": "code",
      "source": [
        "# Define unified callback for both sklearn and manual metric calculations\n",
        "class CombinedMetricsCallback(callbacks.Callback):\n",
        "    def __init__(self, val_data):\n",
        "        super().__init__()\n",
        "        self.val_data = val_data\n",
        "\n",
        "    def on_epoch_end(self, epoch, logs=None):\n",
        "        y_pred = (self.model.predict(self.val_data[0]) > 0.5).astype(int)\n",
        "        y_true = self.val_data[1]\n",
        "\n",
        "        # Sklearn metrics\n",
        "        precision_sklearn = precision_score(y_true, y_pred)\n",
        "        recall_sklearn = recall_score(y_true, y_pred)\n",
        "        f1_sklearn = f1_score(y_true, y_pred)\n",
        "        print(f\"Epoch {epoch + 1} - sklearn Precision: {precision_sklearn:.4f}, Recall: {recall_sklearn:.4f}, F1 Score: {f1_sklearn:.4f}\")\n",
        "\n",
        "        # Manual metrics calculation using TensorFlow for consistency\n",
        "        true_positives = tf.reduce_sum(tf.cast(y_true * y_pred, tf.float32))\n",
        "        false_positives = tf.reduce_sum(tf.cast((1 - y_true) * y_pred, tf.float32))\n",
        "        false_negatives = tf.reduce_sum(tf.cast(y_true * (1 - y_pred), tf.float32))\n",
        "\n",
        "        precision_manual = true_positives / (true_positives + false_positives + 1e-7)\n",
        "        recall_manual = true_positives / (true_positives + false_negatives + 1e-7)\n",
        "        f1_manual = 2 * (precision_manual * recall_manual) / (precision_manual + recall_manual + 1e-7)\n",
        "\n",
        "        print(f\"Epoch {epoch + 1} - Manually Precision: {precision_manual.numpy():.4f}, Recall: {recall_manual.numpy():.4f}, F1 Score: {f1_manual.numpy():.4f}\")"
      ],
      "metadata": {
        "id": "BNqb5fRCbynm"
      },
      "execution_count": 14,
      "outputs": []
    },
    {
      "cell_type": "code",
      "source": [
        "# Build the model\n",
        "model = models.Sequential([\n",
        "    layers.Input(shape=(10000,)),\n",
        "    layers.Dense(16, activation=\"relu\"),\n",
        "    layers.Dense(16, activation=\"relu\"),\n",
        "    layers.Dense(1, activation=\"sigmoid\")\n",
        "])\n",
        "\n",
        "# metrics 에 MyMetric() 에 추가\n",
        "model.compile(optimizer=\"rmsprop\",\n",
        "              loss=\"binary_crossentropy\",\n",
        "              metrics=[\"accuracy\", MyMetric()])\n",
        "\n",
        "# Train the model with both custom callbacks\n",
        "# sklearn_metrics_callback = sklearn_MetricsCallback((val_data, val_labels))\n",
        "# manual_metrics_callback = MetricsCallback((val_data, val_labels))\n",
        "# history = model.fit(train_data, train_labels,\n",
        "#                     epochs=5, batch_size=512,\n",
        "#                     validation_data=(val_data, val_labels),\n",
        "#                     callbacks=[sklearn_metrics_callback, manual_metrics_callback])\n",
        "\n",
        "# Train the model with the combined callback\n",
        "combined_metrics_callback = CombinedMetricsCallback((val_data, val_labels))\n",
        "history = model.fit(train_data, train_labels,\n",
        "                    epochs=5, batch_size=512,\n",
        "                    validation_data=(val_data, val_labels),\n",
        "                    callbacks=[combined_metrics_callback])"
      ],
      "metadata": {
        "colab": {
          "base_uri": "https://localhost:8080/"
        },
        "id": "bBWQZ_3JMd26",
        "outputId": "f0f07ff9-681c-4b15-bb0a-853e4d4fe0fc"
      },
      "execution_count": 15,
      "outputs": [
        {
          "output_type": "stream",
          "name": "stdout",
          "text": [
            "Epoch 1/5\n",
            "\u001b[1m313/313\u001b[0m \u001b[32m━━━━━━━━━━━━━━━━━━━━\u001b[0m\u001b[37m\u001b[0m \u001b[1m1s\u001b[0m 2ms/step\n",
            "Epoch 1 - sklearn Precision: 0.8853, Recall: 0.8354, F1 Score: 0.8596\n",
            "Epoch 1 - Manually Precision: 0.5035, Recall: 0.4751, F1 Score: 0.4889\n",
            "\u001b[1m30/30\u001b[0m \u001b[32m━━━━━━━━━━━━━━━━━━━━\u001b[0m\u001b[37m\u001b[0m \u001b[1m11s\u001b[0m 329ms/step - accuracy: 0.6900 - f1_score: 0.5404 - loss: 0.5896 - val_accuracy: 0.8626 - val_f1_score: 0.4897 - val_loss: 0.3841\n",
            "Epoch 2/5\n",
            "\u001b[1m313/313\u001b[0m \u001b[32m━━━━━━━━━━━━━━━━━━━━\u001b[0m\u001b[37m\u001b[0m \u001b[1m1s\u001b[0m 3ms/step\n",
            "Epoch 2 - sklearn Precision: 0.8208, Recall: 0.9452, F1 Score: 0.8786\n",
            "Epoch 2 - Manually Precision: 0.5035, Recall: 0.5798, F1 Score: 0.5390\n",
            "\u001b[1m30/30\u001b[0m \u001b[32m━━━━━━━━━━━━━━━━━━━━\u001b[0m\u001b[37m\u001b[0m \u001b[1m8s\u001b[0m 266ms/step - accuracy: 0.8956 - f1_score: 0.5000 - loss: 0.3268 - val_accuracy: 0.8685 - val_f1_score: 0.5397 - val_loss: 0.3306\n",
            "Epoch 3/5\n",
            "\u001b[1m313/313\u001b[0m \u001b[32m━━━━━━━━━━━━━━━━━━━━\u001b[0m\u001b[37m\u001b[0m \u001b[1m1s\u001b[0m 2ms/step\n",
            "Epoch 3 - sklearn Precision: 0.8687, Recall: 0.9067, F1 Score: 0.8873\n",
            "Epoch 3 - Manually Precision: 0.5035, Recall: 0.5255, F1 Score: 0.5143\n",
            "\u001b[1m30/30\u001b[0m \u001b[32m━━━━━━━━━━━━━━━━━━━━\u001b[0m\u001b[37m\u001b[0m \u001b[1m7s\u001b[0m 237ms/step - accuracy: 0.9243 - f1_score: 0.5041 - loss: 0.2383 - val_accuracy: 0.8840 - val_f1_score: 0.5152 - val_loss: 0.2867\n",
            "Epoch 4/5\n",
            "\u001b[1m313/313\u001b[0m \u001b[32m━━━━━━━━━━━━━━━━━━━━\u001b[0m\u001b[37m\u001b[0m \u001b[1m1s\u001b[0m 2ms/step\n",
            "Epoch 4 - sklearn Precision: 0.8764, Recall: 0.8973, F1 Score: 0.8868\n",
            "Epoch 4 - Manually Precision: 0.5035, Recall: 0.5155, F1 Score: 0.5094\n",
            "\u001b[1m30/30\u001b[0m \u001b[32m━━━━━━━━━━━━━━━━━━━━\u001b[0m\u001b[37m\u001b[0m \u001b[1m10s\u001b[0m 235ms/step - accuracy: 0.9477 - f1_score: 0.5019 - loss: 0.1795 - val_accuracy: 0.8846 - val_f1_score: 0.5104 - val_loss: 0.2824\n",
            "Epoch 5/5\n",
            "\u001b[1m313/313\u001b[0m \u001b[32m━━━━━━━━━━━━━━━━━━━━\u001b[0m\u001b[37m\u001b[0m \u001b[1m1s\u001b[0m 3ms/step\n",
            "Epoch 5 - sklearn Precision: 0.9134, Recall: 0.8359, F1 Score: 0.8730\n",
            "Epoch 5 - Manually Precision: 0.5035, Recall: 0.4608, F1 Score: 0.4812\n",
            "\u001b[1m30/30\u001b[0m \u001b[32m━━━━━━━━━━━━━━━━━━━━\u001b[0m\u001b[37m\u001b[0m \u001b[1m8s\u001b[0m 264ms/step - accuracy: 0.9499 - f1_score: 0.5008 - loss: 0.1540 - val_accuracy: 0.8775 - val_f1_score: 0.4824 - val_loss: 0.3079\n"
          ]
        }
      ]
    },
    {
      "cell_type": "markdown",
      "source": [
        "- 위 값을 비교해 보니 역시나 epoch 마다 sklearn 과 Manual F1 Score 값이 너무 차이가 많이 난다!!\n",
        "- Manual 함수에서 TP, FP, FN 을 직접 구하지 않고 confusion_matrix 를 이용해서  F1 Score 를 구하도록 수정 하고 디버깅 한다.\n",
        "- 디버깅을 위해 TP, FP, FN 을 출력한다."
      ],
      "metadata": {
        "id": "D-MH78EVipKr"
      }
    },
    {
      "cell_type": "code",
      "source": [
        "from sklearn.metrics import confusion_matrix"
      ],
      "metadata": {
        "id": "9-Fh_enhdXhE"
      },
      "execution_count": 16,
      "outputs": []
    },
    {
      "cell_type": "code",
      "source": [
        "# Define unified callback for both sklearn and manual metric calculations\n",
        "class CombinedMetricsCallback(callbacks.Callback):\n",
        "    def __init__(self, val_data):\n",
        "        super().__init__()\n",
        "        self.val_data = val_data\n",
        "\n",
        "    def on_epoch_end(self, epoch, logs=None):\n",
        "        y_pred = (self.model.predict(self.val_data[0]) > 0.5).astype(int)\n",
        "        y_true = self.val_data[1]\n",
        "\n",
        "        # Sklearn metrics\n",
        "        precision_sklearn = precision_score(y_true, y_pred)\n",
        "        recall_sklearn = recall_score(y_true, y_pred)\n",
        "        f1_sklearn = f1_score(y_true, y_pred)\n",
        "        print(f\"Epoch {epoch + 1} - sklearn Precision: {precision_sklearn:.4f}, Recall: {recall_sklearn:.4f}, F1 Score: {f1_sklearn:.4f}\")\n",
        "\n",
        "        # Manual metrics calculation using confusion_matrix\n",
        "        tn, fp, fn, tp = confusion_matrix(y_true, y_pred).ravel()\n",
        "        # Logging true positive, false positive, and false negative counts\n",
        "        print(f\"Epoch {epoch + 1} - True Positives: {tp}, False Positives: {fp}, False Negatives: {fn}\")\n",
        "\n",
        "        precision_manual = tp / (tp + fp + 1e-7)\n",
        "        recall_manual = tp / (tp + fn + 1e-7)\n",
        "        f1_manual = 2 * (precision_manual * recall_manual) / (precision_manual + recall_manual + 1e-7)\n",
        "\n",
        "        print(f\"Epoch {epoch + 1} - Manually Precision: {precision_manual:.4f}, Recall: {recall_manual:.4f}, F1 Score: {f1_manual:.4f}\")"
      ],
      "metadata": {
        "id": "pwv02ygNdFj1"
      },
      "execution_count": 17,
      "outputs": []
    },
    {
      "cell_type": "code",
      "source": [
        "# Build the model\n",
        "model = models.Sequential([\n",
        "    layers.Input(shape=(10000,)),\n",
        "    layers.Dense(16, activation=\"relu\"),\n",
        "    layers.Dense(16, activation=\"relu\"),\n",
        "    layers.Dense(1, activation=\"sigmoid\")\n",
        "])\n",
        "\n",
        "# metrics 에 MyMetric() 에 추가\n",
        "model.compile(optimizer=\"rmsprop\",\n",
        "              loss=\"binary_crossentropy\",\n",
        "              metrics=[\"accuracy\", MyMetric()])\n",
        "\n",
        "# Train the model with the combined callback\n",
        "combined_metrics_callback = CombinedMetricsCallback((val_data, val_labels))\n",
        "history = model.fit(train_data, train_labels,\n",
        "                    epochs=5, batch_size=512,\n",
        "                    validation_data=(val_data, val_labels),\n",
        "                    callbacks=[combined_metrics_callback])"
      ],
      "metadata": {
        "colab": {
          "base_uri": "https://localhost:8080/"
        },
        "id": "jICfXzqAdMTN",
        "outputId": "5559f92c-9cf5-46a0-8e83-8886865100b2"
      },
      "execution_count": 18,
      "outputs": [
        {
          "output_type": "stream",
          "name": "stdout",
          "text": [
            "Epoch 1/5\n",
            "\u001b[1m313/313\u001b[0m \u001b[32m━━━━━━━━━━━━━━━━━━━━\u001b[0m\u001b[37m\u001b[0m \u001b[1m1s\u001b[0m 2ms/step\n",
            "Epoch 1 - sklearn Precision: 0.8262, Recall: 0.9142, F1 Score: 0.8680\n",
            "Epoch 1 - True Positives: 4603, False Positives: 968, False Negatives: 432\n",
            "Epoch 1 - Manually Precision: 0.8262, Recall: 0.9142, F1 Score: 0.8680\n",
            "\u001b[1m30/30\u001b[0m \u001b[32m━━━━━━━━━━━━━━━━━━━━\u001b[0m\u001b[37m\u001b[0m \u001b[1m4s\u001b[0m 109ms/step - accuracy: 0.6702 - f1_score: 0.3519 - loss: 0.6130 - val_accuracy: 0.8600 - val_f1_score: 0.5300 - val_loss: 0.4207\n",
            "Epoch 2/5\n",
            "\u001b[1m313/313\u001b[0m \u001b[32m━━━━━━━━━━━━━━━━━━━━\u001b[0m\u001b[37m\u001b[0m \u001b[1m1s\u001b[0m 3ms/step\n",
            "Epoch 2 - sklearn Precision: 0.8918, Recall: 0.8645, F1 Score: 0.8780\n",
            "Epoch 2 - True Positives: 4353, False Positives: 528, False Negatives: 682\n",
            "Epoch 2 - Manually Precision: 0.8918, Recall: 0.8645, F1 Score: 0.8780\n",
            "\u001b[1m30/30\u001b[0m \u001b[32m━━━━━━━━━━━━━━━━━━━━\u001b[0m\u001b[37m\u001b[0m \u001b[1m4s\u001b[0m 119ms/step - accuracy: 0.8917 - f1_score: 0.4957 - loss: 0.3572 - val_accuracy: 0.8790 - val_f1_score: 0.4965 - val_loss: 0.3277\n",
            "Epoch 3/5\n",
            "\u001b[1m313/313\u001b[0m \u001b[32m━━━━━━━━━━━━━━━━━━━━\u001b[0m\u001b[37m\u001b[0m \u001b[1m1s\u001b[0m 2ms/step\n",
            "Epoch 3 - sklearn Precision: 0.9241, Recall: 0.8129, F1 Score: 0.8650\n",
            "Epoch 3 - True Positives: 4093, False Positives: 336, False Negatives: 942\n",
            "Epoch 3 - Manually Precision: 0.9241, Recall: 0.8129, F1 Score: 0.8650\n",
            "\u001b[1m30/30\u001b[0m \u001b[32m━━━━━━━━━━━━━━━━━━━━\u001b[0m\u001b[37m\u001b[0m \u001b[1m2s\u001b[0m 78ms/step - accuracy: 0.9203 - f1_score: 0.4985 - loss: 0.2602 - val_accuracy: 0.8722 - val_f1_score: 0.4724 - val_loss: 0.3167\n",
            "Epoch 4/5\n",
            "\u001b[1m313/313\u001b[0m \u001b[32m━━━━━━━━━━━━━━━━━━━━\u001b[0m\u001b[37m\u001b[0m \u001b[1m1s\u001b[0m 2ms/step\n",
            "Epoch 4 - sklearn Precision: 0.8825, Recall: 0.8892, F1 Score: 0.8858\n",
            "Epoch 4 - True Positives: 4477, False Positives: 596, False Negatives: 558\n",
            "Epoch 4 - Manually Precision: 0.8825, Recall: 0.8892, F1 Score: 0.8858\n",
            "\u001b[1m30/30\u001b[0m \u001b[32m━━━━━━━━━━━━━━━━━━━━\u001b[0m\u001b[37m\u001b[0m \u001b[1m3s\u001b[0m 102ms/step - accuracy: 0.9343 - f1_score: 0.4930 - loss: 0.2051 - val_accuracy: 0.8846 - val_f1_score: 0.5064 - val_loss: 0.2834\n",
            "Epoch 5/5\n",
            "\u001b[1m313/313\u001b[0m \u001b[32m━━━━━━━━━━━━━━━━━━━━\u001b[0m\u001b[37m\u001b[0m \u001b[1m1s\u001b[0m 2ms/step\n",
            "Epoch 5 - sklearn Precision: 0.8678, Recall: 0.9059, F1 Score: 0.8864\n",
            "Epoch 5 - True Positives: 4561, False Positives: 695, False Negatives: 474\n",
            "Epoch 5 - Manually Precision: 0.8678, Recall: 0.9059, F1 Score: 0.8864\n",
            "\u001b[1m30/30\u001b[0m \u001b[32m━━━━━━━━━━━━━━━━━━━━\u001b[0m\u001b[37m\u001b[0m \u001b[1m2s\u001b[0m 81ms/step - accuracy: 0.9508 - f1_score: 0.4945 - loss: 0.1659 - val_accuracy: 0.8831 - val_f1_score: 0.5152 - val_loss: 0.2865\n"
          ]
        }
      ]
    },
    {
      "cell_type": "markdown",
      "source": [
        "- 역시 예상대로 confusion_matrix 로 계산한 결과는 동일 하게 나왔다!\n",
        "- F1 Score 계산식에는 문제가 없다는 소리이고 precision 과 recall 값이 이상하게 나온다는 소리다!\n",
        "- y_pred 와 y_true 의 shape 을 확인한다.\n",
        "- 디버깅을 위해 TP, FP, FN 을 출력 할 수 있게 수정 한다."
      ],
      "metadata": {
        "id": "HR9Mt-ndjf4L"
      }
    },
    {
      "cell_type": "code",
      "source": [
        "# Define unified callback for both sklearn and manual metric calculations\n",
        "class CombinedMetricsCallback(callbacks.Callback):\n",
        "    def __init__(self, val_data):\n",
        "        super().__init__()\n",
        "        self.val_data = val_data\n",
        "\n",
        "    def on_epoch_end(self, epoch, logs=None):\n",
        "        y_pred = (self.model.predict(self.val_data[0]) > 0.5).astype(int)\n",
        "        y_true = self.val_data[1]\n",
        "        print(f\"y_true shape: {y_true.shape}, y_pred shape: {y_pred.shape}\")\n",
        "        # Sklearn metrics\n",
        "        precision_sklearn = precision_score(y_true, y_pred)\n",
        "        recall_sklearn = recall_score(y_true, y_pred)\n",
        "        f1_sklearn = f1_score(y_true, y_pred)\n",
        "        print(f\"Epoch {epoch + 1} - sklearn Precision: {precision_sklearn:.4f}, Recall: {recall_sklearn:.4f}, F1 Score: {f1_sklearn:.4f}\")\n",
        "\n",
        "        # Manual metrics calculation using TensorFlow for consistency\n",
        "        true_positives = tf.reduce_sum(tf.cast(y_true * y_pred, tf.float32))\n",
        "        false_positives = tf.reduce_sum(tf.cast((1 - y_true) * y_pred, tf.float32))\n",
        "        false_negatives = tf.reduce_sum(tf.cast(y_true * (1 - y_pred), tf.float32))\n",
        "\n",
        "        # Logging true positive, false positive, and false negative counts\n",
        "        print(f\"Epoch {epoch + 1} - True Positives: {true_positives.numpy()}, False Positives: {false_positives.numpy()}, False Negatives: {false_negatives.numpy()}\")\n",
        "\n",
        "        precision_manual = true_positives / (true_positives + false_positives + 1e-7)\n",
        "        recall_manual = true_positives / (true_positives + false_negatives + 1e-7)\n",
        "        f1_manual = 2 * (precision_manual * recall_manual) / (precision_manual + recall_manual + 1e-7)\n",
        "\n",
        "        print(f\"Epoch {epoch + 1} - Manually Precision: {precision_manual.numpy():.4f}, Recall: {recall_manual.numpy():.4f}, F1 Score: {f1_manual.numpy():.4f}\")"
      ],
      "metadata": {
        "id": "ncj0diVsedoS"
      },
      "execution_count": 19,
      "outputs": []
    },
    {
      "cell_type": "code",
      "source": [
        "# Build the model\n",
        "model = models.Sequential([\n",
        "    layers.Input(shape=(10000,)),\n",
        "    layers.Dense(16, activation=\"relu\"),\n",
        "    layers.Dense(16, activation=\"relu\"),\n",
        "    layers.Dense(1, activation=\"sigmoid\")\n",
        "])\n",
        "\n",
        "# Compile the model with custom metric\n",
        "model.compile(optimizer=\"rmsprop\",\n",
        "              loss=\"binary_crossentropy\",\n",
        "              metrics=[\"accuracy\", MyMetric()])\n",
        "\n",
        "# Train the model with the combined callback\n",
        "combined_metrics_callback = CombinedMetricsCallback((val_data, val_labels))\n",
        "history = model.fit(train_data, train_labels,\n",
        "                    epochs=5, batch_size=512,\n",
        "                    validation_data=(val_data, val_labels),\n",
        "                    callbacks=[combined_metrics_callback])"
      ],
      "metadata": {
        "colab": {
          "base_uri": "https://localhost:8080/"
        },
        "id": "cX09dwVMetwX",
        "outputId": "9abb03f1-f683-4013-e2d9-9221696df46d"
      },
      "execution_count": 20,
      "outputs": [
        {
          "output_type": "stream",
          "name": "stdout",
          "text": [
            "Epoch 1/5\n",
            "\u001b[1m313/313\u001b[0m \u001b[32m━━━━━━━━━━━━━━━━━━━━\u001b[0m\u001b[37m\u001b[0m \u001b[1m1s\u001b[0m 3ms/step\n",
            "y_true shape: (10000,), y_pred shape: (10000, 1)\n",
            "Epoch 1 - sklearn Precision: 0.8887, Recall: 0.8278, F1 Score: 0.8572\n",
            "Epoch 1 - True Positives: 23614150.0, False Positives: 23285850.0, False Negatives: 26735850.0\n",
            "Epoch 1 - Manually Precision: 0.5035, Recall: 0.4690, F1 Score: 0.4856\n",
            "\u001b[1m30/30\u001b[0m \u001b[32m━━━━━━━━━━━━━━━━━━━━\u001b[0m\u001b[37m\u001b[0m \u001b[1m14s\u001b[0m 449ms/step - accuracy: 0.6958 - f1_score: 0.4363 - loss: 0.5977 - val_accuracy: 0.8611 - val_f1_score: 0.4865 - val_loss: 0.3988\n",
            "Epoch 2/5\n",
            "\u001b[1m313/313\u001b[0m \u001b[32m━━━━━━━━━━━━━━━━━━━━\u001b[0m\u001b[37m\u001b[0m \u001b[1m1s\u001b[0m 2ms/step\n",
            "y_true shape: (10000,), y_pred shape: (10000, 1)\n",
            "Epoch 2 - sklearn Precision: 0.8616, Recall: 0.9090, F1 Score: 0.8847\n",
            "Epoch 2 - True Positives: 26745920.0, False Positives: 26374080.0, False Negatives: 23604080.0\n",
            "Epoch 2 - Manually Precision: 0.5035, Recall: 0.5312, F1 Score: 0.5170\n",
            "\u001b[1m30/30\u001b[0m \u001b[32m━━━━━━━━━━━━━━━━━━━━\u001b[0m\u001b[37m\u001b[0m \u001b[1m20s\u001b[0m 426ms/step - accuracy: 0.8946 - f1_score: 0.4976 - loss: 0.3395 - val_accuracy: 0.8807 - val_f1_score: 0.5179 - val_loss: 0.3155\n",
            "Epoch 3/5\n",
            "\u001b[1m313/313\u001b[0m \u001b[32m━━━━━━━━━━━━━━━━━━━━\u001b[0m\u001b[37m\u001b[0m \u001b[1m1s\u001b[0m 2ms/step\n",
            "y_true shape: (10000,), y_pred shape: (10000, 1)\n",
            "Epoch 3 - sklearn Precision: 0.8856, Recall: 0.8858, F1 Score: 0.8857\n",
            "Epoch 3 - True Positives: 25356260.0, False Positives: 25003740.0, False Negatives: 24993740.0\n",
            "Epoch 3 - Manually Precision: 0.5035, Recall: 0.5036, F1 Score: 0.5035\n",
            "\u001b[1m30/30\u001b[0m \u001b[32m━━━━━━━━━━━━━━━━━━━━\u001b[0m\u001b[37m\u001b[0m \u001b[1m7s\u001b[0m 232ms/step - accuracy: 0.9289 - f1_score: 0.4943 - loss: 0.2382 - val_accuracy: 0.8849 - val_f1_score: 0.5045 - val_loss: 0.2875\n",
            "Epoch 4/5\n",
            "\u001b[1m313/313\u001b[0m \u001b[32m━━━━━━━━━━━━━━━━━━━━\u001b[0m\u001b[37m\u001b[0m \u001b[1m1s\u001b[0m 3ms/step\n",
            "y_true shape: (10000,), y_pred shape: (10000, 1)\n",
            "Epoch 4 - sklearn Precision: 0.8354, Recall: 0.9412, F1 Score: 0.8851\n",
            "Epoch 4 - True Positives: 28563556.0, False Positives: 28166444.0, False Negatives: 21786444.0\n",
            "Epoch 4 - Manually Precision: 0.5035, Recall: 0.5673, F1 Score: 0.5335\n",
            "\u001b[1m30/30\u001b[0m \u001b[32m━━━━━━━━━━━━━━━━━━━━\u001b[0m\u001b[37m\u001b[0m \u001b[1m9s\u001b[0m 316ms/step - accuracy: 0.9361 - f1_score: 0.5047 - loss: 0.1930 - val_accuracy: 0.8770 - val_f1_score: 0.5344 - val_loss: 0.3043\n",
            "Epoch 5/5\n",
            "\u001b[1m313/313\u001b[0m \u001b[32m━━━━━━━━━━━━━━━━━━━━\u001b[0m\u001b[37m\u001b[0m \u001b[1m1s\u001b[0m 2ms/step\n",
            "y_true shape: (10000,), y_pred shape: (10000, 1)\n",
            "Epoch 5 - sklearn Precision: 0.8728, Recall: 0.9021, F1 Score: 0.8872\n",
            "Epoch 5 - True Positives: 26202140.0, False Positives: 25837860.0, False Negatives: 24147860.0\n",
            "Epoch 5 - Manually Precision: 0.5035, Recall: 0.5204, F1 Score: 0.5118\n",
            "\u001b[1m30/30\u001b[0m \u001b[32m━━━━━━━━━━━━━━━━━━━━\u001b[0m\u001b[37m\u001b[0m \u001b[1m8s\u001b[0m 252ms/step - accuracy: 0.9524 - f1_score: 0.4987 - loss: 0.1548 - val_accuracy: 0.8845 - val_f1_score: 0.5127 - val_loss: 0.2888\n"
          ]
        }
      ]
    },
    {
      "cell_type": "markdown",
      "source": [
        "- 역시 TP, FP, FN 값 자체가 이상하다!\n",
        "- shape 을 찍어보면 y_true shape: (10000,), y_pred shape: (10000, 1) 으로 shape 이 다르다!\n",
        "- y_pred 를 reshape 로 shape 을 맞춰준다."
      ],
      "metadata": {
        "id": "D9ZIfUDaeuTc"
      }
    },
    {
      "cell_type": "code",
      "source": [
        "# Define unified callback for both sklearn and manual metric calculations\n",
        "class CombinedMetricsCallback(callbacks.Callback):\n",
        "    def __init__(self, val_data):\n",
        "        super().__init__()\n",
        "        self.val_data = val_data\n",
        "\n",
        "    def on_epoch_end(self, epoch, logs=None):\n",
        "        y_pred = (self.model.predict(self.val_data[0]) > 0.5).astype(int)\n",
        "        y_pred = y_pred.reshape(-1)  # Flatten y_pred to match y_true's shape\n",
        "        y_true = self.val_data[1]\n",
        "        print(f\"y_true shape: {y_true.shape}, y_pred shape: {y_pred.shape}\")\n",
        "        # Sklearn metrics\n",
        "        precision_sklearn = precision_score(y_true, y_pred)\n",
        "        recall_sklearn = recall_score(y_true, y_pred)\n",
        "        f1_sklearn = f1_score(y_true, y_pred)\n",
        "        print(f\"Epoch {epoch + 1} - sklearn Precision: {precision_sklearn:.4f}, Recall: {recall_sklearn:.4f}, F1 Score: {f1_sklearn:.4f}\")\n",
        "\n",
        "        # Manual metrics calculation using TensorFlow for consistency\n",
        "        true_positives = tf.reduce_sum(tf.cast(y_true * y_pred, tf.float32))\n",
        "        false_positives = tf.reduce_sum(tf.cast((1 - y_true) * y_pred, tf.float32))\n",
        "        false_negatives = tf.reduce_sum(tf.cast(y_true * (1 - y_pred), tf.float32))\n",
        "\n",
        "        # Logging true positive, false positive, and false negative counts\n",
        "        print(f\"Epoch {epoch + 1} - True Positives: {true_positives.numpy()}, False Positives: {false_positives.numpy()}, False Negatives: {false_negatives.numpy()}\")\n",
        "\n",
        "        precision_manual = true_positives / (true_positives + false_positives + 1e-7)\n",
        "        recall_manual = true_positives / (true_positives + false_negatives + 1e-7)\n",
        "        f1_manual = 2 * (precision_manual * recall_manual) / (precision_manual + recall_manual + 1e-7)\n",
        "\n",
        "        print(f\"Epoch {epoch + 1} - Manually Precision: {precision_manual.numpy():.4f}, Recall: {recall_manual.numpy():.4f}, F1 Score: {f1_manual.numpy():.4f}\")"
      ],
      "metadata": {
        "id": "FkVRmW5bz6on"
      },
      "execution_count": 21,
      "outputs": []
    },
    {
      "cell_type": "code",
      "source": [
        "# Build the model\n",
        "model = models.Sequential([\n",
        "    layers.Input(shape=(10000,)),\n",
        "    layers.Dense(16, activation=\"relu\"),\n",
        "    layers.Dense(16, activation=\"relu\"),\n",
        "    layers.Dense(1, activation=\"sigmoid\")\n",
        "])\n",
        "\n",
        "# Compile the model with custom metric\n",
        "model.compile(optimizer=\"rmsprop\",\n",
        "              loss=\"binary_crossentropy\",\n",
        "              metrics=[\"accuracy\", MyMetric()])\n",
        "\n",
        "# Train the model with the combined callback\n",
        "combined_metrics_callback = CombinedMetricsCallback((val_data, val_labels))\n",
        "history = model.fit(train_data, train_labels,\n",
        "                    epochs=5, batch_size=512,\n",
        "                    validation_data=(val_data, val_labels),\n",
        "                    callbacks=[combined_metrics_callback])"
      ],
      "metadata": {
        "colab": {
          "base_uri": "https://localhost:8080/"
        },
        "id": "B753AGXaz7D9",
        "outputId": "6e087641-28c4-46da-b95a-515290cba181"
      },
      "execution_count": 22,
      "outputs": [
        {
          "output_type": "stream",
          "name": "stdout",
          "text": [
            "Epoch 1/5\n",
            "\u001b[1m313/313\u001b[0m \u001b[32m━━━━━━━━━━━━━━━━━━━━\u001b[0m\u001b[37m\u001b[0m \u001b[1m1s\u001b[0m 3ms/step\n",
            "y_true shape: (10000,), y_pred shape: (10000,)\n",
            "Epoch 1 - sklearn Precision: 0.8351, Recall: 0.8941, F1 Score: 0.8636\n",
            "Epoch 1 - True Positives: 4502.0, False Positives: 889.0, False Negatives: 533.0\n",
            "Epoch 1 - Manually Precision: 0.8351, Recall: 0.8941, F1 Score: 0.8636\n",
            "\u001b[1m30/30\u001b[0m \u001b[32m━━━━━━━━━━━━━━━━━━━━\u001b[0m\u001b[37m\u001b[0m \u001b[1m6s\u001b[0m 149ms/step - accuracy: 0.6936 - f1_score: 0.3915 - loss: 0.6145 - val_accuracy: 0.8578 - val_f1_score: 0.5217 - val_loss: 0.4283\n",
            "Epoch 2/5\n",
            "\u001b[1m313/313\u001b[0m \u001b[32m━━━━━━━━━━━━━━━━━━━━\u001b[0m\u001b[37m\u001b[0m \u001b[1m1s\u001b[0m 2ms/step\n",
            "y_true shape: (10000,), y_pred shape: (10000,)\n",
            "Epoch 2 - sklearn Precision: 0.8516, Recall: 0.9140, F1 Score: 0.8817\n",
            "Epoch 2 - True Positives: 4602.0, False Positives: 802.0, False Negatives: 433.0\n",
            "Epoch 2 - Manually Precision: 0.8516, Recall: 0.9140, F1 Score: 0.8817\n",
            "\u001b[1m30/30\u001b[0m \u001b[32m━━━━━━━━━━━━━━━━━━━━\u001b[0m\u001b[37m\u001b[0m \u001b[1m4s\u001b[0m 123ms/step - accuracy: 0.8853 - f1_score: 0.4973 - loss: 0.3705 - val_accuracy: 0.8765 - val_f1_score: 0.5224 - val_loss: 0.3325\n",
            "Epoch 3/5\n",
            "\u001b[1m313/313\u001b[0m \u001b[32m━━━━━━━━━━━━━━━━━━━━\u001b[0m\u001b[37m\u001b[0m \u001b[1m1s\u001b[0m 2ms/step\n",
            "y_true shape: (10000,), y_pred shape: (10000,)\n",
            "Epoch 3 - sklearn Precision: 0.8968, Recall: 0.8574, F1 Score: 0.8766\n",
            "Epoch 3 - True Positives: 4317.0, False Positives: 497.0, False Negatives: 718.0\n",
            "Epoch 3 - Manually Precision: 0.8968, Recall: 0.8574, F1 Score: 0.8766\n",
            "\u001b[1m30/30\u001b[0m \u001b[32m━━━━━━━━━━━━━━━━━━━━\u001b[0m\u001b[37m\u001b[0m \u001b[1m4s\u001b[0m 102ms/step - accuracy: 0.9165 - f1_score: 0.5072 - loss: 0.2656 - val_accuracy: 0.8785 - val_f1_score: 0.4933 - val_loss: 0.3012\n",
            "Epoch 4/5\n",
            "\u001b[1m313/313\u001b[0m \u001b[32m━━━━━━━━━━━━━━━━━━━━\u001b[0m\u001b[37m\u001b[0m \u001b[1m1s\u001b[0m 2ms/step\n",
            "y_true shape: (10000,), y_pred shape: (10000,)\n",
            "Epoch 4 - sklearn Precision: 0.8791, Recall: 0.8926, F1 Score: 0.8858\n",
            "Epoch 4 - True Positives: 4494.0, False Positives: 618.0, False Negatives: 541.0\n",
            "Epoch 4 - Manually Precision: 0.8791, Recall: 0.8926, F1 Score: 0.8858\n",
            "\u001b[1m30/30\u001b[0m \u001b[32m━━━━━━━━━━━━━━━━━━━━\u001b[0m\u001b[37m\u001b[0m \u001b[1m3s\u001b[0m 101ms/step - accuracy: 0.9351 - f1_score: 0.5019 - loss: 0.2146 - val_accuracy: 0.8841 - val_f1_score: 0.5083 - val_loss: 0.2842\n",
            "Epoch 5/5\n",
            "\u001b[1m313/313\u001b[0m \u001b[32m━━━━━━━━━━━━━━━━━━━━\u001b[0m\u001b[37m\u001b[0m \u001b[1m1s\u001b[0m 3ms/step\n",
            "y_true shape: (10000,), y_pred shape: (10000,)\n",
            "Epoch 5 - sklearn Precision: 0.8474, Recall: 0.9319, F1 Score: 0.8876\n",
            "Epoch 5 - True Positives: 4692.0, False Positives: 845.0, False Negatives: 343.0\n",
            "Epoch 5 - Manually Precision: 0.8474, Recall: 0.9319, F1 Score: 0.8876\n",
            "\u001b[1m30/30\u001b[0m \u001b[32m━━━━━━━━━━━━━━━━━━━━\u001b[0m\u001b[37m\u001b[0m \u001b[1m5s\u001b[0m 101ms/step - accuracy: 0.9435 - f1_score: 0.5013 - loss: 0.1747 - val_accuracy: 0.8812 - val_f1_score: 0.5283 - val_loss: 0.2980\n"
          ]
        }
      ]
    },
    {
      "cell_type": "markdown",
      "source": [
        "- shape 을 맞추니 드디어 동일한 계산값이 나왔다!!\n",
        "- Sklearn F1 Score 는 자체적으로 confusion_matrix 계산전에 shape 을 맞추어서 계산 하도록 구현 되어 있는 걸로 추정 된다.\n",
        "- manual_confusion_matrix 로 함수를 만들어 재사용 가능 하도록 수정 하였다.\n",
        "- y_true와 y_pred를 F1 Score 계산을 위해 모두 tf.float32로 변환하고, 차원을 맞추기 위해 tf.reshape()를 사용한다."
      ],
      "metadata": {
        "id": "igy3Y-TIz7l3"
      }
    },
    {
      "cell_type": "code",
      "source": [
        "# Function to calculate confusion matrix manually\n",
        "def manual_confusion_matrix(y_true, y_pred):\n",
        "    # Ensure y_true and y_pred are integers and of the same shape\n",
        "    y_true = tf.cast(tf.reshape(y_true, [-1]), tf.float32)\n",
        "    y_pred = tf.cast(tf.reshape(y_pred, [-1]), tf.float32)\n",
        "\n",
        "    true_positives = tf.reduce_sum(y_true * y_pred)\n",
        "    false_positives = tf.reduce_sum((1 - y_true) * y_pred)\n",
        "    true_negatives = tf.reduce_sum((1 - y_true) * (1 - y_pred))\n",
        "    false_negatives = tf.reduce_sum(y_true * (1 - y_pred))\n",
        "    return true_negatives, false_positives, false_negatives, true_positives"
      ],
      "metadata": {
        "id": "R_WatbrtxJzC"
      },
      "execution_count": 23,
      "outputs": []
    },
    {
      "cell_type": "code",
      "source": [
        "# Define unified callback for both sklearn and manual metric calculations\n",
        "class CombinedMetricsCallback(callbacks.Callback):\n",
        "    def __init__(self, val_data):\n",
        "        super().__init__()\n",
        "        self.val_data = val_data\n",
        "\n",
        "    def on_epoch_end(self, epoch, logs=None):\n",
        "        y_pred = (self.model.predict(self.val_data[0]) > 0.5).astype(int)\n",
        "        y_true = self.val_data[1]\n",
        "\n",
        "        # Sklearn metrics\n",
        "        precision_sklearn = precision_score(y_true, y_pred)\n",
        "        recall_sklearn = recall_score(y_true, y_pred)\n",
        "        f1_sklearn = f1_score(y_true, y_pred)\n",
        "        print(f\"Epoch {epoch + 1} - sklearn Precision: {precision_sklearn:.4f}, Recall: {recall_sklearn:.4f}, F1 Score: {f1_sklearn:.4f}\")\n",
        "\n",
        "        # Manual metrics calculation using manual_confusion_matrix\n",
        "        tn, fp, fn, tp = manual_confusion_matrix(y_true, y_pred)\n",
        "\n",
        "        # Logging true positive, false positive, and false negative counts\n",
        "        print(f\"Epoch {epoch + 1} - True Positives: {tp.numpy()}, False Positives: {fp.numpy()}, False Negatives: {fn.numpy()}\")\n",
        "\n",
        "        precision_manual = tp / (tp + fp + 1e-7)\n",
        "        recall_manual = tp / (tp + fn + 1e-7)\n",
        "        f1_manual = 2 * (precision_manual * recall_manual) / (precision_manual + recall_manual + 1e-7)\n",
        "\n",
        "        print(f\"Epoch {epoch + 1} - Manually Precision: {precision_manual.numpy():.4f}, Recall: {recall_manual.numpy():.4f}, F1 Score: {f1_manual.numpy():.4f}\")\n"
      ],
      "metadata": {
        "id": "BWcFI_P_eukw"
      },
      "execution_count": 24,
      "outputs": []
    },
    {
      "cell_type": "code",
      "source": [
        "# Build the model\n",
        "model = models.Sequential([\n",
        "    layers.Input(shape=(10000,)),\n",
        "    layers.Dense(16, activation=\"relu\"),\n",
        "    layers.Dense(16, activation=\"relu\"),\n",
        "    layers.Dense(1, activation=\"sigmoid\")\n",
        "])\n",
        "\n",
        "# Compile the model with custom metric\n",
        "model.compile(optimizer=\"rmsprop\",\n",
        "              loss=\"binary_crossentropy\",\n",
        "              metrics=[\"accuracy\", MyMetric()])\n",
        "\n",
        "# Train the model with the combined callback\n",
        "combined_metrics_callback = CombinedMetricsCallback((val_data, val_labels))\n",
        "history = model.fit(train_data, train_labels,\n",
        "                    epochs=5, batch_size=512,\n",
        "                    validation_data=(val_data, val_labels),\n",
        "                    callbacks=[combined_metrics_callback])"
      ],
      "metadata": {
        "colab": {
          "base_uri": "https://localhost:8080/"
        },
        "id": "m_SQ8F82eu1K",
        "outputId": "ab14f239-20c9-4984-980b-a56a593ec563"
      },
      "execution_count": 25,
      "outputs": [
        {
          "output_type": "stream",
          "name": "stdout",
          "text": [
            "Epoch 1/5\n",
            "\u001b[1m313/313\u001b[0m \u001b[32m━━━━━━━━━━━━━━━━━━━━\u001b[0m\u001b[37m\u001b[0m \u001b[1m1s\u001b[0m 2ms/step\n",
            "Epoch 1 - sklearn Precision: 0.8137, Recall: 0.9239, F1 Score: 0.8653\n",
            "Epoch 1 - True Positives: 4652.0, False Positives: 1065.0, False Negatives: 383.0\n",
            "Epoch 1 - Manually Precision: 0.8137, Recall: 0.9239, F1 Score: 0.8653\n",
            "\u001b[1m30/30\u001b[0m \u001b[32m━━━━━━━━━━━━━━━━━━━━\u001b[0m\u001b[37m\u001b[0m \u001b[1m4s\u001b[0m 109ms/step - accuracy: 0.6948 - f1_score: 0.5727 - loss: 0.6004 - val_accuracy: 0.8552 - val_f1_score: 0.5363 - val_loss: 0.4058\n",
            "Epoch 2/5\n",
            "\u001b[1m313/313\u001b[0m \u001b[32m━━━━━━━━━━━━━━━━━━━━\u001b[0m\u001b[37m\u001b[0m \u001b[1m1s\u001b[0m 2ms/step\n",
            "Epoch 2 - sklearn Precision: 0.8135, Recall: 0.9496, F1 Score: 0.8763\n",
            "Epoch 2 - True Positives: 4781.0, False Positives: 1096.0, False Negatives: 254.0\n",
            "Epoch 2 - Manually Precision: 0.8135, Recall: 0.9496, F1 Score: 0.8763\n",
            "\u001b[1m30/30\u001b[0m \u001b[32m━━━━━━━━━━━━━━━━━━━━\u001b[0m\u001b[37m\u001b[0m \u001b[1m2s\u001b[0m 79ms/step - accuracy: 0.8906 - f1_score: 0.4940 - loss: 0.3421 - val_accuracy: 0.8650 - val_f1_score: 0.5433 - val_loss: 0.3373\n",
            "Epoch 3/5\n",
            "\u001b[1m313/313\u001b[0m \u001b[32m━━━━━━━━━━━━━━━━━━━━\u001b[0m\u001b[37m\u001b[0m \u001b[1m1s\u001b[0m 2ms/step\n",
            "Epoch 3 - sklearn Precision: 0.8329, Recall: 0.9422, F1 Score: 0.8842\n",
            "Epoch 3 - True Positives: 4744.0, False Positives: 952.0, False Negatives: 291.0\n",
            "Epoch 3 - Manually Precision: 0.8329, Recall: 0.9422, F1 Score: 0.8842\n",
            "\u001b[1m30/30\u001b[0m \u001b[32m━━━━━━━━━━━━━━━━━━━━\u001b[0m\u001b[37m\u001b[0m \u001b[1m3s\u001b[0m 94ms/step - accuracy: 0.9200 - f1_score: 0.5027 - loss: 0.2477 - val_accuracy: 0.8757 - val_f1_score: 0.5354 - val_loss: 0.3057\n",
            "Epoch 4/5\n",
            "\u001b[1m313/313\u001b[0m \u001b[32m━━━━━━━━━━━━━━━━━━━━\u001b[0m\u001b[37m\u001b[0m \u001b[1m1s\u001b[0m 2ms/step\n",
            "Epoch 4 - sklearn Precision: 0.8991, Recall: 0.8600, F1 Score: 0.8791\n",
            "Epoch 4 - True Positives: 4330.0, False Positives: 486.0, False Negatives: 705.0\n",
            "Epoch 4 - Manually Precision: 0.8991, Recall: 0.8600, F1 Score: 0.8791\n",
            "\u001b[1m30/30\u001b[0m \u001b[32m━━━━━━━━━━━━━━━━━━━━\u001b[0m\u001b[37m\u001b[0m \u001b[1m6s\u001b[0m 116ms/step - accuracy: 0.9430 - f1_score: 0.4984 - loss: 0.1878 - val_accuracy: 0.8809 - val_f1_score: 0.4933 - val_loss: 0.2905\n",
            "Epoch 5/5\n",
            "\u001b[1m313/313\u001b[0m \u001b[32m━━━━━━━━━━━━━━━━━━━━\u001b[0m\u001b[37m\u001b[0m \u001b[1m1s\u001b[0m 2ms/step\n",
            "Epoch 5 - sklearn Precision: 0.8443, Recall: 0.9285, F1 Score: 0.8844\n",
            "Epoch 5 - True Positives: 4675.0, False Positives: 862.0, False Negatives: 360.0\n",
            "Epoch 5 - Manually Precision: 0.8443, Recall: 0.9285, F1 Score: 0.8844\n",
            "\u001b[1m30/30\u001b[0m \u001b[32m━━━━━━━━━━━━━━━━━━━━\u001b[0m\u001b[37m\u001b[0m \u001b[1m3s\u001b[0m 87ms/step - accuracy: 0.9515 - f1_score: 0.4975 - loss: 0.1572 - val_accuracy: 0.8778 - val_f1_score: 0.5282 - val_loss: 0.3046\n"
          ]
        }
      ]
    },
    {
      "cell_type": "markdown",
      "source": [
        "- CombinedMetricsCallback 는 정상적으로 수정이 되었다.\n",
        "- 마지막으로 사용자 정의 지표로 만든 MyMetric 을 수정 한다."
      ],
      "metadata": {
        "id": "HqQ8TaZ0evC0"
      }
    },
    {
      "cell_type": "code",
      "source": [
        "class MyMetric(tf.keras.metrics.Metric):\n",
        "    def __init__(self, name=\"f1_score\", **kwargs):\n",
        "        \"\"\"\n",
        "        F1 Score를 계산하는 사용자 정의 Metric 클래스.\n",
        "        - F1 Score는 Precision과 Recall의 조화 평균으로 정의 됨\n",
        "        - Metric 클래스 초기화 시 True Positives, False Positives, False Negatives를 초기화\n",
        "\n",
        "        Args:\n",
        "        - name (str): Metric 이름 (기본값은 \"f1_score\").\n",
        "        - **kwargs: 기타 Metric 관련 인자.\n",
        "        \"\"\"\n",
        "        super().__init__(name=name, **kwargs)\n",
        "        # True Positives, False Positives, False Negatives를 저장하는 상태 변수 생성\n",
        "        self.true_positives = self.add_weight(name=\"tp\", initializer=\"zeros\")\n",
        "        self.false_positives = self.add_weight(name=\"fp\", initializer=\"zeros\")\n",
        "        self.false_negatives = self.add_weight(name=\"fn\", initializer=\"zeros\")\n",
        "\n",
        "    def update_state(self, y_true, y_pred, sample_weight=None):\n",
        "        \"\"\"\n",
        "        매 배치(batch)에서 True Positives, False Positives, False Negatives를 업데이트\n",
        "\n",
        "        Args:\n",
        "        - y_true: 실제 라벨 (0 또는 1).\n",
        "        - y_pred: 모델의 예측값 (0 또는 1).\n",
        "        - sample_weight: 각 샘플에 가중치를 줄 때 사용하는 선택적 인자.\n",
        "        \"\"\"\n",
        "        # y_true와 y_pred를 float32로 변환\n",
        "        threshold = 0.5  # 최적의 값으로 설정\n",
        "        # Flatten y_pred to match y_true's shape\n",
        "        y_pred = tf.cast(tf.reshape(y_pred, [-1]) > threshold, tf.int32)\n",
        "        y_true = tf.cast(tf.reshape(y_true, [-1]), tf.int32)\n",
        "\n",
        "        # True Positives: y_true와 y_pred가 모두 1인 경우\n",
        "        self.true_positives.assign_add(tf.reduce_sum(y_true * y_pred))\n",
        "\n",
        "        # False Positives: y_true가 0이고 y_pred가 1인 경우\n",
        "        self.false_positives.assign_add(tf.reduce_sum((1 - y_true) * y_pred))\n",
        "\n",
        "        # False Negatives: y_true가 1이고 y_pred가 0인 경우\n",
        "        self.false_negatives.assign_add(tf.reduce_sum(y_true * (1 - y_pred)))\n",
        "\n",
        "    def result(self):\n",
        "        \"\"\"\n",
        "        F1 Score 계산:\n",
        "        - Precision = True Positives / (True Positives + False Positives)\n",
        "        - Recall = True Positives / (True Positives + False Negatives)\n",
        "        - F1 Score = 2 * (Precision * Recall) / (Precision + Recall)\n",
        "\n",
        "        Returns:\n",
        "        - F1 Score 값.\n",
        "        \"\"\"\n",
        "        # Precision 계산 (양성 예측 중 실제 양성의 비율)\n",
        "        precision = self.true_positives / (self.true_positives + self.false_positives + 1e-7)\n",
        "\n",
        "        # Recall 계산 (실제 양성 중 올바르게 예측된 비율)\n",
        "        recall = self.true_positives / (self.true_positives + self.false_negatives + 1e-7)\n",
        "\n",
        "        # F1 Score 계산 (Precision과 Recall의 조화 평균)\n",
        "        return 2 * ((precision * recall) / (precision + recall + 1e-7))\n",
        "\n",
        "    def reset_states(self):\n",
        "        \"\"\"\n",
        "        Metric 상태를 초기화합니다. (에폭 시작 시 호출됨)\n",
        "        - True Positives, False Positives, False Negatives 값을 0으로 초기화.\n",
        "        \"\"\"\n",
        "        self.true_positives.assign(0)\n",
        "        self.false_positives.assign(0)\n",
        "        self.false_negatives.assign(0)"
      ],
      "metadata": {
        "id": "X3JxPpBzevPj"
      },
      "execution_count": 31,
      "outputs": []
    },
    {
      "cell_type": "code",
      "source": [
        "# Build the model\n",
        "model = models.Sequential([\n",
        "    layers.Input(shape=(10000,)),\n",
        "    layers.Dense(16, activation=\"relu\"),\n",
        "    layers.Dense(16, activation=\"relu\"),\n",
        "    layers.Dense(1, activation=\"sigmoid\")\n",
        "])\n",
        "\n",
        "# Compile the model with custom metric\n",
        "model.compile(optimizer=\"rmsprop\",\n",
        "              loss=\"binary_crossentropy\",\n",
        "              metrics=[\"accuracy\", MyMetric()])\n",
        "\n",
        "# Train the model with the combined callback\n",
        "combined_metrics_callback = CombinedMetricsCallback((val_data, val_labels))\n",
        "history = model.fit(train_data, train_labels,\n",
        "                    epochs=20, batch_size=512,\n",
        "                    validation_data=(val_data, val_labels),\n",
        "                    callbacks=[combined_metrics_callback])\n",
        "\n",
        "# Sklearn test_data F1 Score 계산\n",
        "y_pred = model.predict(test_data)\n",
        "y_true = test_labels\n",
        "\n",
        "f1_sklearn = f1_score(y_true, (y_pred > 0.5).astype(int))\n",
        "print(f\"Sklearn F1 Score: {f1_sklearn}\")"
      ],
      "metadata": {
        "colab": {
          "base_uri": "https://localhost:8080/"
        },
        "id": "kkS04rmtevas",
        "outputId": "ea009116-7208-4095-f8ba-1f9f1a2fb2b8"
      },
      "execution_count": 32,
      "outputs": [
        {
          "output_type": "stream",
          "name": "stdout",
          "text": [
            "Epoch 1/20\n",
            "\u001b[1m313/313\u001b[0m \u001b[32m━━━━━━━━━━━━━━━━━━━━\u001b[0m\u001b[37m\u001b[0m \u001b[1m1s\u001b[0m 2ms/step\n",
            "Epoch 1 - sklearn Precision: 0.8120, Recall: 0.9190, F1 Score: 0.8622\n",
            "Epoch 1 - True Positives: 4627.0, False Positives: 1071.0, False Negatives: 408.0\n",
            "Epoch 1 - Manually Precision: 0.8120, Recall: 0.9190, F1 Score: 0.8622\n",
            "\u001b[1m30/30\u001b[0m \u001b[32m━━━━━━━━━━━━━━━━━━━━\u001b[0m\u001b[37m\u001b[0m \u001b[1m4s\u001b[0m 111ms/step - accuracy: 0.6547 - f1_score: 0.5246 - loss: 0.6229 - val_accuracy: 0.8521 - val_f1_score: 0.8622 - val_loss: 0.4284\n",
            "Epoch 2/20\n",
            "\u001b[1m313/313\u001b[0m \u001b[32m━━━━━━━━━━━━━━━━━━━━\u001b[0m\u001b[37m\u001b[0m \u001b[1m1s\u001b[0m 2ms/step\n",
            "Epoch 2 - sklearn Precision: 0.9304, Recall: 0.7748, F1 Score: 0.8455\n",
            "Epoch 2 - True Positives: 3901.0, False Positives: 292.0, False Negatives: 1134.0\n",
            "Epoch 2 - Manually Precision: 0.9304, Recall: 0.7748, F1 Score: 0.8455\n",
            "\u001b[1m30/30\u001b[0m \u001b[32m━━━━━━━━━━━━━━━━━━━━\u001b[0m\u001b[37m\u001b[0m \u001b[1m3s\u001b[0m 89ms/step - accuracy: 0.8819 - f1_score: 0.8830 - loss: 0.3653 - val_accuracy: 0.8574 - val_f1_score: 0.8455 - val_loss: 0.3531\n",
            "Epoch 3/20\n",
            "\u001b[1m313/313\u001b[0m \u001b[32m━━━━━━━━━━━━━━━━━━━━\u001b[0m\u001b[37m\u001b[0m \u001b[1m1s\u001b[0m 2ms/step\n",
            "Epoch 3 - sklearn Precision: 0.8966, Recall: 0.8649, F1 Score: 0.8805\n",
            "Epoch 3 - True Positives: 4355.0, False Positives: 502.0, False Negatives: 680.0\n",
            "Epoch 3 - Manually Precision: 0.8966, Recall: 0.8649, F1 Score: 0.8805\n",
            "\u001b[1m30/30\u001b[0m \u001b[32m━━━━━━━━━━━━━━━━━━━━\u001b[0m\u001b[37m\u001b[0m \u001b[1m5s\u001b[0m 79ms/step - accuracy: 0.9196 - f1_score: 0.9204 - loss: 0.2543 - val_accuracy: 0.8818 - val_f1_score: 0.8805 - val_loss: 0.2954\n",
            "Epoch 4/20\n",
            "\u001b[1m313/313\u001b[0m \u001b[32m━━━━━━━━━━━━━━━━━━━━\u001b[0m\u001b[37m\u001b[0m \u001b[1m1s\u001b[0m 2ms/step\n",
            "Epoch 4 - sklearn Precision: 0.8404, Recall: 0.9380, F1 Score: 0.8865\n",
            "Epoch 4 - True Positives: 4723.0, False Positives: 897.0, False Negatives: 312.0\n",
            "Epoch 4 - Manually Precision: 0.8404, Recall: 0.9380, F1 Score: 0.8865\n",
            "\u001b[1m30/30\u001b[0m \u001b[32m━━━━━━━━━━━━━━━━━━━━\u001b[0m\u001b[37m\u001b[0m \u001b[1m3s\u001b[0m 101ms/step - accuracy: 0.9377 - f1_score: 0.9376 - loss: 0.1972 - val_accuracy: 0.8791 - val_f1_score: 0.8865 - val_loss: 0.3007\n",
            "Epoch 5/20\n",
            "\u001b[1m313/313\u001b[0m \u001b[32m━━━━━━━━━━━━━━━━━━━━\u001b[0m\u001b[37m\u001b[0m \u001b[1m1s\u001b[0m 2ms/step\n",
            "Epoch 5 - sklearn Precision: 0.8481, Recall: 0.9281, F1 Score: 0.8863\n",
            "Epoch 5 - True Positives: 4673.0, False Positives: 837.0, False Negatives: 362.0\n",
            "Epoch 5 - Manually Precision: 0.8481, Recall: 0.9281, F1 Score: 0.8863\n",
            "\u001b[1m30/30\u001b[0m \u001b[32m━━━━━━━━━━━━━━━━━━━━\u001b[0m\u001b[37m\u001b[0m \u001b[1m2s\u001b[0m 81ms/step - accuracy: 0.9517 - f1_score: 0.9512 - loss: 0.1638 - val_accuracy: 0.8801 - val_f1_score: 0.8863 - val_loss: 0.2971\n",
            "Epoch 6/20\n",
            "\u001b[1m313/313\u001b[0m \u001b[32m━━━━━━━━━━━━━━━━━━━━\u001b[0m\u001b[37m\u001b[0m \u001b[1m1s\u001b[0m 2ms/step\n",
            "Epoch 6 - sklearn Precision: 0.8491, Recall: 0.9198, F1 Score: 0.8830\n",
            "Epoch 6 - True Positives: 4631.0, False Positives: 823.0, False Negatives: 404.0\n",
            "Epoch 6 - Manually Precision: 0.8491, Recall: 0.9198, F1 Score: 0.8830\n",
            "\u001b[1m30/30\u001b[0m \u001b[32m━━━━━━━━━━━━━━━━━━━━\u001b[0m\u001b[37m\u001b[0m \u001b[1m3s\u001b[0m 104ms/step - accuracy: 0.9580 - f1_score: 0.9581 - loss: 0.1417 - val_accuracy: 0.8773 - val_f1_score: 0.8830 - val_loss: 0.3030\n",
            "Epoch 7/20\n",
            "\u001b[1m313/313\u001b[0m \u001b[32m━━━━━━━━━━━━━━━━━━━━\u001b[0m\u001b[37m\u001b[0m \u001b[1m1s\u001b[0m 2ms/step\n",
            "Epoch 7 - sklearn Precision: 0.9190, Recall: 0.7950, F1 Score: 0.8525\n",
            "Epoch 7 - True Positives: 4003.0, False Positives: 353.0, False Negatives: 1032.0\n",
            "Epoch 7 - Manually Precision: 0.9190, Recall: 0.7950, F1 Score: 0.8525\n",
            "\u001b[1m30/30\u001b[0m \u001b[32m━━━━━━━━━━━━━━━━━━━━\u001b[0m\u001b[37m\u001b[0m \u001b[1m3s\u001b[0m 106ms/step - accuracy: 0.9640 - f1_score: 0.9642 - loss: 0.1187 - val_accuracy: 0.8615 - val_f1_score: 0.8525 - val_loss: 0.3587\n",
            "Epoch 8/20\n",
            "\u001b[1m313/313\u001b[0m \u001b[32m━━━━━━━━━━━━━━━━━━━━\u001b[0m\u001b[37m\u001b[0m \u001b[1m1s\u001b[0m 2ms/step\n",
            "Epoch 8 - sklearn Precision: 0.8848, Recall: 0.8693, F1 Score: 0.8770\n",
            "Epoch 8 - True Positives: 4377.0, False Positives: 570.0, False Negatives: 658.0\n",
            "Epoch 8 - Manually Precision: 0.8848, Recall: 0.8693, F1 Score: 0.8770\n",
            "\u001b[1m30/30\u001b[0m \u001b[32m━━━━━━━━━━━━━━━━━━━━\u001b[0m\u001b[37m\u001b[0m \u001b[1m5s\u001b[0m 101ms/step - accuracy: 0.9700 - f1_score: 0.9695 - loss: 0.1032 - val_accuracy: 0.8772 - val_f1_score: 0.8770 - val_loss: 0.3262\n",
            "Epoch 9/20\n",
            "\u001b[1m313/313\u001b[0m \u001b[32m━━━━━━━━━━━━━━━━━━━━\u001b[0m\u001b[37m\u001b[0m \u001b[1m1s\u001b[0m 2ms/step\n",
            "Epoch 9 - sklearn Precision: 0.8560, Recall: 0.9011, F1 Score: 0.8780\n",
            "Epoch 9 - True Positives: 4537.0, False Positives: 763.0, False Negatives: 498.0\n",
            "Epoch 9 - Manually Precision: 0.8560, Recall: 0.9011, F1 Score: 0.8780\n",
            "\u001b[1m30/30\u001b[0m \u001b[32m━━━━━━━━━━━━━━━━━━━━\u001b[0m\u001b[37m\u001b[0m \u001b[1m2s\u001b[0m 78ms/step - accuracy: 0.9774 - f1_score: 0.9775 - loss: 0.0828 - val_accuracy: 0.8739 - val_f1_score: 0.8780 - val_loss: 0.3442\n",
            "Epoch 10/20\n",
            "\u001b[1m313/313\u001b[0m \u001b[32m━━━━━━━━━━━━━━━━━━━━\u001b[0m\u001b[37m\u001b[0m \u001b[1m1s\u001b[0m 2ms/step\n",
            "Epoch 10 - sklearn Precision: 0.8554, Recall: 0.8985, F1 Score: 0.8764\n",
            "Epoch 10 - True Positives: 4524.0, False Positives: 765.0, False Negatives: 511.0\n",
            "Epoch 10 - Manually Precision: 0.8554, Recall: 0.8985, F1 Score: 0.8764\n",
            "\u001b[1m30/30\u001b[0m \u001b[32m━━━━━━━━━━━━━━━━━━━━\u001b[0m\u001b[37m\u001b[0m \u001b[1m3s\u001b[0m 99ms/step - accuracy: 0.9817 - f1_score: 0.9816 - loss: 0.0724 - val_accuracy: 0.8724 - val_f1_score: 0.8764 - val_loss: 0.3655\n",
            "Epoch 11/20\n",
            "\u001b[1m313/313\u001b[0m \u001b[32m━━━━━━━━━━━━━━━━━━━━\u001b[0m\u001b[37m\u001b[0m \u001b[1m1s\u001b[0m 2ms/step\n",
            "Epoch 11 - sklearn Precision: 0.8677, Recall: 0.8779, F1 Score: 0.8727\n",
            "Epoch 11 - True Positives: 4420.0, False Positives: 674.0, False Negatives: 615.0\n",
            "Epoch 11 - Manually Precision: 0.8677, Recall: 0.8779, F1 Score: 0.8727\n",
            "\u001b[1m30/30\u001b[0m \u001b[32m━━━━━━━━━━━━━━━━━━━━\u001b[0m\u001b[37m\u001b[0m \u001b[1m3s\u001b[0m 94ms/step - accuracy: 0.9841 - f1_score: 0.9840 - loss: 0.0622 - val_accuracy: 0.8711 - val_f1_score: 0.8727 - val_loss: 0.3830\n",
            "Epoch 12/20\n",
            "\u001b[1m313/313\u001b[0m \u001b[32m━━━━━━━━━━━━━━━━━━━━\u001b[0m\u001b[37m\u001b[0m \u001b[1m1s\u001b[0m 2ms/step\n",
            "Epoch 12 - sklearn Precision: 0.8572, Recall: 0.8920, F1 Score: 0.8742\n",
            "Epoch 12 - True Positives: 4491.0, False Positives: 748.0, False Negatives: 544.0\n",
            "Epoch 12 - Manually Precision: 0.8572, Recall: 0.8920, F1 Score: 0.8742\n",
            "\u001b[1m30/30\u001b[0m \u001b[32m━━━━━━━━━━━━━━━━━━━━\u001b[0m\u001b[37m\u001b[0m \u001b[1m2s\u001b[0m 79ms/step - accuracy: 0.9853 - f1_score: 0.9852 - loss: 0.0569 - val_accuracy: 0.8708 - val_f1_score: 0.8742 - val_loss: 0.4047\n",
            "Epoch 13/20\n",
            "\u001b[1m313/313\u001b[0m \u001b[32m━━━━━━━━━━━━━━━━━━━━\u001b[0m\u001b[37m\u001b[0m \u001b[1m1s\u001b[0m 2ms/step\n",
            "Epoch 13 - sklearn Precision: 0.8537, Recall: 0.8949, F1 Score: 0.8738\n",
            "Epoch 13 - True Positives: 4506.0, False Positives: 772.0, False Negatives: 529.0\n",
            "Epoch 13 - Manually Precision: 0.8537, Recall: 0.8949, F1 Score: 0.8738\n",
            "\u001b[1m30/30\u001b[0m \u001b[32m━━━━━━━━━━━━━━━━━━━━\u001b[0m\u001b[37m\u001b[0m \u001b[1m2s\u001b[0m 78ms/step - accuracy: 0.9902 - f1_score: 0.9901 - loss: 0.0450 - val_accuracy: 0.8699 - val_f1_score: 0.8738 - val_loss: 0.4288\n",
            "Epoch 14/20\n",
            "\u001b[1m313/313\u001b[0m \u001b[32m━━━━━━━━━━━━━━━━━━━━\u001b[0m\u001b[37m\u001b[0m \u001b[1m1s\u001b[0m 2ms/step\n",
            "Epoch 14 - sklearn Precision: 0.7944, Recall: 0.9434, F1 Score: 0.8625\n",
            "Epoch 14 - True Positives: 4750.0, False Positives: 1229.0, False Negatives: 285.0\n",
            "Epoch 14 - Manually Precision: 0.7944, Recall: 0.9434, F1 Score: 0.8625\n",
            "\u001b[1m30/30\u001b[0m \u001b[32m━━━━━━━━━━━━━━━━━━━━\u001b[0m\u001b[37m\u001b[0m \u001b[1m3s\u001b[0m 79ms/step - accuracy: 0.9924 - f1_score: 0.9924 - loss: 0.0380 - val_accuracy: 0.8486 - val_f1_score: 0.8625 - val_loss: 0.5528\n",
            "Epoch 15/20\n",
            "\u001b[1m313/313\u001b[0m \u001b[32m━━━━━━━━━━━━━━━━━━━━\u001b[0m\u001b[37m\u001b[0m \u001b[1m1s\u001b[0m 3ms/step\n",
            "Epoch 15 - sklearn Precision: 0.8938, Recall: 0.8242, F1 Score: 0.8576\n",
            "Epoch 15 - True Positives: 4150.0, False Positives: 493.0, False Negatives: 885.0\n",
            "Epoch 15 - Manually Precision: 0.8938, Recall: 0.8242, F1 Score: 0.8576\n",
            "\u001b[1m30/30\u001b[0m \u001b[32m━━━━━━━━━━━━━━━━━━━━\u001b[0m\u001b[37m\u001b[0m \u001b[1m3s\u001b[0m 96ms/step - accuracy: 0.9915 - f1_score: 0.9915 - loss: 0.0371 - val_accuracy: 0.8622 - val_f1_score: 0.8576 - val_loss: 0.5138\n",
            "Epoch 16/20\n",
            "\u001b[1m313/313\u001b[0m \u001b[32m━━━━━━━━━━━━━━━━━━━━\u001b[0m\u001b[37m\u001b[0m \u001b[1m1s\u001b[0m 2ms/step\n",
            "Epoch 16 - sklearn Precision: 0.8953, Recall: 0.8189, F1 Score: 0.8554\n",
            "Epoch 16 - True Positives: 4123.0, False Positives: 482.0, False Negatives: 912.0\n",
            "Epoch 16 - Manually Precision: 0.8953, Recall: 0.8189, F1 Score: 0.8554\n",
            "\u001b[1m30/30\u001b[0m \u001b[32m━━━━━━━━━━━━━━━━━━━━\u001b[0m\u001b[37m\u001b[0m \u001b[1m3s\u001b[0m 102ms/step - accuracy: 0.9964 - f1_score: 0.9964 - loss: 0.0272 - val_accuracy: 0.8606 - val_f1_score: 0.8554 - val_loss: 0.5443\n",
            "Epoch 17/20\n",
            "\u001b[1m313/313\u001b[0m \u001b[32m━━━━━━━━━━━━━━━━━━━━\u001b[0m\u001b[37m\u001b[0m \u001b[1m1s\u001b[0m 2ms/step\n",
            "Epoch 17 - sklearn Precision: 0.8829, Recall: 0.8401, F1 Score: 0.8610\n",
            "Epoch 17 - True Positives: 4230.0, False Positives: 561.0, False Negatives: 805.0\n",
            "Epoch 17 - Manually Precision: 0.8829, Recall: 0.8401, F1 Score: 0.8610\n",
            "\u001b[1m30/30\u001b[0m \u001b[32m━━━━━━━━━━━━━━━━━━━━\u001b[0m\u001b[37m\u001b[0m \u001b[1m4s\u001b[0m 78ms/step - accuracy: 0.9976 - f1_score: 0.9976 - loss: 0.0236 - val_accuracy: 0.8634 - val_f1_score: 0.8610 - val_loss: 0.5445\n",
            "Epoch 18/20\n",
            "\u001b[1m313/313\u001b[0m \u001b[32m━━━━━━━━━━━━━━━━━━━━\u001b[0m\u001b[37m\u001b[0m \u001b[1m1s\u001b[0m 2ms/step\n",
            "Epoch 18 - sklearn Precision: 0.8470, Recall: 0.8941, F1 Score: 0.8700\n",
            "Epoch 18 - True Positives: 4502.0, False Positives: 813.0, False Negatives: 533.0\n",
            "Epoch 18 - Manually Precision: 0.8470, Recall: 0.8941, F1 Score: 0.8700\n",
            "\u001b[1m30/30\u001b[0m \u001b[32m━━━━━━━━━━━━━━━━━━━━\u001b[0m\u001b[37m\u001b[0m \u001b[1m3s\u001b[0m 79ms/step - accuracy: 0.9968 - f1_score: 0.9968 - loss: 0.0193 - val_accuracy: 0.8654 - val_f1_score: 0.8700 - val_loss: 0.5501\n",
            "Epoch 19/20\n",
            "\u001b[1m313/313\u001b[0m \u001b[32m━━━━━━━━━━━━━━━━━━━━\u001b[0m\u001b[37m\u001b[0m \u001b[1m1s\u001b[0m 3ms/step\n",
            "Epoch 19 - sklearn Precision: 0.8591, Recall: 0.8755, F1 Score: 0.8672\n",
            "Epoch 19 - True Positives: 4408.0, False Positives: 723.0, False Negatives: 627.0\n",
            "Epoch 19 - Manually Precision: 0.8591, Recall: 0.8755, F1 Score: 0.8672\n",
            "\u001b[1m30/30\u001b[0m \u001b[32m━━━━━━━━━━━━━━━━━━━━\u001b[0m\u001b[37m\u001b[0m \u001b[1m3s\u001b[0m 92ms/step - accuracy: 0.9983 - f1_score: 0.9983 - loss: 0.0147 - val_accuracy: 0.8650 - val_f1_score: 0.8672 - val_loss: 0.5708\n",
            "Epoch 20/20\n",
            "\u001b[1m313/313\u001b[0m \u001b[32m━━━━━━━━━━━━━━━━━━━━\u001b[0m\u001b[37m\u001b[0m \u001b[1m1s\u001b[0m 2ms/step\n",
            "Epoch 20 - sklearn Precision: 0.7982, Recall: 0.9349, F1 Score: 0.8611\n",
            "Epoch 20 - True Positives: 4707.0, False Positives: 1190.0, False Negatives: 328.0\n",
            "Epoch 20 - Manually Precision: 0.7982, Recall: 0.9349, F1 Score: 0.8611\n",
            "\u001b[1m30/30\u001b[0m \u001b[32m━━━━━━━━━━━━━━━━━━━━\u001b[0m\u001b[37m\u001b[0m \u001b[1m3s\u001b[0m 105ms/step - accuracy: 0.9995 - f1_score: 0.9995 - loss: 0.0105 - val_accuracy: 0.8482 - val_f1_score: 0.8611 - val_loss: 0.6977\n",
            "\u001b[1m782/782\u001b[0m \u001b[32m━━━━━━━━━━━━━━━━━━━━\u001b[0m\u001b[37m\u001b[0m \u001b[1m1s\u001b[0m 2ms/step\n",
            "Sklearn F1 Score: 0.8540218470705064\n"
          ]
        }
      ]
    },
    {
      "cell_type": "markdown",
      "source": [
        "## 드디어 val_f1_score 와 sklearn F1 Score 가 동일하게 나온다!!"
      ],
      "metadata": {
        "id": "cl-jbBKh8GHc"
      }
    },
    {
      "cell_type": "code",
      "source": [
        "import matplotlib.pyplot as plt\n",
        "\n",
        "# Plotting the training and validation loss\n",
        "epochs = range(1, len(history.history['loss']) + 1)\n",
        "\n",
        "plt.figure(figsize=(12, 5))\n",
        "\n",
        "# Training and validation loss\n",
        "plt.subplot(1, 2, 1)\n",
        "plt.plot(epochs, history.history['loss'], 'bo-', label='Training Loss')\n",
        "plt.plot(epochs, history.history['val_loss'], 'r^-', label='Validation Loss')\n",
        "plt.title('Training and Validation Loss')\n",
        "plt.xlabel('Epochs')\n",
        "plt.ylabel('Loss')\n",
        "plt.legend()\n",
        "\n",
        "# Accuracy and F1 score\n",
        "plt.subplot(1, 2, 2)\n",
        "plt.plot(epochs, history.history['accuracy'], 'bo-', label='Training Accuracy')\n",
        "plt.plot(epochs, history.history['f1_score'], 'g^-', label='Training F1 Score')\n",
        "plt.plot(epochs, history.history['val_accuracy'], 'r*-', label='Validation Accuracy')\n",
        "plt.plot(epochs, history.history['val_f1_score'], 'y^-', label='Validation F1 Score')\n",
        "plt.title('Training and Validation Metrics')\n",
        "plt.xlabel('Epochs')\n",
        "plt.ylabel('Metrics')\n",
        "plt.legend()\n",
        "\n",
        "plt.tight_layout()\n",
        "plt.show()"
      ],
      "metadata": {
        "colab": {
          "base_uri": "https://localhost:8080/",
          "height": 507
        },
        "id": "s7uv_zqcEwMv",
        "outputId": "61048cd5-141d-47cc-8b6c-6d767161bfd1"
      },
      "execution_count": 34,
      "outputs": [
        {
          "output_type": "display_data",
          "data": {
            "text/plain": [
              "<Figure size 1200x500 with 2 Axes>"
            ],
            "image/png": "[encoded data removed]"
          },
          "metadata": {}
        }
      ]
    },
    {
      "cell_type": "code",
      "source": [
        "# 모델 예측\n",
        "y_pred = model.predict(test_data)  # train_data 대신 테스트 데이터로 변경 가능\n",
        "y_true = test_labels  # 실제 라벨\n",
        "\n",
        "# 다양한 Threshold에 따른 Precision, Recall, F1 Score 계산\n",
        "thresholds = np.linspace(0.1, 0.9, 9)\n",
        "best_threshold = 0\n",
        "best_f1 = 0\n",
        "\n",
        "for threshold in thresholds:\n",
        "    y_pred_binary = (y_pred > threshold).astype(int)  # Threshold를 기준으로 이진화\n",
        "    precision = precision_score(y_true, y_pred_binary)\n",
        "    recall = recall_score(y_true, y_pred_binary)\n",
        "    f1 = f1_score(y_true, y_pred_binary)\n",
        "    print(f\"Threshold: {threshold:.2f}, Precision: {precision:.3f}, Recall: {recall:.3f}, F1 Score: {f1:.3f}\")\n",
        "\n",
        "    # F1 Score가 최대가 되는 Threshold 찾기\n",
        "    if f1 > best_f1:\n",
        "        best_f1 = f1\n",
        "        best_threshold = threshold\n",
        "\n",
        "print(f\"\\nBest Threshold: {best_threshold:.2f}, Best F1 Score: {best_f1:.3f}\")"
      ],
      "metadata": {
        "colab": {
          "base_uri": "https://localhost:8080/"
        },
        "id": "6hjKFT6Bfb57",
        "outputId": "da82acf1-25f9-44e6-a7ea-4d2b5b06efd5"
      },
      "execution_count": 33,
      "outputs": [
        {
          "output_type": "stream",
          "name": "stdout",
          "text": [
            "\u001b[1m782/782\u001b[0m \u001b[32m━━━━━━━━━━━━━━━━━━━━\u001b[0m\u001b[37m\u001b[0m \u001b[1m1s\u001b[0m 2ms/step\n",
            "Threshold: 0.10, Precision: 0.737, Recall: 0.960, F1 Score: 0.833\n",
            "Threshold: 0.20, Precision: 0.756, Recall: 0.950, F1 Score: 0.842\n",
            "Threshold: 0.30, Precision: 0.768, Recall: 0.943, F1 Score: 0.847\n",
            "Threshold: 0.40, Precision: 0.780, Recall: 0.937, F1 Score: 0.851\n",
            "Threshold: 0.50, Precision: 0.790, Recall: 0.929, F1 Score: 0.854\n",
            "Threshold: 0.60, Precision: 0.799, Recall: 0.921, F1 Score: 0.856\n",
            "Threshold: 0.70, Precision: 0.812, Recall: 0.911, F1 Score: 0.859\n",
            "Threshold: 0.80, Precision: 0.825, Recall: 0.897, F1 Score: 0.859\n",
            "Threshold: 0.90, Precision: 0.842, Recall: 0.874, F1 Score: 0.858\n",
            "\n",
            "Best Threshold: 0.80, Best F1 Score: 0.859\n"
          ]
        }
      ]
    },
    {
      "cell_type": "markdown",
      "source": [
        "### 회고\n",
        "\n",
        "F1 Score 가 이상하게 나오는 것을 캐치 하고 수정 하기 위해 엄청 많은 시간이 걸렸다.  \n",
        "사실 이 정도 시간이 걸리는게 아니였는데 아직 TensorFlow 에 익숙하지 않고 특히 shape 을 꼭 확인 해야 되는걸 망각하고 있었다.  \n",
        "아무튼 해결 완료!"
      ],
      "metadata": {
        "id": "EjHdzrn8YX3U"
      }
    },
    {
      "cell_type": "markdown",
      "source": [
        "Precision과 Recall의 트레이드오프:\n",
        "\n",
        "Threshold가 낮을수록 Recall(재현율)이 높아지고, Precision(정밀도)은 낮아짐\n",
        "반대로 Threshold가 높아질수록 Precision은 증가하지만 Recall은 감소\n",
        "\n"
      ],
      "metadata": {
        "id": "eh6HOX1ahJnt"
      }
    }
  ]
}